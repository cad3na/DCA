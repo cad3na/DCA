{
 "metadata": {
  "name": "",
  "signature": "sha256:6d91872b5b77ce44527609cd984c69e042a95ffd11bbe532549b07093c86d40e"
 },
 "nbformat": 3,
 "nbformat_minor": 0,
 "worksheets": [
  {
   "cells": [
    {
     "cell_type": "heading",
     "level": 1,
     "metadata": {},
     "source": [
      "Tarea 5 - Demostraci\u00f3n de la formula de Euler"
     ]
    },
    {
     "cell_type": "markdown",
     "metadata": {},
     "source": [
      "La formula de Euler es:\n",
      "\n",
      "$$\n",
      "e^{ix} = \\cos{x} + i \\sin{x}\n",
      "$$"
     ]
    },
    {
     "cell_type": "heading",
     "level": 1,
     "metadata": {},
     "source": [
      "Tarea 6 - Determinaci\u00f3n de las $D$-particiones del espacio de parametros"
     ]
    },
    {
     "cell_type": "markdown",
     "metadata": {},
     "source": [
      "Dado el sistema:\n",
      "\n",
      "$$\n",
      "\\dot{x}(t) = a x(t) + b x(t - h)\n",
      "$$\n",
      "\n",
      "empezamos por obtener la transformada de Laplace del sistema, lo cual nos dar\u00e1 el siguiente cuasipolinomio caracteristico:\n",
      "\n",
      "$$\n",
      "p(s) = s - a - b e^{-h s} = 0\n",
      "$$\n",
      "\n",
      "Para determinar los puntos en que nuestro polinomio caracterisitico tiene polos en el eje imaginario, es decir las fronteras en que los parametros dejan de definir a un sistema estable  y comienzan a definir un sistema inestable, vamos a sustitur los valores $s = 0$ y $s = j \\omega$, que son los valores que caracterizan al eje imaginario.\n",
      "\n",
      "Empezamos sustituyendo $s = 0$, por lo que obtenemos:\n",
      "\n",
      "$$\n",
      "p(0) = -a - b = 0 \\implies a = -b\n",
      "$$\n",
      "\n",
      "Si ahora sustituimos $s = j \\omega$, tendremos:\n",
      "\n",
      "$$\n",
      "p(j \\omega) = j \\omega - a - b e^{- h j \\omega} = j \\omega - a - b \\left( \\cos{(\\omega h)} -j \\sin{(\\omega h)} \\right) = j \\omega - a - b \\cos{(\\omega h)} + b j \\sin{(\\omega h)}\n",
      "$$\n",
      "\n",
      "de donde podemos separar la parte real de la imaginaria y obtener:\n",
      "\n",
      "$$\n",
      "\\omega + b \\sin{(\\omega h)} = 0\n",
      "$$\n",
      "\n",
      "y\n",
      "\n",
      "$$\n",
      "-a -b \\cos{(\\omega h)} = 0\n",
      "$$\n",
      "\n",
      "Aqui podemos obtener una relaci\u00f3n para $\\sin{(\\omega h)}$ y $\\cos{(\\omega h)}$:\n",
      "\n",
      "$$\n",
      "- \\omega = b \\sin{(\\omega h)} \\implies \\cos{(\\omega h)} = - \\frac{a}{b}\n",
      "$$\n",
      "\n",
      "$$\n",
      "\\omega = - b \\sin{(\\omega h)} \\implies \\sin{(\\omega  h)} = - \\frac{\\omega}{b}\n",
      "$$\n",
      "\n",
      "y sabemos que $\\sin^2{(\\omega h)} + \\cos^2{(\\omega h)} = 1$, por lo que podemos sustituir los valores que obtuvimos y tenemos que:\n",
      "\n",
      "$$\n",
      "\\left( - \\frac{\\omega}{b} \\right)^2 + \\left( - \\frac{a}{b} \\right)^2 = 1 = \\frac{\\omega^2 + a^2}{b^2}\n",
      "$$\n",
      "\n",
      "despejando $\\omega^2$ y sacando raiz cuadrada obtenemos:\n",
      "\n",
      "$$\n",
      "\\omega^2 + a^2 = b^2\n",
      "$$\n",
      "\n",
      "$$\n",
      "\\omega^2 = b^2 - a^2\n",
      "$$\n",
      "\n",
      "$$\n",
      "\\omega = \\sqrt{b^2 - a^2}\n",
      "$$\n",
      "\n",
      "al sustituir en la ecuaci\u00f3n obtenida de la parte real del cuasipolinomio, obtenemos:\n",
      "\n",
      "$$\n",
      "-a -b \\cos{(\\sqrt{b^2 - a^2} h)} = 0\n",
      "$$\n",
      "\n",
      "o bien:\n",
      "\n",
      "$$\n",
      "a + b \\cos{(\\sqrt{b^2 - a^2} h)} = 0\n",
      "$$\n",
      "\n",
      "Esta es la relaci\u00f3n entre $a$ y $b$ que nos dar\u00e1 las curvas de las $D$-particiones del espacio de parametros"
     ]
    },
    {
     "cell_type": "heading",
     "level": 1,
     "metadata": {},
     "source": [
      "Tarea 7 - Gr\u00e1fica de las $D$-particiones del espacio de parametros"
     ]
    },
    {
     "cell_type": "markdown",
     "metadata": {},
     "source": [
      "Si bien las relaciones obtenidas son convenientes para su an\u00e1lisis, el graficarla por medio de software proporciona problemas, ya que sus variables no se pueden separar para obtener una en funci\u00f3n de la otra, por lo que retrocederemos un poco y utilizaremos las relaciones obtenidas de separar las partes real e imaginaria del cuasipolinomio como ecuaciones parametricas para $a$ y $b$.\n",
      "\n",
      "Empezamos obteniendo los valores para $a$ y $b$ en funci\u00f3n de $\\omega$:\n",
      "\n",
      "$$\n",
      "\\omega + b \\sin{(\\omega h)} = 0 \\implies b = - \\frac{\\omega}{\\sin{(\\omega h)}}\n",
      "$$\n",
      "\n",
      "$$\n",
      "- a - b \\cos{(\\omega h)} = 0 \\implies a = - b \\cos{(\\omega h)} = + \\frac{\\omega}{\\sin{(\\omega h)}} \\cos{(\\omega h)} = \\frac{\\omega}{\\tan{(\\omega h)}}\n",
      "$$\n",
      "\n",
      "Por lo que procedemos a capturar estas funciones en el programa, primero importamos las librerias que necesitamos para calcular y graficar:"
     ]
    },
    {
     "cell_type": "code",
     "collapsed": false,
     "input": [
      "# Se importan librerias para graficar, y se define un estilo especifico\n",
      "%matplotlib inline\n",
      "from matplotlib.pyplot import plot, style, figure, legend\n",
      "style.use(\"ggplot\")"
     ],
     "language": "python",
     "metadata": {},
     "outputs": [],
     "prompt_number": 263
    },
    {
     "cell_type": "code",
     "collapsed": false,
     "input": [
      "# Se importan funciones de calculo numerico a utilizar\n",
      "from numpy import linspace, tan, sin, pi"
     ],
     "language": "python",
     "metadata": {},
     "outputs": [],
     "prompt_number": 266
    },
    {
     "cell_type": "markdown",
     "metadata": {},
     "source": [
      "Ahora definimos las funciones que hemos obtenido:"
     ]
    },
    {
     "cell_type": "code",
     "collapsed": false,
     "input": [
      "a  = lambda om, h: -om/sin(om*h)\n",
      "b  = lambda om, h:  om/tan(om*h)\n",
      "f1 = lambda     x: -x"
     ],
     "language": "python",
     "metadata": {},
     "outputs": [],
     "prompt_number": 267
    },
    {
     "cell_type": "markdown",
     "metadata": {},
     "source": [
      "Esta notaci\u00f3n es equivalente a las definiciones matematicas:\n",
      "\n",
      "$$\n",
      "a(\\omega, h) := - \\frac{\\omega}{\\sin{(\\omega h)}}\n",
      "$$\n",
      "\n",
      "$$\n",
      "b(\\omega, h) := \\frac{\\omega}{\\tan{(\\omega h)}}\n",
      "$$\n",
      "\n",
      "$$\n",
      "f_1(x) := -x\n",
      "$$\n",
      "\n",
      "Ahora definimos valores para $\\omega$ y $b$ para ingresar en estas funciones:"
     ]
    },
    {
     "cell_type": "code",
     "collapsed": false,
     "input": [
      "tau = 2*pi\n",
      "w = linspace(-3*tau, 3*tau, 1000)\n",
      "bs = linspace(-15, 15, 100)"
     ],
     "language": "python",
     "metadata": {},
     "outputs": [],
     "prompt_number": 259
    },
    {
     "cell_type": "markdown",
     "metadata": {},
     "source": [
      "Lo que equivale a decir que variaremos $\\omega$ en el intervalo $[-3 \\tau, 3 \\tau] = [-6 \\pi, 6 \\pi]$ y a $b$ en $[-15, 15]$.\n",
      "\n",
      "Ahora graficamos $a$ contra $b$ con las funciones parametricas obtenidas y $x$ contra $f_1(x)$:"
     ]
    },
    {
     "cell_type": "code",
     "collapsed": false,
     "input": [
      "f = figure(figsize = (10, 10))\n",
      "p1, = plot(b(w, 1), a(w, 1), \".\")\n",
      "p2, = plot(bs, f1(bs), \".\")\n",
      "\n",
      "ax = f.gca()\n",
      "ax.set_ylabel(r\"$a(\\omega)$\", fontsize=20)\n",
      "ax.set_xlabel(r\"$b(\\omega)$\", fontsize=20)\n",
      "ax.set_xlim(-15, 15)\n",
      "ax.set_ylim(-15, 15)\n",
      "\n",
      "legend([p1, p2], [r\"$a + b \\cos{(\\sqrt{b^2 - a^2} h)} = 0$\", r\"$a + b = 0$\"]);"
     ],
     "language": "python",
     "metadata": {},
     "outputs": [
      {
       "metadata": {},
       "output_type": "display_data",
       "png": "[encoded data removed]",
       "text": [
        "<matplotlib.figure.Figure at 0x1029df310>"
       ]
      }
     ],
     "prompt_number": 265
    },
    {
     "cell_type": "heading",
     "level": 1,
     "metadata": {},
     "source": [
      "Tarea 8 - Teorema de la funci\u00f3n implicita"
     ]
    },
    {
     "cell_type": "markdown",
     "metadata": {},
     "source": [
      "Puedes acceder a este notebook a traves de la p\u00e1gina\n",
      "\n",
      "http://nbviewer.ipython.org/github/robblack007/DCA/blob/master/IPythonNotebooks/Sistemas%20con%20retardo%20en%20la%20entrada/Tareas%205,%206,%207,%208.ipynb\n",
      "\n",
      "o escaneando el siguiente c\u00f3digo:\n",
      "\n",
      "![Codigo](codigos/codigo5678.jpg)"
     ]
    },
    {
     "cell_type": "code",
     "collapsed": false,
     "input": [
      "# Codigo para generar codigo :)\n",
      "from qrcode import make\n",
      "img = make(\"http://nbviewer.ipython.org/github/robblack007/DCA/blob/master/IPythonNotebooks/Sistemas%20con%20retardo%20en%20la%20entrada/Tareas%205,%206,%207,%208.ipynb\")\n",
      "img.save(\"codigos/codigo5678.jpg\")"
     ],
     "language": "python",
     "metadata": {},
     "outputs": [],
     "prompt_number": 269
    }
   ],
   "metadata": {}
  }
 ]
}