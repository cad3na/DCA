{
 "metadata": {
  "name": "",
  "signature": "sha256:e1b7c4a756329395a86d4d384f31e78100abbd5affaa7b6dcf0f2f6b032b86f6"
 },
 "nbformat": 3,
 "nbformat_minor": 0,
 "worksheets": [
  {
   "cells": [
    {
     "cell_type": "code",
     "collapsed": false,
     "input": [
      "# Se importan librerias para graficar, y se define un estilo especifico\n",
      "%matplotlib inline\n",
      "from matplotlib.pyplot import plot, figure, style\n",
      "style.use(\"ggplot\")"
     ],
     "language": "python",
     "metadata": {},
     "outputs": [],
     "prompt_number": 1
    },
    {
     "cell_type": "heading",
     "level": 1,
     "metadata": {},
     "source": [
      "Tarea 2 - Simulaci\u00f3n de sistema simple con retardos"
     ]
    },
    {
     "cell_type": "markdown",
     "metadata": {},
     "source": [
      "### Problema\n",
      "Dado el sistema:\n",
      "\n",
      "$$\n",
      "\\dot{x} = - 3 x(t) + x(t - 1) + x(t - 2)\n",
      "$$\n",
      "\n",
      "Simular el sistema con las siguientes condiciones iniciales $\\varphi$:\n",
      "\n",
      "1. $\\varphi(t) = 1 \\quad t \\in [-2, 0]$\n",
      "2. $\\varphi(t) = \\sin(t) \\quad t \\in [-2, 0]$\n",
      "3. $\\varphi(t) = \\begin{cases} 1 & t = 0 \\\\ 0 & t \\ne 0 \\end{cases} \\quad t \\in [-2, 0]$"
     ]
    },
    {
     "cell_type": "markdown",
     "metadata": {},
     "source": [
      "### Soluci\u00f3n\n",
      "\n",
      "Para simular y gr\u00e1ficar este sistema, tenemos que definir una funci\u00f3n la cual sea capaz de comportarse como el sistema descrito, esto lo logramos con el c\u00f3digo de MATLAB descrito en el archivo ```f.m```, el cual podemos ver a continuaci\u00f3n:"
     ]
    },
    {
     "cell_type": "code",
     "collapsed": false,
     "input": [
      "cat MATLAB/f.m"
     ],
     "language": "python",
     "metadata": {},
     "outputs": [
      {
       "output_type": "stream",
       "stream": "stdout",
       "text": [
        "function dydt = f(t, y, Z)\r\n",
        "    yret1 = Z(:, 1);\r\n",
        "    yret2 = Z(:, 2);\r\n",
        "    \r\n",
        "    dydt = -3*y + yret1(1) + yret2(1);\r\n",
        "end\r\n"
       ]
      }
     ],
     "prompt_number": 2
    },
    {
     "cell_type": "markdown",
     "metadata": {},
     "source": [
      "Esta funci\u00f3n se puede analizar por lineas, la primer linea\n",
      "\n",
      "```MATLAB\n",
      "function dydt = f(t, y, Z)\n",
      "``` \n",
      "\n",
      "tan solo describe la funci\u00f3n ```f```, con variables de entrada, ```t```, ```y```, ```Z``` y una salida ```dydt```.\n",
      "En esta funci\u00f3n ```t``` es el tiempo para el que queremos calcular el valor de nuestra funci\u00f3n; en especifico para nuestro ejemplo, como nuestro sistema es invariante en el tiempo, no necesitamos incluirla dentro de los calculos, ```y``` es el valor de nuestra variable, el cual ser\u00e1 aproximado por la funci\u00f3n ```dde23``` y ```Z``` es el valor de la variable del sistema, con un retardo aplicado.\n",
      "\n",
      "Las siguientes lineas tan solo guardan los valores de la variable del sistema en variables con un nombre significativo:\n",
      "\n",
      "```MATLAB\n",
      "    yret1 = Z(:, 1);\n",
      "    yret2 = Z(:, 2);\n",
      "```\n",
      "\n",
      "Y la ultima linea calcula el valor de la salida del sistema, para nosostros $\\dot{x}$, \n",
      "\n",
      "```MATLAB\n",
      "    dydt = -3*y + yret1(1) + yret2(1);\n",
      "```\n",
      "\n",
      "Sin embargo, en este punto, nuestro modelo computacional se acerca mas bien a:\n",
      "\n",
      "$$\n",
      "\\dot{x} = -3x(t) + x(t - \\tau_1) + x(t - \\tau_2)\n",
      "$$\n",
      "\n",
      "y los valores de los retrasos $\\tau_1$ y $\\tau_2$ los ingresaremos en la funci\u00f3n ```dde23```.\n",
      "\n",
      "Para poder simular este sistema, ahora tenemos que introducir la funci\u00f3n que define el comportamiento de nuestro sistema, en la funci\u00f3n ```dde23```, lo cual se ver\u00e1 as\u00ed:\n",
      "\n",
      "```MATLAB\n",
      "sol0 = dde23(@f, [1, 2], @phi0, [0, 5])\n",
      "```\n",
      "\n",
      "En donde ```@f```es la sintaxis para pasar como argumento a la funci\u00f3n ```f```, ```[1, 2]``` es el conjunto de los retardos a utilizar, ```@phi0``` es la funci\u00f3n que define a las condiciones iniciales y ```[0, 5]``` es el intervalo de simulaci\u00f3n.\n",
      "\n",
      "Una vez que hemos simulado, la variable ```sol0``` es una estructura que contiene a las variables asociadas a la simulaci\u00f3n, de donde podemos obtener ```x``` y ```y```, las cuales corresponden a $t$ y $x$.\n",
      "\n",
      "Ahora importamos los resultados de la simulaci\u00f3n en MATLAB:"
     ]
    },
    {
     "cell_type": "code",
     "collapsed": false,
     "input": [
      "# Se importa libreria de entrada y salida y se importan datos de simulacion en MATLAB\n",
      "import scipy.io\n",
      "sistemaretardos = scipy.io.loadmat('./MATLAB/sistemaretardos.mat')"
     ],
     "language": "python",
     "metadata": {},
     "outputs": [],
     "prompt_number": 3
    },
    {
     "cell_type": "code",
     "collapsed": false,
     "input": [
      "# Se importan datos de simulaci\u00f3n a variables de Python para poder manipularlas\n",
      "x0 = sistemaretardos.get(\"x0\")\n",
      "x1 = sistemaretardos.get(\"x1\")\n",
      "x2 = sistemaretardos.get(\"x2\")\n",
      "y0 = sistemaretardos.get(\"y0\")\n",
      "y1 = sistemaretardos.get(\"y1\")\n",
      "y2 = sistemaretardos.get(\"y2\")"
     ],
     "language": "python",
     "metadata": {},
     "outputs": [],
     "prompt_number": 4
    },
    {
     "cell_type": "markdown",
     "metadata": {},
     "source": [
      "Pero aun no hemos hablado de las funciones $\\phi$, las cuales deben ser definidas de la misma manera que la funci\u00f3n que nos da el comportamiento del sistema, por lo que para la primer condici\u00f3n inicial:\n",
      "\n",
      "$$\n",
      "\\varphi(t) = 1 \\quad t \\in [-2, 0]\n",
      "$$\n",
      "\n",
      "nos quedar\u00e1:"
     ]
    },
    {
     "cell_type": "code",
     "collapsed": false,
     "input": [
      "cat MATLAB/phi0.m"
     ],
     "language": "python",
     "metadata": {},
     "outputs": [
      {
       "output_type": "stream",
       "stream": "stdout",
       "text": [
        "function y = phi0(t)\r\n",
        "    y = 1;\r\n",
        "end"
       ]
      }
     ],
     "prompt_number": 5
    },
    {
     "cell_type": "markdown",
     "metadata": {},
     "source": [
      "y por lo tanto, para esta condici\u00f3n inicial, el comportamiento del sistema nos queda:"
     ]
    },
    {
     "cell_type": "code",
     "collapsed": false,
     "input": [
      "f = figure(figsize=(11, 7))\n",
      "plot(x0[0], y0[0])\n",
      "\n",
      "ax = f.gca()\n",
      "ax.set_xlabel(r'$t$', fontsize=20)\n",
      "ax.set_ylabel(r'$x$', fontsize=20);"
     ],
     "language": "python",
     "metadata": {},
     "outputs": [
      {
       "metadata": {},
       "output_type": "display_data",
       "png": "[encoded data removed]",
       "text": [
        "<matplotlib.figure.Figure at 0x106cb44d0>"
       ]
      }
     ],
     "prompt_number": 6
    },
    {
     "cell_type": "markdown",
     "metadata": {},
     "source": [
      "De la misma manera, para la segunda condici\u00f3n inicial:\n",
      "\n",
      "$$\n",
      "\\varphi(t) = \\sin(t) \\quad t \\in [-2, 0]\n",
      "$$\n",
      "\n",
      "tenemos que la funci\u00f3n ```phi1``` nos quedar\u00e1:"
     ]
    },
    {
     "cell_type": "code",
     "collapsed": false,
     "input": [
      "cat MATLAB/phi1.m"
     ],
     "language": "python",
     "metadata": {},
     "outputs": [
      {
       "output_type": "stream",
       "stream": "stdout",
       "text": [
        "function y = phi1(t)\r\n",
        "    y = sin(t);\r\n",
        "end"
       ]
      }
     ],
     "prompt_number": 7
    },
    {
     "cell_type": "code",
     "collapsed": false,
     "input": [
      "f = figure(figsize=(11, 7))\n",
      "plot(x1[0], y1[0])\n",
      "\n",
      "ax = f.gca()\n",
      "ax.set_xlabel(r'$t$', fontsize=20)\n",
      "ax.set_ylabel(r'$x$', fontsize=20);"
     ],
     "language": "python",
     "metadata": {},
     "outputs": [
      {
       "metadata": {},
       "output_type": "display_data",
       "png": "[encoded data removed]",
       "text": [
        "<matplotlib.figure.Figure at 0x103f21610>"
       ]
      }
     ],
     "prompt_number": 8
    },
    {
     "cell_type": "markdown",
     "metadata": {},
     "source": [
      "Y para la tercer condici\u00f3n inicial:\n",
      "\n",
      "$$\n",
      "\\varphi(t) = \\begin{cases} 1 & t = 0 \\\\ 0 & t \\ne 0 \\end{cases} \\quad t \\in [-2, 0]\n",
      "$$\n",
      "\n",
      "tenemos:"
     ]
    },
    {
     "cell_type": "code",
     "collapsed": false,
     "input": [
      "cat MATLAB/phi2.m"
     ],
     "language": "python",
     "metadata": {},
     "outputs": [
      {
       "output_type": "stream",
       "stream": "stdout",
       "text": [
        "function y = phi2(t)\r\n",
        "    if t == 0\r\n",
        "        y = 1;\r\n",
        "    else\r\n",
        "        y = 0;\r\n",
        "    end\r\n",
        "end"
       ]
      }
     ],
     "prompt_number": 9
    },
    {
     "cell_type": "code",
     "collapsed": false,
     "input": [
      "f = figure(figsize=(11, 7))\n",
      "plot(x2[0], y2[0])\n",
      "\n",
      "ax = f.gca()\n",
      "ax.set_xlabel(r'$t$', fontsize=20)\n",
      "ax.set_ylabel(r'$x$', fontsize=20);"
     ],
     "language": "python",
     "metadata": {},
     "outputs": [
      {
       "metadata": {},
       "output_type": "display_data",
       "png": "[encoded data removed]",
       "text": [
        "<matplotlib.figure.Figure at 0x1073b1d50>"
       ]
      }
     ],
     "prompt_number": 10
    },
    {
     "cell_type": "markdown",
     "metadata": {},
     "source": [
      "Puedes acceder a este notebook a traves de la p\u00e1gina\n",
      "\n",
      "http://bit.ly/1CzgVi5\n",
      "\n",
      "o escaneando el siguiente c\u00f3digo:\n",
      "\n",
      "![Codigo](codigos/codigo2.jpg)"
     ]
    },
    {
     "cell_type": "code",
     "collapsed": false,
     "input": [
      "# Codigo para generar codigo :)\n",
      "from qrcode import make\n",
      "img = make(\"http://bit.ly/1CzgVi5\")\n",
      "img.save(\"codigos/codigo2.jpg\")"
     ],
     "language": "python",
     "metadata": {},
     "outputs": [],
     "prompt_number": 11
    },
    {
     "cell_type": "code",
     "collapsed": false,
     "input": [
      "from IPython.core.display import HTML\n",
      "import urllib2\n",
      "HTML(urllib2.urlopen('http://bit.ly/1Ay0q5e').read())"
     ],
     "language": "python",
     "metadata": {},
     "outputs": [
      {
       "html": [
        "<link href='http://fonts.googleapis.com/css?family=Fenix' rel='stylesheet' type='text/css'>\n",
        "<link href='http://fonts.googleapis.com/css?family=Alegreya+Sans:100,300,400,500,700,800,900,100italic,300italic,400italic,500italic,700italic,800italic,900italic' rel='stylesheet' type='text/css'>\n",
        "<link href='http://fonts.googleapis.com/css?family=Source+Code+Pro:300,400' rel='stylesheet' type='text/css'>\n",
        "<style>\n",
        "    @font-face {\n",
        "        font-family: \"Computer Modern\";\n",
        "        src: url('http://mirrors.ctan.org/fonts/cm-unicode/fonts/otf/cmunss.otf');\n",
        "    }\n",
        "    div.cell{\n",
        "        width:800px;\n",
        "        margin-left:16% !important;\n",
        "        margin-right:auto;\n",
        "    }\n",
        "    h1 {\n",
        "        font-family: 'Alegreya Sans', sans-serif;\n",
        "    }\n",
        "    h2 {\n",
        "        font-family: 'Fenix', serif;\n",
        "    }\n",
        "    h3{\n",
        "\t\tfont-family: 'Fenix', serif;\n",
        "        margin-top:12px;\n",
        "        margin-bottom: 3px;\n",
        "       }\n",
        "\th4{\n",
        "\t\tfont-family: 'Fenix', serif;\n",
        "       }\n",
        "    h5 {\n",
        "        font-family: 'Alegreya Sans', sans-serif;\n",
        "    }\t   \n",
        "    div.text_cell_render{\n",
        "        font-family: 'Alegreya Sans',Computer Modern, \"Helvetica Neue\", Arial, Helvetica, Geneva, sans-serif;\n",
        "        line-height: 135%;\n",
        "        font-size: 120%;\n",
        "        width:600px;\n",
        "        margin-left:auto;\n",
        "        margin-right:auto;\n",
        "    }\n",
        "    .CodeMirror{\n",
        "            font-family: \"Source Code Pro\";\n",
        "\t\t\tfont-size: 90%;\n",
        "    }\n",
        "/*    .prompt{\n",
        "        display: None;\n",
        "    }*/\n",
        "    .text_cell_render h1 {\n",
        "        font-weight: 200;\n",
        "        font-size: 50pt;\n",
        "\t\tline-height: 100%;\n",
        "        color:#CD2305;\n",
        "        margin-bottom: 0.5em;\n",
        "        margin-top: 0.5em;\n",
        "        display: block;\n",
        "    }\t\n",
        "    .text_cell_render h5 {\n",
        "        font-weight: 300;\n",
        "        font-size: 16pt;\n",
        "        color: #CD2305;\n",
        "        font-style: italic;\n",
        "        margin-bottom: .5em;\n",
        "        margin-top: 0.5em;\n",
        "        display: block;\n",
        "    }\n",
        "    \n",
        "    .warning{\n",
        "        color: rgb( 240, 20, 20 )\n",
        "        }  \n",
        "</style>\n",
        "<script>\n",
        "    MathJax.Hub.Config({\n",
        "                        TeX: {\n",
        "                           extensions: [\"AMSmath.js\"]\n",
        "                           },\n",
        "                tex2jax: {\n",
        "                    inlineMath: [ ['$','$'], [\"\\\\(\",\"\\\\)\"] ],\n",
        "                    displayMath: [ ['$$','$$'], [\"\\\\[\",\"\\\\]\"] ]\n",
        "                },\n",
        "                displayAlign: 'center', // Change this to 'center' to center equations.\n",
        "                \"HTML-CSS\": {\n",
        "                    styles: {'.MathJax_Display': {\"margin\": 4}}\n",
        "                }\n",
        "        });\n",
        "</script>"
       ],
       "metadata": {},
       "output_type": "pyout",
       "prompt_number": 12,
       "text": [
        "<IPython.core.display.HTML at 0x107966ad0>"
       ]
      }
     ],
     "prompt_number": 12
    }
   ],
   "metadata": {}
  }
 ]
}