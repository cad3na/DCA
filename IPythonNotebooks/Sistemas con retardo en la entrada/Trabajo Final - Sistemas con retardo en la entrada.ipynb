{
 "cells": [
  {
   "cell_type": "code",
   "execution_count": 1,
   "metadata": {
    "collapsed": false
   },
   "outputs": [
    {
     "data": {
      "text/html": [
       "<link href='http://fonts.googleapis.com/css?family=Inconsolata' rel='stylesheet' type='text/css'>\n",
       "<link href='http://fonts.googleapis.com/css?family=EB+Garamond' rel='stylesheet' type='text/css'>\n",
       "<link href='http://fonts.googleapis.com/css?family=Lato:100,100italic' rel='stylesheet' type='text/css'>\n",
       "\n",
       "<style>\n",
       "\t@font-face{\n",
       "   \t\tfont-family: \"Computer Modern\";\n",
       "        \tsrc: url('http://mirrors.ctan.org/fonts/cm-unicode/fonts/otf/cmunss.otf');}\n",
       "        \n",
       "\th1 {\n",
       "        \tfont-family: 'Lato', sans-serif;}\n",
       "        \n",
       "\th2 {\n",
       "        \tfont-family: 'Lato', serif;}\n",
       "        \n",
       "\th3{\n",
       "\t\tfont-family:   'Lato', serif;\n",
       "        \tmargin-top:    12px;\n",
       "\t\tmargin-bottom: 3px;}\n",
       "        \n",
       "        h4{\n",
       "\t\tfont-family: 'Lato', serif;}\n",
       "\t\n",
       "\th5 {\n",
       "        \tfont-family: 'Lato', serif;}\n",
       "    \n",
       "\tdiv.text_cell_render{\n",
       "        \tfont-family:  'EB Garamond', 'Computer Modern', 'Helvetica Neue', Arial, Helvetica, Geneva, sans-serif;\n",
       "\t        line-height:  140%;\n",
       "\t        font-size:    14pt;}\n",
       "        \n",
       "\t.CodeMirror{\n",
       "        \tfont-family: 'Inconsolata';}\n",
       "    \n",
       "\t.text_cell_render h1 {\n",
       "\t        font-weight:   100;\n",
       "\t        font-size:     50pt;\n",
       "\t\tline-height:   100%;\n",
       "\t        color:         #CD2305;\n",
       "\t        margin-bottom: 0.5em;\n",
       "\t        margin-top:    0.5em;\n",
       "\t        display:       block;}\n",
       "        \n",
       "\t.text_cell_render h2 {\n",
       "        \tfont-weight:   100;\n",
       "        \tfont-size:     30pt;}\n",
       "        \n",
       "\t.text_cell_render h3 {\n",
       "        \tfont-weight:   100;\n",
       "        \tfont-size:     20pt;}\n",
       "        \n",
       "\t.text_cell_render h4 {\n",
       "        \tfont-weight:   100;\n",
       "        \tfont-size:     16pt;}\n",
       "        \n",
       "\t.text_cell_render h5 {\n",
       "\t        font-weight:   100;\n",
       "\t        font-size:     16pt;\n",
       "\t        color:         #CD2305;\n",
       "\t        font-style:    italic;\n",
       "\t        margin-bottom: 0.5em;\n",
       "\t        margin-top:    0.5em;\n",
       "\t        display:       block;}\n",
       "        \n",
       "\t.text_cell_render h6 {\n",
       "\t        font-weight:   100;\n",
       "\t        font-size:     14pt;\n",
       "\t        color:         #CD2305;\n",
       "\t        font-style:    italic;\n",
       "\t        margin-bottom: 0.5em;\n",
       "\t        margin-top:    0.5em;\n",
       "\t        display:       block;}\n",
       "    \n",
       "\t.warning{\n",
       "\t    \tbackground-color: #fcf2f2;\n",
       "\t    \tborder-color: #dFb5b4;\n",
       "\t    \tborder-left: 5px solid #dfb5b4;\n",
       "\t    \tpadding: 0.5em;}\n",
       "</style>\n",
       "\n",
       "<script>\n",
       "\tMathJax.Hub.Config({\n",
       "        \tTeX:{extensions: [\"AMSmath.js\"]},\n",
       "\n",
       "        \tjax: [\"input/TeX\",\"output/SVG\"],\n",
       "        \tSVG: {\n",
       "        \t\tscale: 120,\n",
       "        \t\tfont: 'Gyre-Pagella'}\n",
       "        });\n",
       "</script>"
      ]
     },
     "metadata": {},
     "output_type": "display_data"
    }
   ],
   "source": [
    "from IPython.core.display import display_html\n",
    "from urllib.request import urlopen\n",
    "\n",
    "display_html(urlopen('http://bit.ly/1HflmO9').read(), raw=True)"
   ]
  },
  {
   "cell_type": "markdown",
   "metadata": {},
   "source": [
    "# Recapitulación de resultados empleados"
   ]
  },
  {
   "cell_type": "markdown",
   "metadata": {},
   "source": [
    "## Control predictivo"
   ]
  },
  {
   "cell_type": "markdown",
   "metadata": {},
   "source": [
    "## Implementación del retardo distribuido y sus problemas"
   ]
  },
  {
   "cell_type": "markdown",
   "metadata": {},
   "source": [
    "## Solución por medio de estabilización simultanea"
   ]
  },
  {
   "cell_type": "markdown",
   "metadata": {},
   "source": [
    "## Solución por medio de introducción de dinámicas"
   ]
  },
  {
   "cell_type": "markdown",
   "metadata": {},
   "source": [
    "# Implementación de control predictivo: ejemplo escalar"
   ]
  },
  {
   "cell_type": "markdown",
   "metadata": {},
   "source": [
    "## Resultados del articulo \"Some problems arising in the implementation of distributed-delay control laws\""
   ]
  },
  {
   "cell_type": "markdown",
   "metadata": {},
   "source": [
    "# Implementación del método de estabilización simultanea"
   ]
  },
  {
   "cell_type": "markdown",
   "metadata": {},
   "source": [
    "## Ejemplo 1 - Doble integrador retardado"
   ]
  },
  {
   "cell_type": "markdown",
   "metadata": {},
   "source": [
    "Para el sistema:\n",
    "\n",
    "$$\n",
    "\\dot{x}(t) =\n",
    "\\begin{pmatrix}\n",
    "0 & 1 \\\\\n",
    "0 & 0\n",
    "\\end{pmatrix}\n",
    "x(t) +\n",
    "\\begin{pmatrix}\n",
    "0 \\\\\n",
    "1\n",
    "\\end{pmatrix}\n",
    "u(t - h)\n",
    "$$\n",
    "\n",
    "con $h = 1$."
   ]
  },
  {
   "cell_type": "markdown",
   "metadata": {},
   "source": [
    "El cual, bajo una ley de control de la forma:\n",
    "\n",
    "$$\n",
    "u(t) = k \\left[ x(t) + \\int_{-h}^0 e^{-A(\\theta + h)} B u(t + \\theta) d\\theta \\right]\n",
    "$$\n",
    "\n",
    "tiene un polinomio caracteristico:\n",
    "\n",
    "$$\n",
    "s^2 +  \\left( h k_1 - k_2 \\right) s - k_1\n",
    "$$\n",
    "\n",
    "Al cual podemos aplicar el criterio de estabilidad de Routh-Hurwitz y obtener:\n",
    "\n",
    "$$\n",
    "\\begin{align}\n",
    "k_1 &< 0 \\\\\n",
    "k_2 &< h k_1\n",
    "\\end{align}\n",
    "$$\n",
    "\n",
    "Por lo que la gráfica de D-particiones del sistema en lazo cerrado se verá:\n",
    "\n",
    "![D-particiones de un doble integrador en lazo cerrado](./imagenes/dobintlc.png)"
   ]
  },
  {
   "cell_type": "markdown",
   "metadata": {},
   "source": [
    "Por otro lado, para analizar el comportamiento del controlador, sustituimos los datos en la ecuación del controlador:\n",
    "\n",
    "$$\n",
    "\\begin{align}\n",
    "u(t) &=\n",
    "\\begin{pmatrix}\n",
    "k_1 & k_2\n",
    "\\end{pmatrix} x(t) +\n",
    "\\begin{pmatrix}\n",
    "k_1 & k_2\n",
    "\\end{pmatrix}\n",
    "\\int_{-h}^0 e^{-A(\\theta + h)} B u(t + \\theta) d\\theta \\\\\n",
    "&=\n",
    "\\begin{pmatrix}\n",
    "k_1 & k_2\n",
    "\\end{pmatrix}\n",
    "\\begin{pmatrix}\n",
    "x_1(t) \\\\\n",
    "x_2(t)\n",
    "\\end{pmatrix} +\n",
    "\\begin{pmatrix}\n",
    "k_1 & k_2\n",
    "\\end{pmatrix}\n",
    "\\int_{-h}^0 e^{-A(\\theta + h)} B u(t + \\theta) d\\theta \\\\\n",
    "\\end{align}\n",
    "$$"
   ]
  },
  {
   "cell_type": "markdown",
   "metadata": {},
   "source": [
    "$$\n",
    "\\begin{align}\n",
    "u(t) &=\n",
    "\\begin{pmatrix}\n",
    "k_1 & k_2\n",
    "\\end{pmatrix}\n",
    "\\begin{pmatrix}\n",
    "x_1(t) \\\\\n",
    "x_2(t)\n",
    "\\end{pmatrix} +\n",
    "\\int_{-h}^0\n",
    "\\begin{pmatrix}\n",
    "k_1 & k_2\n",
    "\\end{pmatrix}\n",
    "\\begin{pmatrix}\n",
    "1 & - (\\theta  +h) \\\\\n",
    "0 & 1\n",
    "\\end{pmatrix}\n",
    "\\begin{pmatrix}\n",
    "0 \\\\\n",
    "1\n",
    "\\end{pmatrix} u(t + \\theta) d\\theta \\\\\n",
    "&= k_1 x_1(t) + k_2 x_2(t) - \\int_{-h}^0 k_1 \\theta u(t + \\theta) d\\theta - \\int_{-h}^0 k_1 h u(t + \\theta) d\\theta + \\int_{-h}^0 k_2 u(t + \\theta) d\\theta \\\\\n",
    "\\end{align}\n",
    "$$\n",
    "\n",
    "y al aplicar la transformada de Laplace, tenemos:\n",
    "\n",
    "$$\n",
    "u(s) = k_1 x_1(s) + k_2 x_2(s) - h k_1 \\frac{e^{-hs}}{s} u(s) + k_1 \\frac{1 - e^{-hs}}{s^2} u(s) - h k_1 \\frac{1 - e^{-hs}}{s} u(s) + k_2 \\frac{1 - e^{-hs}}{s} u(s)\n",
    "$$\n",
    "\n",
    "por lo que al pasar a un solo lado todos los terminos de $u(s)$:\n",
    "\n",
    "$$\n",
    "\\begin{align}\n",
    "\\left[ 1 + h k_1 \\frac{e^{-hs}}{s} - k_1 \\frac{1 - e^{-hs}}{s^2} + h k_1 \\frac{1 - e^{-hs}}{s} - k_2 \\frac{1 - e^{-hs}}{s} \\right] u(s) &= k_1 x_1(s) + k_2 x_2(s) \\\\\n",
    "\\left[ 1 + \\frac{h k_1 e^{-hs}}{s} - \\frac{k_1}{s^2} + \\frac{k_1 e^{-hs}}{s^2} + \\frac{h k_1}{s} - \\frac{h k_1 e^{-hs}}{s} - \\frac{k_2}{s} + \\frac{k_2 e^{-hs}}{s} \\right] u(s) &= k_1 x_1(s) + k_2 x_2(s) \\\\\n",
    "\\left[ 1  - \\frac{k_1}{s^2} + \\frac{k_1 e^{-hs}}{s^2} + \\frac{h k_1}{s} - \\frac{k_2}{s} + \\frac{k_2 e^{-hs}}{s} \\right] u(s) &= k_1 x_1(s) + k_2 x_2(s) \\\\\n",
    "\\left[ 1  + \\frac{k_1 e^{-hs} - k_1}{s^2} + \\frac{h k_1 + k_2 e^{-hs} - k_2}{s} \\right] u(s) &= k_1 x_1(s) + k_2 x_2(s)\n",
    "\\end{align}\n",
    "$$\n",
    "\n",
    "obtenemos el polinomio caracteristico de la ecuación de control:\n",
    "\n",
    "$$\n",
    "1  + \\frac{k_1 e^{-hs} - k_1}{s^2} + \\frac{h k_1 + k_2 e^{-hs} - k_2}{s}\n",
    "$$\n",
    "\n",
    "y al sustituir $s = j \\omega$, obtendremos dos ecuaciones, correspondientes a la parte real e imaginaria:\n",
    "\n",
    "$$\n",
    "\\begin{align}\n",
    "k_1 \\left[ \\omega h - \\sin{(\\omega h)} \\right] - k_2 \\left[ \\omega - \\cos{(\\omega h)} \\right] &= 0 \\\\\n",
    "- k_1 \\left[ 1 - \\cos{(\\omega h)} \\right] + k_2 \\left[ \\omega \\sin{(\\omega h)} \\right] - \\omega^2 &= 0 \\\\\n",
    "\\end{align}\n",
    "$$\n",
    "\n",
    "por lo que podemos despejar $k_2$ de ambas ecuaciones y obtener:\n",
    "\n",
    "$$\n",
    "k_2 = \\frac{k_1 \\left[ \\omega h - \\sin{(\\omega h)} \\right]}{\\omega - \\cos{(\\omega h)}} = \\frac{k_1 \\left[ 1 - \\cos{(\\omega h)} \\right] + \\omega^2}{\\omega \\sin{(\\omega h)}}\n",
    "$$\n",
    "\n",
    "y haciendo un poco de algebra, podemos obtener:\n",
    "\n",
    "$$\n",
    "\\frac{k_1 \\left[ \\omega h - \\sin{(\\omega h)} \\right]}{\\omega - \\cos{(\\omega h)}} = \\frac{k_1 \\left[ 1 - \\cos{(\\omega h)} \\right] + \\omega^2}{\\omega \\sin{(\\omega h)}}\n",
    "$$\n",
    "\n",
    "$$\n",
    "\\frac{k_1 \\left[ \\omega h - \\sin{(\\omega h)} \\right] \\left[ \\omega \\sin{(\\omega h)} \\right]}{\\omega - \\cos{(\\omega h)}} - k_1 \\left[ 1 - \\cos{(\\omega h)} \\right] = \\omega^2\n",
    "$$\n",
    "\n",
    "$$\n",
    "k_1 \\frac{\\left[ \\omega h - \\sin{(\\omega h)} \\right] \\left[ \\omega \\sin{(\\omega h)} \\right] - \\left[ 1 - \\cos{(\\omega h)} \\right] \\left[ \\omega - \\cos{(\\omega h)} \\right]}{\\omega - \\cos{(\\omega h)}} = \\omega^2\n",
    "$$\n",
    "\n",
    "$$\n",
    "k_1 = \\frac{\\omega^2 \\left[ \\omega - \\cos{(\\omega h)} \\right]}{\\left[ \\omega h - \\sin{(\\omega h)} \\right] \\left[ \\omega \\sin{(\\omega h)} \\right] - \\left[ 1 - \\cos{(\\omega h)} \\right] \\left[ \\omega - \\cos{(\\omega h)} \\right]}\n",
    "$$\n",
    "\n",
    "Si sustituimos un punto por debajo de esta curva, $(k_1, k_2) = (0, 0)$, podemos ver que el polinomio caracteristico es trivialmente estable por el criterio de Routh-Hurwitz:\n",
    "\n",
    "$$\n",
    "P(s) = 1\n",
    "$$\n",
    "\n",
    "por lo que la gráfica de D-particiones para el controlador queda:\n",
    "\n",
    "![D-particiones de un controlador para doble integrador.](./imagenes/dobintcon.png)\n",
    "\n",
    "Y el sistema con este controlador será estable para los valores de $k_1$ y $k_2$ escogidos tal que se encuentren en la intersección de estas dos regiones:\n",
    "\n",
    "![D-particiones de doble integrador.](./imagenes/dobint.png)"
   ]
  },
  {
   "cell_type": "markdown",
   "metadata": {},
   "source": [
    "## Ejemplo 2 - Oscilador armónico retardado"
   ]
  },
  {
   "cell_type": "markdown",
   "metadata": {},
   "source": [
    "Para el sistema:\n",
    "\n",
    "$$\n",
    "\\dot{x}(t) =\n",
    "\\begin{pmatrix}\n",
    "0 & 1 \\\\\n",
    "-1 & 0\n",
    "\\end{pmatrix}\n",
    "x(t) +\n",
    "\\begin{pmatrix}\n",
    "0 \\\\\n",
    "1\n",
    "\\end{pmatrix}\n",
    "u(t - h)\n",
    "$$\n",
    "\n",
    "con $h = 1$."
   ]
  },
  {
   "cell_type": "markdown",
   "metadata": {},
   "source": [
    "En lazo cerrado tiene un cuasiplolinomio:\n",
    "\n",
    "$$\n",
    "s^2 + \\frac{1}{2} s\\left[ -j k_1 \\left( e^{jh} - e^{-jh} \\right) - k_2 \\left( e^{jh} + e^{-jh} \\right) \\right] + \\frac{1}{2} \\left[ -k_1 \\left( e^{jh} + e^{-jh} \\right) + j k_2 \\left( e^{jh} - e^{-jh} \\right) \\right]\n",
    "$$\n",
    "\n",
    "Con una gráfica de D-particiones:\n",
    "\n",
    "![D-particiones oscilador armónico retardado en lazo cerrado](./imagenes/oscarmlc.png)"
   ]
  },
  {
   "cell_type": "markdown",
   "metadata": {},
   "source": [
    "Para el controlador tenemos un cuasipolinomio caracteristico:\n",
    "\n",
    "$$\n",
    "s^2 + 1 + k_1 j \\left( s \\sin{(h)} - \\cos{(h)} + e^{-sh} \\right) + k_2 \\left( \\sin{(h)} + s \\cos{(h)} - s e^{-sh} \\right)\n",
    "$$\n",
    "\n",
    "con una gráfica de D-Particiones:\n",
    "\n",
    "![D-particiones de controlador para oscilador armónico retardado.](./imagenes/oscarmcon.png)"
   ]
  },
  {
   "cell_type": "markdown",
   "metadata": {},
   "source": [
    "# Implementación del método de introducción de dinámicas"
   ]
  }
 ],
 "metadata": {
  "kernelspec": {
   "display_name": "Python 3",
   "language": "python",
   "name": "python3"
  },
  "language_info": {
   "codemirror_mode": {
    "name": "ipython",
    "version": 3
   },
   "file_extension": ".py",
   "mimetype": "text/x-python",
   "name": "python",
   "nbconvert_exporter": "python",
   "pygments_lexer": "ipython3",
   "version": "3.4.3"
  }
 },
 "nbformat": 4,
 "nbformat_minor": 0
}
