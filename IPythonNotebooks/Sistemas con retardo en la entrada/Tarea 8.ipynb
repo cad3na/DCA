{
 "metadata": {
  "name": "",
  "signature": "sha256:bda97ca1feaa1c7143e981910aebc20d0a646edec46f0b807680a8975a30b78e"
 },
 "nbformat": 3,
 "nbformat_minor": 0,
 "worksheets": [
  {
   "cells": [
    {
     "cell_type": "heading",
     "level": 1,
     "metadata": {},
     "source": [
      "Tarea 8"
     ]
    },
    {
     "cell_type": "heading",
     "level": 2,
     "metadata": {},
     "source": [
      "Transformada de Laplace de una integral de convoluci\u00f3n"
     ]
    },
    {
     "cell_type": "markdown",
     "metadata": {},
     "source": [
      "Queremos obtener:\n",
      "\n",
      "$$\n",
      "\\mathcal{L} \\left\\{ \\int_{-\\tau}^0 G(\\theta) x(\\tau + \\theta) d\\theta \\right\\}\n",
      "$$\n",
      "\n",
      "Podemos definir la integral de convoluci\u00f3n para dos funciones continuas $f(t)$ y $g(t)$, tales que la convoluci\u00f3n $(f*g)(t)$ es de la forma:\n",
      "\n",
      "$$\n",
      "(f*g)(t) = \\int_0^t f(t - \\tau) g(\\tau) d\\tau\n",
      "$$\n",
      "\n",
      "y la transformada de Laplace de esta integral de convoluci\u00f3n es:\n",
      "\n",
      "$$\n",
      "\\mathcal{L} \\left\\{ (f*g)(t) \\right\\} = F(s)G(s)\n",
      "$$\n",
      "\n",
      "por lo que nos interesa poner nuestra integral original de manera que sea una integral de convoluci\u00f3n.\n",
      "\n",
      "Podemos ver que al aplicar el cambio de variable $\\delta = \\theta + \\tau$, cuando $\\theta$ variaba de $-\\tau \\to 0$, $\\delta$ variar\u00e1 de $0 \\to \\tau$ y el diferencial $d\\theta$ es equivalente a $d\\delta$, por lo que nuestra integral quedar\u00e1:\n",
      "\n",
      "$$\n",
      "\\mathcal{L} \\left\\{ \\int_{0}^{\\tau} G(\\delta - \\tau) x(\\tau + \\delta - \\tau) d\\delta \\right\\} = \\mathcal{L} \\left\\{ \\int_{0}^{\\tau} G(\\delta - \\tau) x(\\delta) d\\delta \\right\\}\n",
      "$$\n",
      "\n",
      "y etsa integral ya es de la forma de la integral de convoluci\u00f3n, por lo que podemos escribirla como:\n",
      "\n",
      "$$\n",
      "\\mathcal{L} \\left\\{ (G*x)(t) \\right\\} = G(s) x(s)\n",
      "$$"
     ]
    },
    {
     "cell_type": "heading",
     "level": 2,
     "metadata": {},
     "source": [
      "Dise\u00f1o de un controlador predictivo para un sistema con retardo en la entrada"
     ]
    },
    {
     "cell_type": "markdown",
     "metadata": {},
     "source": [
      "Dado el sistema con retardo en la entrada:\n",
      "\n",
      "$$\n",
      "\\dot{x}(t) = A x(t) + B u(t - h)\n",
      "$$\n",
      "\n",
      "$$\n",
      "y(t) = C x(t)\n",
      "$$\n",
      "\n",
      "Empezaremos creando un modelo sin retardo para el dise\u00f1o del controlador predictor de Smith. Si logramos dise\u00f1ar un controlador $C(s)$ que estabilice de manera aceptable al sistema sin retardos, podremos dise\u00f1ar otro $\\tilde{C}(s)$ que tenga el mismo comportamiento agregado el efecto del retardo.\n",
      "\n",
      "![Sistema con controlador sin retardo](./imagenes/1.png)\n",
      "\n",
      "en donde $\\tilde{C}(s)$ ser\u00e1 de la forma:\n",
      "\n",
      "![Sistema con controlador con retardo](./imagenes/2.png)\n",
      "\n",
      "es decir:\n",
      "\n",
      "$$\n",
      "\\tilde{C}(s) = \\frac{C(s)}{1 + C(s) \\hat{G}(s) \\left( 1 - e^{-sh} \\right)}\n",
      "$$\n",
      "\n",
      "en donde $\\hat{G}(s)$ es la parte de la funci\u00f3n de transferencia del sistema que no incluye al retardo. Por lo que nuestra primera tarea es encontrar la funci\u00f3n de transferencia para nuestro sistema sin el efecto del retardo.\n",
      "\n",
      "Consideremos pues el sistema\n",
      "\n",
      "$$\n",
      "\\dot{x}(t) = A x(t) + B u(t)\n",
      "$$\n",
      "\n",
      "$$\n",
      "y(t) = C x(t)\n",
      "$$\n",
      "\n",
      "para el cual la funci\u00f3n de transferencia se puede obtener por la siguiente ecuaci\u00f3n:\n",
      "\n",
      "$$\n",
      "\\hat{G}(s) = C \\left( sI - A \\right)^{-1} B\n",
      "$$"
     ]
    },
    {
     "cell_type": "code",
     "collapsed": false,
     "input": [
      "# Se importan las librerias para calculo simbolico\n",
      "from IPython.display import display\n",
      "\n",
      "from sympy import var, simplify, collect, expand, solve, sin, cos, Matrix, eye, diff, Function, expand_power_base\n",
      "from sympy.physics.mechanics import mlatex, mechanics_printing\n",
      "mechanics_printing()"
     ],
     "language": "python",
     "metadata": {},
     "outputs": [],
     "prompt_number": 12
    },
    {
     "cell_type": "code",
     "collapsed": false,
     "input": [
      "var(\"s\")"
     ],
     "language": "python",
     "metadata": {},
     "outputs": [
      {
       "latex": [
        "$$s$$"
       ],
       "metadata": {},
       "output_type": "pyout",
       "png": "[encoded data removed]",
       "prompt_number": 3,
       "text": [
        "s"
       ]
      }
     ],
     "prompt_number": 3
    },
    {
     "cell_type": "markdown",
     "metadata": {},
     "source": [
      "Empezaremos con el sistema $A_1 = \\begin{pmatrix} 0 & 1 \\\\ 0 & 0 \\end{pmatrix}$, $B_1 = \\begin{pmatrix} 0 \\\\ 1 \\end{pmatrix}$, $C_1 = \\begin{pmatrix} 1 & 0 \\end{pmatrix}$ y $h = 1$."
     ]
    },
    {
     "cell_type": "code",
     "collapsed": false,
     "input": [
      "A1 = Matrix([[0, 1], [0, 0]])\n",
      "B1 = Matrix([[0], [1]])\n",
      "C1 = Matrix([[1, 0]])\n",
      "\n",
      "G1 = (C1*(s*eye(2) - A1).inv()*B1)[0]\n",
      "G1"
     ],
     "language": "python",
     "metadata": {},
     "outputs": [
      {
       "latex": [
        "$$\\frac{1}{s^{2}}$$"
       ],
       "metadata": {},
       "output_type": "pyout",
       "png": "[encoded data removed]",
       "prompt_number": 16,
       "text": [
        "1 \n",
        "\u2500\u2500\n",
        " 2\n",
        "s "
       ]
      }
     ],
     "prompt_number": 16
    },
    {
     "cell_type": "code",
     "collapsed": false,
     "input": [
      "from IPython.core.display import HTML\n",
      "import urllib2\n",
      "HTML(urllib2.urlopen('http://bit.ly/1Ay0q5e').read())"
     ],
     "language": "python",
     "metadata": {},
     "outputs": [
      {
       "html": [
        "<link href='http://fonts.googleapis.com/css?family=Fenix' rel='stylesheet' type='text/css'>\n",
        "<link href='http://fonts.googleapis.com/css?family=Alegreya+Sans:100,300,400,500,700,800,900,100italic,300italic,400italic,500italic,700italic,800italic,900italic' rel='stylesheet' type='text/css'>\n",
        "<link href='http://fonts.googleapis.com/css?family=Source+Code+Pro:300,400' rel='stylesheet' type='text/css'>\n",
        "<style>\n",
        "    @font-face {\n",
        "        font-family: \"Computer Modern\";\n",
        "        src: url('http://mirrors.ctan.org/fonts/cm-unicode/fonts/otf/cmunss.otf');\n",
        "    }\n",
        "    div.cell{\n",
        "        width:800px;\n",
        "        margin-left:16% !important;\n",
        "        margin-right:auto;\n",
        "    }\n",
        "    h1 {\n",
        "        font-family: 'Alegreya Sans', sans-serif;\n",
        "    }\n",
        "    h2 {\n",
        "        font-family: 'Fenix', serif;\n",
        "    }\n",
        "    h3{\n",
        "\t\tfont-family: 'Fenix', serif;\n",
        "        margin-top:12px;\n",
        "        margin-bottom: 3px;\n",
        "       }\n",
        "\th4{\n",
        "\t\tfont-family: 'Fenix', serif;\n",
        "       }\n",
        "    h5 {\n",
        "        font-family: 'Alegreya Sans', sans-serif;\n",
        "    }\t   \n",
        "    div.text_cell_render{\n",
        "        font-family: 'Alegreya Sans',Computer Modern, \"Helvetica Neue\", Arial, Helvetica, Geneva, sans-serif;\n",
        "        line-height: 135%;\n",
        "        font-size: 120%;\n",
        "        width:600px;\n",
        "        margin-left:auto;\n",
        "        margin-right:auto;\n",
        "    }\n",
        "    .CodeMirror{\n",
        "            font-family: \"Source Code Pro\";\n",
        "\t\t\tfont-size: 90%;\n",
        "    }\n",
        "/*    .prompt{\n",
        "        display: None;\n",
        "    }*/\n",
        "    .text_cell_render h1 {\n",
        "        font-weight: 200;\n",
        "        font-size: 50pt;\n",
        "\t\tline-height: 100%;\n",
        "        color:#CD2305;\n",
        "        margin-bottom: 0.5em;\n",
        "        margin-top: 0.5em;\n",
        "        display: block;\n",
        "    }\t\n",
        "    .text_cell_render h5 {\n",
        "        font-weight: 300;\n",
        "        font-size: 16pt;\n",
        "        color: #CD2305;\n",
        "        font-style: italic;\n",
        "        margin-bottom: .5em;\n",
        "        margin-top: 0.5em;\n",
        "        display: block;\n",
        "    }\n",
        "    \n",
        "    .warning{\n",
        "        color: rgb( 240, 20, 20 )\n",
        "        }  \n",
        "</style>\n",
        "<script>\n",
        "    MathJax.Hub.Config({\n",
        "                        TeX: {\n",
        "                           extensions: [\"AMSmath.js\"]\n",
        "                           },\n",
        "                tex2jax: {\n",
        "                    inlineMath: [ ['$','$'], [\"\\\\(\",\"\\\\)\"] ],\n",
        "                    displayMath: [ ['$$','$$'], [\"\\\\[\",\"\\\\]\"] ]\n",
        "                },\n",
        "                displayAlign: 'center', // Change this to 'center' to center equations.\n",
        "                \"HTML-CSS\": {\n",
        "                    styles: {'.MathJax_Display': {\"margin\": 4}}\n",
        "                }\n",
        "        });\n",
        "</script>"
       ],
       "metadata": {},
       "output_type": "pyout",
       "prompt_number": 11,
       "text": [
        "<IPython.core.display.HTML at 0x105acdb10>"
       ]
      }
     ],
     "prompt_number": 11
    },
    {
     "cell_type": "code",
     "collapsed": false,
     "input": [
      "from control import tf, step, pade, acker, ss\n",
      "from numpy import linspace, matrix"
     ],
     "language": "python",
     "metadata": {},
     "outputs": [],
     "prompt_number": 75
    },
    {
     "cell_type": "code",
     "collapsed": false,
     "input": [
      "%matplotlib inline\n",
      "from matplotlib.pyplot import plot, style, figure\n",
      "style.use(\"ggplot\")"
     ],
     "language": "python",
     "metadata": {},
     "outputs": [],
     "prompt_number": 41
    },
    {
     "cell_type": "code",
     "collapsed": false,
     "input": [
      "t = linspace(0, 10, 1000)"
     ],
     "language": "python",
     "metadata": {},
     "outputs": [],
     "prompt_number": 143
    },
    {
     "cell_type": "code",
     "collapsed": false,
     "input": [
      "G1tf = tf([0, 0, 1], [1, 0, 0])\n",
      "G1tf"
     ],
     "language": "python",
     "metadata": {},
     "outputs": [
      {
       "metadata": {},
       "output_type": "pyout",
       "prompt_number": 47,
       "text": [
        "\n",
        " 1\n",
        "---\n",
        "s^2"
       ]
      }
     ],
     "prompt_number": 47
    },
    {
     "cell_type": "code",
     "collapsed": false,
     "input": [
      "num, den= pade(T=1, n=10)\n",
      "delay = tf(num, den)"
     ],
     "language": "python",
     "metadata": {},
     "outputs": [],
     "prompt_number": 134
    },
    {
     "cell_type": "code",
     "collapsed": false,
     "input": [
      "t1, y1 = step(G1tf, t)\n",
      "td, yd = step(delay*G1tf, t)"
     ],
     "language": "python",
     "metadata": {},
     "outputs": [],
     "prompt_number": 135
    },
    {
     "cell_type": "code",
     "collapsed": false,
     "input": [
      "f = figure(figsize=(12, 5))\n",
      "\n",
      "plot(t1, y1)\n",
      "plot(td, yd)\n",
      "\n",
      "ax = f.gca()\n",
      "ax.set_xlim(0, 10);"
     ],
     "language": "python",
     "metadata": {},
     "outputs": [
      {
       "metadata": {},
       "output_type": "display_data",
       "png": "[encoded data removed]",
       "text": [
        "<matplotlib.figure.Figure at 0x10c019250>"
       ]
      }
     ],
     "prompt_number": 136
    },
    {
     "cell_type": "code",
     "collapsed": false,
     "input": [
      "k1 = acker(A1, B1, (-10, -10))\n",
      "k1"
     ],
     "language": "python",
     "metadata": {},
     "outputs": [
      {
       "metadata": {},
       "output_type": "pyout",
       "prompt_number": 94,
       "text": [
        "matrix([[ 100.,   20.]])"
       ]
      }
     ],
     "prompt_number": 94
    },
    {
     "cell_type": "code",
     "collapsed": false,
     "input": [
      "A1 - B1*k1"
     ],
     "language": "python",
     "metadata": {},
     "outputs": [
      {
       "metadata": {},
       "output_type": "pyout",
       "prompt_number": 112,
       "text": [
        "matrix([[   0.,    1.],\n",
        "        [-100.,  -20.]])"
       ]
      }
     ],
     "prompt_number": 112
    },
    {
     "cell_type": "code",
     "collapsed": false,
     "input": [
      "ss1 = ss(A1, B1, C1, 0)\n",
      "ss1re = ss(A1 + B1*k1, B1, C1, 0)\n",
      "\n",
      "t1, y1 = step(ss1, t)\n",
      "td, yd = step(ss1*delay, t)\n",
      "tr, yr = step(ss1re, t)\n",
      "trd, yrd = step(ss1re*delay, t)"
     ],
     "language": "python",
     "metadata": {},
     "outputs": [],
     "prompt_number": 131
    },
    {
     "cell_type": "code",
     "collapsed": false,
     "input": [
      "A1 = matrix([[0, 1], [0, 0]])\n",
      "B1 = matrix([[0], [1]])\n",
      "C1 = matrix([[1, 0]])\n",
      "\n",
      "ss1 = ss(A1, B1, C1, 0)"
     ],
     "language": "python",
     "metadata": {},
     "outputs": [],
     "prompt_number": 119
    },
    {
     "cell_type": "code",
     "collapsed": false,
     "input": [
      "f = figure(figsize=(12, 5))\n",
      "\n",
      "#plot(t1, y1)\n",
      "#plot(td, yd)\n",
      "plot(tr, yr)\n",
      "plot(trd, yrd)\n",
      "\n",
      "ax = f.gca()\n",
      "ax.set_xlim(0, 10)\n",
      "ax.set_ylim(0, 1);"
     ],
     "language": "python",
     "metadata": {},
     "outputs": [
      {
       "metadata": {},
       "output_type": "display_data",
       "png": "[encoded data removed]",
       "text": [
        "<matplotlib.figure.Figure at 0x10ce77b10>"
       ]
      }
     ],
     "prompt_number": 132
    },
    {
     "cell_type": "code",
     "collapsed": false,
     "input": [
      "ss1.feedback(k1)"
     ],
     "language": "python",
     "metadata": {},
     "outputs": [
      {
       "ename": "ValueError",
       "evalue": "State space systems don't have compatible inputs/outputs for feedback.",
       "output_type": "pyerr",
       "traceback": [
        "\u001b[0;31m---------------------------------------------------------------------------\u001b[0m\n\u001b[0;31mValueError\u001b[0m                                Traceback (most recent call last)",
        "\u001b[0;32m<ipython-input-138-ebb2058df957>\u001b[0m in \u001b[0;36m<module>\u001b[0;34m()\u001b[0m\n\u001b[0;32m----> 1\u001b[0;31m \u001b[0mss1\u001b[0m\u001b[0;34m.\u001b[0m\u001b[0mfeedback\u001b[0m\u001b[0;34m(\u001b[0m\u001b[0mk1\u001b[0m\u001b[0;34m)\u001b[0m\u001b[0;34m\u001b[0m\u001b[0m\n\u001b[0m",
        "\u001b[0;32m/Users/roberto/miniconda/lib/python2.7/site-packages/control/statesp.pyc\u001b[0m in \u001b[0;36mfeedback\u001b[0;34m(self, other, sign)\u001b[0m\n\u001b[1;32m    450\u001b[0m         \u001b[0;32mif\u001b[0m \u001b[0;34m(\u001b[0m\u001b[0;34m(\u001b[0m\u001b[0mself\u001b[0m\u001b[0;34m.\u001b[0m\u001b[0minputs\u001b[0m \u001b[0;34m!=\u001b[0m \u001b[0mother\u001b[0m\u001b[0;34m.\u001b[0m\u001b[0moutputs\u001b[0m\u001b[0;34m)\u001b[0m \u001b[0;32mor\u001b[0m \u001b[0;34m(\u001b[0m\u001b[0mself\u001b[0m\u001b[0;34m.\u001b[0m\u001b[0moutputs\u001b[0m \u001b[0;34m!=\u001b[0m \u001b[0mother\u001b[0m\u001b[0;34m.\u001b[0m\u001b[0minputs\u001b[0m\u001b[0;34m)\u001b[0m\u001b[0;34m)\u001b[0m\u001b[0;34m:\u001b[0m\u001b[0;34m\u001b[0m\u001b[0m\n\u001b[1;32m    451\u001b[0m                 raise ValueError(\"State space systems don't have compatible \\\n\u001b[0;32m--> 452\u001b[0;31m inputs/outputs for feedback.\")\n\u001b[0m\u001b[1;32m    453\u001b[0m \u001b[0;34m\u001b[0m\u001b[0m\n\u001b[1;32m    454\u001b[0m         \u001b[0;31m# Figure out the sampling time to use\u001b[0m\u001b[0;34m\u001b[0m\u001b[0;34m\u001b[0m\u001b[0m\n",
        "\u001b[0;31mValueError\u001b[0m: State space systems don't have compatible inputs/outputs for feedback."
       ]
      }
     ],
     "prompt_number": 138
    },
    {
     "cell_type": "code",
     "collapsed": false,
     "input": [
      "k.T"
     ],
     "language": "python",
     "metadata": {},
     "outputs": [
      {
       "metadata": {},
       "output_type": "pyout",
       "prompt_number": 87,
       "text": [
        "matrix([[100.000000000000],\n",
        "        [20.0000000000000]], dtype=object)"
       ]
      }
     ],
     "prompt_number": 87
    },
    {
     "cell_type": "code",
     "collapsed": false,
     "input": [
      "A2 = Matrix([[0, 1], [1, 1]])\n",
      "B2 = Matrix([[1], [0]])\n",
      "C2 = Matrix([[1, 0]])\n",
      "\n",
      "G2 = (C2*(s*eye(2) - A2).inv()*B2)[0]\n",
      "G2"
     ],
     "language": "python",
     "metadata": {},
     "outputs": [
      {
       "latex": [
        "$$\\frac{1}{s} + \\frac{1}{s^{2} \\left(s - 1 - \\frac{1}{s}\\right)}$$"
       ],
       "metadata": {},
       "output_type": "pyout",
       "png": "[encoded data removed]",
       "prompt_number": 139,
       "text": [
        "1         1       \n",
        "\u2500 + \u2500\u2500\u2500\u2500\u2500\u2500\u2500\u2500\u2500\u2500\u2500\u2500\u2500\u2500\n",
        "s    2 \u239b        1\u239e\n",
        "    s \u22c5\u239cs - 1 - \u2500\u239f\n",
        "       \u239d        s\u23a0"
       ]
      }
     ],
     "prompt_number": 139
    },
    {
     "cell_type": "code",
     "collapsed": false,
     "input": [
      "ss2 = ss(A2, B2, C2, 0)\n",
      "ss2"
     ],
     "language": "python",
     "metadata": {},
     "outputs": [
      {
       "metadata": {},
       "output_type": "pyout",
       "prompt_number": 141,
       "text": [
        "A = [[0 1]\n",
        " [1 1]]\n",
        "\n",
        "B = [[1]\n",
        " [0]]\n",
        "\n",
        "C = [[1 0]]\n",
        "\n",
        "D = [[0]]"
       ]
      }
     ],
     "prompt_number": 141
    },
    {
     "cell_type": "code",
     "collapsed": false,
     "input": [
      "t2, y2 = step(ss2, t)"
     ],
     "language": "python",
     "metadata": {},
     "outputs": [
      {
       "ename": "TypeError",
       "evalue": "Cannot cast array data from dtype('O') to dtype('float64') according to the rule 'safe'",
       "output_type": "pyerr",
       "traceback": [
        "\u001b[0;31m---------------------------------------------------------------------------\u001b[0m\n\u001b[0;31mTypeError\u001b[0m                                 Traceback (most recent call last)",
        "\u001b[0;32m<ipython-input-146-d401841ac67b>\u001b[0m in \u001b[0;36m<module>\u001b[0;34m()\u001b[0m\n\u001b[0;32m----> 1\u001b[0;31m \u001b[0mt2\u001b[0m\u001b[0;34m,\u001b[0m \u001b[0my2\u001b[0m \u001b[0;34m=\u001b[0m \u001b[0mstep\u001b[0m\u001b[0;34m(\u001b[0m\u001b[0mss2\u001b[0m\u001b[0;34m,\u001b[0m \u001b[0mt\u001b[0m\u001b[0;34m)\u001b[0m\u001b[0;34m\u001b[0m\u001b[0m\n\u001b[0m",
        "\u001b[0;32m/Users/roberto/miniconda/lib/python2.7/site-packages/control/matlab.pyc\u001b[0m in \u001b[0;36mstep\u001b[0;34m(sys, T, X0, input, output, **keywords)\u001b[0m\n\u001b[1;32m   1333\u001b[0m     '''\n\u001b[1;32m   1334\u001b[0m     T, yout = timeresp.step_response(sys, T, X0, input, output,\n\u001b[0;32m-> 1335\u001b[0;31m                                    transpose = True, **keywords)\n\u001b[0m\u001b[1;32m   1336\u001b[0m     \u001b[0;32mreturn\u001b[0m \u001b[0myout\u001b[0m\u001b[0;34m,\u001b[0m \u001b[0mT\u001b[0m\u001b[0;34m\u001b[0m\u001b[0m\n\u001b[1;32m   1337\u001b[0m \u001b[0;34m\u001b[0m\u001b[0m\n",
        "\u001b[0;32m/Users/roberto/miniconda/lib/python2.7/site-packages/control/timeresp.pyc\u001b[0m in \u001b[0;36mstep_response\u001b[0;34m(sys, T, X0, input, output, transpose, **keywords)\u001b[0m\n\u001b[1;32m    480\u001b[0m \u001b[0;34m\u001b[0m\u001b[0m\n\u001b[1;32m    481\u001b[0m     T, yout, _xout = forced_response(sys, T, U, X0,\n\u001b[0;32m--> 482\u001b[0;31m                                      transpose=transpose, **keywords)\n\u001b[0m\u001b[1;32m    483\u001b[0m \u001b[0;34m\u001b[0m\u001b[0m\n\u001b[1;32m    484\u001b[0m     \u001b[0;32mreturn\u001b[0m \u001b[0mT\u001b[0m\u001b[0;34m,\u001b[0m \u001b[0myout\u001b[0m\u001b[0;34m\u001b[0m\u001b[0m\n",
        "\u001b[0;32m/Users/roberto/miniconda/lib/python2.7/site-packages/control/timeresp.pyc\u001b[0m in \u001b[0;36mforced_response\u001b[0;34m(sys, T, U, X0, transpose, **keywords)\u001b[0m\n\u001b[1;32m    370\u001b[0m                 \u001b[0;32mreturn\u001b[0m \u001b[0mdot\u001b[0m\u001b[0;34m(\u001b[0m\u001b[0mA\u001b[0m\u001b[0;34m,\u001b[0m \u001b[0mx\u001b[0m\u001b[0;34m)\u001b[0m \u001b[0;34m+\u001b[0m \u001b[0msqueeze\u001b[0m\u001b[0;34m(\u001b[0m\u001b[0mdot\u001b[0m\u001b[0;34m(\u001b[0m\u001b[0mB\u001b[0m\u001b[0;34m,\u001b[0m \u001b[0mcompute_u\u001b[0m\u001b[0;34m(\u001b[0m\u001b[0;34m[\u001b[0m\u001b[0mt\u001b[0m\u001b[0;34m]\u001b[0m\u001b[0;34m)\u001b[0m\u001b[0;34m)\u001b[0m\u001b[0;34m)\u001b[0m\u001b[0;34m\u001b[0m\u001b[0m\n\u001b[1;32m    371\u001b[0m \u001b[0;34m\u001b[0m\u001b[0m\n\u001b[0;32m--> 372\u001b[0;31m             \u001b[0mxout\u001b[0m \u001b[0;34m=\u001b[0m \u001b[0msp\u001b[0m\u001b[0;34m.\u001b[0m\u001b[0mintegrate\u001b[0m\u001b[0;34m.\u001b[0m\u001b[0modeint\u001b[0m\u001b[0;34m(\u001b[0m\u001b[0mf_dot\u001b[0m\u001b[0;34m,\u001b[0m \u001b[0mX0\u001b[0m\u001b[0;34m,\u001b[0m \u001b[0mT\u001b[0m\u001b[0;34m,\u001b[0m \u001b[0;34m**\u001b[0m\u001b[0mkeywords\u001b[0m\u001b[0;34m)\u001b[0m\u001b[0;34m\u001b[0m\u001b[0m\n\u001b[0m\u001b[1;32m    373\u001b[0m             \u001b[0myout\u001b[0m \u001b[0;34m=\u001b[0m \u001b[0mdot\u001b[0m\u001b[0;34m(\u001b[0m\u001b[0mC\u001b[0m\u001b[0;34m,\u001b[0m \u001b[0mxout\u001b[0m\u001b[0;34m.\u001b[0m\u001b[0mT\u001b[0m\u001b[0;34m)\u001b[0m \u001b[0;34m+\u001b[0m \u001b[0mdot\u001b[0m\u001b[0;34m(\u001b[0m\u001b[0mD\u001b[0m\u001b[0;34m,\u001b[0m \u001b[0mU\u001b[0m\u001b[0;34m)\u001b[0m\u001b[0;34m\u001b[0m\u001b[0m\n\u001b[1;32m    374\u001b[0m \u001b[0;34m\u001b[0m\u001b[0m\n",
        "\u001b[0;32m/Users/roberto/miniconda/lib/python2.7/site-packages/scipy/integrate/odepack.pyc\u001b[0m in \u001b[0;36modeint\u001b[0;34m(func, y0, t, args, Dfun, col_deriv, full_output, ml, mu, rtol, atol, tcrit, h0, hmax, hmin, ixpr, mxstep, mxhnil, mxordn, mxords, printmessg)\u001b[0m\n\u001b[1;32m    146\u001b[0m     output = _odepack.odeint(func, y0, t, args, Dfun, col_deriv, ml, mu,\n\u001b[1;32m    147\u001b[0m                              \u001b[0mfull_output\u001b[0m\u001b[0;34m,\u001b[0m \u001b[0mrtol\u001b[0m\u001b[0;34m,\u001b[0m \u001b[0matol\u001b[0m\u001b[0;34m,\u001b[0m \u001b[0mtcrit\u001b[0m\u001b[0;34m,\u001b[0m \u001b[0mh0\u001b[0m\u001b[0;34m,\u001b[0m \u001b[0mhmax\u001b[0m\u001b[0;34m,\u001b[0m \u001b[0mhmin\u001b[0m\u001b[0;34m,\u001b[0m\u001b[0;34m\u001b[0m\u001b[0m\n\u001b[0;32m--> 148\u001b[0;31m                              ixpr, mxstep, mxhnil, mxordn, mxords)\n\u001b[0m\u001b[1;32m    149\u001b[0m     \u001b[0;32mif\u001b[0m \u001b[0moutput\u001b[0m\u001b[0;34m[\u001b[0m\u001b[0;34m-\u001b[0m\u001b[0;36m1\u001b[0m\u001b[0;34m]\u001b[0m \u001b[0;34m<\u001b[0m \u001b[0;36m0\u001b[0m\u001b[0;34m:\u001b[0m\u001b[0;34m\u001b[0m\u001b[0m\n\u001b[1;32m    150\u001b[0m         \u001b[0;32mprint\u001b[0m\u001b[0;34m(\u001b[0m\u001b[0m_msgs\u001b[0m\u001b[0;34m[\u001b[0m\u001b[0moutput\u001b[0m\u001b[0;34m[\u001b[0m\u001b[0;34m-\u001b[0m\u001b[0;36m1\u001b[0m\u001b[0;34m]\u001b[0m\u001b[0;34m]\u001b[0m\u001b[0;34m)\u001b[0m\u001b[0;34m\u001b[0m\u001b[0m\n",
        "\u001b[0;31mTypeError\u001b[0m: Cannot cast array data from dtype('O') to dtype('float64') according to the rule 'safe'"
       ]
      }
     ],
     "prompt_number": 146
    },
    {
     "cell_type": "code",
     "collapsed": false,
     "input": [],
     "language": "python",
     "metadata": {},
     "outputs": []
    }
   ],
   "metadata": {}
  }
 ]
}