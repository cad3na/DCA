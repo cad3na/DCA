{
 "cells": [
  {
   "cell_type": "code",
   "execution_count": 1,
   "metadata": {
    "collapsed": false
   },
   "outputs": [
    {
     "data": {
      "text/html": [
       "<link href='http://fonts.googleapis.com/css?family=Inconsolata' rel='stylesheet' type='text/css'>\n",
       "<link href='http://fonts.googleapis.com/css?family=EB+Garamond' rel='stylesheet' type='text/css'>\n",
       "<link href='http://fonts.googleapis.com/css?family=Lato:100,100italic' rel='stylesheet' type='text/css'>\n",
       "\n",
       "<style>\n",
       "\t@font-face{\n",
       "   \t\tfont-family: \"Computer Modern\";\n",
       "        \tsrc: url('http://mirrors.ctan.org/fonts/cm-unicode/fonts/otf/cmunss.otf');}\n",
       "        \n",
       "\th1 {\n",
       "        \tfont-family: 'Lato', sans-serif;}\n",
       "        \n",
       "\th2 {\n",
       "        \tfont-family: 'Lato', serif;}\n",
       "        \n",
       "\th3{\n",
       "\t\tfont-family:   'Lato', serif;\n",
       "        \tmargin-top:    12px;\n",
       "\t\tmargin-bottom: 3px;}\n",
       "        \n",
       "        h4{\n",
       "\t\tfont-family: 'Lato', serif;}\n",
       "\t\n",
       "\th5 {\n",
       "        \tfont-family: 'Lato', serif;}\n",
       "    \n",
       "\tdiv.text_cell_render{\n",
       "        \tfont-family:  'EB Garamond', 'Computer Modern', 'Helvetica Neue', Arial, Helvetica, Geneva, sans-serif;\n",
       "\t        line-height:  140%;\n",
       "\t        font-size:    14pt;}\n",
       "        \n",
       "\t.CodeMirror{\n",
       "        \tfont-family: 'Inconsolata';}\n",
       "    \n",
       "\t.text_cell_render h1 {\n",
       "\t        font-weight:   100;\n",
       "\t        font-size:     50pt;\n",
       "\t\tline-height:   100%;\n",
       "\t        color:         #CD2305;\n",
       "\t        margin-bottom: 0.5em;\n",
       "\t        margin-top:    0.5em;\n",
       "\t        display:       block;}\n",
       "        \n",
       "\t.text_cell_render h2 {\n",
       "        \tfont-weight:   100;\n",
       "        \tfont-size:     30pt;}\n",
       "        \n",
       "\t.text_cell_render h3 {\n",
       "        \tfont-weight:   100;\n",
       "        \tfont-size:     20pt;}\n",
       "        \n",
       "\t.text_cell_render h4 {\n",
       "        \tfont-weight:   100;\n",
       "        \tfont-size:     16pt;}\n",
       "        \n",
       "\t.text_cell_render h5 {\n",
       "\t        font-weight:   100;\n",
       "\t        font-size:     16pt;\n",
       "\t        color:         #CD2305;\n",
       "\t        font-style:    italic;\n",
       "\t        margin-bottom: 0.5em;\n",
       "\t        margin-top:    0.5em;\n",
       "\t        display:       block;}\n",
       "        \n",
       "\t.text_cell_render h6 {\n",
       "\t        font-weight:   100;\n",
       "\t        font-size:     14pt;\n",
       "\t        color:         #CD2305;\n",
       "\t        font-style:    italic;\n",
       "\t        margin-bottom: 0.5em;\n",
       "\t        margin-top:    0.5em;\n",
       "\t        display:       block;}\n",
       "    \n",
       "\t.warning{\n",
       "\t    \tbackground-color: #fcf2f2;\n",
       "\t    \tborder-color: #dFb5b4;\n",
       "\t    \tborder-left: 5px solid #dfb5b4;\n",
       "\t    \tpadding: 0.5em;}\n",
       "</style>\n",
       "\n",
       "<script>\n",
       "\tMathJax.Hub.Config({\n",
       "        \tTeX:{extensions: [\"AMSmath.js\"]},\n",
       "\n",
       "        \tjax: [\"input/TeX\",\"output/SVG\"],\n",
       "        \tSVG: {\n",
       "        \t\tscale: 120,\n",
       "        \t\tfont: 'Gyre-Pagella'}\n",
       "        });\n",
       "</script>"
      ]
     },
     "metadata": {},
     "output_type": "display_data"
    }
   ],
   "source": [
    "from IPython.core.display import display_html\n",
    "from urllib.request import urlopen\n",
    "\n",
    "display_html(urlopen('http://bit.ly/1HflmO9').read(), raw=True)"
   ]
  },
  {
   "cell_type": "markdown",
   "metadata": {},
   "source": [
    "# Análisis de estabilidad para sistema bajo realimentación integral"
   ]
  },
  {
   "cell_type": "markdown",
   "metadata": {},
   "source": [
    "## Ejemplo 1"
   ]
  },
  {
   "cell_type": "markdown",
   "metadata": {
    "collapsed": true
   },
   "source": [
    "Dado el sistema:\n",
    "\n",
    "$$\n",
    "\\dot{x}(t) = A x(t) + B u(t - h)\n",
    "$$\n",
    "\n",
    "con la ley de control:\n",
    "\n",
    "$$\n",
    "u(t) = k \\left[ x(t) + \\int_{-h}^0 e^{-A(\\theta + h)} B u(t + \\theta) d\\theta \\right]\n",
    "$$\n",
    "\n",
    "por lo que el sistema en lazo cerrado es:\n",
    "\n",
    "$$\n",
    "\\dot{x}(t) = \\left( A + e^{-Ah} B K \\right) x(t)\n",
    "$$\n",
    "\n",
    "el sistema para el que haremos este desarrollo es:\n",
    "\n",
    "$$\n",
    "\\dot{x}(t) =\n",
    "\\begin{pmatrix}\n",
    "0 & 0 \\\\\n",
    "1 & 1\n",
    "\\end{pmatrix} x(t) +\n",
    "\\begin{pmatrix}\n",
    "1 \\\\\n",
    "0\n",
    "\\end{pmatrix} u(t - h)\n",
    "$$\n",
    "\n",
    "con $h = 1$.\n",
    "\n",
    "Calculando $e^{-A (\\theta + h)}$ tenemos:"
   ]
  },
  {
   "cell_type": "code",
   "execution_count": 2,
   "metadata": {
    "collapsed": true
   },
   "outputs": [],
   "source": [
    "from IPython.display import display\n",
    "\n",
    "from sympy import var, sin, cos, Matrix, Integer, eye, Function, Rational, exp, Symbol, I\n",
    "from sympy.physics.mechanics import mlatex, mechanics_printing\n",
    "from sympy.integrals import laplace_transform\n",
    "mechanics_printing()"
   ]
  },
  {
   "cell_type": "code",
   "execution_count": 3,
   "metadata": {
    "collapsed": false
   },
   "outputs": [
    {
     "data": {
      "image/png": "[encoded data removed]",
      "text/latex": [
       "$$\\left ( t, \\quad h, \\quad θ, \\quad s, \\quad ω\\right )$$"
      ],
      "text/plain": [
       "(t, h, θ, s, ω)"
      ]
     },
     "execution_count": 3,
     "metadata": {},
     "output_type": "execute_result"
    }
   ],
   "source": [
    "var(\"t h θ s ω\")"
   ]
  },
  {
   "cell_type": "code",
   "execution_count": 4,
   "metadata": {
    "collapsed": false
   },
   "outputs": [
    {
     "data": {
      "image/png": "[encoded data removed]",
      "text/latex": [
       "$$\\left[\\begin{matrix}0 & 0\\\\1 & 1\\end{matrix}\\right]$$"
      ],
      "text/plain": [
       "⎡0  0⎤\n",
       "⎢    ⎥\n",
       "⎣1  1⎦"
      ]
     },
     "execution_count": 4,
     "metadata": {},
     "output_type": "execute_result"
    }
   ],
   "source": [
    "A = Matrix([[0, 0], [1, 1]])\n",
    "A"
   ]
  },
  {
   "cell_type": "code",
   "execution_count": 5,
   "metadata": {
    "collapsed": false
   },
   "outputs": [
    {
     "data": {
      "image/png": "[encoded data removed]",
      "text/latex": [
       "$$\\left[\\begin{matrix}1 & 0\\\\e^{- h - θ} - 1 & e^{- h - θ}\\end{matrix}\\right]$$"
      ],
      "text/plain": [
       "⎡     1          0   ⎤\n",
       "⎢                    ⎥\n",
       "⎢ -h - θ       -h - θ⎥\n",
       "⎣ℯ       - 1  ℯ      ⎦"
      ]
     },
     "execution_count": 5,
     "metadata": {},
     "output_type": "execute_result"
    }
   ],
   "source": [
    "exp(-A*(θ+ h))"
   ]
  },
  {
   "cell_type": "markdown",
   "metadata": {},
   "source": [
    "Sustituyendo $A$, $B$ y $e^{-A(t + \\theta)}$ en $u(t)$, tenemos:\n",
    "\n",
    "$$\n",
    "\\begin{align}\n",
    "u(t) &=\n",
    "\\begin{pmatrix}\n",
    "k_1 & k_2\n",
    "\\end{pmatrix} x(t) +\n",
    "\\begin{pmatrix}\n",
    "k_1 & k_2\n",
    "\\end{pmatrix}\n",
    "\\int_{-h}^0 e^{-A(\\theta + h)} B u(t + \\theta) d\\theta \\\\\n",
    "&=\n",
    "\\begin{pmatrix}\n",
    "k_1 & k_2\n",
    "\\end{pmatrix} x(t) +\n",
    "\\begin{pmatrix}\n",
    "k_1 & k_2\n",
    "\\end{pmatrix}\n",
    "\\int_{-h}^0\n",
    "\\begin{pmatrix}\n",
    "1 & 0 \\\\\n",
    "e^{-(\\theta + h)} - 1 & e^{-(\\theta + h)}\n",
    "\\end{pmatrix}\n",
    "\\begin{pmatrix}\n",
    "1 \\\\\n",
    "0\n",
    "\\end{pmatrix}\n",
    "u(t + \\theta) d\\theta \\\\\n",
    "&=\n",
    "\\begin{pmatrix}\n",
    "k_1 & k_2\n",
    "\\end{pmatrix} x(t) +\n",
    "\\begin{pmatrix}\n",
    "k_1 & k_2\n",
    "\\end{pmatrix}\n",
    "\\int_{-h}^0\n",
    "\\begin{pmatrix}\n",
    "1 \\\\\n",
    "e^{-(\\theta + h)} - 1\n",
    "\\end{pmatrix}\n",
    "u(t + \\theta) d\\theta\n",
    "\\end{align}\n",
    "$$\n",
    "\n",
    "Sustituyendo $k_1 = 1 - 4 e^h$ y $k_2 = -4e^h$ tenemos:\n",
    "\n",
    "$$\n",
    "u(t)=\n",
    "\\begin{pmatrix}\n",
    "1 - 4 e^h & -4e^h\n",
    "\\end{pmatrix} x(t) +\n",
    "\\begin{pmatrix}\n",
    "1 - 4 e^h & -4e^h\n",
    "\\end{pmatrix}\n",
    "\\int_{-h}^0\n",
    "\\begin{pmatrix}\n",
    "1 \\\\\n",
    "e^{-(\\theta + h)} - 1\n",
    "\\end{pmatrix}\n",
    "u(t + \\theta) d\\theta\n",
    "$$\n",
    "\n",
    "y podemos meter estas ganancias a la integral, para obtener:\n",
    "\n",
    "$$\n",
    "\\begin{align}\n",
    "u(t) &=\n",
    "\\begin{pmatrix}\n",
    "1 - 4 e^h & -4e^h\n",
    "\\end{pmatrix} x(t) +\n",
    "\\int_{-h}^0\n",
    "\\left( 1 - 4e^{-\\theta} \\right)\n",
    "u(t + \\theta) d\\theta \\\\\n",
    "&=\n",
    "\\begin{pmatrix}\n",
    "1 - 4 e^h & -4e^h\n",
    "\\end{pmatrix} x(t) +\n",
    "\\int_{-h}^0 u(t + \\theta) d\\theta -\n",
    "\\int_{-h}^0 4e^{-\\theta} u(t + \\theta) d\\theta\n",
    "\\end{align}\n",
    "$$"
   ]
  },
  {
   "cell_type": "code",
   "execution_count": 6,
   "metadata": {
    "collapsed": false
   },
   "outputs": [],
   "source": [
    "B = Matrix([[1], [0]])\n",
    "K = Matrix([[1 - 4*exp(h), -4*exp(h)]])"
   ]
  },
  {
   "cell_type": "code",
   "execution_count": 7,
   "metadata": {
    "collapsed": false
   },
   "outputs": [
    {
     "data": {
      "image/png": "[encoded data removed]",
      "text/latex": [
       "$$1 - 4 e^{- θ}$$"
      ],
      "text/plain": [
       "       -θ\n",
       "1 - 4⋅ℯ  "
      ]
     },
     "execution_count": 7,
     "metadata": {},
     "output_type": "execute_result"
    }
   ],
   "source": [
    "(K*exp(-A*(θ + h))*B)[0].simplify()"
   ]
  },
  {
   "cell_type": "code",
   "execution_count": 8,
   "metadata": {
    "collapsed": true
   },
   "outputs": [],
   "source": [
    "x1 = Function(\"x1\")(t)\n",
    "x2 = Function(\"x2\")(t)\n",
    "\n",
    "X = Matrix([[x1], [x2]])\n",
    "\n",
    "u = Function(\"u\")(t + θ)"
   ]
  },
  {
   "cell_type": "code",
   "execution_count": 9,
   "metadata": {
    "collapsed": false
   },
   "outputs": [
    {
     "data": {
      "image/png": "[encoded data removed]",
      "text/latex": [
       "$$\\left[\\begin{matrix}0\\\\x_{1} + x_{2}\\end{matrix}\\right]$$"
      ],
      "text/plain": [
       "⎡   0   ⎤\n",
       "⎢       ⎥\n",
       "⎣x₁ + x₂⎦"
      ]
     },
     "execution_count": 9,
     "metadata": {},
     "output_type": "execute_result"
    }
   ],
   "source": [
    "A*X"
   ]
  },
  {
   "cell_type": "code",
   "execution_count": 10,
   "metadata": {
    "collapsed": false
   },
   "outputs": [
    {
     "data": {
      "image/png": "[encoded data removed]",
      "text/latex": [
       "$$\\int_{- h}^{0} \\left(e^{θ} - 4\\right) \\operatorname{u}\\left(t + θ\\right) e^{- θ}\\, dθ$$"
      ],
      "text/plain": [
       "0                          \n",
       "⌠                          \n",
       "⎮  ⎛ θ    ⎞           -θ   \n",
       "⎮  ⎝ℯ  - 4⎠⋅u(t + θ)⋅ℯ   dθ\n",
       "⌡                          \n",
       "-h                         "
      ]
     },
     "execution_count": 10,
     "metadata": {},
     "output_type": "execute_result"
    }
   ],
   "source": [
    "((K*exp(-A*(θ + h))*B)[0].simplify()*u).integrate((θ, -h, 0))"
   ]
  },
  {
   "cell_type": "code",
   "execution_count": 11,
   "metadata": {
    "collapsed": false
   },
   "outputs": [
    {
     "data": {
      "image/png": "[encoded data removed]",
      "text/latex": [
       "$$\\left(- 4 e^{h} + 1\\right) x_{1} - 4 x_{2} e^{h} + \\int_{- h}^{0} \\left(e^{θ} - 4\\right) \\operatorname{u}\\left(t + θ\\right) e^{- θ}\\, dθ$$"
      ],
      "text/plain": [
       "                            0                          \n",
       "                            ⌠                          \n",
       "⎛     h    ⎞            h   ⎮  ⎛ θ    ⎞           -θ   \n",
       "⎝- 4⋅ℯ  + 1⎠⋅x₁ - 4⋅x₂⋅ℯ  + ⎮  ⎝ℯ  - 4⎠⋅u(t + θ)⋅ℯ   dθ\n",
       "                            ⌡                          \n",
       "                            -h                         "
      ]
     },
     "execution_count": 11,
     "metadata": {},
     "output_type": "execute_result"
    }
   ],
   "source": [
    "(K*X)[0] + ((K*exp(-A*(θ + h))*B)[0].simplify()*u).integrate((θ, -h, 0))"
   ]
  },
  {
   "cell_type": "markdown",
   "metadata": {},
   "source": [
    "Si aplicamos la transformada de Laplace a esto, obtendremos:\n",
    "\n",
    "$$\n",
    "\\begin{align}\n",
    "u(t) - \\int_{-h}^0 u(t + \\theta) d\\theta + \\int_{-h}^0 4e^{-\\theta} u(t + \\theta) d\\theta &=\n",
    "(1 - 4 e^h) x_1(t) - 4e^h x_2(t) \\\\\n",
    "\\left[ 1 - \\frac{1 - e^{-hs}}{s} + 4 \\frac{1 - e^{-h(s-1)}}{s-1} \\right] u(s) &=\n",
    "(1 - 4 e^h) x_1(s) - 4e^h x_2(s)\n",
    "\\end{align}\n",
    "$$\n",
    "\n",
    "Por lo que el polinomio caracteristico del controlador del sistema es:\n",
    "\n",
    "$$\n",
    "1 - \\frac{1 - e^{-hs}}{s} + 4\\frac{1 - e^{-h(s-1)}}{s-1} = 0\n",
    "$$\n",
    "\n",
    "Si ahora introducimos los parametros $\\alpha_1 = k_1 - k_2 = 1$ y $\\alpha_2 = e^{-h} k_2 = -4$, este polinomio caracteristico queda de la forma:\n",
    "\n",
    "$$\n",
    "1 - \\alpha_1 \\frac{1 - e^{-hs}}{s} - \\alpha_2 \\frac{1 - e^{-h(s-1)}}{s-1} = 0\n",
    "$$\n",
    "\n",
    "Este polinomio caracteristico corresponde al controlador del sistema, por otro lado, tambien tenemos que analizar la estabilidad del sistema bajo esta realimentación, la ecuación para esto es:\n",
    "\n",
    "$$\n",
    "\\dot{x}(t) = \\left( A + e^{-Ah} B K \\right) x(t)\n",
    "$$\n",
    "\n",
    "por lo que la función de transferencia del sistema realimentado será:\n",
    "\n",
    "$$\n",
    "\\det{\\left( sI - A - e^{-Ah} B K \\right)}\n",
    "$$"
   ]
  },
  {
   "cell_type": "code",
   "execution_count": 12,
   "metadata": {
    "collapsed": false
   },
   "outputs": [
    {
     "data": {
      "image/png": "[encoded data removed]",
      "text/latex": [
       "$$s^{2} + 2 s + 1$$"
      ],
      "text/plain": [
       " 2          \n",
       "s  + 2⋅s + 1"
      ]
     },
     "execution_count": 12,
     "metadata": {},
     "output_type": "execute_result"
    }
   ],
   "source": [
    "(s*eye(2) - A - exp(-h*A)*B*K).det()"
   ]
  },
  {
   "cell_type": "markdown",
   "metadata": {},
   "source": [
    "Por lo que observamos que esta realimentación coloca dos polos en $-1$, sin embargo queremos analizar la estabilidad bajo los parametros que establecimos, por lo que notamos que este polinomio puede ser escrito como:\n",
    "\n",
    "$$\n",
    "s^2 - \\left( 1 + \\alpha_1 + \\alpha_2 \\right)s + \\alpha_1\n",
    "$$"
   ]
  },
  {
   "cell_type": "code",
   "execution_count": 13,
   "metadata": {
    "collapsed": false
   },
   "outputs": [
    {
     "data": {
      "image/png": "[encoded data removed]",
      "text/latex": [
       "$$\\left ( 1, \\quad -4\\right )$$"
      ],
      "text/plain": [
       "(1, -4)"
      ]
     },
     "execution_count": 13,
     "metadata": {},
     "output_type": "execute_result"
    }
   ],
   "source": [
    "α1, α2 = K[0] - K[1], exp(-h)*K[1]\n",
    "α1, α2"
   ]
  },
  {
   "cell_type": "code",
   "execution_count": 14,
   "metadata": {
    "collapsed": false
   },
   "outputs": [
    {
     "data": {
      "image/png": "[encoded data removed]",
      "text/latex": [
       "$$s^{2} + 2 s + 1$$"
      ],
      "text/plain": [
       " 2          \n",
       "s  + 2⋅s + 1"
      ]
     },
     "execution_count": 14,
     "metadata": {},
     "output_type": "execute_result"
    }
   ],
   "source": [
    "s**2 - (1 + α1 + α2)*s + α1"
   ]
  },
  {
   "cell_type": "markdown",
   "metadata": {},
   "source": [
    "Este polinomio caracteristico esta libre de retardos, por lo que podemos analizarlo con Routh-Hurwitz y obtener las siguientes condiciones:\n",
    "\n",
    "$$\n",
    "\\begin{align}\n",
    "\\alpha_1 &> 0 \\\\\n",
    "\\alpha_1 &< -1 - \\alpha_2\n",
    "\\end{align}\n",
    "$$\n",
    "\n",
    "Por otro lado, si hacemos un analisis de D-particiones, al sustituir $s = 0$ y $s = j \\omega$ obtenemos que:\n",
    "\n",
    "$$\n",
    "\\begin{align}\n",
    "\\alpha_1 &= 0 \\\\\n",
    "\\alpha_1 &= -1 - \\alpha_2\n",
    "\\end{align}\n",
    "$$"
   ]
  },
  {
   "cell_type": "code",
   "execution_count": 15,
   "metadata": {
    "collapsed": false
   },
   "outputs": [
    {
     "data": {
      "image/png": "[encoded data removed]",
      "text/latex": [
       "$$\\left ( α_{1}, \\quad α_{2}, \\quad ω\\right )$$"
      ],
      "text/plain": [
       "(α₁, α₂, ω)"
      ]
     },
     "execution_count": 15,
     "metadata": {},
     "output_type": "execute_result"
    }
   ],
   "source": [
    "var(\"α_1 α_2 ω\")"
   ]
  },
  {
   "cell_type": "code",
   "execution_count": 16,
   "metadata": {
    "collapsed": false
   },
   "outputs": [
    {
     "data": {
      "image/png": "[encoded data removed]",
      "text/latex": [
       "$$α_{1}$$"
      ],
      "text/plain": [
       "α₁"
      ]
     },
     "execution_count": 16,
     "metadata": {},
     "output_type": "execute_result"
    }
   ],
   "source": [
    "(s**2 - (1 + α_1 + α_2)*s + α_1).subs(s, 0)"
   ]
  },
  {
   "cell_type": "code",
   "execution_count": 17,
   "metadata": {
    "collapsed": false
   },
   "outputs": [
    {
     "data": {
      "image/png": "[encoded data removed]",
      "text/latex": [
       "$$α_{1} + α_{2} + 1$$"
      ],
      "text/plain": [
       "α₁ + α₂ + 1"
      ]
     },
     "execution_count": 17,
     "metadata": {},
     "output_type": "execute_result"
    }
   ],
   "source": [
    "(s**2 - (1 + α_1 + α_2)*s + α_1).subs(s, 1j*ω).coeff(-1j*ω)"
   ]
  },
  {
   "cell_type": "markdown",
   "metadata": {},
   "source": [
    "Lo cual es consistente con los resultados de Routh-Hurwitz. Al graficar estas curvas limite de las D-particiones, obtenemos:"
   ]
  },
  {
   "cell_type": "code",
   "execution_count": 18,
   "metadata": {
    "collapsed": true
   },
   "outputs": [],
   "source": [
    "from numpy import linspace, zeros"
   ]
  },
  {
   "cell_type": "code",
   "execution_count": 19,
   "metadata": {
    "collapsed": true
   },
   "outputs": [],
   "source": [
    "%matplotlib inline\n",
    "from matplotlib.pyplot import plot, style, figure, legend, fill\n",
    "style.use(\"ggplot\")"
   ]
  },
  {
   "cell_type": "code",
   "execution_count": 20,
   "metadata": {
    "collapsed": true
   },
   "outputs": [],
   "source": [
    "x = linspace(-4, -1, 100)\n",
    "alpha1 = linspace(-4, 4, 100)\n",
    "alpha2 = -alpha1 - 1"
   ]
  },
  {
   "cell_type": "code",
   "execution_count": 21,
   "metadata": {
    "collapsed": false
   },
   "outputs": [
    {
     "data": {
      "image/png": "[encoded data removed]",
      "text/plain": [
       "<matplotlib.figure.Figure at 0x10999c1d0>"
      ]
     },
     "metadata": {},
     "output_type": "display_data"
    }
   ],
   "source": [
    "f = figure(figsize=(8, 8))\n",
    "plot(zeros(len(alpha1)), alpha1)\n",
    "plot(alpha1, alpha2)\n",
    "\n",
    "ax = f.gca()\n",
    "ax.set_xlim(-3, 3)\n",
    "ax.set_ylim(-3, 3)\n",
    "\n",
    "ax.fill_betweenx(alpha2, 0, alpha1, where=alpha1>0, alpha=0.3, facecolor='purple')\n",
    "\n",
    "ax.set_xlabel(r\"$α_1$\", fontsize=20)\n",
    "ax.set_ylabel(r\"$α_2$\", fontsize=20);"
   ]
  },
  {
   "cell_type": "markdown",
   "metadata": {},
   "source": [
    "## Ejemplo 2"
   ]
  },
  {
   "cell_type": "markdown",
   "metadata": {},
   "source": [
    "Para el sistema:\n",
    "\n",
    "$$\n",
    "\\dot{x}(t) =\n",
    "\\begin{pmatrix}\n",
    "0 & 1 \\\\\n",
    "0 & 0\n",
    "\\end{pmatrix}\n",
    "x(t) +\n",
    "\\begin{pmatrix}\n",
    "0 \\\\\n",
    "1\n",
    "\\end{pmatrix}\n",
    "u(t - h)\n",
    "$$\n",
    "\n",
    "con $h = 1$."
   ]
  },
  {
   "cell_type": "code",
   "execution_count": 22,
   "metadata": {
    "collapsed": false
   },
   "outputs": [
    {
     "data": {
      "image/png": "[encoded data removed]",
      "text/latex": [
       "$$\\left ( k_{1}, \\quad k_{2}\\right )$$"
      ],
      "text/plain": [
       "(k₁, k₂)"
      ]
     },
     "execution_count": 22,
     "metadata": {},
     "output_type": "execute_result"
    }
   ],
   "source": [
    "var(\"k1 k2\")"
   ]
  },
  {
   "cell_type": "code",
   "execution_count": 23,
   "metadata": {
    "collapsed": true
   },
   "outputs": [],
   "source": [
    "A1 = Matrix([[0, 1], [0, 0]])\n",
    "B1 = Matrix([[0], [1]])\n",
    "K1 = Matrix([[k1, k2]])"
   ]
  },
  {
   "cell_type": "markdown",
   "metadata": {},
   "source": [
    "Tiene un polinomio caracteristico:"
   ]
  },
  {
   "cell_type": "code",
   "execution_count": 24,
   "metadata": {
    "collapsed": false
   },
   "outputs": [
    {
     "data": {
      "image/png": "[encoded data removed]",
      "text/latex": [
       "$$- k_{1} + s^{2} + s \\left(h k_{1} - k_{2}\\right)$$"
      ],
      "text/plain": [
       "       2                \n",
       "-k₁ + s  + s⋅(h⋅k₁ - k₂)"
      ]
     },
     "execution_count": 24,
     "metadata": {},
     "output_type": "execute_result"
    }
   ],
   "source": [
    "((s*eye(2) - A1 - exp(-A1*h)*B1*K1).det()).collect(s)"
   ]
  },
  {
   "cell_type": "markdown",
   "metadata": {},
   "source": [
    "o bien:\n",
    "\n",
    "$$\n",
    "s^2 +  \\left( h k_1 - k_2 \\right) s - k_1\n",
    "$$\n",
    "\n",
    "Al cual podemos aplicar el criterio de estabilidad de Routh-Hurwitz y obtener:\n",
    "\n",
    "$$\n",
    "\\begin{align}\n",
    "k_1 &< 0 \\\\\n",
    "k_2 &< h k_1\n",
    "\\end{align}\n",
    "$$\n",
    "\n",
    "Por lo que la gráfica de D-particiones se verá:"
   ]
  },
  {
   "cell_type": "code",
   "execution_count": 25,
   "metadata": {
    "collapsed": false
   },
   "outputs": [],
   "source": [
    "h = 1\n",
    "x = linspace(-4, -1, 100)\n",
    "K_1 = linspace(-4, 4, 100)\n",
    "K_2 = h*K_1"
   ]
  },
  {
   "cell_type": "code",
   "execution_count": 26,
   "metadata": {
    "collapsed": false
   },
   "outputs": [
    {
     "data": {
      "image/png": "[encoded data removed]",
      "text/plain": [
       "<matplotlib.figure.Figure at 0x109a7f390>"
      ]
     },
     "metadata": {},
     "output_type": "display_data"
    }
   ],
   "source": [
    "f = figure(figsize=(8, 8))\n",
    "plot(zeros(len(K_1)), K_1)\n",
    "plot(K_1, K_2)\n",
    "\n",
    "ax = f.gca()\n",
    "ax.set_xlim(-3, 3)\n",
    "ax.set_ylim(-3, 3)\n",
    "\n",
    "ax.fill_betweenx(K_2, 0, K_1, where=K_1<0, alpha=0.3, facecolor='green')\n",
    "\n",
    "ax.set_xlabel(r\"$k_1$\", fontsize=20)\n",
    "ax.set_ylabel(r\"$k_2$\", fontsize=20);"
   ]
  },
  {
   "cell_type": "markdown",
   "metadata": {},
   "source": [
    "Por otro lado, para analizar el comportamiento del controlador, sustituimos los datos en la ecuación del controlador:\n",
    "\n",
    "$$\n",
    "\\begin{align}\n",
    "u(t) &=\n",
    "\\begin{pmatrix}\n",
    "k_1 & k_2\n",
    "\\end{pmatrix} x(t) +\n",
    "\\begin{pmatrix}\n",
    "k_1 & k_2\n",
    "\\end{pmatrix}\n",
    "\\int_{-h}^0 e^{-A(\\theta + h)} B u(t + \\theta) d\\theta \\\\\n",
    "&=\n",
    "\\begin{pmatrix}\n",
    "k_1 & k_2\n",
    "\\end{pmatrix}\n",
    "\\begin{pmatrix}\n",
    "x_1(t) \\\\\n",
    "x_2(t)\n",
    "\\end{pmatrix} +\n",
    "\\begin{pmatrix}\n",
    "k_1 & k_2\n",
    "\\end{pmatrix}\n",
    "\\int_{-h}^0 e^{-A(\\theta + h)} B u(t + \\theta) d\\theta \\\\\n",
    "\\end{align}\n",
    "$$"
   ]
  },
  {
   "cell_type": "code",
   "execution_count": 27,
   "metadata": {
    "collapsed": false
   },
   "outputs": [
    {
     "data": {
      "image/png": "[encoded data removed]",
      "text/latex": [
       "$$\\left[\\begin{matrix}1 & - θ - 1\\\\0 & 1\\end{matrix}\\right]$$"
      ],
      "text/plain": [
       "⎡1  -θ - 1⎤\n",
       "⎢         ⎥\n",
       "⎣0    1   ⎦"
      ]
     },
     "execution_count": 27,
     "metadata": {},
     "output_type": "execute_result"
    }
   ],
   "source": [
    "exp(-A1*(θ + h))"
   ]
  },
  {
   "cell_type": "markdown",
   "metadata": {},
   "source": [
    "$$\n",
    "\\begin{align}\n",
    "u(t) &=\n",
    "\\begin{pmatrix}\n",
    "k_1 & k_2\n",
    "\\end{pmatrix}\n",
    "\\begin{pmatrix}\n",
    "x_1(t) \\\\\n",
    "x_2(t)\n",
    "\\end{pmatrix} +\n",
    "\\int_{-h}^0\n",
    "\\begin{pmatrix}\n",
    "k_1 & k_2\n",
    "\\end{pmatrix}\n",
    "\\begin{pmatrix}\n",
    "1 & - (\\theta  +h) \\\\\n",
    "0 & 1\n",
    "\\end{pmatrix}\n",
    "\\begin{pmatrix}\n",
    "0 \\\\\n",
    "1\n",
    "\\end{pmatrix} u(t + \\theta) d\\theta \\\\\n",
    "&= k_1 x_1(t) + k_2 x_2(t) - \\int_{-h}^0 k_1 \\theta u(t + \\theta) d\\theta - \\int_{-h}^0 k_1 h u(t + \\theta) d\\theta + \\int_{-h}^0 k_2 u(t + \\theta) d\\theta \\\\\n",
    "\\end{align}\n",
    "$$\n",
    "\n",
    "y al aplicar la transformada de Laplace, tenemos:\n",
    "\n",
    "$$\n",
    "u(s) = k_1 x_1(s) + k_2 x_2(s) - k_1 \\left( 1 - e^{-hs} \\right) u(s) - k_1 h \\frac{1 - e^{-hs}}{s} u(s) + k_2 \\frac{1 - e^{-hs}}{s} u(s)\n",
    "$$\n",
    "\n",
    "por lo que al pasar a un solo lado todos los terminos de $u(s)$:\n",
    "\n",
    "$$\n",
    "\\left[ 1 + k_1 \\left( 1 - e^{-hs} \\right) + k_1 h \\frac{1 - e^{-hs}}{s} - k_2 \\frac{1 - e^{-hs}}{s} \\right] u(s) = k_1 x_1(s) + k_2 x_2(s)\n",
    "$$\n",
    "\n",
    "obtenemos el polinomio caracteristico de la ecuación de control:\n",
    "\n",
    "$$\n",
    "1 + k_1 \\left( 1 - e^{-hs} \\right) + k_1 h \\frac{1 - e^{-hs}}{s} - k_2 \\frac{1 - e^{-hs}}{s}\n",
    "$$\n",
    "\n",
    "y al sustituir $s = j \\omega$, obtendremos dos ecuaciones, correspondientes a la parte real e imaginaria:\n",
    "\n",
    "$$\n",
    "\\begin{align}\n",
    "k_1 \\left[ h (1 - \\cos{(\\omega h)}) - \\omega \\sin{(\\omega h)} \\right] - k_2 \\left[ 1 - \\cos{(\\omega h)} \\right] &= 0 \\\\\n",
    "\\omega + k_1 \\left[ \\omega (1 - \\cos{(\\omega h)}) - h \\sin{(\\omega h)} \\right] - k_2 \\sin{(\\omega h)} &= 0 \\\\\n",
    "\\end{align}\n",
    "$$\n",
    "\n",
    "por lo que podemos despejar $k_2$ de ambas ecuaciones y obtener:\n",
    "\n",
    "$$\n",
    "k_2 = \\frac{k_1 \\left[ h (1 - \\cos{(\\omega h)}) - \\omega \\sin{(\\omega h)} \\right]}{1 - \\cos{(\\omega h)}} = \\frac{k_1 \\left[ \\omega (1 - \\cos{(\\omega h)}) - h \\sin{(\\omega h)} \\right] + \\omega}{\\sin{(\\omega h)}}\n",
    "$$\n",
    "\n",
    "y haciendo un poco de algebra, podemos obtener:\n",
    "\n",
    "$$\n",
    "\\begin{align}\n",
    "\\frac{k_1 \\left[ h (1 - \\cos{(\\omega h)}) - \\omega \\sin{(\\omega h)} \\right] \\sin{(\\omega h)}}{1 - \\cos{(\\omega h)}} - k_1 \\left[ \\omega (1 - \\cos{(\\omega h)}) - h \\sin{(\\omega h)} \\right] &= \\omega \\\\\n",
    "\\frac{k_1 h (1 - \\cos{(\\omega h)}) \\sin{(\\omega h)}}{1 - \\cos{(\\omega h)}} - \\frac{k_1 \\omega \\sin^2{(\\omega h)}}{1 - \\cos{(\\omega h)}} - k_1 \\omega (1 - \\cos{(\\omega h)}) - k_1 h \\sin{(\\omega h)} &= \\omega\n",
    "\\end{align}\n",
    "$$\n",
    "\n",
    "$$\n",
    "\\begin{align}\n",
    "- \\frac{k_1 \\omega \\sin^2{(\\omega h)}}{1 - \\cos{(\\omega h)}} - k_1 \\omega (1 - \\cos{(\\omega h)}) &= \\omega \\\\\n",
    "- k_1 \\omega \\frac{ \\sin^2{(\\omega h)} + (1 - \\cos{(\\omega h)})^2}{1 - \\cos{(\\omega h)}} &= \\omega \\\\\n",
    "k_1 \\frac{ \\sin^2{(\\omega h)} + (1 - \\cos{(\\omega h)})^2}{1 - \\cos{(\\omega h)}} &= -1 \\\\\n",
    "k_1 \\frac{ \\sin^2{(\\omega h)} + 1 + \\cos^2{(\\omega h)} - 2\\cos{(\\omega h)}}{1 - \\cos{(\\omega h)}} &= -1 \\\\\n",
    "k_1 \\frac{ 2 - 2\\cos{(\\omega h)}}{1 - \\cos{(\\omega h)}} &= -1 \\\\\n",
    "k_1 &= - \\frac{1}{2}\n",
    "\\end{align}\n",
    "$$\n",
    "\n",
    "por otro lado, podemos reducir aun mas la expresión para $k_2$:\n",
    "\n",
    "$$\n",
    "k_2 = \\frac{k_1 \\left[ h (1 - \\cos{(\\omega h)}) - \\omega \\sin{(\\omega h)} \\right]}{1 - \\cos{(\\omega h)}} = k_1 \\left[ h - \\frac{\\omega \\sin{(\\omega h)}}{1 - \\cos{\\omega h}} \\right]\n",
    "$$\n",
    "\n",
    "Si sustituimos un punto a la derecha de esta curva, $(k_1, k_2) = (0, 0)$, podemos ver que el polinomio caracteristico es trivialmente estable por el criterio de Routh-Hurwitz:\n",
    "\n",
    "$$\n",
    "P(s) = 1\n",
    "$$\n",
    "\n",
    "por lo que la gráfica de D-particiones para el controlador queda:"
   ]
  },
  {
   "cell_type": "code",
   "execution_count": 28,
   "metadata": {
    "collapsed": true
   },
   "outputs": [],
   "source": [
    "def par1(ω, h):\n",
    "    from numpy import sin, cos\n",
    "    num = -1.0\n",
    "    den = 2.0\n",
    "    return num/den\n",
    "    \n",
    "def par2(ω, h):\n",
    "    from numpy import sin, cos\n",
    "    num = h - ω*sin(ω*h)/(1 - cos(ω*h))\n",
    "    den = 2.0\n",
    "    return num/den"
   ]
  },
  {
   "cell_type": "code",
   "execution_count": 29,
   "metadata": {
    "collapsed": true
   },
   "outputs": [],
   "source": [
    "from numpy import pi"
   ]
  },
  {
   "cell_type": "code",
   "execution_count": 30,
   "metadata": {
    "collapsed": false
   },
   "outputs": [
    {
     "name": "stderr",
     "output_type": "stream",
     "text": [
      "/Users/roberto/miniconda3/lib/python3.4/site-packages/IPython/kernel/__main__.py:9: RuntimeWarning: divide by zero encountered in double_scalars\n"
     ]
    }
   ],
   "source": [
    "τ = 2*pi\n",
    "k_1 = [par1(om, 1.0) for om in linspace(-2*τ, 2*τ, 100)]\n",
    "k_2 = [par2(om, 1.0) for om in linspace(-2*τ, 2*τ, 100)]"
   ]
  },
  {
   "cell_type": "code",
   "execution_count": 31,
   "metadata": {
    "collapsed": false
   },
   "outputs": [
    {
     "data": {
      "image/png": "[encoded data removed]",
      "text/plain": [
       "<matplotlib.figure.Figure at 0x109ebef98>"
      ]
     },
     "metadata": {},
     "output_type": "display_data"
    }
   ],
   "source": [
    "f = figure(figsize=(8, 8))\n",
    "plot(k_1, k_2)\n",
    "\n",
    "ax = f.gca()\n",
    "ax.set_xlim(-3, 3)\n",
    "ax.set_ylim(-3, 3)\n",
    "\n",
    "ax.axvspan(-0.5, 3, alpha=0.3, color='orange')\n",
    "\n",
    "ax.set_xlabel(r\"$k_1$\", fontsize=20)\n",
    "ax.set_ylabel(r\"$k_2$\", fontsize=20);"
   ]
  },
  {
   "cell_type": "markdown",
   "metadata": {},
   "source": [
    "Y el sistema con este controlador será estable para los valores de $k_1$ y $k_2$ escogidos tal que se encuentren en la intersección de estas dos regiones:"
   ]
  },
  {
   "cell_type": "code",
   "execution_count": 32,
   "metadata": {
    "collapsed": false
   },
   "outputs": [
    {
     "data": {
      "image/png": "[encoded data removed]",
      "text/plain": [
       "<matplotlib.figure.Figure at 0x109ebe940>"
      ]
     },
     "metadata": {},
     "output_type": "display_data"
    }
   ],
   "source": [
    "f = figure(figsize=(8, 8))\n",
    "plot(zeros(len(K_1)), K_1)\n",
    "plot(K_1, K_2)\n",
    "plot(k_1, k_2)\n",
    "\n",
    "ax = f.gca()\n",
    "ax.set_xlim(-3, 3)\n",
    "ax.set_ylim(-3, 3)\n",
    "\n",
    "ax.fill_betweenx(K_2, 0, K_1, where=K_1<0, alpha=0.4, facecolor='green')\n",
    "ax.axvspan(-0.5, 3, alpha=0.3, color='orange')\n",
    "\n",
    "ax.set_xlabel(r\"$k_1$\", fontsize=20)\n",
    "ax.set_ylabel(r\"$k_2$\", fontsize=20);"
   ]
  },
  {
   "cell_type": "markdown",
   "metadata": {},
   "source": [
    "Puedes acceder a este notebook a traves de la página\n",
    "\n",
    "http://bit.ly/1B705kd\n",
    "\n",
    "o escaneando el siguiente código:\n",
    "\n",
    "![Codigo](codigos/codigo10.jpg)"
   ]
  },
  {
   "cell_type": "code",
   "execution_count": 33,
   "metadata": {
    "collapsed": false
   },
   "outputs": [],
   "source": [
    "# Codigo para generar codigo :)\n",
    "from qrcode import make\n",
    "img = make(\"http://bit.ly/1B705kd\")\n",
    "img.save(\"codigos/codigo10.jpg\")"
   ]
  }
 ],
 "metadata": {
  "kernelspec": {
   "display_name": "Python 3",
   "language": "python",
   "name": "python3"
  },
  "language_info": {
   "codemirror_mode": {
    "name": "ipython",
    "version": 3
   },
   "file_extension": ".py",
   "mimetype": "text/x-python",
   "name": "python",
   "nbconvert_exporter": "python",
   "pygments_lexer": "ipython3",
   "version": "3.4.3"
  }
 },
 "nbformat": 4,
 "nbformat_minor": 0
}
