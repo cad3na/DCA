{
 "cells": [
  {
   "cell_type": "code",
   "execution_count": 1,
   "metadata": {
    "collapsed": false
   },
   "outputs": [
    {
     "data": {
      "text/html": [
       "<link href='http://fonts.googleapis.com/css?family=Inconsolata' rel='stylesheet' type='text/css'>\n",
       "<link href='http://fonts.googleapis.com/css?family=EB+Garamond' rel='stylesheet' type='text/css'>\n",
       "<link href='http://fonts.googleapis.com/css?family=Lato:100,100italic' rel='stylesheet' type='text/css'>\n",
       "\n",
       "<style>\n",
       "\t@font-face{\n",
       "   \t\tfont-family: \"Computer Modern\";\n",
       "        \tsrc: url('http://mirrors.ctan.org/fonts/cm-unicode/fonts/otf/cmunss.otf');}\n",
       "        \n",
       "\th1 {\n",
       "        \tfont-family: 'Lato', sans-serif;}\n",
       "        \n",
       "\th2 {\n",
       "        \tfont-family: 'Lato', serif;}\n",
       "        \n",
       "\th3{\n",
       "\t\tfont-family:   'Lato', serif;\n",
       "        \tmargin-top:    12px;\n",
       "\t\tmargin-bottom: 3px;}\n",
       "        \n",
       "        h4{\n",
       "\t\tfont-family: 'Lato', serif;}\n",
       "\t\n",
       "\th5 {\n",
       "        \tfont-family: 'Lato', serif;}\n",
       "    \n",
       "\tdiv.text_cell_render{\n",
       "        \tfont-family:  'EB Garamond', 'Computer Modern', 'Helvetica Neue', Arial, Helvetica, Geneva, sans-serif;\n",
       "\t        line-height:  140%;\n",
       "\t        font-size:    14pt;}\n",
       "        \n",
       "\t.CodeMirror{\n",
       "        \tfont-family: 'Inconsolata';}\n",
       "    \n",
       "\t.text_cell_render h1 {\n",
       "\t        font-weight:   100;\n",
       "\t        font-size:     50pt;\n",
       "\t\tline-height:   100%;\n",
       "\t        color:         #CD2305;\n",
       "\t        margin-bottom: 0.5em;\n",
       "\t        margin-top:    0.5em;\n",
       "\t        display:       block;}\n",
       "        \n",
       "\t.text_cell_render h2 {\n",
       "        \tfont-weight:   100;\n",
       "        \tfont-size:     30pt;}\n",
       "        \n",
       "\t.text_cell_render h3 {\n",
       "        \tfont-weight:   100;\n",
       "        \tfont-size:     20pt;}\n",
       "        \n",
       "\t.text_cell_render h4 {\n",
       "        \tfont-weight:   100;\n",
       "        \tfont-size:     16pt;}\n",
       "        \n",
       "\t.text_cell_render h5 {\n",
       "\t        font-weight:   100;\n",
       "\t        font-size:     16pt;\n",
       "\t        color:         #CD2305;\n",
       "\t        font-style:    italic;\n",
       "\t        margin-bottom: 0.5em;\n",
       "\t        margin-top:    0.5em;\n",
       "\t        display:       block;}\n",
       "        \n",
       "\t.text_cell_render h6 {\n",
       "\t        font-weight:   100;\n",
       "\t        font-size:     14pt;\n",
       "\t        color:         #CD2305;\n",
       "\t        font-style:    italic;\n",
       "\t        margin-bottom: 0.5em;\n",
       "\t        margin-top:    0.5em;\n",
       "\t        display:       block;}\n",
       "    \n",
       "\t.warning{\n",
       "\t    \tbackground-color: #fcf2f2;\n",
       "\t    \tborder-color: #dFb5b4;\n",
       "\t    \tborder-left: 5px solid #dfb5b4;\n",
       "\t    \tpadding: 0.5em;}\n",
       "</style>\n",
       "\n",
       "<script>\n",
       "\tMathJax.Hub.Config({\n",
       "        \tTeX:{extensions: [\"AMSmath.js\"]},\n",
       "\n",
       "        \tjax: [\"input/TeX\",\"output/SVG\"],\n",
       "        \tSVG: {\n",
       "        \t\tscale: 120,\n",
       "        \t\tfont: 'Gyre-Pagella'}\n",
       "        });\n",
       "</script>"
      ]
     },
     "metadata": {},
     "output_type": "display_data"
    }
   ],
   "source": [
    "from IPython.core.display import display_html\n",
    "from urllib.request import urlopen\n",
    "\n",
    "display_html(urlopen('http://bit.ly/1HflmO9').read(), raw=True)"
   ]
  },
  {
   "cell_type": "markdown",
   "metadata": {},
   "source": [
    "# Análisis de estabilidad para sistema bajo realimentación integral"
   ]
  },
  {
   "cell_type": "markdown",
   "metadata": {
    "collapsed": true
   },
   "source": [
    "Dado el sistema:\n",
    "\n",
    "$$\n",
    "\\dot{x}(t) = A x(t) + B u(t - h)\n",
    "$$\n",
    "\n",
    "con la ley de control:\n",
    "\n",
    "$$\n",
    "u(t) = k \\left[ x(t) + \\int_{-h}^0 e^{-A(\\theta + h)} B u(t + \\theta) d\\theta \\right]\n",
    "$$\n",
    "\n",
    "por lo que el sistema en lazo cerrado es:\n",
    "\n",
    "$$\n",
    "\\dot{x}(t) = \\left( A + e^{-Ah} B K \\right) x(t)\n",
    "$$\n",
    "\n",
    "el sistema para el que haremos este desarrollo es:\n",
    "\n",
    "$$\n",
    "\\dot{x}(t) =\n",
    "\\begin{pmatrix}\n",
    "0 & 0 \\\\\n",
    "1 & 1\n",
    "\\end{pmatrix} x(t) +\n",
    "\\begin{pmatrix}\n",
    "1 \\\\\n",
    "0\n",
    "\\end{pmatrix} u(t - h)\n",
    "$$\n",
    "\n",
    "con $h = 1$.\n",
    "\n",
    "Calculando $e^{-A (\\theta + h)}$ tenemos:"
   ]
  },
  {
   "cell_type": "code",
   "execution_count": 41,
   "metadata": {
    "collapsed": true
   },
   "outputs": [],
   "source": [
    "from IPython.display import display\n",
    "\n",
    "from sympy import var, sin, cos, Matrix, Integer, eye, Function, Rational, exp, Symbol, I\n",
    "from sympy.physics.mechanics import mlatex, mechanics_printing\n",
    "from sympy.integrals import laplace_transform\n",
    "mechanics_printing()"
   ]
  },
  {
   "cell_type": "code",
   "execution_count": 35,
   "metadata": {
    "collapsed": false
   },
   "outputs": [
    {
     "data": {
      "image/png": "[encoded data removed]",
      "text/latex": [
       "$$\\left ( t, \\quad h, \\quad θ, \\quad τ, \\quad s, \\quad ω\\right )$$"
      ],
      "text/plain": [
       "(t, h, θ, τ, s, ω)"
      ]
     },
     "execution_count": 35,
     "metadata": {},
     "output_type": "execute_result"
    }
   ],
   "source": [
    "var(\"t h θ τ s ω\")"
   ]
  },
  {
   "cell_type": "code",
   "execution_count": 35,
   "metadata": {
    "collapsed": false
   },
   "outputs": [
    {
     "data": {
      "image/png": "[encoded data removed]",
      "text/latex": [
       "$$\\left[\\begin{matrix}0 & 0\\\\1 & 1\\end{matrix}\\right]$$"
      ],
      "text/plain": [
       "⎡0  0⎤\n",
       "⎢    ⎥\n",
       "⎣1  1⎦"
      ]
     },
     "execution_count": 35,
     "metadata": {},
     "output_type": "execute_result"
    }
   ],
   "source": [
    "A = Matrix([[0, 0], [1, 1]])\n",
    "A"
   ]
  },
  {
   "cell_type": "code",
   "execution_count": 64,
   "metadata": {
    "collapsed": false
   },
   "outputs": [
    {
     "data": {
      "image/png": "[encoded data removed]",
      "text/latex": [
       "$$\\left[\\begin{matrix}1 & 0\\\\e^{- h - θ} - 1 & e^{- h - θ}\\end{matrix}\\right]$$"
      ],
      "text/plain": [
       "⎡     1          0   ⎤\n",
       "⎢                    ⎥\n",
       "⎢ -h - θ       -h - θ⎥\n",
       "⎣ℯ       - 1  ℯ      ⎦"
      ]
     },
     "execution_count": 64,
     "metadata": {},
     "output_type": "execute_result"
    }
   ],
   "source": [
    "exp(-A*(θ+ h))"
   ]
  },
  {
   "cell_type": "markdown",
   "metadata": {},
   "source": [
    "Sustituyendo $A$, $B$ y $e^{-A(t + \\theta)}$ en $u(t)$, tenemos:\n",
    "\n",
    "$$\n",
    "\\begin{align}\n",
    "u(t) &=\n",
    "\\begin{pmatrix}\n",
    "k_1 & k_2\n",
    "\\end{pmatrix} x(t) +\n",
    "\\begin{pmatrix}\n",
    "k_1 & k_2\n",
    "\\end{pmatrix}\n",
    "\\int_{-h}^0 e^{-A(\\theta + h)} B u(t + \\theta) d\\theta \\\\\n",
    "&=\n",
    "\\begin{pmatrix}\n",
    "k_1 & k_2\n",
    "\\end{pmatrix} x(t) +\n",
    "\\begin{pmatrix}\n",
    "k_1 & k_2\n",
    "\\end{pmatrix}\n",
    "\\int_{-h}^0\n",
    "\\begin{pmatrix}\n",
    "1 & 0 \\\\\n",
    "e^{-(\\theta + h)} - 1 & e^{-(\\theta + h)}\n",
    "\\end{pmatrix}\n",
    "\\begin{pmatrix}\n",
    "1 \\\\\n",
    "0\n",
    "\\end{pmatrix}\n",
    "u(t + \\theta) d\\theta \\\\\n",
    "&=\n",
    "\\begin{pmatrix}\n",
    "k_1 & k_2\n",
    "\\end{pmatrix} x(t) +\n",
    "\\begin{pmatrix}\n",
    "k_1 & k_2\n",
    "\\end{pmatrix}\n",
    "\\int_{-h}^0\n",
    "\\begin{pmatrix}\n",
    "1 \\\\\n",
    "e^{-(\\theta + h)} - 1\n",
    "\\end{pmatrix}\n",
    "u(t + \\theta) d\\theta\n",
    "\\end{align}\n",
    "$$\n",
    "\n",
    "Sustituyendo $k_1 = 1 - 4 e^h$ y $k_2 = -4e^h$ tenemos:\n",
    "\n",
    "$$\n",
    "u(t)=\n",
    "\\begin{pmatrix}\n",
    "1 - 4 e^h & -4e^h\n",
    "\\end{pmatrix} x(t) +\n",
    "\\begin{pmatrix}\n",
    "1 - 4 e^h & -4e^h\n",
    "\\end{pmatrix}\n",
    "\\int_{-h}^0\n",
    "\\begin{pmatrix}\n",
    "1 \\\\\n",
    "e^{-(\\theta + h)} - 1\n",
    "\\end{pmatrix}\n",
    "u(t + \\theta) d\\theta\n",
    "$$\n",
    "\n",
    "y podemos meter estas ganancias a la integral, para obtener:\n",
    "\n",
    "$$\n",
    "\\begin{align}\n",
    "u(t) &=\n",
    "\\begin{pmatrix}\n",
    "1 - 4 e^h & -4e^h\n",
    "\\end{pmatrix} x(t) +\n",
    "\\int_{-h}^0\n",
    "\\left( 1 - 4e^{-\\theta} \\right)\n",
    "u(t + \\theta) d\\theta \\\\\n",
    "&=\n",
    "\\begin{pmatrix}\n",
    "1 - 4 e^h & -4e^h\n",
    "\\end{pmatrix} x(t) +\n",
    "\\int_{-h}^0 u(t + \\theta) d\\theta -\n",
    "\\int_{-h}^0 4e^{-\\theta} u(t + \\theta) d\\theta\n",
    "\\end{align}\n",
    "$$"
   ]
  },
  {
   "cell_type": "code",
   "execution_count": 68,
   "metadata": {
    "collapsed": false
   },
   "outputs": [],
   "source": [
    "B = Matrix([[1], [0]])\n",
    "K = Matrix([[1 - 4*exp(h), -4*exp(h)]])"
   ]
  },
  {
   "cell_type": "code",
   "execution_count": 69,
   "metadata": {
    "collapsed": false
   },
   "outputs": [
    {
     "data": {
      "image/png": "[encoded data removed]",
      "text/latex": [
       "$$1 - 4 e^{- θ}$$"
      ],
      "text/plain": [
       "       -θ\n",
       "1 - 4⋅ℯ  "
      ]
     },
     "execution_count": 69,
     "metadata": {},
     "output_type": "execute_result"
    }
   ],
   "source": [
    "(K*exp(-A*(θ + h))*B)[0].simplify()"
   ]
  },
  {
   "cell_type": "code",
   "execution_count": 18,
   "metadata": {
    "collapsed": true
   },
   "outputs": [],
   "source": [
    "x1 = Function(\"x1\")(t)\n",
    "x2 = Function(\"x2\")(t)\n",
    "\n",
    "X = Matrix([[x1], [x2]])\n",
    "\n",
    "u = Function(\"u\")(t + θ)"
   ]
  },
  {
   "cell_type": "code",
   "execution_count": 57,
   "metadata": {
    "collapsed": false
   },
   "outputs": [
    {
     "data": {
      "image/png": "[encoded data removed]",
      "text/latex": [
       "$$\\left[\\begin{matrix}0\\\\x_{1} + x_{2}\\end{matrix}\\right]$$"
      ],
      "text/plain": [
       "⎡   0   ⎤\n",
       "⎢       ⎥\n",
       "⎣x₁ + x₂⎦"
      ]
     },
     "execution_count": 57,
     "metadata": {},
     "output_type": "execute_result"
    }
   ],
   "source": [
    "A*X"
   ]
  },
  {
   "cell_type": "code",
   "execution_count": 76,
   "metadata": {
    "collapsed": false
   },
   "outputs": [
    {
     "data": {
      "image/png": "[encoded data removed]",
      "text/latex": [
       "$$\\int_{- h}^{0} \\left(e^{θ} - 4\\right) \\operatorname{u}\\left(t + θ\\right) e^{- θ}\\, dθ$$"
      ],
      "text/plain": [
       "0                          \n",
       "⌠                          \n",
       "⎮  ⎛ θ    ⎞           -θ   \n",
       "⎮  ⎝ℯ  - 4⎠⋅u(t + θ)⋅ℯ   dθ\n",
       "⌡                          \n",
       "-h                         "
      ]
     },
     "execution_count": 76,
     "metadata": {},
     "output_type": "execute_result"
    }
   ],
   "source": [
    "((K*exp(-A*(θ + h))*B)[0].simplify()*u).integrate((θ, -h, 0))"
   ]
  },
  {
   "cell_type": "code",
   "execution_count": 87,
   "metadata": {
    "collapsed": false
   },
   "outputs": [
    {
     "data": {
      "image/png": "[encoded data removed]",
      "text/latex": [
       "$$\\left(- 4 e^{h} + 1\\right) x_{1} - 4 x_{2} e^{h} + \\int_{- h}^{0} \\left(e^{θ} - 4\\right) \\operatorname{u}\\left(t + θ\\right) e^{- θ}\\, dθ$$"
      ],
      "text/plain": [
       "                            0                          \n",
       "                            ⌠                          \n",
       "⎛     h    ⎞            h   ⎮  ⎛ θ    ⎞           -θ   \n",
       "⎝- 4⋅ℯ  + 1⎠⋅x₁ - 4⋅x₂⋅ℯ  + ⎮  ⎝ℯ  - 4⎠⋅u(t + θ)⋅ℯ   dθ\n",
       "                            ⌡                          \n",
       "                            -h                         "
      ]
     },
     "execution_count": 87,
     "metadata": {},
     "output_type": "execute_result"
    }
   ],
   "source": [
    "(K*X)[0] + ((K*exp(-A*(θ + h))*B)[0].simplify()*u).integrate((θ, -h, 0))"
   ]
  },
  {
   "cell_type": "markdown",
   "metadata": {},
   "source": [
    "Si aplicamos la transformada de Laplace a esto, obtendremos:\n",
    "\n",
    "$$\n",
    "\\begin{align}\n",
    "u(t) - \\int_{-h}^0 u(t + \\theta) d\\theta + \\int_{-h}^0 4e^{-\\theta} u(t + \\theta) d\\theta &=\n",
    "(1 - 4 e^h) x_1(t) - 4e^h x_2(t) \\\\\n",
    "\\left[ 1 - \\frac{1 - e^{-hs}}{s} + 4 \\frac{1 - e^{-h(s-1)}}{s-1} \\right] u(s) &=\n",
    "(1 - 4 e^h) x_1(s) - 4e^h x_2(s)\n",
    "\\end{align}\n",
    "$$\n",
    "\n",
    "Por lo que el polinomio caracteristico del controlador del sistema es:\n",
    "\n",
    "$$\n",
    "1 - \\frac{1 - e^{-hs}}{s} + 4\\frac{1 - e^{-h(s-1)}}{s-1} = 0\n",
    "$$\n",
    "\n",
    "Si ahora introducimos los parametros $\\alpha_1 = k_1 - k_2 = 1$ y $\\alpha_2 = e^{-h} k_2 = -4$, este polinomio caracteristico queda de la forma:\n",
    "\n",
    "$$\n",
    "1 - \\alpha_1 \\frac{1 - e^{-hs}}{s} - \\alpha_2 \\frac{1 - e^{-h(s-1)}}{s-1} = 0\n",
    "$$\n",
    "\n",
    "Este polinomio caracteristico corresponde al controlador del sistema, por otro lado, tambien tenemos que analizar la estabilidad del sistema bajo esta realimentación, la ecuación para esto es:\n",
    "\n",
    "$$\n",
    "\\dot{x}(t) = \\left( A + e^{-Ah} B K \\right) x(t)\n",
    "$$\n",
    "\n",
    "por lo que la función de transferencia del sistema realimentado será:\n",
    "\n",
    "$$\n",
    "\\det{\\left( sI - A - e^{-Ah} B K \\right)}\n",
    "$$"
   ]
  },
  {
   "cell_type": "code",
   "execution_count": 101,
   "metadata": {
    "collapsed": false
   },
   "outputs": [
    {
     "data": {
      "image/png": "[encoded data removed]",
      "text/latex": [
       "$$s^{2} + 2 s + 1$$"
      ],
      "text/plain": [
       " 2          \n",
       "s  + 2⋅s + 1"
      ]
     },
     "execution_count": 101,
     "metadata": {},
     "output_type": "execute_result"
    }
   ],
   "source": [
    "(s*eye(2) - A - exp(-h*A)*B*K).det()"
   ]
  },
  {
   "cell_type": "markdown",
   "metadata": {},
   "source": [
    "Por lo que observamos que esta realimentación coloca dos polos en $-1$, sin embargo queremos analizar la estabilidad bajo los parametros que establecimos, por lo que notamos que este polinomio puede ser escrito como:\n",
    "\n",
    "$$\n",
    "s^2 - \\left( 1 + \\alpha_1 + \\alpha_2 \\right)s + \\alpha_1\n",
    "$$"
   ]
  },
  {
   "cell_type": "code",
   "execution_count": 90,
   "metadata": {
    "collapsed": false
   },
   "outputs": [
    {
     "data": {
      "image/png": "[encoded data removed]",
      "text/latex": [
       "$$\\left ( 1, \\quad -4\\right )$$"
      ],
      "text/plain": [
       "(1, -4)"
      ]
     },
     "execution_count": 90,
     "metadata": {},
     "output_type": "execute_result"
    }
   ],
   "source": [
    "α1, α2 = K[0] - K[1], exp(-h)*K[1]\n",
    "α1, α2"
   ]
  },
  {
   "cell_type": "code",
   "execution_count": 103,
   "metadata": {
    "collapsed": false
   },
   "outputs": [
    {
     "data": {
      "image/png": "[encoded data removed]",
      "text/latex": [
       "$$s^{2} + 2 s + 1$$"
      ],
      "text/plain": [
       " 2          \n",
       "s  + 2⋅s + 1"
      ]
     },
     "execution_count": 103,
     "metadata": {},
     "output_type": "execute_result"
    }
   ],
   "source": [
    "s**2 - (1 + α1 + α2)*s + α1"
   ]
  },
  {
   "cell_type": "markdown",
   "metadata": {},
   "source": [
    "Este polinomio caracteristico esta libre de retardos, por lo que podemos analizarlo con Routh-Hurwitz y obtener las siguientes condiciones:\n",
    "\n",
    "$$\n",
    "\\begin{align}\n",
    "\\alpha_1 &> 0 \\\\\n",
    "\\alpha_1 &< -1 - \\alpha_2\n",
    "\\end{align}\n",
    "$$\n",
    "\n",
    "Por otro lado, si hacemos un analisis de D-particiones, al sustituir $s = 0$ y $s = j \\omega$ obtenemos que:\n",
    "\n",
    "$$\n",
    "\\begin{align}\n",
    "\\alpha_1 &= 0 \\\\\n",
    "\\alpha_1 &= -1 - \\alpha_2\n",
    "\\end{align}\n",
    "$$"
   ]
  },
  {
   "cell_type": "code",
   "execution_count": 108,
   "metadata": {
    "collapsed": false
   },
   "outputs": [
    {
     "data": {
      "image/png": "[encoded data removed]",
      "text/latex": [
       "$$\\left ( α_{1}, \\quad α_{2}, \\quad ω\\right )$$"
      ],
      "text/plain": [
       "(α₁, α₂, ω)"
      ]
     },
     "execution_count": 108,
     "metadata": {},
     "output_type": "execute_result"
    }
   ],
   "source": [
    "var(\"α_1 α_2 ω\")"
   ]
  },
  {
   "cell_type": "code",
   "execution_count": 107,
   "metadata": {
    "collapsed": false
   },
   "outputs": [
    {
     "data": {
      "image/png": "[encoded data removed]",
      "text/latex": [
       "$$α_{1}$$"
      ],
      "text/plain": [
       "α₁"
      ]
     },
     "execution_count": 107,
     "metadata": {},
     "output_type": "execute_result"
    }
   ],
   "source": [
    "(s**2 - (1 + α_1 + α_2)*s + α_1).subs(s, 0)"
   ]
  },
  {
   "cell_type": "code",
   "execution_count": 113,
   "metadata": {
    "collapsed": false
   },
   "outputs": [
    {
     "data": {
      "image/png": "[encoded data removed]",
      "text/latex": [
       "$$α_{1} + α_{2} + 1$$"
      ],
      "text/plain": [
       "α₁ + α₂ + 1"
      ]
     },
     "execution_count": 113,
     "metadata": {},
     "output_type": "execute_result"
    }
   ],
   "source": [
    "(s**2 - (1 + α_1 + α_2)*s + α_1).subs(s, 1j*ω).coeff(-1j*ω)"
   ]
  },
  {
   "cell_type": "markdown",
   "metadata": {},
   "source": [
    "Lo cual es consistente con los resultados de Routh-Hurwitz. Al graficar estas curvas limite de las D-particiones, obtenemos:"
   ]
  },
  {
   "cell_type": "code",
   "execution_count": 117,
   "metadata": {
    "collapsed": true
   },
   "outputs": [],
   "source": [
    "from numpy import linspace, zeros"
   ]
  },
  {
   "cell_type": "code",
   "execution_count": 138,
   "metadata": {
    "collapsed": true
   },
   "outputs": [],
   "source": [
    "%matplotlib inline\n",
    "from matplotlib.pyplot import plot, style, figure, legend, fill\n",
    "style.use(\"ggplot\")"
   ]
  },
  {
   "cell_type": "code",
   "execution_count": 128,
   "metadata": {
    "collapsed": true
   },
   "outputs": [],
   "source": [
    "x = linspace(-4, -1, 100)\n",
    "alpha1 = linspace(-4, 4, 100)\n",
    "alpha2 = -alpha1 - 1"
   ]
  },
  {
   "cell_type": "code",
   "execution_count": 177,
   "metadata": {
    "collapsed": false
   },
   "outputs": [
    {
     "data": {
      "image/png": "[encoded data removed]",
      "text/plain": [
       "<matplotlib.figure.Figure at 0x10c5a6e48>"
      ]
     },
     "metadata": {},
     "output_type": "display_data"
    }
   ],
   "source": [
    "f = figure(figsize=(8, 8))\n",
    "plot(zeros(len(alpha1)), alpha1)\n",
    "plot(alpha1, alpha2)\n",
    "\n",
    "ax = f.gca()\n",
    "ax.set_xlim(-3, 3)\n",
    "ax.set_ylim(-3, 3)\n",
    "\n",
    "ax.fill_betweenx(alpha2, 0, alpha1, where=alpha1>0, alpha=0.4, facecolor='orange')\n",
    "\n",
    "ax.set_xlabel(r\"$α_1$\", fontsize=20)\n",
    "ax.set_ylabel(r\"$α_2$\", fontsize=20);"
   ]
  },
  {
   "cell_type": "markdown",
   "metadata": {},
   "source": [
    "$$\n",
    "s^2 - s - \\alpha_1 s + \\alpha_1 s e^{-hs} + \\alpha_1 - \\alpha_1 e^{-hs}\n",
    "-\\alpha_2 s + \\alpha_2 s e^{-hs}e^h\n",
    "$$"
   ]
  },
  {
   "cell_type": "code",
   "execution_count": 179,
   "metadata": {
    "collapsed": false
   },
   "outputs": [
    {
     "data": {
      "image/png": "[encoded data removed]",
      "text/latex": [
       "$$s^{2} - s α_{1} + s α_{1} e^{- h s} + s α_{2} e^{h} e^{- h s} - s α_{2} - s + α_{1} - α_{1} e^{- h s}$$"
      ],
      "text/plain": [
       " 2                -h⋅s         h  -h⋅s                       -h⋅s\n",
       "s  - s⋅α₁ + s⋅α₁⋅ℯ     + s⋅α₂⋅ℯ ⋅ℯ     - s⋅α₂ - s + α₁ - α₁⋅ℯ    "
      ]
     },
     "execution_count": 179,
     "metadata": {},
     "output_type": "execute_result"
    }
   ],
   "source": [
    "s**2 - s - α_1*s + α_1*s*exp(-h*s) + α_1 - α_1*exp(-h*s) - α_2*s + α_2*s*exp(-h*s)*exp(h)"
   ]
  },
  {
   "cell_type": "code",
   "execution_count": 178,
   "metadata": {
    "collapsed": false
   },
   "outputs": [
    {
     "data": {
      "image/png": "[encoded data removed]",
      "text/latex": [
       "$$0$$"
      ],
      "text/plain": [
       "0"
      ]
     },
     "execution_count": 178,
     "metadata": {},
     "output_type": "execute_result"
    }
   ],
   "source": [
    "(s**2 - s - α_1*s + α_1*s*exp(-h*s) + α_1 - α_1*exp(-h*s) - α_2*s + α_2*s*exp(-h*s)*exp(h)).subs(s, 0)"
   ]
  },
  {
   "cell_type": "code",
   "execution_count": 158,
   "metadata": {
    "collapsed": false
   },
   "outputs": [],
   "source": [
    "pol = (s**2 - s - α_1*s + α_1*s*exp(-h*s) + α_1 - α_1*exp(-h*s) - α_2*s + α_2*s*exp(-h*s)*exp(h)).subs(s, 1j*ω)"
   ]
  },
  {
   "cell_type": "code",
   "execution_count": 175,
   "metadata": {
    "collapsed": false
   },
   "outputs": [
    {
     "data": {
      "image/png": "[encoded data removed]",
      "text/latex": [
       "$$e^{1.0 \\Re{h} \\Im{ω}} e^{1.0 \\Re{ω} \\Im{h}} e^{\\Re{h}} \\operatorname{sin}\\left(1.0 \\Re{h} \\Re{ω} - 1.0 \\Im{h} \\Im{ω}\\right) \\operatorname{sin}\\left(\\Im{h}\\right) \\Re{α_{2}} \\Re{ω} - e^{1.0 \\Re{h} \\Im{ω}} e^{1.0 \\Re{ω} \\Im{h}} e^{\\Re{h}} \\operatorname{sin}\\left(1.0 \\Re{h} \\Re{ω} - 1.0 \\Im{h} \\Im{ω}\\right) \\operatorname{sin}\\left(\\Im{h}\\right) \\Im{α_{2}} \\Im{ω} + e^{1.0 \\Re{h} \\Im{ω}} e^{1.0 \\Re{ω} \\Im{h}} e^{\\Re{h}} \\operatorname{sin}\\left(1.0 \\Re{h} \\Re{ω} - 1.0 \\Im{h} \\Im{ω}\\right) \\operatorname{cos}\\left(\\Im{h}\\right) \\Re{α_{2}} \\Im{ω} + e^{1.0 \\Re{h} \\Im{ω}} e^{1.0 \\Re{ω} \\Im{h}} e^{\\Re{h}} \\operatorname{sin}\\left(1.0 \\Re{h} \\Re{ω} - 1.0 \\Im{h} \\Im{ω}\\right) \\operatorname{cos}\\left(\\Im{h}\\right) \\Re{ω} \\Im{α_{2}} - e^{1.0 \\Re{h} \\Im{ω}} e^{1.0 \\Re{ω} \\Im{h}} e^{\\Re{h}} \\operatorname{sin}\\left(\\Im{h}\\right) \\operatorname{cos}\\left(1.0 \\Re{h} \\Re{ω} - 1.0 \\Im{h} \\Im{ω}\\right) \\Re{α_{2}} \\Im{ω} - e^{1.0 \\Re{h} \\Im{ω}} e^{1.0 \\Re{ω} \\Im{h}} e^{\\Re{h}} \\operatorname{sin}\\left(\\Im{h}\\right) \\operatorname{cos}\\left(1.0 \\Re{h} \\Re{ω} - 1.0 \\Im{h} \\Im{ω}\\right) \\Re{ω} \\Im{α_{2}} + e^{1.0 \\Re{h} \\Im{ω}} e^{1.0 \\Re{ω} \\Im{h}} e^{\\Re{h}} \\operatorname{cos}\\left(1.0 \\Re{h} \\Re{ω} - 1.0 \\Im{h} \\Im{ω}\\right) \\operatorname{cos}\\left(\\Im{h}\\right) \\Re{α_{2}} \\Re{ω} - e^{1.0 \\Re{h} \\Im{ω}} e^{1.0 \\Re{ω} \\Im{h}} e^{\\Re{h}} \\operatorname{cos}\\left(1.0 \\Re{h} \\Re{ω} - 1.0 \\Im{h} \\Im{ω}\\right) \\operatorname{cos}\\left(\\Im{h}\\right) \\Im{α_{2}} \\Im{ω} + e^{1.0 \\Re{h} \\Im{ω}} e^{1.0 \\Re{ω} \\Im{h}} \\operatorname{sin}\\left(1.0 \\Re{h} \\Re{ω} - 1.0 \\Im{h} \\Im{ω}\\right) \\Re{α_{1}} \\Im{ω} + e^{1.0 \\Re{h} \\Im{ω}} e^{1.0 \\Re{ω} \\Im{h}} \\operatorname{sin}\\left(1.0 \\Re{h} \\Re{ω} - 1.0 \\Im{h} \\Im{ω}\\right) \\Re{ω} \\Im{α_{1}} + e^{1.0 \\Re{h} \\Im{ω}} e^{1.0 \\Re{ω} \\Im{h}} \\operatorname{cos}\\left(1.0 \\Re{h} \\Re{ω} - 1.0 \\Im{h} \\Im{ω}\\right) \\Re{α_{1}} \\Re{ω} - e^{1.0 \\Re{h} \\Im{ω}} e^{1.0 \\Re{ω} \\Im{h}} \\operatorname{cos}\\left(1.0 \\Re{h} \\Re{ω} - 1.0 \\Im{h} \\Im{ω}\\right) \\Im{α_{1}} \\Im{ω} - \\Re{α_{1}} \\Re{ω} - \\Re{α_{2}} \\Re{ω} - \\Re{ω} + \\Im{α_{1}} \\Im{ω} + \\Im{α_{2}} \\Im{ω}$$"
      ],
      "text/plain": [
       " 1.0⋅re(h)⋅im(ω)  1.0⋅re(ω)⋅im(h)  re(h)                                      \n",
       "ℯ               ⋅ℯ               ⋅ℯ     ⋅sin(1.0⋅re(h)⋅re(ω) - - -1.0⋅im(h)⋅im\n",
       "\n",
       "                                1.0⋅re(h)⋅im(ω)  1.0⋅re(ω)⋅im(h)  re(h)       \n",
       "(ω))⋅sin(im(h))⋅re(α₂)⋅re(ω) - ℯ               ⋅ℯ               ⋅ℯ     ⋅sin(1.\n",
       "\n",
       "                                                               1.0⋅re(h)⋅im(ω)\n",
       "0⋅re(h)⋅re(ω) - - -1.0⋅im(h)⋅im(ω))⋅sin(im(h))⋅im(α₂)⋅im(ω) + ℯ               \n",
       "\n",
       "  1.0⋅re(ω)⋅im(h)  re(h)                                                      \n",
       "⋅ℯ               ⋅ℯ     ⋅sin(1.0⋅re(h)⋅re(ω) - - -1.0⋅im(h)⋅im(ω))⋅cos(im(h))⋅\n",
       "\n",
       "                1.0⋅re(h)⋅im(ω)  1.0⋅re(ω)⋅im(h)  re(h)                       \n",
       "re(α₂)⋅im(ω) + ℯ               ⋅ℯ               ⋅ℯ     ⋅sin(1.0⋅re(h)⋅re(ω) - \n",
       "\n",
       "                                               1.0⋅re(h)⋅im(ω)  1.0⋅re(ω)⋅im(h\n",
       "- -1.0⋅im(h)⋅im(ω))⋅cos(im(h))⋅re(ω)⋅im(α₂) - ℯ               ⋅ℯ              \n",
       "\n",
       ")  re(h)                                                                      \n",
       " ⋅ℯ     ⋅sin(im(h))⋅cos(1.0⋅re(h)⋅re(ω) - - -1.0⋅im(h)⋅im(ω))⋅re(α₂)⋅im(ω) - ℯ\n",
       "\n",
       "1.0⋅re(h)⋅im(ω)  1.0⋅re(ω)⋅im(h)  re(h)                                       \n",
       "               ⋅ℯ               ⋅ℯ     ⋅sin(im(h))⋅cos(1.0⋅re(h)⋅re(ω) - - -1.\n",
       "\n",
       "                               1.0⋅re(h)⋅im(ω)  1.0⋅re(ω)⋅im(h)  re(h)        \n",
       "0⋅im(h)⋅im(ω))⋅re(ω)⋅im(α₂) + ℯ               ⋅ℯ               ⋅ℯ     ⋅cos(1.0\n",
       "\n",
       "                                                              1.0⋅re(h)⋅im(ω) \n",
       "⋅re(h)⋅re(ω) - - -1.0⋅im(h)⋅im(ω))⋅cos(im(h))⋅re(α₂)⋅re(ω) - ℯ               ⋅\n",
       "\n",
       " 1.0⋅re(ω)⋅im(h)  re(h)                                                       \n",
       "ℯ               ⋅ℯ     ⋅cos(1.0⋅re(h)⋅re(ω) - - -1.0⋅im(h)⋅im(ω))⋅cos(im(h))⋅i\n",
       "\n",
       "               1.0⋅re(h)⋅im(ω)  1.0⋅re(ω)⋅im(h)                               \n",
       "m(α₂)⋅im(ω) + ℯ               ⋅ℯ               ⋅sin(1.0⋅re(h)⋅re(ω) - - -1.0⋅i\n",
       "\n",
       "                            1.0⋅re(h)⋅im(ω)  1.0⋅re(ω)⋅im(h)                  \n",
       "m(h)⋅im(ω))⋅re(α₁)⋅im(ω) + ℯ               ⋅ℯ               ⋅sin(1.0⋅re(h)⋅re(\n",
       "\n",
       "                                         1.0⋅re(h)⋅im(ω)  1.0⋅re(ω)⋅im(h)     \n",
       "ω) - - -1.0⋅im(h)⋅im(ω))⋅re(ω)⋅im(α₁) + ℯ               ⋅ℯ               ⋅cos(\n",
       "\n",
       "                                                      1.0⋅re(h)⋅im(ω)  1.0⋅re(\n",
       "1.0⋅re(h)⋅re(ω) - - -1.0⋅im(h)⋅im(ω))⋅re(α₁)⋅re(ω) - ℯ               ⋅ℯ       \n",
       "\n",
       "ω)⋅im(h)                                                                      \n",
       "        ⋅cos(1.0⋅re(h)⋅re(ω) - - -1.0⋅im(h)⋅im(ω))⋅im(α₁)⋅im(ω) - re(α₁)⋅re(ω)\n",
       "\n",
       "                                                     \n",
       " - re(α₂)⋅re(ω) - re(ω) + im(α₁)⋅im(ω) + im(α₂)⋅im(ω)"
      ]
     },
     "execution_count": 175,
     "metadata": {},
     "output_type": "execute_result"
    }
   ],
   "source": [
    "(pol).expand(complex=True).coeff(1j)"
   ]
  },
  {
   "cell_type": "code",
   "execution_count": 65,
   "metadata": {
    "collapsed": false
   },
   "outputs": [],
   "source": [
    "h = Symbol(\"h\", imaginary=False, real=True)\n",
    "ω = Symbol(\"ω\", imaginary=False, real=True)\n",
    "k_1 = Symbol(\"k_1\", imaginary=False, real=True)\n",
    "k_2 = Symbol(\"k_2\", imaginary=False, real=True)"
   ]
  },
  {
   "cell_type": "markdown",
   "metadata": {},
   "source": [
    "Para el sistema:\n",
    "\n",
    "$$\n",
    "\\dot{x}(t) =\n",
    "\\begin{pmatrix}\n",
    "0 & 1 \\\\\n",
    "0 & 0\n",
    "\\end{pmatrix}\n",
    "x(t) +\n",
    "\\begin{pmatrix}\n",
    "0 \\\\\n",
    "1\n",
    "\\end{pmatrix}\n",
    "u(t - h)\n",
    "$$\n",
    "\n",
    "con $h = 1$."
   ]
  },
  {
   "cell_type": "code",
   "execution_count": 3,
   "metadata": {
    "collapsed": false
   },
   "outputs": [
    {
     "data": {
      "image/png": "[encoded data removed]",
      "text/latex": [
       "$$\\left ( k_{1}, \\quad k_{2}\\right )$$"
      ],
      "text/plain": [
       "(k₁, k₂)"
      ]
     },
     "execution_count": 3,
     "metadata": {},
     "output_type": "execute_result"
    }
   ],
   "source": [
    "var(\"k1 k2\")"
   ]
  },
  {
   "cell_type": "code",
   "execution_count": 55,
   "metadata": {
    "collapsed": true
   },
   "outputs": [],
   "source": [
    "A1 = Matrix([[0, 1], [0, 0]])\n",
    "B1 = Matrix([[0], [1]])\n",
    "K1 = Matrix([[k_1, k_2]])"
   ]
  },
  {
   "cell_type": "code",
   "execution_count": 5,
   "metadata": {
    "collapsed": false
   },
   "outputs": [
    {
     "data": {
      "image/png": "[encoded data removed]",
      "text/latex": [
       "$$\\left[\\begin{matrix}1 & - h - θ\\\\0 & 1\\end{matrix}\\right]$$"
      ],
      "text/plain": [
       "⎡1  -h - θ⎤\n",
       "⎢         ⎥\n",
       "⎣0    1   ⎦"
      ]
     },
     "execution_count": 5,
     "metadata": {},
     "output_type": "execute_result"
    }
   ],
   "source": [
    "exp(-A1*(θ + h))"
   ]
  },
  {
   "cell_type": "code",
   "execution_count": 16,
   "metadata": {
    "collapsed": false
   },
   "outputs": [
    {
     "data": {
      "image/png": "[encoded data removed]",
      "text/latex": [
       "$$h k_{1} s - k_{1} - k_{2} s + s^{2}$$"
      ],
      "text/plain": [
       "                      2\n",
       "h⋅k₁⋅s - k₁ - k₂⋅s + s "
      ]
     },
     "execution_count": 16,
     "metadata": {},
     "output_type": "execute_result"
    }
   ],
   "source": [
    "(s*eye(2) - A1 - exp(-A1*h)*B1*K1).det()"
   ]
  },
  {
   "cell_type": "code",
   "execution_count": 15,
   "metadata": {
    "collapsed": false
   },
   "outputs": [
    {
     "data": {
      "image/png": "[encoded data removed]",
      "text/latex": [
       "$$\\left[\\begin{matrix}- h k_{1} & - h k_{2}\\\\k_{1} & k_{2}\\end{matrix}\\right]$$"
      ],
      "text/plain": [
       "⎡-h⋅k₁  -h⋅k₂⎤\n",
       "⎢            ⎥\n",
       "⎣ k₁     k₂  ⎦"
      ]
     },
     "execution_count": 15,
     "metadata": {},
     "output_type": "execute_result"
    }
   ],
   "source": [
    "exp(-A1*h)*B1*K1"
   ]
  },
  {
   "cell_type": "markdown",
   "metadata": {},
   "source": [
    "$$\n",
    "u(t) = k \\left[ x(t) + \\int_{-h}^0 e^{-A(\\theta + h)} B u(t + \\theta) d\\theta \\right]\n",
    "$$"
   ]
  },
  {
   "cell_type": "code",
   "execution_count": 31,
   "metadata": {
    "collapsed": false
   },
   "outputs": [
    {
     "data": {
      "image/png": "[encoded data removed]",
      "text/latex": [
       "$$- \\mathcal{L}_{t}\\left[\\int_{- h}^{0} - k_{2} \\operatorname{u}\\left(t + θ\\right)\\, dθ\\right]\\left(s\\right) - \\mathcal{L}_{t}\\left[\\int_{- h}^{0} h k_{1} \\operatorname{u}\\left(t + θ\\right)\\, dθ\\right]\\left(s\\right) - \\mathcal{L}_{t}\\left[\\int_{- h}^{0} k_{1} θ \\operatorname{u}\\left(t + θ\\right)\\, dθ\\right]\\left(s\\right)$$"
      ],
      "text/plain": [
       "                  ⎛0                       ⎞                   ⎛0             \n",
       "                  ⎜⌠                       ⎟                   ⎜⌠             \n",
       "- LaplaceTransform⎜⎮  -k₂⋅u(t + θ) dθ, t, s⎟ - LaplaceTransform⎜⎮  h⋅k₁⋅u(t + \n",
       "                  ⎜⌡                       ⎟                   ⎜⌡             \n",
       "                  ⎝-h                      ⎠                   ⎝-h            \n",
       "\n",
       "           ⎞                   ⎛0                        ⎞\n",
       "           ⎟                   ⎜⌠                        ⎟\n",
       "θ) dθ, t, s⎟ - LaplaceTransform⎜⎮  k₁⋅θ⋅u(t + θ) dθ, t, s⎟\n",
       "           ⎟                   ⎜⌡                        ⎟\n",
       "           ⎠                   ⎝-h                       ⎠"
      ]
     },
     "execution_count": 31,
     "metadata": {},
     "output_type": "execute_result"
    }
   ],
   "source": [
    "laplace_transform((K1*exp(-A1*(θ + h))*B1*u)[0].integrate((θ, -h, 0)), t, s)"
   ]
  },
  {
   "cell_type": "code",
   "execution_count": 56,
   "metadata": {
    "collapsed": false
   },
   "outputs": [
    {
     "data": {
      "image/png": "[encoded data removed]",
      "text/latex": [
       "$$s \\left(k_{1} \\left(1 - e^{- h s}\\right) + 1\\right) + \\left(1 - e^{- h s}\\right) \\left(h k_{1} - k_{2}\\right)$$"
      ],
      "text/plain": [
       "  ⎛   ⎛     -h⋅s⎞    ⎞   ⎛     -h⋅s⎞            \n",
       "s⋅⎝k₁⋅⎝1 - ℯ    ⎠ + 1⎠ + ⎝1 - ℯ    ⎠⋅(h⋅k₁ - k₂)"
      ]
     },
     "execution_count": 56,
     "metadata": {},
     "output_type": "execute_result"
    }
   ],
   "source": [
    "s*(1 + k_1*(1 - exp(-h*s))) + (k_1*h - k_2)*(1 - exp(-h*s))"
   ]
  },
  {
   "cell_type": "code",
   "execution_count": 66,
   "metadata": {
    "collapsed": false
   },
   "outputs": [],
   "source": [
    "r, i = (s*(1 + k_1*(1 - exp(-h*s))) + (k_1*h - k_2)*(1 - exp(-h*s))).subs(s, I*ω).expand().as_real_imag()"
   ]
  },
  {
   "cell_type": "code",
   "execution_count": 67,
   "metadata": {
    "collapsed": false
   },
   "outputs": [
    {
     "data": {
      "image/png": "[encoded data removed]",
      "text/latex": [
       "$$- h k_{1} \\operatorname{cos}\\left(h ω\\right) + h k_{1} - k_{1} ω \\operatorname{sin}\\left(h ω\\right) + k_{2} \\operatorname{cos}\\left(h ω\\right) - k_{2}$$"
      ],
      "text/plain": [
       "-h⋅k₁⋅cos(h⋅ω) + h⋅k₁ - k₁⋅ω⋅sin(h⋅ω) + k₂⋅cos(h⋅ω) - k₂"
      ]
     },
     "execution_count": 67,
     "metadata": {},
     "output_type": "execute_result"
    }
   ],
   "source": [
    "r"
   ]
  },
  {
   "cell_type": "code",
   "execution_count": 68,
   "metadata": {
    "collapsed": false
   },
   "outputs": [
    {
     "data": {
      "image/png": "[encoded data removed]",
      "text/latex": [
       "$$h k_{1} \\operatorname{sin}\\left(h ω\\right) - k_{1} ω \\operatorname{cos}\\left(h ω\\right) + k_{1} ω - k_{2} \\operatorname{sin}\\left(h ω\\right) + ω$$"
      ],
      "text/plain": [
       "h⋅k₁⋅sin(h⋅ω) - k₁⋅ω⋅cos(h⋅ω) + k₁⋅ω - k₂⋅sin(h⋅ω) + ω"
      ]
     },
     "execution_count": 68,
     "metadata": {},
     "output_type": "execute_result"
    }
   ],
   "source": [
    "i"
   ]
  },
  {
   "cell_type": "code",
   "execution_count": 61,
   "metadata": {
    "collapsed": false
   },
   "outputs": [
    {
     "data": {
      "image/png": "[encoded data removed]",
      "text/latex": [
       "$$\\left ( e^{- h \\Re{s}} \\operatorname{cos}\\left(h \\Im{s}\\right), \\quad - e^{- h \\Re{s}} \\operatorname{sin}\\left(h \\Im{s}\\right)\\right )$$"
      ],
      "text/plain": [
       "⎛ -h⋅re(s)                 -h⋅re(s)             ⎞\n",
       "⎝ℯ        ⋅cos(h⋅im(s)), -ℯ        ⋅sin(h⋅im(s))⎠"
      ]
     },
     "execution_count": 61,
     "metadata": {},
     "output_type": "execute_result"
    }
   ],
   "source": [
    "exp(-h*s).as_real_imag()"
   ]
  },
  {
   "cell_type": "code",
   "execution_count": 74,
   "metadata": {
    "collapsed": false
   },
   "outputs": [
    {
     "data": {
      "image/png": "[encoded data removed]",
      "text/latex": [
       "$$- 2 h^{2} k_{1}^{2} + 4 h k_{1} k_{2} - 2 k_{1}^{2} ω^{2} - 2 k_{1} ω^{2} - 2 k_{2}^{2}$$"
      ],
      "text/plain": [
       "     2   2                   2  2         2       2\n",
       "- 2⋅h ⋅k₁  + 4⋅h⋅k₁⋅k₂ - 2⋅k₁ ⋅ω  - 2⋅k₁⋅ω  - 2⋅k₂ "
      ]
     },
     "execution_count": 74,
     "metadata": {},
     "output_type": "execute_result"
    }
   ],
   "source": [
    "a = (r**2 + i**2).expand().simplify().coeff(cos(h*ω))\n",
    "a"
   ]
  },
  {
   "cell_type": "code",
   "execution_count": 75,
   "metadata": {
    "collapsed": false
   },
   "outputs": [
    {
     "data": {
      "image/png": "[encoded data removed]",
      "text/latex": [
       "$$2 h k_{1} ω - 2 k_{2} ω$$"
      ],
      "text/plain": [
       "2⋅h⋅k₁⋅ω - 2⋅k₂⋅ω"
      ]
     },
     "execution_count": 75,
     "metadata": {},
     "output_type": "execute_result"
    }
   ],
   "source": [
    "b = (r**2 + i**2).expand().simplify().coeff(sin(h*ω))\n",
    "b"
   ]
  },
  {
   "cell_type": "code",
   "execution_count": 77,
   "metadata": {
    "collapsed": false
   },
   "outputs": [
    {
     "data": {
      "image/png": "[encoded data removed]",
      "text/latex": [
       "$$2 h^{2} k_{1}^{2} - 4 h k_{1} k_{2} + 2 k_{1}^{2} ω^{2} + 2 k_{1} ω^{2} + 2 k_{2}^{2} + ω^{2}$$"
      ],
      "text/plain": [
       "   2   2                   2  2         2       2    2\n",
       "2⋅h ⋅k₁  - 4⋅h⋅k₁⋅k₂ + 2⋅k₁ ⋅ω  + 2⋅k₁⋅ω  + 2⋅k₂  + ω "
      ]
     },
     "execution_count": 77,
     "metadata": {},
     "output_type": "execute_result"
    }
   ],
   "source": [
    "(r**2 + i**2 - a*cos(h*ω) - b*sin(h*ω)).simplify()"
   ]
  },
  {
   "cell_type": "code",
   "execution_count": 79,
   "metadata": {
    "collapsed": false
   },
   "outputs": [
    {
     "data": {
      "image/png": "[encoded data removed]",
      "text/latex": [
       "$$h^{2} k_{1}^{2} \\operatorname{sin}^{2}\\left(h ω\\right) + h^{2} k_{1}^{2} \\operatorname{cos}^{2}\\left(h ω\\right) - 2 h^{2} k_{1}^{2} \\operatorname{cos}\\left(h ω\\right) + h^{2} k_{1}^{2} - 2 h k_{1} k_{2} \\operatorname{sin}^{2}\\left(h ω\\right) - 2 h k_{1} k_{2} \\operatorname{cos}^{2}\\left(h ω\\right) + 4 h k_{1} k_{2} \\operatorname{cos}\\left(h ω\\right) - 2 h k_{1} k_{2} + 2 h k_{1} ω \\operatorname{sin}\\left(h ω\\right) + k_{1}^{2} ω^{2} \\operatorname{sin}^{2}\\left(h ω\\right) + k_{1}^{2} ω^{2} \\operatorname{cos}^{2}\\left(h ω\\right) - 2 k_{1}^{2} ω^{2} \\operatorname{cos}\\left(h ω\\right) + k_{1}^{2} ω^{2} - 2 k_{1} ω^{2} \\operatorname{cos}\\left(h ω\\right) + 2 k_{1} ω^{2} + k_{2}^{2} \\operatorname{sin}^{2}\\left(h ω\\right) + k_{2}^{2} \\operatorname{cos}^{2}\\left(h ω\\right) - 2 k_{2}^{2} \\operatorname{cos}\\left(h ω\\right) + k_{2}^{2} - 2 k_{2} ω \\operatorname{sin}\\left(h ω\\right) + ω^{2}$$"
      ],
      "text/plain": [
       " 2   2    2         2   2    2           2   2             2   2              \n",
       "h ⋅k₁ ⋅sin (h⋅ω) + h ⋅k₁ ⋅cos (h⋅ω) - 2⋅h ⋅k₁ ⋅cos(h⋅ω) + h ⋅k₁  - 2⋅h⋅k₁⋅k₂⋅s\n",
       "\n",
       "  2                     2                                                     \n",
       "in (h⋅ω) - 2⋅h⋅k₁⋅k₂⋅cos (h⋅ω) + 4⋅h⋅k₁⋅k₂⋅cos(h⋅ω) - 2⋅h⋅k₁⋅k₂ + 2⋅h⋅k₁⋅ω⋅sin\n",
       "\n",
       "          2  2    2          2  2    2            2  2              2  2      \n",
       "(h⋅ω) + k₁ ⋅ω ⋅sin (h⋅ω) + k₁ ⋅ω ⋅cos (h⋅ω) - 2⋅k₁ ⋅ω ⋅cos(h⋅ω) + k₁ ⋅ω  - 2⋅k\n",
       "\n",
       "   2                  2     2    2          2    2            2              2\n",
       "₁⋅ω ⋅cos(h⋅ω) + 2⋅k₁⋅ω  + k₂ ⋅sin (h⋅ω) + k₂ ⋅cos (h⋅ω) - 2⋅k₂ ⋅cos(h⋅ω) + k₂ \n",
       "\n",
       "                      2\n",
       " - 2⋅k₂⋅ω⋅sin(h⋅ω) + ω "
      ]
     },
     "execution_count": 79,
     "metadata": {},
     "output_type": "execute_result"
    }
   ],
   "source": [
    "(r**2 + i**2).expand()"
   ]
  },
  {
   "cell_type": "code",
   "execution_count": null,
   "metadata": {
    "collapsed": true
   },
   "outputs": [],
   "source": []
  }
 ],
 "metadata": {
  "kernelspec": {
   "display_name": "Python 3",
   "language": "python",
   "name": "python3"
  },
  "language_info": {
   "codemirror_mode": {
    "name": "ipython",
    "version": 3
   },
   "file_extension": ".py",
   "mimetype": "text/x-python",
   "name": "python",
   "nbconvert_exporter": "python",
   "pygments_lexer": "ipython3",
   "version": "3.4.3"
  }
 },
 "nbformat": 4,
 "nbformat_minor": 0
}
