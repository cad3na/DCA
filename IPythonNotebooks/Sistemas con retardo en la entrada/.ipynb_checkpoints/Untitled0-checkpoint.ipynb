{
 "metadata": {
  "name": "",
  "signature": "sha256:54c49942010698948a62ca9a5c3fd8f0ae9af58d6a97e2fcec056b84f2df2cca"
 },
 "nbformat": 3,
 "nbformat_minor": 0,
 "worksheets": []
}