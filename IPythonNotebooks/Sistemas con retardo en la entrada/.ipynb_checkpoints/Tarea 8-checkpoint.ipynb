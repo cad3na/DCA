{
 "metadata": {
  "name": "",
  "signature": "sha256:cec7ade4cdb8abe5b8a49cbbc781d4d9bee936b1c27cb511199300631a132cf3"
 },
 "nbformat": 3,
 "nbformat_minor": 0,
 "worksheets": [
  {
   "cells": [
    {
     "cell_type": "code",
     "collapsed": false,
     "input": [
      "from IPython.core.display import HTML\n",
      "import urllib2\n",
      "HTML(urllib2.urlopen('http://bit.ly/1Ay0q5e').read())"
     ],
     "language": "python",
     "metadata": {},
     "outputs": [
      {
       "html": [
        "<link href='http://fonts.googleapis.com/css?family=Fenix' rel='stylesheet' type='text/css'>\n",
        "<link href='http://fonts.googleapis.com/css?family=Alegreya+Sans:100,300,400,500,700,800,900,100italic,300italic,400italic,500italic,700italic,800italic,900italic' rel='stylesheet' type='text/css'>\n",
        "<link href='http://fonts.googleapis.com/css?family=Source+Code+Pro:300,400' rel='stylesheet' type='text/css'>\n",
        "<style>\n",
        "    @font-face {\n",
        "        font-family: \"Computer Modern\";\n",
        "        src: url('http://mirrors.ctan.org/fonts/cm-unicode/fonts/otf/cmunss.otf');\n",
        "    }\n",
        "    div.cell{\n",
        "        width:800px;\n",
        "        margin-left:16% !important;\n",
        "        margin-right:auto;\n",
        "    }\n",
        "    h1 {\n",
        "        font-family: 'Alegreya Sans', sans-serif;\n",
        "    }\n",
        "    h2 {\n",
        "        font-family: 'Fenix', serif;\n",
        "    }\n",
        "    h3{\n",
        "\t\tfont-family: 'Fenix', serif;\n",
        "        margin-top:12px;\n",
        "        margin-bottom: 3px;\n",
        "       }\n",
        "\th4{\n",
        "\t\tfont-family: 'Fenix', serif;\n",
        "       }\n",
        "    h5 {\n",
        "        font-family: 'Alegreya Sans', sans-serif;\n",
        "    }\t   \n",
        "    div.text_cell_render{\n",
        "        font-family: 'Alegreya Sans',Computer Modern, \"Helvetica Neue\", Arial, Helvetica, Geneva, sans-serif;\n",
        "        line-height: 135%;\n",
        "        font-size: 120%;\n",
        "        width:600px;\n",
        "        margin-left:auto;\n",
        "        margin-right:auto;\n",
        "    }\n",
        "    .CodeMirror{\n",
        "            font-family: \"Source Code Pro\";\n",
        "\t\t\tfont-size: 90%;\n",
        "    }\n",
        "/*    .prompt{\n",
        "        display: None;\n",
        "    }*/\n",
        "    .text_cell_render h1 {\n",
        "        font-weight: 200;\n",
        "        font-size: 50pt;\n",
        "\t\tline-height: 100%;\n",
        "        color:#CD2305;\n",
        "        margin-bottom: 0.5em;\n",
        "        margin-top: 0.5em;\n",
        "        display: block;\n",
        "    }\t\n",
        "    .text_cell_render h5 {\n",
        "        font-weight: 300;\n",
        "        font-size: 16pt;\n",
        "        color: #CD2305;\n",
        "        font-style: italic;\n",
        "        margin-bottom: .5em;\n",
        "        margin-top: 0.5em;\n",
        "        display: block;\n",
        "    }\n",
        "    \n",
        "    .warning{\n",
        "        color: rgb( 240, 20, 20 )\n",
        "        }  \n",
        "</style>\n",
        "<script>\n",
        "    MathJax.Hub.Config({\n",
        "                        TeX: {\n",
        "                           extensions: [\"AMSmath.js\"]\n",
        "                           },\n",
        "                tex2jax: {\n",
        "                    inlineMath: [ ['$','$'], [\"\\\\(\",\"\\\\)\"] ],\n",
        "                    displayMath: [ ['$$','$$'], [\"\\\\[\",\"\\\\]\"] ]\n",
        "                },\n",
        "                displayAlign: 'center', // Change this to 'center' to center equations.\n",
        "                \"HTML-CSS\": {\n",
        "                    styles: {'.MathJax_Display': {\"margin\": 4}}\n",
        "                }\n",
        "        });\n",
        "</script>"
       ],
       "metadata": {},
       "output_type": "pyout",
       "prompt_number": 3,
       "text": [
        "<IPython.core.display.HTML at 0x108f84f90>"
       ]
      }
     ],
     "prompt_number": 3
    },
    {
     "cell_type": "heading",
     "level": 1,
     "metadata": {},
     "source": [
      "Tarea 8"
     ]
    },
    {
     "cell_type": "heading",
     "level": 2,
     "metadata": {},
     "source": [
      "Transformada de Laplace de una integral de convoluci\u00f3n"
     ]
    },
    {
     "cell_type": "markdown",
     "metadata": {},
     "source": [
      "Queremos obtener:\n",
      "\n",
      "$$\n",
      "\\mathcal{L} \\left\\{ \\int_{-\\tau}^0 G(\\theta) x(\\tau + \\theta) d\\theta \\right\\}\n",
      "$$\n",
      "\n",
      "Podemos definir la integral de convoluci\u00f3n para dos funciones continuas $f(t)$ y $g(t)$, tales que la convoluci\u00f3n $(f*g)(t)$ es de la forma:\n",
      "\n",
      "$$\n",
      "(f*g)(t) = \\int_0^t f(t - \\tau) g(\\tau) d\\tau\n",
      "$$\n",
      "\n",
      "y la transformada de Laplace de esta integral de convoluci\u00f3n es:\n",
      "\n",
      "$$\n",
      "\\mathcal{L} \\left\\{ (f*g)(t) \\right\\} = F(s)G(s)\n",
      "$$\n",
      "\n",
      "por lo que nos interesa poner nuestra integral original de manera que sea una integral de convoluci\u00f3n.\n",
      "\n",
      "Podemos ver que al aplicar el cambio de variable $\\delta = \\theta + \\tau$, cuando $\\theta$ variaba de $-\\tau \\to 0$, $\\delta$ variar\u00e1 de $0 \\to \\tau$ y el diferencial $d\\theta$ es equivalente a $d\\delta$, por lo que nuestra integral quedar\u00e1:\n",
      "\n",
      "$$\n",
      "\\mathcal{L} \\left\\{ \\int_{0}^{\\tau} G(\\delta - \\tau) x(\\tau + \\delta - \\tau) d\\delta \\right\\} = \\mathcal{L} \\left\\{ \\int_{0}^{\\tau} G(\\delta - \\tau) x(\\delta) d\\delta \\right\\}\n",
      "$$\n",
      "\n",
      "y etsa integral ya es de la forma de la integral de convoluci\u00f3n, por lo que podemos escribirla como:\n",
      "\n",
      "$$\n",
      "\\mathcal{L} \\left\\{ (G*x)(t) \\right\\} = G(s) x(s)\n",
      "$$"
     ]
    },
    {
     "cell_type": "heading",
     "level": 2,
     "metadata": {},
     "source": [
      "Dise\u00f1o de un controlador predictivo para un sistema con retardo en la entrada"
     ]
    },
    {
     "cell_type": "markdown",
     "metadata": {},
     "source": [
      "Dado el sistema con retardo en la entrada:\n",
      "\n",
      "$$\n",
      "\\dot{x}(t) = A x(t) + B u(t - h)\n",
      "$$\n",
      "\n",
      "$$\n",
      "y(t) = C x(t)\n",
      "$$\n",
      "\n",
      "Empezaremos creando un modelo sin retardo para el dise\u00f1o del controlador predictor de Smith. Si logramos dise\u00f1ar un controlador $C(s)$ que estabilice de manera aceptable al sistema sin retardos, podremos dise\u00f1ar otro $\\tilde{C}(s)$ que tenga el mismo comportamiento agregado el efecto del retardo.\n",
      "\n",
      "![Sistema con controlador sin retardo](./imagenes/1.png)\n",
      "\n",
      "en donde $\\tilde{C}(s)$ ser\u00e1 de la forma:\n",
      "\n",
      "![Sistema con controlador con retardo](./imagenes/2.png)\n",
      "\n",
      "es decir:\n",
      "\n",
      "$$\n",
      "\\tilde{C}(s) = \\frac{C(s)}{1 + C(s) \\hat{G}(s) \\left( 1 - e^{-sh} \\right)}\n",
      "$$\n",
      "\n",
      "en donde $\\hat{G}(s)$ es la parte de la funci\u00f3n de transferencia del sistema que no incluye al retardo. Por lo que nuestra primera tarea es encontrar la funci\u00f3n de transferencia para nuestro sistema sin el efecto del retardo.\n",
      "\n",
      "Consideremos pues el sistema\n",
      "\n",
      "$$\n",
      "\\dot{x}(t) = A x(t) + B u(t)\n",
      "$$\n",
      "\n",
      "$$\n",
      "y(t) = C x(t)\n",
      "$$\n",
      "\n",
      "para el cual la funci\u00f3n de transferencia se puede obtener por la siguiente ecuaci\u00f3n:\n",
      "\n",
      "$$\n",
      "\\hat{G}(s) = C \\left( sI - A \\right)^{-1} B\n",
      "$$\n",
      "\n",
      "cabe mencionar que la funci\u00f3n de transferencia para el sistema con retardo es:\n",
      "\n",
      "$$\n",
      "G(s) = C \\left( sI - A \\right)^{-1} B e^{-sh}\n",
      "$$\n",
      "\n",
      "por lo que en efecto $\\hat{G}(s)$ es la parte de la funci\u00f3n de transferencia del sistema sin el efecto del retardo:\n",
      "\n",
      "$$\n",
      "G(s) = \\hat{G}(s) e^{-sh}\n",
      "$$"
     ]
    },
    {
     "cell_type": "code",
     "collapsed": false,
     "input": [
      "# Se importan las librerias para calculo simbolico\n",
      "from IPython.display import display\n",
      "\n",
      "from sympy import var, simplify, collect, expand, solve, sin, cos, Matrix, eye, diff, Function, expand_power_base\n",
      "from sympy.physics.mechanics import mlatex, mechanics_printing\n",
      "mechanics_printing()"
     ],
     "language": "python",
     "metadata": {},
     "outputs": [],
     "prompt_number": 15
    },
    {
     "cell_type": "code",
     "collapsed": false,
     "input": [
      "%matplotlib inline\n",
      "from matplotlib.pyplot import plot, style, figure, legend\n",
      "style.use(\"ggplot\")"
     ],
     "language": "python",
     "metadata": {},
     "outputs": [],
     "prompt_number": 51
    },
    {
     "cell_type": "code",
     "collapsed": false,
     "input": [
      "from control import tf, step, pade, acker, ss, feedback\n",
      "from numpy import linspace, matrix, eye"
     ],
     "language": "python",
     "metadata": {},
     "outputs": [],
     "prompt_number": 217
    },
    {
     "cell_type": "code",
     "collapsed": false,
     "input": [
      "var(\"s\")"
     ],
     "language": "python",
     "metadata": {},
     "outputs": [
      {
       "latex": [
        "$$s$$"
       ],
       "metadata": {},
       "output_type": "pyout",
       "png": "[encoded data removed]",
       "prompt_number": 16,
       "text": [
        "s"
       ]
      }
     ],
     "prompt_number": 16
    },
    {
     "cell_type": "markdown",
     "metadata": {},
     "source": [
      "Empezaremos con el sistema $A_1 = \\begin{pmatrix} 0 & 1 \\\\ 0 & 0 \\end{pmatrix}$, $B_1 = \\begin{pmatrix} 0 \\\\ 1 \\end{pmatrix}$, $C_1 = \\begin{pmatrix} 1 & 0 \\end{pmatrix}$ y $h = 1$."
     ]
    },
    {
     "cell_type": "code",
     "collapsed": false,
     "input": [
      "A1 = Matrix([[0, 1], [0, 0]])\n",
      "B1 = Matrix([[0], [1]])\n",
      "C1 = Matrix([[1, 0]])\n",
      "\n",
      "G1 = (C1*(s*eye(2) - A1).inv()*B1)[0]\n",
      "G1"
     ],
     "language": "python",
     "metadata": {},
     "outputs": [
      {
       "latex": [
        "$$\\frac{1}{s^{2}}$$"
       ],
       "metadata": {},
       "output_type": "pyout",
       "png": "[encoded data removed]",
       "prompt_number": 17,
       "text": [
        "1 \n",
        "\u2500\u2500\n",
        " 2\n",
        "s "
       ]
      }
     ],
     "prompt_number": 17
    },
    {
     "cell_type": "code",
     "collapsed": false,
     "input": [
      "A1 = matrix(A1.tolist(), dtype=float)\n",
      "B1 = matrix(B1.tolist(), dtype=float)\n",
      "C1 = matrix(C1.tolist(), dtype=float)"
     ],
     "language": "python",
     "metadata": {},
     "outputs": [],
     "prompt_number": 20
    },
    {
     "cell_type": "code",
     "collapsed": false,
     "input": [
      "k1 = acker(A1, B1, (-1, -1))\n",
      "k1"
     ],
     "language": "python",
     "metadata": {},
     "outputs": [
      {
       "metadata": {},
       "output_type": "pyout",
       "prompt_number": 248,
       "text": [
        "matrix([[ 1.,  2.]])"
       ]
      }
     ],
     "prompt_number": 248
    },
    {
     "cell_type": "code",
     "collapsed": false,
     "input": [
      "def smith_predictor(A, B, C, D, k, tau=1, t=(0, 10)):\n",
      "    '''Predictor de Smith\n",
      "    \n",
      "    Esta funci\u00f3n toma los arreglos A, B, C, D de un sistema con retardo en la entrada\n",
      "    y crea un controlador PD con los valores de k = [kp, kd] que estabiliza al sistema\n",
      "    sin retardos. Ademas crea un controlador que estabiliza al sistema con retardo,\n",
      "    dada la condici\u00f3n de que este sistema sea estable, y grafica la salida de los\n",
      "    con y sin realimentaci\u00f3n y con y sin retardo tau del tiempo t0 al tiempo t1\n",
      "    especificados en t = (t0, t1).\n",
      "    \n",
      "    Ejemplo\n",
      "    -------\n",
      "    >>> A1 = [[0, 1], [0, 0]]\n",
      "    >>> B1 = [[0], [1]]\n",
      "    >>> C1 = [[1, 0]]\n",
      "    >>> D1 = 0\n",
      "    >>> tau1 = 1\n",
      "    >>> t = (0, 10)\n",
      "    >>> smith_predictor(A1, B1, C1, D1, [1, 2], tau, t)\n",
      "    '''\n",
      "    from control import ss, tf, pade, step, feedback\n",
      "    from numpy import linspace\n",
      "    from matplotlib.pyplot import figure, plot, legend\n",
      "    \n",
      "    kp, kd = k\n",
      "    t = linspace(t[0], t[1], 1000)\n",
      "    \n",
      "    sis = ss(A, B, C, D)\n",
      "    cont = tf([kd, kp], [0, 1])\n",
      "    \n",
      "    num, den = pade(T=tau, n=10)\n",
      "    delay = tf(num, den)\n",
      "    \n",
      "    delcont = ((1 - delay)*sis)\n",
      "    \n",
      "    y, t1 = step(sis, t)\n",
      "    yd, td = step(sis*delay, t)\n",
      "    ycont, tcont = step((cont*sis).feedback(), t)\n",
      "    ycontdel, tcontdel = step(feedback(feedback(cont, delcont)*sis), t)\n",
      "    \n",
      "    f = figure(figsize=(12, 6))\n",
      "\n",
      "    p1, = plot(td, yd)\n",
      "    p2, = plot(t1, y)\n",
      "    p3, = plot(tcont, ycont)\n",
      "    p4, = plot(tcontdel, ycontdel)\n",
      "\n",
      "    ax = f.gca()\n",
      "    ax.set_xlim(-0.1, 10)\n",
      "    ax.set_ylim(-0.10, 1.2)\n",
      "\n",
      "    ax.set_ylabel(r\"$y(t)$\", fontsize=20)\n",
      "    ax.set_xlabel(r\"$t$\", fontsize=20)\n",
      "\n",
      "    legend([p1, p2, p3, p4],\n",
      "           [r\"$G(s)$\",\n",
      "            r\"$\\hat{G}(s)$\",\n",
      "            r\"$\\hat{G}_F(s)$\",\n",
      "            r\"$G_F(s)$\"], loc=4, fontsize=16);"
     ],
     "language": "python",
     "metadata": {},
     "outputs": [],
     "prompt_number": 290
    },
    {
     "cell_type": "code",
     "collapsed": false,
     "input": [
      "smith_predictor(A1, B1, C1, 0, k=[3, 3], t=(0, 10))"
     ],
     "language": "python",
     "metadata": {},
     "outputs": [
      {
       "metadata": {},
       "output_type": "display_data",
       "png": "[encoded data removed]",
       "text": [
        "<matplotlib.figure.Figure at 0x10b620690>"
       ]
      }
     ],
     "prompt_number": 292
    },
    {
     "cell_type": "code",
     "collapsed": false,
     "input": [
      "A2 = Matrix([[0, 1], [-1, 0]])\n",
      "B2 = Matrix([[0], [1]])\n",
      "C2 = Matrix([[1, 0]])\n",
      "\n",
      "G2 = (C2*(s*eye(2) - A2).inv()*B2)[0]\n",
      "G2"
     ],
     "language": "python",
     "metadata": {},
     "outputs": [
      {
       "latex": [
        "$$\\frac{1}{s \\left(s + \\frac{1}{s}\\right)}$$"
       ],
       "metadata": {},
       "output_type": "pyout",
       "png": "[encoded data removed]",
       "prompt_number": 155,
       "text": [
        "    1    \n",
        "\u2500\u2500\u2500\u2500\u2500\u2500\u2500\u2500\u2500\n",
        "  \u239b    1\u239e\n",
        "s\u22c5\u239cs + \u2500\u239f\n",
        "  \u239d    s\u23a0"
       ]
      }
     ],
     "prompt_number": 155
    },
    {
     "cell_type": "code",
     "collapsed": false,
     "input": [
      "A2 = matrix(A2.tolist(), dtype=float)\n",
      "B2 = matrix(B2.tolist(), dtype=float)\n",
      "C2 = matrix(C2.tolist(), dtype=float)"
     ],
     "language": "python",
     "metadata": {},
     "outputs": [],
     "prompt_number": 156
    },
    {
     "cell_type": "code",
     "collapsed": false,
     "input": [
      "k2 = acker(A2, B2, (-1, -1))\n",
      "k2"
     ],
     "language": "python",
     "metadata": {},
     "outputs": [
      {
       "metadata": {},
       "output_type": "pyout",
       "prompt_number": 264,
       "text": [
        "matrix([[ 0.,  2.]])"
       ]
      }
     ],
     "prompt_number": 264
    },
    {
     "cell_type": "code",
     "collapsed": false,
     "input": [
      "smith_predictor(A2, B2, C2, 0, k=[3, 3], t=(0, 10))"
     ],
     "language": "python",
     "metadata": {},
     "outputs": [
      {
       "metadata": {},
       "output_type": "display_data",
       "png": "[encoded data removed]",
       "text": [
        "<matplotlib.figure.Figure at 0x10e1e1850>"
       ]
      }
     ],
     "prompt_number": 294
    },
    {
     "cell_type": "code",
     "collapsed": false,
     "input": [],
     "language": "python",
     "metadata": {},
     "outputs": []
    }
   ],
   "metadata": {}
  }
 ]
}