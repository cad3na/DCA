{
 "cells": [
  {
   "cell_type": "code",
   "execution_count": 1,
   "metadata": {
    "collapsed": false
   },
   "outputs": [
    {
     "data": {
      "text/html": [
       "<link href='http://fonts.googleapis.com/css?family=Inconsolata' rel='stylesheet' type='text/css'>\n",
       "<link href='http://fonts.googleapis.com/css?family=EB+Garamond' rel='stylesheet' type='text/css'>\n",
       "<link href='http://fonts.googleapis.com/css?family=Lato:100,100italic' rel='stylesheet' type='text/css'>\n",
       "\n",
       "<style>\n",
       "\t@font-face{\n",
       "   \t\tfont-family: \"Computer Modern\";\n",
       "        \tsrc: url('http://mirrors.ctan.org/fonts/cm-unicode/fonts/otf/cmunss.otf');}\n",
       "        \n",
       "\th1 {\n",
       "        \tfont-family: 'Lato', sans-serif;}\n",
       "        \n",
       "\th2 {\n",
       "        \tfont-family: 'Lato', serif;}\n",
       "        \n",
       "\th3{\n",
       "\t\tfont-family:   'Lato', serif;\n",
       "        \tmargin-top:    12px;\n",
       "\t\tmargin-bottom: 3px;}\n",
       "        \n",
       "        h4{\n",
       "\t\tfont-family: 'Lato', serif;}\n",
       "\t\n",
       "\th5 {\n",
       "        \tfont-family: 'Lato', serif;}\n",
       "    \n",
       "\tdiv.text_cell_render{\n",
       "        \tfont-family:  'EB Garamond', 'Computer Modern', 'Helvetica Neue', Arial, Helvetica, Geneva, sans-serif;\n",
       "\t        line-height:  140%;\n",
       "\t        font-size:    14pt;}\n",
       "        \n",
       "\t.CodeMirror{\n",
       "        \tfont-family: 'Inconsolata';}\n",
       "    \n",
       "\t.text_cell_render h1 {\n",
       "\t        font-weight:   100;\n",
       "\t        font-size:     50pt;\n",
       "\t\tline-height:   100%;\n",
       "\t        color:         #CD2305;\n",
       "\t        margin-bottom: 0.5em;\n",
       "\t        margin-top:    0.5em;\n",
       "\t        display:       block;}\n",
       "        \n",
       "\t.text_cell_render h2 {\n",
       "        \tfont-weight:   100;\n",
       "        \tfont-size:     30pt;}\n",
       "        \n",
       "\t.text_cell_render h3 {\n",
       "        \tfont-weight:   100;\n",
       "        \tfont-size:     20pt;}\n",
       "        \n",
       "\t.text_cell_render h4 {\n",
       "        \tfont-weight:   100;\n",
       "        \tfont-size:     16pt;}\n",
       "        \n",
       "\t.text_cell_render h5 {\n",
       "\t        font-weight:   100;\n",
       "\t        font-size:     16pt;\n",
       "\t        color:         #CD2305;\n",
       "\t        font-style:    italic;\n",
       "\t        margin-bottom: 0.5em;\n",
       "\t        margin-top:    0.5em;\n",
       "\t        display:       block;}\n",
       "        \n",
       "\t.text_cell_render h6 {\n",
       "\t        font-weight:   100;\n",
       "\t        font-size:     14pt;\n",
       "\t        color:         #CD2305;\n",
       "\t        font-style:    italic;\n",
       "\t        margin-bottom: 0.5em;\n",
       "\t        margin-top:    0.5em;\n",
       "\t        display:       block;}\n",
       "    \n",
       "\t.warning{\n",
       "\t    \tbackground-color: #fcf2f2;\n",
       "\t    \tborder-color: #dFb5b4;\n",
       "\t    \tborder-left: 5px solid #dfb5b4;\n",
       "\t    \tpadding: 0.5em;}\n",
       "</style>\n",
       "\n",
       "<script>\n",
       "\tMathJax.Hub.Config({\n",
       "        \tTeX:{extensions: [\"AMSmath.js\"]},\n",
       "\n",
       "        \tjax: [\"input/TeX\",\"output/SVG\"],\n",
       "        \tSVG: {\n",
       "        \t\tscale: 120,\n",
       "        \t\tfont: 'Gyre-Pagella'}\n",
       "        });\n",
       "</script>"
      ]
     },
     "metadata": {},
     "output_type": "display_data"
    }
   ],
   "source": [
    "from IPython.core.display import display_html\n",
    "from urllib.request import urlopen\n",
    "\n",
    "display_html(urlopen('http://bit.ly/1HflmO9').read(), raw=True)"
   ]
  },
  {
   "cell_type": "markdown",
   "metadata": {},
   "source": [
    "# Análisis de estabilidad para sistema bajo realimentación integral"
   ]
  },
  {
   "cell_type": "markdown",
   "metadata": {},
   "source": [
    "## Ejemplo 1"
   ]
  },
  {
   "cell_type": "markdown",
   "metadata": {
    "collapsed": true
   },
   "source": [
    "Dado el sistema:\n",
    "\n",
    "$$\n",
    "\\dot{x}(t) = A x(t) + B u(t - h)\n",
    "$$\n",
    "\n",
    "con la ley de control:\n",
    "\n",
    "$$\n",
    "u(t) = k \\left[ x(t) + \\int_{-h}^0 e^{-A(\\theta + h)} B u(t + \\theta) d\\theta \\right]\n",
    "$$\n",
    "\n",
    "por lo que el sistema en lazo cerrado es:\n",
    "\n",
    "$$\n",
    "\\dot{x}(t) = \\left( A + e^{-Ah} B K \\right) x(t)\n",
    "$$\n",
    "\n",
    "el sistema para el que haremos este desarrollo es:\n",
    "\n",
    "$$\n",
    "\\dot{x}(t) =\n",
    "\\begin{pmatrix}\n",
    "0 & 0 \\\\\n",
    "1 & 1\n",
    "\\end{pmatrix} x(t) +\n",
    "\\begin{pmatrix}\n",
    "1 \\\\\n",
    "0\n",
    "\\end{pmatrix} u(t - h)\n",
    "$$\n",
    "\n",
    "con $h = 1$."
   ]
  },
  {
   "cell_type": "code",
   "execution_count": 2,
   "metadata": {
    "collapsed": true
   },
   "outputs": [],
   "source": [
    "from sympy import var, sin, cos, Matrix, Integer, eye, Function, Rational, exp, Symbol, I, solve\n",
    "from sympy.physics.mechanics import mechanics_printing\n",
    "mechanics_printing()"
   ]
  },
  {
   "cell_type": "code",
   "execution_count": 3,
   "metadata": {
    "collapsed": false
   },
   "outputs": [
    {
     "data": {
      "image/png": "[encoded data removed]",
      "text/latex": [
       "$$\\left ( t, \\quad h, \\quad θ, \\quad s, \\quad ω\\right )$$"
      ],
      "text/plain": [
       "(t, h, θ, s, ω)"
      ]
     },
     "execution_count": 3,
     "metadata": {},
     "output_type": "execute_result"
    }
   ],
   "source": [
    "var(\"t h θ s ω\")"
   ]
  },
  {
   "cell_type": "markdown",
   "metadata": {},
   "source": [
    "Para analizar la estabilidad del sistema bajo realimentación, utilizamos:\n",
    "\n",
    "$$\n",
    "\\dot{x}(t) = \\left( A + e^{-Ah} B K \\right) x(t)\n",
    "$$\n",
    "\n",
    "por lo que la función de transferencia del sistema realimentado será:\n",
    "\n",
    "$$\n",
    "\\det{\\left( sI - A - e^{-Ah} B K \\right)}\n",
    "$$"
   ]
  },
  {
   "cell_type": "code",
   "execution_count": 4,
   "metadata": {
    "collapsed": false
   },
   "outputs": [],
   "source": [
    "A1 = Matrix([[0, 0], [1, 1]])\n",
    "B1 = Matrix([[1], [0]])\n",
    "K1 = Matrix([[1 - 4*exp(h), -4*exp(h)]])"
   ]
  },
  {
   "cell_type": "code",
   "execution_count": 5,
   "metadata": {
    "collapsed": false
   },
   "outputs": [
    {
     "data": {
      "image/png": "[encoded data removed]",
      "text/latex": [
       "$$s^{2} + 2 s + 1$$"
      ],
      "text/plain": [
       " 2          \n",
       "s  + 2⋅s + 1"
      ]
     },
     "execution_count": 5,
     "metadata": {},
     "output_type": "execute_result"
    }
   ],
   "source": [
    "(s*eye(2) - A1 - exp(-A1*h)*B1*K1).det()"
   ]
  },
  {
   "cell_type": "markdown",
   "metadata": {},
   "source": [
    "Por lo que observamos que esta realimentación coloca dos polos en $-1$, sin embargo queremos analizar la estabilidad bajo los parametros que establecimos, por lo que notamos que este polinomio puede ser escrito como:\n",
    "\n",
    "$$\n",
    "s^2 - \\left( 1 + \\alpha_1 + \\alpha_2 \\right)s + \\alpha_1\n",
    "$$"
   ]
  },
  {
   "cell_type": "code",
   "execution_count": 6,
   "metadata": {
    "collapsed": false
   },
   "outputs": [
    {
     "data": {
      "image/png": "[encoded data removed]",
      "text/latex": [
       "$$\\left ( 1, \\quad -4\\right )$$"
      ],
      "text/plain": [
       "(1, -4)"
      ]
     },
     "execution_count": 6,
     "metadata": {},
     "output_type": "execute_result"
    }
   ],
   "source": [
    "α1, α2 = K1[0] - K1[1], exp(-h)*K1[1]\n",
    "α1, α2"
   ]
  },
  {
   "cell_type": "code",
   "execution_count": 7,
   "metadata": {
    "collapsed": false
   },
   "outputs": [
    {
     "data": {
      "image/png": "[encoded data removed]",
      "text/latex": [
       "$$s^{2} + 2 s + 1$$"
      ],
      "text/plain": [
       " 2          \n",
       "s  + 2⋅s + 1"
      ]
     },
     "execution_count": 7,
     "metadata": {},
     "output_type": "execute_result"
    }
   ],
   "source": [
    "s**2 - (1 + α1 + α2)*s + α1"
   ]
  },
  {
   "cell_type": "markdown",
   "metadata": {},
   "source": [
    "Este polinomio caracteristico esta libre de retardos, por lo que podemos analizarlo con Routh-Hurwitz y obtener las siguientes condiciones:\n",
    "\n",
    "$$\n",
    "\\begin{align}\n",
    "\\alpha_1 &> 0 \\\\\n",
    "\\alpha_1 &< -1 - \\alpha_2\n",
    "\\end{align}\n",
    "$$\n",
    "\n",
    "Por otro lado, si hacemos un analisis de D-particiones, al sustituir $s = 0$ y $s = j \\omega$ obtenemos que:\n",
    "\n",
    "$$\n",
    "\\begin{align}\n",
    "\\alpha_1 &= 0 \\\\\n",
    "\\alpha_1 &= -1 - \\alpha_2\n",
    "\\end{align}\n",
    "$$"
   ]
  },
  {
   "cell_type": "code",
   "execution_count": 8,
   "metadata": {
    "collapsed": false
   },
   "outputs": [
    {
     "data": {
      "image/png": "[encoded data removed]",
      "text/latex": [
       "$$\\left ( α_{1}, \\quad α_{2}, \\quad ω\\right )$$"
      ],
      "text/plain": [
       "(α₁, α₂, ω)"
      ]
     },
     "execution_count": 8,
     "metadata": {},
     "output_type": "execute_result"
    }
   ],
   "source": [
    "var(\"α_1 α_2 ω\")"
   ]
  },
  {
   "cell_type": "code",
   "execution_count": 9,
   "metadata": {
    "collapsed": false
   },
   "outputs": [
    {
     "data": {
      "image/png": "[encoded data removed]",
      "text/latex": [
       "$$α_{1}$$"
      ],
      "text/plain": [
       "α₁"
      ]
     },
     "execution_count": 9,
     "metadata": {},
     "output_type": "execute_result"
    }
   ],
   "source": [
    "(s**2 - (1 + α_1 + α_2)*s + α_1).subs(s, 0)"
   ]
  },
  {
   "cell_type": "code",
   "execution_count": 10,
   "metadata": {
    "collapsed": false
   },
   "outputs": [
    {
     "data": {
      "image/png": "[encoded data removed]",
      "text/latex": [
       "$$α_{1} + α_{2} + 1$$"
      ],
      "text/plain": [
       "α₁ + α₂ + 1"
      ]
     },
     "execution_count": 10,
     "metadata": {},
     "output_type": "execute_result"
    }
   ],
   "source": [
    "(s**2 - (1 + α_1 + α_2)*s + α_1).subs(s, 1j*ω).coeff(-1j*ω)"
   ]
  },
  {
   "cell_type": "markdown",
   "metadata": {},
   "source": [
    "Lo cual es consistente con los resultados de Routh-Hurwitz. Al graficar estas curvas limite de las D-particiones, obtenemos:"
   ]
  },
  {
   "cell_type": "code",
   "execution_count": 11,
   "metadata": {
    "collapsed": true
   },
   "outputs": [],
   "source": [
    "from numpy import linspace, zeros, concatenate, column_stack"
   ]
  },
  {
   "cell_type": "code",
   "execution_count": 12,
   "metadata": {
    "collapsed": true
   },
   "outputs": [],
   "source": [
    "%matplotlib inline\n",
    "from matplotlib.pyplot import plot, style, figure, legend, fill, Polygon\n",
    "style.use(\"ggplot\")"
   ]
  },
  {
   "cell_type": "code",
   "execution_count": 13,
   "metadata": {
    "collapsed": true
   },
   "outputs": [],
   "source": [
    "x = linspace(-4, -1, 100)\n",
    "alpha1 = linspace(-4, 4, 100)\n",
    "alpha2 = -alpha1 - 1"
   ]
  },
  {
   "cell_type": "code",
   "execution_count": 14,
   "metadata": {
    "collapsed": false
   },
   "outputs": [
    {
     "data": {
      "image/png": "[encoded data removed]",
      "text/plain": [
       "<matplotlib.figure.Figure at 0x109774be0>"
      ]
     },
     "metadata": {},
     "output_type": "display_data"
    }
   ],
   "source": [
    "f = figure(figsize=(8, 8))\n",
    "plot(zeros(len(alpha1)), alpha1)\n",
    "plot(alpha1, alpha2)\n",
    "\n",
    "ax = f.gca()\n",
    "ax.set_xlim(-4, 4)\n",
    "ax.set_ylim(-4, 4)\n",
    "\n",
    "ax.fill_betweenx(alpha2, 0, alpha1, where=alpha1>0, alpha=0.3, facecolor='purple')\n",
    "\n",
    "ax.set_xlabel(r\"$α_1$\", fontsize=20)\n",
    "ax.set_ylabel(r\"$α_2$\", fontsize=20);"
   ]
  },
  {
   "cell_type": "markdown",
   "metadata": {},
   "source": [
    "Por otro lado, para nalizar la estabilidad del controlador empezamos calculando $e^{-A (\\theta + h)}$:"
   ]
  },
  {
   "cell_type": "code",
   "execution_count": 15,
   "metadata": {
    "collapsed": false
   },
   "outputs": [
    {
     "data": {
      "image/png": "[encoded data removed]",
      "text/latex": [
       "$$\\left[\\begin{matrix}1 & 0\\\\e^{- h - θ} - 1 & e^{- h - θ}\\end{matrix}\\right]$$"
      ],
      "text/plain": [
       "⎡     1          0   ⎤\n",
       "⎢                    ⎥\n",
       "⎢ -h - θ       -h - θ⎥\n",
       "⎣ℯ       - 1  ℯ      ⎦"
      ]
     },
     "execution_count": 15,
     "metadata": {},
     "output_type": "execute_result"
    }
   ],
   "source": [
    "exp(-A1*(θ+ h))"
   ]
  },
  {
   "cell_type": "markdown",
   "metadata": {},
   "source": [
    "Sustituyendo $A$, $B$ y $e^{-A(\\theta + h)}$ en $u(t)$, tenemos:\n",
    "\n",
    "$$\n",
    "\\begin{align}\n",
    "u(t) &=\n",
    "\\begin{pmatrix}\n",
    "k_1 & k_2\n",
    "\\end{pmatrix} x(t) +\n",
    "\\begin{pmatrix}\n",
    "k_1 & k_2\n",
    "\\end{pmatrix}\n",
    "\\int_{-h}^0 e^{-A(\\theta + h)} B u(t + \\theta) d\\theta \\\\\n",
    "&=\n",
    "\\begin{pmatrix}\n",
    "k_1 & k_2\n",
    "\\end{pmatrix} x(t) +\n",
    "\\begin{pmatrix}\n",
    "k_1 & k_2\n",
    "\\end{pmatrix}\n",
    "\\int_{-h}^0\n",
    "\\begin{pmatrix}\n",
    "1 & 0 \\\\\n",
    "e^{-(\\theta + h)} - 1 & e^{-(\\theta + h)}\n",
    "\\end{pmatrix}\n",
    "\\begin{pmatrix}\n",
    "1 \\\\\n",
    "0\n",
    "\\end{pmatrix}\n",
    "u(t + \\theta) d\\theta \\\\\n",
    "&=\n",
    "\\begin{pmatrix}\n",
    "k_1 & k_2\n",
    "\\end{pmatrix} x(t) +\n",
    "\\begin{pmatrix}\n",
    "k_1 & k_2\n",
    "\\end{pmatrix}\n",
    "\\int_{-h}^0\n",
    "\\begin{pmatrix}\n",
    "1 \\\\\n",
    "e^{-(\\theta + h)} - 1\n",
    "\\end{pmatrix}\n",
    "u(t + \\theta) d\\theta\n",
    "\\end{align}\n",
    "$$\n",
    "\n",
    "Sustituyendo $k_1 = 1 - 4 e^h$ y $k_2 = -4e^h$ tenemos:\n",
    "\n",
    "$$\n",
    "u(t)=\n",
    "\\begin{pmatrix}\n",
    "1 - 4 e^h & -4e^h\n",
    "\\end{pmatrix} x(t) +\n",
    "\\begin{pmatrix}\n",
    "1 - 4 e^h & -4e^h\n",
    "\\end{pmatrix}\n",
    "\\int_{-h}^0\n",
    "\\begin{pmatrix}\n",
    "1 \\\\\n",
    "e^{-(\\theta + h)} - 1\n",
    "\\end{pmatrix}\n",
    "u(t + \\theta) d\\theta\n",
    "$$\n",
    "\n",
    "y podemos meter estas ganancias a la integral, para obtener:\n",
    "\n",
    "$$\n",
    "\\begin{align}\n",
    "u(t) &=\n",
    "\\begin{pmatrix}\n",
    "1 - 4 e^h & -4e^h\n",
    "\\end{pmatrix} x(t) +\n",
    "\\int_{-h}^0\n",
    "\\left( 1 - 4e^{-\\theta} \\right)\n",
    "u(t + \\theta) d\\theta \\\\\n",
    "&=\n",
    "\\begin{pmatrix}\n",
    "1 - 4 e^h & -4e^h\n",
    "\\end{pmatrix} x(t) +\n",
    "\\int_{-h}^0 u(t + \\theta) d\\theta -\n",
    "\\int_{-h}^0 4e^{-\\theta} u(t + \\theta) d\\theta\n",
    "\\end{align}\n",
    "$$"
   ]
  },
  {
   "cell_type": "code",
   "execution_count": 16,
   "metadata": {
    "collapsed": false
   },
   "outputs": [
    {
     "data": {
      "image/png": "[encoded data removed]",
      "text/latex": [
       "$$1 - 4 e^{- θ}$$"
      ],
      "text/plain": [
       "       -θ\n",
       "1 - 4⋅ℯ  "
      ]
     },
     "execution_count": 16,
     "metadata": {},
     "output_type": "execute_result"
    }
   ],
   "source": [
    "(K1*exp(-A1*(θ + h))*B1)[0].simplify()"
   ]
  },
  {
   "cell_type": "code",
   "execution_count": 17,
   "metadata": {
    "collapsed": true
   },
   "outputs": [],
   "source": [
    "x1 = Function(\"x1\")(t)\n",
    "x2 = Function(\"x2\")(t)\n",
    "\n",
    "X = Matrix([[x1], [x2]])\n",
    "\n",
    "u = Function(\"u\")(t + θ)"
   ]
  },
  {
   "cell_type": "code",
   "execution_count": 18,
   "metadata": {
    "collapsed": false
   },
   "outputs": [
    {
     "data": {
      "image/png": "[encoded data removed]",
      "text/latex": [
       "$$\\left[\\begin{matrix}0\\\\x_{1} + x_{2}\\end{matrix}\\right]$$"
      ],
      "text/plain": [
       "⎡   0   ⎤\n",
       "⎢       ⎥\n",
       "⎣x₁ + x₂⎦"
      ]
     },
     "execution_count": 18,
     "metadata": {},
     "output_type": "execute_result"
    }
   ],
   "source": [
    "A1*X"
   ]
  },
  {
   "cell_type": "code",
   "execution_count": 19,
   "metadata": {
    "collapsed": false
   },
   "outputs": [
    {
     "data": {
      "image/png": "[encoded data removed]",
      "text/latex": [
       "$$\\int_{- h}^{0} \\left(e^{θ} - 4\\right) \\operatorname{u}\\left(t + θ\\right) e^{- θ}\\, dθ$$"
      ],
      "text/plain": [
       "0                          \n",
       "⌠                          \n",
       "⎮  ⎛ θ    ⎞           -θ   \n",
       "⎮  ⎝ℯ  - 4⎠⋅u(t + θ)⋅ℯ   dθ\n",
       "⌡                          \n",
       "-h                         "
      ]
     },
     "execution_count": 19,
     "metadata": {},
     "output_type": "execute_result"
    }
   ],
   "source": [
    "((K1*exp(-A1*(θ + h))*B1)[0].simplify()*u).integrate((θ, -h, 0))"
   ]
  },
  {
   "cell_type": "code",
   "execution_count": 20,
   "metadata": {
    "collapsed": false
   },
   "outputs": [
    {
     "data": {
      "image/png": "[encoded data removed]",
      "text/latex": [
       "$$\\left(- 4 e^{h} + 1\\right) x_{1} - 4 x_{2} e^{h} + \\int_{- h}^{0} \\left(e^{θ} - 4\\right) \\operatorname{u}\\left(t + θ\\right) e^{- θ}\\, dθ$$"
      ],
      "text/plain": [
       "                            0                          \n",
       "                            ⌠                          \n",
       "⎛     h    ⎞            h   ⎮  ⎛ θ    ⎞           -θ   \n",
       "⎝- 4⋅ℯ  + 1⎠⋅x₁ - 4⋅x₂⋅ℯ  + ⎮  ⎝ℯ  - 4⎠⋅u(t + θ)⋅ℯ   dθ\n",
       "                            ⌡                          \n",
       "                            -h                         "
      ]
     },
     "execution_count": 20,
     "metadata": {},
     "output_type": "execute_result"
    }
   ],
   "source": [
    "(K1*X)[0] + ((K1*exp(-A1*(θ + h))*B1)[0].simplify()*u).integrate((θ, -h, 0))"
   ]
  },
  {
   "cell_type": "markdown",
   "metadata": {},
   "source": [
    "Si aplicamos la transformada de Laplace a esto, obtendremos:\n",
    "\n",
    "$$\n",
    "\\begin{align}\n",
    "u(t) - \\int_{-h}^0 u(t + \\theta) d\\theta + \\int_{-h}^0 4e^{-\\theta} u(t + \\theta) d\\theta &=\n",
    "(1 - 4 e^h) x_1(t) - 4e^h x_2(t) \\\\\n",
    "\\left[ 1 - \\frac{1 - e^{-hs}}{s} + 4 \\frac{1 - e^{-h(s-1)}}{s-1} \\right] u(s) &=\n",
    "(1 - 4 e^h) x_1(s) - 4e^h x_2(s)\n",
    "\\end{align}\n",
    "$$\n",
    "\n",
    "Por lo que el polinomio caracteristico del controlador del sistema es:\n",
    "\n",
    "$$\n",
    "1 - \\frac{1 - e^{-hs}}{s} + 4\\frac{1 - e^{-h(s-1)}}{s-1} = 0\n",
    "$$\n",
    "\n",
    "Si ahora introducimos los parametros $\\alpha_1 = k_1 - k_2 = 1$ y $\\alpha_2 = e^{-h} k_2 = -4$, este polinomio caracteristico queda de la forma:\n",
    "\n",
    "$$\n",
    "1 - \\alpha_1 \\frac{1 - e^{-hs}}{s} - \\alpha_2 \\frac{1 - e^{-h(s-1)}}{s-1} = 0\n",
    "$$\n",
    "\n",
    "Sustituyendo $s = j \\omega$, tendremos:\n",
    "\n",
    "$$\n",
    "- \\alpha_{1} \\left(- ω \\operatorname{sin}\\left(h ω\\right) + \\operatorname{cos}\\left(h ω\\right) - 1\\right) + \\alpha_{2} ω e^{h} \\operatorname{sin}\\left(h ω\\right) - ω^{2} + j \\left( - \\alpha_{1} \\left(- ω \\operatorname{cos}\\left(h ω\\right) + ω - \\operatorname{sin}\\left(h ω\\right)\\right) - \\alpha_{2} ω \\left(- e^{h} \\operatorname{cos}\\left(h ω\\right) + 1\\right) - ω \\right) = 0\n",
    "$$"
   ]
  },
  {
   "cell_type": "code",
   "execution_count": 45,
   "metadata": {
    "collapsed": true
   },
   "outputs": [],
   "source": [
    "h = Symbol(\"h\", real=True, imag=False)\n",
    "ω = Symbol(\"ω\", real=True, imag=False)\n",
    "α_1 = Symbol(\"α_1\", real=True, imag=False)\n",
    "α_2 = Symbol(\"α_2\", real=True, imag=False)"
   ]
  },
  {
   "cell_type": "code",
   "execution_count": 52,
   "metadata": {
    "collapsed": false
   },
   "outputs": [
    {
     "data": {
      "image/png": "[encoded data removed]",
      "text/latex": [
       "$$- α_{1} \\left(- ω \\operatorname{sin}\\left(h ω\\right) + \\operatorname{cos}\\left(h ω\\right) - 1\\right) + α_{2} ω e^{h} \\operatorname{sin}\\left(h ω\\right) - ω^{2} + i \\left(- α_{1} \\left(- ω \\operatorname{cos}\\left(h ω\\right) + ω - \\operatorname{sin}\\left(h ω\\right)\\right) - α_{2} ω \\left(- e^{h} \\operatorname{cos}\\left(h ω\\right) + 1\\right) - ω\\right)$$"
      ],
      "text/plain": [
       "                                         h             2     ⎛                \n",
       "-α₁⋅(-ω⋅sin(h⋅ω) + cos(h⋅ω) - 1) + α₂⋅ω⋅ℯ ⋅sin(h⋅ω) - ω  + ⅈ⋅⎝-α₁⋅(-ω⋅cos(h⋅ω)\n",
       "\n",
       "                        ⎛   h             ⎞    ⎞\n",
       " + ω - sin(h⋅ω)) - α₂⋅ω⋅⎝- ℯ ⋅cos(h⋅ω) + 1⎠ - ω⎠"
      ]
     },
     "execution_count": 52,
     "metadata": {},
     "output_type": "execute_result"
    }
   ],
   "source": [
    "r, i = (s**2 - s - α_1*(s - 1)*(1 - exp(-h*s)) - α_2*s*(1 - exp(-h*(s - 1)))).subs(s, I*ω).as_real_imag()\n",
    "r + i*I"
   ]
  },
  {
   "cell_type": "code",
   "execution_count": 47,
   "metadata": {
    "collapsed": false
   },
   "outputs": [
    {
     "data": {
      "image/png": "[encoded data removed]",
      "text/latex": [
       "$$- α_{1} \\left(- ω \\operatorname{sin}\\left(h ω\\right) + \\operatorname{cos}\\left(h ω\\right) - 1\\right) + α_{2} ω e^{h} \\operatorname{sin}\\left(h ω\\right) - ω^{2}$$"
      ],
      "text/plain": [
       "                                         h             2\n",
       "-α₁⋅(-ω⋅sin(h⋅ω) + cos(h⋅ω) - 1) + α₂⋅ω⋅ℯ ⋅sin(h⋅ω) - ω "
      ]
     },
     "execution_count": 47,
     "metadata": {},
     "output_type": "execute_result"
    }
   ],
   "source": [
    "r"
   ]
  },
  {
   "cell_type": "code",
   "execution_count": 48,
   "metadata": {
    "collapsed": false
   },
   "outputs": [
    {
     "data": {
      "image/png": "[encoded data removed]",
      "text/latex": [
       "$$- α_{1} \\left(- ω \\operatorname{cos}\\left(h ω\\right) + ω - \\operatorname{sin}\\left(h ω\\right)\\right) - α_{2} ω \\left(- e^{h} \\operatorname{cos}\\left(h ω\\right) + 1\\right) - ω$$"
      ],
      "text/plain": [
       "                                        ⎛   h             ⎞    \n",
       "-α₁⋅(-ω⋅cos(h⋅ω) + ω - sin(h⋅ω)) - α₂⋅ω⋅⎝- ℯ ⋅cos(h⋅ω) + 1⎠ - ω"
      ]
     },
     "execution_count": 48,
     "metadata": {},
     "output_type": "execute_result"
    }
   ],
   "source": [
    "i"
   ]
  },
  {
   "cell_type": "markdown",
   "metadata": {},
   "source": [
    "Por lo que al separar en parte real e imaginaria, obtenemos dos expresiones de donde se puede obtener $\\alpha_1$ y $\\alpha_2$, en terminos de $\\omega$:"
   ]
  },
  {
   "cell_type": "code",
   "execution_count": 49,
   "metadata": {
    "collapsed": false
   },
   "outputs": [
    {
     "data": {
      "image/png": "[encoded data removed]",
      "text/latex": [
       "$$\\frac{e^{- h}}{ω \\operatorname{sin}\\left(h ω\\right)} \\left(- α_{1} ω \\operatorname{sin}\\left(h ω\\right) + α_{1} \\left(\\operatorname{cos}\\left(h ω\\right) - 1\\right) + ω^{2}\\right)$$"
      ],
      "text/plain": [
       "⎛                                      2⎞  -h\n",
       "⎝-α₁⋅ω⋅sin(h⋅ω) + α₁⋅(cos(h⋅ω) - 1) + ω ⎠⋅ℯ  \n",
       "─────────────────────────────────────────────\n",
       "                  ω⋅sin(h⋅ω)                 "
      ]
     },
     "execution_count": 49,
     "metadata": {},
     "output_type": "execute_result"
    }
   ],
   "source": [
    "al2 = solve(r, α_2)[0]\n",
    "al2"
   ]
  },
  {
   "cell_type": "code",
   "execution_count": 50,
   "metadata": {
    "collapsed": false
   },
   "outputs": [
    {
     "data": {
      "image/png": "[encoded data removed]",
      "text/latex": [
       "$$\\frac{ω \\left(- ω e^{h} \\operatorname{cos}\\left(h ω\\right) + ω + e^{h} \\operatorname{sin}\\left(h ω\\right)\\right)}{- ω e^{h} \\operatorname{sin}\\left(h ω\\right) + ω \\operatorname{sin}\\left(h ω\\right) - e^{h} \\operatorname{cos}\\left(h ω\\right) + e^{h} - \\operatorname{cos}\\left(h ω\\right) + 1}$$"
      ],
      "text/plain": [
       "              ⎛     h                 h         ⎞             \n",
       "            ω⋅⎝- ω⋅ℯ ⋅cos(h⋅ω) + ω + ℯ ⋅sin(h⋅ω)⎠             \n",
       "──────────────────────────────────────────────────────────────\n",
       "     h                          h             h               \n",
       "- ω⋅ℯ ⋅sin(h⋅ω) + ω⋅sin(h⋅ω) - ℯ ⋅cos(h⋅ω) + ℯ  - cos(h⋅ω) + 1"
      ]
     },
     "execution_count": 50,
     "metadata": {},
     "output_type": "execute_result"
    }
   ],
   "source": [
    "al1 = solve(i.subs(α_2, al2), α_1)[0]\n",
    "al1"
   ]
  },
  {
   "cell_type": "markdown",
   "metadata": {},
   "source": [
    "Creando funciones parametricas para estos valores, podemos graficar las D-particiones del controlador:"
   ]
  },
  {
   "cell_type": "code",
   "execution_count": 27,
   "metadata": {
    "collapsed": true
   },
   "outputs": [],
   "source": [
    "def par1(ω, h):\n",
    "    from numpy import sin, cos, exp\n",
    "    num = ω*(ω*cos(ω*h)*exp(h) - ω - sin(ω*h)*exp(h))\n",
    "    den = ω*sin(ω*h)*(exp(h) - 1) + (cos(ω*h) - 1)*(exp(h) + 1)\n",
    "    return num/den\n",
    "    \n",
    "def par2(α1, ω, h):\n",
    "    from numpy import sin, cos, exp\n",
    "    num = ω**2 - α1*(ω*sin(ω*h) - cos(ω*h) + 1)\n",
    "    den = ω*sin(ω*h)*exp(h)\n",
    "    return num/den"
   ]
  },
  {
   "cell_type": "code",
   "execution_count": 28,
   "metadata": {
    "collapsed": false
   },
   "outputs": [],
   "source": [
    "from numpy import pi\n",
    "τ = 2*pi # o mas bien π = 1/2 τ\n",
    "ɛ = 0.0001"
   ]
  },
  {
   "cell_type": "code",
   "execution_count": 29,
   "metadata": {
    "collapsed": false
   },
   "outputs": [],
   "source": [
    "oms = linspace(ɛ, τ - ɛ, 1.0/ɛ)\n",
    "alpha_1_1 = [par1(om, 1.0) for om in oms]\n",
    "alpha_2_1 = [par2(alpha1, om, 1.0) for om, alpha1 in zip(oms, alpha_1_1)]\n",
    "\n",
    "oms = linspace(τ + ɛ, 1.3*τ - ɛ, 0.3/ɛ)\n",
    "alpha_1_2 = [par1(om, 1.0) for om in oms]\n",
    "alpha_2_2 = [par2(alpha1, om, 1.0) for om, alpha1 in zip(oms, alpha_1_2)]\n",
    "\n",
    "al1 = concatenate((alpha_1_1[::-1], alpha_1_2))\n",
    "al2 = concatenate((alpha_2_1[::-1], alpha_2_2))"
   ]
  },
  {
   "cell_type": "code",
   "execution_count": 30,
   "metadata": {
    "collapsed": false
   },
   "outputs": [
    {
     "data": {
      "image/png": "[encoded data removed]",
      "text/plain": [
       "<matplotlib.figure.Figure at 0x10a0421d0>"
      ]
     },
     "metadata": {},
     "output_type": "display_data"
    }
   ],
   "source": [
    "f = figure(figsize=(8, 8))\n",
    "plot(alpha_1_1, alpha_2_1)\n",
    "plot(alpha_1_2, alpha_2_2)\n",
    "\n",
    "ax = f.gca()\n",
    "ax.set_xlim(-4, 4)\n",
    "ax.set_ylim(-4, 4)\n",
    "\n",
    "p = Polygon(column_stack((al1, al2)), facecolor='cyan', alpha=0.2, edgecolor='none')\n",
    "\n",
    "ax.add_artist(p)\n",
    "\n",
    "ax.set_xlabel(r\"$k_1$\", fontsize=20)\n",
    "ax.set_ylabel(r\"$k_2$\", fontsize=20);"
   ]
  },
  {
   "cell_type": "markdown",
   "metadata": {},
   "source": [
    "En donde el punto $(\\alpha_1, \\alpha_2) = (0, 0)$ es trivialmente estable por Routh - Hurwitz, por lo que podemos considerar la region central de esta gráfica, como estable. Si ahora juntamos las dos gráficas de D-particiones, obtenemos:"
   ]
  },
  {
   "cell_type": "code",
   "execution_count": 31,
   "metadata": {
    "collapsed": false
   },
   "outputs": [
    {
     "data": {
      "image/png": "[encoded data removed]",
      "text/plain": [
       "<matplotlib.figure.Figure at 0x10a092080>"
      ]
     },
     "metadata": {},
     "output_type": "display_data"
    }
   ],
   "source": [
    "f = figure(figsize=(8, 8))\n",
    "\n",
    "plot(zeros(len(alpha1)), alpha1)\n",
    "plot(alpha1, alpha2)\n",
    "\n",
    "plot(alpha_1_1, alpha_2_1)\n",
    "plot(alpha_1_2, alpha_2_2)\n",
    "\n",
    "ax = f.gca()\n",
    "ax.set_xlim(-4, 4)\n",
    "ax.set_ylim(-4, 4)\n",
    "\n",
    "ax.fill_betweenx(alpha2, 0, alpha1, where=alpha1>0, alpha=0.3, facecolor='purple')\n",
    "p = Polygon(column_stack((al1, al2)), facecolor='cyan', alpha=0.2, edgecolor='none')\n",
    "ax.add_artist(p)\n",
    "\n",
    "ax.set_xlabel(r\"$k_1$\", fontsize=20)\n",
    "ax.set_ylabel(r\"$k_2$\", fontsize=20);"
   ]
  },
  {
   "cell_type": "markdown",
   "metadata": {},
   "source": [
    "Y el sistema bajo realimentación será estable, siempre y cuando escojamos una realimentación dentro de las dos regiones de estabilidad."
   ]
  },
  {
   "cell_type": "markdown",
   "metadata": {},
   "source": [
    "## Ejemplo 2"
   ]
  },
  {
   "cell_type": "markdown",
   "metadata": {},
   "source": [
    "Para el sistema:\n",
    "\n",
    "$$\n",
    "\\dot{x}(t) =\n",
    "\\begin{pmatrix}\n",
    "0 & 1 \\\\\n",
    "0 & 0\n",
    "\\end{pmatrix}\n",
    "x(t) +\n",
    "\\begin{pmatrix}\n",
    "0 \\\\\n",
    "1\n",
    "\\end{pmatrix}\n",
    "u(t - h)\n",
    "$$\n",
    "\n",
    "con $h = 1$."
   ]
  },
  {
   "cell_type": "code",
   "execution_count": 32,
   "metadata": {
    "collapsed": false
   },
   "outputs": [
    {
     "data": {
      "image/png": "[encoded data removed]",
      "text/latex": [
       "$$\\left ( k_{1}, \\quad k_{2}\\right )$$"
      ],
      "text/plain": [
       "(k₁, k₂)"
      ]
     },
     "execution_count": 32,
     "metadata": {},
     "output_type": "execute_result"
    }
   ],
   "source": [
    "var(\"k1 k2\")"
   ]
  },
  {
   "cell_type": "code",
   "execution_count": 33,
   "metadata": {
    "collapsed": true
   },
   "outputs": [],
   "source": [
    "A2 = Matrix([[0, 1], [0, 0]])\n",
    "B2 = Matrix([[0], [1]])\n",
    "K2 = Matrix([[k1, k2]])"
   ]
  },
  {
   "cell_type": "markdown",
   "metadata": {},
   "source": [
    "Tiene un polinomio caracteristico:"
   ]
  },
  {
   "cell_type": "code",
   "execution_count": 34,
   "metadata": {
    "collapsed": false
   },
   "outputs": [
    {
     "data": {
      "image/png": "[encoded data removed]",
      "text/latex": [
       "$$- k_{1} + s^{2} + s \\left(h k_{1} - k_{2}\\right)$$"
      ],
      "text/plain": [
       "       2                \n",
       "-k₁ + s  + s⋅(h⋅k₁ - k₂)"
      ]
     },
     "execution_count": 34,
     "metadata": {},
     "output_type": "execute_result"
    }
   ],
   "source": [
    "((s*eye(2) - A2 - exp(-A2*h)*B2*K2).det()).collect(s)"
   ]
  },
  {
   "cell_type": "markdown",
   "metadata": {},
   "source": [
    "o bien:\n",
    "\n",
    "$$\n",
    "s^2 +  \\left( h k_1 - k_2 \\right) s - k_1\n",
    "$$\n",
    "\n",
    "Al cual podemos aplicar el criterio de estabilidad de Routh-Hurwitz y obtener:\n",
    "\n",
    "$$\n",
    "\\begin{align}\n",
    "k_1 &< 0 \\\\\n",
    "k_2 &< h k_1\n",
    "\\end{align}\n",
    "$$\n",
    "\n",
    "Por lo que la gráfica de D-particiones se verá:"
   ]
  },
  {
   "cell_type": "code",
   "execution_count": 35,
   "metadata": {
    "collapsed": false
   },
   "outputs": [],
   "source": [
    "h = 1\n",
    "x = linspace(-4, -1, 100)\n",
    "K_1 = linspace(-4, 4, 100)\n",
    "K_2 = h*K_1"
   ]
  },
  {
   "cell_type": "code",
   "execution_count": 36,
   "metadata": {
    "collapsed": false
   },
   "outputs": [
    {
     "data": {
      "image/png": "[encoded data removed]",
      "text/plain": [
       "<matplotlib.figure.Figure at 0x10a0b8da0>"
      ]
     },
     "metadata": {},
     "output_type": "display_data"
    }
   ],
   "source": [
    "f = figure(figsize=(8, 8))\n",
    "plot(zeros(len(K_1)), K_1)\n",
    "plot(K_1, K_2)\n",
    "\n",
    "ax = f.gca()\n",
    "ax.set_xlim(-4, 4)\n",
    "ax.set_ylim(-4, 4)\n",
    "\n",
    "ax.fill_betweenx(K_2, 0, K_1, where=K_1<0, alpha=0.3, facecolor='green')\n",
    "\n",
    "ax.set_xlabel(r\"$k_1$\", fontsize=20)\n",
    "ax.set_ylabel(r\"$k_2$\", fontsize=20);"
   ]
  },
  {
   "cell_type": "markdown",
   "metadata": {},
   "source": [
    "Por otro lado, para analizar el comportamiento del controlador, sustituimos los datos en la ecuación del controlador:\n",
    "\n",
    "$$\n",
    "\\begin{align}\n",
    "u(t) &=\n",
    "\\begin{pmatrix}\n",
    "k_1 & k_2\n",
    "\\end{pmatrix} x(t) +\n",
    "\\begin{pmatrix}\n",
    "k_1 & k_2\n",
    "\\end{pmatrix}\n",
    "\\int_{-h}^0 e^{-A(\\theta + h)} B u(t + \\theta) d\\theta \\\\\n",
    "&=\n",
    "\\begin{pmatrix}\n",
    "k_1 & k_2\n",
    "\\end{pmatrix}\n",
    "\\begin{pmatrix}\n",
    "x_1(t) \\\\\n",
    "x_2(t)\n",
    "\\end{pmatrix} +\n",
    "\\begin{pmatrix}\n",
    "k_1 & k_2\n",
    "\\end{pmatrix}\n",
    "\\int_{-h}^0 e^{-A(\\theta + h)} B u(t + \\theta) d\\theta \\\\\n",
    "\\end{align}\n",
    "$$"
   ]
  },
  {
   "cell_type": "code",
   "execution_count": 37,
   "metadata": {
    "collapsed": false
   },
   "outputs": [
    {
     "data": {
      "image/png": "[encoded data removed]",
      "text/latex": [
       "$$\\left[\\begin{matrix}1 & - θ - 1\\\\0 & 1\\end{matrix}\\right]$$"
      ],
      "text/plain": [
       "⎡1  -θ - 1⎤\n",
       "⎢         ⎥\n",
       "⎣0    1   ⎦"
      ]
     },
     "execution_count": 37,
     "metadata": {},
     "output_type": "execute_result"
    }
   ],
   "source": [
    "exp(-A2*(θ + h))"
   ]
  },
  {
   "cell_type": "markdown",
   "metadata": {},
   "source": [
    "$$\n",
    "\\begin{align}\n",
    "u(t) &=\n",
    "\\begin{pmatrix}\n",
    "k_1 & k_2\n",
    "\\end{pmatrix}\n",
    "\\begin{pmatrix}\n",
    "x_1(t) \\\\\n",
    "x_2(t)\n",
    "\\end{pmatrix} +\n",
    "\\int_{-h}^0\n",
    "\\begin{pmatrix}\n",
    "k_1 & k_2\n",
    "\\end{pmatrix}\n",
    "\\begin{pmatrix}\n",
    "1 & - (\\theta  +h) \\\\\n",
    "0 & 1\n",
    "\\end{pmatrix}\n",
    "\\begin{pmatrix}\n",
    "0 \\\\\n",
    "1\n",
    "\\end{pmatrix} u(t + \\theta) d\\theta \\\\\n",
    "&= k_1 x_1(t) + k_2 x_2(t) - \\int_{-h}^0 k_1 \\theta u(t + \\theta) d\\theta - \\int_{-h}^0 k_1 h u(t + \\theta) d\\theta + \\int_{-h}^0 k_2 u(t + \\theta) d\\theta \\\\\n",
    "\\end{align}\n",
    "$$\n",
    "\n",
    "y al aplicar la transformada de Laplace, tenemos:\n",
    "\n",
    "$$\n",
    "u(s) = k_1 x_1(s) + k_2 x_2(s) - h k_1 \\frac{e^{-hs}}{s} u(s) + k_1 \\frac{1 - e^{-hs}}{s^2} u(s) - h k_1 \\frac{1 - e^{-hs}}{s} u(s) + k_2 \\frac{1 - e^{-hs}}{s} u(s)\n",
    "$$\n",
    "\n",
    "por lo que al pasar a un solo lado todos los terminos de $u(s)$:\n",
    "\n",
    "$$\n",
    "\\begin{align}\n",
    "\\left[ 1 + h k_1 \\frac{e^{-hs}}{s} - k_1 \\frac{1 - e^{-hs}}{s^2} + h k_1 \\frac{1 - e^{-hs}}{s} - k_2 \\frac{1 - e^{-hs}}{s} \\right] u(s) &= k_1 x_1(s) + k_2 x_2(s) \\\\\n",
    "\\left[ 1 + \\frac{h k_1 e^{-hs}}{s} - \\frac{k_1}{s^2} + \\frac{k_1 e^{-hs}}{s^2} + \\frac{h k_1}{s} - \\frac{h k_1 e^{-hs}}{s} - \\frac{k_2}{s} + \\frac{k_2 e^{-hs}}{s} \\right] u(s) &= k_1 x_1(s) + k_2 x_2(s) \\\\\n",
    "\\left[ 1  - \\frac{k_1}{s^2} + \\frac{k_1 e^{-hs}}{s^2} + \\frac{h k_1}{s} - \\frac{k_2}{s} + \\frac{k_2 e^{-hs}}{s} \\right] u(s) &= k_1 x_1(s) + k_2 x_2(s) \\\\\n",
    "\\left[ 1  + \\frac{k_1 e^{-hs} - k_1}{s^2} + \\frac{h k_1 + k_2 e^{-hs} - k_2}{s} \\right] u(s) &= k_1 x_1(s) + k_2 x_2(s)\n",
    "\\end{align}\n",
    "$$\n",
    "\n",
    "obtenemos el polinomio caracteristico de la ecuación de control:\n",
    "\n",
    "$$\n",
    "1  + \\frac{k_1 e^{-hs} - k_1}{s^2} + \\frac{h k_1 + k_2 e^{-hs} - k_2}{s}\n",
    "$$\n",
    "\n",
    "y al sustituir $s = j \\omega$, obtendremos dos ecuaciones, correspondientes a la parte real e imaginaria:\n",
    "\n",
    "$$\n",
    "\\begin{align}\n",
    "k_1 \\left[ \\omega h - \\sin{(\\omega h)} \\right] - k_2 \\left[ \\omega - \\cos{(\\omega h)} \\right] &= 0 \\\\\n",
    "- k_1 \\left[ 1 - \\cos{(\\omega h)} \\right] + k_2 \\left[ \\omega \\sin{(\\omega h)} \\right] - \\omega^2 &= 0 \\\\\n",
    "\\end{align}\n",
    "$$\n",
    "\n",
    "por lo que podemos despejar $k_2$ de ambas ecuaciones y obtener:\n",
    "\n",
    "$$\n",
    "k_2 = \\frac{k_1 \\left[ \\omega h - \\sin{(\\omega h)} \\right]}{\\omega - \\cos{(\\omega h)}} = \\frac{k_1 \\left[ 1 - \\cos{(\\omega h)} \\right] + \\omega^2}{\\omega \\sin{(\\omega h)}}\n",
    "$$\n",
    "\n",
    "y haciendo un poco de algebra, podemos obtener:\n",
    "\n",
    "$$\n",
    "\\frac{k_1 \\left[ \\omega h - \\sin{(\\omega h)} \\right]}{\\omega - \\cos{(\\omega h)}} = \\frac{k_1 \\left[ 1 - \\cos{(\\omega h)} \\right] + \\omega^2}{\\omega \\sin{(\\omega h)}}\n",
    "$$\n",
    "\n",
    "$$\n",
    "\\frac{k_1 \\left[ \\omega h - \\sin{(\\omega h)} \\right] \\left[ \\omega \\sin{(\\omega h)} \\right]}{\\omega - \\cos{(\\omega h)}} - k_1 \\left[ 1 - \\cos{(\\omega h)} \\right] = \\omega^2\n",
    "$$\n",
    "\n",
    "$$\n",
    "k_1 \\frac{\\left[ \\omega h - \\sin{(\\omega h)} \\right] \\left[ \\omega \\sin{(\\omega h)} \\right] - \\left[ 1 - \\cos{(\\omega h)} \\right] \\left[ \\omega - \\cos{(\\omega h)} \\right]}{\\omega - \\cos{(\\omega h)}} = \\omega^2\n",
    "$$\n",
    "\n",
    "$$\n",
    "k_1 = \\frac{\\omega^2 \\left[ \\omega - \\cos{(\\omega h)} \\right]}{\\left[ \\omega h - \\sin{(\\omega h)} \\right] \\left[ \\omega \\sin{(\\omega h)} \\right] - \\left[ 1 - \\cos{(\\omega h)} \\right] \\left[ \\omega - \\cos{(\\omega h)} \\right]}\n",
    "$$\n",
    "\n",
    "Si sustituimos un punto por debajo de esta curva, $(k_1, k_2) = (0, 0)$, podemos ver que el polinomio caracteristico es trivialmente estable por el criterio de Routh-Hurwitz:\n",
    "\n",
    "$$\n",
    "P(s) = 1\n",
    "$$\n",
    "\n",
    "por lo que la gráfica de D-particiones para el controlador queda:"
   ]
  },
  {
   "cell_type": "code",
   "execution_count": 38,
   "metadata": {
    "collapsed": true
   },
   "outputs": [],
   "source": [
    "def par1(ω, h):\n",
    "    from numpy import sin, cos\n",
    "    num = ω**2*(ω - cos(ω*h))\n",
    "    den = (ω*h - sin(ω*h))*(ω*sin(ω*h)) - (1 - cos(ω*h))*(ω - cos(ω*h))\n",
    "    return num/den\n",
    "    \n",
    "def par2(k1, ω, h):\n",
    "    from numpy import sin, cos\n",
    "    num = k1*(ω*h - sin(ω*h))\n",
    "    den = ω - cos(ω*h)\n",
    "    return num/den"
   ]
  },
  {
   "cell_type": "code",
   "execution_count": 39,
   "metadata": {
    "collapsed": false
   },
   "outputs": [],
   "source": [
    "oms = linspace(-0.22*τ, 0.13*τ, 10000)\n",
    "k_1 = [par1(om, 1.0) for om in oms]\n",
    "k_2 = [par2(k1, om, 1.0) for om, k1 in zip(oms, k_1)]"
   ]
  },
  {
   "cell_type": "code",
   "execution_count": 40,
   "metadata": {
    "collapsed": false
   },
   "outputs": [
    {
     "data": {
      "image/png": "[encoded data removed]",
      "text/plain": [
       "<matplotlib.figure.Figure at 0x10a0b8b00>"
      ]
     },
     "metadata": {},
     "output_type": "display_data"
    }
   ],
   "source": [
    "f = figure(figsize=(8, 8))\n",
    "plot(k_1, k_2)\n",
    "\n",
    "ax = f.gca()\n",
    "ax.set_xlim(-4, 4)\n",
    "ax.set_ylim(-4, 4)\n",
    "\n",
    "ax.fill_between(k_1, -4, k_2, alpha=0.3, facecolor='orange')\n",
    "\n",
    "ax.set_xlabel(r\"$k_1$\", fontsize=20)\n",
    "ax.set_ylabel(r\"$k_2$\", fontsize=20);"
   ]
  },
  {
   "cell_type": "markdown",
   "metadata": {},
   "source": [
    "Y el sistema con este controlador será estable para los valores de $k_1$ y $k_2$ escogidos tal que se encuentren en la intersección de estas dos regiones:"
   ]
  },
  {
   "cell_type": "code",
   "execution_count": 41,
   "metadata": {
    "collapsed": false
   },
   "outputs": [
    {
     "data": {
      "image/png": "[encoded data removed]",
      "text/plain": [
       "<matplotlib.figure.Figure at 0x109f4ee80>"
      ]
     },
     "metadata": {},
     "output_type": "display_data"
    }
   ],
   "source": [
    "f = figure(figsize=(8, 8))\n",
    "plot(zeros(len(K_1)), K_1)\n",
    "plot(K_1, K_2)\n",
    "plot(k_1, k_2)\n",
    "\n",
    "ax = f.gca()\n",
    "ax.set_xlim(-4, 4)\n",
    "ax.set_ylim(-4, 4)\n",
    "\n",
    "ax.fill_betweenx(K_2, 0, K_1, where=K_1<0, alpha=0.3, facecolor='green')\n",
    "ax.fill_between(k_1, -4, k_2, alpha=0.3, facecolor='orange')\n",
    "\n",
    "ax.set_xlabel(r\"$k_1$\", fontsize=20)\n",
    "ax.set_ylabel(r\"$k_2$\", fontsize=20);"
   ]
  },
  {
   "cell_type": "markdown",
   "metadata": {},
   "source": [
    "Puedes acceder a este notebook a traves de la página\n",
    "\n",
    "http://bit.ly/1wMAK3L\n",
    "\n",
    "o escaneando el siguiente código:\n",
    "\n",
    "![Codigo](codigos/codigo11.jpg)"
   ]
  },
  {
   "cell_type": "code",
   "execution_count": 42,
   "metadata": {
    "collapsed": false
   },
   "outputs": [],
   "source": [
    "# Codigo para generar codigo :)\n",
    "from qrcode import make\n",
    "img = make(\"http://bit.ly/1wMAK3L\")\n",
    "img.save(\"codigos/codigo11.jpg\")"
   ]
  }
 ],
 "metadata": {
  "kernelspec": {
   "display_name": "Python 3",
   "language": "python",
   "name": "python3"
  },
  "language_info": {
   "codemirror_mode": {
    "name": "ipython",
    "version": 3
   },
   "file_extension": ".py",
   "mimetype": "text/x-python",
   "name": "python",
   "nbconvert_exporter": "python",
   "pygments_lexer": "ipython3",
   "version": "3.4.3"
  }
 },
 "nbformat": 4,
 "nbformat_minor": 0
}
