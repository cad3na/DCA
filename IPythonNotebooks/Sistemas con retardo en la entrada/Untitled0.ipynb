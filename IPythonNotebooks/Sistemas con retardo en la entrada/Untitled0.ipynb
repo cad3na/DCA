{
 "metadata": {
  "name": "",
  "signature": "sha256:b75ab912f72350f664dcfd84f95f4b9a333f310535cbeeb6bd7f6677400906e4"
 },
 "nbformat": 3,
 "nbformat_minor": 0,
 "worksheets": [
  {
   "cells": [
    {
     "cell_type": "code",
     "collapsed": false,
     "input": [
      "from PyDDE.pydde import dde"
     ],
     "language": "python",
     "metadata": {},
     "outputs": [
      {
       "output_type": "stream",
       "stream": "stdout",
       "text": [
        "Loaded package PyDDE\n"
       ]
      }
     ],
     "prompt_number": 1
    },
    {
     "cell_type": "code",
     "collapsed": false,
     "input": [
      "def f():\n",
      "    ret1 = 0.0\n",
      "    ret2 = 0.0\n",
      "    "
     ],
     "language": "python",
     "metadata": {},
     "outputs": []
    }
   ],
   "metadata": {}
  }
 ]
}