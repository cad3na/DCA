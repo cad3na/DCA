{
 "metadata": {
  "name": "",
  "signature": "sha256:956701ab7992be3ae7601201c46866466c02dc713775e2dd4a2aa2143944f492"
 },
 "nbformat": 3,
 "nbformat_minor": 0,
 "worksheets": [
  {
   "cells": [
    {
     "cell_type": "code",
     "collapsed": false,
     "input": [
      "%matplotlib inline\n",
      "from matplotlib.pyplot import plot, style, figure, contour\n",
      "style.use(\"ggplot\")"
     ],
     "language": "python",
     "metadata": {},
     "outputs": [],
     "prompt_number": 1
    },
    {
     "cell_type": "code",
     "collapsed": false,
     "input": [
      "from numpy import cos, linspace, meshgrid, sqrt, tan, sin, pi, array, abs"
     ],
     "language": "python",
     "metadata": {},
     "outputs": [],
     "prompt_number": 217
    },
    {
     "cell_type": "code",
     "collapsed": false,
     "input": [
      "a = lambda om, h: -om/sin(om*h)\n",
      "b = lambda om, h: om/tan(om*h)\n",
      "y = lambda x: -x"
     ],
     "language": "python",
     "metadata": {},
     "outputs": [],
     "prompt_number": 86
    },
    {
     "cell_type": "code",
     "collapsed": false,
     "input": [
      "tau = 2*pi\n",
      "w = linspace(-3*tau, 3*tau, 1000)\n",
      "x = linspace(-15, 15, 100)"
     ],
     "language": "python",
     "metadata": {},
     "outputs": [],
     "prompt_number": 98
    },
    {
     "cell_type": "code",
     "collapsed": false,
     "input": [
      "f = figure(figsize = (8, 8))\n",
      "plot(b(w, 1), a(w, 1), \".\")\n",
      "plot(x, y(x), \".\")\n",
      "ax = f.gca()\n",
      "ax.set_xlim(-15, 15)\n",
      "ax.set_ylim(-15, 15);"
     ],
     "language": "python",
     "metadata": {},
     "outputs": [
      {
       "metadata": {},
       "output_type": "display_data",
       "png": "[encoded data removed]",
       "text": [
        "<matplotlib.figure.Figure at 0x10747b750>"
       ]
      }
     ],
     "prompt_number": 150
    },
    {
     "cell_type": "code",
     "collapsed": false,
     "input": [
      "b(w, 1)"
     ],
     "language": "python",
     "metadata": {},
     "outputs": [
      {
       "metadata": {},
       "output_type": "pyout",
       "prompt_number": 102,
       "text": [
        "array([ -2.56530508e+16,  -4.98263345e+02,  -2.48277504e+02,\n",
        "        -1.64792344e+02,  -1.22932732e+02,  -9.77235341e+01,\n",
        "        -8.08396157e+01,  -6.87129855e+01,  -5.95595791e+01,\n",
        "        -5.23881878e+01,  -4.66040295e+01,  -4.18285537e+01,\n",
        "        -3.78093433e+01,  -3.43716008e+01,  -3.13904247e+01,\n",
        "        -2.87741763e+01,  -2.64540831e+01,  -2.43775116e+01,\n",
        "        -2.25034819e+01,  -2.07995992e+01,  -1.92399048e+01,\n",
        "        -1.78033417e+01,  -1.64726375e+01,  -1.52334792e+01,\n",
        "        -1.40738935e+01,  -1.29837758e+01,  -1.19545275e+01,\n",
        "        -1.09787734e+01,  -1.00501392e+01,  -9.16307490e+00,\n",
        "        -8.31271289e+00,  -7.49475281e+00,  -6.70536768e+00,\n",
        "        -5.94112633e+00,  -5.19892890e+00,  -4.47595250e+00,\n",
        "        -3.76960519e+00,  -3.07748637e+00,  -2.39735239e+00,\n",
        "        -1.72708616e+00,  -1.06466996e+00,  -4.08160674e-01,\n",
        "         2.44333277e-01,   8.94673859e-01,   1.54471472e+00,\n",
        "         2.19632240e+00,   2.85139800e+00,   3.51189977e+00,\n",
        "         4.17986733e+00,   4.85744805e+00,   5.54692639e+00,\n",
        "         6.25075713e+00,   6.97160358e+00,   7.71238201e+00,\n",
        "         8.47631411e+00,   9.26698954e+00,   1.00884413e+01,\n",
        "         1.09452373e+01,   1.18425934e+01,   1.27865129e+01,\n",
        "         1.37839625e+01,   1.48430933e+01,   1.59735259e+01,\n",
        "         1.71867175e+01,   1.84964440e+01,   1.99194395e+01,\n",
        "         2.14762587e+01,   2.31924556e+01,   2.51002276e+01,\n",
        "         2.72407501e+01,   2.96675680e+01,   3.24516484e+01,\n",
        "         3.56891276e+01,   3.95135918e+01,   4.41163249e+01,\n",
        "         4.97812798e+01,   5.69489917e+01,   6.63418486e+01,\n",
        "         7.92325258e+01,   9.80913879e+01,   1.28429093e+02,\n",
        "         1.85552805e+02,   3.33752234e+02,   1.66595057e+03,\n",
        "        -5.53852067e+02,  -2.36512715e+02,  -1.49823467e+02,\n",
        "        -1.09264732e+02,  -8.57017446e+01,  -7.02673253e+01,\n",
        "        -5.93488535e+01,  -5.11982287e+01,  -4.48664304e+01,\n",
        "        -3.97937321e+01,  -3.56286337e+01,  -3.21392531e+01,\n",
        "        -2.91664167e+01,  -2.65972181e+01,  -2.43493332e+01,\n",
        "        -2.23613103e+01,  -2.05863379e+01,  -1.89881189e+01,\n",
        "        -1.75380655e+01,  -1.62133453e+01,  -1.49954927e+01,\n",
        "        -1.38694030e+01,  -1.28225916e+01,  -1.18446400e+01,\n",
        "        -1.09267759e+01,  -1.00615509e+01,  -9.24259050e+00,\n",
        "        -8.46439703e+00,  -7.72219424e+00,  -7.01180235e+00,\n",
        "        -6.32953724e+00,  -5.67212823e+00,  -5.03665038e+00,\n",
        "        -4.42046836e+00,  -3.82118931e+00,  -3.23662305e+00,\n",
        "        -2.66474791e+00,  -2.10368127e+00,  -1.55165356e+00,\n",
        "        -1.00698529e+00,  -4.68066041e-01,   6.66647596e-02,\n",
        "         5.98736059e-01,   1.12966271e+00,   1.66096275e+00,\n",
        "         2.19417497e+00,   2.73087694e+00,   3.27270433e+00,\n",
        "         3.82137168e+00,   4.37869542e+00,   4.94661975e+00,\n",
        "         5.52724629e+00,   6.12286833e+00,   6.73601124e+00,\n",
        "         7.36948033e+00,   8.02641845e+00,   8.71037587e+00,\n",
        "         9.42539592e+00,   1.01761210e+01,   1.09679250e+01,\n",
        "         1.18070808e+01,   1.27009734e+01,   1.36583760e+01,\n",
        "         1.46898094e+01,   1.58080183e+01,   1.70286107e+01,\n",
        "         1.83709285e+01,   1.98592560e+01,   2.15245271e+01,\n",
        "         2.34067912e+01,   2.55588630e+01,   2.80518753e+01,\n",
        "         3.09840054e+01,   3.44947115e+01,   3.87890194e+01,\n",
        "         4.41812372e+01,   5.11790213e+01,   6.06591521e+01,\n",
        "         7.42776749e+01,   9.55831398e+01,   1.33801617e+02,\n",
        "         2.22761773e+02,   6.66920844e+02,  -6.64921081e+02,\n",
        "        -2.20763910e+02,  -1.31807555e+02,  -9.35947833e+01,\n",
        "        -7.22969369e+01,  -5.86879537e+01,  -4.92192944e+01,\n",
        "        -4.22349272e+01,  -3.68580873e+01,  -3.25811362e+01,\n",
        "        -2.90897867e+01,  -2.61790360e+01,  -2.37094518e+01,\n",
        "        -2.15828854e+01,  -1.97282356e+01,  -1.80927225e+01,\n",
        "        -1.66363344e+01,  -1.53281788e+01,  -1.41440164e+01,\n",
        "        -1.30645539e+01,  -1.20742362e+01,  -1.11603758e+01,\n",
        "        -1.03125136e+01,  -9.52194330e+00,  -8.78135195e+00,\n",
        "        -8.08454462e+00,  -7.42623144e+00,  -6.80186085e+00,\n",
        "        -6.20748758e+00,  -5.63966734e+00,  -5.09537186e+00,\n",
        "        -4.57191977e+00,  -4.06691994e+00,  -3.57822450e+00,\n",
        "        -3.10388965e+00,  -2.64214257e+00,  -2.19135321e+00,\n",
        "        -1.75000999e+00,  -1.31669860e+00,  -8.90083233e-01,\n",
        "        -4.68889685e-01,  -5.18899264e-02,   3.62112343e-01,\n",
        "         7.74295461e-01,   1.18583325e+00,   1.59790849e+00,\n",
        "         2.01172669e+00,   2.42853057e+00,   2.84961562e+00,\n",
        "         3.27634713e+00,   3.71017923e+00,   4.15267645e+00,\n",
        "         4.60553877e+00,   5.07063068e+00,   5.55001573e+00,\n",
        "         6.04599788e+00,   6.56117143e+00,   7.09848215e+00,\n",
        "         7.66130261e+00,   8.25352620e+00,   8.87968543e+00,\n",
        "         9.54510245e+00,   1.02560829e+01,   1.10201678e+01,\n",
        "         1.18464669e+01,   1.27461024e+01,   1.37328136e+01,\n",
        "         1.48237900e+01,   1.60408434e+01,   1.74120918e+01,\n",
        "         1.89744347e+01,   2.07772922e+01,   2.28884317e+01,\n",
        "         2.54033788e+01,   2.84612816e+01,   3.22730573e+01,\n",
        "         3.71745566e+01,   4.37352049e+01,   5.30038736e+01,\n",
        "         6.71481443e+01,   9.14883321e+01,   1.43505302e+02,\n",
        "         3.33910813e+02,  -9.97970391e+02,  -1.98652528e+02,\n",
        "        -1.09735530e+02,  -7.54654860e+01,  -5.72685749e+01,\n",
        "        -4.59605043e+01,  -3.82348879e+01,  -3.26095171e+01,\n",
        "        -2.83207988e+01,  -2.49353141e+01,  -2.21887579e+01,\n",
        "        -1.99107764e+01,  -1.79866196e+01,  -1.63361579e+01,\n",
        "        -1.49017344e+01,  -1.36407958e+01,  -1.25212448e+01,\n",
        "        -1.15184086e+01,  -1.06130040e+01,  -9.78973670e+00,\n",
        "        -9.03631537e+00,  -8.34274437e+00,  -7.70080666e+00,\n",
        "        -7.10368031e+00,  -6.54564965e+00,  -6.02188496e+00,\n",
        "        -5.52827239e+00,  -5.06128113e+00,  -4.61785868e+00,\n",
        "        -4.19534739e+00,  -3.79141736e+00,  -3.40401203e+00,\n",
        "        -3.03130363e+00,  -2.67165643e+00,  -2.32359613e+00,\n",
        "        -1.98578415e+00,  -1.65699580e+00,  -1.33610160e+00,\n",
        "        -1.02205102e+00,  -7.13858284e-01,  -4.10589646e-01,\n",
        "        -1.11351887e-01,   1.84718298e-01,   4.78464300e-01,\n",
        "         7.70719229e-01,   1.06231542e+00,   1.35409400e+00,\n",
        "         1.64691489e+00,   1.94166723e+00,   2.23928087e+00,\n",
        "         2.54073891e+00,   2.84709194e+00,   3.15947424e+00,\n",
        "         3.47912265e+00,   3.80739882e+00,   4.14581563e+00,\n",
        "         4.49606910e+00,   4.86007719e+00,   5.24002753e+00,\n",
        "         5.63843681e+00,   6.05822519e+00,   6.50281083e+00,\n",
        "         6.97623109e+00,   7.48329980e+00,   8.02981405e+00,\n",
        "         8.62282952e+00,   9.27103290e+00,   9.98525371e+00,\n",
        "         1.07791806e+01,   1.16703845e+01,   1.26818136e+01,\n",
        "         1.38440365e+01,   1.51987068e+01,   1.68041087e+01,\n",
        "         1.87443975e+01,   2.11457712e+01,   2.42065035e+01,\n",
        "         2.82570085e+01,   3.38919840e+01,   4.23007686e+01,\n",
        "         5.62584137e+01,   8.40899687e+01,   1.67420482e+02,\n",
        "        -2.56530508e+16,  -1.65421431e+02,  -8.20937677e+01,\n",
        "        -5.42669654e+01,  -4.03159818e+01,  -3.19157750e+01,\n",
        "        -2.62913036e+01,  -2.22532410e+01,  -1.92069039e+01,\n",
        "        -1.68218952e+01,  -1.48999604e+01,  -1.33149234e+01,\n",
        "        -1.19826534e+01,  -1.08448936e+01,  -9.86002011e+00,\n",
        "        -8.99749785e+00,  -8.23441471e+00,  -7.55323934e+00,\n",
        "        -6.94032620e+00,  -6.38489257e+00,  -5.87830252e+00,\n",
        "        -5.41355532e+00,  -4.98491334e+00,  -4.58762699e+00,\n",
        "        -4.21772832e+00,  -3.87187413e+00,  -3.54722517e+00,\n",
        "        -3.24135214e+00,  -2.95216177e+00,  -2.67783804e+00,\n",
        "        -2.41679512e+00,  -2.16763929e+00,  -1.92913787e+00,\n",
        "        -1.70019371e+00,  -1.47982402e+00,  -1.26714263e+00,\n",
        "        -1.06134515e+00,  -8.61696185e-01,  -6.67518489e-01,\n",
        "        -4.78183464e-01,  -2.93102828e-01,  -1.11721188e-01,\n",
        "         6.64906949e-02,   2.42042107e-01,   4.15428218e-01,\n",
        "         5.87135691e-01,   7.57648199e-01,   9.27451983e-01,\n",
        "         1.09704159e+00,   1.26692596e+00,   1.43763498e+00,\n",
        "         1.60972675e+00,   1.78379578e+00,   1.96048232e+00,\n",
        "         2.14048336e+00,   2.32456543e+00,   2.51358007e+00,\n",
        "         2.70848245e+00,   2.91035420e+00,   3.12043165e+00,\n",
        "         3.34014107e+00,   3.57114331e+00,   3.81539075e+00,\n",
        "         4.07520105e+00,   4.35335363e+00,   4.65321775e+00,\n",
        "         4.97892502e+00,   5.33560538e+00,   5.72971592e+00,\n",
        "         6.16950787e+00,   6.66570504e+00,   7.23251441e+00,\n",
        "         7.88917556e+00,   8.66241696e+00,   9.59050542e+00,\n",
        "         1.07302405e+01,   1.21697373e+01,   1.40534804e+01,\n",
        "         1.66360108e+01,   2.04114065e+01,   2.64818034e+01,\n",
        "         3.79086376e+01,   6.75498534e+01,   3.33990091e+02,\n",
        "        -1.09970627e+02,  -4.65037062e+01,  -2.91675673e+01,\n",
        "        -2.10582938e+01,  -1.63489355e+01,  -1.32660602e+01,\n",
        "        -1.10871484e+01,  -9.46258573e+00,  -8.20257440e+00,\n",
        "        -7.19517666e+00,  -6.37010096e+00,  -5.68098047e+00,\n",
        "        -5.09599103e+00,  -4.59256312e+00,  -4.15424490e+00,\n",
        "        -3.76876017e+00,  -3.42676213e+00,  -3.12100825e+00,\n",
        "        -2.84579931e+00,  -2.59658871e+00,  -2.36970491e+00,\n",
        "        -2.16215028e+00,  -1.97145309e+00,  -1.79555689e+00,\n",
        "        -1.63273662e+00,  -1.48153439e+00,  -1.34070953e+00,\n",
        "        -1.20919958e+00,  -1.08608925e+00,  -9.70585836e-01,\n",
        "        -8.61999236e-01,  -7.59725888e-01,  -6.63235578e-01,\n",
        "        -5.72060611e-01,  -4.85786846e-01,  -4.04046241e-01,\n",
        "        -3.26510614e-01,  -2.52886387e-01,  -1.82910155e-01,\n",
        "        -1.16344914e-01,  -5.29768488e-02,   7.38741662e-03,\n",
        "         6.49231871e-02,   1.19789737e-01,   1.72132075e-01,\n",
        "         2.22082486e-01,   2.69761863e-01,   3.15280879e-01,\n",
        "         3.58741015e-01,   4.00235461e-01,   4.39849910e-01,\n",
        "         4.77663260e-01,   5.13748237e-01,   5.48171949e-01,\n",
        "         5.80996374e-01,   6.12278800e-01,   6.42072213e-01,\n",
        "         6.70425651e-01,   6.97384515e-01,   7.22990848e-01,\n",
        "         7.47283592e-01,   7.70298810e-01,   7.92069895e-01,\n",
        "         8.12627752e-01,   8.32000963e-01,   8.50215938e-01,\n",
        "         8.67297053e-01,   8.83266767e-01,   8.98145735e-01,\n",
        "         9.11952904e-01,   9.24705607e-01,   9.36419640e-01,\n",
        "         9.47109334e-01,   9.56787617e-01,   9.65466077e-01,\n",
        "         9.73155004e-01,   9.79863441e-01,   9.85599222e-01,\n",
        "         9.90368998e-01,   9.94178275e-01,   9.97031426e-01,\n",
        "         9.98931719e-01,   9.99881325e-01,   9.99881325e-01,\n",
        "         9.98931719e-01,   9.97031426e-01,   9.94178275e-01,\n",
        "         9.90368998e-01,   9.85599222e-01,   9.79863441e-01,\n",
        "         9.73155004e-01,   9.65466077e-01,   9.56787617e-01,\n",
        "         9.47109334e-01,   9.36419640e-01,   9.24705607e-01,\n",
        "         9.11952904e-01,   8.98145735e-01,   8.83266767e-01,\n",
        "         8.67297053e-01,   8.50215938e-01,   8.32000963e-01,\n",
        "         8.12627752e-01,   7.92069895e-01,   7.70298810e-01,\n",
        "         7.47283592e-01,   7.22990848e-01,   6.97384515e-01,\n",
        "         6.70425651e-01,   6.42072213e-01,   6.12278800e-01,\n",
        "         5.80996374e-01,   5.48171949e-01,   5.13748237e-01,\n",
        "         4.77663260e-01,   4.39849910e-01,   4.00235461e-01,\n",
        "         3.58741015e-01,   3.15280879e-01,   2.69761863e-01,\n",
        "         2.22082486e-01,   1.72132075e-01,   1.19789737e-01,\n",
        "         6.49231871e-02,   7.38741662e-03,  -5.29768488e-02,\n",
        "        -1.16344914e-01,  -1.82910155e-01,  -2.52886387e-01,\n",
        "        -3.26510614e-01,  -4.04046241e-01,  -4.85786846e-01,\n",
        "        -5.72060611e-01,  -6.63235578e-01,  -7.59725888e-01,\n",
        "        -8.61999236e-01,  -9.70585836e-01,  -1.08608925e+00,\n",
        "        -1.20919958e+00,  -1.34070953e+00,  -1.48153439e+00,\n",
        "        -1.63273662e+00,  -1.79555689e+00,  -1.97145309e+00,\n",
        "        -2.16215028e+00,  -2.36970491e+00,  -2.59658871e+00,\n",
        "        -2.84579931e+00,  -3.12100825e+00,  -3.42676213e+00,\n",
        "        -3.76876017e+00,  -4.15424490e+00,  -4.59256312e+00,\n",
        "        -5.09599103e+00,  -5.68098047e+00,  -6.37010096e+00,\n",
        "        -7.19517666e+00,  -8.20257440e+00,  -9.46258573e+00,\n",
        "        -1.10871484e+01,  -1.32660602e+01,  -1.63489355e+01,\n",
        "        -2.10582938e+01,  -2.91675673e+01,  -4.65037062e+01,\n",
        "        -1.09970627e+02,   3.33990091e+02,   6.75498534e+01,\n",
        "         3.79086376e+01,   2.64818034e+01,   2.04114065e+01,\n",
        "         1.66360108e+01,   1.40534804e+01,   1.21697373e+01,\n",
        "         1.07302405e+01,   9.59050542e+00,   8.66241696e+00,\n",
        "         7.88917556e+00,   7.23251441e+00,   6.66570504e+00,\n",
        "         6.16950787e+00,   5.72971592e+00,   5.33560538e+00,\n",
        "         4.97892502e+00,   4.65321775e+00,   4.35335363e+00,\n",
        "         4.07520105e+00,   3.81539075e+00,   3.57114331e+00,\n",
        "         3.34014107e+00,   3.12043165e+00,   2.91035420e+00,\n",
        "         2.70848245e+00,   2.51358007e+00,   2.32456543e+00,\n",
        "         2.14048336e+00,   1.96048232e+00,   1.78379578e+00,\n",
        "         1.60972675e+00,   1.43763498e+00,   1.26692596e+00,\n",
        "         1.09704159e+00,   9.27451983e-01,   7.57648199e-01,\n",
        "         5.87135691e-01,   4.15428218e-01,   2.42042107e-01,\n",
        "         6.64906949e-02,  -1.11721188e-01,  -2.93102828e-01,\n",
        "        -4.78183464e-01,  -6.67518489e-01,  -8.61696185e-01,\n",
        "        -1.06134515e+00,  -1.26714263e+00,  -1.47982402e+00,\n",
        "        -1.70019371e+00,  -1.92913787e+00,  -2.16763929e+00,\n",
        "        -2.41679512e+00,  -2.67783804e+00,  -2.95216177e+00,\n",
        "        -3.24135214e+00,  -3.54722517e+00,  -3.87187413e+00,\n",
        "        -4.21772832e+00,  -4.58762699e+00,  -4.98491334e+00,\n",
        "        -5.41355532e+00,  -5.87830252e+00,  -6.38489257e+00,\n",
        "        -6.94032620e+00,  -7.55323934e+00,  -8.23441471e+00,\n",
        "        -8.99749785e+00,  -9.86002011e+00,  -1.08448936e+01,\n",
        "        -1.19826534e+01,  -1.33149234e+01,  -1.48999604e+01,\n",
        "        -1.68218952e+01,  -1.92069039e+01,  -2.22532410e+01,\n",
        "        -2.62913036e+01,  -3.19157750e+01,  -4.03159818e+01,\n",
        "        -5.42669654e+01,  -8.20937677e+01,  -1.65421431e+02,\n",
        "        -2.56530508e+16,   1.67420482e+02,   8.40899687e+01,\n",
        "         5.62584137e+01,   4.23007686e+01,   3.38919840e+01,\n",
        "         2.82570085e+01,   2.42065035e+01,   2.11457712e+01,\n",
        "         1.87443975e+01,   1.68041087e+01,   1.51987068e+01,\n",
        "         1.38440365e+01,   1.26818136e+01,   1.16703845e+01,\n",
        "         1.07791806e+01,   9.98525371e+00,   9.27103290e+00,\n",
        "         8.62282952e+00,   8.02981405e+00,   7.48329980e+00,\n",
        "         6.97623109e+00,   6.50281083e+00,   6.05822519e+00,\n",
        "         5.63843681e+00,   5.24002753e+00,   4.86007719e+00,\n",
        "         4.49606910e+00,   4.14581563e+00,   3.80739882e+00,\n",
        "         3.47912265e+00,   3.15947424e+00,   2.84709194e+00,\n",
        "         2.54073891e+00,   2.23928087e+00,   1.94166723e+00,\n",
        "         1.64691489e+00,   1.35409400e+00,   1.06231542e+00,\n",
        "         7.70719229e-01,   4.78464300e-01,   1.84718298e-01,\n",
        "        -1.11351887e-01,  -4.10589646e-01,  -7.13858284e-01,\n",
        "        -1.02205102e+00,  -1.33610160e+00,  -1.65699580e+00,\n",
        "        -1.98578415e+00,  -2.32359613e+00,  -2.67165643e+00,\n",
        "        -3.03130363e+00,  -3.40401203e+00,  -3.79141736e+00,\n",
        "        -4.19534739e+00,  -4.61785868e+00,  -5.06128113e+00,\n",
        "        -5.52827239e+00,  -6.02188496e+00,  -6.54564965e+00,\n",
        "        -7.10368031e+00,  -7.70080666e+00,  -8.34274437e+00,\n",
        "        -9.03631537e+00,  -9.78973670e+00,  -1.06130040e+01,\n",
        "        -1.15184086e+01,  -1.25212448e+01,  -1.36407958e+01,\n",
        "        -1.49017344e+01,  -1.63361579e+01,  -1.79866196e+01,\n",
        "        -1.99107764e+01,  -2.21887579e+01,  -2.49353141e+01,\n",
        "        -2.83207988e+01,  -3.26095171e+01,  -3.82348879e+01,\n",
        "        -4.59605043e+01,  -5.72685749e+01,  -7.54654860e+01,\n",
        "        -1.09735530e+02,  -1.98652528e+02,  -9.97970391e+02,\n",
        "         3.33910813e+02,   1.43505302e+02,   9.14883321e+01,\n",
        "         6.71481443e+01,   5.30038736e+01,   4.37352049e+01,\n",
        "         3.71745566e+01,   3.22730573e+01,   2.84612816e+01,\n",
        "         2.54033788e+01,   2.28884317e+01,   2.07772922e+01,\n",
        "         1.89744347e+01,   1.74120918e+01,   1.60408434e+01,\n",
        "         1.48237900e+01,   1.37328136e+01,   1.27461024e+01,\n",
        "         1.18464669e+01,   1.10201678e+01,   1.02560829e+01,\n",
        "         9.54510245e+00,   8.87968543e+00,   8.25352620e+00,\n",
        "         7.66130261e+00,   7.09848215e+00,   6.56117143e+00,\n",
        "         6.04599788e+00,   5.55001573e+00,   5.07063068e+00,\n",
        "         4.60553877e+00,   4.15267645e+00,   3.71017923e+00,\n",
        "         3.27634713e+00,   2.84961562e+00,   2.42853057e+00,\n",
        "         2.01172669e+00,   1.59790849e+00,   1.18583325e+00,\n",
        "         7.74295461e-01,   3.62112343e-01,  -5.18899264e-02,\n",
        "        -4.68889685e-01,  -8.90083233e-01,  -1.31669860e+00,\n",
        "        -1.75000999e+00,  -2.19135321e+00,  -2.64214257e+00,\n",
        "        -3.10388965e+00,  -3.57822450e+00,  -4.06691994e+00,\n",
        "        -4.57191977e+00,  -5.09537186e+00,  -5.63966734e+00,\n",
        "        -6.20748758e+00,  -6.80186085e+00,  -7.42623144e+00,\n",
        "        -8.08454462e+00,  -8.78135195e+00,  -9.52194330e+00,\n",
        "        -1.03125136e+01,  -1.11603758e+01,  -1.20742362e+01,\n",
        "        -1.30645539e+01,  -1.41440164e+01,  -1.53281788e+01,\n",
        "        -1.66363344e+01,  -1.80927225e+01,  -1.97282356e+01,\n",
        "        -2.15828854e+01,  -2.37094518e+01,  -2.61790360e+01,\n",
        "        -2.90897867e+01,  -3.25811362e+01,  -3.68580873e+01,\n",
        "        -4.22349272e+01,  -4.92192944e+01,  -5.86879537e+01,\n",
        "        -7.22969369e+01,  -9.35947833e+01,  -1.31807555e+02,\n",
        "        -2.20763910e+02,  -6.64921081e+02,   6.66920844e+02,\n",
        "         2.22761773e+02,   1.33801617e+02,   9.55831398e+01,\n",
        "         7.42776749e+01,   6.06591521e+01,   5.11790213e+01,\n",
        "         4.41812372e+01,   3.87890194e+01,   3.44947115e+01,\n",
        "         3.09840054e+01,   2.80518753e+01,   2.55588630e+01,\n",
        "         2.34067912e+01,   2.15245271e+01,   1.98592560e+01,\n",
        "         1.83709285e+01,   1.70286107e+01,   1.58080183e+01,\n",
        "         1.46898094e+01,   1.36583760e+01,   1.27009734e+01,\n",
        "         1.18070808e+01,   1.09679250e+01,   1.01761210e+01,\n",
        "         9.42539592e+00,   8.71037587e+00,   8.02641845e+00,\n",
        "         7.36948033e+00,   6.73601124e+00,   6.12286833e+00,\n",
        "         5.52724629e+00,   4.94661975e+00,   4.37869542e+00,\n",
        "         3.82137168e+00,   3.27270433e+00,   2.73087694e+00,\n",
        "         2.19417497e+00,   1.66096275e+00,   1.12966271e+00,\n",
        "         5.98736059e-01,   6.66647596e-02,  -4.68066041e-01,\n",
        "        -1.00698529e+00,  -1.55165356e+00,  -2.10368127e+00,\n",
        "        -2.66474791e+00,  -3.23662305e+00,  -3.82118931e+00,\n",
        "        -4.42046836e+00,  -5.03665038e+00,  -5.67212823e+00,\n",
        "        -6.32953724e+00,  -7.01180235e+00,  -7.72219424e+00,\n",
        "        -8.46439703e+00,  -9.24259050e+00,  -1.00615509e+01,\n",
        "        -1.09267759e+01,  -1.18446400e+01,  -1.28225916e+01,\n",
        "        -1.38694030e+01,  -1.49954927e+01,  -1.62133453e+01,\n",
        "        -1.75380655e+01,  -1.89881189e+01,  -2.05863379e+01,\n",
        "        -2.23613103e+01,  -2.43493332e+01,  -2.65972181e+01,\n",
        "        -2.91664167e+01,  -3.21392531e+01,  -3.56286337e+01,\n",
        "        -3.97937321e+01,  -4.48664304e+01,  -5.11982287e+01,\n",
        "        -5.93488535e+01,  -7.02673253e+01,  -8.57017446e+01,\n",
        "        -1.09264732e+02,  -1.49823467e+02,  -2.36512715e+02,\n",
        "        -5.53852067e+02,   1.66595057e+03,   3.33752234e+02,\n",
        "         1.85552805e+02,   1.28429093e+02,   9.80913879e+01,\n",
        "         7.92325258e+01,   6.63418486e+01,   5.69489917e+01,\n",
        "         4.97812798e+01,   4.41163249e+01,   3.95135918e+01,\n",
        "         3.56891276e+01,   3.24516484e+01,   2.96675680e+01,\n",
        "         2.72407501e+01,   2.51002276e+01,   2.31924556e+01,\n",
        "         2.14762587e+01,   1.99194395e+01,   1.84964440e+01,\n",
        "         1.71867175e+01,   1.59735259e+01,   1.48430933e+01,\n",
        "         1.37839625e+01,   1.27865129e+01,   1.18425934e+01,\n",
        "         1.09452373e+01,   1.00884413e+01,   9.26698954e+00,\n",
        "         8.47631411e+00,   7.71238201e+00,   6.97160358e+00,\n",
        "         6.25075713e+00,   5.54692639e+00,   4.85744805e+00,\n",
        "         4.17986733e+00,   3.51189977e+00,   2.85139800e+00,\n",
        "         2.19632240e+00,   1.54471472e+00,   8.94673859e-01,\n",
        "         2.44333277e-01,  -4.08160674e-01,  -1.06466996e+00,\n",
        "        -1.72708616e+00,  -2.39735239e+00,  -3.07748637e+00,\n",
        "        -3.76960519e+00,  -4.47595250e+00,  -5.19892890e+00,\n",
        "        -5.94112633e+00,  -6.70536768e+00,  -7.49475281e+00,\n",
        "        -8.31271289e+00,  -9.16307490e+00,  -1.00501392e+01,\n",
        "        -1.09787734e+01,  -1.19545275e+01,  -1.29837758e+01,\n",
        "        -1.40738935e+01,  -1.52334792e+01,  -1.64726375e+01,\n",
        "        -1.78033417e+01,  -1.92399048e+01,  -2.07995992e+01,\n",
        "        -2.25034819e+01,  -2.43775116e+01,  -2.64540831e+01,\n",
        "        -2.87741763e+01,  -3.13904247e+01,  -3.43716008e+01,\n",
        "        -3.78093433e+01,  -4.18285537e+01,  -4.66040295e+01,\n",
        "        -5.23881878e+01,  -5.95595791e+01,  -6.87129855e+01,\n",
        "        -8.08396157e+01,  -9.77235341e+01,  -1.22932732e+02,\n",
        "        -1.64792344e+02,  -2.48277504e+02,  -4.98263345e+02,\n",
        "        -2.56530508e+16])"
       ]
      }
     ],
     "prompt_number": 102
    },
    {
     "cell_type": "code",
     "collapsed": false,
     "input": [
      "def corta(xs, e):\n",
      "    if len(xs) > 1:\n",
      "        for i, x in enumerate(xs[:-1]):\n",
      "            if abs(xs[i+1] - x) > e:\n",
      "                return [xs[:i+1], xs[i+1:]]\n",
      "    return xs\n",
      "\n",
      "def separa_grupos(xs, e):\n",
      "    separados = corta(xs, e)\n",
      "    if len(separados) > 1:\n",
      "        x, y = separa_grupos(separados[1], e)\n",
      "        return separados[0], x, y\n",
      "    return xs"
     ],
     "language": "python",
     "metadata": {},
     "outputs": [],
     "prompt_number": 253
    },
    {
     "cell_type": "code",
     "collapsed": false,
     "input": [
      "prueba = [1, 2, 3, 4, 6, 8, 9]\n",
      "prueba"
     ],
     "language": "python",
     "metadata": {},
     "outputs": [
      {
       "metadata": {},
       "output_type": "pyout",
       "prompt_number": 235,
       "text": [
        "[1, 2, 3, 4, 6, 8, 9]"
       ]
      }
     ],
     "prompt_number": 235
    },
    {
     "cell_type": "code",
     "collapsed": false,
     "input": [
      "corta(prueba, 1)"
     ],
     "language": "python",
     "metadata": {},
     "outputs": [
      {
       "metadata": {},
       "output_type": "pyout",
       "prompt_number": 250,
       "text": [
        "[[1, 2, 3, 4], [6, 8, 9]]"
       ]
      }
     ],
     "prompt_number": 250
    },
    {
     "cell_type": "code",
     "collapsed": false,
     "input": [
      "prueba.size"
     ],
     "language": "python",
     "metadata": {},
     "outputs": [
      {
       "metadata": {},
       "output_type": "pyout",
       "prompt_number": 144,
       "text": [
        "6"
       ]
      }
     ],
     "prompt_number": 144
    },
    {
     "cell_type": "code",
     "collapsed": false,
     "input": [
      "separa_grupos(prueba, 1)"
     ],
     "language": "python",
     "metadata": {},
     "outputs": [
      {
       "ename": "ValueError",
       "evalue": "need more than 1 value to unpack",
       "output_type": "pyerr",
       "traceback": [
        "\u001b[0;31m---------------------------------------------------------------------------\u001b[0m\n\u001b[0;31mValueError\u001b[0m                                Traceback (most recent call last)",
        "\u001b[0;32m<ipython-input-252-917ac3e884b9>\u001b[0m in \u001b[0;36m<module>\u001b[0;34m()\u001b[0m\n\u001b[0;32m----> 1\u001b[0;31m \u001b[0msepara_grupos\u001b[0m\u001b[0;34m(\u001b[0m\u001b[0mprueba\u001b[0m\u001b[0;34m,\u001b[0m \u001b[0;36m1\u001b[0m\u001b[0;34m)\u001b[0m\u001b[0;34m\u001b[0m\u001b[0m\n\u001b[0m",
        "\u001b[0;32m<ipython-input-251-08f681b72e2c>\u001b[0m in \u001b[0;36msepara_grupos\u001b[0;34m(xs, e)\u001b[0m\n\u001b[1;32m      9\u001b[0m     \u001b[0mseparados\u001b[0m \u001b[0;34m=\u001b[0m \u001b[0mcorta\u001b[0m\u001b[0;34m(\u001b[0m\u001b[0mxs\u001b[0m\u001b[0;34m,\u001b[0m \u001b[0me\u001b[0m\u001b[0;34m)\u001b[0m\u001b[0;34m\u001b[0m\u001b[0m\n\u001b[1;32m     10\u001b[0m     \u001b[0;32mif\u001b[0m \u001b[0mlen\u001b[0m\u001b[0;34m(\u001b[0m\u001b[0mseparados\u001b[0m\u001b[0;34m)\u001b[0m \u001b[0;34m>\u001b[0m \u001b[0;36m1\u001b[0m\u001b[0;34m:\u001b[0m\u001b[0;34m\u001b[0m\u001b[0m\n\u001b[0;32m---> 11\u001b[0;31m         \u001b[0mx\u001b[0m\u001b[0;34m,\u001b[0m \u001b[0my\u001b[0m \u001b[0;34m=\u001b[0m \u001b[0msepara_grupos\u001b[0m\u001b[0;34m(\u001b[0m\u001b[0;34m[\u001b[0m\u001b[0mseparados\u001b[0m\u001b[0;34m[\u001b[0m\u001b[0;36m1\u001b[0m\u001b[0;34m]\u001b[0m\u001b[0;34m]\u001b[0m\u001b[0;34m,\u001b[0m \u001b[0me\u001b[0m\u001b[0;34m)\u001b[0m\u001b[0;34m\u001b[0m\u001b[0m\n\u001b[0m\u001b[1;32m     12\u001b[0m         \u001b[0;32mreturn\u001b[0m \u001b[0mseparados\u001b[0m\u001b[0;34m[\u001b[0m\u001b[0;36m0\u001b[0m\u001b[0;34m]\u001b[0m\u001b[0;34m,\u001b[0m \u001b[0mx\u001b[0m\u001b[0;34m,\u001b[0m \u001b[0my\u001b[0m\u001b[0;34m\u001b[0m\u001b[0m\n\u001b[1;32m     13\u001b[0m     \u001b[0;32mreturn\u001b[0m \u001b[0mxs\u001b[0m\u001b[0;34m\u001b[0m\u001b[0m\n",
        "\u001b[0;31mValueError\u001b[0m: need more than 1 value to unpack"
       ]
      }
     ],
     "prompt_number": 252
    },
    {
     "cell_type": "code",
     "collapsed": false,
     "input": [
      "prueba"
     ],
     "language": "python",
     "metadata": {},
     "outputs": [
      {
       "metadata": {},
       "output_type": "pyout",
       "prompt_number": 154,
       "text": [
        "array([1, 2, 3, 4, 6, 8, 9])"
       ]
      }
     ],
     "prompt_number": 154
    },
    {
     "cell_type": "code",
     "collapsed": false,
     "input": [
      "prueba1 = [1]\n",
      "prueba1"
     ],
     "language": "python",
     "metadata": {},
     "outputs": [
      {
       "metadata": {},
       "output_type": "pyout",
       "prompt_number": 245,
       "text": [
        "[1]"
       ]
      }
     ],
     "prompt_number": 245
    },
    {
     "cell_type": "code",
     "collapsed": false,
     "input": [
      "corta(prueba1, 1)"
     ],
     "language": "python",
     "metadata": {},
     "outputs": [
      {
       "metadata": {},
       "output_type": "pyout",
       "prompt_number": 246,
       "text": [
        "[1]"
       ]
      }
     ],
     "prompt_number": 246
    },
    {
     "cell_type": "code",
     "collapsed": false,
     "input": [
      "prueba1.size"
     ],
     "language": "python",
     "metadata": {},
     "outputs": [
      {
       "metadata": {},
       "output_type": "pyout",
       "prompt_number": 163,
       "text": [
        "1"
       ]
      }
     ],
     "prompt_number": 163
    },
    {
     "cell_type": "code",
     "collapsed": false,
     "input": [
      "prueba"
     ],
     "language": "python",
     "metadata": {},
     "outputs": [
      {
       "metadata": {},
       "output_type": "pyout",
       "prompt_number": 195,
       "text": [
        "array([1, 2, 3, 4, 6, 8, 9])"
       ]
      }
     ],
     "prompt_number": 195
    },
    {
     "cell_type": "code",
     "collapsed": false,
     "input": [
      "prueba[:-1]"
     ],
     "language": "python",
     "metadata": {},
     "outputs": [
      {
       "metadata": {},
       "output_type": "pyout",
       "prompt_number": 198,
       "text": [
        "array([1, 2, 3, 4, 6, 8])"
       ]
      }
     ],
     "prompt_number": 198
    }
   ],
   "metadata": {}
  }
 ]
}