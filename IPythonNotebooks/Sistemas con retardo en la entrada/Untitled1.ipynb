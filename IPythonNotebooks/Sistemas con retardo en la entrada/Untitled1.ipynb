{
 "cells": [
  {
   "cell_type": "code",
   "execution_count": 16,
   "metadata": {
    "collapsed": false
   },
   "outputs": [
    {
     "data": {
      "text/html": [
       "<link href='http://fonts.googleapis.com/css?family=Inconsolata' rel='stylesheet' type='text/css'>\n",
       "<link href='http://fonts.googleapis.com/css?family=EB+Garamond' rel='stylesheet' type='text/css'>\n",
       "<link href='http://fonts.googleapis.com/css?family=Lato:100,100italic' rel='stylesheet' type='text/css'>\n",
       "\n",
       "<style>\n",
       "\t@font-face{\n",
       "   \t\tfont-family: \"Computer Modern\";\n",
       "        \tsrc: url('http://mirrors.ctan.org/fonts/cm-unicode/fonts/otf/cmunss.otf');}\n",
       "        \n",
       "\th1 {\n",
       "        \tfont-family: 'Lato', sans-serif;}\n",
       "        \n",
       "\th2 {\n",
       "        \tfont-family: 'Lato', serif;}\n",
       "        \n",
       "\th3{\n",
       "\t\tfont-family:   'Lato', serif;\n",
       "        \tmargin-top:    12px;\n",
       "\t\tmargin-bottom: 3px;}\n",
       "        \n",
       "        h4{\n",
       "\t\tfont-family: 'Lato', serif;}\n",
       "\t\n",
       "\th5 {\n",
       "        \tfont-family: 'Lato', serif;}\n",
       "    \n",
       "\tdiv.text_cell_render{\n",
       "        \tfont-family:  'EB Garamond', 'Computer Modern', 'Helvetica Neue', Arial, Helvetica, Geneva, sans-serif;\n",
       "\t        line-height:  140%;\n",
       "\t        font-size:    14pt;}\n",
       "        \n",
       "\t.CodeMirror{\n",
       "        \tfont-family: 'Inconsolata';}\n",
       "    \n",
       "\t.text_cell_render h1 {\n",
       "\t        font-weight:   100;\n",
       "\t        font-size:     50pt;\n",
       "\t\tline-height:   100%;\n",
       "\t        color:         #CD2305;\n",
       "\t        margin-bottom: 0.5em;\n",
       "\t        margin-top:    0.5em;\n",
       "\t        display:       block;}\n",
       "        \n",
       "\t.text_cell_render h2 {\n",
       "        \tfont-weight:   100;\n",
       "        \tfont-size:     30pt;}\n",
       "        \n",
       "\t.text_cell_render h3 {\n",
       "        \tfont-weight:   100;\n",
       "        \tfont-size:     20pt;}\n",
       "        \n",
       "\t.text_cell_render h4 {\n",
       "        \tfont-weight:   100;\n",
       "        \tfont-size:     16pt;}\n",
       "        \n",
       "\t.text_cell_render h5 {\n",
       "\t        font-weight:   100;\n",
       "\t        font-size:     16pt;\n",
       "\t        color:         #CD2305;\n",
       "\t        font-style:    italic;\n",
       "\t        margin-bottom: 0.5em;\n",
       "\t        margin-top:    0.5em;\n",
       "\t        display:       block;}\n",
       "        \n",
       "\t.text_cell_render h6 {\n",
       "\t        font-weight:   100;\n",
       "\t        font-size:     14pt;\n",
       "\t        color:         #CD2305;\n",
       "\t        font-style:    italic;\n",
       "\t        margin-bottom: 0.5em;\n",
       "\t        margin-top:    0.5em;\n",
       "\t        display:       block;}\n",
       "    \n",
       "\t.warning{\n",
       "\t    \tbackground-color: #fcf2f2;\n",
       "\t    \tborder-color: #dFb5b4;\n",
       "\t    \tborder-left: 5px solid #dfb5b4;\n",
       "\t    \tpadding: 0.5em;}\n",
       "</style>\n",
       "\n",
       "<script>\n",
       "\tMathJax.Hub.Config({\n",
       "        \tTeX:{extensions: [\"AMSmath.js\"]},\n",
       "\n",
       "        \tjax: [\"input/TeX\",\"output/SVG\"],\n",
       "        \tSVG: {\n",
       "        \t\tscale: 120,\n",
       "        \t\tfont: 'Gyre-Pagella'}\n",
       "        });\n",
       "</script>"
      ]
     },
     "metadata": {},
     "output_type": "display_data"
    }
   ],
   "source": [
    "from IPython.core.display import display_html\n",
    "from urllib.request import urlopen\n",
    "\n",
    "display_html(urlopen('http://bit.ly/1HflmO9').read(), raw=True)"
   ]
  },
  {
   "cell_type": "code",
   "execution_count": 164,
   "metadata": {
    "collapsed": false
   },
   "outputs": [],
   "source": [
    "from sympy import var, sin, cos, Matrix, Integer, eye, Function, Rational, exp, Symbol, I, solve, trigsimp, integrate\n",
    "from sympy.physics.mechanics import mechanics_printing\n",
    "mechanics_printing()"
   ]
  },
  {
   "cell_type": "code",
   "execution_count": 2,
   "metadata": {
    "collapsed": false
   },
   "outputs": [
    {
     "data": {
      "image/png": "[encoded data removed]",
      "text/latex": [
       "$$\\left ( x, \\quad t, \\quad h, \\quad θ, \\quad s, \\quad ω\\right )$$"
      ],
      "text/plain": [
       "(x, t, h, θ, s, ω)"
      ]
     },
     "execution_count": 2,
     "metadata": {},
     "output_type": "execute_result"
    }
   ],
   "source": [
    "var(\"x t h θ s ω\")"
   ]
  },
  {
   "cell_type": "code",
   "execution_count": 41,
   "metadata": {
    "collapsed": false
   },
   "outputs": [],
   "source": [
    "k1 = Symbol(\"k1\", real=True)\n",
    "k2 = Symbol(\"k2\", real=True)\n",
    "s = Symbol(\"s\", real=True)\n",
    "ω = Symbol(\"ω\", real=True)"
   ]
  },
  {
   "cell_type": "code",
   "execution_count": 42,
   "metadata": {
    "collapsed": true
   },
   "outputs": [],
   "source": [
    "A1 = Matrix([[0, 1], [-1, 0]])\n",
    "B1 = Matrix([[0], [1]])\n",
    "K1 = Matrix([[k1, k2]])"
   ]
  },
  {
   "cell_type": "code",
   "execution_count": 43,
   "metadata": {
    "collapsed": false
   },
   "outputs": [
    {
     "data": {
      "image/png": "[encoded data removed]",
      "text/latex": [
       "$$- \\frac{i k_{1}}{2} s e^{i h} + \\frac{i k_{1}}{2} s e^{- i h} - \\frac{k_{1}}{2} e^{i h} - \\frac{k_{1}}{2} e^{- i h} - \\frac{k_{2} s}{2} e^{i h} - \\frac{k_{2} s}{2} e^{- i h} + \\frac{i k_{2}}{2} e^{i h} - \\frac{i k_{2}}{2} e^{- i h} + s^{2} + 1$$"
      ],
      "text/plain": [
       "          ⅈ⋅h           -ⅈ⋅h       ⅈ⋅h       -ⅈ⋅h         ⅈ⋅h         -ⅈ⋅h    \n",
       "  ⅈ⋅k₁⋅s⋅ℯ      ⅈ⋅k₁⋅s⋅ℯ       k₁⋅ℯ      k₁⋅ℯ       k₂⋅s⋅ℯ      k₂⋅s⋅ℯ       ⅈ\n",
       "- ─────────── + ──────────── - ─────── - ──────── - ───────── - ────────── + ─\n",
       "       2             2            2         2           2           2         \n",
       "\n",
       "     ⅈ⋅h         -ⅈ⋅h         \n",
       "⋅k₂⋅ℯ      ⅈ⋅k₂⋅ℯ        2    \n",
       "──────── - ────────── + s  + 1\n",
       "   2           2              "
      ]
     },
     "execution_count": 43,
     "metadata": {},
     "output_type": "execute_result"
    }
   ],
   "source": [
    "CP = (s*eye(2) - A1 - exp(-A1*h)*B1*K1).det()\n",
    "CP"
   ]
  },
  {
   "cell_type": "code",
   "execution_count": 56,
   "metadata": {
    "collapsed": false
   },
   "outputs": [
    {
     "data": {
      "image/png": "[encoded data removed]",
      "text/latex": [
       "$$s^{2} + 5 s \\operatorname{cos}\\left(1\\right) + 1 + 5 \\operatorname{sin}\\left(1\\right)$$"
      ],
      "text/plain": [
       " 2                            \n",
       "s  + 5⋅s⋅cos(1) + 1 + 5⋅sin(1)"
      ]
     },
     "execution_count": 56,
     "metadata": {},
     "output_type": "execute_result"
    }
   ],
   "source": [
    "CP.subs(k1, 0).subs(k2, -5).subs(h, 1).expand(complex=True).simplify()"
   ]
  },
  {
   "cell_type": "code",
   "execution_count": 45,
   "metadata": {
    "collapsed": false
   },
   "outputs": [
    {
     "data": {
      "image/png": "[encoded data removed]",
      "text/latex": [
       "$$- \\frac{k_{1} e^{i}}{2} - \\frac{k_{1}}{2} e^{- i} - \\frac{i k_{2}}{2} e^{- i} + \\frac{i k_{2}}{2} e^{i} + 1$$"
      ],
      "text/plain": [
       "      ⅈ       -ⅈ         -ⅈ         ⅈ    \n",
       "  k₁⋅ℯ    k₁⋅ℯ     ⅈ⋅k₂⋅ℯ     ⅈ⋅k₂⋅ℯ     \n",
       "- ───── - ────── - ──────── + ─────── + 1\n",
       "    2       2         2          2       "
      ]
     },
     "execution_count": 45,
     "metadata": {},
     "output_type": "execute_result"
    }
   ],
   "source": [
    "CP.subs(s, 0).subs(h, 1)"
   ]
  },
  {
   "cell_type": "code",
   "execution_count": 46,
   "metadata": {
    "collapsed": false
   },
   "outputs": [
    {
     "data": {
      "image/png": "[encoded data removed]",
      "text/latex": [
       "$$- \\frac{k_{1} ω}{2} e^{- i} + \\frac{k_{1} ω}{2} e^{i} - \\frac{k_{1} e^{i}}{2} - \\frac{k_{1}}{2} e^{- i} - \\frac{i k_{2}}{2} ω e^{- i} - \\frac{i k_{2}}{2} ω e^{i} - \\frac{i k_{2}}{2} e^{- i} + \\frac{i k_{2}}{2} e^{i} - ω^{2} + 1$$"
      ],
      "text/plain": [
       "        -ⅈ         ⅈ       ⅈ       -ⅈ           -ⅈ           ⅈ         -ⅈ     \n",
       "  k₁⋅ω⋅ℯ     k₁⋅ω⋅ℯ    k₁⋅ℯ    k₁⋅ℯ     ⅈ⋅k₂⋅ω⋅ℯ     ⅈ⋅k₂⋅ω⋅ℯ    ⅈ⋅k₂⋅ℯ     ⅈ⋅\n",
       "- ──────── + ─────── - ───── - ────── - ────────── - ───────── - ──────── + ──\n",
       "     2          2        2       2          2            2          2         \n",
       "\n",
       "    ⅈ         \n",
       "k₂⋅ℯ     2    \n",
       "───── - ω  + 1\n",
       " 2            "
      ]
     },
     "execution_count": 46,
     "metadata": {},
     "output_type": "execute_result"
    }
   ],
   "source": [
    "CP.subs(s, I*ω).subs(h, 1)"
   ]
  },
  {
   "cell_type": "code",
   "execution_count": 47,
   "metadata": {
    "collapsed": false
   },
   "outputs": [
    {
     "data": {
      "image/png": "[encoded data removed]",
      "text/latex": [
       "$$\\frac{k_{1} \\operatorname{cos}\\left(1\\right) - k_{1} \\operatorname{cos}\\left(3\\right) - 2 + 2 \\operatorname{cos}\\left(2\\right)}{- 3 \\operatorname{sin}\\left(1\\right) + \\operatorname{sin}\\left(3\\right)}$$"
      ],
      "text/plain": [
       "k₁⋅cos(1) - k₁⋅cos(3) - 2 + 2⋅cos(2)\n",
       "────────────────────────────────────\n",
       "         -3⋅sin(1) + sin(3)         "
      ]
     },
     "execution_count": 47,
     "metadata": {},
     "output_type": "execute_result"
    }
   ],
   "source": [
    "cpre = solve(CP.subs(s, 0).subs(h, 1), k2)\n",
    "cpre[0].expand(complex=True).simplify()"
   ]
  },
  {
   "cell_type": "code",
   "execution_count": 50,
   "metadata": {
    "collapsed": false
   },
   "outputs": [
    {
     "data": {
      "image/png": "[encoded data removed]",
      "text/latex": [
       "$$\\left [ \\right ]$$"
      ],
      "text/plain": [
       "[]"
      ]
     },
     "execution_count": 50,
     "metadata": {},
     "output_type": "execute_result"
    }
   ],
   "source": [
    "cpim = solve(CP.subs(s, I*ω).subs(h, 1), k2)\n",
    "cpim[0].expand(complex=True).simplify()"
   ]
  },
  {
   "cell_type": "code",
   "execution_count": 27,
   "metadata": {
    "collapsed": false
   },
   "outputs": [
    {
     "data": {
      "image/png": "[encoded data removed]",
      "text/latex": [
       "$$\\operatorname{cos}\\left(1\\right) + i \\operatorname{sin}\\left(1\\right)$$"
      ],
      "text/plain": [
       "cos(1) + ⅈ⋅sin(1)"
      ]
     },
     "execution_count": 27,
     "metadata": {},
     "output_type": "execute_result"
    }
   ],
   "source": [
    "exp(I).expand(complex=True)"
   ]
  },
  {
   "cell_type": "code",
   "execution_count": 172,
   "metadata": {
    "collapsed": true
   },
   "outputs": [],
   "source": [
    "from numpy import cos, sin, linspace, tan"
   ]
  },
  {
   "cell_type": "code",
   "execution_count": 59,
   "metadata": {
    "collapsed": true
   },
   "outputs": [],
   "source": [
    "%matplotlib inline\n",
    "from matplotlib.pyplot import plot, style, figure\n",
    "style.use(\"ggplot\")"
   ]
  },
  {
   "cell_type": "code",
   "execution_count": 131,
   "metadata": {
    "collapsed": false
   },
   "outputs": [],
   "source": [
    "k_1 = linspace(-10, 10, 10000)"
   ]
  },
  {
   "cell_type": "code",
   "execution_count": 132,
   "metadata": {
    "collapsed": true
   },
   "outputs": [],
   "source": [
    "k_2 = (k_1*cos(1) - 1)/sin(1)"
   ]
  },
  {
   "cell_type": "code",
   "execution_count": 133,
   "metadata": {
    "collapsed": false
   },
   "outputs": [
    {
     "data": {
      "image/png": "[encoded data removed]",
      "text/plain": [
       "<matplotlib.figure.Figure at 0x108973710>"
      ]
     },
     "metadata": {},
     "output_type": "display_data"
    }
   ],
   "source": [
    "fig = figure(figsize=(8, 8))\n",
    "plot(k_1, k_2);"
   ]
  },
  {
   "cell_type": "code",
   "execution_count": 134,
   "metadata": {
    "collapsed": true
   },
   "outputs": [],
   "source": [
    "om = linspace(-10, 10, 10000)"
   ]
  },
  {
   "cell_type": "code",
   "execution_count": 135,
   "metadata": {
    "collapsed": false
   },
   "outputs": [],
   "source": [
    "k_1p = (om**2 - 1)/(-cos(1) - tan(1)*sin(1))\n",
    "k_2p = k_1p*tan(1)"
   ]
  },
  {
   "cell_type": "code",
   "execution_count": 136,
   "metadata": {
    "collapsed": false
   },
   "outputs": [
    {
     "data": {
      "image/png": "[encoded data removed]",
      "text/plain": [
       "<matplotlib.figure.Figure at 0x107887ac8>"
      ]
     },
     "metadata": {},
     "output_type": "display_data"
    }
   ],
   "source": [
    "fig = figure(figsize=(8, 8))\n",
    "plot(k_1p, k_2p);"
   ]
  },
  {
   "cell_type": "code",
   "execution_count": 152,
   "metadata": {
    "collapsed": false
   },
   "outputs": [
    {
     "data": {
      "image/png": "[encoded data removed]",
      "text/plain": [
       "<matplotlib.figure.Figure at 0x1080bc438>"
      ]
     },
     "metadata": {},
     "output_type": "display_data"
    }
   ],
   "source": [
    "fig = figure(figsize=(8, 8))\n",
    "plot(k_1, k_2)\n",
    "plot(k_1p, k_2p)\n",
    "ax = fig.gca()\n",
    "\n",
    "ax.fill_between(k_1, -6, k_2, where=k_1>=-1.301, alpha=0.3, facecolor='green')\n",
    "ax.fill_between(k_1p, -6, k_2p, where=k_1p<=-1.299, alpha=0.18, facecolor='green')\n",
    "\n",
    "ax.set_xlim(-5, 5)\n",
    "ax.set_ylim(-5, 5);\n",
    "ax.set_xlabel(r\"$k_1$\", fontsize=20)\n",
    "ax.set_ylabel(r\"$k_2$\", fontsize=20);"
   ]
  },
  {
   "cell_type": "code",
   "execution_count": 67,
   "metadata": {
    "collapsed": false
   },
   "outputs": [
    {
     "data": {
      "image/png": "[encoded data removed]",
      "text/latex": [
       "$$\\left[\\begin{matrix}- \\frac{\\left(- h - θ\\right) e^{\\sqrt{- \\left(h + θ\\right)^{2}}}}{2 h + 2 θ} - \\frac{e^{- \\sqrt{- \\left(h + θ\\right)^{2}}}}{\\sqrt{- \\left(h + θ\\right)^{2}}} \\left(- h - θ\\right) \\left(\\frac{\\sqrt{- \\left(h + θ\\right)^{2}} \\left(- h - θ\\right)}{2 \\left(h + θ\\right)^{2}} + \\frac{\\sqrt{- \\left(h + θ\\right)^{2}}}{h + θ}\\right) & \\frac{\\left(- h - θ\\right)^{2} e^{- \\sqrt{- \\left(h + θ\\right)^{2}}}}{2 \\sqrt{- \\left(h + θ\\right)^{2}} \\left(h + θ\\right)} + \\frac{\\left(- h - θ\\right) e^{\\sqrt{- \\left(h + θ\\right)^{2}}}}{2 \\sqrt{- \\left(h + θ\\right)^{2}}}\\\\- \\frac{\\sqrt{- \\left(h + θ\\right)^{2}} e^{\\sqrt{- \\left(h + θ\\right)^{2}}}}{2 h + 2 θ} + \\left(\\frac{\\sqrt{- \\left(h + θ\\right)^{2}} \\left(- h - θ\\right)}{2 \\left(h + θ\\right)^{2}} + \\frac{\\sqrt{- \\left(h + θ\\right)^{2}}}{h + θ}\\right) e^{- \\sqrt{- \\left(h + θ\\right)^{2}}} & - \\frac{\\left(- h - θ\\right) e^{- \\sqrt{- \\left(h + θ\\right)^{2}}}}{2 h + 2 θ} + \\frac{1}{2} e^{\\sqrt{- \\left(h + θ\\right)^{2}}}\\end{matrix}\\right]$$"
      ],
      "text/plain": [
       "⎡                                      ⎛   ___________               _________\n",
       "⎢                                      ⎜  ╱         2               ╱         \n",
       "⎢               ___________            ⎜╲╱  -(h + θ)  ⋅(-h - θ)   ╲╱  -(h + θ)\n",
       "⎢              ╱         2    (-h - θ)⋅⎜─────────────────────── + ────────────\n",
       "⎢            ╲╱  -(h + θ)              ⎜                2             h + θ   \n",
       "⎢  (-h - θ)⋅ℯ                          ⎝       2⋅(h + θ)                      \n",
       "⎢- ──────────────────────── - ────────────────────────────────────────────────\n",
       "⎢         2⋅(h + θ)                                         ___________       \n",
       "⎢                                                          ╱         2        \n",
       "⎢                                                        ╲╱  -(h + θ)         \n",
       "⎢                                                                             \n",
       "⎢                      ___________                                            \n",
       "⎢      ___________    ╱         2    ⎛   ___________               ___________\n",
       "⎢     ╱         2   ╲╱  -(h + θ)     ⎜  ╱         2               ╱         2 \n",
       "⎢   ╲╱  -(h + θ)  ⋅ℯ                 ⎜╲╱  -(h + θ)  ⋅(-h - θ)   ╲╱  -(h + θ)  \n",
       "⎢ - ────────────────────────────── + ⎜─────────────────────── + ──────────────\n",
       "⎢             2⋅(h + θ)              ⎜                2             h + θ     \n",
       "⎣                                    ⎝       2⋅(h + θ)                        \n",
       "\n",
       "__⎞      ___________                                                       ⎤\n",
       "2 ⎟     ╱         2                                                        ⎥\n",
       "  ⎟  -╲╱  -(h + θ)                   ___________                ___________⎥\n",
       "──⎟⋅ℯ                               ╱         2                ╱         2 ⎥\n",
       "  ⎟                           2  -╲╱  -(h + θ)               ╲╱  -(h + θ)  ⎥\n",
       "  ⎠                   (-h - θ) ⋅ℯ                  (-h - θ)⋅ℯ              ⎥\n",
       "────────────────────  ────────────────────────── + ────────────────────────⎥\n",
       "                            ___________                     ___________    ⎥\n",
       "                           ╱         2                     ╱         2     ⎥\n",
       "                       2⋅╲╱  -(h + θ)  ⋅(h + θ)        2⋅╲╱  -(h + θ)      ⎥\n",
       "                                                                           ⎥\n",
       "                                          ___________       ___________    ⎥\n",
       "⎞      ___________                       ╱         2       ╱         2     ⎥\n",
       "⎟     ╱         2                     -╲╱  -(h + θ)      ╲╱  -(h + θ)      ⎥\n",
       "⎟  -╲╱  -(h + θ)            (-h - θ)⋅ℯ                  ℯ                  ⎥\n",
       "⎟⋅ℯ                       - ───────────────────────── + ───────────────    ⎥\n",
       "⎟                                   2⋅(h + θ)                  2           ⎥\n",
       "⎠                                                                          ⎦"
      ]
     },
     "execution_count": 67,
     "metadata": {},
     "output_type": "execute_result"
    }
   ],
   "source": [
    "exp(-A1*(θ+h))"
   ]
  },
  {
   "cell_type": "code",
   "execution_count": 38,
   "metadata": {
    "collapsed": false
   },
   "outputs": [
    {
     "data": {
      "image/png": "[encoded data removed]",
      "text/latex": [
       "$$\\left[\\begin{matrix}\\frac{e^{i t}}{2} + \\frac{1}{2} e^{- i t} & \\frac{i}{2} e^{i t} - \\frac{i}{2} e^{- i t}\\\\- \\frac{i}{2} e^{i t} + \\frac{i}{2} e^{- i t} & \\frac{e^{i t}}{2} + \\frac{1}{2} e^{- i t}\\end{matrix}\\right]$$"
      ],
      "text/plain": [
       "⎡    ⅈ⋅t    -ⅈ⋅t        ⅈ⋅t      -ⅈ⋅t⎤\n",
       "⎢   ℯ      ℯ         ⅈ⋅ℯ      ⅈ⋅ℯ    ⎥\n",
       "⎢   ──── + ─────     ────── - ───────⎥\n",
       "⎢    2       2         2         2   ⎥\n",
       "⎢                                    ⎥\n",
       "⎢     ⅈ⋅t      -ⅈ⋅t     ⅈ⋅t    -ⅈ⋅t  ⎥\n",
       "⎢  ⅈ⋅ℯ      ⅈ⋅ℯ        ℯ      ℯ      ⎥\n",
       "⎢- ────── + ───────    ──── + ─────  ⎥\n",
       "⎣    2         2        2       2    ⎦"
      ]
     },
     "execution_count": 38,
     "metadata": {},
     "output_type": "execute_result"
    }
   ],
   "source": [
    "exp(-A1*t)"
   ]
  },
  {
   "cell_type": "code",
   "execution_count": 39,
   "metadata": {
    "collapsed": false
   },
   "outputs": [
    {
     "data": {
      "image/png": "[encoded data removed]",
      "text/latex": [
       "$$e^{2 t}$$"
      ],
      "text/plain": [
       " 2⋅t\n",
       "ℯ   "
      ]
     },
     "execution_count": 39,
     "metadata": {},
     "output_type": "execute_result"
    }
   ],
   "source": [
    "exp(2*t)"
   ]
  },
  {
   "cell_type": "code",
   "execution_count": 40,
   "metadata": {
    "collapsed": false
   },
   "outputs": [
    {
     "data": {
      "image/png": "[encoded data removed]",
      "text/latex": [
       "$$2 e^{2 t}$$"
      ],
      "text/plain": [
       "   2⋅t\n",
       "2⋅ℯ   "
      ]
     },
     "execution_count": 40,
     "metadata": {},
     "output_type": "execute_result"
    }
   ],
   "source": [
    "exp(2*t).diff(t)"
   ]
  },
  {
   "cell_type": "code",
   "execution_count": 42,
   "metadata": {
    "collapsed": true
   },
   "outputs": [],
   "source": [
    "from sympy.integrals.transforms import laplace_transform\n",
    "from sympy import sin, cos"
   ]
  },
  {
   "cell_type": "code",
   "execution_count": 43,
   "metadata": {
    "collapsed": false
   },
   "outputs": [
    {
     "data": {
      "image/png": "[encoded data removed]",
      "text/latex": [
       "$$\\begin{cases} - \\frac{i h}{2} e^{i h} + \\frac{e^{i h}}{2} - \\frac{\\operatorname{cos}\\left(h\\right)}{2} & \\text{for}\\: s = - i \\\\\\frac{i h}{2} e^{- i h} - \\frac{\\operatorname{cos}\\left(h\\right)}{2} + \\frac{1}{2} e^{- i h} & \\text{for}\\: s = i \\\\\\frac{s \\operatorname{sin}\\left(h\\right)}{s^{2} + 1} - \\frac{\\operatorname{cos}\\left(h\\right)}{s^{2} + 1} + \\frac{e^{- h s}}{s^{2} + 1} & \\text{otherwise} \\end{cases}$$"
      ],
      "text/plain": [
       "⎧       ⅈ⋅h    ⅈ⋅h                     \n",
       "⎪  ⅈ⋅h⋅ℯ      ℯ      cos(h)            \n",
       "⎪- ──────── + ──── - ──────  for s = -ⅈ\n",
       "⎪     2        2       2               \n",
       "⎪                                      \n",
       "⎪     -ⅈ⋅h             -ⅈ⋅h            \n",
       "⎪ⅈ⋅h⋅ℯ       cos(h)   ℯ                \n",
       "⎨───────── - ────── + ─────  for s = ⅈ \n",
       "⎪    2         2        2              \n",
       "⎪                                      \n",
       "⎪                     -h⋅s             \n",
       "⎪s⋅sin(h)   cos(h)   ℯ                 \n",
       "⎪──────── - ────── + ──────  otherwise \n",
       "⎪  2         2        2                \n",
       "⎩ s  + 1    s  + 1   s  + 1            "
      ]
     },
     "execution_count": 43,
     "metadata": {},
     "output_type": "execute_result"
    }
   ],
   "source": [
    "integrate(sin(θ + h)*exp(s*θ), (θ, -h, 0))"
   ]
  },
  {
   "cell_type": "code",
   "execution_count": 44,
   "metadata": {
    "collapsed": false
   },
   "outputs": [
    {
     "data": {
      "image/png": "[encoded data removed]",
      "text/latex": [
       "$$\\begin{cases} \\frac{h}{2} e^{i h} - \\frac{i}{2} e^{i h} + \\frac{i \\operatorname{cos}\\left(h\\right)}{2} & \\text{for}\\: s = - i \\\\\\frac{h}{2} e^{- i h} - \\frac{i \\operatorname{cos}\\left(h\\right)}{2} + \\frac{i}{2} e^{- i h} & \\text{for}\\: s = i \\\\\\frac{s \\operatorname{cos}\\left(h\\right)}{s^{2} + 1} - \\frac{s e^{- h s}}{s^{2} + 1} + \\frac{\\operatorname{sin}\\left(h\\right)}{s^{2} + 1} & \\text{otherwise} \\end{cases}$$"
      ],
      "text/plain": [
       "⎧    ⅈ⋅h      ⅈ⋅h                        \n",
       "⎪ h⋅ℯ      ⅈ⋅ℯ      ⅈ⋅cos(h)             \n",
       "⎪ ────── - ────── + ────────   for s = -ⅈ\n",
       "⎪   2        2         2                 \n",
       "⎪                                        \n",
       "⎪   -ⅈ⋅h                 -ⅈ⋅h            \n",
       "⎪h⋅ℯ       ⅈ⋅cos(h)   ⅈ⋅ℯ                \n",
       "⎨─────── - ──────── + ───────  for s = ⅈ \n",
       "⎪   2         2          2               \n",
       "⎪                                        \n",
       "⎪              -h⋅s                      \n",
       "⎪s⋅cos(h)   s⋅ℯ       sin(h)             \n",
       "⎪──────── - ─────── + ──────   otherwise \n",
       "⎪  2          2        2                 \n",
       "⎩ s  + 1     s  + 1   s  + 1             "
      ]
     },
     "execution_count": 44,
     "metadata": {},
     "output_type": "execute_result"
    }
   ],
   "source": [
    "integrate(cos(θ + h)*exp(s*θ), (θ, -h, 0))"
   ]
  },
  {
   "cell_type": "code",
   "execution_count": 165,
   "metadata": {
    "collapsed": false
   },
   "outputs": [
    {
     "data": {
      "image/png": "[encoded data removed]",
      "text/latex": [
       "$$i k_{1} s \\operatorname{sin}\\left(h\\right) - i k_{1} \\operatorname{cos}\\left(h\\right) + i k_{1} e^{- h s} + k_{2} s \\operatorname{cos}\\left(h\\right) - k_{2} s e^{- h s} + k_{2} \\operatorname{sin}\\left(h\\right) + s^{2} + 1$$"
      ],
      "text/plain": [
       "                                    -h⋅s                       -h⋅s           \n",
       "ⅈ⋅k₁⋅s⋅sin(h) - ⅈ⋅k₁⋅cos(h) + ⅈ⋅k₁⋅ℯ     + k₂⋅s⋅cos(h) - k₂⋅s⋅ℯ     + k₂⋅sin(h\n",
       "\n",
       "     2    \n",
       ") + s  + 1"
      ]
     },
     "execution_count": 165,
     "metadata": {},
     "output_type": "execute_result"
    }
   ],
   "source": [
    "PC = s**2 + 1 + k1*I*s*sin(h) - k1*I*cos(h) + k1*I*exp(-s*h) + k2*sin(h) + k2*s*cos(h) - k2*s*exp(-s*h)\n",
    "PC"
   ]
  },
  {
   "cell_type": "code",
   "execution_count": 171,
   "metadata": {
    "collapsed": false
   },
   "outputs": [
    {
     "data": {
      "image/png": "[encoded data removed]",
      "text/latex": [
       "$$s^{2} + i s \\operatorname{sin}\\left(1\\right) + 1 - i \\operatorname{cos}\\left(1\\right) + i e^{- s}$$"
      ],
      "text/plain": [
       " 2                                  -s\n",
       "s  + ⅈ⋅s⋅sin(1) + 1 - ⅈ⋅cos(1) + ⅈ⋅ℯ  "
      ]
     },
     "execution_count": 171,
     "metadata": {},
     "output_type": "execute_result"
    }
   ],
   "source": [
    "PC.subs(k1, 1).subs(k2, 0).subs(h, 1)"
   ]
  },
  {
   "cell_type": "code",
   "execution_count": 47,
   "metadata": {
    "collapsed": false
   },
   "outputs": [
    {
     "data": {
      "image/png": "[encoded data removed]",
      "text/latex": [
       "$$- k_{1} ω \\operatorname{sin}\\left(1\\right) - i k_{1} \\operatorname{cos}\\left(1\\right) + i k_{1} e^{- i ω} + i k_{2} ω \\operatorname{cos}\\left(1\\right) - i k_{2} ω e^{- i ω} + k_{2} \\operatorname{sin}\\left(1\\right) - ω^{2} + 1$$"
      ],
      "text/plain": [
       "                                   -ⅈ⋅ω                           -ⅈ⋅ω        \n",
       "-k₁⋅ω⋅sin(1) - ⅈ⋅k₁⋅cos(1) + ⅈ⋅k₁⋅ℯ     + ⅈ⋅k₂⋅ω⋅cos(1) - ⅈ⋅k₂⋅ω⋅ℯ     + k₂⋅si\n",
       "\n",
       "        2    \n",
       "n(1) - ω  + 1"
      ]
     },
     "execution_count": 47,
     "metadata": {},
     "output_type": "execute_result"
    }
   ],
   "source": [
    "PC.subs(h, 1).subs(s, I*ω)"
   ]
  },
  {
   "cell_type": "code",
   "execution_count": 48,
   "metadata": {
    "collapsed": false
   },
   "outputs": [
    {
     "data": {
      "image/png": "[encoded data removed]",
      "text/latex": [
       "$$- i k_{1} \\operatorname{cos}\\left(1\\right) + i k_{1} + k_{2} \\operatorname{sin}\\left(1\\right) + 1$$"
      ],
      "text/plain": [
       "-ⅈ⋅k₁⋅cos(1) + ⅈ⋅k₁ + k₂⋅sin(1) + 1"
      ]
     },
     "execution_count": 48,
     "metadata": {},
     "output_type": "execute_result"
    }
   ],
   "source": [
    "PC.subs(h, 1).subs(s, 0)"
   ]
  },
  {
   "cell_type": "code",
   "execution_count": 174,
   "metadata": {
    "collapsed": true
   },
   "outputs": [],
   "source": [
    "from numpy import sin, cos, pi"
   ]
  },
  {
   "cell_type": "code",
   "execution_count": 204,
   "metadata": {
    "collapsed": false
   },
   "outputs": [
    {
     "data": {
      "image/png": "[encoded data removed]",
      "text/plain": [
       "<matplotlib.figure.Figure at 0x107f68898>"
      ]
     },
     "metadata": {},
     "output_type": "display_data"
    }
   ],
   "source": [
    "om = linspace(-10*pi, 10*pi, 10000)\n",
    "f2 = lambda om: (om**2 - 1)/(-om**2*sin(1) + 2*om*sin(om) + sin(1))\n",
    "f1 = lambda k, om: k*om\n",
    "\n",
    "k2c = [f2(o) for o in om]\n",
    "k1c = [f1(o, k) for o, k in zip(om, k2c)]\n",
    "\n",
    "fig = figure(figsize=(8,8))\n",
    "plot(k1c, k2c, \".\")\n",
    "ax = fig.gca()\n",
    "ax.set_xlim(-4, 4)\n",
    "ax.set_ylim(-4, 4);"
   ]
  },
  {
   "cell_type": "code",
   "execution_count": 211,
   "metadata": {
    "collapsed": false
   },
   "outputs": [
    {
     "data": {
      "image/png": "[encoded data removed]",
      "text/plain": [
       "<matplotlib.figure.Figure at 0x1082192e8>"
      ]
     },
     "metadata": {},
     "output_type": "display_data"
    }
   ],
   "source": [
    "om = linspace(-5.1*pi/8, 5.1*pi/8, 10000)\n",
    "f2 = lambda om: (om**2 - 1)/(-om**2*sin(1) + 2*om*sin(om) + sin(1))\n",
    "f1 = lambda k, om: k*om\n",
    "\n",
    "k2c1 = [f2(o) for o in om]\n",
    "k1c1 = [f1(o, k) for o, k in zip(om, k2c1)]\n",
    "\n",
    "fig = figure(figsize=(8,8))\n",
    "plot(k1c1, k2c1)\n",
    "ax = fig.gca()\n",
    "ax.set_xlim(-5, 5)\n",
    "ax.set_ylim(-5, 5);"
   ]
  },
  {
   "cell_type": "code",
   "execution_count": 206,
   "metadata": {
    "collapsed": false
   },
   "outputs": [
    {
     "data": {
      "image/png": "[encoded data removed]",
      "text/plain": [
       "<matplotlib.figure.Figure at 0x10789f320>"
      ]
     },
     "metadata": {},
     "output_type": "display_data"
    }
   ],
   "source": [
    "om = linspace(3*pi/4, 2*pi, 10000)\n",
    "f2 = lambda om: (om**2 - 1)/(-om**2*sin(1) + 2*om*sin(om) + sin(1))\n",
    "f1 = lambda k, om: k*om\n",
    "\n",
    "k2c2 = [f2(o) for o in om]\n",
    "k1c2 = [f1(o, k) for o, k in zip(om, k2c2)]\n",
    "\n",
    "fig = figure(figsize=(8,8))\n",
    "plot(k1c2, k2c2)\n",
    "ax = fig.gca()\n",
    "ax.set_xlim(-4, 4)\n",
    "ax.set_ylim(-4, 4);"
   ]
  },
  {
   "cell_type": "code",
   "execution_count": 207,
   "metadata": {
    "collapsed": false
   },
   "outputs": [
    {
     "data": {
      "image/png": "[encoded data removed]",
      "text/plain": [
       "<matplotlib.figure.Figure at 0x107d23e48>"
      ]
     },
     "metadata": {},
     "output_type": "display_data"
    }
   ],
   "source": [
    "om = linspace(-2*pi, -3*pi/4, 10000)\n",
    "f2 = lambda om: (om**2 - 1)/(-om**2*sin(1) + 2*om*sin(om) + sin(1))\n",
    "f1 = lambda k, om: k*om\n",
    "\n",
    "k2c3 = [f2(o) for o in om]\n",
    "k1c3 = [f1(o, k) for o, k in zip(om, k2c3)]\n",
    "\n",
    "fig = figure(figsize=(8,8))\n",
    "plot(k1c3, k2c3)\n",
    "ax = fig.gca()\n",
    "ax.set_xlim(-4, 4)\n",
    "ax.set_ylim(-4, 4);"
   ]
  },
  {
   "cell_type": "code",
   "execution_count": 212,
   "metadata": {
    "collapsed": false
   },
   "outputs": [
    {
     "data": {
      "image/png": "[encoded data removed]",
      "text/plain": [
       "<matplotlib.figure.Figure at 0x10877c9b0>"
      ]
     },
     "metadata": {},
     "output_type": "display_data"
    }
   ],
   "source": [
    "fig = figure(figsize=(8,8))\n",
    "plot(k1c1, k2c1)\n",
    "plot(k1c2, k2c2)\n",
    "plot(k1c3, k2c3)\n",
    "\n",
    "ax = fig.gca()\n",
    "ax.set_xlim(-5, 5)\n",
    "ax.set_ylim(-5, 5);\n",
    "ax.set_xlabel(r\"$k_1$\", fontsize=20)\n",
    "ax.set_ylabel(r\"$k_2$\", fontsize=20);"
   ]
  },
  {
   "cell_type": "code",
   "execution_count": null,
   "metadata": {
    "collapsed": true
   },
   "outputs": [],
   "source": []
  }
 ],
 "metadata": {
  "kernelspec": {
   "display_name": "Python 3",
   "language": "python",
   "name": "python3"
  },
  "language_info": {
   "codemirror_mode": {
    "name": "ipython",
    "version": 3
   },
   "file_extension": ".py",
   "mimetype": "text/x-python",
   "name": "python",
   "nbconvert_exporter": "python",
   "pygments_lexer": "ipython3",
   "version": "3.4.3"
  }
 },
 "nbformat": 4,
 "nbformat_minor": 0
}
