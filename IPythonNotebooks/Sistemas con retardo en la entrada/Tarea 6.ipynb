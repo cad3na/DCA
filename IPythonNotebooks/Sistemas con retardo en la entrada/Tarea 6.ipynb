{
 "metadata": {
  "name": "",
  "signature": "sha256:dc677801bf0ddef3590e1dea4178c1e0b572dafed42940365708f6441a2a50bf"
 },
 "nbformat": 3,
 "nbformat_minor": 0,
 "worksheets": [
  {
   "cells": [
    {
     "cell_type": "heading",
     "level": 1,
     "metadata": {},
     "source": [
      "Tarea 6"
     ]
    },
    {
     "cell_type": "heading",
     "level": 2,
     "metadata": {},
     "source": [
      "Simulaci\u00f3n de un sistema con retardo por medio de la construcci\u00f3n de una Matriz de Lyapunov"
     ]
    },
    {
     "cell_type": "markdown",
     "metadata": {},
     "source": [
      "Dado el sistema:\n",
      "\n",
      "$$\n",
      "\\dot{x}(t) = A_0 x(t) + A_1 x(t - \\tau)\n",
      "$$\n",
      "\n",
      "podemos obtener la soluci\u00f3n $x(t)$, por medio de la construcci\u00f3n de la matriz de Lyapunov y el calculo de la siguiente ecuaci\u00f3n matricial:\n",
      "\n",
      "$$\n",
      "\\begin{pmatrix}\n",
      "\\bar{Y}(\\tau) \\\\\n",
      "\\bar{Z}(\\tau)\n",
      "\\end{pmatrix} = e^{L \\tau} \\left( M + N e^{L \\tau} \\right)^{-1}\n",
      "\\begin{pmatrix}\n",
      "\\bar{0} \\\\\n",
      "\\bar{W}\n",
      "\\end{pmatrix}\n",
      "$$\n",
      "\n",
      "en donde $\\bar{W}$ es la vectorizaci\u00f3n de la matriz $W$, y las matrices $L$, $M$ y $N$ son de la forma:\n",
      "\n",
      "$$\n",
      "L =\n",
      "\\begin{pmatrix}\n",
      "A_0^T \\otimes I & A_1^T \\otimes I \\\\\n",
      "-I \\otimes A_1^T & -I \\otimes A_0^T\n",
      "\\end{pmatrix}\n",
      "$$\n",
      "\n",
      "$$\n",
      "M =\n",
      "\\begin{pmatrix}\n",
      "I \\otimes I & 0 \\\\\n",
      "A_0^T \\otimes I + I \\otimes A_0^T & A_1^T \\otimes I\n",
      "\\end{pmatrix}\n",
      "$$\n",
      "\n",
      "$$\n",
      "N =\n",
      "\\begin{pmatrix}\n",
      "0 & -I \\otimes I \\\\\n",
      "I \\otimes A_1^T & 0\n",
      "\\end{pmatrix}\n",
      "$$\n",
      "\n",
      "en donde $A \\otimes B$ es el producto de Kronecker de $A$ y $B$.\n",
      "\n",
      "Para esta simulaci\u00f3n utilizaremos los siguientes valores:\n",
      "\n",
      "$$\n",
      "A_0 =\n",
      "\\begin{pmatrix}\n",
      "0 & 1 \\\\\n",
      "-1 & 0\n",
      "\\end{pmatrix} \\quad\n",
      "A_1 =\n",
      "\\begin{pmatrix}\n",
      "-2 & 0 \\\\\n",
      "0.3 & 0\n",
      "\\end{pmatrix} \\quad W = I \\quad \\tau \\in [0, 1]\n",
      "$$\n",
      "\n",
      "Declaramos estas matrices, asi como una matriz de ceros, la identidad y las vectorizaciones de una matriz de ceros, asi como la de la matriz $W$."
     ]
    },
    {
     "cell_type": "code",
     "collapsed": false,
     "input": [
      "from numpy import array, matrix, kron, eye, zeros, vstack, hstack, linspace\n",
      "from scipy.linalg import expm"
     ],
     "language": "python",
     "metadata": {},
     "outputs": [],
     "prompt_number": 1
    },
    {
     "cell_type": "code",
     "collapsed": false,
     "input": [
      "A0 = matrix([[0, 1], [-1, 0]])\n",
      "A0"
     ],
     "language": "python",
     "metadata": {},
     "outputs": [
      {
       "metadata": {},
       "output_type": "pyout",
       "prompt_number": 2,
       "text": [
        "matrix([[ 0,  1],\n",
        "        [-1,  0]])"
       ]
      }
     ],
     "prompt_number": 2
    },
    {
     "cell_type": "code",
     "collapsed": false,
     "input": [
      "A1 = matrix([[-2, 0], [0.3, 0]])\n",
      "A1"
     ],
     "language": "python",
     "metadata": {},
     "outputs": [
      {
       "metadata": {},
       "output_type": "pyout",
       "prompt_number": 3,
       "text": [
        "matrix([[-2. ,  0. ],\n",
        "        [ 0.3,  0. ]])"
       ]
      }
     ],
     "prompt_number": 3
    },
    {
     "cell_type": "code",
     "collapsed": false,
     "input": [
      "I = matrix(eye(2))\n",
      "I"
     ],
     "language": "python",
     "metadata": {},
     "outputs": [
      {
       "metadata": {},
       "output_type": "pyout",
       "prompt_number": 4,
       "text": [
        "matrix([[ 1.,  0.],\n",
        "        [ 0.,  1.]])"
       ]
      }
     ],
     "prompt_number": 4
    },
    {
     "cell_type": "code",
     "collapsed": false,
     "input": [
      "cero = zeros((2**2, 2**2))\n",
      "cero"
     ],
     "language": "python",
     "metadata": {},
     "outputs": [
      {
       "metadata": {},
       "output_type": "pyout",
       "prompt_number": 5,
       "text": [
        "array([[ 0.,  0.,  0.,  0.],\n",
        "       [ 0.,  0.,  0.,  0.],\n",
        "       [ 0.,  0.,  0.,  0.],\n",
        "       [ 0.,  0.,  0.,  0.]])"
       ]
      }
     ],
     "prompt_number": 5
    },
    {
     "cell_type": "code",
     "collapsed": false,
     "input": [
      "v0 = matrix(zeros(4))\n",
      "v0"
     ],
     "language": "python",
     "metadata": {},
     "outputs": [
      {
       "metadata": {},
       "output_type": "pyout",
       "prompt_number": 6,
       "text": [
        "matrix([[ 0.,  0.,  0.,  0.]])"
       ]
      }
     ],
     "prompt_number": 6
    },
    {
     "cell_type": "code",
     "collapsed": false,
     "input": [
      "W = I\n",
      "W.flatten(\"F\")"
     ],
     "language": "python",
     "metadata": {},
     "outputs": [
      {
       "metadata": {},
       "output_type": "pyout",
       "prompt_number": 7,
       "text": [
        "matrix([[ 1.,  0.,  0.,  1.]])"
       ]
      }
     ],
     "prompt_number": 7
    },
    {
     "cell_type": "markdown",
     "metadata": {},
     "source": [
      "Ahora calculamos la matriz de Lyapunov, asi como las matrices $M$ y $N$"
     ]
    },
    {
     "cell_type": "code",
     "collapsed": false,
     "input": [
      "L = vstack((hstack((kron(A0.T, I), kron(A1.T, I))),\n",
      "        hstack((kron(-I, A1.T), kron(-I, A0.T)))))\n",
      "L"
     ],
     "language": "python",
     "metadata": {},
     "outputs": [
      {
       "metadata": {},
       "output_type": "pyout",
       "prompt_number": 8,
       "text": [
        "matrix([[ 0. ,  0. , -1. , -0. , -2. , -0. ,  0.3,  0. ],\n",
        "        [ 0. ,  0. , -0. , -1. , -0. , -2. ,  0. ,  0.3],\n",
        "        [ 1. ,  0. ,  0. ,  0. ,  0. ,  0. ,  0. ,  0. ],\n",
        "        [ 0. ,  1. ,  0. ,  0. ,  0. ,  0. ,  0. ,  0. ],\n",
        "        [ 2. , -0.3,  0. , -0. , -0. ,  1. , -0. ,  0. ],\n",
        "        [-0. , -0. , -0. , -0. , -1. , -0. , -0. , -0. ],\n",
        "        [ 0. , -0. ,  2. , -0.3, -0. ,  0. , -0. ,  1. ],\n",
        "        [-0. , -0. , -0. , -0. , -0. , -0. , -1. , -0. ]])"
       ]
      }
     ],
     "prompt_number": 8
    },
    {
     "cell_type": "code",
     "collapsed": false,
     "input": [
      "M = vstack((hstack((kron(I, I), cero)),\n",
      "            hstack((kron(A0.T, I) + kron(I, A0.T), kron(A1.T, I)))))\n",
      "M"
     ],
     "language": "python",
     "metadata": {},
     "outputs": [
      {
       "metadata": {},
       "output_type": "pyout",
       "prompt_number": 9,
       "text": [
        "matrix([[ 1. ,  0. ,  0. ,  0. ,  0. ,  0. ,  0. ,  0. ],\n",
        "        [ 0. ,  1. ,  0. ,  0. ,  0. ,  0. ,  0. ,  0. ],\n",
        "        [ 0. ,  0. ,  1. ,  0. ,  0. ,  0. ,  0. ,  0. ],\n",
        "        [ 0. ,  0. ,  0. ,  1. ,  0. ,  0. ,  0. ,  0. ],\n",
        "        [ 0. , -1. , -1. , -0. , -2. , -0. ,  0.3,  0. ],\n",
        "        [ 1. ,  0. ,  0. , -1. , -0. , -2. ,  0. ,  0.3],\n",
        "        [ 1. ,  0. ,  0. , -1. ,  0. ,  0. ,  0. ,  0. ],\n",
        "        [ 0. ,  1. ,  1. ,  0. ,  0. ,  0. ,  0. ,  0. ]])"
       ]
      }
     ],
     "prompt_number": 9
    },
    {
     "cell_type": "code",
     "collapsed": false,
     "input": [
      "N = vstack((hstack((cero, kron(-I, I))),\n",
      "            hstack((kron(I, A1.T), cero))))\n",
      "N"
     ],
     "language": "python",
     "metadata": {},
     "outputs": [
      {
       "metadata": {},
       "output_type": "pyout",
       "prompt_number": 10,
       "text": [
        "matrix([[ 0. ,  0. ,  0. ,  0. , -1. , -0. , -0. , -0. ],\n",
        "        [ 0. ,  0. ,  0. ,  0. , -0. , -1. , -0. , -0. ],\n",
        "        [ 0. ,  0. ,  0. ,  0. , -0. , -0. , -1. , -0. ],\n",
        "        [ 0. ,  0. ,  0. ,  0. , -0. , -0. , -0. , -1. ],\n",
        "        [-2. ,  0.3, -0. ,  0. ,  0. ,  0. ,  0. ,  0. ],\n",
        "        [ 0. ,  0. ,  0. ,  0. ,  0. ,  0. ,  0. ,  0. ],\n",
        "        [-0. ,  0. , -2. ,  0.3,  0. ,  0. ,  0. ,  0. ],\n",
        "        [ 0. ,  0. ,  0. ,  0. ,  0. ,  0. ,  0. ,  0. ]])"
       ]
      }
     ],
     "prompt_number": 10
    },
    {
     "cell_type": "code",
     "collapsed": false,
     "input": [
      "v = vstack((v0.T, W.flatten(\"F\").T))\n",
      "v"
     ],
     "language": "python",
     "metadata": {},
     "outputs": [
      {
       "metadata": {},
       "output_type": "pyout",
       "prompt_number": 11,
       "text": [
        "matrix([[ 0.],\n",
        "        [ 0.],\n",
        "        [ 0.],\n",
        "        [ 0.],\n",
        "        [ 1.],\n",
        "        [ 0.],\n",
        "        [ 0.],\n",
        "        [ 1.]])"
       ]
      }
     ],
     "prompt_number": 11
    },
    {
     "cell_type": "markdown",
     "metadata": {},
     "source": [
      "Ahora declaramos la funci\u00f3n $f(\\tau)$ la cual es de la forma:\n",
      "\n",
      "$$\n",
      "f(\\tau) := e^{L \\tau} \\left( M + N e^{L \\tau} \\right)^{-1}\n",
      "\\begin{pmatrix}\n",
      "\\bar{0} \\\\\n",
      "\\bar{W}\n",
      "\\end{pmatrix}\n",
      "$$\n",
      "\n",
      "con la que podremos calcular los valores de:\n",
      "\n",
      "$$\n",
      "\\begin{pmatrix}\n",
      "\\bar{Y}(\\tau) \\\\\n",
      "\\bar{Z}(\\tau)\n",
      "\\end{pmatrix}\n",
      "$$\n",
      "\n",
      "para cada $\\tau$ que le demos como argumento:"
     ]
    },
    {
     "cell_type": "code",
     "collapsed": false,
     "input": [
      "f = lambda tau: (expm(L*tau)*(M + N*expm(L*tau)).I*v).flatten().tolist()[0]"
     ],
     "language": "python",
     "metadata": {},
     "outputs": [],
     "prompt_number": 12
    },
    {
     "cell_type": "markdown",
     "metadata": {},
     "source": [
      "utilizamos $h = \\frac{1}{2}$ para probar nuestra funci\u00f3n: "
     ]
    },
    {
     "cell_type": "code",
     "collapsed": false,
     "input": [
      "# Fijamos la precision de los datos mostrados a 3 cifras significativas\n",
      "# para facilitar la lectura\n",
      "\n",
      "%precision 3"
     ],
     "language": "python",
     "metadata": {},
     "outputs": [
      {
       "metadata": {},
       "output_type": "pyout",
       "prompt_number": 13,
       "text": [
        "u'%.3f'"
       ]
      }
     ],
     "prompt_number": 13
    },
    {
     "cell_type": "code",
     "collapsed": false,
     "input": [
      "h = 0.5\n",
      "v1 = f(h)\n",
      "v1"
     ],
     "language": "python",
     "metadata": {},
     "outputs": [
      {
       "metadata": {},
       "output_type": "pyout",
       "prompt_number": 14,
       "text": [
        "[-0.373, 0.844, 0.034, -1.434, -1.303, 0.500, 0.500, -1.800]"
       ]
      }
     ],
     "prompt_number": 14
    },
    {
     "cell_type": "markdown",
     "metadata": {},
     "source": [
      "y para un incremento en el retardo de $\\frac{1}{10}$, tenemos:"
     ]
    },
    {
     "cell_type": "code",
     "collapsed": false,
     "input": [
      "v2 = f(h + 0.1)\n",
      "v2"
     ],
     "language": "python",
     "metadata": {},
     "outputs": [
      {
       "metadata": {},
       "output_type": "pyout",
       "prompt_number": 15,
       "text": [
        "[-0.280, 1.465, -0.639, -1.317, -2.888, 0.500, 0.500, -2.005]"
       ]
      }
     ],
     "prompt_number": 15
    },
    {
     "cell_type": "markdown",
     "metadata": {},
     "source": [
      "por lo que solo queda declarar el dominio de definici\u00f3n de los retardos:\n",
      "\n",
      "$$\n",
      "T = [0, 1]\n",
      "$$\n",
      "\n",
      "y obtener el conjunto de soluciones para cada retardo en el dominio definido:\n",
      "\n",
      "$$\n",
      "V_{sol}= \\left\\{ f(t) \\mid t \\in T \\right\\} \n",
      "$$"
     ]
    },
    {
     "cell_type": "code",
     "collapsed": false,
     "input": [
      "T = linspace(0, 1, 1000)\n",
      "vsol = [f(t) for t in T]"
     ],
     "language": "python",
     "metadata": {},
     "outputs": [],
     "prompt_number": 16
    },
    {
     "cell_type": "code",
     "collapsed": false,
     "input": [
      "sol = zip(*vsol)"
     ],
     "language": "python",
     "metadata": {},
     "outputs": [],
     "prompt_number": 17
    },
    {
     "cell_type": "markdown",
     "metadata": {},
     "source": [
      "Ahora solo queda graficar la soluci\u00f3nes contra los retardos del sistema."
     ]
    },
    {
     "cell_type": "code",
     "collapsed": false,
     "input": [
      "%matplotlib inline\n",
      "from matplotlib.pyplot import plot, figure, style, legend\n",
      "style.use(\"ggplot\")"
     ],
     "language": "python",
     "metadata": {},
     "outputs": [],
     "prompt_number": 18
    },
    {
     "cell_type": "code",
     "collapsed": false,
     "input": [
      "fig = figure(figsize=(12, 6))\n",
      "\n",
      "p1, = plot(T, sol[0])\n",
      "p2, = plot(T, sol[1])\n",
      "p3, = plot(T, sol[2])\n",
      "p4, = plot(T, sol[3])\n",
      "\n",
      "ax = fig.gca()\n",
      "ax.set_ylabel(r\"$Y(\\tau)$\", fontsize=20)\n",
      "ax.set_xlabel(r\"$\\tau$\", fontsize=20)\n",
      "\n",
      "legend([p1, p2, p3, p4],\n",
      "       [r\"$y_{11}(\\tau)$\",\n",
      "        r\"$y_{21}(\\tau)$\",\n",
      "        r\"$y_{12}(\\tau)$\",\n",
      "        r\"$y_{22}(\\tau)$\"]);"
     ],
     "language": "python",
     "metadata": {},
     "outputs": [
      {
       "metadata": {},
       "output_type": "display_data",
       "png": "[encoded data removed]",
       "text": [
        "<matplotlib.figure.Figure at 0x1055d57d0>"
       ]
      }
     ],
     "prompt_number": 19
    },
    {
     "cell_type": "markdown",
     "metadata": {},
     "source": [
      "Puedes acceder a este notebook a traves de la p\u00e1gina\n",
      "\n",
      "http://bit.ly/1CccnJ9\n",
      "\n",
      "o escaneando el siguiente c\u00f3digo:\n",
      "\n",
      "![Codigo](codigos/codigo6.jpg)"
     ]
    },
    {
     "cell_type": "code",
     "collapsed": false,
     "input": [
      "# Codigo para generar codigo :)\n",
      "from qrcode import make\n",
      "img = make(\"http://bit.ly/1CccnJ9\")\n",
      "img.save(\"codigos/codigo6.jpg\")"
     ],
     "language": "python",
     "metadata": {},
     "outputs": [],
     "prompt_number": 20
    },
    {
     "cell_type": "code",
     "collapsed": false,
     "input": [
      "from IPython.core.display import HTML\n",
      "import urllib2\n",
      "HTML(urllib2.urlopen('http://bit.ly/1Ay0q5e').read())"
     ],
     "language": "python",
     "metadata": {},
     "outputs": [
      {
       "html": [
        "<link href='http://fonts.googleapis.com/css?family=Fenix' rel='stylesheet' type='text/css'>\n",
        "<link href='http://fonts.googleapis.com/css?family=Alegreya+Sans:100,300,400,500,700,800,900,100italic,300italic,400italic,500italic,700italic,800italic,900italic' rel='stylesheet' type='text/css'>\n",
        "<link href='http://fonts.googleapis.com/css?family=Source+Code+Pro:300,400' rel='stylesheet' type='text/css'>\n",
        "<style>\n",
        "    @font-face {\n",
        "        font-family: \"Computer Modern\";\n",
        "        src: url('http://mirrors.ctan.org/fonts/cm-unicode/fonts/otf/cmunss.otf');\n",
        "    }\n",
        "    div.cell{\n",
        "        width:800px;\n",
        "        margin-left:16% !important;\n",
        "        margin-right:auto;\n",
        "    }\n",
        "    h1 {\n",
        "        font-family: 'Alegreya Sans', sans-serif;\n",
        "    }\n",
        "    h2 {\n",
        "        font-family: 'Fenix', serif;\n",
        "    }\n",
        "    h3{\n",
        "\t\tfont-family: 'Fenix', serif;\n",
        "        margin-top:12px;\n",
        "        margin-bottom: 3px;\n",
        "       }\n",
        "\th4{\n",
        "\t\tfont-family: 'Fenix', serif;\n",
        "       }\n",
        "    h5 {\n",
        "        font-family: 'Alegreya Sans', sans-serif;\n",
        "    }\t   \n",
        "    div.text_cell_render{\n",
        "        font-family: 'Alegreya Sans',Computer Modern, \"Helvetica Neue\", Arial, Helvetica, Geneva, sans-serif;\n",
        "        line-height: 135%;\n",
        "        font-size: 120%;\n",
        "        width:600px;\n",
        "        margin-left:auto;\n",
        "        margin-right:auto;\n",
        "    }\n",
        "    .CodeMirror{\n",
        "            font-family: \"Source Code Pro\";\n",
        "\t\t\tfont-size: 90%;\n",
        "    }\n",
        "/*    .prompt{\n",
        "        display: None;\n",
        "    }*/\n",
        "    .text_cell_render h1 {\n",
        "        font-weight: 200;\n",
        "        font-size: 50pt;\n",
        "\t\tline-height: 100%;\n",
        "        color:#CD2305;\n",
        "        margin-bottom: 0.5em;\n",
        "        margin-top: 0.5em;\n",
        "        display: block;\n",
        "    }\t\n",
        "    .text_cell_render h5 {\n",
        "        font-weight: 300;\n",
        "        font-size: 16pt;\n",
        "        color: #CD2305;\n",
        "        font-style: italic;\n",
        "        margin-bottom: .5em;\n",
        "        margin-top: 0.5em;\n",
        "        display: block;\n",
        "    }\n",
        "    \n",
        "    .warning{\n",
        "        color: rgb( 240, 20, 20 )\n",
        "        }  \n",
        "</style>\n",
        "<script>\n",
        "    MathJax.Hub.Config({\n",
        "                        TeX: {\n",
        "                           extensions: [\"AMSmath.js\"]\n",
        "                           },\n",
        "                tex2jax: {\n",
        "                    inlineMath: [ ['$','$'], [\"\\\\(\",\"\\\\)\"] ],\n",
        "                    displayMath: [ ['$$','$$'], [\"\\\\[\",\"\\\\]\"] ]\n",
        "                },\n",
        "                displayAlign: 'center', // Change this to 'center' to center equations.\n",
        "                \"HTML-CSS\": {\n",
        "                    styles: {'.MathJax_Display': {\"margin\": 4}}\n",
        "                }\n",
        "        });\n",
        "</script>"
       ],
       "metadata": {},
       "output_type": "pyout",
       "prompt_number": 21,
       "text": [
        "<IPython.core.display.HTML at 0x106d5a7d0>"
       ]
      }
     ],
     "prompt_number": 21
    }
   ],
   "metadata": {}
  }
 ]
}