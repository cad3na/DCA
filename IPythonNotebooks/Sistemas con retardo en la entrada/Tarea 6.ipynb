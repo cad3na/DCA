{
 "metadata": {
  "name": "",
  "signature": "sha256:10bab9ef65b9a981414970d5f3dcb2505a30320ad25c104b153a3032e0e74945"
 },
 "nbformat": 3,
 "nbformat_minor": 0,
 "worksheets": [
  {
   "cells": [
    {
     "cell_type": "heading",
     "level": 1,
     "metadata": {},
     "source": [
      "Tarea 6"
     ]
    },
    {
     "cell_type": "code",
     "collapsed": false,
     "input": [
      "%matplotlib inline\n",
      "from matplotlib.pyplot import plot, figure, style, legend\n",
      "style.use(\"ggplot\")"
     ],
     "language": "python",
     "metadata": {},
     "outputs": [],
     "prompt_number": 172
    },
    {
     "cell_type": "code",
     "collapsed": false,
     "input": [
      "from numpy import array, matrix, kron, eye, zeros, vstack, hstack, linspace\n",
      "from scipy.linalg import expm"
     ],
     "language": "python",
     "metadata": {},
     "outputs": [],
     "prompt_number": 166
    },
    {
     "cell_type": "code",
     "collapsed": false,
     "input": [
      "A0 = matrix([[0, 1], [-1, 0]])\n",
      "A0"
     ],
     "language": "python",
     "metadata": {},
     "outputs": [
      {
       "metadata": {},
       "output_type": "pyout",
       "prompt_number": 4,
       "text": [
        "matrix([[ 0,  1],\n",
        "        [-1,  0]])"
       ]
      }
     ],
     "prompt_number": 4
    },
    {
     "cell_type": "code",
     "collapsed": false,
     "input": [
      "A1 = matrix([[-2, 0], [0.3, 0]])\n",
      "A1"
     ],
     "language": "python",
     "metadata": {},
     "outputs": [
      {
       "metadata": {},
       "output_type": "pyout",
       "prompt_number": 5,
       "text": [
        "matrix([[-2. ,  0. ],\n",
        "        [ 0.3,  0. ]])"
       ]
      }
     ],
     "prompt_number": 5
    },
    {
     "cell_type": "code",
     "collapsed": false,
     "input": [
      "I = matrix(eye(2))\n",
      "I"
     ],
     "language": "python",
     "metadata": {},
     "outputs": [
      {
       "metadata": {},
       "output_type": "pyout",
       "prompt_number": 58,
       "text": [
        "matrix([[ 1.,  0.],\n",
        "        [ 0.,  1.]])"
       ]
      }
     ],
     "prompt_number": 58
    },
    {
     "cell_type": "code",
     "collapsed": false,
     "input": [
      "cero = zeros((2**2, 2**2))\n",
      "cero"
     ],
     "language": "python",
     "metadata": {},
     "outputs": [
      {
       "metadata": {},
       "output_type": "pyout",
       "prompt_number": 59,
       "text": [
        "array([[ 0.,  0.,  0.,  0.],\n",
        "       [ 0.,  0.,  0.,  0.],\n",
        "       [ 0.,  0.,  0.,  0.],\n",
        "       [ 0.,  0.,  0.,  0.]])"
       ]
      }
     ],
     "prompt_number": 59
    },
    {
     "cell_type": "code",
     "collapsed": false,
     "input": [
      "v0 = matrix(zeros(4))\n",
      "v0"
     ],
     "language": "python",
     "metadata": {},
     "outputs": [
      {
       "metadata": {},
       "output_type": "pyout",
       "prompt_number": 62,
       "text": [
        "matrix([[ 0.,  0.,  0.,  0.]])"
       ]
      }
     ],
     "prompt_number": 62
    },
    {
     "cell_type": "code",
     "collapsed": false,
     "input": [
      "W = I\n",
      "W.flatten(\"F\")"
     ],
     "language": "python",
     "metadata": {},
     "outputs": [
      {
       "metadata": {},
       "output_type": "pyout",
       "prompt_number": 61,
       "text": [
        "matrix([[ 1.,  0.,  0.,  1.]])"
       ]
      }
     ],
     "prompt_number": 61
    },
    {
     "cell_type": "code",
     "collapsed": false,
     "input": [
      "L = vstack((hstack((kron(A0.T, I), kron(A1.T, I))),\n",
      "        hstack((kron(-I, A1.T), kron(-I, A0.T)))))\n",
      "L"
     ],
     "language": "python",
     "metadata": {},
     "outputs": [
      {
       "metadata": {},
       "output_type": "pyout",
       "prompt_number": 45,
       "text": [
        "matrix([[ 0. ,  0. , -1. , -0. , -2. , -0. ,  0.3,  0. ],\n",
        "        [ 0. ,  0. , -0. , -1. , -0. , -2. ,  0. ,  0.3],\n",
        "        [ 1. ,  0. ,  0. ,  0. ,  0. ,  0. ,  0. ,  0. ],\n",
        "        [ 0. ,  1. ,  0. ,  0. ,  0. ,  0. ,  0. ,  0. ],\n",
        "        [ 2. , -0.3,  0. , -0. , -0. ,  1. , -0. ,  0. ],\n",
        "        [-0. , -0. , -0. , -0. , -1. , -0. , -0. , -0. ],\n",
        "        [ 0. , -0. ,  2. , -0.3, -0. ,  0. , -0. ,  1. ],\n",
        "        [-0. , -0. , -0. , -0. , -0. , -0. , -1. , -0. ]])"
       ]
      }
     ],
     "prompt_number": 45
    },
    {
     "cell_type": "code",
     "collapsed": false,
     "input": [
      "M = vstack((hstack((kron(I, I), cero)),\n",
      "            hstack((kron(A0.T, I) + kron(I, A0.T), kron(A1.T, I)))))\n",
      "M"
     ],
     "language": "python",
     "metadata": {},
     "outputs": [
      {
       "metadata": {},
       "output_type": "pyout",
       "prompt_number": 49,
       "text": [
        "matrix([[ 1. ,  0. ,  0. ,  0. ,  0. ,  0. ,  0. ,  0. ],\n",
        "        [ 0. ,  1. ,  0. ,  0. ,  0. ,  0. ,  0. ,  0. ],\n",
        "        [ 0. ,  0. ,  1. ,  0. ,  0. ,  0. ,  0. ,  0. ],\n",
        "        [ 0. ,  0. ,  0. ,  1. ,  0. ,  0. ,  0. ,  0. ],\n",
        "        [ 0. , -1. , -1. , -0. , -2. , -0. ,  0.3,  0. ],\n",
        "        [ 1. ,  0. ,  0. , -1. , -0. , -2. ,  0. ,  0.3],\n",
        "        [ 1. ,  0. ,  0. , -1. ,  0. ,  0. ,  0. ,  0. ],\n",
        "        [ 0. ,  1. ,  1. ,  0. ,  0. ,  0. ,  0. ,  0. ]])"
       ]
      }
     ],
     "prompt_number": 49
    },
    {
     "cell_type": "code",
     "collapsed": false,
     "input": [
      "N = vstack((hstack((cero, kron(-I, I))),\n",
      "            hstack((kron(I, A1.T), cero))))\n",
      "N"
     ],
     "language": "python",
     "metadata": {},
     "outputs": [
      {
       "metadata": {},
       "output_type": "pyout",
       "prompt_number": 50,
       "text": [
        "matrix([[ 0. ,  0. ,  0. ,  0. , -1. , -0. , -0. , -0. ],\n",
        "        [ 0. ,  0. ,  0. ,  0. , -0. , -1. , -0. , -0. ],\n",
        "        [ 0. ,  0. ,  0. ,  0. , -0. , -0. , -1. , -0. ],\n",
        "        [ 0. ,  0. ,  0. ,  0. , -0. , -0. , -0. , -1. ],\n",
        "        [-2. ,  0.3, -0. ,  0. ,  0. ,  0. ,  0. ,  0. ],\n",
        "        [ 0. ,  0. ,  0. ,  0. ,  0. ,  0. ,  0. ,  0. ],\n",
        "        [-0. ,  0. , -2. ,  0.3,  0. ,  0. ,  0. ,  0. ],\n",
        "        [ 0. ,  0. ,  0. ,  0. ,  0. ,  0. ,  0. ,  0. ]])"
       ]
      }
     ],
     "prompt_number": 50
    },
    {
     "cell_type": "code",
     "collapsed": false,
     "input": [
      "v = vstack((v0.T, W.flatten(\"F\").T))\n",
      "v"
     ],
     "language": "python",
     "metadata": {},
     "outputs": [
      {
       "metadata": {},
       "output_type": "pyout",
       "prompt_number": 109,
       "text": [
        "matrix([[ 0.],\n",
        "        [ 0.],\n",
        "        [ 0.],\n",
        "        [ 0.],\n",
        "        [ 1.],\n",
        "        [ 0.],\n",
        "        [ 0.],\n",
        "        [ 1.]])"
       ]
      }
     ],
     "prompt_number": 109
    },
    {
     "cell_type": "code",
     "collapsed": false,
     "input": [
      "h = 0.5"
     ],
     "language": "python",
     "metadata": {},
     "outputs": [],
     "prompt_number": 110
    },
    {
     "cell_type": "code",
     "collapsed": false,
     "input": [
      "f = lambda tau: (expm(L*tau)*(M + N*expm(L*tau)).I*v).flatten().tolist()[0]"
     ],
     "language": "python",
     "metadata": {},
     "outputs": [],
     "prompt_number": 161
    },
    {
     "cell_type": "code",
     "collapsed": false,
     "input": [
      "%precision 3"
     ],
     "language": "python",
     "metadata": {},
     "outputs": [
      {
       "metadata": {},
       "output_type": "pyout",
       "prompt_number": 123,
       "text": [
        "u'%.3f'"
       ]
      }
     ],
     "prompt_number": 123
    },
    {
     "cell_type": "code",
     "collapsed": false,
     "input": [
      "v1 = f(h)\n",
      "v1"
     ],
     "language": "python",
     "metadata": {},
     "outputs": [
      {
       "metadata": {},
       "output_type": "pyout",
       "prompt_number": 124,
       "text": [
        "[-0.373, 0.844, 0.034, -1.434, -1.303, 0.500, 0.500, -1.800]"
       ]
      }
     ],
     "prompt_number": 124
    },
    {
     "cell_type": "code",
     "collapsed": false,
     "input": [
      "v2 = f(h + 0.1)\n",
      "v2"
     ],
     "language": "python",
     "metadata": {},
     "outputs": [
      {
       "metadata": {},
       "output_type": "pyout",
       "prompt_number": 125,
       "text": [
        "[-0.280, 1.465, -0.639, -1.317, -2.888, 0.500, 0.500, -2.005]"
       ]
      }
     ],
     "prompt_number": 125
    },
    {
     "cell_type": "code",
     "collapsed": false,
     "input": [
      "vsol = [f(t) for t in range(2)]\n",
      "vsol"
     ],
     "language": "python",
     "metadata": {},
     "outputs": [
      {
       "metadata": {},
       "output_type": "pyout",
       "prompt_number": 139,
       "text": [
        "[[-0.425, 0.500, 0.500, -2.036, -0.425, 0.500, 0.500, -2.036],\n",
        " [-0.524, -0.162, 0.703, -1.037, 0.536, 0.500, 0.500, -1.180]]"
       ]
      }
     ],
     "prompt_number": 139
    },
    {
     "cell_type": "code",
     "collapsed": false,
     "input": [
      "zip(*vsol)"
     ],
     "language": "python",
     "metadata": {},
     "outputs": [
      {
       "metadata": {},
       "output_type": "pyout",
       "prompt_number": 142,
       "text": [
        "[(-0.425, -0.524),\n",
        " (0.500, -0.162),\n",
        " (0.500, 0.703),\n",
        " (-2.036, -1.037),\n",
        " (-0.425, 0.536),\n",
        " (0.500, 0.500),\n",
        " (0.500, 0.500),\n",
        " (-2.036, -1.180)]"
       ]
      }
     ],
     "prompt_number": 142
    },
    {
     "cell_type": "code",
     "collapsed": false,
     "input": [
      "ts = arange(0, 1, 0.01)\n",
      "vsol = [f(t) for t in ts]"
     ],
     "language": "python",
     "metadata": {},
     "outputs": [],
     "prompt_number": 202
    },
    {
     "cell_type": "code",
     "collapsed": false,
     "input": [
      "sol = zip(*vsol)"
     ],
     "language": "python",
     "metadata": {},
     "outputs": [],
     "prompt_number": 198
    },
    {
     "cell_type": "code",
     "collapsed": false,
     "input": [
      "fig = figure(figsize=(12, 6))\n",
      "\n",
      "p1, = plot(ts, sol[0])\n",
      "p2, = plot(ts, sol[1])\n",
      "p3, = plot(ts, sol[2])\n",
      "p4, = plot(ts, sol[3])\n",
      "\n",
      "ax = fig.gca()\n",
      "# ax.set_xlim(650, 700)\n",
      "# ax.set_ylim(-330, 330)\n",
      "\n",
      "legend([p1, p2, p3, p4], [r\"$y_{11}$\", r\"$y_{21}$\", r\"$y_{12}$\", r\"$y_{22}$\"]);"
     ],
     "language": "python",
     "metadata": {},
     "outputs": [
      {
       "metadata": {},
       "output_type": "display_data",
       "png": "[encoded data removed]",
       "text": [
        "<matplotlib.figure.Figure at 0x10908e890>"
       ]
      }
     ],
     "prompt_number": 207
    },
    {
     "cell_type": "code",
     "collapsed": false,
     "input": [
      "# Codigo para generar codigo :)\n",
      "from qrcode import make\n",
      "img = make(\"http://bit.ly/1xvpRgo\")\n",
      "img.save(\"codigos/codigo6.jpg\")"
     ],
     "language": "python",
     "metadata": {},
     "outputs": []
    },
    {
     "cell_type": "code",
     "collapsed": false,
     "input": [
      "from IPython.core.display import HTML\n",
      "import urllib2\n",
      "HTML(urllib2.urlopen('http://bit.ly/1Ay0q5e').read())"
     ],
     "language": "python",
     "metadata": {},
     "outputs": [
      {
       "html": [
        "<link href='http://fonts.googleapis.com/css?family=Fenix' rel='stylesheet' type='text/css'>\n",
        "<link href='http://fonts.googleapis.com/css?family=Alegreya+Sans:100,300,400,500,700,800,900,100italic,300italic,400italic,500italic,700italic,800italic,900italic' rel='stylesheet' type='text/css'>\n",
        "<link href='http://fonts.googleapis.com/css?family=Source+Code+Pro:300,400' rel='stylesheet' type='text/css'>\n",
        "<style>\n",
        "    @font-face {\n",
        "        font-family: \"Computer Modern\";\n",
        "        src: url('http://mirrors.ctan.org/fonts/cm-unicode/fonts/otf/cmunss.otf');\n",
        "    }\n",
        "    div.cell{\n",
        "        width:800px;\n",
        "        margin-left:16% !important;\n",
        "        margin-right:auto;\n",
        "    }\n",
        "    h1 {\n",
        "        font-family: 'Alegreya Sans', sans-serif;\n",
        "    }\n",
        "    h2 {\n",
        "        font-family: 'Fenix', serif;\n",
        "    }\n",
        "    h3{\n",
        "\t\tfont-family: 'Fenix', serif;\n",
        "        margin-top:12px;\n",
        "        margin-bottom: 3px;\n",
        "       }\n",
        "\th4{\n",
        "\t\tfont-family: 'Fenix', serif;\n",
        "       }\n",
        "    h5 {\n",
        "        font-family: 'Alegreya Sans', sans-serif;\n",
        "    }\t   \n",
        "    div.text_cell_render{\n",
        "        font-family: 'Alegreya Sans',Computer Modern, \"Helvetica Neue\", Arial, Helvetica, Geneva, sans-serif;\n",
        "        line-height: 135%;\n",
        "        font-size: 120%;\n",
        "        width:600px;\n",
        "        margin-left:auto;\n",
        "        margin-right:auto;\n",
        "    }\n",
        "    .CodeMirror{\n",
        "            font-family: \"Source Code Pro\";\n",
        "\t\t\tfont-size: 90%;\n",
        "    }\n",
        "/*    .prompt{\n",
        "        display: None;\n",
        "    }*/\n",
        "    .text_cell_render h1 {\n",
        "        font-weight: 200;\n",
        "        font-size: 50pt;\n",
        "\t\tline-height: 100%;\n",
        "        color:#CD2305;\n",
        "        margin-bottom: 0.5em;\n",
        "        margin-top: 0.5em;\n",
        "        display: block;\n",
        "    }\t\n",
        "    .text_cell_render h5 {\n",
        "        font-weight: 300;\n",
        "        font-size: 16pt;\n",
        "        color: #CD2305;\n",
        "        font-style: italic;\n",
        "        margin-bottom: .5em;\n",
        "        margin-top: 0.5em;\n",
        "        display: block;\n",
        "    }\n",
        "    \n",
        "    .warning{\n",
        "        color: rgb( 240, 20, 20 )\n",
        "        }  \n",
        "</style>\n",
        "<script>\n",
        "    MathJax.Hub.Config({\n",
        "                        TeX: {\n",
        "                           extensions: [\"AMSmath.js\"]\n",
        "                           },\n",
        "                tex2jax: {\n",
        "                    inlineMath: [ ['$','$'], [\"\\\\(\",\"\\\\)\"] ],\n",
        "                    displayMath: [ ['$$','$$'], [\"\\\\[\",\"\\\\]\"] ]\n",
        "                },\n",
        "                displayAlign: 'center', // Change this to 'center' to center equations.\n",
        "                \"HTML-CSS\": {\n",
        "                    styles: {'.MathJax_Display': {\"margin\": 4}}\n",
        "                }\n",
        "        });\n",
        "</script>"
       ],
       "metadata": {},
       "output_type": "pyout",
       "prompt_number": 205,
       "text": [
        "<IPython.core.display.HTML at 0x107e9a7d0>"
       ]
      }
     ],
     "prompt_number": 205
    }
   ],
   "metadata": {}
  }
 ]
}