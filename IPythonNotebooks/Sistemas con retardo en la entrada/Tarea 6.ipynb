{
 "cells": [
  {
   "cell_type": "code",
   "execution_count": 1,
   "metadata": {
    "collapsed": false
   },
   "outputs": [
    {
     "data": {
      "text/html": [
       "<link href='http://fonts.googleapis.com/css?family=EB+Garamond' rel='stylesheet' type='text/css'>\n",
       "<link href='http://fonts.googleapis.com/css?family=Lato:100,100italic' rel='stylesheet' type='text/css'>\n",
       "\n",
       "<style>\n",
       "\t@font-face{\n",
       "   \t\tfont-family: \"Computer Modern\";\n",
       "        \tsrc: url('http://mirrors.ctan.org/fonts/cm-unicode/fonts/otf/cmunss.otf');}\n",
       "        \n",
       "        div.cell{\n",
       "\t        max-width:    800px;\n",
       "\t        margin-left:  auto;\n",
       "\t        margin-right: auto;}\n",
       "        \n",
       "\th1 {\n",
       "        \tfont-family: 'Lato', sans-serif;}\n",
       "        \n",
       "\th2 {\n",
       "        \tfont-family: 'Lato', serif;}\n",
       "        \n",
       "\th3{\n",
       "\t\tfont-family:   'Lato', serif;\n",
       "        \tmargin-top:    12px;\n",
       "\t\tmargin-bottom: 3px;}\n",
       "        \n",
       "        h4{\n",
       "\t\tfont-family: 'Lato', serif;}\n",
       "\t\n",
       "\th5 {\n",
       "        \tfont-family: 'Lato', serif;}\n",
       "    \n",
       "\tdiv.text_cell_render{\n",
       "        \tfont-family:  'EB Garamond', 'Computer Modern', 'Helvetica Neue', Arial, Helvetica, Geneva, sans-serif;\n",
       "\t        line-height:  140%;\n",
       "\t        font-size:    14pt;\n",
       "\t\tmax-width:    650px;\n",
       "\t\tmargin-left:  auto;\n",
       "        \tmargin-right: auto;}\n",
       "        \n",
       "\t.CodeMirror{\n",
       "        \tfont-family: 'Consolas';}\n",
       "    \n",
       "\t.text_cell_render h1 {\n",
       "\t        font-weight:   100;\n",
       "\t        font-size:     48pt;\n",
       "\t\tline-height:   100%;\n",
       "\t        color:         #CD2305;\n",
       "\t        margin-bottom: 0.5em;\n",
       "\t        margin-top:    0.5em;\n",
       "\t        display:       block;}\n",
       "        \n",
       "\t.text_cell_render h2 {\n",
       "        \tfont-weight:   100;\n",
       "        \tfont-size:     36pt;}\n",
       "        \n",
       "\t.text_cell_render h3 {\n",
       "        \tfont-weight:   100;\n",
       "        \tfont-size:     21pt;}\n",
       "        \n",
       "\t.text_cell_render h4 {\n",
       "        \tfont-weight:   100;\n",
       "        \tfont-size:     18pt;}\n",
       "        \n",
       "\t.text_cell_render h5 {\n",
       "\t        font-weight:   100;\n",
       "\t        font-size:     16pt;\n",
       "\t        color:         #CD2305;\n",
       "\t        font-style:    italic;\n",
       "\t        margin-bottom: 0.5em;\n",
       "\t        margin-top:    0.5em;\n",
       "\t        display:       block;}\n",
       "        \n",
       "\t.text_cell_render h6 {\n",
       "\t        font-weight:   100;\n",
       "\t        font-size:     14pt;\n",
       "\t        color:         #CD2305;\n",
       "\t        font-style:    italic;\n",
       "\t        margin-bottom: 0.5em;\n",
       "\t        margin-top:    0.5em;\n",
       "\t        display:       block;}\n",
       "    \n",
       "\t.warning{\n",
       "\t    \tbackground-color: #FFFFE0;\n",
       "\t    \tborder-color: #FFCC99;\n",
       "\t    \tborder-left: 5px solid #FFCC99;\n",
       "\t    \tpadding: 0.5em;}\n",
       "\t    \t\n",
       "\t.error{\n",
       "\t    \tbackground-color: #fcf2f2;\n",
       "\t    \tborder-color: #dFb5b4;\n",
       "\t    \tborder-left: 5px solid #dfb5b4;\n",
       "\t    \tpadding: 0.5em;}\n",
       "\t    \t\n",
       "</style>\n",
       "\n",
       "<script>\n",
       "\tMathJax.Hub.Config({\n",
       "        \tTeX:{extensions: [\"AMSmath.js\"]},\n",
       "\n",
       "        \tjax: [\"input/TeX\",\"output/SVG\"],\n",
       "        \tSVG: {\n",
       "        \t\tscale: 120,\n",
       "        \t\tfont: 'Gyre-Pagella'}\n",
       "        });\n",
       "</script>"
      ]
     },
     "metadata": {},
     "output_type": "display_data"
    }
   ],
   "source": [
    "from IPython.core.display import display_html\n",
    "from urllib.request import urlopen\n",
    "\n",
    "cssurl = 'http://j.mp/1DnuN9M'\n",
    "display_html(urlopen(cssurl).read(), raw=True)"
   ]
  },
  {
   "cell_type": "markdown",
   "metadata": {},
   "source": [
    "# Tarea 6"
   ]
  },
  {
   "cell_type": "markdown",
   "metadata": {},
   "source": [
    "## Simulación de un sistema con retardo por medio de la construcción de una Matriz de Lyapunov"
   ]
  },
  {
   "cell_type": "markdown",
   "metadata": {},
   "source": [
    "Dado el sistema:\n",
    "\n",
    "$$\n",
    "\\dot{x}(t) = A_0 x(t) + A_1 x(t - \\tau)\n",
    "$$\n",
    "\n",
    "proponemos una solución de la forma $x(t) = U(\\tau)$ con $U(\\tau)$ de la forma:\n",
    "\n",
    "$$\n",
    "U(\\tau) = \\int_0^{\\infty} K^T(t) W K(t + \\tau) dt\n",
    "$$\n",
    "\n",
    "Solución que sabemos satisface la condición dinámica del sistema:\n",
    "\n",
    "$$\n",
    "\\frac{d U(\\tau)}{d \\tau} = U(\\tau) A_0 + U(\\tau - h) A_1\n",
    "$$\n",
    "\n",
    "la cual, para un tiempo negativo sería:\n",
    "\n",
    "$$\n",
    "\\frac{d U(- \\tau)}{d \\tau} = U(- \\tau) A_0 + U(- \\tau - h) A_1\n",
    "$$\n",
    "\n",
    "asi como la propiedad simetrica:\n",
    "\n",
    "$$\n",
    "U(-\\tau) = U^T(\\tau) \\quad \\tau \\geq 0 \n",
    "$$\n",
    "\n",
    "por lo que tenemos que la propiedad dinámica del sistema queda:\n",
    "\n",
    "$$\n",
    "\\frac{d U(\\tau)}{d \\tau} = -A_0^T U(\\tau) - A_1^T U(\\tau + h)\n",
    "$$\n",
    "\n",
    "o bien:\n",
    "\n",
    "$$\n",
    "\\frac{d U(\\tau - h)}{d \\tau} = -A_0^T U(\\tau - h) - A_1^T U(\\tau)\n",
    "$$\n",
    "\n",
    "En este punto introducimos dos variables auxiliares, $Y(\\tau) = U(\\tau)$ y $Z(\\tau) = U(\\tau - h)$, para expresar la condición dinámica del sistema y esta ultiima expresión en forma de un sistema acoplado:\n",
    "\n",
    "$$\n",
    "\\frac{d Y(\\tau)}{d \\tau} = Y(\\tau) A_0 + Z(\\tau) A_1\n",
    "$$\n",
    "\n",
    "$$\n",
    "\\frac{d Z(\\tau)}{d \\tau} = -A_1^T Y(\\tau) - A_0^T Z(\\tau)\n",
    "$$\n",
    "\n",
    "en donde notamos que tenemos un sistema sin retardos explicitos, por lo que podemos utilizar tecnicas convencionales para el analisis de este sistema, mas aun, podemos construir una matriz que de el comportamiento de este sistema acoplado.\n",
    "\n",
    "Para poder lograr esto, primero tenemos que hablar de la vectorización de una matriz y del producto de Kronecker; dada una matriz $A$ de la forma:\n",
    "\n",
    "$$\n",
    "A =\n",
    "\\begin{pmatrix}\n",
    "a_1 & a_2 & \\dots & a_n\n",
    "\\end{pmatrix}\n",
    "$$\n",
    "\n",
    "en donde $a_1, a_2, \\dots, a_n$ son las columnas de $A$ definimos la vectorización de $A$ como:\n",
    "\n",
    "<div style=\"display:none\">\n",
    "  $\\DeclareMathOperator{\\vect}{vec}$\n",
    "</div>\n",
    "\n",
    "$$\n",
    "\\vect{(A)} =\n",
    "\\begin{pmatrix}\n",
    "a_1 \\\\\n",
    "a_2 \\\\\n",
    "\\vdots \\\\\n",
    "a_n\n",
    "\\end{pmatrix}\n",
    "$$\n",
    "\n",
    "es decir, un vector en donde todas las columnas se colocan consecutivamente en la primera.\n",
    "\n",
    "Dada esta definición, podemos decir que una manera de simplificar la vectorización de un producto es:\n",
    "\n",
    "$$\n",
    "\\vect{(AXB)} = (B^T \\otimes A) \\vect{(X)}\n",
    "$$\n",
    "\n",
    "en donde $\\otimes$ es el producto de Kronecker y se define como:\n",
    "\n",
    "$$\n",
    "A \\otimes B =\n",
    "\\begin{pmatrix}\n",
    "a_{11} B & a_{12} B & \\dots & a_{1n} B \\\\\n",
    "a_{21} B & a_{22} B & \\dots & a_{2n} B \\\\\n",
    "\\vdots & \\vdots & & \\vdots \\\\\n",
    "a_{n1} B & a_{n2} B & \\dots & a_{nn} B \\\\\n",
    "\\end{pmatrix}\n",
    "$$\n",
    "\n",
    "El sistema acoplado que obtuvimos es equivalente a:\n",
    "\n",
    "$$\n",
    "\\frac{d Y(\\tau)}{d \\tau} = I Y(\\tau) A_0 + I Z(\\tau) A_1\n",
    "$$\n",
    "\n",
    "$$\n",
    "\\frac{d Z(\\tau)}{d \\tau} = -A_1^T Y(\\tau) I - A_0^T Z(\\tau) I\n",
    "$$\n",
    "\n",
    "por lo que al vectorizar estas expresiones, obtendremos:\n",
    "\n",
    "$$\n",
    "\\frac{d \\bar{Y}(\\tau)}{d \\tau} = \\left( A_0^T \\otimes I \\right) \\bar{Y}(\\tau) + \\left( A_1^T \\otimes I \\right) \\bar{Z}(\\tau)\n",
    "$$\n",
    "\n",
    "$$\n",
    "\\frac{d \\bar{Z}(\\tau)}{d \\tau} = - \\left( I \\otimes A_1^T \\right) \\bar{Y}(\\tau) - \\left( I \\otimes A_0^T \\right) \\bar{Z}(\\tau)\n",
    "$$\n",
    "\n",
    "o bien:\n",
    "\n",
    "$$\n",
    "\\frac{d}{d\\tau}\n",
    "\\begin{pmatrix}\n",
    "\\bar{Y}(\\tau) \\\\\n",
    "\\bar{Z}(\\tau)\n",
    "\\end{pmatrix} =\n",
    "\\begin{pmatrix}\n",
    "A_0^T \\otimes I & A_1^T \\otimes I \\\\\n",
    "-I \\otimes A_1^T & -I \\otimes A_0^T\n",
    "\\end{pmatrix}\n",
    "\\begin{pmatrix}\n",
    "\\bar{Y}(\\tau) \\\\\n",
    "\\bar{Z}(\\tau)\n",
    "\\end{pmatrix}\n",
    "$$\n",
    "\n",
    "lo que sugiere una solución de la forma:\n",
    "\n",
    "$$\n",
    "\\begin{pmatrix}\n",
    "\\bar{Y}(\\tau) \\\\\n",
    "\\bar{Z}(\\tau)\n",
    "\\end{pmatrix} = e^{L \\tau}\n",
    "\\begin{pmatrix}\n",
    "\\bar{Y}(0) \\\\\n",
    "\\bar{Z}(0)\n",
    "\\end{pmatrix}\n",
    "$$\n",
    "\n",
    "en donde $L$ es la matriz de Lyapunov, de la forma:\n",
    "\n",
    "$$\n",
    "L =\n",
    "\\begin{pmatrix}\n",
    "A_0^T \\otimes I & A_1^T \\otimes I \\\\\n",
    "-I \\otimes A_1^T & -I \\otimes A_0^T\n",
    "\\end{pmatrix}\n",
    "$$\n",
    "\n",
    "Ahora consideremos las condiciones iniciales, asi como la propiedad algebraica del sistema:\n",
    "\n",
    "$$\n",
    "U(0) A_0 + U(-h) A_1 + A_0^T U(0) + A_1^T U(h) = -W\n",
    "$$\n",
    "\n",
    "notando que las condiciones iniciales para $U$ se traducen en:\n",
    "\n",
    "$$\n",
    "Y(0) = U(0) \\quad Z(0) = U(-h) \\quad Y(h) = U(h)\n",
    "$$\n",
    "\n",
    "podemos reescribir esta propiedad como:\n",
    "\n",
    "$$\n",
    "Y(0) A_0 + Z(0) A_1 + A_0^T Y(0) + A_1^T Y(h) = -W\n",
    "$$\n",
    "\n",
    "vectorizando, esto nos queda:\n",
    "\n",
    "$$\n",
    "\\left( A_0^T \\otimes I \\right) \\bar{Y}(0) + \\left( A_1^T \\otimes I \\right) \\bar{Z}(0) + \\left( I \\otimes A_0^T \\right) \\bar{Y}(0) + \\left( I \\otimes A_1^T \\right) \\bar{Y}(h) = -\\bar{W}\n",
    "$$\n",
    "\n",
    "A esta ecuación le agregamos la vectorización de una condición inicial dada ya:\n",
    "\n",
    "$$\n",
    "\\bar{Y}(h) - \\bar{Z}(h) = \\bar{0}\n",
    "$$\n",
    "\n",
    "y tenemos que este sistema acoplado puede ser escrito como:\n",
    "\n",
    "$$\n",
    "\\begin{align}\n",
    "\\begin{pmatrix}\n",
    "A_0^T \\otimes I + I \\otimes A_0^T & A_1^T \\otimes I \\\\\n",
    "I \\otimes I & 0 \\otimes 0\n",
    "\\end{pmatrix}\n",
    "\\begin{pmatrix}\n",
    "\\bar{Y}(0) \\\\\n",
    "\\bar{Z}(0)\n",
    "\\end{pmatrix} &+ \\\\\n",
    "\\begin{pmatrix}\n",
    "I \\otimes A_1^T & 0 \\otimes 0 \\\\\n",
    "0 \\otimes 0 & -I \\otimes I\n",
    "\\end{pmatrix}\n",
    "\\begin{pmatrix}\n",
    "\\bar{Y}(h) \\\\\n",
    "\\bar{Z}(h)\n",
    "\\end{pmatrix} &=\n",
    "\\begin{pmatrix}\n",
    "- \\bar{W} \\\\\n",
    "\\bar{0}\n",
    "\\end{pmatrix}\n",
    "\\end{align}\n",
    "$$\n",
    "\n",
    "o bien:\n",
    "\n",
    "$$\n",
    "M\n",
    "\\begin{pmatrix}\n",
    "\\bar{Y}(0) \\\\\n",
    "\\bar{Z}(0)\n",
    "\\end{pmatrix} + N\n",
    "\\begin{pmatrix}\n",
    "\\bar{Y}(h) \\\\\n",
    "\\bar{Z}(h)\n",
    "\\end{pmatrix} =\n",
    "\\begin{pmatrix}\n",
    "- \\bar{W} \\\\\n",
    "\\bar{0}\n",
    "\\end{pmatrix}\n",
    "$$\n",
    "\n",
    "con\n",
    "\n",
    "$$\n",
    "M =\n",
    "\\begin{pmatrix}\n",
    "A_0^T \\otimes I + I \\otimes A_0^T & A_1^T \\otimes I \\\\\n",
    "I \\otimes I & 0 \\otimes 0\n",
    "\\end{pmatrix}\n",
    "$$\n",
    "\n",
    "$$\n",
    "N =\n",
    "\\begin{pmatrix}\n",
    "I \\otimes A_1^T & 0 \\otimes 0 \\\\\n",
    "0 \\otimes 0 & -I \\otimes I\n",
    "\\end{pmatrix}\n",
    "$$\n",
    "\n",
    "aun más, vemos que el termino $\\begin{pmatrix} \\bar{Y}(h) \\\\ \\bar{Z}(h) \\end{pmatrix}$ se puede obtener con el resultado anterior:\n",
    "\n",
    "$$\n",
    "\\begin{pmatrix}\n",
    "\\bar{Y}(h) \\\\\n",
    "\\bar{Z}(h)\n",
    "\\end{pmatrix} = e^{L h}\n",
    "\\begin{pmatrix}\n",
    "\\bar{Y}(0) \\\\\n",
    "\\bar{Z}(0)\n",
    "\\end{pmatrix}\n",
    "$$\n",
    "\n",
    "por lo que al sustituir en esta expresión, tenemos:\n",
    "\n",
    "$$\n",
    "M\n",
    "\\begin{pmatrix}\n",
    "\\bar{Y}(0) \\\\\n",
    "\\bar{Z}(0)\n",
    "\\end{pmatrix} + N e^{L h}\n",
    "\\begin{pmatrix}\n",
    "\\bar{Y}(0) \\\\\n",
    "\\bar{Z}(0)\n",
    "\\end{pmatrix} =\n",
    "\\begin{pmatrix}\n",
    "- \\bar{W} \\\\\n",
    "\\bar{0}\n",
    "\\end{pmatrix}\n",
    "$$\n",
    "\n",
    "$$\n",
    "\\left( M + N e^{L h} \\right)\n",
    "\\begin{pmatrix}\n",
    "\\bar{Y}(0) \\\\\n",
    "\\bar{Z}(0)\n",
    "\\end{pmatrix} =\n",
    "\\begin{pmatrix}\n",
    "- \\bar{W} \\\\\n",
    "\\bar{0}\n",
    "\\end{pmatrix}\n",
    "$$\n",
    "\n",
    "$$\n",
    "\\begin{pmatrix}\n",
    "\\bar{Y}(0) \\\\\n",
    "\\bar{Z}(0)\n",
    "\\end{pmatrix} =\n",
    "\\left( M + N e^{L h} \\right)^{-1}\n",
    "\\begin{pmatrix}\n",
    "- \\bar{W} \\\\\n",
    "\\bar{0}\n",
    "\\end{pmatrix}\n",
    "$$\n",
    "\n",
    "Esta expresión la podemos sustituir en la original y obtener:\n",
    "\n",
    "$$\n",
    "\\begin{pmatrix}\n",
    "\\bar{Y}(\\tau) \\\\\n",
    "\\bar{Z}(\\tau)\n",
    "\\end{pmatrix} = e^{L \\tau} \\left( M + N e^{L h} \\right)^{-1}\n",
    "\\begin{pmatrix}\n",
    "- \\bar{W} \\\\\n",
    "\\bar{0}\n",
    "\\end{pmatrix}\n",
    "$$\n",
    "\n",
    "Para esta simulación utilizaremos los siguientes valores:\n",
    "\n",
    "$$\n",
    "A_0 =\n",
    "\\begin{pmatrix}\n",
    "0 & 1 \\\\\n",
    "-1 & 0\n",
    "\\end{pmatrix} \\quad\n",
    "A_1 =\n",
    "\\begin{pmatrix}\n",
    "-2 & 0 \\\\\n",
    "0.3 & 0\n",
    "\\end{pmatrix} \\quad W = I \\quad \\tau \\in [0, 1]\n",
    "$$\n",
    "\n",
    "Declaramos estas matrices, asi como una matriz de ceros, la identidad y las vectorizaciones de una matriz de ceros, asi como la de la matriz $W$."
   ]
  },
  {
   "cell_type": "code",
   "execution_count": 1,
   "metadata": {
    "collapsed": false
   },
   "outputs": [],
   "source": [
    "from numpy import array, matrix, kron, eye, zeros, vstack, hstack, linspace\n",
    "from scipy.linalg import expm"
   ]
  },
  {
   "cell_type": "code",
   "execution_count": 2,
   "metadata": {
    "collapsed": false
   },
   "outputs": [
    {
     "data": {
      "text/plain": [
       "matrix([[ 0,  1],\n",
       "        [-1,  0]])"
      ]
     },
     "execution_count": 2,
     "metadata": {},
     "output_type": "execute_result"
    }
   ],
   "source": [
    "A0 = matrix([[0, 1], [-1, 0]])\n",
    "A0"
   ]
  },
  {
   "cell_type": "code",
   "execution_count": 3,
   "metadata": {
    "collapsed": false
   },
   "outputs": [
    {
     "data": {
      "text/plain": [
       "matrix([[-2. ,  0. ],\n",
       "        [ 0.3,  0. ]])"
      ]
     },
     "execution_count": 3,
     "metadata": {},
     "output_type": "execute_result"
    }
   ],
   "source": [
    "A1 = matrix([[-2, 0], [0.3, 0]])\n",
    "A1"
   ]
  },
  {
   "cell_type": "code",
   "execution_count": 4,
   "metadata": {
    "collapsed": false
   },
   "outputs": [
    {
     "data": {
      "text/plain": [
       "matrix([[ 1.,  0.],\n",
       "        [ 0.,  1.]])"
      ]
     },
     "execution_count": 4,
     "metadata": {},
     "output_type": "execute_result"
    }
   ],
   "source": [
    "I = matrix(eye(2))\n",
    "I"
   ]
  },
  {
   "cell_type": "code",
   "execution_count": 5,
   "metadata": {
    "collapsed": false
   },
   "outputs": [
    {
     "data": {
      "text/plain": [
       "array([[ 0.,  0.,  0.,  0.],\n",
       "       [ 0.,  0.,  0.,  0.],\n",
       "       [ 0.,  0.,  0.,  0.],\n",
       "       [ 0.,  0.,  0.,  0.]])"
      ]
     },
     "execution_count": 5,
     "metadata": {},
     "output_type": "execute_result"
    }
   ],
   "source": [
    "cero = zeros((2**2, 2**2))\n",
    "cero"
   ]
  },
  {
   "cell_type": "code",
   "execution_count": 6,
   "metadata": {
    "collapsed": false
   },
   "outputs": [
    {
     "data": {
      "text/plain": [
       "matrix([[ 0.,  0.,  0.,  0.]])"
      ]
     },
     "execution_count": 6,
     "metadata": {},
     "output_type": "execute_result"
    }
   ],
   "source": [
    "v0 = matrix(zeros(4))\n",
    "v0"
   ]
  },
  {
   "cell_type": "code",
   "execution_count": 7,
   "metadata": {
    "collapsed": false
   },
   "outputs": [
    {
     "data": {
      "text/plain": [
       "matrix([[ 1.,  0.,  0.,  1.]])"
      ]
     },
     "execution_count": 7,
     "metadata": {},
     "output_type": "execute_result"
    }
   ],
   "source": [
    "W = I\n",
    "W.flatten(\"F\")"
   ]
  },
  {
   "cell_type": "markdown",
   "metadata": {},
   "source": [
    "Ahora calculamos la matriz de Lyapunov, asi como las matrices $M$ y $N$"
   ]
  },
  {
   "cell_type": "code",
   "execution_count": 8,
   "metadata": {
    "collapsed": false
   },
   "outputs": [
    {
     "data": {
      "text/plain": [
       "matrix([[ 0. ,  0. , -1. , -0. , -2. , -0. ,  0.3,  0. ],\n",
       "        [ 0. ,  0. , -0. , -1. , -0. , -2. ,  0. ,  0.3],\n",
       "        [ 1. ,  0. ,  0. ,  0. ,  0. ,  0. ,  0. ,  0. ],\n",
       "        [ 0. ,  1. ,  0. ,  0. ,  0. ,  0. ,  0. ,  0. ],\n",
       "        [ 2. , -0.3,  0. , -0. , -0. ,  1. , -0. ,  0. ],\n",
       "        [-0. , -0. , -0. , -0. , -1. , -0. , -0. , -0. ],\n",
       "        [ 0. , -0. ,  2. , -0.3, -0. ,  0. , -0. ,  1. ],\n",
       "        [-0. , -0. , -0. , -0. , -0. , -0. , -1. , -0. ]])"
      ]
     },
     "execution_count": 8,
     "metadata": {},
     "output_type": "execute_result"
    }
   ],
   "source": [
    "L = vstack((hstack((kron(A0.T, I), kron(A1.T, I))),\n",
    "        hstack((kron(-I, A1.T), kron(-I, A0.T)))))\n",
    "L"
   ]
  },
  {
   "cell_type": "code",
   "execution_count": 11,
   "metadata": {
    "collapsed": false
   },
   "outputs": [
    {
     "data": {
      "text/plain": [
       "matrix([[ 0. , -1. , -1. , -0. , -2. , -0. ,  0.3,  0. ],\n",
       "        [ 1. ,  0. ,  0. , -1. , -0. , -2. ,  0. ,  0.3],\n",
       "        [ 1. ,  0. ,  0. , -1. ,  0. ,  0. ,  0. ,  0. ],\n",
       "        [ 0. ,  1. ,  1. ,  0. ,  0. ,  0. ,  0. ,  0. ],\n",
       "        [ 1. ,  0. ,  0. ,  0. ,  0. ,  0. ,  0. ,  0. ],\n",
       "        [ 0. ,  1. ,  0. ,  0. ,  0. ,  0. ,  0. ,  0. ],\n",
       "        [ 0. ,  0. ,  1. ,  0. ,  0. ,  0. ,  0. ,  0. ],\n",
       "        [ 0. ,  0. ,  0. ,  1. ,  0. ,  0. ,  0. ,  0. ]])"
      ]
     },
     "execution_count": 11,
     "metadata": {},
     "output_type": "execute_result"
    }
   ],
   "source": [
    "M = vstack((hstack((kron(A0.T, I) + kron(I, A0.T), kron(A1.T, I))),\n",
    "            hstack((kron(I, I), cero))))\n",
    "M"
   ]
  },
  {
   "cell_type": "code",
   "execution_count": 12,
   "metadata": {
    "collapsed": false
   },
   "outputs": [
    {
     "data": {
      "text/plain": [
       "matrix([[-2. ,  0.3, -0. ,  0. ,  0. ,  0. ,  0. ,  0. ],\n",
       "        [ 0. ,  0. ,  0. ,  0. ,  0. ,  0. ,  0. ,  0. ],\n",
       "        [-0. ,  0. , -2. ,  0.3,  0. ,  0. ,  0. ,  0. ],\n",
       "        [ 0. ,  0. ,  0. ,  0. ,  0. ,  0. ,  0. ,  0. ],\n",
       "        [ 0. ,  0. ,  0. ,  0. , -1. , -0. , -0. , -0. ],\n",
       "        [ 0. ,  0. ,  0. ,  0. , -0. , -1. , -0. , -0. ],\n",
       "        [ 0. ,  0. ,  0. ,  0. , -0. , -0. , -1. , -0. ],\n",
       "        [ 0. ,  0. ,  0. ,  0. , -0. , -0. , -0. , -1. ]])"
      ]
     },
     "execution_count": 12,
     "metadata": {},
     "output_type": "execute_result"
    }
   ],
   "source": [
    "N = vstack((hstack((kron(I, A1.T), cero)),\n",
    "            hstack((cero, kron(-I, I)))))\n",
    "N"
   ]
  },
  {
   "cell_type": "code",
   "execution_count": 13,
   "metadata": {
    "collapsed": false
   },
   "outputs": [
    {
     "data": {
      "text/plain": [
       "matrix([[-1.],\n",
       "        [-0.],\n",
       "        [-0.],\n",
       "        [-1.],\n",
       "        [ 0.],\n",
       "        [ 0.],\n",
       "        [ 0.],\n",
       "        [ 0.]])"
      ]
     },
     "execution_count": 13,
     "metadata": {},
     "output_type": "execute_result"
    }
   ],
   "source": [
    "v = vstack((- W.flatten(\"F\").T, v0.T))\n",
    "v"
   ]
  },
  {
   "cell_type": "markdown",
   "metadata": {},
   "source": [
    "Ahora declaramos la función $f(\\tau)$ la cual es de la forma:\n",
    "\n",
    "$$\n",
    "f(\\tau) := e^{L \\tau} \\left( M + N e^{L h} \\right)^{-1}\n",
    "\\begin{pmatrix}\n",
    "\\bar{0} \\\\\n",
    "\\bar{W}\n",
    "\\end{pmatrix}\n",
    "$$\n",
    "\n",
    "con la que podremos calcular los valores de:\n",
    "\n",
    "$$\n",
    "\\begin{pmatrix}\n",
    "\\bar{Y}(\\tau) \\\\\n",
    "\\bar{Z}(\\tau)\n",
    "\\end{pmatrix}\n",
    "$$\n",
    "\n",
    "para cada $\\tau$ que le demos como argumento:"
   ]
  },
  {
   "cell_type": "code",
   "execution_count": 14,
   "metadata": {
    "collapsed": false
   },
   "outputs": [],
   "source": [
    "h = 1\n",
    "f = lambda tau: (expm(L*tau)*(M + N*expm(L*h)).I*v).flatten().tolist()[0]"
   ]
  },
  {
   "cell_type": "markdown",
   "metadata": {},
   "source": [
    "utilizamos $h = \\frac{1}{2}$ para probar nuestra función: "
   ]
  },
  {
   "cell_type": "code",
   "execution_count": 15,
   "metadata": {
    "collapsed": false
   },
   "outputs": [
    {
     "data": {
      "text/plain": [
       "u'%.3f'"
      ]
     },
     "execution_count": 15,
     "metadata": {},
     "output_type": "execute_result"
    }
   ],
   "source": [
    "# Fijamos la precision de los datos mostrados a 3 cifras significativas\n",
    "# para facilitar la lectura\n",
    "\n",
    "%precision 3"
   ]
  },
  {
   "cell_type": "code",
   "execution_count": 16,
   "metadata": {
    "collapsed": false
   },
   "outputs": [
    {
     "data": {
      "text/plain": [
       "[-0.309, -0.127, -0.750, 1.018, -0.309, -0.750, -0.127, 1.018]"
      ]
     },
     "execution_count": 16,
     "metadata": {},
     "output_type": "execute_result"
    }
   ],
   "source": [
    "tau = 0.5\n",
    "v1 = f(tau)\n",
    "v1"
   ]
  },
  {
   "cell_type": "markdown",
   "metadata": {},
   "source": [
    "y para un incremento en el retardo de $\\frac{1}{10}$, tenemos:"
   ]
  },
  {
   "cell_type": "code",
   "execution_count": 17,
   "metadata": {
    "collapsed": false
   },
   "outputs": [
    {
     "data": {
      "text/plain": [
       "[-0.163, -0.051, -0.774, 1.009, -0.427, -0.713, -0.208, 1.035]"
      ]
     },
     "execution_count": 17,
     "metadata": {},
     "output_type": "execute_result"
    }
   ],
   "source": [
    "v2 = f(tau + 0.1)\n",
    "v2"
   ]
  },
  {
   "cell_type": "markdown",
   "metadata": {},
   "source": [
    "por lo que solo queda declarar el dominio de definición de los retardos:\n",
    "\n",
    "$$\n",
    "T = [0, 1]\n",
    "$$\n",
    "\n",
    "y obtener el conjunto de soluciones para cada retardo en el dominio definido:\n",
    "\n",
    "$$\n",
    "V_{sol}= \\left\\{ f(t) \\mid t \\in T \\right\\} \n",
    "$$"
   ]
  },
  {
   "cell_type": "code",
   "execution_count": 18,
   "metadata": {
    "collapsed": false
   },
   "outputs": [],
   "source": [
    "T = linspace(0, 1, 1000)\n",
    "vsol = [f(t) for t in T]"
   ]
  },
  {
   "cell_type": "code",
   "execution_count": 19,
   "metadata": {
    "collapsed": false
   },
   "outputs": [],
   "source": [
    "sol = zip(*vsol)"
   ]
  },
  {
   "cell_type": "markdown",
   "metadata": {},
   "source": [
    "Ahora solo queda graficar la soluciónes contra los retardos del sistema."
   ]
  },
  {
   "cell_type": "code",
   "execution_count": 20,
   "metadata": {
    "collapsed": false
   },
   "outputs": [],
   "source": [
    "%matplotlib inline\n",
    "from matplotlib.pyplot import plot, figure, style, legend\n",
    "style.use(\"ggplot\")"
   ]
  },
  {
   "cell_type": "code",
   "execution_count": 21,
   "metadata": {
    "collapsed": false
   },
   "outputs": [
    {
     "data": {
      "image/png": "[encoded data removed]",
      "text/plain": [
       "<matplotlib.figure.Figure at 0x106bd40d0>"
      ]
     },
     "metadata": {},
     "output_type": "display_data"
    }
   ],
   "source": [
    "fig = figure(figsize=(12, 6))\n",
    "\n",
    "p1, = plot(T, sol[0])\n",
    "p2, = plot(T, sol[1])\n",
    "p3, = plot(T, sol[2])\n",
    "p4, = plot(T, sol[3])\n",
    "\n",
    "ax = fig.gca()\n",
    "ax.set_ylabel(r\"$Y(\\tau)$\", fontsize=20)\n",
    "ax.set_xlabel(r\"$\\tau$\", fontsize=20)\n",
    "\n",
    "legend([p1, p2, p3, p4],\n",
    "       [r\"$y_{11}(\\tau)$\",\n",
    "        r\"$y_{21}(\\tau)$\",\n",
    "        r\"$y_{12}(\\tau)$\",\n",
    "        r\"$y_{22}(\\tau)$\"]);"
   ]
  },
  {
   "cell_type": "markdown",
   "metadata": {},
   "source": [
    "Puedes acceder a este notebook a traves de la página\n",
    "\n",
    "http://bit.ly/1CccnJ9\n",
    "\n",
    "o escaneando el siguiente código:\n",
    "\n",
    "![Codigo](codigos/codigo6.jpg)"
   ]
  },
  {
   "cell_type": "code",
   "execution_count": 22,
   "metadata": {
    "collapsed": false
   },
   "outputs": [],
   "source": [
    "# Codigo para generar codigo :)\n",
    "from qrcode import make\n",
    "img = make(\"http://bit.ly/1CccnJ9\")\n",
    "img.save(\"codigos/codigo6.jpg\")"
   ]
  }
 ],
 "metadata": {
  "kernelspec": {
   "display_name": "Python 3",
   "language": "python",
   "name": "python3"
  },
  "language_info": {
   "codemirror_mode": {
    "name": "ipython",
    "version": 3
   },
   "file_extension": ".py",
   "mimetype": "text/x-python",
   "name": "python",
   "nbconvert_exporter": "python",
   "pygments_lexer": "ipython3",
   "version": "3.4.3"
  }
 },
 "nbformat": 4,
 "nbformat_minor": 0
}
