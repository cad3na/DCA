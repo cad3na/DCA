{
 "metadata": {
  "name": "",
  "signature": "sha256:d25946facee121c9ad35552daa39b3b2d247a540465d910d460cc7f322636874"
 },
 "nbformat": 3,
 "nbformat_minor": 0,
 "worksheets": [
  {
   "cells": [
    {
     "cell_type": "code",
     "collapsed": false,
     "input": [
      "%matplotlib inline\n",
      "from matplotlib.pyplot import plot, figure, legend, xticks, yticks"
     ],
     "language": "python",
     "metadata": {},
     "outputs": [],
     "prompt_number": 111
    },
    {
     "cell_type": "code",
     "collapsed": false,
     "input": [
      "from numpy import logspace, linspace, log10, sin, cos, arcsin, sqrt, abs, degrees, arange"
     ],
     "language": "python",
     "metadata": {},
     "outputs": [],
     "prompt_number": 112
    },
    {
     "cell_type": "markdown",
     "metadata": {},
     "source": [
      "Sea un sistema lineal invariante en el tiempo descrito por la siguiente EDO\n",
      "\n",
      "$$\\left( \\frac{d^2}{dt^2} + \\frac{d}{dt} \\right) y(t) = \\left( \\frac{d}{dt} - 1 \\right) u(t)$$\n",
      "\n",
      "donde $y(t)$ es la salida y $u(t)$ es la entrada."
     ]
    },
    {
     "cell_type": "heading",
     "level": 1,
     "metadata": {},
     "source": [
      "Funcion de Transferencia"
     ]
    },
    {
     "cell_type": "heading",
     "level": 4,
     "metadata": {},
     "source": [
      "Encuentre su funcion de transferencia $\\frac{y(s)}{u(s)}$. Cuales son los polos y los ceros?"
     ]
    },
    {
     "cell_type": "markdown",
     "metadata": {},
     "source": [
      "Para obtener la funci\u00f3n de transferencia del sistema dado se debe obtener la transformada de Laplace.\n",
      "\n",
      "$$\\mathcal{L} \\left[ \\left( \\frac{d^2}{dt^2} + \\frac{d}{dt} \\right) y(t) = \\left( \\frac{d}{dt} - 1 \\right) u(t)\\right] \\implies (s^2 + s) y(s) = (s - 1) u(s) \\implies \\frac{y(s)}{u(s)} = \\frac{s-1}{s(s+1)}$$\n",
      "\n",
      "Por lo tanto podemos notar que tiene un cero en {$1$} y dos polos en {$ 0, -1$}."
     ]
    },
    {
     "cell_type": "heading",
     "level": 1,
     "metadata": {},
     "source": [
      "Routh-Hurwitz"
     ]
    },
    {
     "cell_type": "heading",
     "level": 4,
     "metadata": {},
     "source": [
      "Como primer intento para controlar a este sistema, se propone una ley de control, $\\frac{u(s)}{v(s)} = k\\frac{s-a}{s+b}$, donde $k>0, a>0, b>0$. Utilizando el criterio de Routh Hurwitz, determine las relaciones que debe guardar la ganancia $k$ con los paramteros $a$ y $b$ para que el sistema en lazo cerrado sea Hurwitz estable."
     ]
    },
    {
     "cell_type": "markdown",
     "metadata": {},
     "source": [
      "Para utilizar el criterio de estabilidad de Routh-Hurwitz, tenemos que encontrar la funcion de transferencia del sistema retroalimentado con la ley de control dada, de donde tenemos que si la ley de control es:\n",
      "\n",
      "$$\\frac{u(s)}{v(s)} = k\\frac{s-a}{s+b}$$\n",
      "\n",
      "esto nos indica que la esta actuando directamente sobre la entrada del bloque del sistema, por lo que el sistema retroalimentado lo podemos ver como:\n",
      "\n",
      "$$FT_{lc} = \\frac{\\frac{u(s)}{v(s)} \\frac{y(s)}{u(s)}}{1 + \\frac{u(s)}{v(s)} \\frac{y(s)}{u(s)}}$$\n",
      "\n",
      "o bien:\n",
      "\n",
      "$$FT_{lc} = \\frac{G_c G}{1 + G_c G}$$\n",
      "\n",
      "donde $G = \\frac{y(s)}{u(s)}$ y $G_c = \\frac{u(s)}{v(s)}$\n",
      "\n",
      "Asi pues, empezamos importando la libreria simbolica de Python y declarando las variables necesarias para el calculo de la funcion de transferencia retroalimentada $FT_{lc}$:"
     ]
    },
    {
     "cell_type": "code",
     "collapsed": false,
     "input": [
      "from sympy import var, latex, simplify, collect, expand, init_printing, solve\n",
      "init_printing()\n",
      "var(\"s,a,b,k\")"
     ],
     "language": "python",
     "metadata": {},
     "outputs": [
      {
       "latex": [
        "$$\\begin{pmatrix}s, & a, & b, & k\\end{pmatrix}$$"
       ],
       "metadata": {},
       "output_type": "pyout",
       "png": "[encoded data removed]",
       "prompt_number": 4,
       "text": [
        "(s, a, b, k)"
       ]
      }
     ],
     "prompt_number": 4
    },
    {
     "cell_type": "code",
     "collapsed": false,
     "input": [
      "G = (s-1)/(s*(s+1))\n",
      "Gc = k*(s-a)/(s+b)\n",
      "FTlc = simplify((Gc*G)/(1+Gc*G))"
     ],
     "language": "python",
     "metadata": {},
     "outputs": [],
     "prompt_number": 5
    },
    {
     "cell_type": "code",
     "collapsed": false,
     "input": [
      "FTlc"
     ],
     "language": "python",
     "metadata": {},
     "outputs": [
      {
       "latex": [
        "$$\\frac{k \\left(a - s\\right) \\left(s - 1\\right)}{k \\left(a - s\\right) \\left(s - 1\\right) - s \\left(b + s\\right) \\left(s + 1\\right)}$$"
       ],
       "metadata": {},
       "output_type": "pyout",
       "png": "[encoded data removed]",
       "prompt_number": 6,
       "text": [
        "          k\u22c5(a - s)\u22c5(s - 1)          \n",
        "\u2500\u2500\u2500\u2500\u2500\u2500\u2500\u2500\u2500\u2500\u2500\u2500\u2500\u2500\u2500\u2500\u2500\u2500\u2500\u2500\u2500\u2500\u2500\u2500\u2500\u2500\u2500\u2500\u2500\u2500\u2500\u2500\u2500\u2500\u2500\u2500\u2500\n",
        "k\u22c5(a - s)\u22c5(s - 1) - s\u22c5(b + s)\u22c5(s + 1)"
       ]
      }
     ],
     "prompt_number": 6
    },
    {
     "cell_type": "markdown",
     "metadata": {},
     "source": [
      "o equivalentemente:\n",
      "\n",
      "$$\\frac{k \\left(s - a\\right) \\left(s -1 \\right)}{k \\left(s - a\\right) \\left(s -1\\right) + s \\left(s + b \\right) \\left(s + 1\\right)}$$\n",
      "\n",
      "lo cual nos indica que el polinomio caracetristico es:\n",
      "\n",
      "$$F(s) = k \\left(s - a \\right) \\left(s -1\\right) + s \\left(s + b \\right) \\left(s + 1\\right)$$"
     ]
    },
    {
     "cell_type": "code",
     "collapsed": false,
     "input": [
      "F = k*(s-a)*(s-1) + s*(s+b)*(s+1)"
     ],
     "language": "python",
     "metadata": {},
     "outputs": [],
     "prompt_number": 7
    },
    {
     "cell_type": "code",
     "collapsed": false,
     "input": [
      "collect(expand(F),s)"
     ],
     "language": "python",
     "metadata": {},
     "outputs": [
      {
       "latex": [
        "$$a k + s^{3} + s^{2} \\left(b + k + 1\\right) + s \\left(- a k + b - k\\right)$$"
       ],
       "metadata": {},
       "output_type": "pyout",
       "png": "[encoded data removed]",
       "prompt_number": 8,
       "text": [
        "       3    2                               \n",
        "a\u22c5k + s  + s \u22c5(b + k + 1) + s\u22c5(-a\u22c5k + b - k)"
       ]
      }
     ],
     "prompt_number": 8
    },
    {
     "cell_type": "markdown",
     "metadata": {},
     "source": [
      "Por lo que notamos que la tabla de Routh se calculara haciendo lo siguiente:\n",
      "\n",
      "$$a s^3 + b s^2 + c s + d$$\n",
      "\n",
      "|$s^3$|$a$                  |$c$|\n",
      "|-----|---------------------|---|\n",
      "|$s^2$|$b$                  |$d$|\n",
      "|$s^1$|$\\frac{b c - d a}{b}$|$0$|\n",
      "|$s^0$|$d$                  |$0$|\n",
      "\n",
      "Y el criterio que nos da Routh-Hurwitz para evaluar la estabilidad de un sistema nos dice que habra tantas raices con parte real positiva, como cambios de signo haya en la primera columna, por lo que nuestro trabajo es hacer que la primera columna no cambie de signo. Por consiguiente tenemos:\n",
      "\n",
      "1. $$1 > 0$$\n",
      "\n",
      "2. $$b + k + 1 > 0$$\n",
      "\n",
      "3. $$\\frac{((b + k + 1)(b - k - ak) - (a k)(1))}{(b + k + 1)} > 0$$\n",
      "\n",
      "4. $$ak > 0$$\n",
      "\n",
      "De la primera desigualdad, tenemos algo trivial, de la segunda obtenemos que $b + k > -1$, pero como $b > 0$ y $k > 0$ esto no nos dice nada mas. En la cuarta desigualdad tenemos de igual manera que $a > 0$ y $k > 0$, por lo que esta debe de ser cierta y no nos brinda mayor informaci\u00f3n. La tercer desigualdad la tenemos que desarrollar."
     ]
    },
    {
     "cell_type": "code",
     "collapsed": false,
     "input": [
      "simplify(expand(((b+k+1)*(b-k-a*k) - (a*k)*1)/(b+k+1)))"
     ],
     "language": "python",
     "metadata": {},
     "outputs": [
      {
       "latex": [
        "$$\\frac{1}{b + k + 1} \\left(- a b k - a k^{2} - 2 a k + b^{2} + b - k^{2} - k\\right)$$"
       ],
       "metadata": {},
       "output_type": "pyout",
       "png": "[encoded data removed]",
       "prompt_number": 9,
       "text": [
        "            2            2        2    \n",
        "-a\u22c5b\u22c5k - a\u22c5k  - 2\u22c5a\u22c5k + b  + b - k  - k\n",
        "\u2500\u2500\u2500\u2500\u2500\u2500\u2500\u2500\u2500\u2500\u2500\u2500\u2500\u2500\u2500\u2500\u2500\u2500\u2500\u2500\u2500\u2500\u2500\u2500\u2500\u2500\u2500\u2500\u2500\u2500\u2500\u2500\u2500\u2500\u2500\u2500\u2500\u2500\u2500\n",
        "               b + k + 1               "
       ]
      }
     ],
     "prompt_number": 9
    },
    {
     "cell_type": "markdown",
     "metadata": {},
     "source": [
      "Lo cual implica:\n",
      "\n",
      "$$\\frac{- a b k - a k^{2} - 2 a k + b^{2} + b - k^{2} - k}{b + k + 1} > 0$$\n",
      "\n",
      "pero como ya establecimos, la segunda desigualdad es cierta, por lo que podemos escribir lo siguiente como equivalencia:\n",
      "\n",
      "$$- a b k - a k^{2} - 2 a k + b^{2} + b - k^{2} - k > 0$$"
     ]
    },
    {
     "cell_type": "code",
     "collapsed": false,
     "input": [
      "cond = collect(-a*b*k - a*k**2 - 2*a*k + b**2 + b - k**2 - k,k)\n",
      "cond"
     ],
     "language": "python",
     "metadata": {},
     "outputs": [
      {
       "latex": [
        "$$b^{2} + b + k^{2} \\left(- a - 1\\right) + k \\left(- a b - 2 a - 1\\right)$$"
       ],
       "metadata": {},
       "output_type": "pyout",
       "png": "[encoded data removed]",
       "prompt_number": 10,
       "text": [
        " 2        2                              \n",
        "b  + b + k \u22c5(-a - 1) + k\u22c5(-a\u22c5b - 2\u22c5a - 1)"
       ]
      }
     ],
     "prompt_number": 10
    },
    {
     "cell_type": "markdown",
     "metadata": {},
     "source": [
      "o bien:\n",
      "\n",
      "$$k^{2} \\left(- a -1\\right) + k \\left(- a b - 2 a -1\\right) + \\left( b^{2} + b \\right)$$"
     ]
    },
    {
     "cell_type": "code",
     "collapsed": false,
     "input": [
      "cond_k = solve(cond, k)\n",
      "cond_k"
     ],
     "language": "python",
     "metadata": {},
     "outputs": [
      {
       "latex": [
        "$$\\begin{bmatrix}\\frac{1}{2 a + 2} \\left(- a b - 2 a + \\sqrt{a^{2} b^{2} + 4 a^{2} b + 4 a^{2} + 4 a b^{2} + 6 a b + 4 a + 4 b^{2} + 4 b + 1} - 1\\right), & - \\frac{1}{2 a + 2} \\left(a b + 2 a + \\sqrt{a^{2} b^{2} + 4 a^{2} b + 4 a^{2} + 4 a b^{2} + 6 a b + 4 a + 4 b^{2} + 4 b + 1} + 1\\right)\\end{bmatrix}$$"
       ],
       "metadata": {},
       "output_type": "pyout",
       "png": "[encoded data removed]",
       "prompt_number": 11,
       "text": [
        "\u23a1                _____________________________________________________________\n",
        "\u23a2               \u2571  2  2      2        2        2                    2         \n",
        "\u23a2-a\u22c5b - 2\u22c5a + \u2572\u2571  a \u22c5b  + 4\u22c5a \u22c5b + 4\u22c5a  + 4\u22c5a\u22c5b  + 6\u22c5a\u22c5b + 4\u22c5a + 4\u22c5b  + 4\u22c5b + \n",
        "\u23a2\u2500\u2500\u2500\u2500\u2500\u2500\u2500\u2500\u2500\u2500\u2500\u2500\u2500\u2500\u2500\u2500\u2500\u2500\u2500\u2500\u2500\u2500\u2500\u2500\u2500\u2500\u2500\u2500\u2500\u2500\u2500\u2500\u2500\u2500\u2500\u2500\u2500\u2500\u2500\u2500\u2500\u2500\u2500\u2500\u2500\u2500\u2500\u2500\u2500\u2500\u2500\u2500\u2500\u2500\u2500\u2500\u2500\u2500\u2500\u2500\u2500\u2500\u2500\u2500\u2500\u2500\u2500\u2500\u2500\u2500\u2500\u2500\u2500\u2500\u2500\u2500\u2500\n",
        "\u23a3                                     2\u22c5(a + 1)                               \n",
        "\n",
        "__       \u239b               _____________________________________________________\n",
        "         \u239c              \u2571  2  2      2        2        2                    2 \n",
        "1  - 1  -\u239da\u22c5b + 2\u22c5a + \u2572\u2571  a \u22c5b  + 4\u22c5a \u22c5b + 4\u22c5a  + 4\u22c5a\u22c5b  + 6\u22c5a\u22c5b + 4\u22c5a + 4\u22c5b  \n",
        "\u2500\u2500\u2500\u2500\u2500\u2500, \u2500\u2500\u2500\u2500\u2500\u2500\u2500\u2500\u2500\u2500\u2500\u2500\u2500\u2500\u2500\u2500\u2500\u2500\u2500\u2500\u2500\u2500\u2500\u2500\u2500\u2500\u2500\u2500\u2500\u2500\u2500\u2500\u2500\u2500\u2500\u2500\u2500\u2500\u2500\u2500\u2500\u2500\u2500\u2500\u2500\u2500\u2500\u2500\u2500\u2500\u2500\u2500\u2500\u2500\u2500\u2500\u2500\u2500\u2500\u2500\u2500\u2500\u2500\u2500\u2500\u2500\u2500\u2500\u2500\u2500\n",
        "                                               2\u22c5a + 2                        \n",
        "\n",
        "__________    \u239e \u23a4\n",
        "              \u239f \u23a5\n",
        "+ 4\u22c5b + 1  + 1\u23a0 \u23a5\n",
        "\u2500\u2500\u2500\u2500\u2500\u2500\u2500\u2500\u2500\u2500\u2500\u2500\u2500\u2500\u2500\u2500\u23a5\n",
        "                \u23a6"
       ]
      }
     ],
     "prompt_number": 11
    },
    {
     "cell_type": "markdown",
     "metadata": {},
     "source": [
      "Lo que calculamos son los valores criticos de k, por lo que:\n",
      "\n",
      "$$\n",
      "k > \\frac{1}{2 a + 2} \\left(- a b - 2 a + \\sqrt{a^{2} b^{2} + 4 a^{2} b + 4 a^{2} + 4 a b^{2} + 6 a b + 4 a + 4 b^{2} + 4 b + 1} - 1\\right)\n",
      "$$\n",
      "$$\n",
      "k > - \\frac{1}{2 a + 2} \\left(a b + 2 a + \\sqrt{a^{2} b^{2} + 4 a^{2} b + 4 a^{2} + 4 a b^{2} + 6 a b + 4 a + 4 b^{2} + 4 b + 1} + 1\\right)\n",
      "$$"
     ]
    },
    {
     "cell_type": "heading",
     "level": 4,
     "metadata": {},
     "source": [
      "Proponga valores num\u00e9ricos para los par\u00e1metros $a$ y $b$, y determine el rango de ganancias $k$ para que el sistema en lazo cerrado sea Hurwitz estable. Cual es la ganancia cr\u00edtica, $k_c$, para la cual , el sistema en lazo cerrado presenta una respuesta oscilatoria?"
     ]
    },
    {
     "cell_type": "markdown",
     "metadata": {},
     "source": [
      "Asi pues podemos proponer $a$ y $b$ mayores que $0$, de tal manera que obtengamos un rango de $k$, en el que el comportamiento del sistema sea estable.\n",
      "\n",
      "Si proponemos $a = 2$ y $b = 2$."
     ]
    },
    {
     "cell_type": "code",
     "collapsed": false,
     "input": [
      "cond1 = cond_k[0].subs(a, 2).subs(b, 2)\n",
      "cond1"
     ],
     "language": "python",
     "metadata": {},
     "outputs": [
      {
       "latex": [
        "$$- \\frac{3}{2} + \\frac{\\sqrt{17}}{2}$$"
       ],
       "metadata": {},
       "output_type": "pyout",
       "png": "[encoded data removed]",
       "prompt_number": 24,
       "text": [
        "        ____\n",
        "  3   \u2572\u2571 17 \n",
        "- \u2500 + \u2500\u2500\u2500\u2500\u2500\u2500\n",
        "  2     2   "
       ]
      }
     ],
     "prompt_number": 24
    },
    {
     "cell_type": "code",
     "collapsed": false,
     "input": [
      "cond1.evalf()"
     ],
     "language": "python",
     "metadata": {},
     "outputs": [
      {
       "latex": [
        "$$0.56155281280883$$"
       ],
       "metadata": {},
       "output_type": "pyout",
       "png": "[encoded data removed]",
       "prompt_number": 25,
       "text": [
        "0.561552812808830"
       ]
      }
     ],
     "prompt_number": 25
    },
    {
     "cell_type": "code",
     "collapsed": false,
     "input": [
      "cond2 = cond_k[1].subs(a, 2).subs(b, 2)\n",
      "cond2"
     ],
     "language": "python",
     "metadata": {},
     "outputs": [
      {
       "latex": [
        "$$- \\frac{\\sqrt{17}}{2} - \\frac{3}{2}$$"
       ],
       "metadata": {},
       "output_type": "pyout",
       "png": "[encoded data removed]",
       "prompt_number": 27,
       "text": [
        "    ____    \n",
        "  \u2572\u2571 17    3\n",
        "- \u2500\u2500\u2500\u2500\u2500\u2500 - \u2500\n",
        "    2      2"
       ]
      }
     ],
     "prompt_number": 27
    },
    {
     "cell_type": "code",
     "collapsed": false,
     "input": [
      "cond2.evalf()"
     ],
     "language": "python",
     "metadata": {},
     "outputs": [
      {
       "latex": [
        "$$-3.56155281280883$$"
       ],
       "metadata": {},
       "output_type": "pyout",
       "png": "[encoded data removed]",
       "prompt_number": 28,
       "text": [
        "-3.56155281280883"
       ]
      }
     ],
     "prompt_number": 28
    },
    {
     "cell_type": "markdown",
     "metadata": {},
     "source": [
      "Entonces obtenemos que $k > 0.561$ y $k > -3.561$, por lo que la unica restriccion para k ser\u00e1 que $k > 0.561$ y por lo tanto para $a = 2$ y $b = 2$, $k_c = 0.561$."
     ]
    },
    {
     "cell_type": "heading",
     "level": 1,
     "metadata": {},
     "source": [
      "Lugar de las Raices"
     ]
    },
    {
     "cell_type": "heading",
     "level": 4,
     "metadata": {},
     "source": [
      "Compruebe el rango encontrado en el anterior inciso, utilizando el lugar de las raices"
     ]
    },
    {
     "cell_type": "markdown",
     "metadata": {},
     "source": [
      "Para utilizar las funciones comunes de Matlab, podemos utilizar el modulo de control de python, el cual mandamos llamar."
     ]
    },
    {
     "cell_type": "code",
     "collapsed": false,
     "input": [
      "from control import tf, rlocus"
     ],
     "language": "python",
     "metadata": {},
     "outputs": [],
     "prompt_number": 15
    },
    {
     "cell_type": "markdown",
     "metadata": {},
     "source": [
      "Asi pues, podemos usar el comando rlocus para obtener los datos necesarios para graficar el lugar geometrico de las raices."
     ]
    },
    {
     "cell_type": "code",
     "collapsed": false,
     "input": [
      "G = tf([1, -1],[1, 1, 0])\n",
      "Gc = tf([1, -2],[1, 2])"
     ],
     "language": "python",
     "metadata": {},
     "outputs": [],
     "prompt_number": 45
    },
    {
     "cell_type": "code",
     "collapsed": false,
     "input": [
      "f = figure(figsize = (11, 5))\n",
      "rlocus(G.feedback(tf([1],[1])))\n",
      "ax = f.gca()\n",
      "ax.set_xlim([-3.5, 1.5]);\n",
      "legend((\"Polos\", \"Ceros\"));"
     ],
     "language": "python",
     "metadata": {},
     "outputs": [
      {
       "metadata": {},
       "output_type": "display_data",
       "png": "[encoded data removed]",
       "text": [
        "<matplotlib.figure.Figure at 0x10a229d10>"
       ]
      }
     ],
     "prompt_number": 103
    },
    {
     "cell_type": "code",
     "collapsed": false,
     "input": [
      "f = figure(figsize = (11, 5))\n",
      "rlocus(Gc*G)\n",
      "ax = f.gca()\n",
      "ax.set_xlim([-2.5, 2.5])\n",
      "legend((\"Polos\", \"Ceros\"));"
     ],
     "language": "python",
     "metadata": {},
     "outputs": [
      {
       "metadata": {},
       "output_type": "display_data",
       "png": "[encoded data removed]",
       "text": [
        "<matplotlib.figure.Figure at 0x10a5df850>"
       ]
      }
     ],
     "prompt_number": 108
    },
    {
     "cell_type": "heading",
     "level": 4,
     "metadata": {},
     "source": [
      "Determine una ganancia $k$, para que los polos dominantes tengan un coeficiente de amortiguamiento de $0.5$ \u00bfCu\u00e1l ser\u00e1 el porcentaje de sobrepaso $M_p$? \u00bfDonde se localizan los polos dominantes? \u00bfCu\u00e1les son los valores de sus frecuencias naturales no amortiguada, $\\omega_n$, y amortiguada $\\omega_d$?"
     ]
    },
    {
     "cell_type": "markdown",
     "metadata": {},
     "source": [
      "Si tomamos en cuenta el coeficiente de amortiguamiento de $\\zeta = 0.5$, tenemos que el angulo $\\phi$ debe de ser:"
     ]
    },
    {
     "cell_type": "code",
     "collapsed": false,
     "input": [
      "from math import acos, degrees"
     ],
     "language": "python",
     "metadata": {},
     "outputs": [],
     "prompt_number": 38
    },
    {
     "cell_type": "code",
     "collapsed": false,
     "input": [
      "phi = acos(0.5)\n",
      "degrees(phi)"
     ],
     "language": "python",
     "metadata": {},
     "outputs": [
      {
       "latex": [
        "$$60.0$$"
       ],
       "metadata": {},
       "output_type": "pyout",
       "png": "[encoded data removed]",
       "prompt_number": 39,
       "text": [
        "60.0"
       ]
      }
     ],
     "prompt_number": 39
    },
    {
     "cell_type": "markdown",
     "metadata": {},
     "source": [
      "Es decir que el angulo al que encontraremos una $k$ para la cual el coeficiente de amortiguamiento $\\zeta$ sera de $0.5$ es de $60\u00ba$"
     ]
    },
    {
     "cell_type": "code",
     "collapsed": false,
     "input": [
      "f = figure(figsize = (11, 5))\n",
      "rlocus(Gc*G)\n",
      "p2, = plot([-1, 0], [sqrt(3), 0])\n",
      "ax = f.gca()\n",
      "ax.set_xlim([-5.5, 2.5])\n",
      "ax.set_ylim([-1, 1])\n",
      "legend((\"Polos\", \"Ceros\", \"RL\", \"RL\", \"RL\", r\"$\\zeta = 0.5$\"));"
     ],
     "language": "python",
     "metadata": {},
     "outputs": [
      {
       "metadata": {},
       "output_type": "display_data",
       "png": "[encoded data removed]",
       "text": [
        "<matplotlib.figure.Figure at 0x10812fbd0>"
       ]
      }
     ],
     "prompt_number": 116
    },
    {
     "cell_type": "markdown",
     "metadata": {},
     "source": [
      "Si nos acercamos a la zona en que el lugar de las raices cruza con el amortiguamiento $\\zeta = 0.5$, tendr\u00e9mos:"
     ]
    },
    {
     "cell_type": "code",
     "collapsed": false,
     "input": [
      "f = figure(figsize = (10, 10))\n",
      "rlocus(Gc*G)\n",
      "p2, = plot([-1, 0], [sqrt(3), 0])\n",
      "ax = f.gca()\n",
      "ax.set_xlim([-1, 0.1])\n",
      "ax.set_ylim([-0.1, 1])\n",
      "xticks(arange(-1, 0.1, 0.1))\n",
      "yticks(arange(-0.1, 1, 0.05));"
     ],
     "language": "python",
     "metadata": {},
     "outputs": [
      {
       "metadata": {},
       "output_type": "display_data",
       "png": "[encoded data removed]",
       "text": [
        "<matplotlib.figure.Figure at 0x10a324e90>"
       ]
      }
     ],
     "prompt_number": 74
    },
    {
     "cell_type": "markdown",
     "metadata": {},
     "source": [
      "Aqui podemos ver claramente que la intersecci\u00f3n es aproximadamente en $(-0.2, 0.35) = -0.2 + 0.35j$, por lo que vamos a querer colocar un polo en este punto y su conjugado.\n",
      "\n",
      "De esta manera, podemos obtener la frecuencia no amortiguada con la magnitud de este numero complejo y la frecuencia amortiguada con la componente imaginaria del mismo"
     ]
    },
    {
     "cell_type": "code",
     "collapsed": false,
     "input": [
      "polo = -0.2 + 0.35j\n",
      "wd = polo.imag\n",
      "wn = abs(polo)\n",
      "print \"La frecuencia no amortiguada es \" + str(wd) + \" y la amortiguada es \" + str(wn) + \".\""
     ],
     "language": "python",
     "metadata": {},
     "outputs": [
      {
       "output_type": "stream",
       "stream": "stdout",
       "text": [
        "La frecuencia no amortiguada es 0.35 y la amortiguada es 0.403112887415.\n"
       ]
      }
     ],
     "prompt_number": 78
    },
    {
     "cell_type": "markdown",
     "metadata": {},
     "source": [
      "Para obtener $k$, tenemos la condici\u00f3n de magnitud del sistema, la cual nos dice:\n",
      "\n",
      "$$\n",
      "\\left| G_C(s) G(s) \\right| = 1$$\n",
      "\n",
      "por lo que tendremos que:\n",
      "\n",
      "$$\n",
      "k (s-2) (s-1) + s (s+2) (s+1) = 1 \\implies k = \\frac{s(s+2)(s+1)}{(s-2)(s-1)}\n",
      "$$"
     ]
    },
    {
     "cell_type": "code",
     "collapsed": false,
     "input": [
      "F = lambda s: (s*(s+2)*(s+1))/((s-2)*(s-1))\n",
      "F(-0.2 + 0.35j)"
     ],
     "language": "python",
     "metadata": {},
     "outputs": [
      {
       "metadata": {},
       "output_type": "pyout",
       "prompt_number": 85,
       "text": [
        "(-0.23179848866498745+0.0013047858942065596j)"
       ]
      }
     ],
     "prompt_number": 85
    },
    {
     "cell_type": "markdown",
     "metadata": {},
     "source": [
      "Lo cual, teniendo en cuenta redondeo, dejaremos en $-0.23$."
     ]
    },
    {
     "cell_type": "code",
     "collapsed": false,
     "input": [
      "K = tf([-0.23], [1])"
     ],
     "language": "python",
     "metadata": {},
     "outputs": [],
     "prompt_number": 126
    },
    {
     "cell_type": "markdown",
     "metadata": {},
     "source": [
      "Para obtener el sobrepaso maximo podemos simular la salida para una entrada tipo escalon unitario, y el sobrepaso maximo porcentual estar\u00e1 dado por:\n",
      "\n",
      "$$\n",
      "M_p = \\frac{G(t_p) - G(\\infty)}{G(\\infty)}\n",
      "$$"
     ]
    },
    {
     "cell_type": "code",
     "collapsed": false,
     "input": [
      "from control import step_response"
     ],
     "language": "python",
     "metadata": {},
     "outputs": [],
     "prompt_number": 127
    },
    {
     "cell_type": "code",
     "collapsed": false,
     "input": [
      "t, y = step_response((K*Gc*G).feedback(tf([1], [1])))"
     ],
     "language": "python",
     "metadata": {},
     "outputs": [],
     "prompt_number": 128
    },
    {
     "cell_type": "code",
     "collapsed": false,
     "input": [
      "y.max()"
     ],
     "language": "python",
     "metadata": {},
     "outputs": [
      {
       "latex": [
        "$$0.0711524783131$$"
       ],
       "metadata": {},
       "output_type": "pyout",
       "png": "[encoded data removed]",
       "prompt_number": 129,
       "text": [
        "0.0711524783131"
       ]
      }
     ],
     "prompt_number": 129
    },
    {
     "cell_type": "code",
     "collapsed": false,
     "input": [
      "y[-1]"
     ],
     "language": "python",
     "metadata": {},
     "outputs": [
      {
       "latex": [
        "$$-755.482786141$$"
       ],
       "metadata": {},
       "output_type": "pyout",
       "png": "[encoded data removed]",
       "prompt_number": 130,
       "text": [
        "-755.482786141"
       ]
      }
     ],
     "prompt_number": 130
    },
    {
     "cell_type": "code",
     "collapsed": false,
     "input": [
      "plot(t, y)"
     ],
     "language": "python",
     "metadata": {},
     "outputs": [
      {
       "metadata": {},
       "output_type": "pyout",
       "prompt_number": 131,
       "text": [
        "[<matplotlib.lines.Line2D at 0x10a5d5050>]"
       ]
      },
      {
       "metadata": {},
       "output_type": "display_data",
       "png": "[encoded data removed]",
       "text": [
        "<matplotlib.figure.Figure at 0x10a212110>"
       ]
      }
     ],
     "prompt_number": 131
    },
    {
     "cell_type": "code",
     "collapsed": false,
     "input": [],
     "language": "python",
     "metadata": {},
     "outputs": []
    }
   ],
   "metadata": {}
  }
 ]
}