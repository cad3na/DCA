{
 "metadata": {
  "name": "",
  "signature": "sha256:728084ed00d03b24a042e9e870266741d235b2351ee415f6efe2c8d77836c47d"
 },
 "nbformat": 3,
 "nbformat_minor": 0,
 "worksheets": [
  {
   "cells": [
    {
     "cell_type": "code",
     "collapsed": false,
     "input": [
      "%matplotlib inline\n",
      "from sympy import var, Matrix, eye, init_printing, roots\n",
      "init_printing()"
     ],
     "language": "python",
     "metadata": {},
     "outputs": [],
     "prompt_number": 96
    },
    {
     "cell_type": "code",
     "collapsed": false,
     "input": [
      "var(\"a:5\")\n",
      "var(\"b:5\")\n",
      "var(\"s\");"
     ],
     "language": "python",
     "metadata": {},
     "outputs": [],
     "prompt_number": 3
    },
    {
     "cell_type": "heading",
     "level": 1,
     "metadata": {},
     "source": [
      "Formas can\u00f3nicas observador y observabilidad"
     ]
    },
    {
     "cell_type": "markdown",
     "metadata": {},
     "source": [
      "Tenemos un sistema de orden $4$ con una representaci\u00f3n de estado:"
     ]
    },
    {
     "cell_type": "code",
     "collapsed": false,
     "input": [
      "Ao = Matrix([[0, 0, 0, -a4], [1, 0, 0, -a3], [0, 1, 0, -a2], [0, 0, 1, -a1]])\n",
      "bo = Matrix([[b4], [b3], [b2], [b1]])\n",
      "co = Matrix([[0], [0], [0], [1]])"
     ],
     "language": "python",
     "metadata": {},
     "outputs": [],
     "prompt_number": 4
    },
    {
     "cell_type": "code",
     "collapsed": false,
     "input": [
      "Ao"
     ],
     "language": "python",
     "metadata": {},
     "outputs": [
      {
       "latex": [
        "$$\\left[\\begin{matrix}0 & 0 & 0 & - a_{4}\\\\1 & 0 & 0 & - a_{3}\\\\0 & 1 & 0 & - a_{2}\\\\0 & 0 & 1 & - a_{1}\\end{matrix}\\right]$$"
       ],
       "metadata": {},
       "output_type": "pyout",
       "png": "[encoded data removed]",
       "prompt_number": 5,
       "text": [
        "\u23a10  0  0  -a\u2084\u23a4\n",
        "\u23a2            \u23a5\n",
        "\u23a21  0  0  -a\u2083\u23a5\n",
        "\u23a2            \u23a5\n",
        "\u23a20  1  0  -a\u2082\u23a5\n",
        "\u23a2            \u23a5\n",
        "\u23a30  0  1  -a\u2081\u23a6"
       ]
      }
     ],
     "prompt_number": 5
    },
    {
     "cell_type": "code",
     "collapsed": false,
     "input": [
      "bo"
     ],
     "language": "python",
     "metadata": {},
     "outputs": [
      {
       "latex": [
        "$$\\left[\\begin{matrix}b_{4}\\\\b_{3}\\\\b_{2}\\\\b_{1}\\end{matrix}\\right]$$"
       ],
       "metadata": {},
       "output_type": "pyout",
       "png": "[encoded data removed]",
       "prompt_number": 6,
       "text": [
        "\u23a1b\u2084\u23a4\n",
        "\u23a2  \u23a5\n",
        "\u23a2b\u2083\u23a5\n",
        "\u23a2  \u23a5\n",
        "\u23a2b\u2082\u23a5\n",
        "\u23a2  \u23a5\n",
        "\u23a3b\u2081\u23a6"
       ]
      }
     ],
     "prompt_number": 6
    },
    {
     "cell_type": "code",
     "collapsed": false,
     "input": [
      "co"
     ],
     "language": "python",
     "metadata": {},
     "outputs": [
      {
       "latex": [
        "$$\\left[\\begin{matrix}0\\\\0\\\\0\\\\1\\end{matrix}\\right]$$"
       ],
       "metadata": {},
       "output_type": "pyout",
       "png": "[encoded data removed]",
       "prompt_number": 7,
       "text": [
        "\u23a10\u23a4\n",
        "\u23a2 \u23a5\n",
        "\u23a20\u23a5\n",
        "\u23a2 \u23a5\n",
        "\u23a20\u23a5\n",
        "\u23a2 \u23a5\n",
        "\u23a31\u23a6"
       ]
      }
     ],
     "prompt_number": 7
    },
    {
     "cell_type": "markdown",
     "metadata": {},
     "source": [
      "La cual ya esta en la forma can\u00f3nica observador, podemos obtener su polinomio caracteristico:"
     ]
    },
    {
     "cell_type": "code",
     "collapsed": false,
     "input": [
      "PCo = (s*eye(4) - Ao).det()\n",
      "PCo"
     ],
     "language": "python",
     "metadata": {},
     "outputs": [
      {
       "latex": [
        "$$a_{1} s^{3} + a_{2} s^{2} + a_{3} s + a_{4} + s^{4}$$"
       ],
       "metadata": {},
       "output_type": "pyout",
       "png": "[encoded data removed]",
       "prompt_number": 8,
       "text": [
        "    3       2                4\n",
        "a\u2081\u22c5s  + a\u2082\u22c5s  + a\u2083\u22c5s + a\u2084 + s "
       ]
      }
     ],
     "prompt_number": 8
    },
    {
     "cell_type": "markdown",
     "metadata": {},
     "source": [
      "La matriz sistema es la siguiente:"
     ]
    },
    {
     "cell_type": "code",
     "collapsed": false,
     "input": [
      "MSo = (s*eye(4) - Ao).row_join(bo).col_join(-co.T.row_join(Matrix([0])))\n",
      "MSo"
     ],
     "language": "python",
     "metadata": {},
     "outputs": [
      {
       "latex": [
        "$$\\left[\\begin{matrix}s & 0 & 0 & a_{4} & b_{4}\\\\-1 & s & 0 & a_{3} & b_{3}\\\\0 & -1 & s & a_{2} & b_{2}\\\\0 & 0 & -1 & a_{1} + s & b_{1}\\\\0 & 0 & 0 & -1 & 0\\end{matrix}\\right]$$"
       ],
       "metadata": {},
       "output_type": "pyout",
       "png": "[encoded data removed]",
       "prompt_number": 9,
       "text": [
        "\u23a1s   0   0     a\u2084    b\u2084\u23a4\n",
        "\u23a2                      \u23a5\n",
        "\u23a2-1  s   0     a\u2083    b\u2083\u23a5\n",
        "\u23a2                      \u23a5\n",
        "\u23a20   -1  s     a\u2082    b\u2082\u23a5\n",
        "\u23a2                      \u23a5\n",
        "\u23a20   0   -1  a\u2081 + s  b\u2081\u23a5\n",
        "\u23a2                      \u23a5\n",
        "\u23a30   0   0     -1    0 \u23a6"
       ]
      }
     ],
     "prompt_number": 9
    },
    {
     "cell_type": "markdown",
     "metadata": {},
     "source": [
      "y su polinomio es:"
     ]
    },
    {
     "cell_type": "code",
     "collapsed": false,
     "input": [
      "pMSo = MSo.det()\n",
      "pMSo"
     ],
     "language": "python",
     "metadata": {},
     "outputs": [
      {
       "latex": [
        "$$b_{1} s^{3} + b_{2} s^{2} + b_{3} s + b_{4}$$"
       ],
       "metadata": {},
       "output_type": "pyout",
       "png": "[encoded data removed]",
       "prompt_number": 10,
       "text": [
        "    3       2            \n",
        "b\u2081\u22c5s  + b\u2082\u22c5s  + b\u2083\u22c5s + b\u2084"
       ]
      }
     ],
     "prompt_number": 10
    },
    {
     "cell_type": "markdown",
     "metadata": {},
     "source": [
      "tiene una matriz de observabilidad:"
     ]
    },
    {
     "cell_type": "code",
     "collapsed": false,
     "input": [
      "MOo = ((co.T.col_join(co.T*Ao)).col_join(co.T*Ao*Ao)).col_join(co.T*Ao*Ao*Ao)\n",
      "MOo"
     ],
     "language": "python",
     "metadata": {},
     "outputs": [
      {
       "latex": [
        "$$\\left[\\begin{matrix}0 & 0 & 0 & 1\\\\0 & 0 & 1 & - a_{1}\\\\0 & 1 & - a_{1} & a_{1}^{2} - a_{2}\\\\1 & - a_{1} & a_{1}^{2} - a_{2} & a_{1} a_{2} - a_{1} \\left(a_{1}^{2} - a_{2}\\right) - a_{3}\\end{matrix}\\right]$$"
       ],
       "metadata": {},
       "output_type": "pyout",
       "png": "[encoded data removed]",
       "prompt_number": 11,
       "text": [
        "\u23a10   0      0                  1             \u23a4\n",
        "\u23a2                                            \u23a5\n",
        "\u23a20   0      1                 -a\u2081            \u23a5\n",
        "\u23a2                                            \u23a5\n",
        "\u23a2                             2              \u23a5\n",
        "\u23a20   1     -a\u2081              a\u2081  - a\u2082         \u23a5\n",
        "\u23a2                                            \u23a5\n",
        "\u23a2          2                  \u239b  2     \u239e     \u23a5\n",
        "\u23a31  -a\u2081  a\u2081  - a\u2082  a\u2081\u22c5a\u2082 - a\u2081\u22c5\u239da\u2081  - a\u2082\u23a0 - a\u2083\u23a6"
       ]
      }
     ],
     "prompt_number": 11
    },
    {
     "cell_type": "code",
     "collapsed": false,
     "input": [
      "MOo.det()"
     ],
     "language": "python",
     "metadata": {},
     "outputs": [
      {
       "latex": [
        "$$1$$"
       ],
       "metadata": {},
       "output_type": "pyout",
       "png": "[encoded data removed]",
       "prompt_number": 12,
       "text": [
        "1"
       ]
      }
     ],
     "prompt_number": 12
    },
    {
     "cell_type": "markdown",
     "metadata": {},
     "source": [
      "Dado este sistema, podemos transformarlo a su forma observabilidad:"
     ]
    },
    {
     "cell_type": "code",
     "collapsed": false,
     "input": [
      "Aob = Matrix([[-a1, -a2, -a3, -a4], [1, 0, 0, 0], [0, 1, 0, 0], [0, 0, 1, 0]])\n",
      "beta = Matrix([[1, 0, 0, 0], [a1, 1, 0, 0], [a2, a1, 1, 0], [a3, a2, a1, 1]]).inv()*Matrix([[b1], [b2], [b3], [b4]])\n",
      "bob = Matrix([[beta[3]], [beta[2]], [beta[1]], [beta[0]]])\n",
      "cob = co"
     ],
     "language": "python",
     "metadata": {},
     "outputs": [],
     "prompt_number": 13
    },
    {
     "cell_type": "code",
     "collapsed": false,
     "input": [
      "Aob"
     ],
     "language": "python",
     "metadata": {},
     "outputs": [
      {
       "latex": [
        "$$\\left[\\begin{matrix}- a_{1} & - a_{2} & - a_{3} & - a_{4}\\\\1 & 0 & 0 & 0\\\\0 & 1 & 0 & 0\\\\0 & 0 & 1 & 0\\end{matrix}\\right]$$"
       ],
       "metadata": {},
       "output_type": "pyout",
       "png": "[encoded data removed]",
       "prompt_number": 14,
       "text": [
        "\u23a1-a\u2081  -a\u2082  -a\u2083  -a\u2084\u23a4\n",
        "\u23a2                  \u23a5\n",
        "\u23a2 1    0    0    0 \u23a5\n",
        "\u23a2                  \u23a5\n",
        "\u23a2 0    1    0    0 \u23a5\n",
        "\u23a2                  \u23a5\n",
        "\u23a3 0    0    1    0 \u23a6"
       ]
      }
     ],
     "prompt_number": 14
    },
    {
     "cell_type": "code",
     "collapsed": false,
     "input": [
      "bob"
     ],
     "language": "python",
     "metadata": {},
     "outputs": [
      {
       "latex": [
        "$$\\left[\\begin{matrix}- a_{1} b_{3} + b_{1} \\left(a_{1} a_{2} - a_{1} \\left(a_{1}^{2} - a_{2}\\right) - a_{3}\\right) + b_{2} \\left(a_{1}^{2} - a_{2}\\right) + b_{4}\\\\- a_{1} b_{2} + b_{1} \\left(a_{1}^{2} - a_{2}\\right) + b_{3}\\\\- a_{1} b_{1} + b_{2}\\\\b_{1}\\end{matrix}\\right]$$"
       ],
       "metadata": {},
       "output_type": "pyout",
       "png": "[encoded data removed]",
       "prompt_number": 15,
       "text": [
        "\u23a1            \u239b           \u239b  2     \u239e     \u239e      \u239b  2     \u239e     \u23a4\n",
        "\u23a2-a\u2081\u22c5b\u2083 + b\u2081\u22c5\u239da\u2081\u22c5a\u2082 - a\u2081\u22c5\u239da\u2081  - a\u2082\u23a0 - a\u2083\u23a0 + b\u2082\u22c5\u239da\u2081  - a\u2082\u23a0 + b\u2084\u23a5\n",
        "\u23a2                                                             \u23a5\n",
        "\u23a2                             \u239b  2     \u239e                      \u23a5\n",
        "\u23a2                 -a\u2081\u22c5b\u2082 + b\u2081\u22c5\u239da\u2081  - a\u2082\u23a0 + b\u2083                 \u23a5\n",
        "\u23a2                                                             \u23a5\n",
        "\u23a2                         -a\u2081\u22c5b\u2081 + b\u2082                         \u23a5\n",
        "\u23a2                                                             \u23a5\n",
        "\u23a3                             b\u2081                              \u23a6"
       ]
      }
     ],
     "prompt_number": 15
    },
    {
     "cell_type": "code",
     "collapsed": false,
     "input": [
      "cob"
     ],
     "language": "python",
     "metadata": {},
     "outputs": [
      {
       "latex": [
        "$$\\left[\\begin{matrix}0\\\\0\\\\0\\\\1\\end{matrix}\\right]$$"
       ],
       "metadata": {},
       "output_type": "pyout",
       "png": "[encoded data removed]",
       "prompt_number": 16,
       "text": [
        "\u23a10\u23a4\n",
        "\u23a2 \u23a5\n",
        "\u23a20\u23a5\n",
        "\u23a2 \u23a5\n",
        "\u23a20\u23a5\n",
        "\u23a2 \u23a5\n",
        "\u23a31\u23a6"
       ]
      }
     ],
     "prompt_number": 16
    },
    {
     "cell_type": "markdown",
     "metadata": {},
     "source": [
      "La cual, tiene un polinomio caracteristico:"
     ]
    },
    {
     "cell_type": "code",
     "collapsed": false,
     "input": [
      "PCob = (s*eye(4) - Aob).det()\n",
      "PCob"
     ],
     "language": "python",
     "metadata": {},
     "outputs": [
      {
       "latex": [
        "$$a_{1} s^{3} + a_{2} s^{2} + a_{3} s + a_{4} + s^{4}$$"
       ],
       "metadata": {},
       "output_type": "pyout",
       "png": "[encoded data removed]",
       "prompt_number": 17,
       "text": [
        "    3       2                4\n",
        "a\u2081\u22c5s  + a\u2082\u22c5s  + a\u2083\u22c5s + a\u2084 + s "
       ]
      }
     ],
     "prompt_number": 17
    },
    {
     "cell_type": "markdown",
     "metadata": {},
     "source": [
      "y una matriz sistema:"
     ]
    },
    {
     "cell_type": "code",
     "collapsed": false,
     "input": [
      "MSob = (s*eye(4) - Aob).row_join(bob).col_join(-co.T.row_join(Matrix([0])))\n",
      "MSob"
     ],
     "language": "python",
     "metadata": {},
     "outputs": [
      {
       "latex": [
        "$$\\left[\\begin{matrix}a_{1} + s & a_{2} & a_{3} & a_{4} & - a_{1} b_{3} + b_{1} \\left(a_{1} a_{2} - a_{1} \\left(a_{1}^{2} - a_{2}\\right) - a_{3}\\right) + b_{2} \\left(a_{1}^{2} - a_{2}\\right) + b_{4}\\\\-1 & s & 0 & 0 & - a_{1} b_{2} + b_{1} \\left(a_{1}^{2} - a_{2}\\right) + b_{3}\\\\0 & -1 & s & 0 & - a_{1} b_{1} + b_{2}\\\\0 & 0 & -1 & s & b_{1}\\\\0 & 0 & 0 & -1 & 0\\end{matrix}\\right]$$"
       ],
       "metadata": {},
       "output_type": "pyout",
       "png": "[encoded data removed]",
       "prompt_number": 18,
       "text": [
        "\u23a1                                \u239b           \u239b  2     \u239e     \u239e      \u239b  2     \u239e \n",
        "\u23a2a\u2081 + s  a\u2082  a\u2083  a\u2084  -a\u2081\u22c5b\u2083 + b\u2081\u22c5\u239da\u2081\u22c5a\u2082 - a\u2081\u22c5\u239da\u2081  - a\u2082\u23a0 - a\u2083\u23a0 + b\u2082\u22c5\u239da\u2081  - a\u2082\u23a0 \n",
        "\u23a2                                                                             \n",
        "\u23a2                                                 \u239b  2     \u239e                  \n",
        "\u23a2  -1    s   0   0                    -a\u2081\u22c5b\u2082 + b\u2081\u22c5\u239da\u2081  - a\u2082\u23a0 + b\u2083             \n",
        "\u23a2                                                                             \n",
        "\u23a2  0     -1  s   0                            -a\u2081\u22c5b\u2081 + b\u2082                     \n",
        "\u23a2                                                                             \n",
        "\u23a2  0     0   -1  s                                b\u2081                          \n",
        "\u23a2                                                                             \n",
        "\u23a3  0     0   0   -1                                0                          \n",
        "\n",
        "    \u23a4\n",
        "+ b\u2084\u23a5\n",
        "    \u23a5\n",
        "    \u23a5\n",
        "    \u23a5\n",
        "    \u23a5\n",
        "    \u23a5\n",
        "    \u23a5\n",
        "    \u23a5\n",
        "    \u23a5\n",
        "    \u23a6"
       ]
      }
     ],
     "prompt_number": 18
    },
    {
     "cell_type": "markdown",
     "metadata": {},
     "source": [
      "con una matriz de observabilidad:"
     ]
    },
    {
     "cell_type": "code",
     "collapsed": false,
     "input": [
      "MOob = ((cob.T.col_join(cob.T*Aob)).col_join(cob.T*Aob*Aob)).col_join(cob.T*Aob*Aob*Aob)\n",
      "MOob"
     ],
     "language": "python",
     "metadata": {},
     "outputs": [
      {
       "latex": [
        "$$\\left[\\begin{matrix}0 & 0 & 0 & 1\\\\0 & 0 & 1 & 0\\\\0 & 1 & 0 & 0\\\\1 & 0 & 0 & 0\\end{matrix}\\right]$$"
       ],
       "metadata": {},
       "output_type": "pyout",
       "png": "[encoded data removed]",
       "prompt_number": 19,
       "text": [
        "\u23a10  0  0  1\u23a4\n",
        "\u23a2          \u23a5\n",
        "\u23a20  0  1  0\u23a5\n",
        "\u23a2          \u23a5\n",
        "\u23a20  1  0  0\u23a5\n",
        "\u23a2          \u23a5\n",
        "\u23a31  0  0  0\u23a6"
       ]
      }
     ],
     "prompt_number": 19
    },
    {
     "cell_type": "code",
     "collapsed": false,
     "input": [
      "MOob.det()"
     ],
     "language": "python",
     "metadata": {},
     "outputs": [
      {
       "latex": [
        "$$1$$"
       ],
       "metadata": {},
       "output_type": "pyout",
       "png": "[encoded data removed]",
       "prompt_number": 20,
       "text": [
        "1"
       ]
      }
     ],
     "prompt_number": 20
    },
    {
     "cell_type": "heading",
     "level": 2,
     "metadata": {},
     "source": [
      "Ejemplo"
     ]
    },
    {
     "cell_type": "markdown",
     "metadata": {},
     "source": [
      "Tenemos el siguiente sistema:"
     ]
    },
    {
     "cell_type": "code",
     "collapsed": false,
     "input": [
      "from numpy import matrix"
     ],
     "language": "python",
     "metadata": {},
     "outputs": [],
     "prompt_number": 21
    },
    {
     "cell_type": "code",
     "collapsed": false,
     "input": [
      "A = Matrix([[0, 1, 0], [0, 0 , 1], [0, 0, 0]])\n",
      "b = Matrix([[0], [0], [1]])\n",
      "c = Matrix([[-1], [0], [1]])\n",
      "x0 = Matrix ([[1], [0], [0]])"
     ],
     "language": "python",
     "metadata": {},
     "outputs": [],
     "prompt_number": 27
    },
    {
     "cell_type": "markdown",
     "metadata": {},
     "source": [
      "Su polinomio caracteristico es:"
     ]
    },
    {
     "cell_type": "code",
     "collapsed": false,
     "input": [
      "PC = (s*eye(3) - A).det()\n",
      "PC"
     ],
     "language": "python",
     "metadata": {},
     "outputs": [
      {
       "latex": [
        "$$s^{3}$$"
       ],
       "metadata": {},
       "output_type": "pyout",
       "png": "[encoded data removed]",
       "prompt_number": 28,
       "text": [
        " 3\n",
        "s "
       ]
      }
     ],
     "prompt_number": 28
    },
    {
     "cell_type": "markdown",
     "metadata": {},
     "source": [
      "Su matriz sistema es:"
     ]
    },
    {
     "cell_type": "code",
     "collapsed": false,
     "input": [
      "MS =(s*eye(3) - A).row_join(b).col_join(-c.T.row_join(Matrix([0])))\n",
      "MS"
     ],
     "language": "python",
     "metadata": {},
     "outputs": [
      {
       "latex": [
        "$$\\left[\\begin{matrix}s & -1 & 0 & 0\\\\0 & s & -1 & 0\\\\0 & 0 & s & 1\\\\1 & 0 & -1 & 0\\end{matrix}\\right]$$"
       ],
       "metadata": {},
       "output_type": "pyout",
       "png": "[encoded data removed]",
       "prompt_number": 29,
       "text": [
        "\u23a1s  -1  0   0\u23a4\n",
        "\u23a2            \u23a5\n",
        "\u23a20  s   -1  0\u23a5\n",
        "\u23a2            \u23a5\n",
        "\u23a20  0   s   1\u23a5\n",
        "\u23a2            \u23a5\n",
        "\u23a31  0   -1  0\u23a6"
       ]
      }
     ],
     "prompt_number": 29
    },
    {
     "cell_type": "markdown",
     "metadata": {},
     "source": [
      "y su polinomio es:"
     ]
    },
    {
     "cell_type": "code",
     "collapsed": false,
     "input": [
      "pMS =  MS.det()\n",
      "pMS.factor()"
     ],
     "language": "python",
     "metadata": {},
     "outputs": [
      {
       "latex": [
        "$$\\left(s - 1\\right) \\left(s + 1\\right)$$"
       ],
       "metadata": {},
       "output_type": "pyout",
       "png": "[encoded data removed]",
       "prompt_number": 32,
       "text": [
        "(s - 1)\u22c5(s + 1)"
       ]
      }
     ],
     "prompt_number": 32
    },
    {
     "cell_type": "markdown",
     "metadata": {},
     "source": [
      "su matriz de controlabilidad es:"
     ]
    },
    {
     "cell_type": "code",
     "collapsed": false,
     "input": [
      "MC = (b.row_join(A*b)).row_join(A*A*b)\n",
      "MC"
     ],
     "language": "python",
     "metadata": {},
     "outputs": [
      {
       "latex": [
        "$$\\left[\\begin{matrix}0 & 0 & 1\\\\0 & 1 & 0\\\\1 & 0 & 0\\end{matrix}\\right]$$"
       ],
       "metadata": {},
       "output_type": "pyout",
       "png": "[encoded data removed]",
       "prompt_number": 34,
       "text": [
        "\u23a10  0  1\u23a4\n",
        "\u23a2       \u23a5\n",
        "\u23a20  1  0\u23a5\n",
        "\u23a2       \u23a5\n",
        "\u23a31  0  0\u23a6"
       ]
      }
     ],
     "prompt_number": 34
    },
    {
     "cell_type": "markdown",
     "metadata": {},
     "source": [
      "y su determinanate:"
     ]
    },
    {
     "cell_type": "code",
     "collapsed": false,
     "input": [
      "MC.det()"
     ],
     "language": "python",
     "metadata": {},
     "outputs": [
      {
       "latex": [
        "$$-1$$"
       ],
       "metadata": {},
       "output_type": "pyout",
       "png": "[encoded data removed]",
       "prompt_number": 35,
       "text": [
        "-1"
       ]
      }
     ],
     "prompt_number": 35
    },
    {
     "cell_type": "markdown",
     "metadata": {},
     "source": [
      "lo que quiere decir, que este sistema es controlable.\n",
      "\n",
      "Ahora calculamos su matriz de observabilidad."
     ]
    },
    {
     "cell_type": "code",
     "collapsed": false,
     "input": [
      "MO = (c.T.col_join(c.T*A)).col_join(c.T*A*A)\n",
      "MO"
     ],
     "language": "python",
     "metadata": {},
     "outputs": [
      {
       "latex": [
        "$$\\left[\\begin{matrix}-1 & 0 & 1\\\\0 & -1 & 0\\\\0 & 0 & -1\\end{matrix}\\right]$$"
       ],
       "metadata": {},
       "output_type": "pyout",
       "png": "[encoded data removed]",
       "prompt_number": 36,
       "text": [
        "\u23a1-1  0   1 \u23a4\n",
        "\u23a2          \u23a5\n",
        "\u23a20   -1  0 \u23a5\n",
        "\u23a2          \u23a5\n",
        "\u23a30   0   -1\u23a6"
       ]
      }
     ],
     "prompt_number": 36
    },
    {
     "cell_type": "markdown",
     "metadata": {},
     "source": [
      "y su determinante:"
     ]
    },
    {
     "cell_type": "code",
     "collapsed": false,
     "input": [
      "MO.det()"
     ],
     "language": "python",
     "metadata": {},
     "outputs": [
      {
       "latex": [
        "$$-1$$"
       ],
       "metadata": {},
       "output_type": "pyout",
       "png": "[encoded data removed]",
       "prompt_number": 37,
       "text": [
        "-1"
       ]
      }
     ],
     "prompt_number": 37
    },
    {
     "cell_type": "markdown",
     "metadata": {},
     "source": [
      "lo cual quiere decir que  es observable.\n",
      "\n",
      "Sabemos que tenemos 3 polos en el origen, pero queremos que esten en $-1$, podemos calcular los coeficientes necesarios:"
     ]
    },
    {
     "cell_type": "code",
     "collapsed": false,
     "input": [
      "((s+1)**3).expand()"
     ],
     "language": "python",
     "metadata": {},
     "outputs": [
      {
       "latex": [
        "$$s^{3} + 3 s^{2} + 3 s + 1$$"
       ],
       "metadata": {},
       "output_type": "pyout",
       "png": "[encoded data removed]",
       "prompt_number": 40,
       "text": [
        " 3      2          \n",
        "s  + 3\u22c5s  + 3\u22c5s + 1"
       ]
      }
     ],
     "prompt_number": 40
    },
    {
     "cell_type": "markdown",
     "metadata": {},
     "source": [
      "lo cual nos implica la siguiente retroalimentaci\u00f3n de estado:"
     ]
    },
    {
     "cell_type": "code",
     "collapsed": false,
     "input": [
      "f = Matrix([[-1], [-3], [-3]])"
     ],
     "language": "python",
     "metadata": {},
     "outputs": [],
     "prompt_number": 41
    },
    {
     "cell_type": "markdown",
     "metadata": {},
     "source": [
      "y el siguiente sistema retroalimentado:"
     ]
    },
    {
     "cell_type": "code",
     "collapsed": false,
     "input": [
      "Af = A + b*f.T\n",
      "Af"
     ],
     "language": "python",
     "metadata": {},
     "outputs": [
      {
       "latex": [
        "$$\\left[\\begin{matrix}0 & 1 & 0\\\\0 & 0 & 1\\\\-1 & -3 & -3\\end{matrix}\\right]$$"
       ],
       "metadata": {},
       "output_type": "pyout",
       "png": "[encoded data removed]",
       "prompt_number": 43,
       "text": [
        "\u23a10   1   0 \u23a4\n",
        "\u23a2          \u23a5\n",
        "\u23a20   0   1 \u23a5\n",
        "\u23a2          \u23a5\n",
        "\u23a3-1  -3  -3\u23a6"
       ]
      }
     ],
     "prompt_number": 43
    },
    {
     "cell_type": "code",
     "collapsed": false,
     "input": [
      "A.col_join(c.T)"
     ],
     "language": "python",
     "metadata": {},
     "outputs": [
      {
       "latex": [
        "$$\\left[\\begin{matrix}0 & 1 & 0\\\\0 & 0 & 1\\\\0 & 0 & 0\\\\-1 & 0 & 1\\end{matrix}\\right]$$"
       ],
       "metadata": {},
       "output_type": "pyout",
       "png": "[encoded data removed]",
       "prompt_number": 44,
       "text": [
        "\u23a10   1  0\u23a4\n",
        "\u23a2        \u23a5\n",
        "\u23a20   0  1\u23a5\n",
        "\u23a2        \u23a5\n",
        "\u23a20   0  0\u23a5\n",
        "\u23a2        \u23a5\n",
        "\u23a3-1  0  1\u23a6"
       ]
      }
     ],
     "prompt_number": 44
    },
    {
     "cell_type": "markdown",
     "metadata": {},
     "source": [
      "pero para calcular la inyecci\u00f3n de salida, deseamos hacerlo bajo la forma can\u00f3nica observador, por lo que primero la describimos y despues calculamos el cambio de base necesario:"
     ]
    },
    {
     "cell_type": "code",
     "collapsed": false,
     "input": [
      "Ao = Matrix([[0, 0, 0], [1, 0, 0], [0, 1, 0]])\n",
      "bo = Matrix([[-1], [0], [1]])\n",
      "co = Matrix([[0], [0], [1]])"
     ],
     "language": "python",
     "metadata": {},
     "outputs": [],
     "prompt_number": 45
    },
    {
     "cell_type": "markdown",
     "metadata": {},
     "source": [
      "cuya funci\u00f3n de transferencia ser\u00e1:"
     ]
    },
    {
     "cell_type": "code",
     "collapsed": false,
     "input": [
      "(co.T*((s*eye(3) - Ao).inv())*bo)[0].factor()"
     ],
     "language": "python",
     "metadata": {},
     "outputs": [
      {
       "latex": [
        "$$\\frac{1}{s^{3}} \\left(s - 1\\right) \\left(s + 1\\right)$$"
       ],
       "metadata": {},
       "output_type": "pyout",
       "png": "[encoded data removed]",
       "prompt_number": 57,
       "text": [
        "(s - 1)\u22c5(s + 1)\n",
        "\u2500\u2500\u2500\u2500\u2500\u2500\u2500\u2500\u2500\u2500\u2500\u2500\u2500\u2500\u2500\n",
        "        3      \n",
        "       s       "
       ]
      }
     ],
     "prompt_number": 57
    },
    {
     "cell_type": "markdown",
     "metadata": {},
     "source": [
      "su matriz de observabilidad:"
     ]
    },
    {
     "cell_type": "code",
     "collapsed": false,
     "input": [
      "MOo = (co.T.col_join(co.T*Ao)).col_join(co.T*Ao*Ao)\n",
      "MOo"
     ],
     "language": "python",
     "metadata": {},
     "outputs": [
      {
       "latex": [
        "$$\\left[\\begin{matrix}0 & 0 & 1\\\\0 & 1 & 0\\\\1 & 0 & 0\\end{matrix}\\right]$$"
       ],
       "metadata": {},
       "output_type": "pyout",
       "png": "[encoded data removed]",
       "prompt_number": 51,
       "text": [
        "\u23a10  0  1\u23a4\n",
        "\u23a2       \u23a5\n",
        "\u23a20  1  0\u23a5\n",
        "\u23a2       \u23a5\n",
        "\u23a31  0  0\u23a6"
       ]
      }
     ],
     "prompt_number": 51
    },
    {
     "cell_type": "markdown",
     "metadata": {},
     "source": [
      "y la matriz de cambio de base ser\u00e1:"
     ]
    },
    {
     "cell_type": "code",
     "collapsed": false,
     "input": [
      "T = MO.inv()* MOo\n",
      "T"
     ],
     "language": "python",
     "metadata": {},
     "outputs": [
      {
       "latex": [
        "$$\\left[\\begin{matrix}-1 & 0 & -1\\\\0 & -1 & 0\\\\-1 & 0 & 0\\end{matrix}\\right]$$"
       ],
       "metadata": {},
       "output_type": "pyout",
       "png": "[encoded data removed]",
       "prompt_number": 53,
       "text": [
        "\u23a1-1  0   -1\u23a4\n",
        "\u23a2          \u23a5\n",
        "\u23a20   -1  0 \u23a5\n",
        "\u23a2          \u23a5\n",
        "\u23a3-1  0   0 \u23a6"
       ]
      }
     ],
     "prompt_number": 53
    },
    {
     "cell_type": "markdown",
     "metadata": {},
     "source": [
      "teniendo esto, tan solo tenemos que idear una inyecci\u00f3n de salida.\n",
      "\n",
      "En este caso, queremos una respuesta mas rapida, por lo que pondremos estos polos en $-10$:"
     ]
    },
    {
     "cell_type": "code",
     "collapsed": false,
     "input": [
      "((s+10)**3).expand()"
     ],
     "language": "python",
     "metadata": {},
     "outputs": [
      {
       "latex": [
        "$$s^{3} + 30 s^{2} + 300 s + 1000$$"
       ],
       "metadata": {},
       "output_type": "pyout",
       "png": "[encoded data removed]",
       "prompt_number": 59,
       "text": [
        " 3       2               \n",
        "s  + 30\u22c5s  + 300\u22c5s + 1000"
       ]
      }
     ],
     "prompt_number": 59
    },
    {
     "cell_type": "markdown",
     "metadata": {},
     "source": [
      "por lo que nuestra inyecci\u00f3n de salida ser\u00e1:"
     ]
    },
    {
     "cell_type": "code",
     "collapsed": false,
     "input": [
      "ko = Matrix([[-1000], [-300], [-30]])"
     ],
     "language": "python",
     "metadata": {},
     "outputs": [],
     "prompt_number": 60
    },
    {
     "cell_type": "markdown",
     "metadata": {},
     "source": [
      "y el sistema bajo inyecci\u00f3n de salida ser\u00e1:"
     ]
    },
    {
     "cell_type": "code",
     "collapsed": false,
     "input": [
      "Ako = Ao + ko*co.T\n",
      "Ako"
     ],
     "language": "python",
     "metadata": {},
     "outputs": [
      {
       "latex": [
        "$$\\left[\\begin{matrix}0 & 0 & -1000\\\\1 & 0 & -300\\\\0 & 1 & -30\\end{matrix}\\right]$$"
       ],
       "metadata": {},
       "output_type": "pyout",
       "png": "[encoded data removed]",
       "prompt_number": 62,
       "text": [
        "\u23a10  0  -1000\u23a4\n",
        "\u23a2           \u23a5\n",
        "\u23a21  0  -300 \u23a5\n",
        "\u23a2           \u23a5\n",
        "\u23a30  1   -30 \u23a6"
       ]
      }
     ],
     "prompt_number": 62
    },
    {
     "cell_type": "markdown",
     "metadata": {},
     "source": [
      "y su polinomio caracteristico ser\u00e1:"
     ]
    },
    {
     "cell_type": "code",
     "collapsed": false,
     "input": [
      "(s*eye(3) - Ako).det()"
     ],
     "language": "python",
     "metadata": {},
     "outputs": [
      {
       "latex": [
        "$$s^{3} + 30 s^{2} + 300 s + 1000$$"
       ],
       "metadata": {},
       "output_type": "pyout",
       "png": "[encoded data removed]",
       "prompt_number": 63,
       "text": [
        " 3       2               \n",
        "s  + 30\u22c5s  + 300\u22c5s + 1000"
       ]
      }
     ],
     "prompt_number": 63
    },
    {
     "cell_type": "markdown",
     "metadata": {},
     "source": [
      "pero esta inyecci\u00f3n de salida esta definida en la nueva base, por lo que tenemos que convertirla a la base anterior:"
     ]
    },
    {
     "cell_type": "code",
     "collapsed": false,
     "input": [
      "k = T*ko\n",
      "k"
     ],
     "language": "python",
     "metadata": {},
     "outputs": [
      {
       "latex": [
        "$$\\left[\\begin{matrix}1030\\\\300\\\\1000\\end{matrix}\\right]$$"
       ],
       "metadata": {},
       "output_type": "pyout",
       "png": "[encoded data removed]",
       "prompt_number": 64,
       "text": [
        "\u23a11030\u23a4\n",
        "\u23a2    \u23a5\n",
        "\u23a2300 \u23a5\n",
        "\u23a2    \u23a5\n",
        "\u23a31000\u23a6"
       ]
      }
     ],
     "prompt_number": 64
    },
    {
     "cell_type": "markdown",
     "metadata": {},
     "source": [
      "Si ahora juntamosla retroalimentaci\u00f3n de estado y la inyecci\u00f3n de salida, tendremos:"
     ]
    },
    {
     "cell_type": "code",
     "collapsed": false,
     "input": [
      "Alc = (A.row_join(b*f.T)).col_join((-k*c.T).row_join(Af + k*c.T))\n",
      "Alc"
     ],
     "language": "python",
     "metadata": {},
     "outputs": [
      {
       "latex": [
        "$$\\left[\\begin{matrix}0 & 1 & 0 & 0 & 0 & 0\\\\0 & 0 & 1 & 0 & 0 & 0\\\\0 & 0 & 0 & -1 & -3 & -3\\\\1030 & 0 & -1030 & -1030 & 1 & 1030\\\\300 & 0 & -300 & -300 & 0 & 301\\\\1000 & 0 & -1000 & -1001 & -3 & 997\\end{matrix}\\right]$$"
       ],
       "metadata": {},
       "output_type": "pyout",
       "png": "[encoded data removed]",
       "prompt_number": 66,
       "text": [
        "\u23a1 0    1    0      0    0    0  \u23a4\n",
        "\u23a2                               \u23a5\n",
        "\u23a2 0    0    1      0    0    0  \u23a5\n",
        "\u23a2                               \u23a5\n",
        "\u23a2 0    0    0     -1    -3   -3 \u23a5\n",
        "\u23a2                               \u23a5\n",
        "\u23a21030  0  -1030  -1030  1   1030\u23a5\n",
        "\u23a2                               \u23a5\n",
        "\u23a2300   0  -300   -300   0   301 \u23a5\n",
        "\u23a2                               \u23a5\n",
        "\u23a31000  0  -1000  -1001  -3  997 \u23a6"
       ]
      }
     ],
     "prompt_number": 66
    },
    {
     "cell_type": "code",
     "collapsed": false,
     "input": [
      "blc = b.col_join(b)\n",
      "blc"
     ],
     "language": "python",
     "metadata": {},
     "outputs": [
      {
       "latex": [
        "$$\\left[\\begin{matrix}0\\\\0\\\\1\\\\0\\\\0\\\\1\\end{matrix}\\right]$$"
       ],
       "metadata": {},
       "output_type": "pyout",
       "png": "[encoded data removed]",
       "prompt_number": 67,
       "text": [
        "\u23a10\u23a4\n",
        "\u23a2 \u23a5\n",
        "\u23a20\u23a5\n",
        "\u23a2 \u23a5\n",
        "\u23a21\u23a5\n",
        "\u23a2 \u23a5\n",
        "\u23a20\u23a5\n",
        "\u23a2 \u23a5\n",
        "\u23a20\u23a5\n",
        "\u23a2 \u23a5\n",
        "\u23a31\u23a6"
       ]
      }
     ],
     "prompt_number": 67
    },
    {
     "cell_type": "code",
     "collapsed": false,
     "input": [
      "clc = c.col_join(Matrix([[0], [0], [0]]))\n",
      "clc"
     ],
     "language": "python",
     "metadata": {},
     "outputs": [
      {
       "latex": [
        "$$\\left[\\begin{matrix}-1\\\\0\\\\1\\\\0\\\\0\\\\0\\end{matrix}\\right]$$"
       ],
       "metadata": {},
       "output_type": "pyout",
       "png": "[encoded data removed]",
       "prompt_number": 68,
       "text": [
        "\u23a1-1\u23a4\n",
        "\u23a2  \u23a5\n",
        "\u23a20 \u23a5\n",
        "\u23a2  \u23a5\n",
        "\u23a21 \u23a5\n",
        "\u23a2  \u23a5\n",
        "\u23a20 \u23a5\n",
        "\u23a2  \u23a5\n",
        "\u23a20 \u23a5\n",
        "\u23a2  \u23a5\n",
        "\u23a30 \u23a6"
       ]
      }
     ],
     "prompt_number": 68
    },
    {
     "cell_type": "markdown",
     "metadata": {},
     "source": [
      "el polinomio caracteristico de este sistema ser\u00e1:"
     ]
    },
    {
     "cell_type": "code",
     "collapsed": false,
     "input": [
      "(s*eye(6) - Alc).det().factor()"
     ],
     "language": "python",
     "metadata": {},
     "outputs": [
      {
       "latex": [
        "$$\\left(s + 1\\right)^{3} \\left(s + 10\\right)^{3}$$"
       ],
       "metadata": {},
       "output_type": "pyout",
       "png": "[encoded data removed]",
       "prompt_number": 70,
       "text": [
        "       3         3\n",
        "(s + 1) \u22c5(s + 10) "
       ]
      }
     ],
     "prompt_number": 70
    },
    {
     "cell_type": "markdown",
     "metadata": {},
     "source": [
      "y el polinomio de la matriz sistema:"
     ]
    },
    {
     "cell_type": "code",
     "collapsed": false,
     "input": [
      "MSlc = ((s*eye(6) - Alc).row_join(blc)).col_join(-clc.T.row_join(Matrix([[0]])))\n",
      "MSlc"
     ],
     "language": "python",
     "metadata": {},
     "outputs": [
      {
       "latex": [
        "$$\\left[\\begin{matrix}s & -1 & 0 & 0 & 0 & 0 & 0\\\\0 & s & -1 & 0 & 0 & 0 & 0\\\\0 & 0 & s & 1 & 3 & 3 & 1\\\\-1030 & 0 & 1030 & s + 1030 & -1 & -1030 & 0\\\\-300 & 0 & 300 & 300 & s & -301 & 0\\\\-1000 & 0 & 1000 & 1001 & 3 & s - 997 & 1\\\\1 & 0 & -1 & 0 & 0 & 0 & 0\\end{matrix}\\right]$$"
       ],
       "metadata": {},
       "output_type": "pyout",
       "png": "[encoded data removed]",
       "prompt_number": 72,
       "text": [
        "\u23a1  s    -1   0       0      0      0     0\u23a4\n",
        "\u23a2                                         \u23a5\n",
        "\u23a2  0    s    -1      0      0      0     0\u23a5\n",
        "\u23a2                                         \u23a5\n",
        "\u23a2  0    0    s       1      3      3     1\u23a5\n",
        "\u23a2                                         \u23a5\n",
        "\u23a2-1030  0   1030  s + 1030  -1   -1030   0\u23a5\n",
        "\u23a2                                         \u23a5\n",
        "\u23a2-300   0   300     300     s    -301    0\u23a5\n",
        "\u23a2                                         \u23a5\n",
        "\u23a2-1000  0   1000    1001    3   s - 997  1\u23a5\n",
        "\u23a2                                         \u23a5\n",
        "\u23a3  1    0    -1      0      0      0     0\u23a6"
       ]
      }
     ],
     "prompt_number": 72
    },
    {
     "cell_type": "code",
     "collapsed": false,
     "input": [
      "MSlc.det().factor()"
     ],
     "language": "python",
     "metadata": {},
     "outputs": [
      {
       "latex": [
        "$$\\left(s - 1\\right) \\left(s + 1\\right) \\left(s + 10\\right)^{3}$$"
       ],
       "metadata": {},
       "output_type": "pyout",
       "png": "[encoded data removed]",
       "prompt_number": 74,
       "text": [
        "                        3\n",
        "(s - 1)\u22c5(s + 1)\u22c5(s + 10) "
       ]
      }
     ],
     "prompt_number": 74
    },
    {
     "cell_type": "markdown",
     "metadata": {},
     "source": [
      "su matriz de controlabilidad ser\u00e1:"
     ]
    },
    {
     "cell_type": "code",
     "collapsed": false,
     "input": [
      "MClc = ((((blc.row_join(Alc*blc))\n",
      "          .row_join(Alc*Alc*blc))\n",
      "         .row_join(Alc*Alc*Alc*blc))\n",
      "        .row_join(Alc*Alc*Alc*Alc*blc)).row_join(Alc*Alc*Alc*Alc*Alc*blc)\n",
      "MClc"
     ],
     "language": "python",
     "metadata": {},
     "outputs": [
      {
       "latex": [
        "$$\\left[\\begin{matrix}0 & 0 & 1 & -3 & 6 & -10\\\\0 & 1 & -3 & 6 & -10 & 15\\\\1 & -3 & 6 & -10 & 15 & -21\\\\0 & 0 & 1 & -3 & 6 & -10\\\\0 & 1 & -3 & 6 & -10 & 15\\\\1 & -3 & 6 & -10 & 15 & -21\\end{matrix}\\right]$$"
       ],
       "metadata": {},
       "output_type": "pyout",
       "png": "[encoded data removed]",
       "prompt_number": 85,
       "text": [
        "\u23a10  0   1   -3    6   -10\u23a4\n",
        "\u23a2                        \u23a5\n",
        "\u23a20  1   -3   6   -10  15 \u23a5\n",
        "\u23a2                        \u23a5\n",
        "\u23a21  -3  6   -10  15   -21\u23a5\n",
        "\u23a2                        \u23a5\n",
        "\u23a20  0   1   -3    6   -10\u23a5\n",
        "\u23a2                        \u23a5\n",
        "\u23a20  1   -3   6   -10  15 \u23a5\n",
        "\u23a2                        \u23a5\n",
        "\u23a31  -3  6   -10  15   -21\u23a6"
       ]
      }
     ],
     "prompt_number": 85
    },
    {
     "cell_type": "code",
     "collapsed": false,
     "input": [
      "MClc.det()"
     ],
     "language": "python",
     "metadata": {},
     "outputs": [
      {
       "latex": [
        "$$0$$"
       ],
       "metadata": {},
       "output_type": "pyout",
       "png": "[encoded data removed]",
       "prompt_number": 81,
       "text": [
        "0"
       ]
      }
     ],
     "prompt_number": 81
    },
    {
     "cell_type": "code",
     "collapsed": false,
     "input": [
      "MOlc = ((((clc.T.col_join(clc.T*Alc))\n",
      "          .col_join(clc.T*Alc*Alc))\n",
      "         .col_join(clc.T*Alc*Alc*Alc))\n",
      "        .col_join(clc.T*Alc*Alc*Alc*Alc)).col_join(clc.T*Alc*Alc*Alc*Alc*Alc)\n",
      "MOlc"
     ],
     "language": "python",
     "metadata": {},
     "outputs": [
      {
       "latex": [
        "$$\\left[\\begin{matrix}-1 & 0 & 1 & 0 & 0 & 0\\\\0 & -1 & 0 & -1 & -3 & -3\\\\-4930 & 0 & 4929 & 4933 & 8 & -4924\\\\159390 & -4930 & -159390 & -159395 & 4918 & 159383\\\\-3318450 & 159390 & 3313520 & 3318457 & -159374 & -3313511\\\\56687510 & -3318450 & -56528120 & -56687519 & 3318430 & 56528109\\end{matrix}\\right]$$"
       ],
       "metadata": {},
       "output_type": "pyout",
       "png": "[encoded data removed]",
       "prompt_number": 90,
       "text": [
        "\u23a1   -1        0          1          0         0        0    \u23a4\n",
        "\u23a2                                                           \u23a5\n",
        "\u23a2   0         -1         0         -1        -3        -3   \u23a5\n",
        "\u23a2                                                           \u23a5\n",
        "\u23a2 -4930       0        4929       4933        8      -4924  \u23a5\n",
        "\u23a2                                                           \u23a5\n",
        "\u23a2 159390    -4930     -159390    -159395    4918     159383 \u23a5\n",
        "\u23a2                                                           \u23a5\n",
        "\u23a2-3318450   159390    3313520    3318457   -159374  -3313511\u23a5\n",
        "\u23a2                                                           \u23a5\n",
        "\u23a356687510  -3318450  -56528120  -56687519  3318430  56528109\u23a6"
       ]
      }
     ],
     "prompt_number": 90
    },
    {
     "cell_type": "code",
     "collapsed": false,
     "input": [
      "MOlc.det()"
     ],
     "language": "python",
     "metadata": {},
     "outputs": [
      {
       "latex": [
        "$$0$$"
       ],
       "metadata": {},
       "output_type": "pyout",
       "png": "[encoded data removed]",
       "prompt_number": 91,
       "text": [
        "0"
       ]
      }
     ],
     "prompt_number": 91
    },
    {
     "cell_type": "code",
     "collapsed": false,
     "input": [
      "Tlc, Jlc = Alc.jordan_form()"
     ],
     "language": "python",
     "metadata": {},
     "outputs": [],
     "prompt_number": 97
    },
    {
     "cell_type": "code",
     "collapsed": false,
     "input": [
      "Jlc"
     ],
     "language": "python",
     "metadata": {},
     "outputs": [
      {
       "latex": [
        "$$\\left[\\begin{matrix}-10 & 1 & 0 & 0 & 0 & 0\\\\0 & -10 & 1 & 0 & 0 & 0\\\\0 & 0 & -10 & 0 & 0 & 0\\\\0 & 0 & 0 & -1 & 1 & 0\\\\0 & 0 & 0 & 0 & -1 & 1\\\\0 & 0 & 0 & 0 & 0 & -1\\end{matrix}\\right]$$"
       ],
       "metadata": {},
       "output_type": "pyout",
       "png": "[encoded data removed]",
       "prompt_number": 98,
       "text": [
        "\u23a1-10   1    0   0   0   0 \u23a4\n",
        "\u23a2                         \u23a5\n",
        "\u23a2 0   -10   1   0   0   0 \u23a5\n",
        "\u23a2                         \u23a5\n",
        "\u23a2 0    0   -10  0   0   0 \u23a5\n",
        "\u23a2                         \u23a5\n",
        "\u23a2 0    0    0   -1  1   0 \u23a5\n",
        "\u23a2                         \u23a5\n",
        "\u23a2 0    0    0   0   -1  1 \u23a5\n",
        "\u23a2                         \u23a5\n",
        "\u23a3 0    0    0   0   0   -1\u23a6"
       ]
      }
     ],
     "prompt_number": 98
    },
    {
     "cell_type": "code",
     "collapsed": false,
     "input": [
      "Tlc"
     ],
     "language": "python",
     "metadata": {},
     "outputs": [
      {
       "latex": [
        "$$\\left[\\begin{matrix}- \\frac{308971280691375445101}{6440578030069823410} & - \\frac{6189758142890979102}{644057803006982341} & - \\frac{924073776207026570}{644057803006982341} & 6 & 3 & 1\\\\\\frac{308971280691375445101}{644057803006982341} & \\frac{310004533597722465099}{6440578030069823410} & \\frac{3050979619179286598}{644057803006982341} & -6 & 3 & 2\\\\- \\frac{3089712806913754451010}{644057803006982341} & - \\frac{1033252906347019998}{644057803006982341} & \\frac{4906571679793805299}{6440578030069823410} & 6 & -9 & 1\\\\- \\frac{4965657741089806231569}{644057803006982341} & \\frac{621830100064915764228}{644057803006982341} & - \\frac{1386103448305145351}{644057803006982341} & 6 & 3 & 1\\\\- \\frac{668209038718657958277}{644057803006982341} & \\frac{203252332025473238721}{644057803006982341} & \\frac{1797918208475007875}{644057803006982341} & -6 & 3 & 2\\\\- \\frac{7975614403963921467900}{644057803006982341} & \\frac{615931060569649590213}{644057803006982341} & 1 & 6 & -9 & 1\\end{matrix}\\right]$$"
       ],
       "metadata": {},
       "output_type": "pyout",
       "png": "[encoded data removed]",
       "prompt_number": 99,
       "text": [
        "\u23a1-308971280691375445101    -6189758142890979102   -924073776207026570         \n",
        "\u23a2\u2500\u2500\u2500\u2500\u2500\u2500\u2500\u2500\u2500\u2500\u2500\u2500\u2500\u2500\u2500\u2500\u2500\u2500\u2500\u2500\u2500\u2500\u2500   \u2500\u2500\u2500\u2500\u2500\u2500\u2500\u2500\u2500\u2500\u2500\u2500\u2500\u2500\u2500\u2500\u2500\u2500\u2500\u2500\u2500  \u2500\u2500\u2500\u2500\u2500\u2500\u2500\u2500\u2500\u2500\u2500\u2500\u2500\u2500\u2500\u2500\u2500\u2500\u2500\u2500   6   3\n",
        "\u23a2  6440578030069823410       644057803006982341    644057803006982341         \n",
        "\u23a2                                                                             \n",
        "\u23a2 308971280691375445101    310004533597722465099   3050979619179286598        \n",
        "\u23a2 \u2500\u2500\u2500\u2500\u2500\u2500\u2500\u2500\u2500\u2500\u2500\u2500\u2500\u2500\u2500\u2500\u2500\u2500\u2500\u2500\u2500    \u2500\u2500\u2500\u2500\u2500\u2500\u2500\u2500\u2500\u2500\u2500\u2500\u2500\u2500\u2500\u2500\u2500\u2500\u2500\u2500\u2500   \u2500\u2500\u2500\u2500\u2500\u2500\u2500\u2500\u2500\u2500\u2500\u2500\u2500\u2500\u2500\u2500\u2500\u2500\u2500   -6  3\n",
        "\u23a2   644057803006982341      6440578030069823410     644057803006982341        \n",
        "\u23a2                                                                             \n",
        "\u23a2-3089712806913754451010   -1033252906347019998    4906571679793805299        \n",
        "\u23a2\u2500\u2500\u2500\u2500\u2500\u2500\u2500\u2500\u2500\u2500\u2500\u2500\u2500\u2500\u2500\u2500\u2500\u2500\u2500\u2500\u2500\u2500\u2500\u2500  \u2500\u2500\u2500\u2500\u2500\u2500\u2500\u2500\u2500\u2500\u2500\u2500\u2500\u2500\u2500\u2500\u2500\u2500\u2500\u2500\u2500   \u2500\u2500\u2500\u2500\u2500\u2500\u2500\u2500\u2500\u2500\u2500\u2500\u2500\u2500\u2500\u2500\u2500\u2500\u2500   6   -\n",
        "\u23a2   644057803006982341       644057803006982341    6440578030069823410        \n",
        "\u23a2                                                                             \n",
        "\u23a2-4965657741089806231569   621830100064915764228  -1386103448305145351        \n",
        "\u23a2\u2500\u2500\u2500\u2500\u2500\u2500\u2500\u2500\u2500\u2500\u2500\u2500\u2500\u2500\u2500\u2500\u2500\u2500\u2500\u2500\u2500\u2500\u2500\u2500  \u2500\u2500\u2500\u2500\u2500\u2500\u2500\u2500\u2500\u2500\u2500\u2500\u2500\u2500\u2500\u2500\u2500\u2500\u2500\u2500\u2500  \u2500\u2500\u2500\u2500\u2500\u2500\u2500\u2500\u2500\u2500\u2500\u2500\u2500\u2500\u2500\u2500\u2500\u2500\u2500\u2500\u2500  6   3\n",
        "\u23a2   644057803006982341       644057803006982341     644057803006982341        \n",
        "\u23a2                                                                             \n",
        "\u23a2-668209038718657958277    203252332025473238721   1797918208475007875        \n",
        "\u23a2\u2500\u2500\u2500\u2500\u2500\u2500\u2500\u2500\u2500\u2500\u2500\u2500\u2500\u2500\u2500\u2500\u2500\u2500\u2500\u2500\u2500\u2500\u2500   \u2500\u2500\u2500\u2500\u2500\u2500\u2500\u2500\u2500\u2500\u2500\u2500\u2500\u2500\u2500\u2500\u2500\u2500\u2500\u2500\u2500   \u2500\u2500\u2500\u2500\u2500\u2500\u2500\u2500\u2500\u2500\u2500\u2500\u2500\u2500\u2500\u2500\u2500\u2500\u2500   -6  3\n",
        "\u23a2   644057803006982341       644057803006982341     644057803006982341        \n",
        "\u23a2                                                                             \n",
        "\u23a2-7975614403963921467900   615931060569649590213                              \n",
        "\u23a2\u2500\u2500\u2500\u2500\u2500\u2500\u2500\u2500\u2500\u2500\u2500\u2500\u2500\u2500\u2500\u2500\u2500\u2500\u2500\u2500\u2500\u2500\u2500\u2500  \u2500\u2500\u2500\u2500\u2500\u2500\u2500\u2500\u2500\u2500\u2500\u2500\u2500\u2500\u2500\u2500\u2500\u2500\u2500\u2500\u2500            1            6   -\n",
        "\u23a3   644057803006982341       644057803006982341                               \n",
        "\n",
        "    \u23a4\n",
        "   1\u23a5\n",
        "    \u23a5\n",
        "    \u23a5\n",
        "    \u23a5\n",
        "   2\u23a5\n",
        "    \u23a5\n",
        "    \u23a5\n",
        "    \u23a5\n",
        "9  1\u23a5\n",
        "    \u23a5\n",
        "    \u23a5\n",
        "    \u23a5\n",
        "   1\u23a5\n",
        "    \u23a5\n",
        "    \u23a5\n",
        "    \u23a5\n",
        "   2\u23a5\n",
        "    \u23a5\n",
        "    \u23a5\n",
        "    \u23a5\n",
        "9  1\u23a5\n",
        "    \u23a6"
       ]
      }
     ],
     "prompt_number": 99
    }
   ],
   "metadata": {}
  }
 ]
}