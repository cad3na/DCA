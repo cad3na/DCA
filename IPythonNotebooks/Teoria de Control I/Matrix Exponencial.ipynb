{
 "metadata": {
  "name": "",
  "signature": "sha256:a3ee54fccc0c87db8a5a191de1e7621cc4bb0863a3071fc9352c71803d6ba3a8"
 },
 "nbformat": 3,
 "nbformat_minor": 0,
 "worksheets": [
  {
   "cells": [
    {
     "cell_type": "code",
     "collapsed": false,
     "input": [
      "from sympy.interactive import printing\n",
      "printing.init_printing()\n",
      "\n",
      "from sympy import var, simplify, collect, expand, Matrix, eye, inverse_laplace_transform, exp"
     ],
     "language": "python",
     "metadata": {},
     "outputs": [],
     "prompt_number": 1
    },
    {
     "cell_type": "code",
     "collapsed": false,
     "input": [
      "var(\"s, t\")"
     ],
     "language": "python",
     "metadata": {},
     "outputs": [
      {
       "latex": [
        "$$\\begin{pmatrix}s, & t\\end{pmatrix}$$"
       ],
       "metadata": {},
       "output_type": "pyout",
       "png": "[encoded data removed]",
       "prompt_number": 2,
       "text": [
        "(s, t)"
       ]
      }
     ],
     "prompt_number": 2
    },
    {
     "cell_type": "markdown",
     "metadata": {},
     "source": [
      "La matriz exponencial se define asi:\n",
      "\n",
      "$$\n",
      "\\exp{(At)} = \\sum_{i=0}^{\\infty} \\frac{1}{i!} (At)^i\n",
      "$$\n",
      "\n",
      "sin embargo, es completamente impractico calcularla de esta manera, principalmente porque es una serie infinita...\n",
      "\n",
      "Dicho esto, hay otras maneras de calcularla, aqui exploraremos algunas de ellas."
     ]
    },
    {
     "cell_type": "heading",
     "level": 1,
     "metadata": {},
     "source": [
      "Calculo de matriz exponencial por la transformada de Laplace"
     ]
    },
    {
     "cell_type": "markdown",
     "metadata": {},
     "source": [
      "El primer m\u00e9todo esta definido por la siguiente ecuaci\u00f3n:\n",
      "\n",
      "$$\n",
      "exp(At) = \\mathcal{L}^{-1} \\left\\{ (sI - A)^{-1} \\right\\}\n",
      "$$\n",
      "\n",
      "por lo que podemos calcular rapidamente diferentes matrices exponenciales como ejemplo:"
     ]
    },
    {
     "cell_type": "code",
     "collapsed": false,
     "input": [
      "A1 = Matrix([[0, 1], [-1, -2]])\n",
      "A1"
     ],
     "language": "python",
     "metadata": {},
     "outputs": [
      {
       "latex": [
        "$$\\left[\\begin{matrix}0 & 1\\\\-1 & -2\\end{matrix}\\right]$$"
       ],
       "metadata": {},
       "output_type": "pyout",
       "png": "[encoded data removed]",
       "prompt_number": 3,
       "text": [
        "\u23a10   1 \u23a4\n",
        "\u23a2      \u23a5\n",
        "\u23a3-1  -2\u23a6"
       ]
      }
     ],
     "prompt_number": 3
    },
    {
     "cell_type": "code",
     "collapsed": false,
     "input": [
      "(s*eye(2) - A1).inv()"
     ],
     "language": "python",
     "metadata": {},
     "outputs": [
      {
       "latex": [
        "$$\\left[\\begin{matrix}\\frac{1}{s} - \\frac{1}{s^{2} \\left(s + 2 + \\frac{1}{s}\\right)} & \\frac{1}{s \\left(s + 2 + \\frac{1}{s}\\right)}\\\\- \\frac{1}{s \\left(s + 2 + \\frac{1}{s}\\right)} & \\frac{1}{s + 2 + \\frac{1}{s}}\\end{matrix}\\right]$$"
       ],
       "metadata": {},
       "output_type": "pyout",
       "png": "[encoded data removed]",
       "prompt_number": 4,
       "text": [
        "\u23a11         1               1      \u23a4\n",
        "\u23a2\u2500 - \u2500\u2500\u2500\u2500\u2500\u2500\u2500\u2500\u2500\u2500\u2500\u2500\u2500\u2500  \u2500\u2500\u2500\u2500\u2500\u2500\u2500\u2500\u2500\u2500\u2500\u2500\u2500\u23a5\n",
        "\u23a2s    2 \u239b        1\u239e    \u239b        1\u239e\u23a5\n",
        "\u23a2    s \u22c5\u239cs + 2 + \u2500\u239f  s\u22c5\u239cs + 2 + \u2500\u239f\u23a5\n",
        "\u23a2       \u239d        s\u23a0    \u239d        s\u23a0\u23a5\n",
        "\u23a2                                 \u23a5\n",
        "\u23a2       -1                 1      \u23a5\n",
        "\u23a2  \u2500\u2500\u2500\u2500\u2500\u2500\u2500\u2500\u2500\u2500\u2500\u2500\u2500       \u2500\u2500\u2500\u2500\u2500\u2500\u2500\u2500\u2500  \u23a5\n",
        "\u23a2    \u239b        1\u239e               1  \u23a5\n",
        "\u23a2  s\u22c5\u239cs + 2 + \u2500\u239f       s + 2 + \u2500  \u23a5\n",
        "\u23a3    \u239d        s\u23a0               s  \u23a6"
       ]
      }
     ],
     "prompt_number": 4
    },
    {
     "cell_type": "code",
     "collapsed": false,
     "input": [
      "[inverse_laplace_transform((s*eye(2) - A1).inv()[i], s, t) for i in range(4)]"
     ],
     "language": "python",
     "metadata": {},
     "outputs": [
      {
       "latex": [
        "$$\\begin{bmatrix}\\left(t + 1\\right) e^{- t} \\theta\\left(t\\right), & t e^{- t} \\theta\\left(t\\right), & - t e^{- t} \\theta\\left(t\\right), & - \\left(t - 1\\right) e^{- t} \\theta\\left(t\\right)\\end{bmatrix}$$"
       ],
       "metadata": {},
       "output_type": "pyout",
       "png": "[encoded data removed]",
       "prompt_number": 5,
       "text": [
        "\u23a1         -t                  -t                   -t                         \n",
        "\u23a3(t + 1)\u22c5\u212f  \u22c5Heaviside(t), t\u22c5\u212f  \u22c5Heaviside(t), -t\u22c5\u212f  \u22c5Heaviside(t), -(t - 1)\u22c5\u212f\n",
        "\n",
        "-t             \u23a4\n",
        "  \u22c5Heaviside(t)\u23a6"
       ]
      }
     ],
     "prompt_number": 5
    },
    {
     "cell_type": "markdown",
     "metadata": {},
     "source": [
      "En donde $\\theta(t)$, es la funci\u00f3n del escalon unitario de [Heavyside](http://en.wikipedia.org/wiki/Heaviside_step_function). Por el momento podemos ignorarla; digamos que se convierte en lo siguiente:\n",
      "\n",
      "$$\n",
      "\\begin{bmatrix}\n",
      "t+1 & t \\\\\n",
      "-t & -t+1\n",
      "\\end{bmatrix} e^{-t}\n",
      "$$\n",
      "\n",
      "Podemos hacer otros ejemplos:"
     ]
    },
    {
     "cell_type": "code",
     "collapsed": false,
     "input": [
      "A2 = Matrix([[0, 1], [0, 0]])\n",
      "A2"
     ],
     "language": "python",
     "metadata": {},
     "outputs": [
      {
       "latex": [
        "$$\\left[\\begin{matrix}0 & 1\\\\0 & 0\\end{matrix}\\right]$$"
       ],
       "metadata": {},
       "output_type": "pyout",
       "png": "[encoded data removed]",
       "prompt_number": 6,
       "text": [
        "\u23a10  1\u23a4\n",
        "\u23a2    \u23a5\n",
        "\u23a30  0\u23a6"
       ]
      }
     ],
     "prompt_number": 6
    },
    {
     "cell_type": "code",
     "collapsed": false,
     "input": [
      "(s*eye(2) - A2).inv()"
     ],
     "language": "python",
     "metadata": {},
     "outputs": [
      {
       "latex": [
        "$$\\left[\\begin{matrix}\\frac{1}{s} & \\frac{1}{s^{2}}\\\\0 & \\frac{1}{s}\\end{matrix}\\right]$$"
       ],
       "metadata": {},
       "output_type": "pyout",
       "png": "[encoded data removed]",
       "prompt_number": 7,
       "text": [
        "\u23a11  1 \u23a4\n",
        "\u23a2\u2500  \u2500\u2500\u23a5\n",
        "\u23a2s   2\u23a5\n",
        "\u23a2   s \u23a5\n",
        "\u23a2     \u23a5\n",
        "\u23a2   1 \u23a5\n",
        "\u23a20  \u2500 \u23a5\n",
        "\u23a3   s \u23a6"
       ]
      }
     ],
     "prompt_number": 7
    },
    {
     "cell_type": "code",
     "collapsed": false,
     "input": [
      "[inverse_laplace_transform((s*eye(2) - A2).inv()[i], s, t) for i in range(4)]"
     ],
     "language": "python",
     "metadata": {},
     "outputs": [
      {
       "latex": [
        "$$\\begin{bmatrix}\\theta\\left(t\\right), & t \\theta\\left(t\\right), & 0, & \\theta\\left(t\\right)\\end{bmatrix}$$"
       ],
       "metadata": {},
       "output_type": "pyout",
       "png": "[encoded data removed]",
       "prompt_number": 8,
       "text": [
        "[Heaviside(t), t\u22c5Heaviside(t), 0, Heaviside(t)]"
       ]
      }
     ],
     "prompt_number": 8
    },
    {
     "cell_type": "markdown",
     "metadata": {},
     "source": [
      "es decir:\n",
      "\n",
      "$$\n",
      "\\begin{bmatrix}\n",
      "1 & t \\\\\n",
      "0 & 1\n",
      "\\end{bmatrix}\n",
      "$$"
     ]
    },
    {
     "cell_type": "code",
     "collapsed": false,
     "input": [
      "A3 = Matrix([[0, 1],[-1, 0]])\n",
      "A3"
     ],
     "language": "python",
     "metadata": {},
     "outputs": [
      {
       "latex": [
        "$$\\left[\\begin{matrix}0 & 1\\\\-1 & 0\\end{matrix}\\right]$$"
       ],
       "metadata": {},
       "output_type": "pyout",
       "png": "[encoded data removed]",
       "prompt_number": 9,
       "text": [
        "\u23a10   1\u23a4\n",
        "\u23a2     \u23a5\n",
        "\u23a3-1  0\u23a6"
       ]
      }
     ],
     "prompt_number": 9
    },
    {
     "cell_type": "code",
     "collapsed": false,
     "input": [
      "(s*eye(2) - A3).inv()"
     ],
     "language": "python",
     "metadata": {},
     "outputs": [
      {
       "latex": [
        "$$\\left[\\begin{matrix}\\frac{1}{s} - \\frac{1}{s^{2} \\left(s + \\frac{1}{s}\\right)} & \\frac{1}{s \\left(s + \\frac{1}{s}\\right)}\\\\- \\frac{1}{s \\left(s + \\frac{1}{s}\\right)} & \\frac{1}{s + \\frac{1}{s}}\\end{matrix}\\right]$$"
       ],
       "metadata": {},
       "output_type": "pyout",
       "png": "[encoded data removed]",
       "prompt_number": 10,
       "text": [
        "\u23a11       1           1    \u23a4\n",
        "\u23a2\u2500 - \u2500\u2500\u2500\u2500\u2500\u2500\u2500\u2500\u2500\u2500  \u2500\u2500\u2500\u2500\u2500\u2500\u2500\u2500\u2500\u23a5\n",
        "\u23a2s    2 \u239b    1\u239e    \u239b    1\u239e\u23a5\n",
        "\u23a2    s \u22c5\u239cs + \u2500\u239f  s\u22c5\u239cs + \u2500\u239f\u23a5\n",
        "\u23a2       \u239d    s\u23a0    \u239d    s\u23a0\u23a5\n",
        "\u23a2                         \u23a5\n",
        "\u23a2     -1             1    \u23a5\n",
        "\u23a2  \u2500\u2500\u2500\u2500\u2500\u2500\u2500\u2500\u2500       \u2500\u2500\u2500\u2500\u2500  \u23a5\n",
        "\u23a2    \u239b    1\u239e           1  \u23a5\n",
        "\u23a2  s\u22c5\u239cs + \u2500\u239f       s + \u2500  \u23a5\n",
        "\u23a3    \u239d    s\u23a0           s  \u23a6"
       ]
      }
     ],
     "prompt_number": 10
    },
    {
     "cell_type": "code",
     "collapsed": false,
     "input": [
      "[inverse_laplace_transform((s*eye(2) - A3).inv()[i], s, t) for i in range(4)]"
     ],
     "language": "python",
     "metadata": {},
     "outputs": [
      {
       "latex": [
        "$$\\begin{bmatrix}\\cos{\\left (t \\right )} \\theta\\left(t\\right), & \\sin{\\left (t \\right )} \\theta\\left(t\\right), & - \\sin{\\left (t \\right )} \\theta\\left(t\\right), & \\cos{\\left (t \\right )} \\theta\\left(t\\right)\\end{bmatrix}$$"
       ],
       "metadata": {},
       "output_type": "pyout",
       "png": "[encoded data removed]",
       "prompt_number": 11,
       "text": [
        "[cos(t)\u22c5Heaviside(t), sin(t)\u22c5Heaviside(t), -sin(t)\u22c5Heaviside(t), cos(t)\u22c5Heavis\n",
        "ide(t)]"
       ]
      }
     ],
     "prompt_number": 11
    },
    {
     "cell_type": "markdown",
     "metadata": {},
     "source": [
      "es decir:\n",
      "\n",
      "$$\n",
      "\\begin{bmatrix}\n",
      "\\cos{t} & \\sin{t} \\\\\n",
      "-\\sin{t} & \\cos{t}\n",
      "\\end{bmatrix}\n",
      "$$"
     ]
    },
    {
     "cell_type": "heading",
     "level": 1,
     "metadata": {},
     "source": [
      "Calculo de la matriz exponencial por su forma de Jordan"
     ]
    },
    {
     "cell_type": "markdown",
     "metadata": {},
     "source": [
      "Si bien el m\u00e9todo anterior es una manera de calcular la matriz exponencial que funciona bien en la mayoria de los casos, impone restricciones de tiempo cuando la matriz es excesivamente grande, y el calculo de su inversa ser\u00eda demasiado costoso. Por esta razon, existe un metodo mas elegante de calcular la matriz exponencial, que toma en cuenta algunas de las propiedades de esta matriz.\n",
      "\n",
      "Consiste en notar que la representacion de [Jordan](http://en.wikipedia.org/wiki/Jordan_matrix) $J$ de una matriz cualquiera $A$, no es mas que la suma de dos matrices mas simples, un compuesta por los eigenvalores de $A$, $D$, y otra con el resto de los elementos, que invariablemente ser\u00e1 [nilpotente](http://es.wikipedia.org/wiki/Nilpotente) $N$.\n",
      "\n",
      "$$\n",
      "T^{-1} A T = J = D + N\n",
      "$$\n",
      "\n",
      "por lo que si aplicamos la funci\u00f3n exponencial, primero, a los elementos de la derecha, tendremos:\n",
      "\n",
      "$$\n",
      "\\exp{(Jt)} = \\exp{((D + N)t)} = \\exp{(Dt)} \\cdot \\exp{(Nt)}\n",
      "$$\n",
      "\n",
      "donde:\n",
      "\n",
      "$$\n",
      "D =\n",
      "\\begin{bmatrix}\n",
      "\\lambda_1 & 0 & 0 & \\dots & 0 \\\\\n",
      "0 & \\lambda_2 & 0 & \\dots & 0 \\\\\n",
      "0 & 0 & \\lambda_3 & \\dots & 0 \\\\\n",
      "\\vdots & \\vdots & \\vdots && \\vdots \\\\\n",
      "0 & 0 & 0 & \\dots & \\lambda_k\n",
      "\\end{bmatrix}\n",
      "$$\n",
      "\n",
      "$$\n",
      "N =\n",
      "\\begin{bmatrix}\n",
      "0 & * & * & \\dots & * \\\\\n",
      "0 & 0 & * & \\dots & * \\\\\n",
      "0 & 0 & 0 & \\dots & * \\\\\n",
      "\\vdots & \\vdots & \\vdots && \\vdots \\\\\n",
      "0 & 0 & 0 & \\dots & 0\n",
      "\\end{bmatrix}\n",
      "$$\n",
      "\n",
      "y por lo tanto:\n",
      "\n",
      "$$\n",
      "\\exp{(Dt)} =\n",
      "\\begin{bmatrix}\n",
      "e^{\\lambda_1 t} & 0 & 0 & \\dots & 0 \\\\\n",
      "0 & e^{\\lambda_2 t} & 0 & \\dots & 0 \\\\\n",
      "0 & 0 & e^{\\lambda_3 t} & \\dots & 0 \\\\\n",
      "\\vdots & \\vdots & \\vdots && \\vdots \\\\\n",
      "0 & 0 & 0 & \\dots & e^{\\lambda_k t}\n",
      "\\end{bmatrix}\n",
      "$$\n",
      "\n",
      "$$\n",
      "\\exp{(Nt)} = \\sum_{j = 0}^{\\infty} \\frac{1}{j!} (Nt)^j = \\sum_{j = 0}^{\\gamma - 1} \\frac{1}{j!} (Nt)^j\n",
      "\\quad \\text{con}\n",
      "\\quad \\gamma = \\max{\\left\\{ \\gamma_1, \\gamma_2, \\dots, \\gamma_k \\right\\} }\n",
      "$$\n",
      "\n",
      "es decir, que para la matriz de eigenvalores, su exponencial esta compuesta por la exponencial de cada eigenvalor, y para la matriz nilpotente, solo tenemos que calcular la expansion de Taylor hasta $\\gamma - 1$, siendo $\\gamma$ a lo mas, el rango de la matriz.\n",
      "\n",
      "Tomando el primer ejemplo de arriba:"
     ]
    },
    {
     "cell_type": "code",
     "collapsed": false,
     "input": [
      "T1, J1 = A1.jordan_form()\n",
      "J1"
     ],
     "language": "python",
     "metadata": {},
     "outputs": [
      {
       "latex": [
        "$$\\left[\\begin{matrix}-1 & 1\\\\0 & -1\\end{matrix}\\right]$$"
       ],
       "metadata": {},
       "output_type": "pyout",
       "png": "[encoded data removed]",
       "prompt_number": 12,
       "text": [
        "\u23a1-1  1 \u23a4\n",
        "\u23a2      \u23a5\n",
        "\u23a30   -1\u23a6"
       ]
      }
     ],
     "prompt_number": 12
    },
    {
     "cell_type": "markdown",
     "metadata": {},
     "source": [
      "donde podemos observar que las matrices $D$ y $N$ son:"
     ]
    },
    {
     "cell_type": "code",
     "collapsed": false,
     "input": [
      "D1 = Matrix([[-1, 0], [0, -1]])\n",
      "D1"
     ],
     "language": "python",
     "metadata": {},
     "outputs": [
      {
       "latex": [
        "$$\\left[\\begin{matrix}-1 & 0\\\\0 & -1\\end{matrix}\\right]$$"
       ],
       "metadata": {},
       "output_type": "pyout",
       "png": "[encoded data removed]",
       "prompt_number": 13,
       "text": [
        "\u23a1-1  0 \u23a4\n",
        "\u23a2      \u23a5\n",
        "\u23a30   -1\u23a6"
       ]
      }
     ],
     "prompt_number": 13
    },
    {
     "cell_type": "code",
     "collapsed": false,
     "input": [
      "N1 = Matrix([[0, 1], [0, 0]])\n",
      "N1"
     ],
     "language": "python",
     "metadata": {},
     "outputs": [
      {
       "latex": [
        "$$\\left[\\begin{matrix}0 & 1\\\\0 & 0\\end{matrix}\\right]$$"
       ],
       "metadata": {},
       "output_type": "pyout",
       "png": "[encoded data removed]",
       "prompt_number": 14,
       "text": [
        "\u23a10  1\u23a4\n",
        "\u23a2    \u23a5\n",
        "\u23a30  0\u23a6"
       ]
      }
     ],
     "prompt_number": 14
    },
    {
     "cell_type": "markdown",
     "metadata": {},
     "source": [
      "Teniendo estas matrices, tan solo tenemos que sacar la exponencial de cada una:"
     ]
    },
    {
     "cell_type": "code",
     "collapsed": false,
     "input": [
      "eD1 = (D1*t).exp()\n",
      "eD1"
     ],
     "language": "python",
     "metadata": {},
     "outputs": [
      {
       "latex": [
        "$$\\left[\\begin{matrix}e^{- t} & 0\\\\0 & e^{- t}\\end{matrix}\\right]$$"
       ],
       "metadata": {},
       "output_type": "pyout",
       "png": "[encoded data removed]",
       "prompt_number": 15,
       "text": [
        "\u23a1 -t     \u23a4\n",
        "\u23a2\u212f     0 \u23a5\n",
        "\u23a2        \u23a5\n",
        "\u23a2      -t\u23a5\n",
        "\u23a3 0   \u212f  \u23a6"
       ]
      }
     ],
     "prompt_number": 15
    },
    {
     "cell_type": "markdown",
     "metadata": {},
     "source": [
      "y para $N$ tenemos que hacer la expansi\u00f3n de Taylor hasta $\\gamma = \\operatorname{rank} A - 1$, pero el rango de $A$ es 2, por lo que:"
     ]
    },
    {
     "cell_type": "code",
     "collapsed": false,
     "input": [
      "eN1 = eye(2) + N1*t\n",
      "eN1"
     ],
     "language": "python",
     "metadata": {},
     "outputs": [
      {
       "latex": [
        "$$\\left[\\begin{matrix}1 & t\\\\0 & 1\\end{matrix}\\right]$$"
       ],
       "metadata": {},
       "output_type": "pyout",
       "png": "[encoded data removed]",
       "prompt_number": 16,
       "text": [
        "\u23a11  t\u23a4\n",
        "\u23a2    \u23a5\n",
        "\u23a30  1\u23a6"
       ]
      }
     ],
     "prompt_number": 16
    },
    {
     "cell_type": "markdown",
     "metadata": {},
     "source": [
      "Si ahora regresamos a nuestra ecuaci\u00f3n para la forma de Jordan, podemos ver que teniamos:\n",
      "\n",
      "$$\n",
      "T^{-1} A T = D + N\n",
      "$$\n",
      "\n",
      "de donde podemos concluir que:\n",
      "\n",
      "$$\n",
      "\\exp{(T^{-1} \\cdot At \\cdot T)} = \\exp{(Dt + Nt)}\n",
      "$$\n",
      "\n",
      "$$\n",
      "T^{-1} \\cdot \\exp{(At)} \\cdot T = \\exp{(Dt)} \\cdot \\exp{(Nt)}\n",
      "$$\n",
      "\n",
      "$$\n",
      "\\exp{(At)} = T \\cdot \\exp{(Dt)} \\cdot \\exp{(Nt)} \\cdot T^{-1}\n",
      "$$\n",
      "\n",
      "por lo que ahora solo tenemos que multiplicar cada una de estas matrices que ya hemos calculado:"
     ]
    },
    {
     "cell_type": "code",
     "collapsed": false,
     "input": [
      "eA1 = T1*eD1*eN1*T1.inv()\n",
      "eA1"
     ],
     "language": "python",
     "metadata": {},
     "outputs": [
      {
       "latex": [
        "$$\\left[\\begin{matrix}t e^{- t} + e^{- t} & t e^{- t}\\\\- t e^{- t} & - t e^{- t} + e^{- t}\\end{matrix}\\right]$$"
       ],
       "metadata": {},
       "output_type": "pyout",
       "png": "[encoded data removed]",
       "prompt_number": 17,
       "text": [
        "\u23a1   -t    -t         -t    \u23a4\n",
        "\u23a2t\u22c5\u212f   + \u212f        t\u22c5\u212f      \u23a5\n",
        "\u23a2                          \u23a5\n",
        "\u23a2      -t          -t    -t\u23a5\n",
        "\u23a3  -t\u22c5\u212f       - t\u22c5\u212f   + \u212f  \u23a6"
       ]
      }
     ],
     "prompt_number": 17
    },
    {
     "cell_type": "markdown",
     "metadata": {},
     "source": [
      "De donde facilmente se puede ver que:\n",
      "\n",
      "$$\n",
      "\\begin{bmatrix}\n",
      "t+1 & t \\\\\n",
      "-t & -t+1\n",
      "\\end{bmatrix} e^{-t}\n",
      "$$"
     ]
    },
    {
     "cell_type": "markdown",
     "metadata": {},
     "source": [
      "Haciendo los ejemplos anteriores por este metodo:"
     ]
    },
    {
     "cell_type": "code",
     "collapsed": false,
     "input": [
      "T2, J2 = A2.jordan_form()\n",
      "J2"
     ],
     "language": "python",
     "metadata": {},
     "outputs": [
      {
       "latex": [
        "$$\\left[\\begin{matrix}0 & 1\\\\0 & 0\\end{matrix}\\right]$$"
       ],
       "metadata": {},
       "output_type": "pyout",
       "png": "[encoded data removed]",
       "prompt_number": 18,
       "text": [
        "\u23a10  1\u23a4\n",
        "\u23a2    \u23a5\n",
        "\u23a30  0\u23a6"
       ]
      }
     ],
     "prompt_number": 18
    },
    {
     "cell_type": "code",
     "collapsed": false,
     "input": [
      "D2 = Matrix([[0, 0], [0, 0]])\n",
      "N2 = Matrix([[0, 1], [0, 0]])"
     ],
     "language": "python",
     "metadata": {},
     "outputs": [],
     "prompt_number": 19
    },
    {
     "cell_type": "code",
     "collapsed": false,
     "input": [
      "eD2 = (D2*t).exp()\n",
      "eD2"
     ],
     "language": "python",
     "metadata": {},
     "outputs": [
      {
       "latex": [
        "$$\\left[\\begin{matrix}1 & 0\\\\0 & 1\\end{matrix}\\right]$$"
       ],
       "metadata": {},
       "output_type": "pyout",
       "png": "[encoded data removed]",
       "prompt_number": 20,
       "text": [
        "\u23a11  0\u23a4\n",
        "\u23a2    \u23a5\n",
        "\u23a30  1\u23a6"
       ]
      }
     ],
     "prompt_number": 20
    },
    {
     "cell_type": "code",
     "collapsed": false,
     "input": [
      "eN2 = eye(2) + N2*t\n",
      "eN2"
     ],
     "language": "python",
     "metadata": {},
     "outputs": [
      {
       "latex": [
        "$$\\left[\\begin{matrix}1 & t\\\\0 & 1\\end{matrix}\\right]$$"
       ],
       "metadata": {},
       "output_type": "pyout",
       "png": "[encoded data removed]",
       "prompt_number": 21,
       "text": [
        "\u23a11  t\u23a4\n",
        "\u23a2    \u23a5\n",
        "\u23a30  1\u23a6"
       ]
      }
     ],
     "prompt_number": 21
    },
    {
     "cell_type": "code",
     "collapsed": false,
     "input": [
      "eA2 = T2*eD2*eN2*T2.inv()\n",
      "eA2"
     ],
     "language": "python",
     "metadata": {},
     "outputs": [
      {
       "latex": [
        "$$\\left[\\begin{matrix}1 & t\\\\0 & 1\\end{matrix}\\right]$$"
       ],
       "metadata": {},
       "output_type": "pyout",
       "png": "[encoded data removed]",
       "prompt_number": 22,
       "text": [
        "\u23a11  t\u23a4\n",
        "\u23a2    \u23a5\n",
        "\u23a30  1\u23a6"
       ]
      }
     ],
     "prompt_number": 22
    },
    {
     "cell_type": "code",
     "collapsed": false,
     "input": [
      "T3, J3 = A3.jordan_form()\n",
      "J3"
     ],
     "language": "python",
     "metadata": {},
     "outputs": [
      {
       "latex": [
        "$$\\left[\\begin{matrix}- i & 0\\\\0 & i\\end{matrix}\\right]$$"
       ],
       "metadata": {},
       "output_type": "pyout",
       "png": "[encoded data removed]",
       "prompt_number": 23,
       "text": [
        "\u23a1-\u2148  0\u23a4\n",
        "\u23a2     \u23a5\n",
        "\u23a30   \u2148\u23a6"
       ]
      }
     ],
     "prompt_number": 23
    },
    {
     "cell_type": "code",
     "collapsed": false,
     "input": [
      "D3 = J3\n",
      "N3 = Matrix([[0, 0], [0, 0]])"
     ],
     "language": "python",
     "metadata": {},
     "outputs": [],
     "prompt_number": 24
    },
    {
     "cell_type": "code",
     "collapsed": false,
     "input": [
      "eD3 = simplify((D3*t).exp())\n",
      "eD3"
     ],
     "language": "python",
     "metadata": {},
     "outputs": [
      {
       "latex": [
        "$$\\left[\\begin{matrix}e^{- i t} & 0\\\\0 & e^{i t}\\end{matrix}\\right]$$"
       ],
       "metadata": {},
       "output_type": "pyout",
       "png": "[encoded data removed]",
       "prompt_number": 25,
       "text": [
        "\u23a1 -\u2148\u22c5t      \u23a4\n",
        "\u23a2\u212f       0  \u23a5\n",
        "\u23a2           \u23a5\n",
        "\u23a2        \u2148\u22c5t\u23a5\n",
        "\u23a3  0    \u212f   \u23a6"
       ]
      }
     ],
     "prompt_number": 25
    },
    {
     "cell_type": "code",
     "collapsed": false,
     "input": [
      "eN3 = eye(2) + N3*t\n",
      "eN3"
     ],
     "language": "python",
     "metadata": {},
     "outputs": [
      {
       "latex": [
        "$$\\left[\\begin{matrix}1 & 0\\\\0 & 1\\end{matrix}\\right]$$"
       ],
       "metadata": {},
       "output_type": "pyout",
       "png": "[encoded data removed]",
       "prompt_number": 26,
       "text": [
        "\u23a11  0\u23a4\n",
        "\u23a2    \u23a5\n",
        "\u23a30  1\u23a6"
       ]
      }
     ],
     "prompt_number": 26
    },
    {
     "cell_type": "code",
     "collapsed": false,
     "input": [
      "eA3 = T3*eD3*eN3*T3.inv()\n",
      "simplify(eA3)"
     ],
     "language": "python",
     "metadata": {},
     "outputs": [
      {
       "latex": [
        "$$\\left[\\begin{matrix}\\cos{\\left (t \\right )} & \\frac{i}{2} \\left(- e^{2 i t} + 1\\right) e^{- i t}\\\\- \\sin{\\left (t \\right )} & \\cos{\\left (t \\right )}\\end{matrix}\\right]$$"
       ],
       "metadata": {},
       "output_type": "pyout",
       "png": "[encoded data removed]",
       "prompt_number": 27,
       "text": [
        "\u23a1           \u239b   2\u22c5\u2148\u22c5t    \u239e  -\u2148\u22c5t\u23a4\n",
        "\u23a2         \u2148\u22c5\u239d- \u212f      + 1\u23a0\u22c5\u212f    \u23a5\n",
        "\u23a2cos(t)   \u2500\u2500\u2500\u2500\u2500\u2500\u2500\u2500\u2500\u2500\u2500\u2500\u2500\u2500\u2500\u2500\u2500\u2500\u2500\u2500\u2500\u2500\u23a5\n",
        "\u23a2                   2           \u23a5\n",
        "\u23a2                               \u23a5\n",
        "\u23a3-sin(t)          cos(t)        \u23a6"
       ]
      }
     ],
     "prompt_number": 27
    },
    {
     "cell_type": "markdown",
     "metadata": {},
     "source": [
      "Lo cual es:\n",
      "\n",
      "$$\n",
      "\\begin{bmatrix}\n",
      "\\cos{(t)} & \\sin{(t)} \\\\\n",
      "-\\sin{(t)} & \\cos{(t)}\n",
      "\\end{bmatrix}\n",
      "$$"
     ]
    },
    {
     "cell_type": "markdown",
     "metadata": {},
     "source": [
      "### Nota\n",
      "Cabe aclarar, que a pesar de que estos calculos fueron hechos a traves de software de calculo simbolico, estos m\u00e9todos son principalmente para realizarse sin el uso de computadora, principalmente porque en lugar de hacer todo esto, lo m\u00e1s facil ser\u00eda hacer:"
     ]
    },
    {
     "cell_type": "code",
     "collapsed": false,
     "input": [
      "(A1*t).exp()"
     ],
     "language": "python",
     "metadata": {},
     "outputs": [
      {
       "latex": [
        "$$\\left[\\begin{matrix}t e^{- t} + e^{- t} & t e^{- t}\\\\- t e^{- t} & - t e^{- t} + e^{- t}\\end{matrix}\\right]$$"
       ],
       "metadata": {},
       "output_type": "pyout",
       "png": "[encoded data removed]",
       "prompt_number": 28,
       "text": [
        "\u23a1   -t    -t         -t    \u23a4\n",
        "\u23a2t\u22c5\u212f   + \u212f        t\u22c5\u212f      \u23a5\n",
        "\u23a2                          \u23a5\n",
        "\u23a2      -t          -t    -t\u23a5\n",
        "\u23a3  -t\u22c5\u212f       - t\u22c5\u212f   + \u212f  \u23a6"
       ]
      }
     ],
     "prompt_number": 28
    },
    {
     "cell_type": "code",
     "collapsed": false,
     "input": [
      "(A2*t).exp()"
     ],
     "language": "python",
     "metadata": {},
     "outputs": [
      {
       "latex": [
        "$$\\left[\\begin{matrix}1 & t\\\\0 & 1\\end{matrix}\\right]$$"
       ],
       "metadata": {},
       "output_type": "pyout",
       "png": "[encoded data removed]",
       "prompt_number": 29,
       "text": [
        "\u23a11  t\u23a4\n",
        "\u23a2    \u23a5\n",
        "\u23a30  1\u23a6"
       ]
      }
     ],
     "prompt_number": 29
    },
    {
     "cell_type": "code",
     "collapsed": false,
     "input": [
      "simplify((A3*t).exp())"
     ],
     "language": "python",
     "metadata": {},
     "outputs": [
      {
       "latex": [
        "$$\\left[\\begin{matrix}\\cos{\\left (t \\right )} & \\frac{i}{2} \\left(- e^{2 i t} + 1\\right) e^{- i t}\\\\- \\sin{\\left (t \\right )} & \\cos{\\left (t \\right )}\\end{matrix}\\right]$$"
       ],
       "metadata": {},
       "output_type": "pyout",
       "png": "[encoded data removed]",
       "prompt_number": 30,
       "text": [
        "\u23a1           \u239b   2\u22c5\u2148\u22c5t    \u239e  -\u2148\u22c5t\u23a4\n",
        "\u23a2         \u2148\u22c5\u239d- \u212f      + 1\u23a0\u22c5\u212f    \u23a5\n",
        "\u23a2cos(t)   \u2500\u2500\u2500\u2500\u2500\u2500\u2500\u2500\u2500\u2500\u2500\u2500\u2500\u2500\u2500\u2500\u2500\u2500\u2500\u2500\u2500\u2500\u23a5\n",
        "\u23a2                   2           \u23a5\n",
        "\u23a2                               \u23a5\n",
        "\u23a3-sin(t)          cos(t)        \u23a6"
       ]
      }
     ],
     "prompt_number": 30
    },
    {
     "cell_type": "markdown",
     "metadata": {},
     "source": [
      "pero los m\u00e9todos descritos anteriormente, son una buena opci\u00f3n cuando el uso de la computadora no es permitido."
     ]
    }
   ],
   "metadata": {}
  }
 ]
}