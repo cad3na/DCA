{
 "metadata": {
  "name": "",
  "signature": "sha256:90444cb7888436b6db0a874ec45a0c7c5f648f4d4f38e68bb4e5b20626e2d5a3"
 },
 "nbformat": 3,
 "nbformat_minor": 0,
 "worksheets": [
  {
   "cells": [
    {
     "cell_type": "heading",
     "level": 1,
     "metadata": {},
     "source": [
      "Criterios de Rango de Popov - Belevitch - Hautus"
     ]
    },
    {
     "cell_type": "markdown",
     "metadata": {},
     "source": [
      "Existen varios criterios a los que se les denomina Popov - Belevitch - Hautus (o PBH) debido a que se desarrollaron simultaneamente y atacan problemas muy similares."
     ]
    },
    {
     "cell_type": "heading",
     "level": 2,
     "metadata": {},
     "source": [
      "Pruebas de eigenvectores PBH"
     ]
    },
    {
     "cell_type": "markdown",
     "metadata": {},
     "source": [
      "Primero\n",
      "\n",
      "> Un par $(A, b)$ ser\u00e1 no controlable si y solo si, existe un vector fila $q$ tal que:\n",
      "\n",
      "> $$ q A = \\lambda q \\quad q b = 0 $$\n",
      "\n",
      "> En otras palabras $(A, b)$ ser\u00e1 controlable si y solo si no existe eigenvector fila de $A$ que sea ortogonal a $b$.\n",
      "\n",
      "Segundo\n",
      "\n",
      "> Un par $(c, A)$ ser\u00e1 no observable si y solo si, existe un vector columna $p$ tal que:\n",
      "\n",
      "> $$ A p = \\lambda p \\quad c p = 0 $$\n",
      "\n",
      "> En otras palabras si y solo si existe un eigenvector en A que sea ortogonal a $c$."
     ]
    },
    {
     "cell_type": "heading",
     "level": 3,
     "metadata": {},
     "source": [
      "Demostraci\u00f3n"
     ]
    },
    {
     "cell_type": "markdown",
     "metadata": {},
     "source": [
      "Necesidad\n",
      "\n",
      "> Si existe una $q \\ne 0$ tal que $q A = \\lambda q$ y $q b = 0$, entonces:\n",
      "\n",
      "> $$ q A b = \\lambda q b = 0 $$\n",
      "\n",
      "> y por lo tanto, tambien:\n",
      "\n",
      "> $$ q A^2 b = \\lambda q A b $$\n",
      "\n",
      "> y continuando asi, obtenemos que:\n",
      "\n",
      "> $$ q C_{(A, b)} = q \\begin{pmatrix} b & Ab & \\dots & A^{n-1} b \\end{pmatrix} = 0$$\n",
      "\n",
      "> lo cual implica que $C_{(A, b)}$ es singular y por lo tanto $(A, b)$ no es controlable.\n",
      "\n",
      "Suficiencia\n",
      "\n"
     ]
    },
    {
     "cell_type": "code",
     "collapsed": false,
     "input": [],
     "language": "python",
     "metadata": {},
     "outputs": []
    }
   ],
   "metadata": {}
  }
 ]
}