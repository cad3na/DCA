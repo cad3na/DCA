{
 "metadata": {
  "name": "",
  "signature": "sha256:402c8ea2da40fc13d444cdb3365e33af3930fad6ea6af48c428618d529b08167"
 },
 "nbformat": 3,
 "nbformat_minor": 0,
 "worksheets": [
  {
   "cells": [
    {
     "cell_type": "code",
     "collapsed": false,
     "input": [
      "from sympy import init_printing, var, Matrix\n",
      "init_printing()"
     ],
     "language": "python",
     "metadata": {},
     "outputs": [],
     "prompt_number": 1
    },
    {
     "cell_type": "code",
     "collapsed": false,
     "input": [
      "var(\"s\")\n",
      "var(\"a:4\")\n",
      "var(\"b:4\")\n",
      "var(\"s:3\")\n",
      "var(\"r:3\")\n",
      "var(\"q:6\");"
     ],
     "language": "python",
     "metadata": {},
     "outputs": [],
     "prompt_number": 3
    },
    {
     "cell_type": "code",
     "collapsed": false,
     "input": [
      "qd = ((s0*s**2 + s1*s + s2)*(s**3 + a1*s**2 + a2*s + a3) + (r0*s**2 + r1*s + r2)*(b0*s**3 + b1*s**2 + b2*s + b3)).expand().collect(s)\n",
      "qd"
     ],
     "language": "python",
     "metadata": {},
     "outputs": [
      {
       "latex": [
        "$$a_{3} s_{2} + b_{3} r_{2} + s^{5} \\left(b_{0} r_{0} + s_{0}\\right) + s^{4} \\left(a_{1} s_{0} + b_{0} r_{1} + b_{1} r_{0} + s_{1}\\right) + s^{3} \\left(a_{1} s_{1} + a_{2} s_{0} + b_{0} r_{2} + b_{1} r_{1} + b_{2} r_{0} + s_{2}\\right) + s^{2} \\left(a_{1} s_{2} + a_{2} s_{1} + a_{3} s_{0} + b_{1} r_{2} + b_{2} r_{1} + b_{3} r_{0}\\right) + s \\left(a_{2} s_{2} + a_{3} s_{1} + b_{2} r_{2} + b_{3} r_{1}\\right)$$"
       ],
       "metadata": {},
       "output_type": "pyout",
       "png": "[encoded data removed]",
       "prompt_number": 12,
       "text": [
        "                 5                 4                                 3        \n",
        "a\u2083\u22c5s\u2082 + b\u2083\u22c5r\u2082 + s \u22c5(b\u2080\u22c5r\u2080 + s\u2080) + s \u22c5(a\u2081\u22c5s\u2080 + b\u2080\u22c5r\u2081 + b\u2081\u22c5r\u2080 + s\u2081) + s \u22c5(a\u2081\u22c5s\u2081 \n",
        "\n",
        "                                         2                                    \n",
        "+ a\u2082\u22c5s\u2080 + b\u2080\u22c5r\u2082 + b\u2081\u22c5r\u2081 + b\u2082\u22c5r\u2080 + s\u2082) + s \u22c5(a\u2081\u22c5s\u2082 + a\u2082\u22c5s\u2081 + a\u2083\u22c5s\u2080 + b\u2081\u22c5r\u2082 + b\u2082\n",
        "\n",
        "                                                \n",
        "\u22c5r\u2081 + b\u2083\u22c5r\u2080) + s\u22c5(a\u2082\u22c5s\u2082 + a\u2083\u22c5s\u2081 + b\u2082\u22c5r\u2082 + b\u2083\u22c5r\u2081)"
       ]
      }
     ],
     "prompt_number": 12
    },
    {
     "cell_type": "code",
     "collapsed": false,
     "input": [
      "qd0 = qd.coeff(s, 5)\n",
      "qd1 = qd.coeff(s, 4)\n",
      "qd2 = qd.coeff(s, 3)\n",
      "qd3 = qd.coeff(s, 2)\n",
      "qd4 = qd.coeff(s, 1)\n",
      "qd5 = qd.coeff(s, 0)"
     ],
     "language": "python",
     "metadata": {},
     "outputs": [],
     "prompt_number": 29
    },
    {
     "cell_type": "code",
     "collapsed": false,
     "input": [
      "S = Matrix([[1, 0, 0, b0, 0, 0],\n",
      "            [a1,  1, 0, b1, b0, 0],\n",
      "            [a2, a1, 1, b2, b1, b0],\n",
      "            [a3, a2, a1, b3, b2, b1],\n",
      "            [0, a3, a2, 0, b3, b2],\n",
      "            [0, 0, a3, 0, 0, b3]])\n",
      "S"
     ],
     "language": "python",
     "metadata": {},
     "outputs": [
      {
       "latex": [
        "$$\\left[\\begin{matrix}1 & 0 & 0 & b_{0} & 0 & 0\\\\a_{1} & 1 & 0 & b_{1} & b_{0} & 0\\\\a_{2} & a_{1} & 1 & b_{2} & b_{1} & b_{0}\\\\a_{3} & a_{2} & a_{1} & b_{3} & b_{2} & b_{1}\\\\0 & a_{3} & a_{2} & 0 & b_{3} & b_{2}\\\\0 & 0 & a_{3} & 0 & 0 & b_{3}\\end{matrix}\\right]$$"
       ],
       "metadata": {},
       "output_type": "pyout",
       "png": "[encoded data removed]",
       "prompt_number": 30,
       "text": [
        "\u23a11   0   0   b\u2080  0   0 \u23a4\n",
        "\u23a2                      \u23a5\n",
        "\u23a2a\u2081  1   0   b\u2081  b\u2080  0 \u23a5\n",
        "\u23a2                      \u23a5\n",
        "\u23a2a\u2082  a\u2081  1   b\u2082  b\u2081  b\u2080\u23a5\n",
        "\u23a2                      \u23a5\n",
        "\u23a2a\u2083  a\u2082  a\u2081  b\u2083  b\u2082  b\u2081\u23a5\n",
        "\u23a2                      \u23a5\n",
        "\u23a20   a\u2083  a\u2082  0   b\u2083  b\u2082\u23a5\n",
        "\u23a2                      \u23a5\n",
        "\u23a30   0   a\u2083  0   0   b\u2083\u23a6"
       ]
      }
     ],
     "prompt_number": 30
    },
    {
     "cell_type": "code",
     "collapsed": false,
     "input": [
      "SR = Matrix([[s0], [s1], [s2], [r0], [r1], [r2]])\n",
      "SR"
     ],
     "language": "python",
     "metadata": {},
     "outputs": [
      {
       "latex": [
        "$$\\left[\\begin{matrix}s_{0}\\\\s_{1}\\\\s_{2}\\\\r_{0}\\\\r_{1}\\\\r_{2}\\end{matrix}\\right]$$"
       ],
       "metadata": {},
       "output_type": "pyout",
       "png": "[encoded data removed]",
       "prompt_number": 31,
       "text": [
        "\u23a1s\u2080\u23a4\n",
        "\u23a2  \u23a5\n",
        "\u23a2s\u2081\u23a5\n",
        "\u23a2  \u23a5\n",
        "\u23a2s\u2082\u23a5\n",
        "\u23a2  \u23a5\n",
        "\u23a2r\u2080\u23a5\n",
        "\u23a2  \u23a5\n",
        "\u23a2r\u2081\u23a5\n",
        "\u23a2  \u23a5\n",
        "\u23a3r\u2082\u23a6"
       ]
      }
     ],
     "prompt_number": 31
    },
    {
     "cell_type": "code",
     "collapsed": false,
     "input": [
      "S*SR"
     ],
     "language": "python",
     "metadata": {},
     "outputs": [
      {
       "latex": [
        "$$\\left[\\begin{matrix}b_{0} r_{0} + s_{0}\\\\a_{1} s_{0} + b_{0} r_{1} + b_{1} r_{0} + s_{1}\\\\a_{1} s_{1} + a_{2} s_{0} + b_{0} r_{2} + b_{1} r_{1} + b_{2} r_{0} + s_{2}\\\\a_{1} s_{2} + a_{2} s_{1} + a_{3} s_{0} + b_{1} r_{2} + b_{2} r_{1} + b_{3} r_{0}\\\\a_{2} s_{2} + a_{3} s_{1} + b_{2} r_{2} + b_{3} r_{1}\\\\a_{3} s_{2} + b_{3} r_{2}\\end{matrix}\\right]$$"
       ],
       "metadata": {},
       "output_type": "pyout",
       "png": "[encoded data removed]",
       "prompt_number": 32,
       "text": [
        "\u23a1                 b\u2080\u22c5r\u2080 + s\u2080                  \u23a4\n",
        "\u23a2                                             \u23a5\n",
        "\u23a2         a\u2081\u22c5s\u2080 + b\u2080\u22c5r\u2081 + b\u2081\u22c5r\u2080 + s\u2081          \u23a5\n",
        "\u23a2                                             \u23a5\n",
        "\u23a2 a\u2081\u22c5s\u2081 + a\u2082\u22c5s\u2080 + b\u2080\u22c5r\u2082 + b\u2081\u22c5r\u2081 + b\u2082\u22c5r\u2080 + s\u2082  \u23a5\n",
        "\u23a2                                             \u23a5\n",
        "\u23a2a\u2081\u22c5s\u2082 + a\u2082\u22c5s\u2081 + a\u2083\u22c5s\u2080 + b\u2081\u22c5r\u2082 + b\u2082\u22c5r\u2081 + b\u2083\u22c5r\u2080\u23a5\n",
        "\u23a2                                             \u23a5\n",
        "\u23a2        a\u2082\u22c5s\u2082 + a\u2083\u22c5s\u2081 + b\u2082\u22c5r\u2082 + b\u2083\u22c5r\u2081        \u23a5\n",
        "\u23a2                                             \u23a5\n",
        "\u23a3                a\u2083\u22c5s\u2082 + b\u2083\u22c5r\u2082                \u23a6"
       ]
      }
     ],
     "prompt_number": 32
    },
    {
     "cell_type": "code",
     "collapsed": false,
     "input": [
      "QD = Matrix([[qd0], [qd1], [qd2], [qd3], [qd4], [qd5]])\n",
      "QD"
     ],
     "language": "python",
     "metadata": {},
     "outputs": [
      {
       "latex": [
        "$$\\left[\\begin{matrix}b_{0} r_{0} + s_{0}\\\\a_{1} s_{0} + b_{0} r_{1} + b_{1} r_{0} + s_{1}\\\\a_{1} s_{1} + a_{2} s_{0} + b_{0} r_{2} + b_{1} r_{1} + b_{2} r_{0} + s_{2}\\\\a_{1} s_{2} + a_{2} s_{1} + a_{3} s_{0} + b_{1} r_{2} + b_{2} r_{1} + b_{3} r_{0}\\\\a_{2} s_{2} + a_{3} s_{1} + b_{2} r_{2} + b_{3} r_{1}\\\\a_{3} s_{2} + b_{3} r_{2}\\end{matrix}\\right]$$"
       ],
       "metadata": {},
       "output_type": "pyout",
       "png": "[encoded data removed]",
       "prompt_number": 33,
       "text": [
        "\u23a1                 b\u2080\u22c5r\u2080 + s\u2080                  \u23a4\n",
        "\u23a2                                             \u23a5\n",
        "\u23a2         a\u2081\u22c5s\u2080 + b\u2080\u22c5r\u2081 + b\u2081\u22c5r\u2080 + s\u2081          \u23a5\n",
        "\u23a2                                             \u23a5\n",
        "\u23a2 a\u2081\u22c5s\u2081 + a\u2082\u22c5s\u2080 + b\u2080\u22c5r\u2082 + b\u2081\u22c5r\u2081 + b\u2082\u22c5r\u2080 + s\u2082  \u23a5\n",
        "\u23a2                                             \u23a5\n",
        "\u23a2a\u2081\u22c5s\u2082 + a\u2082\u22c5s\u2081 + a\u2083\u22c5s\u2080 + b\u2081\u22c5r\u2082 + b\u2082\u22c5r\u2081 + b\u2083\u22c5r\u2080\u23a5\n",
        "\u23a2                                             \u23a5\n",
        "\u23a2        a\u2082\u22c5s\u2082 + a\u2083\u22c5s\u2081 + b\u2082\u22c5r\u2082 + b\u2083\u22c5r\u2081        \u23a5\n",
        "\u23a2                                             \u23a5\n",
        "\u23a3                a\u2083\u22c5s\u2082 + b\u2083\u22c5r\u2082                \u23a6"
       ]
      }
     ],
     "prompt_number": 33
    },
    {
     "cell_type": "code",
     "collapsed": false,
     "input": [
      "Sm1 = S.inv()"
     ],
     "language": "python",
     "metadata": {},
     "outputs": [],
     "prompt_number": 5
    }
   ],
   "metadata": {}
  }
 ]
}