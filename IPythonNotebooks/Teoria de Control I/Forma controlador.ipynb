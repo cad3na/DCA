{
 "metadata": {
  "name": "",
  "signature": "sha256:4deda1682f6bd85addf331cc8f6b6b6fd8a61d705412315c5ba11b2ed279e11d"
 },
 "nbformat": 3,
 "nbformat_minor": 0,
 "worksheets": [
  {
   "cells": [
    {
     "cell_type": "markdown",
     "metadata": {},
     "source": [
      "Un sistema de orden $4$ se puede escribir en su forma controlador de la siguiente manera:\n",
      "\n",
      "$$\n",
      "\\frac{d}{dt} x_c =\n",
      "\\begin{pmatrix}\n",
      "0 & 1 & 0 & 0 \\\\\n",
      "0 & 0 & 1 & 0 \\\\\n",
      "0 & 0 & 0 & 1 \\\\\n",
      "-a_4 & -a_3 & -a_2 & -a_1\n",
      "\\end{pmatrix} x_c +\n",
      "\\begin{pmatrix}\n",
      "0 \\\\\n",
      "0 \\\\\n",
      "0 \\\\\n",
      "1\n",
      "\\end{pmatrix} u\n",
      "$$\n"
     ]
    },
    {
     "cell_type": "code",
     "collapsed": false,
     "input": [
      "from sympy import init_printing\n",
      "init_printing()"
     ],
     "language": "python",
     "metadata": {},
     "outputs": [],
     "prompt_number": 1
    },
    {
     "cell_type": "code",
     "collapsed": false,
     "input": [
      "from sympy import Matrix, var, eye, collect, expand"
     ],
     "language": "python",
     "metadata": {},
     "outputs": [],
     "prompt_number": 49
    },
    {
     "cell_type": "code",
     "collapsed": false,
     "input": [
      "var(\"s, a1, a2, a3, a4, p1, p2, p3, p4\")"
     ],
     "language": "python",
     "metadata": {},
     "outputs": [
      {
       "latex": [
        "$$\\begin{pmatrix}s, & a_{1}, & a_{2}, & a_{3}, & a_{4}, & p_{1}, & p_{2}, & p_{3}, & p_{4}\\end{pmatrix}$$"
       ],
       "metadata": {},
       "output_type": "pyout",
       "png": "[encoded data removed]",
       "prompt_number": 14,
       "text": [
        "(s, a\u2081, a\u2082, a\u2083, a\u2084, p\u2081, p\u2082, p\u2083, p\u2084)"
       ]
      }
     ],
     "prompt_number": 14
    },
    {
     "cell_type": "code",
     "collapsed": false,
     "input": [
      "Ac = Matrix([[0, 1, 0, 0], [0, 0, 1, 0], [0, 0, 0, 1], [-a4, -a3, -a2, -a1]])\n",
      "bc = Matrix([[0],[0],[0],[1]])"
     ],
     "language": "python",
     "metadata": {},
     "outputs": [],
     "prompt_number": 12
    },
    {
     "cell_type": "code",
     "collapsed": false,
     "input": [
      "Ac"
     ],
     "language": "python",
     "metadata": {},
     "outputs": [
      {
       "latex": [
        "$$\\left[\\begin{matrix}0 & 1 & 0 & 0\\\\0 & 0 & 1 & 0\\\\0 & 0 & 0 & 1\\\\- a_{4} & - a_{3} & - a_{2} & - a_{1}\\end{matrix}\\right]$$"
       ],
       "metadata": {},
       "output_type": "pyout",
       "png": "[encoded data removed]",
       "prompt_number": 6,
       "text": [
        "\u23a1 0    1    0    0 \u23a4\n",
        "\u23a2                  \u23a5\n",
        "\u23a2 0    0    1    0 \u23a5\n",
        "\u23a2                  \u23a5\n",
        "\u23a2 0    0    0    1 \u23a5\n",
        "\u23a2                  \u23a5\n",
        "\u23a3-a\u2084  -a\u2083  -a\u2082  -a\u2081\u23a6"
       ]
      }
     ],
     "prompt_number": 6
    },
    {
     "cell_type": "code",
     "collapsed": false,
     "input": [
      "(s*eye(4) - Ac).det()"
     ],
     "language": "python",
     "metadata": {},
     "outputs": [
      {
       "latex": [
        "$$a_{1} s^{3} + a_{2} s^{2} + a_{3} s + a_{4} + s^{4}$$"
       ],
       "metadata": {},
       "output_type": "pyout",
       "png": "[encoded data removed]",
       "prompt_number": 11,
       "text": [
        "    3       2                4\n",
        "a\u2081\u22c5s  + a\u2082\u22c5s  + a\u2083\u22c5s + a\u2084 + s "
       ]
      }
     ],
     "prompt_number": 11
    },
    {
     "cell_type": "markdown",
     "metadata": {},
     "source": [
      "Este es el polinomio caracteristico del sistema:\n",
      "\n",
      "$$\n",
      "\\det{(sI - A_c)} = s^4 + a_1 s^3 + a_2 s^2 + a_3 s + a_4\n",
      "$$\n",
      "\n",
      "Tambien podemos definir una retroalimentaci\u00f3n de estado:\n",
      "\n",
      "$$\n",
      "u = f_c x_c + v\n",
      "$$\n",
      "\n",
      "en donde\n",
      "\n",
      "$$\n",
      "f_c =\n",
      "\\begin{pmatrix}\n",
      "a_4 - \\bar{a}_4 & a_3 - \\bar{a}_3 & a_2 - \\bar{a}_2 & a_1 - \\bar{a}_1\n",
      "\\end{pmatrix}\n",
      "$$\n",
      "\n",
      "La ecuaci\u00f3n de estado del sistema retroalimentada quedar\u00eda:\n",
      "\n",
      "$$\n",
      "\\frac{d}{dt} x_c = A_{f_c} x_c + b_c v\n",
      "$$\n",
      "\n",
      "donde $A_{f_c} = A_c + b_c f_c$"
     ]
    },
    {
     "cell_type": "code",
     "collapsed": false,
     "input": [
      "fc = Matrix([[a4-p4, a3-p3, a2-p2, a1-p1]])"
     ],
     "language": "python",
     "metadata": {},
     "outputs": [],
     "prompt_number": 22
    },
    {
     "cell_type": "code",
     "collapsed": false,
     "input": [
      "Afc = Ac + bc*fc"
     ],
     "language": "python",
     "metadata": {},
     "outputs": [],
     "prompt_number": 23
    },
    {
     "cell_type": "code",
     "collapsed": false,
     "input": [
      "Afc"
     ],
     "language": "python",
     "metadata": {},
     "outputs": [
      {
       "latex": [
        "$$\\left[\\begin{matrix}0 & 1 & 0 & 0\\\\0 & 0 & 1 & 0\\\\0 & 0 & 0 & 1\\\\- p_{4} & - p_{3} & - p_{2} & - p_{1}\\end{matrix}\\right]$$"
       ],
       "metadata": {},
       "output_type": "pyout",
       "png": "[encoded data removed]",
       "prompt_number": 24,
       "text": [
        "\u23a1 0    1    0    0 \u23a4\n",
        "\u23a2                  \u23a5\n",
        "\u23a2 0    0    1    0 \u23a5\n",
        "\u23a2                  \u23a5\n",
        "\u23a2 0    0    0    1 \u23a5\n",
        "\u23a2                  \u23a5\n",
        "\u23a3-p\u2084  -p\u2083  -p\u2082  -p\u2081\u23a6"
       ]
      }
     ],
     "prompt_number": 24
    },
    {
     "cell_type": "markdown",
     "metadata": {},
     "source": [
      "y su polinomio caracteristico es:"
     ]
    },
    {
     "cell_type": "code",
     "collapsed": false,
     "input": [
      "(s*eye(4) - Afc).det()"
     ],
     "language": "python",
     "metadata": {},
     "outputs": [
      {
       "latex": [
        "$$p_{1} s^{3} + p_{2} s^{2} + p_{3} s + p_{4} + s^{4}$$"
       ],
       "metadata": {},
       "output_type": "pyout",
       "png": "[encoded data removed]",
       "prompt_number": 25,
       "text": [
        "    3       2                4\n",
        "p\u2081\u22c5s  + p\u2082\u22c5s  + p\u2083\u22c5s + p\u2084 + s "
       ]
      }
     ],
     "prompt_number": 25
    },
    {
     "cell_type": "markdown",
     "metadata": {},
     "source": [
      "La matriz de controlabilidad del par $(A_c, b_c)$ es:"
     ]
    },
    {
     "cell_type": "code",
     "collapsed": false,
     "input": [
      "CAcbc = ((bc.row_join(Ac*bc)).row_join(Ac*Ac*bc)).row_join(Ac*Ac*Ac*bc)"
     ],
     "language": "python",
     "metadata": {},
     "outputs": [],
     "prompt_number": 37
    },
    {
     "cell_type": "code",
     "collapsed": false,
     "input": [
      "CAcbc"
     ],
     "language": "python",
     "metadata": {},
     "outputs": [
      {
       "latex": [
        "$$\\left[\\begin{matrix}0 & 0 & 0 & 1\\\\0 & 0 & 1 & - a_{1}\\\\0 & 1 & - a_{1} & a_{1}^{2} - a_{2}\\\\1 & - a_{1} & a_{1}^{2} - a_{2} & a_{1} a_{2} - a_{1} \\left(a_{1}^{2} - a_{2}\\right) - a_{3}\\end{matrix}\\right]$$"
       ],
       "metadata": {},
       "output_type": "pyout",
       "png": "[encoded data removed]",
       "prompt_number": 38,
       "text": [
        "\u23a10   0      0                  1             \u23a4\n",
        "\u23a2                                            \u23a5\n",
        "\u23a20   0      1                 -a\u2081            \u23a5\n",
        "\u23a2                                            \u23a5\n",
        "\u23a2                             2              \u23a5\n",
        "\u23a20   1     -a\u2081              a\u2081  - a\u2082         \u23a5\n",
        "\u23a2                                            \u23a5\n",
        "\u23a2          2                  \u239b  2     \u239e     \u23a5\n",
        "\u23a31  -a\u2081  a\u2081  - a\u2082  a\u2081\u22c5a\u2082 - a\u2081\u22c5\u239da\u2081  - a\u2082\u23a0 - a\u2083\u23a6"
       ]
      }
     ],
     "prompt_number": 38
    },
    {
     "cell_type": "markdown",
     "metadata": {},
     "source": [
      "y su determinante es:"
     ]
    },
    {
     "cell_type": "code",
     "collapsed": false,
     "input": [
      "CAcbc.det()"
     ],
     "language": "python",
     "metadata": {},
     "outputs": [
      {
       "latex": [
        "$$1$$"
       ],
       "metadata": {},
       "output_type": "pyout",
       "png": "[encoded data removed]",
       "prompt_number": 39,
       "text": [
        "1"
       ]
      }
     ],
     "prompt_number": 39
    },
    {
     "cell_type": "markdown",
     "metadata": {},
     "source": [
      "Si ahora analizamos la matriz de controlabilidad del sistema retroalimentado:\n",
      "\n"
     ]
    },
    {
     "cell_type": "code",
     "collapsed": false,
     "input": [
      "CAfcbc = ((bc.row_join(Afc*bc)).row_join(Afc*Afc*bc)).row_join(Afc*Afc*Afc*bc)"
     ],
     "language": "python",
     "metadata": {},
     "outputs": [],
     "prompt_number": 40
    },
    {
     "cell_type": "code",
     "collapsed": false,
     "input": [
      "CAfcbc"
     ],
     "language": "python",
     "metadata": {},
     "outputs": [
      {
       "latex": [
        "$$\\left[\\begin{matrix}0 & 0 & 0 & 1\\\\0 & 0 & 1 & - p_{1}\\\\0 & 1 & - p_{1} & p_{1}^{2} - p_{2}\\\\1 & - p_{1} & p_{1}^{2} - p_{2} & p_{1} p_{2} - p_{1} \\left(p_{1}^{2} - p_{2}\\right) - p_{3}\\end{matrix}\\right]$$"
       ],
       "metadata": {},
       "output_type": "pyout",
       "png": "[encoded data removed]",
       "prompt_number": 41,
       "text": [
        "\u23a10   0      0                  1             \u23a4\n",
        "\u23a2                                            \u23a5\n",
        "\u23a20   0      1                 -p\u2081            \u23a5\n",
        "\u23a2                                            \u23a5\n",
        "\u23a2                             2              \u23a5\n",
        "\u23a20   1     -p\u2081              p\u2081  - p\u2082         \u23a5\n",
        "\u23a2                                            \u23a5\n",
        "\u23a2          2                  \u239b  2     \u239e     \u23a5\n",
        "\u23a31  -p\u2081  p\u2081  - p\u2082  p\u2081\u22c5p\u2082 - p\u2081\u22c5\u239dp\u2081  - p\u2082\u23a0 - p\u2083\u23a6"
       ]
      }
     ],
     "prompt_number": 41
    },
    {
     "cell_type": "markdown",
     "metadata": {},
     "source": [
      "Pero en general, podemos demostrar que la matriz de un sistema retroalimentado nos es mas que:\n",
      "\n",
      "$$\n",
      "C_{(A_f, b)} =\n",
      "\\begin{pmatrix}\n",
      "b & A_f b & \\dots & A_f^{n-1} b\n",
      "\\end{pmatrix} =\n",
      "\\begin{pmatrix}\n",
      "b & \\left( A + b f^T \\right) b & \\dots & \\left( A + b f^T \\right)^{n-1} b\n",
      "\\end{pmatrix}\n",
      "$$\n",
      "\n",
      "en donde los terminos van siendo:"
     ]
    },
    {
     "cell_type": "code",
     "collapsed": false,
     "input": [
      "var(\"A, b, f\")"
     ],
     "language": "python",
     "metadata": {},
     "outputs": [
      {
       "latex": [
        "$$\\begin{pmatrix}A, & b, & f\\end{pmatrix}$$"
       ],
       "metadata": {},
       "output_type": "pyout",
       "png": "[encoded data removed]",
       "prompt_number": 45,
       "text": [
        "(A, b, f)"
       ]
      }
     ],
     "prompt_number": 45
    },
    {
     "cell_type": "code",
     "collapsed": false,
     "input": [
      "b"
     ],
     "language": "python",
     "metadata": {},
     "outputs": [
      {
       "latex": [
        "$$b$$"
       ],
       "metadata": {},
       "output_type": "pyout",
       "png": "[encoded data removed]",
       "prompt_number": 46,
       "text": [
        "b"
       ]
      }
     ],
     "prompt_number": 46
    },
    {
     "cell_type": "code",
     "collapsed": false,
     "input": [
      "expand((A + b*f)*b)"
     ],
     "language": "python",
     "metadata": {},
     "outputs": [
      {
       "latex": [
        "$$A b + b^{2} f$$"
       ],
       "metadata": {},
       "output_type": "pyout",
       "png": "[encoded data removed]",
       "prompt_number": 56,
       "text": [
        "       2  \n",
        "A\u22c5b + b \u22c5f"
       ]
      }
     ],
     "prompt_number": 56
    },
    {
     "cell_type": "code",
     "collapsed": false,
     "input": [
      "expand((A + b*f)**2*b)"
     ],
     "language": "python",
     "metadata": {},
     "outputs": [
      {
       "latex": [
        "$$A^{2} b + 2 A b^{2} f + b^{3} f^{2}$$"
       ],
       "metadata": {},
       "output_type": "pyout",
       "png": "[encoded data removed]",
       "prompt_number": 51,
       "text": [
        " 2          2      3  2\n",
        "A \u22c5b + 2\u22c5A\u22c5b \u22c5f + b \u22c5f "
       ]
      }
     ],
     "prompt_number": 51
    },
    {
     "cell_type": "code",
     "collapsed": false,
     "input": [
      "expand((A + b*f)**3*b)"
     ],
     "language": "python",
     "metadata": {},
     "outputs": [
      {
       "latex": [
        "$$A^{3} b + 3 A^{2} b^{2} f + 3 A b^{3} f^{2} + b^{4} f^{3}$$"
       ],
       "metadata": {},
       "output_type": "pyout",
       "png": "[encoded data removed]",
       "prompt_number": 57,
       "text": [
        " 3        2  2          3  2    4  3\n",
        "A \u22c5b + 3\u22c5A \u22c5b \u22c5f + 3\u22c5A\u22c5b \u22c5f  + b \u22c5f "
       ]
      }
     ],
     "prompt_number": 57
    },
    {
     "cell_type": "markdown",
     "metadata": {},
     "source": [
      "Lo que en general, podemos ver como:\n",
      "\n",
      "$$\n",
      "C_{(A_f, b)} =\n",
      "\\begin{pmatrix}\n",
      "b & A b & \\dots & A^{n-1} b\n",
      "\\end{pmatrix} X\n",
      "$$\n",
      "\n",
      "donde $X$ tiene que ser de la forma:\n",
      "\n",
      "$$\n",
      "X =\n",
      "\\begin{pmatrix}\n",
      "1 & b f & b^2 f^2 & b^3 f^3 \\\\\n",
      "0 & 1 & b f & b^2 f^2\\\\\n",
      "0 & 0 & 1 & b f \\\\\n",
      "0 & 0 & 0 & 1\n",
      "\\end{pmatrix}\n",
      "$$"
     ]
    },
    {
     "cell_type": "code",
     "collapsed": false,
     "input": [
      "X = Matrix([[1, b*f, b**2*f**2 , b**3*f**3], [0, 1, b*f, b**2*f**2], [0, 0, 1, b*f], [0, 0, 0, 1]])"
     ],
     "language": "python",
     "metadata": {},
     "outputs": [],
     "prompt_number": 58
    },
    {
     "cell_type": "code",
     "collapsed": false,
     "input": [
      "X"
     ],
     "language": "python",
     "metadata": {},
     "outputs": [
      {
       "latex": [
        "$$\\left[\\begin{matrix}1 & b f & b^{2} f^{2} & b^{3} f^{3}\\\\0 & 1 & b f & b^{2} f^{2}\\\\0 & 0 & 1 & b f\\\\0 & 0 & 0 & 1\\end{matrix}\\right]$$"
       ],
       "metadata": {},
       "output_type": "pyout",
       "png": "[encoded data removed]",
       "prompt_number": 59,
       "text": [
        "\u23a1         2  2   3  3\u23a4\n",
        "\u23a21  b\u22c5f  b \u22c5f   b \u22c5f \u23a5\n",
        "\u23a2                    \u23a5\n",
        "\u23a2                2  2\u23a5\n",
        "\u23a20   1    b\u22c5f   b \u22c5f \u23a5\n",
        "\u23a2                    \u23a5\n",
        "\u23a20   0     1     b\u22c5f \u23a5\n",
        "\u23a2                    \u23a5\n",
        "\u23a30   0     0      1  \u23a6"
       ]
      }
     ],
     "prompt_number": 59
    },
    {
     "cell_type": "code",
     "collapsed": false,
     "input": [
      "CAb = Matrix([[b, A*b, A**2*b, A**3*b]])"
     ],
     "language": "python",
     "metadata": {},
     "outputs": [],
     "prompt_number": 60
    },
    {
     "cell_type": "code",
     "collapsed": false,
     "input": [
      "CAb"
     ],
     "language": "python",
     "metadata": {},
     "outputs": [
      {
       "latex": [
        "$$\\left[\\begin{matrix}b & A b & A^{2} b & A^{3} b\\end{matrix}\\right]$$"
       ],
       "metadata": {},
       "output_type": "pyout",
       "png": "[encoded data removed]",
       "prompt_number": 61,
       "text": [
        "\u23a1         2     3  \u23a4\n",
        "\u23a3b  A\u22c5b  A \u22c5b  A \u22c5b\u23a6"
       ]
      }
     ],
     "prompt_number": 61
    },
    {
     "cell_type": "code",
     "collapsed": false,
     "input": [
      "CAb*X"
     ],
     "language": "python",
     "metadata": {},
     "outputs": [
      {
       "latex": [
        "$$\\left[\\begin{matrix}b & A b + b^{2} f & A^{2} b + A b^{2} f + b^{3} f^{2} & A^{3} b + A^{2} b^{2} f + A b^{3} f^{2} + b^{4} f^{3}\\end{matrix}\\right]$$"
       ],
       "metadata": {},
       "output_type": "pyout",
       "png": "[encoded data removed]",
       "prompt_number": 62,
       "text": [
        "\u23a1          2     2        2      3  2   3      2  2        3  2    4  3\u23a4\n",
        "\u23a3b  A\u22c5b + b \u22c5f  A \u22c5b + A\u22c5b \u22c5f + b \u22c5f   A \u22c5b + A \u22c5b \u22c5f + A\u22c5b \u22c5f  + b \u22c5f \u23a6"
       ]
      }
     ],
     "prompt_number": 62
    },
    {
     "cell_type": "markdown",
     "metadata": {},
     "source": [
      "Y como habiamos visto anteriormente, el determinante de esta matriz, no cambiar\u00e1:"
     ]
    },
    {
     "cell_type": "code",
     "collapsed": false,
     "input": [
      "CAfcbc.det()"
     ],
     "language": "python",
     "metadata": {},
     "outputs": [
      {
       "latex": [
        "$$1$$"
       ],
       "metadata": {},
       "output_type": "pyout",
       "png": "[encoded data removed]",
       "prompt_number": 63,
       "text": [
        "1"
       ]
      }
     ],
     "prompt_number": 63
    }
   ],
   "metadata": {}
  }
 ]
}