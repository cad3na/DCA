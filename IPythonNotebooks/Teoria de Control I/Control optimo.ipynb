{
 "metadata": {
  "name": "",
  "signature": "sha256:590e04947cba23af0603c2ce47be415ff522cc9a660bc2847d9aa13767b1d2cc"
 },
 "nbformat": 3,
 "nbformat_minor": 0,
 "worksheets": [
  {
   "cells": [
    {
     "cell_type": "code",
     "collapsed": false,
     "input": [
      "%matplotlib inline\n",
      "from sympy import var, Matrix, eye, init_printing, roots\n",
      "init_printing()"
     ],
     "language": "python",
     "metadata": {},
     "outputs": [],
     "prompt_number": 1
    },
    {
     "cell_type": "code",
     "collapsed": false,
     "input": [
      "var(\"a:5\")\n",
      "var(\"b:5\")\n",
      "var(\"s\");"
     ],
     "language": "python",
     "metadata": {},
     "outputs": [],
     "prompt_number": 2
    },
    {
     "cell_type": "code",
     "collapsed": false,
     "input": [
      "A = Matrix([[0, 1, 0], [0, 0 , 1], [0, 0, 0]])\n",
      "b = Matrix([[0], [0], [1]])\n",
      "c = Matrix([[-1], [0], [1]])\n",
      "x0 = Matrix([[1], [0], [0]])"
     ],
     "language": "python",
     "metadata": {},
     "outputs": [],
     "prompt_number": 3
    },
    {
     "cell_type": "code",
     "collapsed": false,
     "input": [
      "FT = c.T*(s*eye(3) - A).inv()*b\n",
      "FT[0].factor()"
     ],
     "language": "python",
     "metadata": {},
     "outputs": [
      {
       "latex": [
        "$$\\frac{1}{s^{3}} \\left(s - 1\\right) \\left(s + 1\\right)$$"
       ],
       "metadata": {},
       "output_type": "pyout",
       "png": "[encoded data removed]",
       "prompt_number": 4,
       "text": [
        "(s - 1)\u22c5(s + 1)\n",
        "\u2500\u2500\u2500\u2500\u2500\u2500\u2500\u2500\u2500\u2500\u2500\u2500\u2500\u2500\u2500\n",
        "        3      \n",
        "       s       "
       ]
      }
     ],
     "prompt_number": 4
    },
    {
     "cell_type": "code",
     "collapsed": false,
     "input": [
      "A.eigenvals()"
     ],
     "language": "python",
     "metadata": {},
     "outputs": [
      {
       "latex": [
        "$$\\begin{Bmatrix}0 : 3\\end{Bmatrix}$$"
       ],
       "metadata": {},
       "output_type": "pyout",
       "png": "[encoded data removed]",
       "prompt_number": 5,
       "text": [
        "{0: 3}"
       ]
      }
     ],
     "prompt_number": 5
    },
    {
     "cell_type": "code",
     "collapsed": false,
     "input": [
      "MS = (s*eye(3) - A).row_join(b).col_join(-c.T.row_join(Matrix([[0]])))\n",
      "MS"
     ],
     "language": "python",
     "metadata": {},
     "outputs": [
      {
       "latex": [
        "$$\\left[\\begin{matrix}s & -1 & 0 & 0\\\\0 & s & -1 & 0\\\\0 & 0 & s & 1\\\\1 & 0 & -1 & 0\\end{matrix}\\right]$$"
       ],
       "metadata": {},
       "output_type": "pyout",
       "png": "[encoded data removed]",
       "prompt_number": 6,
       "text": [
        "\u23a1s  -1  0   0\u23a4\n",
        "\u23a2            \u23a5\n",
        "\u23a20  s   -1  0\u23a5\n",
        "\u23a2            \u23a5\n",
        "\u23a20  0   s   1\u23a5\n",
        "\u23a2            \u23a5\n",
        "\u23a31  0   -1  0\u23a6"
       ]
      }
     ],
     "prompt_number": 6
    },
    {
     "cell_type": "code",
     "collapsed": false,
     "input": [
      "pMS = MS.det()\n",
      "pMS.factor()"
     ],
     "language": "python",
     "metadata": {},
     "outputs": [
      {
       "latex": [
        "$$\\left(s - 1\\right) \\left(s + 1\\right)$$"
       ],
       "metadata": {},
       "output_type": "pyout",
       "png": "[encoded data removed]",
       "prompt_number": 7,
       "text": [
        "(s - 1)\u22c5(s + 1)"
       ]
      }
     ],
     "prompt_number": 7
    },
    {
     "cell_type": "code",
     "collapsed": false,
     "input": [
      "C = (b.row_join(A*b)).row_join(A*A*b)\n",
      "C"
     ],
     "language": "python",
     "metadata": {},
     "outputs": [
      {
       "latex": [
        "$$\\left[\\begin{matrix}0 & 0 & 1\\\\0 & 1 & 0\\\\1 & 0 & 0\\end{matrix}\\right]$$"
       ],
       "metadata": {},
       "output_type": "pyout",
       "png": "[encoded data removed]",
       "prompt_number": 8,
       "text": [
        "\u23a10  0  1\u23a4\n",
        "\u23a2       \u23a5\n",
        "\u23a20  1  0\u23a5\n",
        "\u23a2       \u23a5\n",
        "\u23a31  0  0\u23a6"
       ]
      }
     ],
     "prompt_number": 8
    },
    {
     "cell_type": "code",
     "collapsed": false,
     "input": [
      "C.det()"
     ],
     "language": "python",
     "metadata": {},
     "outputs": [
      {
       "latex": [
        "$$-1$$"
       ],
       "metadata": {},
       "output_type": "pyout",
       "png": "[encoded data removed]",
       "prompt_number": 9,
       "text": [
        "-1"
       ]
      }
     ],
     "prompt_number": 9
    },
    {
     "cell_type": "code",
     "collapsed": false,
     "input": [
      "O = c.T.col_join((c.T*A).col_join(c.T*A*A))\n",
      "O"
     ],
     "language": "python",
     "metadata": {},
     "outputs": [
      {
       "latex": [
        "$$\\left[\\begin{matrix}-1 & 0 & 1\\\\0 & -1 & 0\\\\0 & 0 & -1\\end{matrix}\\right]$$"
       ],
       "metadata": {},
       "output_type": "pyout",
       "png": "[encoded data removed]",
       "prompt_number": 10,
       "text": [
        "\u23a1-1  0   1 \u23a4\n",
        "\u23a2          \u23a5\n",
        "\u23a20   -1  0 \u23a5\n",
        "\u23a2          \u23a5\n",
        "\u23a30   0   -1\u23a6"
       ]
      }
     ],
     "prompt_number": 10
    },
    {
     "cell_type": "code",
     "collapsed": false,
     "input": [
      "O.det()"
     ],
     "language": "python",
     "metadata": {},
     "outputs": [
      {
       "latex": [
        "$$-1$$"
       ],
       "metadata": {},
       "output_type": "pyout",
       "png": "[encoded data removed]",
       "prompt_number": 11,
       "text": [
        "-1"
       ]
      }
     ],
     "prompt_number": 11
    },
    {
     "cell_type": "code",
     "collapsed": false,
     "input": [
      "((s+1)**3).expand()"
     ],
     "language": "python",
     "metadata": {},
     "outputs": [
      {
       "latex": [
        "$$s^{3} + 3 s^{2} + 3 s + 1$$"
       ],
       "metadata": {},
       "output_type": "pyout",
       "png": "[encoded data removed]",
       "prompt_number": 12,
       "text": [
        " 3      2          \n",
        "s  + 3\u22c5s  + 3\u22c5s + 1"
       ]
      }
     ],
     "prompt_number": 12
    },
    {
     "cell_type": "code",
     "collapsed": false,
     "input": [
      "fp = Matrix([[-1], [-3], [-3]])\n",
      "fp"
     ],
     "language": "python",
     "metadata": {},
     "outputs": [
      {
       "latex": [
        "$$\\left[\\begin{matrix}-1\\\\-3\\\\-3\\end{matrix}\\right]$$"
       ],
       "metadata": {},
       "output_type": "pyout",
       "png": "[encoded data removed]",
       "prompt_number": 13,
       "text": [
        "\u23a1-1\u23a4\n",
        "\u23a2  \u23a5\n",
        "\u23a2-3\u23a5\n",
        "\u23a2  \u23a5\n",
        "\u23a3-3\u23a6"
       ]
      }
     ],
     "prompt_number": 13
    },
    {
     "cell_type": "code",
     "collapsed": false,
     "input": [
      "Afp = A + b*fp.T\n",
      "Afp"
     ],
     "language": "python",
     "metadata": {},
     "outputs": [
      {
       "latex": [
        "$$\\left[\\begin{matrix}0 & 1 & 0\\\\0 & 0 & 1\\\\-1 & -3 & -3\\end{matrix}\\right]$$"
       ],
       "metadata": {},
       "output_type": "pyout",
       "png": "[encoded data removed]",
       "prompt_number": 14,
       "text": [
        "\u23a10   1   0 \u23a4\n",
        "\u23a2          \u23a5\n",
        "\u23a20   0   1 \u23a5\n",
        "\u23a2          \u23a5\n",
        "\u23a3-1  -3  -3\u23a6"
       ]
      }
     ],
     "prompt_number": 14
    },
    {
     "cell_type": "code",
     "collapsed": false,
     "input": [
      "Afp.eigenvals()"
     ],
     "language": "python",
     "metadata": {},
     "outputs": [
      {
       "latex": [
        "$$\\begin{Bmatrix}-1 : 3\\end{Bmatrix}$$"
       ],
       "metadata": {},
       "output_type": "pyout",
       "png": "[encoded data removed]",
       "prompt_number": 15,
       "text": [
        "{-1: 3}"
       ]
      }
     ],
     "prompt_number": 15
    },
    {
     "cell_type": "code",
     "collapsed": false,
     "input": [
      "MSp = (s*eye(3) - Afp).row_join(b).col_join(-c.T.row_join(Matrix([[0]])))\n",
      "MSp"
     ],
     "language": "python",
     "metadata": {},
     "outputs": [
      {
       "latex": [
        "$$\\left[\\begin{matrix}s & -1 & 0 & 0\\\\0 & s & -1 & 0\\\\1 & 3 & s + 3 & 1\\\\1 & 0 & -1 & 0\\end{matrix}\\right]$$"
       ],
       "metadata": {},
       "output_type": "pyout",
       "png": "[encoded data removed]",
       "prompt_number": 16,
       "text": [
        "\u23a1s  -1    0    0\u23a4\n",
        "\u23a2               \u23a5\n",
        "\u23a20  s    -1    0\u23a5\n",
        "\u23a2               \u23a5\n",
        "\u23a21  3   s + 3  1\u23a5\n",
        "\u23a2               \u23a5\n",
        "\u23a31  0    -1    0\u23a6"
       ]
      }
     ],
     "prompt_number": 16
    },
    {
     "cell_type": "code",
     "collapsed": false,
     "input": [
      "pMS = MS.det()\n",
      "pMS.factor()"
     ],
     "language": "python",
     "metadata": {},
     "outputs": [
      {
       "latex": [
        "$$\\left(s - 1\\right) \\left(s + 1\\right)$$"
       ],
       "metadata": {},
       "output_type": "pyout",
       "png": "[encoded data removed]",
       "prompt_number": 17,
       "text": [
        "(s - 1)\u22c5(s + 1)"
       ]
      }
     ],
     "prompt_number": 17
    },
    {
     "cell_type": "code",
     "collapsed": false,
     "input": [
      "Tp, Jp = Afp.jordan_form()\n",
      "Jp"
     ],
     "language": "python",
     "metadata": {},
     "outputs": [
      {
       "latex": [
        "$$\\left[\\begin{matrix}-1 & 1 & 0\\\\0 & -1 & 1\\\\0 & 0 & -1\\end{matrix}\\right]$$"
       ],
       "metadata": {},
       "output_type": "pyout",
       "png": "[encoded data removed]",
       "prompt_number": 18,
       "text": [
        "\u23a1-1  1   0 \u23a4\n",
        "\u23a2          \u23a5\n",
        "\u23a20   -1  1 \u23a5\n",
        "\u23a2          \u23a5\n",
        "\u23a30   0   -1\u23a6"
       ]
      }
     ],
     "prompt_number": 18
    },
    {
     "cell_type": "code",
     "collapsed": false,
     "input": [
      "bJp = Tp.inv()*b\n",
      "cJp = Tp.T*c"
     ],
     "language": "python",
     "metadata": {},
     "outputs": [],
     "prompt_number": 19
    },
    {
     "cell_type": "code",
     "collapsed": false,
     "input": [
      "MSp = (s*eye(3) - Jp).row_join(bJp).col_join(-cJp.T.row_join(Matrix([[0]])))\n",
      "MSp"
     ],
     "language": "python",
     "metadata": {},
     "outputs": [
      {
       "latex": [
        "$$\\left[\\begin{matrix}s + 1 & -1 & 0 & \\frac{1}{72}\\\\0 & s + 1 & -1 & - \\frac{1}{12}\\\\0 & 0 & s + 1 & \\frac{1}{6}\\\\0 & 12 & 0 & 0\\end{matrix}\\right]$$"
       ],
       "metadata": {},
       "output_type": "pyout",
       "png": "[encoded data removed]",
       "prompt_number": 20,
       "text": [
        "\u23a1s + 1   -1      0    1/72 \u23a4\n",
        "\u23a2                          \u23a5\n",
        "\u23a2  0    s + 1   -1    -1/12\u23a5\n",
        "\u23a2                          \u23a5\n",
        "\u23a2  0      0    s + 1   1/6 \u23a5\n",
        "\u23a2                          \u23a5\n",
        "\u23a3  0     12      0      0  \u23a6"
       ]
      }
     ],
     "prompt_number": 20
    },
    {
     "cell_type": "code",
     "collapsed": false,
     "input": [
      "FTp = cJp.T*(s*eye(3) - Jp).inv()*bJp\n",
      "FTp[0].factor()"
     ],
     "language": "python",
     "metadata": {},
     "outputs": [
      {
       "latex": [
        "$$\\frac{s - 1}{\\left(s + 1\\right)^{2}}$$"
       ],
       "metadata": {},
       "output_type": "pyout",
       "png": "[encoded data removed]",
       "prompt_number": 21,
       "text": [
        " s - 1  \n",
        "\u2500\u2500\u2500\u2500\u2500\u2500\u2500\u2500\n",
        "       2\n",
        "(s + 1) "
       ]
      }
     ],
     "prompt_number": 21
    },
    {
     "cell_type": "code",
     "collapsed": false,
     "input": [
      "Q = c*c.T\n",
      "Q"
     ],
     "language": "python",
     "metadata": {},
     "outputs": [
      {
       "latex": [
        "$$\\left[\\begin{matrix}1 & 0 & -1\\\\0 & 0 & 0\\\\-1 & 0 & 1\\end{matrix}\\right]$$"
       ],
       "metadata": {},
       "output_type": "pyout",
       "png": "[encoded data removed]",
       "prompt_number": 22,
       "text": [
        "\u23a11   0  -1\u23a4\n",
        "\u23a2         \u23a5\n",
        "\u23a20   0  0 \u23a5\n",
        "\u23a2         \u23a5\n",
        "\u23a3-1  0  1 \u23a6"
       ]
      }
     ],
     "prompt_number": 22
    },
    {
     "cell_type": "code",
     "collapsed": false,
     "input": [
      "Q.eigenvals()"
     ],
     "language": "python",
     "metadata": {},
     "outputs": [
      {
       "latex": [
        "$$\\begin{Bmatrix}0 : 2, & 2 : 1\\end{Bmatrix}$$"
       ],
       "metadata": {},
       "output_type": "pyout",
       "png": "[encoded data removed]",
       "prompt_number": 23,
       "text": [
        "{0: 2, 2: 1}"
       ]
      }
     ],
     "prompt_number": 23
    },
    {
     "cell_type": "code",
     "collapsed": false,
     "input": [
      "%matplotlib inline\n",
      "from matplotlib.pyplot import plot, figure, gca, legend, style"
     ],
     "language": "python",
     "metadata": {},
     "outputs": [],
     "prompt_number": 24
    },
    {
     "cell_type": "code",
     "collapsed": false,
     "input": [
      "from control import care, ss, forced_response, tf\n",
      "from numpy import matrix, eye, linspace, sign\n",
      "from numpy.linalg import eig, det"
     ],
     "language": "python",
     "metadata": {},
     "outputs": [],
     "prompt_number": 25
    },
    {
     "cell_type": "code",
     "collapsed": false,
     "input": [
      "r = 1"
     ],
     "language": "python",
     "metadata": {},
     "outputs": [],
     "prompt_number": 26
    },
    {
     "cell_type": "code",
     "collapsed": false,
     "input": [
      "A = matrix(A.tolist(), dtype=float)\n",
      "b = matrix(b.tolist(), dtype=float)\n",
      "c = matrix(c.tolist(), dtype=float)\n",
      "Q = matrix(Q.tolist(), dtype=float)\n",
      "cero = matrix([[0], [0], [0]])"
     ],
     "language": "python",
     "metadata": {},
     "outputs": [],
     "prompt_number": 27
    },
    {
     "cell_type": "code",
     "collapsed": false,
     "input": [
      "P, L, G = care(A=A, B=b, Q=Q, R=r, S=cero, E=eye(3))"
     ],
     "language": "python",
     "metadata": {},
     "outputs": [
      {
       "output_type": "stream",
       "stream": "stderr",
       "text": [
        "/Users/roberto/miniconda/lib/python2.7/site-packages/control/mateqn.py:464: FutureWarning: comparison to `None` will result in an elementwise object comparison in the future.\n",
        "  if S != None and len(shape(S)) == 1:\n",
        "/Users/roberto/miniconda/lib/python2.7/site-packages/control/mateqn.py:467: FutureWarning: comparison to `None` will result in an elementwise object comparison in the future.\n",
        "  if E != None and len(shape(E)) == 1:\n",
        "/Users/roberto/miniconda/lib/python2.7/site-packages/control/mateqn.py:484: FutureWarning: comparison to `None` will result in an elementwise object comparison in the future.\n",
        "  if S==None and E==None:\n",
        "/Users/roberto/miniconda/lib/python2.7/site-packages/control/mateqn.py:565: FutureWarning: comparison to `None` will result in an elementwise object comparison in the future.\n",
        "  elif S != None and E != None:\n"
       ]
      }
     ],
     "prompt_number": 28
    },
    {
     "cell_type": "code",
     "collapsed": false,
     "input": [
      "A.T*P + P*A - P*b*(b.T)*P + Q"
     ],
     "language": "python",
     "metadata": {},
     "outputs": [
      {
       "metadata": {},
       "output_type": "pyout",
       "prompt_number": 29,
       "text": [
        "matrix([[  3.55271368e-15,   6.66133815e-15,   2.66453526e-15],\n",
        "        [  6.66133815e-15,   9.76996262e-15,   3.55271368e-15],\n",
        "        [  2.66453526e-15,   3.55271368e-15,   8.88178420e-16]])"
       ]
      }
     ],
     "prompt_number": 29
    },
    {
     "cell_type": "code",
     "collapsed": false,
     "input": [
      "vals, vecs = eig(P)"
     ],
     "language": "python",
     "metadata": {},
     "outputs": [],
     "prompt_number": 30
    },
    {
     "cell_type": "code",
     "collapsed": false,
     "input": [
      "vals"
     ],
     "language": "python",
     "metadata": {},
     "outputs": [
      {
       "metadata": {},
       "output_type": "pyout",
       "prompt_number": 31,
       "text": [
        "array([ 9.12696152,  0.06789405,  1.61377159])"
       ]
      }
     ],
     "prompt_number": 31
    },
    {
     "cell_type": "code",
     "collapsed": false,
     "input": [
      "fo1 = matrix(G.T)\n",
      "fo1"
     ],
     "language": "python",
     "metadata": {},
     "outputs": [
      {
       "metadata": {},
       "output_type": "pyout",
       "prompt_number": 32,
       "text": [
        "matrix([[ 1.        ],\n",
        "        [ 2.64943591],\n",
        "        [ 2.50975533]])"
       ]
      }
     ],
     "prompt_number": 32
    },
    {
     "cell_type": "code",
     "collapsed": false,
     "input": [
      "(r*b.T*P).T"
     ],
     "language": "python",
     "metadata": {},
     "outputs": [
      {
       "metadata": {},
       "output_type": "pyout",
       "prompt_number": 33,
       "text": [
        "matrix([[ 1.        ],\n",
        "        [ 2.64943591],\n",
        "        [ 2.50975533]])"
       ]
      }
     ],
     "prompt_number": 33
    },
    {
     "cell_type": "code",
     "collapsed": false,
     "input": [
      "Afo1 = A - b*fo1.T\n",
      "Afo1"
     ],
     "language": "python",
     "metadata": {},
     "outputs": [
      {
       "metadata": {},
       "output_type": "pyout",
       "prompt_number": 34,
       "text": [
        "matrix([[ 0.        ,  1.        ,  0.        ],\n",
        "        [ 0.        ,  0.        ,  1.        ],\n",
        "        [-1.        , -2.64943591, -2.50975533]])"
       ]
      }
     ],
     "prompt_number": 34
    },
    {
     "cell_type": "code",
     "collapsed": false,
     "input": [
      "Afp = matrix(Afp.tolist(), dtype=float)\n",
      "Afp"
     ],
     "language": "python",
     "metadata": {},
     "outputs": [
      {
       "metadata": {},
       "output_type": "pyout",
       "prompt_number": 35,
       "text": [
        "matrix([[ 0.,  1.,  0.],\n",
        "        [ 0.,  0.,  1.],\n",
        "        [-1., -3., -3.]])"
       ]
      }
     ],
     "prompt_number": 35
    },
    {
     "cell_type": "code",
     "collapsed": false,
     "input": [
      "ssp = ss(Afp, b, c.T, 0)"
     ],
     "language": "python",
     "metadata": {},
     "outputs": [],
     "prompt_number": 36
    },
    {
     "cell_type": "code",
     "collapsed": false,
     "input": [
      "sso1 = ss(Afo1, b, c.T, 0)"
     ],
     "language": "python",
     "metadata": {},
     "outputs": [],
     "prompt_number": 37
    },
    {
     "cell_type": "code",
     "collapsed": false,
     "input": [
      "r=10\n",
      "P, L, G = care(A=A, B=b, Q=Q, R=r, S=cero, E=eye(3))\n",
      "fo2 = matrix(G.T)\n",
      "Afo2 = A - b*fo2.T\n",
      "sso2 = ss(Afo2, b, c.T, 0)"
     ],
     "language": "python",
     "metadata": {},
     "outputs": [],
     "prompt_number": 38
    },
    {
     "cell_type": "code",
     "collapsed": false,
     "input": [
      "r=0.1\n",
      "P, L, G = care(A=A, B=b, Q=Q, R=r, S=cero, E=eye(3))\n",
      "fo3 = matrix(G.T)\n",
      "Afo3 = A - b*fo3.T\n",
      "sso3 = ss(Afo3, b, c.T, 0)"
     ],
     "language": "python",
     "metadata": {},
     "outputs": [],
     "prompt_number": 39
    },
    {
     "cell_type": "code",
     "collapsed": false,
     "input": [
      "heavyside = lambda x: 0.5 * (sign(x) + 1)\n",
      "t = linspace(0, 10, 1000)\n",
      "v = heavyside(t)"
     ],
     "language": "python",
     "metadata": {},
     "outputs": [],
     "prompt_number": 40
    },
    {
     "cell_type": "code",
     "collapsed": false,
     "input": [
      "_,  yp,  xp = forced_response(ssp, T=t, U=v)\n",
      "_, yo1, xo1 = forced_response(sso1, T=t, U=v)\n",
      "_, yo2, xo2 = forced_response(sso2, T=t, U=v)\n",
      "_, yo3, xo3 = forced_response(sso3, T=t, U=v)\n",
      "\n",
      "up  = -xp.T*fp\n",
      "uo1 = xo1.T*fo1\n",
      "uo2 = xo2.T*fo2\n",
      "uo3 = xo3.T*fo3"
     ],
     "language": "python",
     "metadata": {},
     "outputs": [],
     "prompt_number": 41
    },
    {
     "cell_type": "code",
     "collapsed": false,
     "input": [
      "f = figure(figsize=(18, 7))\n",
      "style.use(\"ggplot\")\n",
      "p1, = plot(t, -yp)\n",
      "p2, = plot(t, -yo1)\n",
      "p3, = plot(t, -yo2)\n",
      "p4, = plot(t, -yo3)\n",
      "p5, = plot(t, v)\n",
      "\n",
      "ax = f.gca()\n",
      "ax.set_ylim(-1, 1.2);\n",
      "\n",
      "legend([p1, p2, p3, p4, p5], [r\"$y_p(t)$\", r\"$y_{O_1}(t)$\", r\"$y_{O_2}(t)$\", r\"$y_{O_3}(t)$\", r\"$\\delta$\"]);"
     ],
     "language": "python",
     "metadata": {},
     "outputs": [
      {
       "metadata": {},
       "output_type": "display_data",
       "png": "[encoded data removed]",
       "text": [
        "<matplotlib.figure.Figure at 0x108cf1590>"
       ]
      }
     ],
     "prompt_number": 42
    },
    {
     "cell_type": "code",
     "collapsed": false,
     "input": [
      "f = figure(figsize=(18, 7))\n",
      "style.use(\"ggplot\")\n",
      "p1, = plot(t, up)\n",
      "p2, = plot(t, uo1)\n",
      "p3, = plot(t, uo2)\n",
      "p4, = plot(t, uo3)\n",
      "\n",
      "ax = f.gca()\n",
      "ax.set_ylim(-0.2, 1.3);\n",
      "\n",
      "legend([p1, p2, p3, p4], [r\"$u_p(t)$\", r\"$u_{O_1}(t)$\", r\"$u_{O_2}(t)$\", r\"$u_{O_3}(t)$\"]);"
     ],
     "language": "python",
     "metadata": {},
     "outputs": [
      {
       "metadata": {},
       "output_type": "display_data",
       "png": "[encoded data removed]",
       "text": [
        "<matplotlib.figure.Figure at 0x108cf12d0>"
       ]
      }
     ],
     "prompt_number": 43
    }
   ],
   "metadata": {}
  }
 ]
}