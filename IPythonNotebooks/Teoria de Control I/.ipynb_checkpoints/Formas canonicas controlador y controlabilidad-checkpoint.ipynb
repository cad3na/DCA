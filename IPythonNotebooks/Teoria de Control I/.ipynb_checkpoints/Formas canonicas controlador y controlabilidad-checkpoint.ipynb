{
 "metadata": {
  "name": "",
  "signature": "sha256:8f1b35cdb9c12de586b6ee0dce6ebf95e91cc65039d8ce3b2581d2fda4baf653"
 },
 "nbformat": 3,
 "nbformat_minor": 0,
 "worksheets": [
  {
   "cells": [
    {
     "cell_type": "code",
     "collapsed": false,
     "input": [
      "%matplotlib inline\n",
      "from sympy import var, Matrix, eye, init_printing, roots\n",
      "init_printing()"
     ],
     "language": "python",
     "metadata": {},
     "outputs": [],
     "prompt_number": 1
    },
    {
     "cell_type": "code",
     "collapsed": false,
     "input": [
      "var(\"a:5\")\n",
      "var(\"b:5\")\n",
      "var(\"s\");"
     ],
     "language": "python",
     "metadata": {},
     "outputs": [],
     "prompt_number": 2
    },
    {
     "cell_type": "heading",
     "level": 1,
     "metadata": {},
     "source": [
      "Formas can\u00f3nicas controlador y controlabilidad"
     ]
    },
    {
     "cell_type": "markdown",
     "metadata": {},
     "source": [
      "Tenemos un sistema de orden 4 con una representaci\u00f3n de estado:"
     ]
    },
    {
     "cell_type": "code",
     "collapsed": false,
     "input": [
      "Ac = Matrix([[0, 1, 0, 0], [0, 0, 1, 0], [0, 0, 0, 1], [-a4, -a3, -a2, -a1]])\n",
      "bc = Matrix([[0], [0], [0], [1]])\n",
      "cc = Matrix([[b4], [b3], [b2], [b1]])"
     ],
     "language": "python",
     "metadata": {},
     "outputs": [],
     "prompt_number": 3
    },
    {
     "cell_type": "code",
     "collapsed": false,
     "input": [
      "Ac"
     ],
     "language": "python",
     "metadata": {},
     "outputs": [
      {
       "latex": [
        "$$\\left[\\begin{matrix}0 & 1 & 0 & 0\\\\0 & 0 & 1 & 0\\\\0 & 0 & 0 & 1\\\\- a_{4} & - a_{3} & - a_{2} & - a_{1}\\end{matrix}\\right]$$"
       ],
       "metadata": {},
       "output_type": "pyout",
       "png": "[encoded data removed]",
       "prompt_number": 4,
       "text": [
        "\u23a1 0    1    0    0 \u23a4\n",
        "\u23a2                  \u23a5\n",
        "\u23a2 0    0    1    0 \u23a5\n",
        "\u23a2                  \u23a5\n",
        "\u23a2 0    0    0    1 \u23a5\n",
        "\u23a2                  \u23a5\n",
        "\u23a3-a\u2084  -a\u2083  -a\u2082  -a\u2081\u23a6"
       ]
      }
     ],
     "prompt_number": 4
    },
    {
     "cell_type": "code",
     "collapsed": false,
     "input": [
      "bc"
     ],
     "language": "python",
     "metadata": {},
     "outputs": [
      {
       "latex": [
        "$$\\left[\\begin{matrix}0\\\\0\\\\0\\\\1\\end{matrix}\\right]$$"
       ],
       "metadata": {},
       "output_type": "pyout",
       "png": "[encoded data removed]",
       "prompt_number": 5,
       "text": [
        "\u23a10\u23a4\n",
        "\u23a2 \u23a5\n",
        "\u23a20\u23a5\n",
        "\u23a2 \u23a5\n",
        "\u23a20\u23a5\n",
        "\u23a2 \u23a5\n",
        "\u23a31\u23a6"
       ]
      }
     ],
     "prompt_number": 5
    },
    {
     "cell_type": "code",
     "collapsed": false,
     "input": [
      "cc"
     ],
     "language": "python",
     "metadata": {},
     "outputs": [
      {
       "latex": [
        "$$\\left[\\begin{matrix}b_{4}\\\\b_{3}\\\\b_{2}\\\\b_{1}\\end{matrix}\\right]$$"
       ],
       "metadata": {},
       "output_type": "pyout",
       "png": "[encoded data removed]",
       "prompt_number": 6,
       "text": [
        "\u23a1b\u2084\u23a4\n",
        "\u23a2  \u23a5\n",
        "\u23a2b\u2083\u23a5\n",
        "\u23a2  \u23a5\n",
        "\u23a2b\u2082\u23a5\n",
        "\u23a2  \u23a5\n",
        "\u23a3b\u2081\u23a6"
       ]
      }
     ],
     "prompt_number": 6
    },
    {
     "cell_type": "markdown",
     "metadata": {},
     "source": [
      "La cual ya esta en la forma can\u00f3nica controlador, podemos obtener su polinomio caracteristico:"
     ]
    },
    {
     "cell_type": "code",
     "collapsed": false,
     "input": [
      "PCc = (s*eye(4) - Ac).det()\n",
      "PCc"
     ],
     "language": "python",
     "metadata": {},
     "outputs": [
      {
       "latex": [
        "$$a_{1} s^{3} + a_{2} s^{2} + a_{3} s + a_{4} + s^{4}$$"
       ],
       "metadata": {},
       "output_type": "pyout",
       "png": "[encoded data removed]",
       "prompt_number": 8,
       "text": [
        "    3       2                4\n",
        "a\u2081\u22c5s  + a\u2082\u22c5s  + a\u2083\u22c5s + a\u2084 + s "
       ]
      }
     ],
     "prompt_number": 8
    },
    {
     "cell_type": "markdown",
     "metadata": {},
     "source": [
      "La matriz sistema es la siguiente:"
     ]
    },
    {
     "cell_type": "code",
     "collapsed": false,
     "input": [
      "MSc  = (s*eye(4) - Ac).row_join(bc).col_join(-cc.T.row_join(Matrix([[0]])))\n",
      "MSc"
     ],
     "language": "python",
     "metadata": {},
     "outputs": [
      {
       "latex": [
        "$$\\left[\\begin{matrix}s & -1 & 0 & 0 & 0\\\\0 & s & -1 & 0 & 0\\\\0 & 0 & s & -1 & 0\\\\a_{4} & a_{3} & a_{2} & a_{1} + s & 1\\\\- b_{4} & - b_{3} & - b_{2} & - b_{1} & 0\\end{matrix}\\right]$$"
       ],
       "metadata": {},
       "output_type": "pyout",
       "png": "[encoded data removed]",
       "prompt_number": 9,
       "text": [
        "\u23a1 s   -1    0     0     0\u23a4\n",
        "\u23a2                        \u23a5\n",
        "\u23a2 0    s   -1     0     0\u23a5\n",
        "\u23a2                        \u23a5\n",
        "\u23a2 0    0    s     -1    0\u23a5\n",
        "\u23a2                        \u23a5\n",
        "\u23a2a\u2084   a\u2083   a\u2082   a\u2081 + s  1\u23a5\n",
        "\u23a2                        \u23a5\n",
        "\u23a3-b\u2084  -b\u2083  -b\u2082   -b\u2081    0\u23a6"
       ]
      }
     ],
     "prompt_number": 9
    },
    {
     "cell_type": "markdown",
     "metadata": {},
     "source": [
      "y su polinomio es:"
     ]
    },
    {
     "cell_type": "code",
     "collapsed": false,
     "input": [
      "pMSc = MSc.det()\n",
      "pMSc"
     ],
     "language": "python",
     "metadata": {},
     "outputs": [
      {
       "latex": [
        "$$b_{1} s^{3} + b_{2} s^{2} + b_{3} s + b_{4}$$"
       ],
       "metadata": {},
       "output_type": "pyout",
       "png": "[encoded data removed]",
       "prompt_number": 10,
       "text": [
        "    3       2            \n",
        "b\u2081\u22c5s  + b\u2082\u22c5s  + b\u2083\u22c5s + b\u2084"
       ]
      }
     ],
     "prompt_number": 10
    },
    {
     "cell_type": "markdown",
     "metadata": {},
     "source": [
      "su Matriz de controlabilidad es:"
     ]
    },
    {
     "cell_type": "code",
     "collapsed": false,
     "input": [
      "MCc = ((bc.row_join(Ac*bc)).row_join(Ac*Ac*bc)).row_join(Ac*Ac*Ac*bc)\n",
      "MCc"
     ],
     "language": "python",
     "metadata": {},
     "outputs": [
      {
       "latex": [
        "$$\\left[\\begin{matrix}0 & 0 & 0 & 1\\\\0 & 0 & 1 & - a_{1}\\\\0 & 1 & - a_{1} & a_{1}^{2} - a_{2}\\\\1 & - a_{1} & a_{1}^{2} - a_{2} & a_{1} a_{2} - a_{1} \\left(a_{1}^{2} - a_{2}\\right) - a_{3}\\end{matrix}\\right]$$"
       ],
       "metadata": {},
       "output_type": "pyout",
       "png": "[encoded data removed]",
       "prompt_number": 11,
       "text": [
        "\u23a10   0      0                  1             \u23a4\n",
        "\u23a2                                            \u23a5\n",
        "\u23a20   0      1                 -a\u2081            \u23a5\n",
        "\u23a2                                            \u23a5\n",
        "\u23a2                             2              \u23a5\n",
        "\u23a20   1     -a\u2081              a\u2081  - a\u2082         \u23a5\n",
        "\u23a2                                            \u23a5\n",
        "\u23a2          2                  \u239b  2     \u239e     \u23a5\n",
        "\u23a31  -a\u2081  a\u2081  - a\u2082  a\u2081\u22c5a\u2082 - a\u2081\u22c5\u239da\u2081  - a\u2082\u23a0 - a\u2083\u23a6"
       ]
      }
     ],
     "prompt_number": 11
    },
    {
     "cell_type": "markdown",
     "metadata": {},
     "source": [
      "y su determinante es:"
     ]
    },
    {
     "cell_type": "code",
     "collapsed": false,
     "input": [
      "MCc.det()"
     ],
     "language": "python",
     "metadata": {},
     "outputs": [
      {
       "latex": [
        "$$1$$"
       ],
       "metadata": {},
       "output_type": "pyout",
       "png": "[encoded data removed]",
       "prompt_number": 12,
       "text": [
        "1"
       ]
      }
     ],
     "prompt_number": 12
    },
    {
     "cell_type": "markdown",
     "metadata": {},
     "source": [
      "Dado este sistema, lo podemos transformar a su forma controlabilidad:"
     ]
    },
    {
     "cell_type": "code",
     "collapsed": false,
     "input": [
      "Aco = Matrix([[-a1, 1, 0, 0], [-a2, 0, 1, 0], [-a3, 0, 0, 1], [-a2, 0, 0, 0]])\n",
      "bco = bc\n",
      "beta = Matrix([[1, 0, 0, 0], [a1, 1, 0, 0], [a2, a1, 1, 0], [a3, a2, a1, 1]]).inv()*Matrix([[b1], [b2], [b3], [b4]])\n",
      "cco = Matrix([[beta[3]], [beta[2]], [beta[1]], [beta[0]]])"
     ],
     "language": "python",
     "metadata": {},
     "outputs": [],
     "prompt_number": 13
    },
    {
     "cell_type": "code",
     "collapsed": false,
     "input": [
      "Aco"
     ],
     "language": "python",
     "metadata": {},
     "outputs": [
      {
       "latex": [
        "$$\\left[\\begin{matrix}- a_{1} & 1 & 0 & 0\\\\- a_{2} & 0 & 1 & 0\\\\- a_{3} & 0 & 0 & 1\\\\- a_{2} & 0 & 0 & 0\\end{matrix}\\right]$$"
       ],
       "metadata": {},
       "output_type": "pyout",
       "png": "[encoded data removed]",
       "prompt_number": 14,
       "text": [
        "\u23a1-a\u2081  1  0  0\u23a4\n",
        "\u23a2            \u23a5\n",
        "\u23a2-a\u2082  0  1  0\u23a5\n",
        "\u23a2            \u23a5\n",
        "\u23a2-a\u2083  0  0  1\u23a5\n",
        "\u23a2            \u23a5\n",
        "\u23a3-a\u2082  0  0  0\u23a6"
       ]
      }
     ],
     "prompt_number": 14
    },
    {
     "cell_type": "code",
     "collapsed": false,
     "input": [
      "bco"
     ],
     "language": "python",
     "metadata": {},
     "outputs": [
      {
       "latex": [
        "$$\\left[\\begin{matrix}0\\\\0\\\\0\\\\1\\end{matrix}\\right]$$"
       ],
       "metadata": {},
       "output_type": "pyout",
       "png": "[encoded data removed]",
       "prompt_number": 15,
       "text": [
        "\u23a10\u23a4\n",
        "\u23a2 \u23a5\n",
        "\u23a20\u23a5\n",
        "\u23a2 \u23a5\n",
        "\u23a20\u23a5\n",
        "\u23a2 \u23a5\n",
        "\u23a31\u23a6"
       ]
      }
     ],
     "prompt_number": 15
    },
    {
     "cell_type": "code",
     "collapsed": false,
     "input": [
      "cco"
     ],
     "language": "python",
     "metadata": {},
     "outputs": [
      {
       "latex": [
        "$$\\left[\\begin{matrix}- a_{1} b_{3} + b_{1} \\left(a_{1} a_{2} - a_{1} \\left(a_{1}^{2} - a_{2}\\right) - a_{3}\\right) + b_{2} \\left(a_{1}^{2} - a_{2}\\right) + b_{4}\\\\- a_{1} b_{2} + b_{1} \\left(a_{1}^{2} - a_{2}\\right) + b_{3}\\\\- a_{1} b_{1} + b_{2}\\\\b_{1}\\end{matrix}\\right]$$"
       ],
       "metadata": {},
       "output_type": "pyout",
       "png": "[encoded data removed]",
       "prompt_number": 16,
       "text": [
        "\u23a1            \u239b           \u239b  2     \u239e     \u239e      \u239b  2     \u239e     \u23a4\n",
        "\u23a2-a\u2081\u22c5b\u2083 + b\u2081\u22c5\u239da\u2081\u22c5a\u2082 - a\u2081\u22c5\u239da\u2081  - a\u2082\u23a0 - a\u2083\u23a0 + b\u2082\u22c5\u239da\u2081  - a\u2082\u23a0 + b\u2084\u23a5\n",
        "\u23a2                                                             \u23a5\n",
        "\u23a2                             \u239b  2     \u239e                      \u23a5\n",
        "\u23a2                 -a\u2081\u22c5b\u2082 + b\u2081\u22c5\u239da\u2081  - a\u2082\u23a0 + b\u2083                 \u23a5\n",
        "\u23a2                                                             \u23a5\n",
        "\u23a2                         -a\u2081\u22c5b\u2081 + b\u2082                         \u23a5\n",
        "\u23a2                                                             \u23a5\n",
        "\u23a3                             b\u2081                              \u23a6"
       ]
      }
     ],
     "prompt_number": 16
    },
    {
     "cell_type": "markdown",
     "metadata": {},
     "source": [
      "La cual tiene un polinomio caracteristico:"
     ]
    },
    {
     "cell_type": "code",
     "collapsed": false,
     "input": [
      "PCco = (s*eye(4) - Aco).det()\n",
      "PCco"
     ],
     "language": "python",
     "metadata": {},
     "outputs": [
      {
       "latex": [
        "$$a_{1} s^{3} + a_{2} s^{2} + a_{2} + a_{3} s + s^{4}$$"
       ],
       "metadata": {},
       "output_type": "pyout",
       "png": "[encoded data removed]",
       "prompt_number": 18,
       "text": [
        "    3       2                4\n",
        "a\u2081\u22c5s  + a\u2082\u22c5s  + a\u2082 + a\u2083\u22c5s + s "
       ]
      }
     ],
     "prompt_number": 18
    },
    {
     "cell_type": "markdown",
     "metadata": {},
     "source": [
      "y una matriz sistema:"
     ]
    },
    {
     "cell_type": "code",
     "collapsed": false,
     "input": [
      "MSco = (s*eye(4) - Aco).row_join(bco).col_join(-cco.T.row_join(Matrix([[0]])))\n",
      "MSco"
     ],
     "language": "python",
     "metadata": {},
     "outputs": [
      {
       "latex": [
        "$$\\left[\\begin{matrix}a_{1} + s & -1 & 0 & 0 & 0\\\\a_{2} & s & -1 & 0 & 0\\\\a_{3} & 0 & s & -1 & 0\\\\a_{2} & 0 & 0 & s & 1\\\\a_{1} b_{3} - b_{1} \\left(a_{1} a_{2} - a_{1} \\left(a_{1}^{2} - a_{2}\\right) - a_{3}\\right) - b_{2} \\left(a_{1}^{2} - a_{2}\\right) - b_{4} & a_{1} b_{2} - b_{1} \\left(a_{1}^{2} - a_{2}\\right) - b_{3} & a_{1} b_{1} - b_{2} & - b_{1} & 0\\end{matrix}\\right]$$"
       ],
       "metadata": {},
       "output_type": "pyout",
       "png": "[encoded data removed]",
       "prompt_number": 19,
       "text": [
        "\u23a1                           a\u2081 + s                                         -1 \n",
        "\u23a2                                                                             \n",
        "\u23a2                             a\u2082                                           s  \n",
        "\u23a2                                                                             \n",
        "\u23a2                             a\u2083                                           0  \n",
        "\u23a2                                                                             \n",
        "\u23a2                             a\u2082                                           0  \n",
        "\u23a2                                                                             \n",
        "\u23a2           \u239b           \u239b  2     \u239e     \u239e      \u239b  2     \u239e                  \u239b  2\n",
        "\u23a3a\u2081\u22c5b\u2083 - b\u2081\u22c5\u239da\u2081\u22c5a\u2082 - a\u2081\u22c5\u239da\u2081  - a\u2082\u23a0 - a\u2083\u23a0 - b\u2082\u22c5\u239da\u2081  - a\u2082\u23a0 - b\u2084  a\u2081\u22c5b\u2082 - b\u2081\u22c5\u239da\u2081 \n",
        "\n",
        "                 0        0   0\u23a4\n",
        "                               \u23a5\n",
        "                 -1       0   0\u23a5\n",
        "                               \u23a5\n",
        "                 s       -1   0\u23a5\n",
        "                               \u23a5\n",
        "                 0        s   1\u23a5\n",
        "                               \u23a5\n",
        "     \u239e                         \u23a5\n",
        " - a\u2082\u23a0 - b\u2083  a\u2081\u22c5b\u2081 - b\u2082  -b\u2081  0\u23a6"
       ]
      }
     ],
     "prompt_number": 19
    },
    {
     "cell_type": "markdown",
     "metadata": {},
     "source": [
      "con un polinomio:"
     ]
    },
    {
     "cell_type": "code",
     "collapsed": false,
     "input": [
      "pMSco = MSco.det()\n",
      "pMSco.factor()"
     ],
     "language": "python",
     "metadata": {},
     "outputs": [
      {
       "latex": [
        "$$b_{1} s^{3} + b_{2} s^{2} + b_{3} s + b_{4}$$"
       ],
       "metadata": {},
       "output_type": "pyout",
       "png": "[encoded data removed]",
       "prompt_number": 20,
       "text": [
        "    3       2            \n",
        "b\u2081\u22c5s  + b\u2082\u22c5s  + b\u2083\u22c5s + b\u2084"
       ]
      }
     ],
     "prompt_number": 20
    },
    {
     "cell_type": "markdown",
     "metadata": {},
     "source": [
      "y una matriz de controlabilidad:"
     ]
    },
    {
     "cell_type": "code",
     "collapsed": false,
     "input": [
      "MCco = ((bco.row_join(Aco*bco)).row_join(Aco*Aco*bco)).row_join(Aco*Aco*Aco*bco)\n",
      "MCco"
     ],
     "language": "python",
     "metadata": {},
     "outputs": [
      {
       "latex": [
        "$$\\left[\\begin{matrix}0 & 0 & 0 & 1\\\\0 & 0 & 1 & 0\\\\0 & 1 & 0 & 0\\\\1 & 0 & 0 & 0\\end{matrix}\\right]$$"
       ],
       "metadata": {},
       "output_type": "pyout",
       "png": "[encoded data removed]",
       "prompt_number": 21,
       "text": [
        "\u23a10  0  0  1\u23a4\n",
        "\u23a2          \u23a5\n",
        "\u23a20  0  1  0\u23a5\n",
        "\u23a2          \u23a5\n",
        "\u23a20  1  0  0\u23a5\n",
        "\u23a2          \u23a5\n",
        "\u23a31  0  0  0\u23a6"
       ]
      }
     ],
     "prompt_number": 21
    },
    {
     "cell_type": "markdown",
     "metadata": {},
     "source": [
      "con un determintante:"
     ]
    },
    {
     "cell_type": "code",
     "collapsed": false,
     "input": [
      "MCco.det()"
     ],
     "language": "python",
     "metadata": {},
     "outputs": [
      {
       "latex": [
        "$$1$$"
       ],
       "metadata": {},
       "output_type": "pyout",
       "png": "[encoded data removed]",
       "prompt_number": 22,
       "text": [
        "1"
       ]
      }
     ],
     "prompt_number": 22
    },
    {
     "cell_type": "heading",
     "level": 2,
     "metadata": {},
     "source": [
      "Ejemplo"
     ]
    },
    {
     "cell_type": "code",
     "collapsed": false,
     "input": [
      "A = Matrix([[0, 1, 0], [0, 0 , 1], [0, 0, 0]])\n",
      "b = Matrix([[0], [0], [1]])\n",
      "c = Matrix([[-1], [0], [1]])\n",
      "x0 = Matrix([[1], [0], [0]])"
     ],
     "language": "python",
     "metadata": {},
     "outputs": [],
     "prompt_number": 24
    },
    {
     "cell_type": "markdown",
     "metadata": {},
     "source": [
      "La funci\u00f3n de transferencia de este sistema es:"
     ]
    },
    {
     "cell_type": "code",
     "collapsed": false,
     "input": [
      "FT = c.T*(s*eye(3) - A).inv()*b\n",
      "FT[0].factor()"
     ],
     "language": "python",
     "metadata": {},
     "outputs": [
      {
       "latex": [
        "$$\\frac{1}{s^{3}} \\left(s - 1\\right) \\left(s + 1\\right)$$"
       ],
       "metadata": {},
       "output_type": "pyout",
       "png": "[encoded data removed]",
       "prompt_number": 29,
       "text": [
        "(s - 1)\u22c5(s + 1)\n",
        "\u2500\u2500\u2500\u2500\u2500\u2500\u2500\u2500\u2500\u2500\u2500\u2500\u2500\u2500\u2500\n",
        "        3      \n",
        "       s       "
       ]
      }
     ],
     "prompt_number": 29
    },
    {
     "cell_type": "markdown",
     "metadata": {},
     "source": [
      "su polinomio caracteristico:"
     ]
    },
    {
     "cell_type": "code",
     "collapsed": false,
     "input": [
      "PC = (s*eye(3) - A).det()\n",
      "PC"
     ],
     "language": "python",
     "metadata": {},
     "outputs": [
      {
       "latex": [
        "$$s^{3}$$"
       ],
       "metadata": {},
       "output_type": "pyout",
       "png": "[encoded data removed]",
       "prompt_number": 31,
       "text": [
        " 3\n",
        "s "
       ]
      }
     ],
     "prompt_number": 31
    },
    {
     "cell_type": "markdown",
     "metadata": {},
     "source": [
      "su matriz sistema es:"
     ]
    },
    {
     "cell_type": "code",
     "collapsed": false,
     "input": [
      "MS = (s*eye(3) - A).row_join(b).col_join(-c.T.row_join(Matrix([[0]])))\n",
      "MS"
     ],
     "language": "python",
     "metadata": {},
     "outputs": [
      {
       "latex": [
        "$$\\left[\\begin{matrix}s & -1 & 0 & 0\\\\0 & s & -1 & 0\\\\0 & 0 & s & 1\\\\1 & 0 & -1 & 0\\end{matrix}\\right]$$"
       ],
       "metadata": {},
       "output_type": "pyout",
       "png": "[encoded data removed]",
       "prompt_number": 33,
       "text": [
        "\u23a1s  -1  0   0\u23a4\n",
        "\u23a2            \u23a5\n",
        "\u23a20  s   -1  0\u23a5\n",
        "\u23a2            \u23a5\n",
        "\u23a20  0   s   1\u23a5\n",
        "\u23a2            \u23a5\n",
        "\u23a31  0   -1  0\u23a6"
       ]
      }
     ],
     "prompt_number": 33
    },
    {
     "cell_type": "markdown",
     "metadata": {},
     "source": [
      "y el polinomio de esta matriz:"
     ]
    },
    {
     "cell_type": "code",
     "collapsed": false,
     "input": [
      "pMS = MS.det()\n",
      "pMS.factor()"
     ],
     "language": "python",
     "metadata": {},
     "outputs": [
      {
       "latex": [
        "$$\\left(s - 1\\right) \\left(s + 1\\right)$$"
       ],
       "metadata": {},
       "output_type": "pyout",
       "png": "[encoded data removed]",
       "prompt_number": 34,
       "text": [
        "(s - 1)\u22c5(s + 1)"
       ]
      }
     ],
     "prompt_number": 34
    },
    {
     "cell_type": "markdown",
     "metadata": {},
     "source": [
      "su matriz de controlabilidad:"
     ]
    },
    {
     "cell_type": "code",
     "collapsed": false,
     "input": [
      "C = (b.row_join(A*b)).row_join(A*A*b)\n",
      "C"
     ],
     "language": "python",
     "metadata": {},
     "outputs": [
      {
       "latex": [
        "$$\\left[\\begin{matrix}0 & 0 & 1\\\\0 & 1 & 0\\\\1 & 0 & 0\\end{matrix}\\right]$$"
       ],
       "metadata": {},
       "output_type": "pyout",
       "png": "[encoded data removed]",
       "prompt_number": 35,
       "text": [
        "\u23a10  0  1\u23a4\n",
        "\u23a2       \u23a5\n",
        "\u23a20  1  0\u23a5\n",
        "\u23a2       \u23a5\n",
        "\u23a31  0  0\u23a6"
       ]
      }
     ],
     "prompt_number": 35
    },
    {
     "cell_type": "code",
     "collapsed": false,
     "input": [
      "C.det()"
     ],
     "language": "python",
     "metadata": {},
     "outputs": [
      {
       "latex": [
        "$$-1$$"
       ],
       "metadata": {},
       "output_type": "pyout",
       "png": "[encoded data removed]",
       "prompt_number": 36,
       "text": [
        "-1"
       ]
      }
     ],
     "prompt_number": 36
    },
    {
     "cell_type": "markdown",
     "metadata": {},
     "source": [
      "Por el momento hemos visto que este sistema es controlable, sin embargo, aun no sabemos la retroalimentacion del estado que lo controlara.\n",
      "\n",
      "Nuestra primera proposici\u00f3n ser\u00e1 un sistema que se comporte como el siguiente:\n",
      "\n",
      "$$\n",
      "FT = \\frac{(s-1)(s+1)}{(s-1)(s+1)^2}\n",
      "$$\n",
      "\n",
      "podemos ver que los polos de ese sistema son $+1$ y $-1$ con multiplicidad $2$, si averiguamos la forma del polinomio caracteristico, podemos ver los coeficientes de la retroalimentaci\u00f3n:"
     ]
    },
    {
     "cell_type": "code",
     "collapsed": false,
     "input": [
      "((s+1)**2 *(s-1)).expand()"
     ],
     "language": "python",
     "metadata": {},
     "outputs": [
      {
       "latex": [
        "$$s^{3} + s^{2} - s - 1$$"
       ],
       "metadata": {},
       "output_type": "pyout",
       "png": "[encoded data removed]",
       "prompt_number": 38,
       "text": [
        " 3    2        \n",
        "s  + s  - s - 1"
       ]
      }
     ],
     "prompt_number": 38
    },
    {
     "cell_type": "markdown",
     "metadata": {},
     "source": [
      "Si los coeficientes actuales son todos $0$ y tenemos que sustraer el vector de retroalimentaci\u00f3n para obtener el que queremos, obtenemos que la retroalimentaci\u00f3n debe ser de la forma:"
     ]
    },
    {
     "cell_type": "code",
     "collapsed": false,
     "input": [
      "f1 = Matrix([[1], [1], [-1]])"
     ],
     "language": "python",
     "metadata": {},
     "outputs": [],
     "prompt_number": 39
    },
    {
     "cell_type": "markdown",
     "metadata": {},
     "source": [
      "y por lo tanto, la matriz retroalimentada y el polinomio caracteristico, quedan de la siguiente manera:"
     ]
    },
    {
     "cell_type": "code",
     "collapsed": false,
     "input": [
      "Af1 = A + b*f1.T\n",
      "Af1"
     ],
     "language": "python",
     "metadata": {},
     "outputs": [
      {
       "latex": [
        "$$\\left[\\begin{matrix}0 & 1 & 0\\\\0 & 0 & 1\\\\1 & 1 & -1\\end{matrix}\\right]$$"
       ],
       "metadata": {},
       "output_type": "pyout",
       "png": "[encoded data removed]",
       "prompt_number": 40,
       "text": [
        "\u23a10  1  0 \u23a4\n",
        "\u23a2        \u23a5\n",
        "\u23a20  0  1 \u23a5\n",
        "\u23a2        \u23a5\n",
        "\u23a31  1  -1\u23a6"
       ]
      }
     ],
     "prompt_number": 40
    },
    {
     "cell_type": "code",
     "collapsed": false,
     "input": [
      "PClc1 = (s*eye(3) - Af1).det()\n",
      "PClc1.factor()"
     ],
     "language": "python",
     "metadata": {},
     "outputs": [
      {
       "latex": [
        "$$\\left(s - 1\\right) \\left(s + 1\\right)^{2}$$"
       ],
       "metadata": {},
       "output_type": "pyout",
       "png": "[encoded data removed]",
       "prompt_number": 43,
       "text": [
        "               2\n",
        "(s - 1)\u22c5(s + 1) "
       ]
      }
     ],
     "prompt_number": 43
    },
    {
     "cell_type": "markdown",
     "metadata": {},
     "source": [
      "y el polinomio del sistema:"
     ]
    },
    {
     "cell_type": "code",
     "collapsed": false,
     "input": [
      "MSlc1 = (s*eye(3) - Af1).row_join(b).col_join(-c.T.row_join(Matrix([[0]])))\n",
      "MSlc1"
     ],
     "language": "python",
     "metadata": {},
     "outputs": [
      {
       "latex": [
        "$$\\left[\\begin{matrix}s & -1 & 0 & 0\\\\0 & s & -1 & 0\\\\-1 & -1 & s + 1 & 1\\\\1 & 0 & -1 & 0\\end{matrix}\\right]$$"
       ],
       "metadata": {},
       "output_type": "pyout",
       "png": "[encoded data removed]",
       "prompt_number": 44,
       "text": [
        "\u23a1s   -1    0    0\u23a4\n",
        "\u23a2                \u23a5\n",
        "\u23a20   s    -1    0\u23a5\n",
        "\u23a2                \u23a5\n",
        "\u23a2-1  -1  s + 1  1\u23a5\n",
        "\u23a2                \u23a5\n",
        "\u23a31   0    -1    0\u23a6"
       ]
      }
     ],
     "prompt_number": 44
    },
    {
     "cell_type": "code",
     "collapsed": false,
     "input": [
      "pMSlc1 = MSlc1.det()\n",
      "pMSlc1.factor()"
     ],
     "language": "python",
     "metadata": {},
     "outputs": [
      {
       "latex": [
        "$$\\left(s - 1\\right) \\left(s + 1\\right)$$"
       ],
       "metadata": {},
       "output_type": "pyout",
       "png": "[encoded data removed]",
       "prompt_number": 45,
       "text": [
        "(s - 1)\u22c5(s + 1)"
       ]
      }
     ],
     "prompt_number": 45
    },
    {
     "cell_type": "markdown",
     "metadata": {},
     "source": [
      "Ahora realicemos la simulaci\u00f3n para ver el comportamiento del sistema."
     ]
    },
    {
     "cell_type": "code",
     "collapsed": false,
     "input": [
      "from control import ss, step_response, forced_response\n",
      "from numpy import linspace, matrix, sign"
     ],
     "language": "python",
     "metadata": {},
     "outputs": [],
     "prompt_number": 128
    },
    {
     "cell_type": "code",
     "collapsed": false,
     "input": [
      "%matplotlib inline\n",
      "from matplotlib.pyplot import plot, figure, gca, legend, style"
     ],
     "language": "python",
     "metadata": {},
     "outputs": [],
     "prompt_number": 129
    },
    {
     "cell_type": "code",
     "collapsed": false,
     "input": [
      "heavyside = lambda x: 0.5 * (sign(x) + 1)"
     ],
     "language": "python",
     "metadata": {},
     "outputs": [],
     "prompt_number": 130
    },
    {
     "cell_type": "code",
     "collapsed": false,
     "input": [
      "Af1 = matrix(Af1.tolist(), dtype=float)\n",
      "b = matrix(b.tolist(), dtype=float)\n",
      "c = matrix(c.tolist(), dtype=float)\n",
      "SR = ss(Af1, b, c.T, 0)"
     ],
     "language": "python",
     "metadata": {},
     "outputs": [],
     "prompt_number": 189
    },
    {
     "cell_type": "code",
     "collapsed": false,
     "input": [
      "t = linspace(0, 10, 1000)\n",
      "u = heavyside(t)\n",
      "t, y, x = forced_response(SR, T=t, U=u)"
     ],
     "language": "python",
     "metadata": {},
     "outputs": [],
     "prompt_number": 190
    },
    {
     "cell_type": "code",
     "collapsed": false,
     "input": [
      "f = figure(figsize=(15, 6))\n",
      "style.use(\"ggplot\")\n",
      "p1, = plot(t, y)\n",
      "p2, = plot(t, u)\n",
      "\n",
      "ax = f.gca()\n",
      "ax.set_ylim(-0.2, 1.2);\n",
      "\n",
      "legend([p1, p2], [r\"$y(t)$\", r\"$u(t)$\"]);"
     ],
     "language": "python",
     "metadata": {},
     "outputs": [
      {
       "metadata": {},
       "output_type": "display_data",
       "png": "[encoded data removed]",
       "text": [
        "<matplotlib.figure.Figure at 0x10d55fad0>"
       ]
      }
     ],
     "prompt_number": 191
    },
    {
     "cell_type": "code",
     "collapsed": false,
     "input": [
      "f = figure(figsize=(15, 6))\n",
      "style.use(\"ggplot\")\n",
      "p1, = plot(t, x[0])\n",
      "p2, = plot(t, x[1])\n",
      "p3, = plot(t, x[2])\n",
      "\n",
      "ax = f.gca()\n",
      "ax.set_ylim(-0.2, 1.2);\n",
      "\n",
      "legend([p1, p2, p3], [r\"$x_1$\", r\"$x_2$\", r\"$x_3$\"]);"
     ],
     "language": "python",
     "metadata": {},
     "outputs": [
      {
       "metadata": {},
       "output_type": "display_data",
       "png": "[encoded data removed]",
       "text": [
        "<matplotlib.figure.Figure at 0x10d5a1490>"
       ]
      }
     ],
     "prompt_number": 192
    },
    {
     "cell_type": "code",
     "collapsed": false,
     "input": [
      "A = Matrix([[0, 1, 0], [0, 0 , 1], [0, 0, 0]])\n",
      "b = Matrix([[0], [0], [1]])\n",
      "c = Matrix([[-1], [0], [1]])\n",
      "x0 = Matrix([[1], [0], [0]])"
     ],
     "language": "python",
     "metadata": {},
     "outputs": [],
     "prompt_number": 163
    },
    {
     "cell_type": "code",
     "collapsed": false,
     "input": [
      "((s+1)**3).expand()"
     ],
     "language": "python",
     "metadata": {},
     "outputs": [
      {
       "latex": [
        "$$s^{3} + 3 s^{2} + 3 s + 1$$"
       ],
       "metadata": {},
       "output_type": "pyout",
       "png": "[encoded data removed]",
       "prompt_number": 164,
       "text": [
        " 3      2          \n",
        "s  + 3\u22c5s  + 3\u22c5s + 1"
       ]
      }
     ],
     "prompt_number": 164
    },
    {
     "cell_type": "code",
     "collapsed": false,
     "input": [
      "f2 = Matrix([[-1], [-3], [-3]])"
     ],
     "language": "python",
     "metadata": {},
     "outputs": [],
     "prompt_number": 165
    },
    {
     "cell_type": "code",
     "collapsed": false,
     "input": [
      "Af2 = A + b*f2.T\n",
      "Af2"
     ],
     "language": "python",
     "metadata": {},
     "outputs": [
      {
       "latex": [
        "$$\\left[\\begin{matrix}0 & 1 & 0\\\\0 & 0 & 1\\\\-1 & -3 & -3\\end{matrix}\\right]$$"
       ],
       "metadata": {},
       "output_type": "pyout",
       "png": "[encoded data removed]",
       "prompt_number": 166,
       "text": [
        "\u23a10   1   0 \u23a4\n",
        "\u23a2          \u23a5\n",
        "\u23a20   0   1 \u23a5\n",
        "\u23a2          \u23a5\n",
        "\u23a3-1  -3  -3\u23a6"
       ]
      }
     ],
     "prompt_number": 166
    },
    {
     "cell_type": "code",
     "collapsed": false,
     "input": [
      "PClc2 = (s*eye(3) - Af2).det()\n",
      "PClc2.factor()"
     ],
     "language": "python",
     "metadata": {},
     "outputs": [
      {
       "latex": [
        "$$\\left(s + 1\\right)^{3}$$"
       ],
       "metadata": {},
       "output_type": "pyout",
       "png": "[encoded data removed]",
       "prompt_number": 167,
       "text": [
        "       3\n",
        "(s + 1) "
       ]
      }
     ],
     "prompt_number": 167
    },
    {
     "cell_type": "code",
     "collapsed": false,
     "input": [
      "MSlc1 = (s*eye(3) - Af2).row_join(b).col_join(-c.T.row_join(Matrix([[0]])))\n",
      "MSlc1"
     ],
     "language": "python",
     "metadata": {},
     "outputs": [
      {
       "latex": [
        "$$\\left[\\begin{matrix}s & -1 & 0 & 0\\\\0 & s & -1 & 0\\\\1 & 3 & s + 3 & 1\\\\1 & 0 & -1 & 0\\end{matrix}\\right]$$"
       ],
       "metadata": {},
       "output_type": "pyout",
       "png": "[encoded data removed]",
       "prompt_number": 168,
       "text": [
        "\u23a1s  -1    0    0\u23a4\n",
        "\u23a2               \u23a5\n",
        "\u23a20  s    -1    0\u23a5\n",
        "\u23a2               \u23a5\n",
        "\u23a21  3   s + 3  1\u23a5\n",
        "\u23a2               \u23a5\n",
        "\u23a31  0    -1    0\u23a6"
       ]
      }
     ],
     "prompt_number": 168
    },
    {
     "cell_type": "code",
     "collapsed": false,
     "input": [
      "pMSlc1 = MSlc1.det()\n",
      "pMSlc1.factor()"
     ],
     "language": "python",
     "metadata": {},
     "outputs": [
      {
       "latex": [
        "$$\\left(s - 1\\right) \\left(s + 1\\right)$$"
       ],
       "metadata": {},
       "output_type": "pyout",
       "png": "[encoded data removed]",
       "prompt_number": 169,
       "text": [
        "(s - 1)\u22c5(s + 1)"
       ]
      }
     ],
     "prompt_number": 169
    },
    {
     "cell_type": "code",
     "collapsed": false,
     "input": [
      "T2, J2 = Af2.jordan_form()\n",
      "J2"
     ],
     "language": "python",
     "metadata": {},
     "outputs": [
      {
       "latex": [
        "$$\\left[\\begin{matrix}-1 & 1 & 0\\\\0 & -1 & 1\\\\0 & 0 & -1\\end{matrix}\\right]$$"
       ],
       "metadata": {},
       "output_type": "pyout",
       "png": "[encoded data removed]",
       "prompt_number": 170,
       "text": [
        "\u23a1-1  1   0 \u23a4\n",
        "\u23a2          \u23a5\n",
        "\u23a20   -1  1 \u23a5\n",
        "\u23a2          \u23a5\n",
        "\u23a30   0   -1\u23a6"
       ]
      }
     ],
     "prompt_number": 170
    },
    {
     "cell_type": "code",
     "collapsed": false,
     "input": [
      "bJ2 = T2.inv()*b\n",
      "cJ2 = T2.T*c"
     ],
     "language": "python",
     "metadata": {},
     "outputs": [],
     "prompt_number": 171
    },
    {
     "cell_type": "code",
     "collapsed": false,
     "input": [
      "MSJ2 = (s*eye(3) - J2).row_join(bJ2).col_join(-cJ2.T.row_join(Matrix([[0]])))\n",
      "MSJ2"
     ],
     "language": "python",
     "metadata": {},
     "outputs": [
      {
       "latex": [
        "$$\\left[\\begin{matrix}s + 1 & -1 & 0 & \\frac{1}{72}\\\\0 & s + 1 & -1 & - \\frac{1}{12}\\\\0 & 0 & s + 1 & \\frac{1}{6}\\\\0 & 12 & 0 & 0\\end{matrix}\\right]$$"
       ],
       "metadata": {},
       "output_type": "pyout",
       "png": "[encoded data removed]",
       "prompt_number": 172,
       "text": [
        "\u23a1s + 1   -1      0    1/72 \u23a4\n",
        "\u23a2                          \u23a5\n",
        "\u23a2  0    s + 1   -1    -1/12\u23a5\n",
        "\u23a2                          \u23a5\n",
        "\u23a2  0      0    s + 1   1/6 \u23a5\n",
        "\u23a2                          \u23a5\n",
        "\u23a3  0     12      0      0  \u23a6"
       ]
      }
     ],
     "prompt_number": 172
    },
    {
     "cell_type": "code",
     "collapsed": false,
     "input": [
      "FTJ2 = cJ2.T*(s*eye(3) - J2).inv()*bJ2\n",
      "FTJ2[0].factor()"
     ],
     "language": "python",
     "metadata": {},
     "outputs": [
      {
       "latex": [
        "$$\\frac{s - 1}{\\left(s + 1\\right)^{2}}$$"
       ],
       "metadata": {},
       "output_type": "pyout",
       "png": "[encoded data removed]",
       "prompt_number": 173,
       "text": [
        " s - 1  \n",
        "\u2500\u2500\u2500\u2500\u2500\u2500\u2500\u2500\n",
        "       2\n",
        "(s + 1) "
       ]
      }
     ],
     "prompt_number": 173
    },
    {
     "cell_type": "code",
     "collapsed": false,
     "input": [
      "Af2 = matrix(Af2.tolist(), dtype=float)\n",
      "b = matrix(b.tolist(), dtype=float)\n",
      "c = matrix(c.tolist(), dtype=float)\n",
      "SR = ss(Af2, b, c.T, 0)"
     ],
     "language": "python",
     "metadata": {},
     "outputs": [],
     "prompt_number": 178
    },
    {
     "cell_type": "code",
     "collapsed": false,
     "input": [
      "t = linspace(0, 10, 1000)\n",
      "u = heavyside(t)\n",
      "t, y, x = forced_response(SR, T=t, U=u)"
     ],
     "language": "python",
     "metadata": {},
     "outputs": [],
     "prompt_number": 183
    },
    {
     "cell_type": "code",
     "collapsed": false,
     "input": [
      "f = figure(figsize=(15, 6))\n",
      "style.use(\"ggplot\")\n",
      "p1, = plot(t, y)\n",
      "p2, = plot(t, u)\n",
      "\n",
      "ax = f.gca()\n",
      "ax.set_ylim(-0.2, 1.2);\n",
      "\n",
      "legend([p1, p2], [r\"$y(t)$\", r\"$u(t)$\"]);"
     ],
     "language": "python",
     "metadata": {},
     "outputs": [
      {
       "metadata": {},
       "output_type": "display_data",
       "png": "[encoded data removed]",
       "text": [
        "<matplotlib.figure.Figure at 0x10bc93a10>"
       ]
      }
     ],
     "prompt_number": 187
    },
    {
     "cell_type": "code",
     "collapsed": false,
     "input": [
      "f = figure(figsize=(15, 6))\n",
      "style.use(\"ggplot\")\n",
      "p1, = plot(t, x[0])\n",
      "p2, = plot(t, x[1])\n",
      "p3, = plot(t, x[2])\n",
      "\n",
      "ax = f.gca()\n",
      "ax.set_ylim(-0.2, 1.2);\n",
      "\n",
      "legend([p1, p2, p3], [r\"$x_1$\", r\"$x_2$\", r\"$x_3$\"]);"
     ],
     "language": "python",
     "metadata": {},
     "outputs": [
      {
       "metadata": {},
       "output_type": "display_data",
       "png": "[encoded data removed]",
       "text": [
        "<matplotlib.figure.Figure at 0x10c4a4890>"
       ]
      }
     ],
     "prompt_number": 186
    },
    {
     "cell_type": "code",
     "collapsed": false,
     "input": [],
     "language": "python",
     "metadata": {},
     "outputs": []
    }
   ],
   "metadata": {}
  }
 ]
}