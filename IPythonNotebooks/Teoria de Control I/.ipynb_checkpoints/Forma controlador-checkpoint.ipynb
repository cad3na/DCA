{
 "metadata": {
  "name": "",
  "signature": "sha256:8c70d79390803e43a449759c420cac8778cf6956600fd8e21941aa7766ce9002"
 },
 "nbformat": 3,
 "nbformat_minor": 0,
 "worksheets": []
}