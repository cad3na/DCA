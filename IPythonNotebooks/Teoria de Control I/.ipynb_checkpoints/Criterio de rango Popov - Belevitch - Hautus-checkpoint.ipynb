{
 "metadata": {
  "name": "",
  "signature": "sha256:20cafa1dae3cbf9c96927143b871eedb820ac22189436ebd2b5ff596282d0dad"
 },
 "nbformat": 3,
 "nbformat_minor": 0,
 "worksheets": [
  {
   "cells": [
    {
     "cell_type": "heading",
     "level": 1,
     "metadata": {},
     "source": [
      "Criterios de Rango de Popov - Belevitch - Hautus"
     ]
    },
    {
     "cell_type": "markdown",
     "metadata": {},
     "source": [
      "Existen varios criterios a los que se les denomina Popov - Belevitch - Hautus (o PBH) debido a que se desarrollaron simultaneamente y atacan problemas muy similares."
     ]
    },
    {
     "cell_type": "heading",
     "level": 2,
     "metadata": {},
     "source": [
      "Pruebas de eigenvectores PBH"
     ]
    },
    {
     "cell_type": "markdown",
     "metadata": {},
     "source": [
      "Primero\n",
      "\n",
      "> Un par $(A, b)$ ser\u00e1 no controlable si y solo si, existe un vector fila $q$ tal que:\n",
      ">\n",
      "> $$ q A = \\lambda q \\quad q b = 0 $$\n",
      ">\n",
      "> En otras palabras $(A, b)$ ser\u00e1 controlable si y solo si no existe eigenvector fila de $A$ que sea ortogonal a $b$.\n",
      "\n",
      "Segundo\n",
      "\n",
      "> Un par $(c, A)$ ser\u00e1 no observable si y solo si, existe un vector columna $p$ tal que:\n",
      ">\n",
      "> $$ A p = \\lambda p \\quad c p = 0 $$\n",
      ">\n",
      "> En otras palabras si y solo si existe un eigenvector en A que sea ortogonal a $c$."
     ]
    },
    {
     "cell_type": "heading",
     "level": 3,
     "metadata": {},
     "source": [
      "Demostraci\u00f3n"
     ]
    },
    {
     "cell_type": "markdown",
     "metadata": {},
     "source": [
      "Necesidad\n",
      "\n",
      "> Si existe una $q \\ne 0$ tal que $q A = \\lambda q$ y $q b = 0$, entonces:\n",
      ">\n",
      "> $$ q A b = \\lambda q b = 0 $$\n",
      ">\n",
      "> y por lo tanto, tambien:\n",
      "\n",
      "> $$ q A^2 b = \\lambda q A b $$\n",
      ">\n",
      "> y continuando asi, obtenemos que:\n",
      ">\n",
      "> $$ q C_{(A, b)} = q \\begin{pmatrix} b & Ab & \\dots & A^{n-1} b \\end{pmatrix} = 0$$\n",
      ">\n",
      "> lo cual implica que $C_{(A, b)}$ es singular y por lo tanto $(A, b)$ no es controlable.\n",
      "\n",
      "Suficiencia\n",
      "\n",
      "> Para esta parte queremos demostrar que la no controlabilidad del par $(A, b)$ implica la existencia de un vector $q$ tal que se cumpla la proposici\u00f3n inicial. Para empezar, tenemos una representaci\u00f3n del sistema, en la que es notable a primera vista que no es controlable el sistema.\n",
      ">\n",
      "> $$ A = \\begin{pmatrix} A_c & A_{cc} \\\\ 0 & A_{\\bar{c}} \\end{pmatrix} \\quad b = \\begin{pmatrix} b_c \\\\ 0 \\end{pmatrix} $$\n",
      ">\n",
      "> En donde el rango de $C_{(A, b)}$ es $r$ y la dimensi\u00f3n de $A$ es $n$, por lo que es obvio que $r < n$. Teniendo esto, es claro que el vector $q$ que debemos escoger para que se cumpla nuestra proposici\u00f3n original es:\n",
      ">\n",
      "> $$ q = \\begin{pmatrix} 0 & z \\end{pmatrix} $$\n",
      ">\n",
      "> En donde $z$ debe ser el eigenvector de $A_{\\bar{c}}$, por lo que:\n",
      ">\n",
      "> $$ z A_{\\bar{c}} = \\lambda z $$\n",
      ">\n",
      "> y por lo tanto:\n",
      ">\n",
      "> $$\n",
      "q A =\n",
      "\\begin{pmatrix} 0 & z \\end{pmatrix} A =\n",
      "\\begin{pmatrix} 0 & z A_{\\bar{c}} \\end{pmatrix} =\n",
      "\\begin{pmatrix} 0 & \\lambda z \\end{pmatrix} =\n",
      "\\lambda q\n",
      "$$\n",
      ">\n",
      "> Asi pues, hemos demostrado como encontrar un vector que cumpla con la proposici\u00f3n inicial, y por lo tanto demostrando la primera parte. Con respecto a la segunda, tan solo tenemos que hacer notar que debido a la dualidad que existe entre las representaciones controlabilidad y observabilidad, la prueba de esta primera parte tambien cubre la segunda."
     ]
    },
    {
     "cell_type": "heading",
     "level": 2,
     "metadata": {},
     "source": [
      "Pruebas de rango PBH"
     ]
    },
    {
     "cell_type": "markdown",
     "metadata": {},
     "source": [
      "Primero\n",
      "\n",
      "> Un par $(A, b)$ ser\u00e1 controlable si y solo si:\n",
      ">\n",
      "> $$ \\text{rango} \\begin{pmatrix} sI - A & b \\end{pmatrix} = n \\quad \\forall s$$\n",
      ">\n",
      "> donde $n$ es la dimensi\u00f3n de $A$.\n",
      "\n",
      "Segundo\n",
      "\n",
      "> Un par $(c, A)$ ser\u00e1 observable si y solo si:\n",
      ">\n",
      "> $$ \\text{rango} \\begin{pmatrix} c \\\\ sI - A \\end{pmatrix} = n \\quad \\forall s$$\n",
      ">\n",
      "> donde $n$ es la dimensi\u00f3n de $A$.\n",
      "\n",
      "En general estas condiciones se cumplen para cualquier valor de $s$ que no sea un eigenvalor de $A$ ya que el agregar filas o columnas a una matriz no disminuye el rango de esta; el punto importante esta en demostrar que incluso en el caso de que $s$ tome el valor de los eigenvalores, esta nueva matriz no pierde rango."
     ]
    },
    {
     "cell_type": "heading",
     "level": 3,
     "metadata": {},
     "source": [
      "Demostraci\u00f3n"
     ]
    },
    {
     "cell_type": "markdown",
     "metadata": {},
     "source": [
      "> Si $\\begin{pmatrix} sI - A & b \\end{pmatrix}$ tiene rango $n$, no puede haber vector $q$ tal que:\n",
      ">\n",
      "> $$ q \\begin{pmatrix} sI - A & b \\end{pmatrix} = 0 \\quad \\forall s $$\n",
      ">\n",
      "> $$ \\begin{pmatrix} qsI - qA & qb \\end{pmatrix} = 0 \\implies qb = 0 \\quad qA = sq $$\n",
      ">\n",
      "> por lo que la prueba de estas aseveraciones se reducen a lo que ya hemos probado. De igual manera, podemos decir que por dualidad la segunda proposici\u00f3n se cumple."
     ]
    }
   ],
   "metadata": {}
  }
 ]
}