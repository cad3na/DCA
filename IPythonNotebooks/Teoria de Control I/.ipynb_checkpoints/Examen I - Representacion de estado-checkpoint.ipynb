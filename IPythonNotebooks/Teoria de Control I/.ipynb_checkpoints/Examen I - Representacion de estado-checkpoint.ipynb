{
 "metadata": {
  "name": "",
  "signature": "sha256:b13eba310cb7d63a099a9d9d8a534de7d54a9f963506b9810496a0378d0aa2c7"
 },
 "nbformat": 3,
 "nbformat_minor": 0,
 "worksheets": [
  {
   "cells": [
    {
     "cell_type": "code",
     "collapsed": false,
     "input": [
      "%matplotlib inline\n",
      "from matplotlib.pyplot import plot, figure, legend, style\n",
      "from control import ss, step_response, forced_response, tf, acker\n",
      "from numpy import linspace, matrix, sign, hstack, vstack, roots\n",
      "from numpy.linalg import det, eig\n",
      "from sympy import var, Matrix, eye, init_printing, roots\n",
      "init_printing()"
     ],
     "language": "python",
     "metadata": {},
     "outputs": [],
     "prompt_number": 124
    },
    {
     "cell_type": "markdown",
     "metadata": {},
     "source": [
      "Fecha de Nacimiento: 18-07-86"
     ]
    },
    {
     "cell_type": "markdown",
     "metadata": {},
     "source": [
      "Sea $d$ el mayor digito de su dia de nacimiento, $m$ el mayor digito de su mes de nacimiento y $r$ el mayor de estos dos."
     ]
    },
    {
     "cell_type": "markdown",
     "metadata": {},
     "source": [
      "Sea un sistema lineal invariante en el tiempo, descrito por la siguiente EDO:\n",
      "\n",
      "$$\n",
      "\\left( \\frac{d^3}{dt^3} + \\frac{d^2}{dt^2} \\right) y(t) = \\left( \\frac{d}{dt} - d \\right) \\left( \\frac{d}{dt} + m \\right) u(t)\n",
      "$$\n",
      "\n",
      "donde $y(t)$ es la salida y $u(t)$ es la entrada.\n",
      "\n",
      "Para nuestro  ex\u00e1men en particular:\n",
      "\n",
      "$$\n",
      "\\left( \\frac{d^3}{dt^3} + \\frac{d^2}{dt^2} \\right) y(t) = \\left( \\frac{d}{dt} - 8 \\right) \\left( \\frac{d}{dt} + 7 \\right) u(t)\n",
      "$$"
     ]
    },
    {
     "cell_type": "heading",
     "level": 1,
     "metadata": {},
     "source": [
      "1 - Representaci\u00f3n de estado"
     ]
    },
    {
     "cell_type": "markdown",
     "metadata": {},
     "source": [
      "* Dar una representaci\u00f3n de estado,\n",
      "$$\n",
      "\\frac{dx(t)}{dt} = A x(t) + b u(t)\n",
      "$$\n",
      "$$\n",
      "y(t) = c^T x(t)\n",
      "$$\n",
      "del sistema descrito, tal que su matriz de controlabilidad sea de rango pleno por filas.\n",
      "\n",
      "* De la representaci\u00f3n de estado propuesta calcule\n",
      "    * Su funci\u00f3n de transferencia\n",
      "    * Su espectro (valores propios)\n",
      "    * Los ceros del sistema\n",
      "    * El determinante de su matriz controlabilidad\n",
      "    * El determinante de su matriz de observabilidad"
     ]
    },
    {
     "cell_type": "markdown",
     "metadata": {},
     "source": [
      "$s^3 + s^2$\n",
      "\n",
      "$s^2 - as + ab$"
     ]
    },
    {
     "cell_type": "code",
     "collapsed": false,
     "input": [
      "G = tf([0, 1, -1, 56], [1, 1, 0, 0])"
     ],
     "language": "python",
     "metadata": {},
     "outputs": [],
     "prompt_number": 167
    },
    {
     "cell_type": "code",
     "collapsed": false,
     "input": [
      "RE = ss(G)"
     ],
     "language": "python",
     "metadata": {},
     "outputs": [],
     "prompt_number": 168
    },
    {
     "cell_type": "code",
     "collapsed": false,
     "input": [
      "A = RE.A\n",
      "A"
     ],
     "language": "python",
     "metadata": {},
     "outputs": [
      {
       "metadata": {},
       "output_type": "pyout",
       "prompt_number": 169,
       "text": [
        "matrix([[  4.44089210e-16,  -4.61404088e-16,   3.31856603e-16],\n",
        "        [ -1.00000000e+00,  -4.69305777e-16,   3.15808984e-17],\n",
        "        [  0.00000000e+00,   1.00000000e+00,  -1.00000000e+00]])"
       ]
      }
     ],
     "prompt_number": 169
    },
    {
     "cell_type": "code",
     "collapsed": false,
     "input": [
      "b = RE.B\n",
      "b"
     ],
     "language": "python",
     "metadata": {},
     "outputs": [
      {
       "metadata": {},
       "output_type": "pyout",
       "prompt_number": 170,
       "text": [
        "matrix([[-5.6],\n",
        "        [-0.1],\n",
        "        [ 0.1]])"
       ]
      }
     ],
     "prompt_number": 170
    },
    {
     "cell_type": "code",
     "collapsed": false,
     "input": [
      "c = RE.C\n",
      "c"
     ],
     "language": "python",
     "metadata": {},
     "outputs": [
      {
       "metadata": {},
       "output_type": "pyout",
       "prompt_number": 171,
       "text": [
        "matrix([[ 0.,  0., 10.]])"
       ]
      }
     ],
     "prompt_number": 171
    },
    {
     "cell_type": "code",
     "collapsed": false,
     "input": [
      "Co = hstack([b ,A*b, A*A*b])"
     ],
     "language": "python",
     "metadata": {},
     "outputs": [],
     "prompt_number": 73
    },
    {
     "cell_type": "code",
     "collapsed": false,
     "input": [
      "det(Co)"
     ],
     "language": "python",
     "metadata": {},
     "outputs": [
      {
       "latex": [
        "$$-181.888$$"
       ],
       "metadata": {},
       "output_type": "pyout",
       "png": "[encoded data removed]",
       "prompt_number": 74,
       "text": [
        "-181.888"
       ]
      }
     ],
     "prompt_number": 74
    },
    {
     "cell_type": "code",
     "collapsed": false,
     "input": [
      "d=RE.D\n",
      "d"
     ],
     "language": "python",
     "metadata": {},
     "outputs": [
      {
       "metadata": {},
       "output_type": "pyout",
       "prompt_number": 61,
       "text": [
        "matrix([[ 0.]])"
       ]
      }
     ],
     "prompt_number": 61
    },
    {
     "cell_type": "code",
     "collapsed": false,
     "input": [
      "A = matrix([[0, 1, 0], [0, 0, 1], [0, 0, -1]])\n",
      "b = matrix([[0], [0], [1]])\n",
      "c = matrix([[-9], [0], [1]])"
     ],
     "language": "python",
     "metadata": {},
     "outputs": [],
     "prompt_number": 184
    },
    {
     "cell_type": "code",
     "collapsed": false,
     "input": [
      "Co = hstack([b ,A*b, A*A*b])\n",
      "Co"
     ],
     "language": "python",
     "metadata": {},
     "outputs": [
      {
       "metadata": {},
       "output_type": "pyout",
       "prompt_number": 185,
       "text": [
        "matrix([[ 0,  0,  1],\n",
        "        [ 0,  1, -1],\n",
        "        [ 1, -1,  1]])"
       ]
      }
     ],
     "prompt_number": 185
    },
    {
     "cell_type": "code",
     "collapsed": false,
     "input": [
      "det(Co)"
     ],
     "language": "python",
     "metadata": {},
     "outputs": [
      {
       "latex": [
        "$$-1.0$$"
       ],
       "metadata": {},
       "output_type": "pyout",
       "png": "[encoded data removed]",
       "prompt_number": 186,
       "text": [
        "-1.0"
       ]
      }
     ],
     "prompt_number": 186
    },
    {
     "cell_type": "code",
     "collapsed": false,
     "input": [
      "var(\"s\")"
     ],
     "language": "python",
     "metadata": {},
     "outputs": [
      {
       "latex": [
        "$$s$$"
       ],
       "metadata": {},
       "output_type": "pyout",
       "png": "[encoded data removed]",
       "prompt_number": 144,
       "text": [
        "s"
       ]
      }
     ],
     "prompt_number": 144
    },
    {
     "cell_type": "code",
     "collapsed": false,
     "input": [
      "c.T*(s*eye(3) - A).inv()*b"
     ],
     "language": "python",
     "metadata": {},
     "outputs": [
      {
       "latex": [
        "$$\\left[\\begin{matrix}\\frac{1}{s + 1} - \\frac{9}{s^{2} \\left(s + 1\\right)}\\end{matrix}\\right]$$"
       ],
       "metadata": {},
       "output_type": "pyout",
       "png": "[encoded data removed]",
       "prompt_number": 187,
       "text": [
        "\u23a1  1         9     \u23a4\n",
        "\u23a2\u2500\u2500\u2500\u2500\u2500 - \u2500\u2500\u2500\u2500\u2500\u2500\u2500\u2500\u2500\u2500\u23a5\n",
        "\u23a2s + 1    2        \u23a5\n",
        "\u23a3        s \u22c5(s + 1)\u23a6"
       ]
      }
     ],
     "prompt_number": 187
    },
    {
     "cell_type": "code",
     "collapsed": false,
     "input": [
      "eig(A)"
     ],
     "language": "python",
     "metadata": {},
     "outputs": [
      {
       "metadata": {},
       "output_type": "pyout",
       "prompt_number": 188,
       "text": [
        "(array([ 0.,  0., -1.]),\n",
        " matrix([[  1.00000000e+000,  -1.00000000e+000,   5.77350269e-001],\n",
        "         [  0.00000000e+000,   3.00625254e-292,  -5.77350269e-001],\n",
        "         [  0.00000000e+000,   0.00000000e+000,   5.77350269e-001]]))"
       ]
      }
     ],
     "prompt_number": 188
    },
    {
     "cell_type": "code",
     "collapsed": false,
     "input": [
      "E = vstack([hstack([s*eye(3) - A, b]), hstack([c.T, d])])\n",
      "E"
     ],
     "language": "python",
     "metadata": {},
     "outputs": [
      {
       "metadata": {},
       "output_type": "pyout",
       "prompt_number": 189,
       "text": [
        "matrix([[s, -1, 0, 0],\n",
        "        [0, s, -1, 0],\n",
        "        [0, 0, s + 1, 1],\n",
        "        [-9.0, 0.0, 1.0, 0.0]], dtype=object)"
       ]
      }
     ],
     "prompt_number": 189
    },
    {
     "cell_type": "code",
     "collapsed": false,
     "input": [
      "Matrix(E).det()"
     ],
     "language": "python",
     "metadata": {},
     "outputs": [
      {
       "latex": [
        "$$- 1.0 s^{2} + 9.0$$"
       ],
       "metadata": {},
       "output_type": "pyout",
       "png": "[encoded data removed]",
       "prompt_number": 190,
       "text": [
        "       2      \n",
        "- 1.0\u22c5s  + 9.0"
       ]
      }
     ],
     "prompt_number": 190
    },
    {
     "cell_type": "code",
     "collapsed": false,
     "input": [
      "roots([-1, 0,  9])"
     ],
     "language": "python",
     "metadata": {},
     "outputs": [
      {
       "latex": [
        "$$\\begin{Bmatrix}-3 : 1, & 3 : 1\\end{Bmatrix}$$"
       ],
       "metadata": {},
       "output_type": "pyout",
       "png": "[encoded data removed]",
       "prompt_number": 191,
       "text": [
        "{-3: 1, 3: 1}"
       ]
      }
     ],
     "prompt_number": 191
    },
    {
     "cell_type": "code",
     "collapsed": false,
     "input": [
      "Ob = vstack([c.T, c.T*A, c.T*A*A])\n",
      "Ob"
     ],
     "language": "python",
     "metadata": {},
     "outputs": [
      {
       "metadata": {},
       "output_type": "pyout",
       "prompt_number": 192,
       "text": [
        "matrix([[-9,  0,  1],\n",
        "        [ 0, -9, -1],\n",
        "        [ 0,  0, -8]])"
       ]
      }
     ],
     "prompt_number": 192
    },
    {
     "cell_type": "code",
     "collapsed": false,
     "input": [
      "det(Ob)"
     ],
     "language": "python",
     "metadata": {},
     "outputs": [
      {
       "latex": [
        "$$-648.0$$"
       ],
       "metadata": {},
       "output_type": "pyout",
       "png": "[encoded data removed]",
       "prompt_number": 193,
       "text": [
        "-648.0"
       ]
      }
     ],
     "prompt_number": 193
    },
    {
     "cell_type": "heading",
     "level": 1,
     "metadata": {},
     "source": [
      "2 - Retroalimentaci\u00f3n de estado"
     ]
    },
    {
     "cell_type": "markdown",
     "metadata": {},
     "source": [
      "Dise\u00f1e una retroalimentaci\u00f3n de estado\n",
      "\n",
      "$$\n",
      "u(t) = f^T x(t) + v(t)\n",
      "$$\n",
      "\n",
      "tal que:\n",
      "\n",
      "* La funci\u00f3n de transferencia en lazo cerrado sea $\\frac{s-d}{(s+m)^2}$\n",
      "* \u00bfEs factible que la funci\u00f3n de transferencia en lazo cerrado: $\\frac{1}{s+m}$? Justifique su respuesta"
     ]
    },
    {
     "cell_type": "markdown",
     "metadata": {},
     "source": [
      "queremos que el denominador quede $(s+m)^3$"
     ]
    },
    {
     "cell_type": "code",
     "collapsed": false,
     "input": [
      "((s+7)**3).expand()"
     ],
     "language": "python",
     "metadata": {},
     "outputs": [
      {
       "latex": [
        "$$s^{3} + 21 s^{2} + 147 s + 343$$"
       ],
       "metadata": {},
       "output_type": "pyout",
       "png": "[encoded data removed]",
       "prompt_number": 152,
       "text": [
        " 3       2              \n",
        "s  + 21\u22c5s  + 147\u22c5s + 343"
       ]
      }
     ],
     "prompt_number": 152
    },
    {
     "cell_type": "code",
     "collapsed": false,
     "input": [
      "f = acker(A, b, [-3, -3, -3])\n",
      "f = f.T\n",
      "f"
     ],
     "language": "python",
     "metadata": {},
     "outputs": [
      {
       "metadata": {},
       "output_type": "pyout",
       "prompt_number": 194,
       "text": [
        "matrix([[ 27.],\n",
        "        [ 27.],\n",
        "        [  8.]])"
       ]
      }
     ],
     "prompt_number": 194
    },
    {
     "cell_type": "code",
     "collapsed": false,
     "input": [
      "Af = A + b*f.T\n",
      "Af"
     ],
     "language": "python",
     "metadata": {},
     "outputs": [
      {
       "metadata": {},
       "output_type": "pyout",
       "prompt_number": 179,
       "text": [
        "matrix([[  9.,  18.,  -9.],\n",
        "        [  1.,   0.,   0.],\n",
        "        [  1.,   1.,  -2.]])"
       ]
      }
     ],
     "prompt_number": 179
    },
    {
     "cell_type": "code",
     "collapsed": false,
     "input": [
      "PCf = (s*eye(3) - Af).det()\n",
      "PCf.factor()"
     ],
     "language": "python",
     "metadata": {},
     "outputs": [
      {
       "latex": [
        "$$1.0 \\left(1.0 s^{3} - 7.0 s^{2} - 27.0 s - 27.0\\right)$$"
       ],
       "metadata": {},
       "output_type": "pyout",
       "png": "[encoded data removed]",
       "prompt_number": 181,
       "text": [
        "    \u239b     3        2                \u239e\n",
        "1.0\u22c5\u239d1.0\u22c5s  - 7.0\u22c5s  - 27.0\u22c5s - 27.0\u23a0"
       ]
      }
     ],
     "prompt_number": 181
    },
    {
     "cell_type": "code",
     "collapsed": false,
     "input": [
      "roots([1, -7, -27, -27])"
     ],
     "language": "python",
     "metadata": {},
     "outputs": [
      {
       "latex": [
        "$$\\begin{Bmatrix}\\frac{7}{3} + \\left(- \\frac{1}{2} - \\frac{\\sqrt{3} i}{2}\\right) \\sqrt[3]{2 \\sqrt{79} + \\frac{1558}{27}} + \\frac{130}{9 \\left(- \\frac{1}{2} - \\frac{\\sqrt{3} i}{2}\\right) \\sqrt[3]{2 \\sqrt{79} + \\frac{1558}{27}}} : 1, & \\frac{7}{3} + \\frac{130}{9 \\left(- \\frac{1}{2} + \\frac{\\sqrt{3} i}{2}\\right) \\sqrt[3]{2 \\sqrt{79} + \\frac{1558}{27}}} + \\left(- \\frac{1}{2} + \\frac{\\sqrt{3} i}{2}\\right) \\sqrt[3]{2 \\sqrt{79} + \\frac{1558}{27}} : 1, & \\frac{7}{3} + \\frac{130}{9 \\sqrt[3]{2 \\sqrt{79} + \\frac{1558}{27}}} + \\sqrt[3]{2 \\sqrt{79} + \\frac{1558}{27}} : 1\\end{Bmatrix}$$"
       ],
       "metadata": {},
       "output_type": "pyout",
       "png": "[encoded data removed]",
       "prompt_number": 183,
       "text": [
        "\u23a7    \u239b        ___  \u239e     _________________                                    \n",
        "\u23aa7   \u239c  1   \u2572\u2571 3 \u22c5\u2148\u239f    \u2571     ____   1558                      130            \n",
        "\u23aa\u2500 + \u239c- \u2500 - \u2500\u2500\u2500\u2500\u2500\u2500\u2500\u239f\u22c53 \u2571  2\u22c5\u2572\u2571 79  + \u2500\u2500\u2500\u2500  + \u2500\u2500\u2500\u2500\u2500\u2500\u2500\u2500\u2500\u2500\u2500\u2500\u2500\u2500\u2500\u2500\u2500\u2500\u2500\u2500\u2500\u2500\u2500\u2500\u2500\u2500\u2500\u2500\u2500\u2500\u2500\u2500\u2500\n",
        "\u23a83   \u239d  2      2   \u23a0 \u2572\u2571               27       \u239b        ___  \u239e     ___________\n",
        "\u23aa                                              \u239c  1   \u2572\u2571 3 \u22c5\u2148\u239f    \u2571     ____  \n",
        "\u23aa                                            9\u22c5\u239c- \u2500 - \u2500\u2500\u2500\u2500\u2500\u2500\u2500\u239f\u22c53 \u2571  2\u22c5\u2572\u2571 79  +\n",
        "\u23a9                                              \u239d  2      2   \u23a0 \u2572\u2571             \n",
        "\n",
        "                                                         \u239b        ___  \u239e     _\n",
        "           7                     130                     \u239c  1   \u2572\u2571 3 \u22c5\u2148\u239f    \u2571 \n",
        "\u2500\u2500\u2500\u2500\u2500\u2500: 1, \u2500 + \u2500\u2500\u2500\u2500\u2500\u2500\u2500\u2500\u2500\u2500\u2500\u2500\u2500\u2500\u2500\u2500\u2500\u2500\u2500\u2500\u2500\u2500\u2500\u2500\u2500\u2500\u2500\u2500\u2500\u2500\u2500\u2500\u2500\u2500\u2500\u2500\u2500\u2500\u2500 + \u239c- \u2500 + \u2500\u2500\u2500\u2500\u2500\u2500\u2500\u239f\u22c53 \u2571  \n",
        "______     3     \u239b        ___  \u239e     _________________   \u239d  2      2   \u23a0 \u2572\u2571   \n",
        " 1558            \u239c  1   \u2572\u2571 3 \u22c5\u2148\u239f    \u2571     ____   1558                         \n",
        " \u2500\u2500\u2500\u2500          9\u22c5\u239c- \u2500 + \u2500\u2500\u2500\u2500\u2500\u2500\u2500\u239f\u22c53 \u2571  2\u22c5\u2572\u2571 79  + \u2500\u2500\u2500\u2500                         \n",
        "  27             \u239d  2      2   \u23a0 \u2572\u2571               27                          \n",
        "\n",
        "________________                                       _________________   \u23ab\n",
        "    ____   1558      7             130                \u2571     ____   1558    \u23aa\n",
        "2\u22c5\u2572\u2571 79  + \u2500\u2500\u2500\u2500 : 1, \u2500 + \u2500\u2500\u2500\u2500\u2500\u2500\u2500\u2500\u2500\u2500\u2500\u2500\u2500\u2500\u2500\u2500\u2500\u2500\u2500\u2500\u2500\u2500\u2500 + 3 \u2571  2\u22c5\u2572\u2571 79  + \u2500\u2500\u2500\u2500 : 1\u23aa\n",
        "            27       3         _________________   \u2572\u2571               27     \u23ac\n",
        "                              \u2571     ____   1558                            \u23aa\n",
        "                         9\u22c53 \u2571  2\u22c5\u2572\u2571 79  + \u2500\u2500\u2500\u2500                            \u23aa\n",
        "                           \u2572\u2571               27                             \u23ad"
       ]
      }
     ],
     "prompt_number": 183
    },
    {
     "cell_type": "code",
     "collapsed": false,
     "input": [
      "c.T * (s*eye(3) - Af).inv()*b"
     ],
     "language": "python",
     "metadata": {},
     "outputs": [
      {
       "latex": [
        "$$\\left[\\begin{matrix}\\frac{1}{s + 23.0 - \\frac{147.0}{s} + \\frac{343.0}{s^{2}}} - \\frac{1.0}{s \\left(s + 23.0 - \\frac{147.0}{s} + \\frac{343.0}{s^{2}}\\right)} + \\frac{56.0}{s^{2} \\left(s + 23.0 - \\frac{147.0}{s} + \\frac{343.0}{s^{2}}\\right)}\\end{matrix}\\right]$$"
       ],
       "metadata": {},
       "output_type": "pyout",
       "png": "[encoded data removed]",
       "prompt_number": 161,
       "text": [
        "\u23a1           1                           1.0                             56.0  \n",
        "\u23a2\u2500\u2500\u2500\u2500\u2500\u2500\u2500\u2500\u2500\u2500\u2500\u2500\u2500\u2500\u2500\u2500\u2500\u2500\u2500\u2500\u2500\u2500\u2500\u2500 - \u2500\u2500\u2500\u2500\u2500\u2500\u2500\u2500\u2500\u2500\u2500\u2500\u2500\u2500\u2500\u2500\u2500\u2500\u2500\u2500\u2500\u2500\u2500\u2500\u2500\u2500\u2500\u2500 + \u2500\u2500\u2500\u2500\u2500\u2500\u2500\u2500\u2500\u2500\u2500\u2500\u2500\u2500\u2500\u2500\u2500\u2500\u2500\n",
        "\u23a2           147.0   343.0     \u239b           147.0   343.0\u239e    2 \u239b           147.\n",
        "\u23a2s + 23.0 - \u2500\u2500\u2500\u2500\u2500 + \u2500\u2500\u2500\u2500\u2500   s\u22c5\u239cs + 23.0 - \u2500\u2500\u2500\u2500\u2500 + \u2500\u2500\u2500\u2500\u2500\u239f   s \u22c5\u239cs + 23.0 - \u2500\u2500\u2500\u2500\n",
        "\u23a2             s        2      \u239c             s        2 \u239f      \u239c             s \n",
        "\u23a3                     s       \u239d                     s  \u23a0      \u239d               \n",
        "\n",
        "          \u23a4\n",
        "\u2500\u2500\u2500\u2500\u2500\u2500\u2500\u2500\u2500\u2500\u23a5\n",
        "0   343.0\u239e\u23a5\n",
        "\u2500 + \u2500\u2500\u2500\u2500\u2500\u239f\u23a5\n",
        "       2 \u239f\u23a5\n",
        "      s  \u23a0\u23a6"
       ]
      }
     ],
     "prompt_number": 161
    },
    {
     "cell_type": "code",
     "collapsed": false,
     "input": [
      "A"
     ],
     "language": "python",
     "metadata": {},
     "outputs": [
      {
       "metadata": {},
       "output_type": "pyout",
       "prompt_number": 162,
       "text": [
        "matrix([[ 0,  1,  0],\n",
        "        [ 0,  0,  1],\n",
        "        [ 0,  0, -1]])"
       ]
      }
     ],
     "prompt_number": 162
    },
    {
     "cell_type": "code",
     "collapsed": false,
     "input": [
      "b"
     ],
     "language": "python",
     "metadata": {},
     "outputs": [
      {
       "metadata": {},
       "output_type": "pyout",
       "prompt_number": 163,
       "text": [
        "matrix([[0],\n",
        "        [0],\n",
        "        [1]])"
       ]
      }
     ],
     "prompt_number": 163
    },
    {
     "cell_type": "code",
     "collapsed": false,
     "input": [
      "RE.feedback()"
     ],
     "language": "python",
     "metadata": {},
     "outputs": [
      {
       "metadata": {},
       "output_type": "pyout",
       "prompt_number": 164,
       "text": [
        "<control.statesp.StateSpace instance at 0x10976f950>"
       ]
      }
     ],
     "prompt_number": 164
    },
    {
     "cell_type": "code",
     "collapsed": false,
     "input": [],
     "language": "python",
     "metadata": {},
     "outputs": []
    }
   ],
   "metadata": {}
  }
 ]
}