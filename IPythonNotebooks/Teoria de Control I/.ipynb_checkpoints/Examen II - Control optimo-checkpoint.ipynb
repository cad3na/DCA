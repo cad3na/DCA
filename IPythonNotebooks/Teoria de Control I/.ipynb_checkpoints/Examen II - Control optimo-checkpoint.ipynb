{
 "metadata": {
  "name": "",
  "signature": "sha256:8962f7c3733de6b639c981254553640f8a55a7e40310fb1ef88d4ed28be7aa50"
 },
 "nbformat": 3,
 "nbformat_minor": 0,
 "worksheets": [
  {
   "cells": [
    {
     "cell_type": "code",
     "collapsed": false,
     "input": [
      "d = 8\n",
      "m = 7\n",
      "p = max(d, m)\n",
      "z = min(d, m)\n",
      "rho = d + m\n",
      "print \"d: \" + str(d) + \", m: \" + str(m) + \", p: \" + str(p) + \", z: \" + str(z) + \", rho: \" + str(rho) "
     ],
     "language": "python",
     "metadata": {},
     "outputs": [
      {
       "output_type": "stream",
       "stream": "stdout",
       "text": [
        "d: 8, m: 7, p: 8, z: 7, rho: 15\n"
       ]
      }
     ],
     "prompt_number": 1
    },
    {
     "cell_type": "code",
     "collapsed": false,
     "input": [
      "%matplotlib inline\n",
      "from matplotlib.pyplot import plot, figure, gca, legend, style"
     ],
     "language": "python",
     "metadata": {},
     "outputs": [],
     "prompt_number": 2
    },
    {
     "cell_type": "code",
     "collapsed": false,
     "input": [
      "from control import care, ss, forced_response, tf\n",
      "from numpy import matrix, eye, linspace, sign, array, concatenate\n",
      "from numpy.linalg import eig, det"
     ],
     "language": "python",
     "metadata": {},
     "outputs": [],
     "prompt_number": 101
    },
    {
     "cell_type": "code",
     "collapsed": false,
     "input": [
      "from sympy import var, Matrix, eye, init_printing, roots, solve\n",
      "init_printing()"
     ],
     "language": "python",
     "metadata": {},
     "outputs": [],
     "prompt_number": 4
    },
    {
     "cell_type": "code",
     "collapsed": false,
     "input": [
      "var(\"s\")\n",
      "var(\"x:3\")"
     ],
     "language": "python",
     "metadata": {},
     "outputs": [
      {
       "latex": [
        "$$\\begin{pmatrix}x_{0}, & x_{1}, & x_{2}\\end{pmatrix}$$"
       ],
       "metadata": {},
       "output_type": "pyout",
       "png": "[encoded data removed]",
       "prompt_number": 5,
       "text": [
        "(x\u2080, x\u2081, x\u2082)"
       ]
      }
     ],
     "prompt_number": 5
    },
    {
     "cell_type": "code",
     "collapsed": false,
     "input": [
      "A = Matrix([[0, 1], [0, 0]])\n",
      "b = Matrix([[0], [1]])\n",
      "c = Matrix([[-z], [1]])\n",
      "d = 0"
     ],
     "language": "python",
     "metadata": {},
     "outputs": [],
     "prompt_number": 6
    },
    {
     "cell_type": "code",
     "collapsed": false,
     "input": [
      "A"
     ],
     "language": "python",
     "metadata": {},
     "outputs": [
      {
       "latex": [
        "$$\\left[\\begin{matrix}0 & 1\\\\0 & 0\\end{matrix}\\right]$$"
       ],
       "metadata": {},
       "output_type": "pyout",
       "png": "[encoded data removed]",
       "prompt_number": 7,
       "text": [
        "\u23a10  1\u23a4\n",
        "\u23a2    \u23a5\n",
        "\u23a30  0\u23a6"
       ]
      }
     ],
     "prompt_number": 7
    },
    {
     "cell_type": "code",
     "collapsed": false,
     "input": [
      "b"
     ],
     "language": "python",
     "metadata": {},
     "outputs": [
      {
       "latex": [
        "$$\\left[\\begin{matrix}0\\\\1\\end{matrix}\\right]$$"
       ],
       "metadata": {},
       "output_type": "pyout",
       "png": "[encoded data removed]",
       "prompt_number": 8,
       "text": [
        "\u23a10\u23a4\n",
        "\u23a2 \u23a5\n",
        "\u23a31\u23a6"
       ]
      }
     ],
     "prompt_number": 8
    },
    {
     "cell_type": "code",
     "collapsed": false,
     "input": [
      "c"
     ],
     "language": "python",
     "metadata": {},
     "outputs": [
      {
       "latex": [
        "$$\\left[\\begin{matrix}-7\\\\1\\end{matrix}\\right]$$"
       ],
       "metadata": {},
       "output_type": "pyout",
       "png": "[encoded data removed]",
       "prompt_number": 9,
       "text": [
        "\u23a1-7\u23a4\n",
        "\u23a2  \u23a5\n",
        "\u23a31 \u23a6"
       ]
      }
     ],
     "prompt_number": 9
    },
    {
     "cell_type": "code",
     "collapsed": false,
     "input": [
      "d"
     ],
     "language": "python",
     "metadata": {},
     "outputs": [
      {
       "latex": [
        "$$0$$"
       ],
       "metadata": {},
       "output_type": "pyout",
       "png": "[encoded data removed]",
       "prompt_number": 10,
       "text": [
        "0"
       ]
      }
     ],
     "prompt_number": 10
    },
    {
     "cell_type": "code",
     "collapsed": false,
     "input": [
      "C = b.row_join(A*b)\n",
      "C"
     ],
     "language": "python",
     "metadata": {},
     "outputs": [
      {
       "latex": [
        "$$\\left[\\begin{matrix}0 & 1\\\\1 & 0\\end{matrix}\\right]$$"
       ],
       "metadata": {},
       "output_type": "pyout",
       "png": "[encoded data removed]",
       "prompt_number": 11,
       "text": [
        "\u23a10  1\u23a4\n",
        "\u23a2    \u23a5\n",
        "\u23a31  0\u23a6"
       ]
      }
     ],
     "prompt_number": 11
    },
    {
     "cell_type": "code",
     "collapsed": false,
     "input": [
      "C.det()"
     ],
     "language": "python",
     "metadata": {},
     "outputs": [
      {
       "latex": [
        "$$-1$$"
       ],
       "metadata": {},
       "output_type": "pyout",
       "png": "[encoded data removed]",
       "prompt_number": 12,
       "text": [
        "-1"
       ]
      }
     ],
     "prompt_number": 12
    },
    {
     "cell_type": "code",
     "collapsed": false,
     "input": [
      "O = c.T.col_join(c.T*A)\n",
      "O"
     ],
     "language": "python",
     "metadata": {},
     "outputs": [
      {
       "latex": [
        "$$\\left[\\begin{matrix}-7 & 1\\\\0 & -7\\end{matrix}\\right]$$"
       ],
       "metadata": {},
       "output_type": "pyout",
       "png": "[encoded data removed]",
       "prompt_number": 13,
       "text": [
        "\u23a1-7  1 \u23a4\n",
        "\u23a2      \u23a5\n",
        "\u23a30   -7\u23a6"
       ]
      }
     ],
     "prompt_number": 13
    },
    {
     "cell_type": "code",
     "collapsed": false,
     "input": [
      "O.det()"
     ],
     "language": "python",
     "metadata": {},
     "outputs": [
      {
       "latex": [
        "$$49$$"
       ],
       "metadata": {},
       "output_type": "pyout",
       "png": "[encoded data removed]",
       "prompt_number": 14,
       "text": [
        "49"
       ]
      }
     ],
     "prompt_number": 14
    },
    {
     "cell_type": "code",
     "collapsed": false,
     "input": [
      "pol = (s + p)**2\n",
      "pol.expand()"
     ],
     "language": "python",
     "metadata": {},
     "outputs": [
      {
       "latex": [
        "$$s^{2} + 16 s + 64$$"
       ],
       "metadata": {},
       "output_type": "pyout",
       "png": "[encoded data removed]",
       "prompt_number": 15,
       "text": [
        " 2            \n",
        "s  + 16\u22c5s + 64"
       ]
      }
     ],
     "prompt_number": 15
    },
    {
     "cell_type": "code",
     "collapsed": false,
     "input": [
      "fp = Matrix([[-64], [-16]])\n",
      "fp"
     ],
     "language": "python",
     "metadata": {},
     "outputs": [
      {
       "latex": [
        "$$\\left[\\begin{matrix}-64\\\\-16\\end{matrix}\\right]$$"
       ],
       "metadata": {},
       "output_type": "pyout",
       "png": "[encoded data removed]",
       "prompt_number": 88,
       "text": [
        "\u23a1-64\u23a4\n",
        "\u23a2   \u23a5\n",
        "\u23a3-16\u23a6"
       ]
      }
     ],
     "prompt_number": 88
    },
    {
     "cell_type": "code",
     "collapsed": false,
     "input": [
      "Afp = A + b*fp.T\n",
      "Afp"
     ],
     "language": "python",
     "metadata": {},
     "outputs": [
      {
       "latex": [
        "$$\\left[\\begin{matrix}0 & 1\\\\-64 & -16\\end{matrix}\\right]$$"
       ],
       "metadata": {},
       "output_type": "pyout",
       "png": "[encoded data removed]",
       "prompt_number": 17,
       "text": [
        "\u23a1 0    1 \u23a4\n",
        "\u23a2        \u23a5\n",
        "\u23a3-64  -16\u23a6"
       ]
      }
     ],
     "prompt_number": 17
    },
    {
     "cell_type": "code",
     "collapsed": false,
     "input": [
      "Afp.eigenvals()"
     ],
     "language": "python",
     "metadata": {},
     "outputs": [
      {
       "latex": [
        "$$\\begin{Bmatrix}-8 : 2\\end{Bmatrix}$$"
       ],
       "metadata": {},
       "output_type": "pyout",
       "png": "[encoded data removed]",
       "prompt_number": 18,
       "text": [
        "{-8: 2}"
       ]
      }
     ],
     "prompt_number": 18
    },
    {
     "cell_type": "code",
     "collapsed": false,
     "input": [
      "Tp, Jp = Afp.jordan_form()\n",
      "Jp"
     ],
     "language": "python",
     "metadata": {},
     "outputs": [
      {
       "latex": [
        "$$\\left[\\begin{matrix}-8 & 1\\\\0 & -8\\end{matrix}\\right]$$"
       ],
       "metadata": {},
       "output_type": "pyout",
       "png": "[encoded data removed]",
       "prompt_number": 19,
       "text": [
        "\u23a1-8  1 \u23a4\n",
        "\u23a2      \u23a5\n",
        "\u23a30   -8\u23a6"
       ]
      }
     ],
     "prompt_number": 19
    },
    {
     "cell_type": "code",
     "collapsed": false,
     "input": [
      "bJp = Tp.inv()*b\n",
      "cJp = Tp.T*c"
     ],
     "language": "python",
     "metadata": {},
     "outputs": [],
     "prompt_number": 20
    },
    {
     "cell_type": "code",
     "collapsed": false,
     "input": [
      "MSp = (s*eye(2) - Jp).row_join(bJp).col_join(-cJp.T.row_join(Matrix([[0]])))\n",
      "MSp"
     ],
     "language": "python",
     "metadata": {},
     "outputs": [
      {
       "latex": [
        "$$\\left[\\begin{matrix}s + 8 & -1 & - \\frac{8}{4225}\\\\0 & s + 8 & \\frac{1}{65}\\\\975 & 55 & 0\\end{matrix}\\right]$$"
       ],
       "metadata": {},
       "output_type": "pyout",
       "png": "[encoded data removed]",
       "prompt_number": 21,
       "text": [
        "\u23a1s + 8   -1    -8/4225\u23a4\n",
        "\u23a2                     \u23a5\n",
        "\u23a2  0    s + 8   1/65  \u23a5\n",
        "\u23a2                     \u23a5\n",
        "\u23a3 975    55       0   \u23a6"
       ]
      }
     ],
     "prompt_number": 21
    },
    {
     "cell_type": "code",
     "collapsed": false,
     "input": [
      "1.0/15"
     ],
     "language": "python",
     "metadata": {},
     "outputs": [
      {
       "latex": [
        "$$0.0666666666667$$"
       ],
       "metadata": {},
       "output_type": "pyout",
       "png": "[encoded data removed]",
       "prompt_number": 22,
       "text": [
        "0.0666666666667"
       ]
      }
     ],
     "prompt_number": 22
    },
    {
     "cell_type": "code",
     "collapsed": false,
     "input": [
      "Q = c*c.T\n",
      "Q"
     ],
     "language": "python",
     "metadata": {},
     "outputs": [
      {
       "latex": [
        "$$\\left[\\begin{matrix}49 & -7\\\\-7 & 1\\end{matrix}\\right]$$"
       ],
       "metadata": {},
       "output_type": "pyout",
       "png": "[encoded data removed]",
       "prompt_number": 23,
       "text": [
        "\u23a149  -7\u23a4\n",
        "\u23a2      \u23a5\n",
        "\u23a3-7  1 \u23a6"
       ]
      }
     ],
     "prompt_number": 23
    },
    {
     "cell_type": "code",
     "collapsed": false,
     "input": [
      "Q.eigenvals()"
     ],
     "language": "python",
     "metadata": {},
     "outputs": [
      {
       "latex": [
        "$$\\begin{Bmatrix}0 : 1, & 50 : 1\\end{Bmatrix}$$"
       ],
       "metadata": {},
       "output_type": "pyout",
       "png": "[encoded data removed]",
       "prompt_number": 24,
       "text": [
        "{0: 1, 50: 1}"
       ]
      }
     ],
     "prompt_number": 24
    },
    {
     "cell_type": "code",
     "collapsed": false,
     "input": [
      "X = Matrix([[x1], [x2]])\n",
      "X"
     ],
     "language": "python",
     "metadata": {},
     "outputs": [
      {
       "latex": [
        "$$\\left[\\begin{matrix}x_{1}\\\\x_{2}\\end{matrix}\\right]$$"
       ],
       "metadata": {},
       "output_type": "pyout",
       "png": "[encoded data removed]",
       "prompt_number": 25,
       "text": [
        "\u23a1x\u2081\u23a4\n",
        "\u23a2  \u23a5\n",
        "\u23a3x\u2082\u23a6"
       ]
      }
     ],
     "prompt_number": 25
    },
    {
     "cell_type": "code",
     "collapsed": false,
     "input": [
      "c.T*X"
     ],
     "language": "python",
     "metadata": {},
     "outputs": [
      {
       "latex": [
        "$$\\left[\\begin{matrix}- 7 x_{1} + x_{2}\\end{matrix}\\right]$$"
       ],
       "metadata": {},
       "output_type": "pyout",
       "png": "[encoded data removed]",
       "prompt_number": 26,
       "text": [
        "[-7\u22c5x\u2081 + x\u2082]"
       ]
      }
     ],
     "prompt_number": 26
    },
    {
     "cell_type": "code",
     "collapsed": false,
     "input": [
      "c.T*A*X"
     ],
     "language": "python",
     "metadata": {},
     "outputs": [
      {
       "latex": [
        "$$\\left[\\begin{matrix}- 7 x_{2}\\end{matrix}\\right]$$"
       ],
       "metadata": {},
       "output_type": "pyout",
       "png": "[encoded data removed]",
       "prompt_number": 27,
       "text": [
        "[-7\u22c5x\u2082]"
       ]
      }
     ],
     "prompt_number": 27
    },
    {
     "cell_type": "code",
     "collapsed": false,
     "input": [
      "solve(Matrix([[(c.T*X)[0]-1], [(c.T*A*X)[0]-1]]))"
     ],
     "language": "python",
     "metadata": {},
     "outputs": [
      {
       "latex": [
        "$$\\begin{Bmatrix}x_{1} : - \\frac{8}{49}, & x_{2} : - \\frac{1}{7}\\end{Bmatrix}$$"
       ],
       "metadata": {},
       "output_type": "pyout",
       "png": "[encoded data removed]",
       "prompt_number": 28,
       "text": [
        "{x\u2081: -8/49, x\u2082: -1/7}"
       ]
      }
     ],
     "prompt_number": 28
    },
    {
     "cell_type": "code",
     "collapsed": false,
     "input": [
      "x0 = Matrix([[-8.0/49], [-1.0/7]])\n",
      "x0"
     ],
     "language": "python",
     "metadata": {},
     "outputs": [
      {
       "latex": [
        "$$\\left[\\begin{matrix}-0.163265306122449\\\\-0.142857142857143\\end{matrix}\\right]$$"
       ],
       "metadata": {},
       "output_type": "pyout",
       "png": "[encoded data removed]",
       "prompt_number": 29,
       "text": [
        "\u23a1-0.163265306122449\u23a4\n",
        "\u23a2                  \u23a5\n",
        "\u23a3-0.142857142857143\u23a6"
       ]
      }
     ],
     "prompt_number": 29
    },
    {
     "cell_type": "code",
     "collapsed": false,
     "input": [
      "A = matrix(A.tolist(), dtype=float)\n",
      "b = matrix(b.tolist(), dtype=float)\n",
      "c = matrix(c.tolist(), dtype=float)\n",
      "Q = matrix(Q.tolist(), dtype=float)\n",
      "x0 = matrix(x0.tolist(), dtype=float)\n",
      "Afp = matrix(Afp.tolist(), dtype=float)\n",
      "ceros = matrix([[0], [0]])"
     ],
     "language": "python",
     "metadata": {},
     "outputs": [],
     "prompt_number": 30
    },
    {
     "cell_type": "code",
     "collapsed": false,
     "input": [
      "Q"
     ],
     "language": "python",
     "metadata": {},
     "outputs": [
      {
       "metadata": {},
       "output_type": "pyout",
       "prompt_number": 31,
       "text": [
        "matrix([[ 49.,  -7.],\n",
        "        [ -7.,   1.]])"
       ]
      }
     ],
     "prompt_number": 31
    },
    {
     "cell_type": "code",
     "collapsed": false,
     "input": [
      "from numpy import eye"
     ],
     "language": "python",
     "metadata": {},
     "outputs": [],
     "prompt_number": 33
    },
    {
     "cell_type": "code",
     "collapsed": false,
     "input": [
      "r1 = 1.0/rho\n",
      "P1, L1, G1 = care(A=A, B=b, Q=Q, R=r1, S=ceros, E=eye(2))"
     ],
     "language": "python",
     "metadata": {},
     "outputs": [
      {
       "output_type": "stream",
       "stream": "stderr",
       "text": [
        "/Users/roberto/miniconda/lib/python2.7/site-packages/control/mateqn.py:467: FutureWarning: comparison to `None` will result in an elementwise object comparison in the future.\n",
        "  if E != None and len(shape(E)) == 1:\n"
       ]
      }
     ],
     "prompt_number": 34
    },
    {
     "cell_type": "code",
     "collapsed": false,
     "input": [
      "P1"
     ],
     "language": "python",
     "metadata": {},
     "outputs": [
      {
       "metadata": {},
       "output_type": "pyout",
       "prompt_number": 35,
       "text": [
        "array([[ 22.03743457,   1.80739223],\n",
        "       [  1.80739223,   0.55466413]])"
       ]
      }
     ],
     "prompt_number": 35
    },
    {
     "cell_type": "code",
     "collapsed": false,
     "input": [
      "L1"
     ],
     "language": "python",
     "metadata": {},
     "outputs": [
      {
       "metadata": {},
       "output_type": "pyout",
       "prompt_number": 36,
       "text": [
        "array([[-4.15998077+3.13136411j],\n",
        "       [-4.15998077-3.13136411j]], dtype=complex64)"
       ]
      }
     ],
     "prompt_number": 36
    },
    {
     "cell_type": "code",
     "collapsed": false,
     "input": [
      "G1"
     ],
     "language": "python",
     "metadata": {},
     "outputs": [
      {
       "metadata": {},
       "output_type": "pyout",
       "prompt_number": 37,
       "text": [
        "array([[ 27.11088342,   8.31996195]])"
       ]
      }
     ],
     "prompt_number": 37
    },
    {
     "cell_type": "code",
     "collapsed": false,
     "input": [
      "fo1 = matrix(G1.T)\n",
      "fo1"
     ],
     "language": "python",
     "metadata": {},
     "outputs": [
      {
       "metadata": {},
       "output_type": "pyout",
       "prompt_number": 38,
       "text": [
        "matrix([[ 27.11088342],\n",
        "        [  8.31996195]])"
       ]
      }
     ],
     "prompt_number": 38
    },
    {
     "cell_type": "code",
     "collapsed": false,
     "input": [
      "r2 = 1\n",
      "P2, L2, G2 = care(A=A, B=b, Q=Q, R=r2, S=ceros, E=eye(2))"
     ],
     "language": "python",
     "metadata": {},
     "outputs": [],
     "prompt_number": 39
    },
    {
     "cell_type": "code",
     "collapsed": false,
     "input": [
      "P2"
     ],
     "language": "python",
     "metadata": {},
     "outputs": [
      {
       "metadata": {},
       "output_type": "pyout",
       "prompt_number": 40,
       "text": [
        "array([[ 34.11088342,   7.        ],\n",
        "       [  7.        ,   3.87298335]])"
       ]
      }
     ],
     "prompt_number": 40
    },
    {
     "cell_type": "code",
     "collapsed": false,
     "input": [
      "L2"
     ],
     "language": "python",
     "metadata": {},
     "outputs": [
      {
       "metadata": {},
       "output_type": "pyout",
       "prompt_number": 41,
       "text": [
        "array([[-1.93649173+1.80277562j],\n",
        "       [-1.93649173-1.80277562j]], dtype=complex64)"
       ]
      }
     ],
     "prompt_number": 41
    },
    {
     "cell_type": "code",
     "collapsed": false,
     "input": [
      "G2"
     ],
     "language": "python",
     "metadata": {},
     "outputs": [
      {
       "metadata": {},
       "output_type": "pyout",
       "prompt_number": 42,
       "text": [
        "array([[ 7.        ,  3.87298335]])"
       ]
      }
     ],
     "prompt_number": 42
    },
    {
     "cell_type": "code",
     "collapsed": false,
     "input": [
      "fo2 = matrix(G2.T)\n",
      "fo2"
     ],
     "language": "python",
     "metadata": {},
     "outputs": [
      {
       "metadata": {},
       "output_type": "pyout",
       "prompt_number": 43,
       "text": [
        "matrix([[ 7.        ],\n",
        "        [ 3.87298335]])"
       ]
      }
     ],
     "prompt_number": 43
    },
    {
     "cell_type": "code",
     "collapsed": false,
     "input": [
      "r3 = rho\n",
      "P3, L3, G3 = care(A=A, B=b, Q=Q, R=r3, S=ceros, E=eye(2))"
     ],
     "language": "python",
     "metadata": {},
     "outputs": [],
     "prompt_number": 44
    },
    {
     "cell_type": "code",
     "collapsed": false,
     "input": [
      "P3"
     ],
     "language": "python",
     "metadata": {},
     "outputs": [
      {
       "metadata": {},
       "output_type": "pyout",
       "prompt_number": 45,
       "text": [
        "array([[ 59.01794475,  27.11088342],\n",
        "       [ 27.11088342,  28.78066196]])"
       ]
      }
     ],
     "prompt_number": 45
    },
    {
     "cell_type": "code",
     "collapsed": false,
     "input": [
      "L3"
     ],
     "language": "python",
     "metadata": {},
     "outputs": [
      {
       "metadata": {},
       "output_type": "pyout",
       "prompt_number": 46,
       "text": [
        "array([[-0.95935541+0.94182241j],\n",
        "       [-0.95935541-0.94182241j]], dtype=complex64)"
       ]
      }
     ],
     "prompt_number": 46
    },
    {
     "cell_type": "code",
     "collapsed": false,
     "input": [
      "G3"
     ],
     "language": "python",
     "metadata": {},
     "outputs": [
      {
       "metadata": {},
       "output_type": "pyout",
       "prompt_number": 47,
       "text": [
        "array([[ 0.,  0.]])"
       ]
      }
     ],
     "prompt_number": 47
    },
    {
     "cell_type": "code",
     "collapsed": false,
     "input": [
      "fo3 = matrix(G3.T)\n",
      "fo3"
     ],
     "language": "python",
     "metadata": {},
     "outputs": [
      {
       "metadata": {},
       "output_type": "pyout",
       "prompt_number": 48,
       "text": [
        "matrix([[ 0.],\n",
        "        [ 0.]])"
       ]
      }
     ],
     "prompt_number": 48
    },
    {
     "cell_type": "code",
     "collapsed": false,
     "input": [
      "Afo1 = A - b*fo1.T\n",
      "Afo1"
     ],
     "language": "python",
     "metadata": {},
     "outputs": [
      {
       "metadata": {},
       "output_type": "pyout",
       "prompt_number": 49,
       "text": [
        "matrix([[  0.        ,   1.        ],\n",
        "        [-27.11088342,  -8.31996195]])"
       ]
      }
     ],
     "prompt_number": 49
    },
    {
     "cell_type": "code",
     "collapsed": false,
     "input": [
      "Afo2 = A - b*fo2.T\n",
      "Afo2"
     ],
     "language": "python",
     "metadata": {},
     "outputs": [
      {
       "metadata": {},
       "output_type": "pyout",
       "prompt_number": 50,
       "text": [
        "matrix([[ 0.        ,  1.        ],\n",
        "        [-7.        , -3.87298335]])"
       ]
      }
     ],
     "prompt_number": 50
    },
    {
     "cell_type": "code",
     "collapsed": false,
     "input": [
      "Afo3 = A - b*fo3.T\n",
      "Afo3"
     ],
     "language": "python",
     "metadata": {},
     "outputs": [
      {
       "metadata": {},
       "output_type": "pyout",
       "prompt_number": 51,
       "text": [
        "matrix([[ 0.,  1.],\n",
        "        [ 0.,  0.]])"
       ]
      }
     ],
     "prompt_number": 51
    },
    {
     "cell_type": "code",
     "collapsed": false,
     "input": [
      "ssp = ss(Afp, b, c.T, 0)\n",
      "sso1 = ss(Afo1, b, c.T, 0)\n",
      "sso2 = ss(Afo2, b, c.T, 0)\n",
      "sso3 = ss(Afo3, b, c.T, 0)"
     ],
     "language": "python",
     "metadata": {},
     "outputs": [],
     "prompt_number": 56
    },
    {
     "cell_type": "code",
     "collapsed": false,
     "input": [
      "heavyside = lambda x: 0.5 * (sign(x) + 1)\n",
      "t = linspace(0, 3, 1000)\n",
      "v = heavyside(t)"
     ],
     "language": "python",
     "metadata": {},
     "outputs": [],
     "prompt_number": 67
    },
    {
     "cell_type": "code",
     "collapsed": false,
     "input": [
      "_,  yp,  xp = forced_response(ssp, T=t, U=v, X0=x0)\n",
      "_, yo1, xo1 = forced_response(sso1, T=t, U=v, X0=x0)\n",
      "_, yo2, xo2 = forced_response(sso2, T=t, U=v, X0=x0)\n",
      "_, yo3, xo3 = forced_response(sso3, T=t, U=v, X0=x0)\n",
      "\n",
      "up  = -xp.T*fp\n",
      "uo1 = xo1.T*fo1\n",
      "uo2 = xo2.T*fo2\n",
      "uo3 = xo3.T*fo3"
     ],
     "language": "python",
     "metadata": {},
     "outputs": [],
     "prompt_number": 68
    },
    {
     "cell_type": "code",
     "collapsed": false,
     "input": [
      "f = figure(figsize=(18, 7))\n",
      "style.use(\"ggplot\")\n",
      "p1, = plot(t, yp)\n",
      "p2, = plot(t, yo1)\n",
      "p3, = plot(t, yo2)\n",
      "p4, = plot(t, yo3)\n",
      "p5, = plot(t, v)\n",
      "\n",
      "ax = f.gca()\n",
      "ax.set_ylim(-1.5, 1.5);\n",
      "\n",
      "legend([p1, p2, p3, p4, p5], [r\"$y_p(t)$\", r\"$y_{O_1}(t)$\", r\"$y_{O_2}(t)$\", r\"$y_{O_3}(t)$\", r\"$\\delta$\"]);"
     ],
     "language": "python",
     "metadata": {},
     "outputs": [
      {
       "metadata": {},
       "output_type": "display_data",
       "png": "[encoded data removed]",
       "text": [
        "<matplotlib.figure.Figure at 0x10a8ff4d0>"
       ]
      }
     ],
     "prompt_number": 72
    },
    {
     "cell_type": "code",
     "collapsed": false,
     "input": [
      "f = figure(figsize=(18, 7))\n",
      "style.use(\"ggplot\")\n",
      "p1, = plot(t, up)\n",
      "p2, = plot(t, uo1)\n",
      "p3, = plot(t, uo2)\n",
      "p4, = plot(t, uo3)\n",
      "\n",
      "ax = f.gca()\n",
      "ax.set_ylim(-6, 3);\n",
      "\n",
      "legend([p1, p2, p3, p4], [r\"$u_p(t)$\", r\"$u_{O_1}(t)$\", r\"$u_{O_2}(t)$\", r\"$u_{O_3}(t)$\"]);"
     ],
     "language": "python",
     "metadata": {},
     "outputs": [
      {
       "metadata": {},
       "output_type": "display_data",
       "png": "[encoded data removed]",
       "text": [
        "<matplotlib.figure.Figure at 0x109621490>"
       ]
      }
     ],
     "prompt_number": 110
    },
    {
     "cell_type": "code",
     "collapsed": false,
     "input": [
      "up = array(up, dtype=float)\n",
      "uo1 = array(uo1, dtype=float)\n",
      "uo2 = array(uo2, dtype=float)\n",
      "uo3 = array(uo3, dtype=float)"
     ],
     "language": "python",
     "metadata": {},
     "outputs": [],
     "prompt_number": 76
    },
    {
     "cell_type": "code",
     "collapsed": false,
     "input": [
      "Jp = yp**2 + (up**2)[:, 0]\n",
      "Jo1 = yo1**2 + r1*(uo1**2)[:, 0]\n",
      "Jo2 = yo2**2 + r2*(uo2**2)[:, 0]\n",
      "Jo3 = yo3**2 + r3*(uo3**2)[:, 0]"
     ],
     "language": "python",
     "metadata": {},
     "outputs": [],
     "prompt_number": 77
    },
    {
     "cell_type": "code",
     "collapsed": false,
     "input": [
      "f = figure(figsize=(18, 7))\n",
      "style.use(\"ggplot\")\n",
      "p1, = plot(t, Jp)\n",
      "p2, = plot(t, Jo1)\n",
      "p3, = plot(t, Jo2)\n",
      "p4, = plot(t, Jo3)\n",
      "\n",
      "ax = f.gca()\n",
      "ax.set_ylim(-0.2, 200);\n",
      "\n",
      "legend([p1, p2, p3, p4], [r\"$J_p(t)$\", r\"$J_{O_1}(t)$\", r\"$J_{O_2}(t)$\", r\"$J_{O_3}(t)$\"]);"
     ],
     "language": "python",
     "metadata": {},
     "outputs": [
      {
       "metadata": {},
       "output_type": "display_data",
       "png": "[encoded data removed]",
       "text": [
        "<matplotlib.figure.Figure at 0x10a8b2610>"
       ]
      }
     ],
     "prompt_number": 79
    },
    {
     "cell_type": "code",
     "collapsed": false,
     "input": [
      "Ao = Matrix([[0, 0], [1, 0]])\n",
      "bo = Matrix([[1], [-7]])\n",
      "co = Matrix([[0], [1]])\n",
      "do = 0\n",
      "Ao"
     ],
     "language": "python",
     "metadata": {},
     "outputs": [
      {
       "latex": [
        "$$\\left[\\begin{matrix}0 & 0\\\\1 & 0\\end{matrix}\\right]$$"
       ],
       "metadata": {},
       "output_type": "pyout",
       "png": "[encoded data removed]",
       "prompt_number": 80,
       "text": [
        "\u23a10  0\u23a4\n",
        "\u23a2    \u23a5\n",
        "\u23a31  0\u23a6"
       ]
      }
     ],
     "prompt_number": 80
    },
    {
     "cell_type": "code",
     "collapsed": false,
     "input": [
      "Oo = co.T.col_join(co.T*Ao)\n",
      "Oo"
     ],
     "language": "python",
     "metadata": {},
     "outputs": [
      {
       "latex": [
        "$$\\left[\\begin{matrix}0 & 1\\\\1 & 0\\end{matrix}\\right]$$"
       ],
       "metadata": {},
       "output_type": "pyout",
       "png": "[encoded data removed]",
       "prompt_number": 81,
       "text": [
        "\u23a10  1\u23a4\n",
        "\u23a2    \u23a5\n",
        "\u23a31  0\u23a6"
       ]
      }
     ],
     "prompt_number": 81
    },
    {
     "cell_type": "code",
     "collapsed": false,
     "input": [
      "T = O.inv()*Oo\n",
      "T"
     ],
     "language": "python",
     "metadata": {},
     "outputs": [
      {
       "latex": [
        "$$\\left[\\begin{matrix}- \\frac{1}{49} & - \\frac{1}{7}\\\\- \\frac{1}{7} & 0\\end{matrix}\\right]$$"
       ],
       "metadata": {},
       "output_type": "pyout",
       "png": "[encoded data removed]",
       "prompt_number": 82,
       "text": [
        "\u23a1-1/49  -1/7\u23a4\n",
        "\u23a2           \u23a5\n",
        "\u23a3-1/7    0  \u23a6"
       ]
      }
     ],
     "prompt_number": 82
    },
    {
     "cell_type": "code",
     "collapsed": false,
     "input": [
      "polob = (s+40)**2\n",
      "polob.expand()"
     ],
     "language": "python",
     "metadata": {},
     "outputs": [
      {
       "latex": [
        "$$s^{2} + 80 s + 1600$$"
       ],
       "metadata": {},
       "output_type": "pyout",
       "png": "[encoded data removed]",
       "prompt_number": 83,
       "text": [
        " 2              \n",
        "s  + 80\u22c5s + 1600"
       ]
      }
     ],
     "prompt_number": 83
    },
    {
     "cell_type": "code",
     "collapsed": false,
     "input": [
      "ko = Matrix([[-1600], [-80]])\n",
      "ko"
     ],
     "language": "python",
     "metadata": {},
     "outputs": [
      {
       "latex": [
        "$$\\left[\\begin{matrix}-1600\\\\-80\\end{matrix}\\right]$$"
       ],
       "metadata": {},
       "output_type": "pyout",
       "png": "[encoded data removed]",
       "prompt_number": 84,
       "text": [
        "\u23a1-1600\u23a4\n",
        "\u23a2     \u23a5\n",
        "\u23a3 -80 \u23a6"
       ]
      }
     ],
     "prompt_number": 84
    },
    {
     "cell_type": "code",
     "collapsed": false,
     "input": [
      "k = T*ko\n",
      "k"
     ],
     "language": "python",
     "metadata": {},
     "outputs": [
      {
       "latex": [
        "$$\\left[\\begin{matrix}\\frac{2160}{49}\\\\\\frac{1600}{7}\\end{matrix}\\right]$$"
       ],
       "metadata": {},
       "output_type": "pyout",
       "png": "[encoded data removed]",
       "prompt_number": 85,
       "text": [
        "\u23a1 2160 \u23a4\n",
        "\u23a2 \u2500\u2500\u2500\u2500 \u23a5\n",
        "\u23a2  49  \u23a5\n",
        "\u23a2      \u23a5\n",
        "\u23a31600/7\u23a6"
       ]
      }
     ],
     "prompt_number": 85
    },
    {
     "cell_type": "code",
     "collapsed": false,
     "input": [
      "A = Matrix([[0, 1], [0, 0]])\n",
      "b = Matrix([[0], [1]])\n",
      "c = Matrix([[-z], [1]])\n",
      "d = 0\n",
      "fp = matrix(fp.tolist(), dtype=float)\n",
      "Afp = A + b*fp.T"
     ],
     "language": "python",
     "metadata": {},
     "outputs": [],
     "prompt_number": 90
    },
    {
     "cell_type": "code",
     "collapsed": false,
     "input": [
      "Alcp = (A.row_join(b*fp.T)).col_join((-k*c.T).row_join(Afp + k*c.T))\n",
      "blcp = b.col_join(b)\n",
      "clcp = c.col_join(Matrix([[0], [0]]))"
     ],
     "language": "python",
     "metadata": {},
     "outputs": [],
     "prompt_number": 91
    },
    {
     "cell_type": "code",
     "collapsed": false,
     "input": [
      "Alco1 = (A.row_join(b*fo1.T)).col_join((-k*c.T).row_join(Afo1 + k*c.T))\n",
      "blco1 = b.col_join(b)\n",
      "clco1 = c.col_join(Matrix([[0], [0], [0]]))"
     ],
     "language": "python",
     "metadata": {},
     "outputs": [],
     "prompt_number": 92
    },
    {
     "cell_type": "code",
     "collapsed": false,
     "input": [
      "Alco2 = (A.row_join(b*fo2.T)).col_join((-k*c.T).row_join(Afo2 + k*c.T))\n",
      "blco2 = b.col_join(b)\n",
      "clco2 = c.col_join(Matrix([[0], [0], [0]]))"
     ],
     "language": "python",
     "metadata": {},
     "outputs": [],
     "prompt_number": 93
    },
    {
     "cell_type": "code",
     "collapsed": false,
     "input": [
      "Alco3 = (A.row_join(b*fo3.T)).col_join((-k*c.T).row_join(Afo3 + k*c.T))\n",
      "blco3 = b.col_join(b)\n",
      "clco3 = c.col_join(Matrix([[0], [0], [0]]))"
     ],
     "language": "python",
     "metadata": {},
     "outputs": [],
     "prompt_number": 94
    },
    {
     "cell_type": "code",
     "collapsed": false,
     "input": [
      "Alcp = matrix(Alcp.tolist(), dtype=float)\n",
      "blcp = matrix(blcp.tolist(), dtype=float)\n",
      "clcp = matrix(clcp.tolist(), dtype=float)\n",
      "Alco1 = matrix(Alco1.tolist(), dtype=float)\n",
      "Alco2 = matrix(Alco2.tolist(), dtype=float)\n",
      "Alco3 = matrix(Alco3.tolist(), dtype=float)\n",
      "x00 = concatenate((x0, x0))\n",
      "x00"
     ],
     "language": "python",
     "metadata": {},
     "outputs": [
      {
       "metadata": {},
       "output_type": "pyout",
       "prompt_number": 104,
       "text": [
        "matrix([[-0.16326531],\n",
        "        [-0.14285714],\n",
        "        [-0.16326531],\n",
        "        [-0.14285714]])"
       ]
      }
     ],
     "prompt_number": 104
    },
    {
     "cell_type": "code",
     "collapsed": false,
     "input": [
      "sslcp  = ss(Alcp,  blcp, clcp.T, 0)\n",
      "sslco1 = ss(Alco1, blcp, clcp.T, 0)\n",
      "sslco2 = ss(Alco2, blcp, clcp.T, 0)\n",
      "sslco3 = ss(Alco3, blcp, clcp.T, 0)"
     ],
     "language": "python",
     "metadata": {},
     "outputs": [],
     "prompt_number": 105
    },
    {
     "cell_type": "code",
     "collapsed": false,
     "input": [
      "_,  ylcp,  xlcp = forced_response(sslcp, T=t, U=v, X0=x00)\n",
      "_, ylco1, xlco1 = forced_response(sslco1, T=t, U=v, X0=x00)\n",
      "_, ylco2, xlco2 = forced_response(sslco2, T=t, U=v, X0=x00)\n",
      "_, ylco3, xlco3 = forced_response(sslco3, T=t, U=v, X0=x00)"
     ],
     "language": "python",
     "metadata": {},
     "outputs": [],
     "prompt_number": 108
    },
    {
     "cell_type": "code",
     "collapsed": false,
     "input": [
      "f = figure(figsize=(18, 7))\n",
      "style.use(\"ggplot\")\n",
      "p1, = plot(t, ylcp)\n",
      "p2, = plot(t, ylco1)\n",
      "p3, = plot(t, ylco2)\n",
      "p4, = plot(t, ylco3)\n",
      "p5, = plot(t, v)\n",
      "\n",
      "ax = f.gca()\n",
      "ax.set_ylim(-1.5, 1.5);\n",
      "\n",
      "legend([p1, p2, p3, p4, p5], [r\"$y_p(t)$\", r\"$y_{O_1}(t)$\", r\"$y_{O_2}(t)$\", r\"$y_{O_3}(t)$\", r\"$\\delta$\"]);"
     ],
     "language": "python",
     "metadata": {},
     "outputs": [
      {
       "metadata": {},
       "output_type": "display_data",
       "png": "[encoded data removed]",
       "text": [
        "<matplotlib.figure.Figure at 0x109621310>"
       ]
      }
     ],
     "prompt_number": 109
    }
   ],
   "metadata": {}
  }
 ]
}