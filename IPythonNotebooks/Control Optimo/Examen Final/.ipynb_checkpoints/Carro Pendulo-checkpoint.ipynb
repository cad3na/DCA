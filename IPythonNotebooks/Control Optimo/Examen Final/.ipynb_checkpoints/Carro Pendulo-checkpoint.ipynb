{
 "cells": [
  {
   "cell_type": "code",
   "execution_count": 1,
   "metadata": {
    "collapsed": false
   },
   "outputs": [
    {
     "data": {
      "text/html": [
       "<link href='http://fonts.googleapis.com/css?family=Inconsolata' rel='stylesheet' type='text/css'>\n",
       "<link href='http://fonts.googleapis.com/css?family=EB+Garamond' rel='stylesheet' type='text/css'>\n",
       "<link href='http://fonts.googleapis.com/css?family=Lato:100,100italic' rel='stylesheet' type='text/css'>\n",
       "\n",
       "<style>\n",
       "\t@font-face{\n",
       "   \t\tfont-family: \"Computer Modern\";\n",
       "        \tsrc: url('http://mirrors.ctan.org/fonts/cm-unicode/fonts/otf/cmunss.otf');}\n",
       "        \n",
       "\th1 {\n",
       "        \tfont-family: 'Lato', sans-serif;}\n",
       "        \n",
       "\th2 {\n",
       "        \tfont-family: 'Lato', serif;}\n",
       "        \n",
       "\th3{\n",
       "\t\tfont-family:   'Lato', serif;\n",
       "        \tmargin-top:    12px;\n",
       "\t\tmargin-bottom: 3px;}\n",
       "        \n",
       "        h4{\n",
       "\t\tfont-family: 'Lato', serif;}\n",
       "\t\n",
       "\th5 {\n",
       "        \tfont-family: 'Lato', serif;}\n",
       "    \n",
       "\tdiv.text_cell_render{\n",
       "        \tfont-family:  'EB Garamond', 'Computer Modern', 'Helvetica Neue', Arial, Helvetica, Geneva, sans-serif;\n",
       "\t        line-height:  140%;\n",
       "\t        font-size:    14pt;}\n",
       "        \n",
       "\t.CodeMirror{\n",
       "        \tfont-family: 'Inconsolata';}\n",
       "    \n",
       "\t.text_cell_render h1 {\n",
       "\t        font-weight:   100;\n",
       "\t        font-size:     50pt;\n",
       "\t\tline-height:   100%;\n",
       "\t        color:         #CD2305;\n",
       "\t        margin-bottom: 0.5em;\n",
       "\t        margin-top:    0.5em;\n",
       "\t        display:       block;}\n",
       "        \n",
       "\t.text_cell_render h2 {\n",
       "        \tfont-weight:   100;\n",
       "        \tfont-size:     30pt;}\n",
       "        \n",
       "\t.text_cell_render h3 {\n",
       "        \tfont-weight:   100;\n",
       "        \tfont-size:     20pt;}\n",
       "        \n",
       "\t.text_cell_render h4 {\n",
       "        \tfont-weight:   100;\n",
       "        \tfont-size:     16pt;}\n",
       "        \n",
       "\t.text_cell_render h5 {\n",
       "\t        font-weight:   100;\n",
       "\t        font-size:     16pt;\n",
       "\t        color:         #CD2305;\n",
       "\t        font-style:    italic;\n",
       "\t        margin-bottom: 0.5em;\n",
       "\t        margin-top:    0.5em;\n",
       "\t        display:       block;}\n",
       "        \n",
       "\t.text_cell_render h6 {\n",
       "\t        font-weight:   100;\n",
       "\t        font-size:     14pt;\n",
       "\t        color:         #CD2305;\n",
       "\t        font-style:    italic;\n",
       "\t        margin-bottom: 0.5em;\n",
       "\t        margin-top:    0.5em;\n",
       "\t        display:       block;}\n",
       "    \n",
       "\t.warning{\n",
       "\t    \tbackground-color: #fcf2f2;\n",
       "\t    \tborder-color: #dFb5b4;\n",
       "\t    \tborder-left: 5px solid #dfb5b4;\n",
       "\t    \tpadding: 0.5em;}\n",
       "</style>\n",
       "\n",
       "<script>\n",
       "\tMathJax.Hub.Config({\n",
       "        \tTeX:{extensions: [\"AMSmath.js\"]},\n",
       "\n",
       "        \tjax: [\"input/TeX\",\"output/SVG\"],\n",
       "        \tSVG: {\n",
       "        \t\tscale: 120,\n",
       "        \t\tfont: 'Gyre-Pagella'}\n",
       "        });\n",
       "</script>"
      ]
     },
     "metadata": {},
     "output_type": "display_data"
    }
   ],
   "source": [
    "from IPython.core.display import display_html\n",
    "from urllib.request import urlopen\n",
    "\n",
    "display_html(urlopen('http://bit.ly/1HflmO9').read(), raw=True)"
   ]
  },
  {
   "cell_type": "markdown",
   "metadata": {},
   "source": [
    "# Examen Final"
   ]
  },
  {
   "cell_type": "markdown",
   "metadata": {},
   "source": [
    "## Modelado de Carro Pendulo"
   ]
  },
  {
   "cell_type": "markdown",
   "metadata": {},
   "source": [
    "![Carro Pendulo](./imagenes/carropendulo.PNG)"
   ]
  },
  {
   "cell_type": "markdown",
   "metadata": {},
   "source": [
    "### Variables de estado, posiciones y velocidades"
   ]
  },
  {
   "cell_type": "markdown",
   "metadata": {},
   "source": [
    "Utilizaremos el enfoque de Euler-Lagrange, el cual nos dice que el primer paso para conseguir el modelo matemático es calcular el Lagrangiano $L$ del sistema, definido por:\n",
    "\n",
    "$$\n",
    "L = K - U\n",
    "$$\n",
    "\n",
    "en donde $K$ es la energía cinética del sistema y $U$ es la energia potencial del sistema.\n",
    "\n",
    "El estado del sistema estará descrito por una distancia $x$ del centro del carro a un marco de referencia y el angulo $\\theta$ del pendulo con respecto a la horizontal.\n",
    "\n",
    "$$\n",
    "q = \\begin{pmatrix} x \\\\ \\theta \\end{pmatrix} = \\begin{pmatrix} q_1 \\\\ q_2 \\end{pmatrix} \\implies\n",
    "\\dot{q} = \\begin{pmatrix} \\dot{x} \\\\ \\dot{\\theta} \\end{pmatrix} = \\begin{pmatrix} \\dot{q}_1 \\\\ \\dot{q}_2 \\end{pmatrix} \\implies\n",
    "\\ddot{q} = \\begin{pmatrix} \\ddot{x} \\\\ \\ddot{\\theta} \\end{pmatrix} = \\begin{pmatrix} \\ddot{q}_1 \\\\ \\ddot{q}_2 \\end{pmatrix}\n",
    "$$"
   ]
  },
  {
   "cell_type": "markdown",
   "metadata": {},
   "source": [
    "### Energía cinética"
   ]
  },
  {
   "cell_type": "markdown",
   "metadata": {},
   "source": [
    "Para calcular la energía cinética del sistema, obtenemos $K_1$ y $K_2$ asociadas al carro y al pendulo, en donde $K_i = \\frac{1}{2} m_i v_i^2$, por lo que tenemos:\n",
    "\n",
    "$$\n",
    "K_1 = \\frac{1}{2} m_1 v_1^2 = \\frac{1}{2} m_1 \\dot{x}^2 = \\frac{1}{2} m_1 \\dot{q}_1^2\n",
    "$$\n",
    "\n",
    "$$\n",
    "K_2 = \\frac{1}{2} m_2 v_2^2 = \\frac{1}{2} m_2 \\left[ \\left( \\dot{x} + \\dot{x}_2 \\right)^2 + \\dot{y}_2^2 \\right]\n",
    "$$\n",
    "\n",
    "con $x_2 = l \\cos{\\theta}$ y $y_2 = l \\sin{\\theta}$, por lo que sus derivadas son $\\dot{x}_2 = -\\dot{\\theta} l \\sin{\\theta}$ y $\\dot{y}_2 = \\dot{\\theta} l \\cos{\\theta}$, por lo que $K_2$ queda:\n",
    "\n",
    "$$\n",
    "\\begin{align}\n",
    "K_2 &= \\frac{1}{2} m_2 \\left[ \\left( \\dot{x} -\\dot{\\theta} l \\sin{\\theta} \\right)^2 + \\left( \\dot{\\theta} l \\cos{\\theta} \\right)^2 \\right] \\\\\n",
    "&= \\frac{1}{2} m_2 \\left[ \\left( \\dot{x} -\\dot{\\theta} l \\sin{\\theta} \\right)^2 + \\left( \\dot{\\theta} l \\cos{\\theta} \\right)^2 \\right] \\\\\n",
    "&= \\frac{1}{2} m_2 \\left[ \\left( \\dot{q}_1 -\\dot{q}_2 l \\sin{q_2} \\right)^2 + \\left( \\dot{q}_2 l \\cos{q_2} \\right)^2 \\right]\n",
    "\\end{align}\n",
    "$$\n",
    "\n",
    "Entonces la energía cinética será:\n",
    "\n",
    "$$\n",
    "K = \\frac{1}{2} \\left[ (m_1 + m_2) \\dot{q}_1^2 + m_2 l^2 \\dot{q}_2^2 - 2 m_2 l \\sin{q_2} \\dot{q}_1 \\dot{q}_2 \\right]\n",
    "$$\n",
    "\n",
    "Lo cual puede ser escrito como una forma matricial cuadratica:\n",
    "\n",
    "$$\n",
    "K = \\frac{1}{2}\n",
    "\\begin{pmatrix}\n",
    "\\dot{q}_1 & \\dot{q}_2\n",
    "\\end{pmatrix}\n",
    "\\begin{pmatrix}\n",
    "m_1 + m_2 & -m_2 l \\sin{q_2} \\\\\n",
    "-m_2 l \\sin{q_2} & m_2 l^2\n",
    "\\end{pmatrix}\n",
    "\\begin{pmatrix}\n",
    "\\dot{q}_1 \\\\\n",
    "\\dot{q}_2\n",
    "\\end{pmatrix}\n",
    "$$"
   ]
  },
  {
   "cell_type": "markdown",
   "metadata": {},
   "source": [
    "En este punto, introducimos una variable intermedia, tan solo para reducir un poco la notación:\n",
    "\n",
    "$$\n",
    "\\lambda = l \\sin{q_2}\n",
    "$$\n",
    "\n",
    "y su derivada con respecto al tiempo, la representamos como:\n",
    "\n",
    "$$\n",
    "\\dot{\\lambda} = \\lambda' \\dot{q}_2 \\implies \\lambda' = l \\cos{q_2}\n",
    "$$\n",
    "\n",
    "por lo que la energía cinetica queda como:\n",
    "\n",
    "$$\n",
    "K = \\frac{1}{2}\n",
    "\\begin{pmatrix}\n",
    "\\dot{q}_1 & \\dot{q}_2\n",
    "\\end{pmatrix}\n",
    "\\begin{pmatrix}\n",
    "m_1 + m_2 & -m_2 \\lambda \\\\\n",
    "-m_2 \\lambda & m_2 l^2\n",
    "\\end{pmatrix}\n",
    "\\begin{pmatrix}\n",
    "\\dot{q}_1 \\\\\n",
    "\\dot{q}_2\n",
    "\\end{pmatrix}\n",
    "$$\n",
    "\n",
    "en donde el termino matricial es la matriz de masa $M(q)$ y $K(q, \\dot{q}) = \\dot{q}^T M(q) \\dot{q}$."
   ]
  },
  {
   "cell_type": "markdown",
   "metadata": {},
   "source": [
    "### Energía potencial"
   ]
  },
  {
   "cell_type": "markdown",
   "metadata": {},
   "source": [
    "Por otro lado, para calcular la energía potencial del sistema, tenemos que:\n",
    "\n",
    "$$\n",
    "U_1 = m_1 g h_1 = 0\n",
    "$$\n",
    "\n",
    "$$\n",
    "U_2 = m_2 g h_2 = m_2 g l \\sin{q_1} = m_2 g \\lambda\n",
    "$$\n",
    "\n",
    "por lo que la energía potencial del sistema será:\n",
    "\n",
    "$$\n",
    "U = m_2 g \\lambda\n",
    "$$"
   ]
  },
  {
   "cell_type": "markdown",
   "metadata": {},
   "source": [
    "### Lagrangiano"
   ]
  },
  {
   "cell_type": "markdown",
   "metadata": {},
   "source": [
    "El Lagrangiano del sistema, esta dado por la expresión:\n",
    "\n",
    "$$\n",
    "L = K - U\n",
    "$$\n",
    "\n",
    "por lo que solo queda sumar las dos expresiones y obtener las condiciones de optimalidad para la energía del sistema por medio de la ecuación de Euler-Lagrange"
   ]
  },
  {
   "cell_type": "markdown",
   "metadata": {},
   "source": [
    "### Euler-Lagrange"
   ]
  },
  {
   "cell_type": "markdown",
   "metadata": {},
   "source": [
    "Cuando aplicamos la primer condición de optimalidad al Lagrangiano $L(t, q(t), \\dot{q}(t)) = K(q(t), \\dot{q}(t)) - U(q)$, tenemos la ecuación de Euler-Lagrage, la cual nos dice que:\n",
    "\n",
    "$$\n",
    "\\frac{d}{dt} L_{\\dot{q}} - L_q = 0\n",
    "$$\n",
    "\n",
    "por lo que debemos encontrar la derivada del Lagrangiano, con respecto a $q$, $\\dot{q}$ y derivar esta ultima con respecto al tiempo. Empecemos con la derivada con respecto a $q$:\n",
    "\n",
    "$$\n",
    "L_q = K_q - U_q\n",
    "$$\n",
    "\n",
    "en donde:\n",
    "\n",
    "$$\n",
    "\\begin{align}\n",
    "K_q &= \\frac{\\partial}{\\partial q} \\left\\{ \\frac{1}{2} \\left[ (m_1 + m_2) \\dot{q}_1^2 + m_2 l^2 \\dot{q}_2^2 - 2 m_2 \\lambda \\dot{q}_1 \\dot{q}_2 \\right] \\right\\} \\\\\n",
    "&= \\frac{1}{2}\n",
    "\\begin{pmatrix}\n",
    "\\frac{\\partial}{\\partial q_1} \\left\\{ \\left[ (m_1 + m_2) \\dot{q}_1^2 + m_2 l^2 \\dot{q}_2^2 - 2 m_2 \\lambda \\dot{q}_1 \\dot{q}_2 \\right] \\right\\} \\\\\n",
    "\\frac{\\partial}{\\partial q_2} \\left\\{ \\left[ (m_1 + m_2) \\dot{q}_1^2 + m_2 l^2 \\dot{q}_2^2 - 2 m_2 \\lambda \\dot{q}_1 \\dot{q}_2 \\right] \\right\\}\n",
    "\\end{pmatrix} \\\\\n",
    "&= \\frac{1}{2}\n",
    "\\begin{pmatrix}\n",
    "0 \\\\\n",
    "- 2 m_2 \\lambda' \\dot{q}_1 \\dot{q}_2\n",
    "\\end{pmatrix} = - m_2 \\lambda'\n",
    "\\begin{pmatrix}\n",
    "0 & 0 \\\\\n",
    "\\dot{q}_2 & 0\n",
    "\\end{pmatrix}\n",
    "\\begin{pmatrix}\n",
    "\\dot{q}_1 \\\\\n",
    "\\dot{q}_2\n",
    "\\end{pmatrix}\n",
    "\\end{align}\n",
    "$$"
   ]
  },
  {
   "cell_type": "markdown",
   "metadata": {},
   "source": [
    "y la derivada de la energía potencial con respecto a $q$:\n",
    "\n",
    "$$\n",
    "U_q = \\frac{\\partial}{\\partial q} \\left\\{ m_2 g \\lambda \\right\\} =\n",
    "\\begin{pmatrix}\n",
    "\\frac{\\partial}{\\partial q_1} \\left\\{ m_2 g \\lambda \\right\\} \\\\\n",
    "\\frac{\\partial}{\\partial q_2} \\left\\{ m_2 g \\lambda \\right\\}\n",
    "\\end{pmatrix} =\n",
    "\\begin{pmatrix}\n",
    "0 \\\\\n",
    "m_2 g \\lambda'\n",
    "\\end{pmatrix}\n",
    "$$"
   ]
  },
  {
   "cell_type": "markdown",
   "metadata": {},
   "source": [
    "Ahora obtenemos la derivada con respecto a $\\dot{q}$:\n",
    "\n",
    "$$\n",
    "L_{\\dot{q}} = K_{\\dot{q}} - U_{\\dot{q}}\n",
    "$$\n",
    "\n",
    "en donde:\n",
    "\n",
    "$$\n",
    "K_{\\dot{q}} = \\frac{1}{2} \\frac{\\partial}{\\partial \\dot{q}} \\left\\{ \\dot{q}^T M(q) \\dot{q} \\right\\} = M(q) \\dot{q}\n",
    "$$\n",
    "\n",
    "$$\n",
    "U_{\\dot{q}} = 0\n",
    "$$"
   ]
  },
  {
   "cell_type": "markdown",
   "metadata": {},
   "source": [
    "Derivando con respeto al tiempo estas ultimas expresiones, obtenemos:\n",
    "\n",
    "$$\n",
    "\\frac{d}{dt} K_{\\dot{q}} = \\dot{M}(q, \\dot{q}) \\dot{q} + M(q) \\ddot{q}\n",
    "$$\n",
    "\n",
    "en donde\n",
    "\n",
    "$$\n",
    "\\begin{align}\n",
    "\\dot{M}(q, \\dot{q}) &= \\frac{d}{dt} M(q) = \\frac{d}{dt}\n",
    "\\begin{pmatrix}\n",
    "m_1 + m_2 & -m_2 \\lambda \\\\\n",
    "-m_2 \\lambda & m_2 l^2\n",
    "\\end{pmatrix} \\\\\n",
    "&=\n",
    "\\begin{pmatrix}\n",
    "0 & -m_2 \\lambda' \\dot{q}_2 \\\\\n",
    "-m_2 \\lambda' \\dot{q}_2 & 0\n",
    "\\end{pmatrix} = -m_2 \\lambda'\n",
    "\\begin{pmatrix}\n",
    "0 & \\dot{q}_2 \\\\\n",
    "\\dot{q}_2 & 0\n",
    "\\end{pmatrix}\n",
    "\\end{align}\n",
    "$$"
   ]
  },
  {
   "cell_type": "markdown",
   "metadata": {},
   "source": [
    "y ya tenemos todos los elementos que integran nuestra ecuación de Euler-Lagrange:\n",
    "\n",
    "$$\n",
    "\\begin{align}\n",
    "\\frac{d}{dt} L_{\\dot{q}} - L_q &= 0 \\\\\n",
    "M(q) \\ddot{q} + \\dot{M}(q, \\dot{q}) \\dot{q} - K_q + U_q &= 0\n",
    "\\end{align}\n",
    "$$"
   ]
  },
  {
   "cell_type": "markdown",
   "metadata": {},
   "source": [
    "Tan solo cabe recalcar que el segundo y tercer termino se pueden reducir a uno solo:\n",
    "\n",
    "$$\n",
    "\\begin{align}\n",
    "\\dot{M}(q, \\dot{q}) \\dot{q} - K_q &= -m_2 \\lambda'\n",
    "\\begin{pmatrix}\n",
    "0 & \\dot{q}_2 \\\\\n",
    "\\dot{q}_2 & 0\n",
    "\\end{pmatrix}\n",
    "\\begin{pmatrix}\n",
    "\\dot{q}_1 \\\\\n",
    "\\dot{q}_2\n",
    "\\end{pmatrix} + m_2 \\lambda'\n",
    "\\begin{pmatrix}\n",
    "0 & 0 \\\\\n",
    "\\dot{q}_2 & 0\n",
    "\\end{pmatrix}\n",
    "\\begin{pmatrix}\n",
    "\\dot{q}_1 \\\\\n",
    "\\dot{q}_2\n",
    "\\end{pmatrix} \\\\\n",
    "&= -m_2 \\lambda'\n",
    "\\begin{pmatrix}\n",
    "0 & \\dot{q}_2 \\\\\n",
    "0 & 0\n",
    "\\end{pmatrix}\n",
    "\\begin{pmatrix}\n",
    "\\dot{q}_1 \\\\\n",
    "\\dot{q}_2\n",
    "\\end{pmatrix} = C(q, \\dot{q})\\dot{q}\n",
    "\\end{align}\n",
    "$$\n",
    "\n",
    "Por lo que finalmente para el sistema libre tenemos:\n",
    "\n",
    "$$\n",
    "M(q) \\ddot{q} + C(q, \\dot{q}) \\dot{q} + U_q = 0\n",
    "$$\n",
    "\n",
    "con:\n",
    "\n",
    "$$\n",
    "M(q) =\n",
    "\\begin{pmatrix}\n",
    "m_1 + m_2 & -m_2 \\lambda \\\\\n",
    "-m_2 \\lambda & m_2 l^2\n",
    "\\end{pmatrix} \\quad\n",
    "C(q, \\dot{q}) = -m_2 \\lambda'\n",
    "\\begin{pmatrix}\n",
    "0 & \\dot{q}_2 \\\\\n",
    "0 & 0\n",
    "\\end{pmatrix} \\quad\n",
    "U_q =\n",
    "\\begin{pmatrix}\n",
    "0 \\\\\n",
    "m_2 g \\lambda'\n",
    "\\end{pmatrix}\n",
    "$$"
   ]
  },
  {
   "cell_type": "markdown",
   "metadata": {},
   "source": [
    "### Señales de control"
   ]
  },
  {
   "cell_type": "markdown",
   "metadata": {},
   "source": [
    "Y para el sistema bajo control tan solo tenemos que agregar la señal de control asociada al primer grado de libertad, por lo que tendremos:\n",
    "\n",
    "$$\n",
    "M(q) \\ddot{q} + C(q, \\dot{q}) \\dot{q} + U_q = G u\n",
    "$$\n",
    "\n",
    "con $G = \\begin{pmatrix} 1 \\\\ 0 \\end{pmatrix}$."
   ]
  },
  {
   "cell_type": "markdown",
   "metadata": {},
   "source": [
    "### Simulación"
   ]
  },
  {
   "cell_type": "code",
   "execution_count": 6,
   "metadata": {
    "collapsed": false
   },
   "outputs": [],
   "source": [
    "def f(estado, tiempo):\n",
    "    from numpy import zeros, matrix, sin, cos\n",
    "    \n",
    "    m1 = 0.2\n",
    "    m2 = 0.4\n",
    "    g = 9.81\n",
    "    l = 0.6\n",
    "    \n",
    "    q1, q2, q1p, q2p = estado\n",
    "    \n",
    "    q = matrix([[q1], [q2]])\n",
    "    qp = matrix([[q1p], [q2p]])\n",
    "    \n",
    "    λ = l*sin(q2)\n",
    "    λ̇ = l*cos(q2)\n",
    "    \n",
    "    M = matrix([[m1 + m2, -m2*λ], [-m2*λ, m2*l**2]])\n",
    "    C = -m2*λ̇*matrix([[0, q2p], [0, 0]])\n",
    "    U = matrix([[0], [m2*g*λ̇]])\n",
    "    \n",
    "    qpp = M.I*(-C*qp - U)\n",
    "    \n",
    "    dydx = zeros(4)\n",
    "    \n",
    "    dydx[0] = q1p\n",
    "    dydx[1] = q2p\n",
    "    dydx[2] = qpp[0]\n",
    "    dydx[3] = qpp[1]\n",
    "    \n",
    "    return dydx"
   ]
  },
  {
   "cell_type": "code",
   "execution_count": 20,
   "metadata": {
    "collapsed": false
   },
   "outputs": [],
   "source": [
    "from scipy.integrate import odeint\n",
    "from numpy import linspace, arange, sin, cos\n",
    "from matplotlib.pyplot import figure, style, plot\n",
    "from matplotlib import animation\n",
    "from matplotlib.patches import Rectangle, Circle"
   ]
  },
  {
   "cell_type": "code",
   "execution_count": 8,
   "metadata": {
    "collapsed": false
   },
   "outputs": [],
   "source": [
    "ts = linspace(0, 4, 100)\n",
    "estado_inicial = [0, 0.1, 0, 0]"
   ]
  },
  {
   "cell_type": "code",
   "execution_count": 9,
   "metadata": {
    "collapsed": false
   },
   "outputs": [],
   "source": [
    "estados = odeint(f, estado_inicial, ts)\n",
    "q1, q2 = estados[:, 0], estados[:, 1]"
   ]
  },
  {
   "cell_type": "code",
   "execution_count": 21,
   "metadata": {
    "collapsed": false
   },
   "outputs": [],
   "source": [
    "fig = figure(figsize=(8, 6))\n",
    "\n",
    "ax = fig.add_subplot(111, autoscale_on=False,\n",
    "                     xlim=(-0.8333, 1.8333), ylim=(-1.25, 0.75))\n",
    "\n",
    "ax.axes.get_xaxis().set_visible(False)\n",
    "ax.axes.get_yaxis().set_visible(False)\n",
    "\n",
    "ax.axes.spines[\"right\"].set_color(\"none\")\n",
    "ax.axes.spines[\"left\"].set_color(\"none\")\n",
    "ax.axes.spines[\"top\"].set_color(\"none\")\n",
    "ax.axes.spines[\"bottom\"].set_color(\"none\")\n",
    "\n",
    "ax.set_axis_bgcolor('#F2F1EC')\n",
    "\n",
    "linea, = ax.plot([], [], 'o-', lw=1.5, color='#393F40')\n",
    "carro = Rectangle((10,10), 0.8, 0.35, lw=1.5, fc='#E5895C')\n",
    "guia = Rectangle((10, 10), 2.6666, 0.1, lw=1.5, fc='#A4B187')\n",
    "pendulo = Circle((10, 10), 0.125, lw=1.5, fc='#F3D966')\n",
    "\n",
    "def init():\n",
    "    linea.set_data([], [])\n",
    "    guia.set_xy((-0.8333, -0.05))\n",
    "    carro.set_xy((-0.4, -0.175))\n",
    "    pendulo.center = (1, 0)\n",
    "    ax.add_patch(guia)\n",
    "    ax.add_patch(carro)\n",
    "    ax.add_patch(pendulo)\n",
    "    return linea, carro, pendulo\n",
    "\n",
    "def animate(i):\n",
    "    xs = [q1[i], q1[i] + cos(q2[i])]\n",
    "    ys = [0, sin(q2[i])]\n",
    "\n",
    "    linea.set_data(xs, ys)\n",
    "    carro.set_xy((xs[0] - 0.4, ys[0] - 0.175))\n",
    "    pendulo.center = (xs[1], ys[1])\n",
    "    return linea, carro, pendulo\n",
    "\n",
    "ani = animation.FuncAnimation(fig, animate, arange(1, len(q1)), interval=25,\n",
    "                              blit=True, init_func=init)\n",
    "\n",
    "ani.save('./imagenes/carropendulolibre.gif', writer='imagemagick');"
   ]
  },
  {
   "cell_type": "markdown",
   "metadata": {},
   "source": [
    "![pendulo](./imagenes/carropendulolibre.gif)"
   ]
  },
  {
   "cell_type": "markdown",
   "metadata": {},
   "source": [
    "Espero te hayas divertido con esta larga explicación y al final sepas un truco mas.\n",
    "\n",
    "Si deseas compartir este Notebook de IPython utiliza la siguiente dirección:\n",
    "\n",
    "http://bit.ly/1M2tenc\n",
    "\n",
    "o bien el siguiente código QR:\n",
    "\n",
    "![Codigo](./codigos/carropendulo.jpg)"
   ]
  },
  {
   "cell_type": "code",
   "execution_count": 40,
   "metadata": {
    "collapsed": true
   },
   "outputs": [],
   "source": [
    "# Codigo para generar codigo :)\n",
    "from qrcode import make\n",
    "img = make(\"http://bit.ly/1M2tenc\")\n",
    "img.save(\"./codigos/carropendulo.jpg\")"
   ]
  }
 ],
 "metadata": {
  "kernelspec": {
   "display_name": "Python 3",
   "language": "python",
   "name": "python3"
  },
  "language_info": {
   "codemirror_mode": {
    "name": "ipython",
    "version": 3
   },
   "file_extension": ".py",
   "mimetype": "text/x-python",
   "name": "python",
   "nbconvert_exporter": "python",
   "pygments_lexer": "ipython3",
   "version": "3.4.3"
  }
 },
 "nbformat": 4,
 "nbformat_minor": 0
}
