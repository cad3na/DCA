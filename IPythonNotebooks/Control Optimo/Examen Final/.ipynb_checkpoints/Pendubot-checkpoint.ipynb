{
 "cells": [
  {
   "cell_type": "code",
   "execution_count": 1,
   "metadata": {
    "collapsed": false
   },
   "outputs": [
    {
     "data": {
      "text/html": [
       "<link href='http://fonts.googleapis.com/css?family=Inconsolata' rel='stylesheet' type='text/css'>\n",
       "<link href='http://fonts.googleapis.com/css?family=EB+Garamond' rel='stylesheet' type='text/css'>\n",
       "<link href='http://fonts.googleapis.com/css?family=Lato:100,100italic' rel='stylesheet' type='text/css'>\n",
       "\n",
       "<style>\n",
       "\t@font-face{\n",
       "   \t\tfont-family: \"Computer Modern\";\n",
       "        \tsrc: url('http://mirrors.ctan.org/fonts/cm-unicode/fonts/otf/cmunss.otf');}\n",
       "        \n",
       "\th1 {\n",
       "        \tfont-family: 'Lato', sans-serif;}\n",
       "        \n",
       "\th2 {\n",
       "        \tfont-family: 'Lato', serif;}\n",
       "        \n",
       "\th3{\n",
       "\t\tfont-family:   'Lato', serif;\n",
       "        \tmargin-top:    12px;\n",
       "\t\tmargin-bottom: 3px;}\n",
       "        \n",
       "        h4{\n",
       "\t\tfont-family: 'Lato', serif;}\n",
       "\t\n",
       "\th5 {\n",
       "        \tfont-family: 'Lato', serif;}\n",
       "    \n",
       "\tdiv.text_cell_render{\n",
       "        \tfont-family:  'EB Garamond', 'Computer Modern', 'Helvetica Neue', Arial, Helvetica, Geneva, sans-serif;\n",
       "\t        line-height:  140%;\n",
       "\t        font-size:    14pt;}\n",
       "        \n",
       "\t.CodeMirror{\n",
       "        \tfont-family: 'Inconsolata';}\n",
       "    \n",
       "\t.text_cell_render h1 {\n",
       "\t        font-weight:   100;\n",
       "\t        font-size:     50pt;\n",
       "\t\tline-height:   100%;\n",
       "\t        color:         #CD2305;\n",
       "\t        margin-bottom: 0.5em;\n",
       "\t        margin-top:    0.5em;\n",
       "\t        display:       block;}\n",
       "        \n",
       "\t.text_cell_render h2 {\n",
       "        \tfont-weight:   100;\n",
       "        \tfont-size:     30pt;}\n",
       "        \n",
       "\t.text_cell_render h3 {\n",
       "        \tfont-weight:   100;\n",
       "        \tfont-size:     20pt;}\n",
       "        \n",
       "\t.text_cell_render h4 {\n",
       "        \tfont-weight:   100;\n",
       "        \tfont-size:     16pt;}\n",
       "        \n",
       "\t.text_cell_render h5 {\n",
       "\t        font-weight:   100;\n",
       "\t        font-size:     16pt;\n",
       "\t        color:         #CD2305;\n",
       "\t        font-style:    italic;\n",
       "\t        margin-bottom: 0.5em;\n",
       "\t        margin-top:    0.5em;\n",
       "\t        display:       block;}\n",
       "        \n",
       "\t.text_cell_render h6 {\n",
       "\t        font-weight:   100;\n",
       "\t        font-size:     14pt;\n",
       "\t        color:         #CD2305;\n",
       "\t        font-style:    italic;\n",
       "\t        margin-bottom: 0.5em;\n",
       "\t        margin-top:    0.5em;\n",
       "\t        display:       block;}\n",
       "    \n",
       "\t.warning{\n",
       "\t    \tbackground-color: #fcf2f2;\n",
       "\t    \tborder-color: #dFb5b4;\n",
       "\t    \tborder-left: 5px solid #dfb5b4;\n",
       "\t    \tpadding: 0.5em;}\n",
       "</style>\n",
       "\n",
       "<script>\n",
       "\tMathJax.Hub.Config({\n",
       "        \tTeX:{extensions: [\"AMSmath.js\"]},\n",
       "\n",
       "        \tjax: [\"input/TeX\",\"output/SVG\"],\n",
       "        \tSVG: {\n",
       "        \t\tscale: 120,\n",
       "        \t\tfont: 'Gyre-Pagella'}\n",
       "        });\n",
       "</script>"
      ]
     },
     "metadata": {},
     "output_type": "display_data"
    }
   ],
   "source": [
    "from IPython.core.display import display_html, HTML\n",
    "from urllib.request import urlopen\n",
    "\n",
    "display_html(urlopen('http://bit.ly/1HflmO9').read(), raw=True)"
   ]
  },
  {
   "cell_type": "markdown",
   "metadata": {},
   "source": [
    "# Examen Final"
   ]
  },
  {
   "cell_type": "markdown",
   "metadata": {},
   "source": [
    "## Modelado de pendubot"
   ]
  },
  {
   "cell_type": "markdown",
   "metadata": {},
   "source": [
    "![Pendubot](./imagenes/doblependulo.PNG)"
   ]
  },
  {
   "cell_type": "markdown",
   "metadata": {},
   "source": [
    "### Variables de estado, posiciones y velocidades"
   ]
  },
  {
   "cell_type": "markdown",
   "metadata": {},
   "source": [
    "$$\n",
    "q = \n",
    "\\begin{pmatrix}\n",
    "q_1 \\\\\n",
    "q_2\n",
    "\\end{pmatrix} \\implies\n",
    "\\dot{q} =\n",
    "\\begin{pmatrix}\n",
    "\\dot{q}_1 \\\\\n",
    "\\dot{q}_2\n",
    "\\end{pmatrix}\n",
    "$$\n",
    "\n",
    "Las posiciones de las juntas estan dadas por:\n",
    "\n",
    "$$\n",
    "\\begin{align}\n",
    "\\begin{pmatrix}\n",
    "x_1 & y_1\n",
    "\\end{pmatrix} &= \n",
    "\\begin{pmatrix}\n",
    "l_1 \\cos{(q_1)} & l_1 \\sin{(q_1)}\n",
    "\\end{pmatrix} \\\\\n",
    "\\begin{pmatrix}\n",
    "x_2 & y_2\n",
    "\\end{pmatrix} &= \n",
    "\\begin{pmatrix}\n",
    "l_1 \\cos{(q_1)} + l_2 \\cos{(q_1 + q_2)} & l_1 \\sin{(q_1)} + l_2 \\sin{(q_1 + q_2)}\n",
    "\\end{pmatrix}\n",
    "\\end{align}\n",
    "$$\n",
    "\n",
    "y por lo tanto, las velocidades estarán dadas por:\n",
    "\n",
    "$$\n",
    "\\begin{align}\n",
    "\\begin{pmatrix}\n",
    "\\dot{x}_1 & \\dot{y}_1\n",
    "\\end{pmatrix} &= \n",
    "\\begin{pmatrix}\n",
    "-l_1 \\sin{(q_1)} \\dot{q}_1 & l_1 \\cos{(q_1)} \\dot{q}_1\n",
    "\\end{pmatrix} \\\\\n",
    "\\begin{pmatrix}\n",
    "\\dot{x}_2 & \\dot{y}_2\n",
    "\\end{pmatrix} &= \n",
    "\\begin{pmatrix}\n",
    "-l_1 \\sin{(q_1)} \\dot{q}_1 - l_2 \\sin{(q_1 + q_2)} (\\dot{q}_1 + \\dot{q}_2) & l_1 \\cos{(q_1)} \\dot{q}_1 + l_2 \\cos{(q_1 + q_2)} (\\dot{q}_1 + \\dot{q}_2)\n",
    "\\end{pmatrix}\n",
    "\\end{align}\n",
    "$$"
   ]
  },
  {
   "cell_type": "markdown",
   "metadata": {},
   "source": [
    "### Energía cinética"
   ]
  },
  {
   "cell_type": "markdown",
   "metadata": {},
   "source": [
    "Considerando que la velocidad $v_i$ es la norma de estas componentes, $v_i = \\sqrt{\\dot{x}_i^2 + \\dot{y}_i^2}$, la energía cinética del sistema esta dada dada por:\n",
    "\n",
    "$$\n",
    "\\begin{align}\n",
    "K &= K_1 + K_2 \\\\\n",
    "&= \\frac{1}{2} m_1 v_1^2 + \\frac{1}{2} m_2 v_2^2\n",
    "\\end{align}\n",
    "$$\n",
    "\n",
    "con $v_1^2$ dada por:\n",
    "\n",
    "$$\n",
    "\\begin{align}\n",
    "v_1^2 &= \\dot{x}_1^2 + \\dot{y}_1^2 \\\\\n",
    "&= l_1^2 \\sin^2{(q_1)} \\dot{q}_1^2 + l_1^2 \\cos^2{(q_1)} \\dot{q}_1^2 \\\\\n",
    "&= l_1^2 \\dot{q}_1^2\n",
    "\\end{align}\n",
    "$$\n",
    "\n",
    "y $v_2^2$:\n",
    "\n",
    "$$\n",
    "\\begin{align}\n",
    "v_2^2 &= \\dot{x}_2^2 + \\dot{y}_2^2 \\\\\n",
    "&= \\left( -l_1 \\sin{(q_1)} \\dot{q}_1 - l_2 \\sin{(q_1 + q_2)} (\\dot{q}_1 + \\dot{q}_2) \\right)^2 + \\left( l_1 \\cos{(q_1)} \\dot{q}_1 + l_2 \\cos{(q_1 + q_2)} (\\dot{q}_1 + \\dot{q}_2) \\right)^2 \\\\\n",
    "&= l_1^2 \\dot{q}_1^2 + l_2^2 (\\dot{q}_1 + \\dot{q}_2)^2 + 2\\left[ l_1 \\sin{(q_1)} \\dot{q}_1 \\cdot l_2 \\sin{(q_1 + q_2)} (\\dot{q}_1 + \\dot{q}_2)\n",
    "+ l_1 \\cos{(q_1)} \\dot{q}_1 \\cdot l_2 \\cos{(q_1 + q_2)} (\\dot{q}_1 + \\dot{q}_2) \\right] \\\\\n",
    "&= l_1^2 \\dot{q}_1^2 + l_2^2 (\\dot{q}_1 + \\dot{q}_2)^2 + 2 l_1 l_2 \\left[ \\sin{(q_1)} \\sin{(q_1 + q_2)} + \\cos{(q_1)} \\cos{(q_1 + q_2)} \\right] \\dot{q}_1 (\\dot{q}_1 + \\dot{q}_2) \\\\\n",
    "&= l_1^2 \\dot{q}_1^2 + l_2^2 (\\dot{q}_1 + \\dot{q}_2)^2 + 2 l_1 l_2 \\cos{(q_2)} \\dot{q}_1 (\\dot{q}_1 + \\dot{q}_2)\n",
    "\\end{align}\n",
    "$$\n",
    "\n",
    "por lo que las energías cinéticas de cada junta quedan:\n",
    "\n",
    "$$\n",
    "\\begin{align}\n",
    "K_1 &= \\frac{1}{2} m_1 v_1^2 = \\frac{1}{2} m_1 l_1^2 \\dot{q}_1^2 \\\\\n",
    "K_2 &= \\frac{1}{2} m_2 v_2^2 = \\frac{1}{2} m_2 \\left[ l_1^2 \\dot{q}_1^2 + l_2^2 (\\dot{q}_1 + \\dot{q}_2)^2 + 2 l_1 l_2 \\cos{(q_2)} \\dot{q}_1 (\\dot{q}_1 + \\dot{q}_2) \\right] \\\\\n",
    "&= \\frac{1}{2} m_2 \\left[ l_1^2 \\dot{q}_1^2 + l_2^2 \\dot{q}_1^2 + l_2^2 \\dot{q}_2^2 + 2 l_2^2 \\dot{q}_1 \\dot{q}_2 + 2 l_1 l_2 \\cos{(q_2)} \\dot{q}_1^2 + 2 l_1 l_2 \\cos{(q_2)} \\dot{q}_1 \\dot{q}_2 \\right] \\\\\n",
    "&= \\frac{1}{2} m_2 \\left[ \\left( l_1^2 + l_2^2 + 2 l_1 l_2 \\cos{(q_2)} \\right) \\dot{q}_1^2 + l_2^2 \\dot{q}_2^2 + 2 \\left( l_2^2 + l_1 l_2 \\cos{(q_2)} \\right) \\dot{q}_1 \\dot{q}_2 \\right]\n",
    "\\end{align}\n",
    "$$\n",
    "\n",
    "por lo que la energía cinética total, será:\n",
    "\n",
    "$$\n",
    "\\begin{align}\n",
    "K &= K_1 + K_2 \\\\\n",
    "&= \\frac{1}{2} m_1 l_1^2 \\dot{q}_1^2 + \\frac{1}{2} m_2 \\left[ \\left( l_1^2 + l_2^2 + 2 l_1 l_2 \\cos{(q_2)} \\right) \\dot{q}_1^2 + l_2^2 \\dot{q}_2^2 + 2 \\left( l_2^2 + l_1 l_2 \\cos{(q_2)} \\right) \\dot{q}_1 \\dot{q}_2 \\right] \\\\\n",
    "&= \\frac{1}{2} \\left\\{ m_1 l_1^2 \\dot{q}_1^2 + m_2 \\left[ \\left( l_1^2 + l_2^2 + 2 l_1 l_2 \\cos{(q_2)} \\right) \\dot{q}_1^2 + l_2^2 \\dot{q}_2^2 + 2 \\left( l_2^2 + l_1 l_2 \\cos{(q_2)} \\right) \\dot{q}_1 \\dot{q}_2 \\right] \\right\\} \\\\\n",
    "&= \\frac{1}{2} \\left\\{ \\left[ m_1 l_1^2 + m_2 \\left( l_1^2 + l_2^2 + 2 l_1 l_2 \\cos{(q_2)} \\right) \\right] \\dot{q}_1^2 + m_2 l_2^2 \\dot{q}_2^2 + 2 m_2 \\left( l_2^2 + l_1 l_2 \\cos{(q_2)} \\right) \\dot{q}_1 \\dot{q}_2\\right\\} \\\\\n",
    "&= \\frac{1}{2} \\left\\{ \\left[ (m_1 + m_2) l_1^2 + m_2 l_2^2 + 2 m_2 l_1 l_2 \\cos{(q_2)} \\right] \\dot{q}_1^2 + m_2 l_2^2 \\dot{q}_2^2 + 2 m_2 \\left( l_2^2 + l_1 l_2 \\cos{(q_2)} \\right) \\dot{q}_1 \\dot{q}_2\\right\\} \\\\\n",
    "\\end{align}\n",
    "$$\n",
    "\n",
    "La cual, al ver las relaciones con las variables de posición generalizadas del pendulo, podemos escribir como:\n",
    "\n",
    "$$\n",
    "K = \\frac{1}{2} \\dot{q}^T M(q) \\dot{q}\n",
    "$$\n",
    "\n",
    "en donde la matriz de inercia $M(q)$ queda de la forma:\n",
    "\n",
    "$$\n",
    "M(q) =\n",
    "\\begin{pmatrix}\n",
    "(m_1 + m_2) l_1^2 + m_2 l_2^2 + 2 m_2 l_1 l_2 \\cos{(q_2)} & m_2 l_2^2 + m_2 l_1 l_2 \\cos{(q_2)} \\\\\n",
    "m_2 l_2^2 + m_2 l_1 l_2 \\cos{(q_2)} & m_2 l_2^2\n",
    "\\end{pmatrix}\n",
    "$$\n",
    "\n",
    "en donde podemos introducir las constantes $\\mu_i$ para simplificar la notación:\n",
    "\n",
    "$$\n",
    "\\begin{align}\n",
    "\\mu_1 &= (m_1 + m_2) l_1^2 \\\\\n",
    "\\mu_2 &= m_2 l_2^2 \\\\\n",
    "\\mu_3 &= m_2 l_1 l_2\n",
    "\\end{align}\n",
    "$$\n",
    "\n",
    "con lo que la expresión para la energía cinética queda:\n",
    "\n",
    "$$\n",
    "K = \\frac{1}{2} \\dot{q}^T\n",
    "\\begin{pmatrix}\n",
    "\\mu_1 + \\mu_2 + 2\\mu_3 \\cos{(q_2)} & \\mu_2 + \\mu_3 \\cos{(q_2)} \\\\\n",
    "\\mu_2 + \\mu_3 \\cos{(q_2)} & \\mu_2\n",
    "\\end{pmatrix} \\dot{q}\n",
    "$$"
   ]
  },
  {
   "cell_type": "markdown",
   "metadata": {},
   "source": [
    "### Energía potencial"
   ]
  },
  {
   "cell_type": "markdown",
   "metadata": {},
   "source": [
    "La energía potencial del sistema esta dada por:\n",
    "\n",
    "$$\n",
    "\\begin{align}\n",
    "U &= U_1 + U_2 \\\\\n",
    "&= m_1 g h_1 + m_2 g h_2 \\\\\n",
    "&= m_1 g y_1 + m_2 g y_2 \\\\\n",
    "&= m_1 g l_1 \\sin{(q_1)} + m_2 g \\left[ l_1 \\sin{(q_1)} + l_2 \\sin{(q_1 + q_2)} \\right] \\\\\n",
    "&= \\left( m_1 + m_2 \\right) g l_1 \\sin{(q_1)} + m_2 g l_2 \\sin{(q_1 + q_2)} \\\\\n",
    "&= g \\left[ \\left( m_1 + m_2 \\right) l_1 \\sin{(q_1)} + m_2 l_2 \\sin{(q_1 + q_2)} \\right] \\\\\n",
    "\\end{align}\n",
    "$$"
   ]
  },
  {
   "cell_type": "markdown",
   "metadata": {},
   "source": [
    "### Lagrangiano"
   ]
  },
  {
   "cell_type": "markdown",
   "metadata": {},
   "source": [
    "El Lagrangiano del sistema, esta dado por la expresión:\n",
    "\n",
    "$$\n",
    "L = K - U\n",
    "$$\n",
    "\n",
    "por lo que solo queda sumar las dos expresiones y obtener las condiciones de optimalidad para la energía del sistema por medio de la ecuación de Euler-Lagrange"
   ]
  },
  {
   "cell_type": "markdown",
   "metadata": {},
   "source": [
    "### Euler-Lagrange"
   ]
  },
  {
   "cell_type": "markdown",
   "metadata": {},
   "source": [
    "$$\n",
    "\\frac{d}{dt} \\left( \\frac{\\partial L}{\\partial \\dot{q}} \\right) - \\frac{\\partial L}{\\partial q} = 0\n",
    "$$\n",
    "\n",
    "Si empezamos derivando con respecto a $\\dot{q}$, tendremos:\n",
    "\n",
    "$$\n",
    "\\frac{\\partial L}{\\partial \\dot{q}} = \\frac{\\partial K}{\\partial \\dot{q}} - \\frac{\\partial U}{\\partial \\dot{q}}\n",
    "$$\n",
    "\n",
    "y obteniendo cada uno de estos tenemos que:\n",
    "\n",
    "$$\n",
    "\\begin{align}\n",
    "\\frac{\\partial K}{\\partial \\dot{q}} &= K_{\\dot{q}} = \\frac{\\partial}{\\partial \\dot{q}} \\left\\{ \\frac{1}{2} \\dot{q}^T M(q) \\dot{q} \\right\\} = M(q) \\dot{q} \\\\\n",
    "\\frac{\\partial U}{\\partial \\dot{q}} &= U_{\\dot{q}} = 0\n",
    "\\end{align}\n",
    "$$\n",
    "\n",
    "y la derivada con respecto al tiempo de estos terminos será:\n",
    "\n",
    "$$\n",
    "\\begin{align}\n",
    "\\frac{d K_{\\dot{q}}}{dt} &= M(q) \\ddot{q} + \\dot{M}(q, \\dot{q}) \\dot{q} \\\\\n",
    "\\frac{d U_{\\dot{q}}}{dt} &= 0\n",
    "\\end{align}\n",
    "$$\n",
    "\n",
    "en donde:\n",
    "\n",
    "$$\n",
    "\\begin{align}\n",
    "\\dot{M}(q, \\dot{q}) &= \\frac{d}{dt}\n",
    "\\begin{pmatrix}\n",
    "\\mu_1 + \\mu_2 + 2\\mu_3 \\cos{(q_2)} & \\mu_2 + \\mu_3 \\cos{(q_2)} \\\\\n",
    "\\mu_2 + \\mu_3 \\cos{(q_2)} & \\mu_2\n",
    "\\end{pmatrix} \\\\\n",
    "&=\n",
    "\\begin{pmatrix}\n",
    "-2 \\mu_3 \\sin{(q_2)} \\dot{q}_2 & -\\mu_3 \\sin{(q_2)} \\dot{q}_2 \\\\\n",
    "-\\mu_3 \\sin{(q_2)} \\dot{q}_2 & 0\n",
    "\\end{pmatrix} \\\\\n",
    "&= -\\mu_3 \\sin{(q_2)}\n",
    "\\begin{pmatrix}\n",
    "2 \\dot{q}_2 & \\dot{q}_2 \\\\\n",
    "\\dot{q}_2 & 0\n",
    "\\end{pmatrix}\n",
    "\\end{align}\n",
    "$$\n",
    "\n",
    "Ahora, derivando con respecto a $q$, tenemos:\n",
    "\n",
    "$$\n",
    "\\frac{\\partial L}{\\partial q} = \\frac{\\partial K}{\\partial q} - \\frac{\\partial U}{\\partial q}\n",
    "$$\n",
    "\n",
    "en donde:\n",
    "\n",
    "$$\n",
    "\\begin{align}\n",
    "\\frac{\\partial K}{\\partial q} = K_{q} &=\n",
    "\\begin{pmatrix}\n",
    "\\frac{\\partial K}{\\partial q_1} \\\\\n",
    "\\frac{\\partial K}{\\partial q_2}\n",
    "\\end{pmatrix} \\\\\n",
    "&= \\frac{1}{2}\n",
    "\\begin{pmatrix}\n",
    "\\frac{\\partial}{\\partial q_1} \\left\\{ \\left[ (m_1 + m_2) l_1^2 + m_2 l_2^2 + 2 m_2 l_1 l_2 \\cos{(q_2)} \\right] \\dot{q}_1^2 + m_2 l_2^2 \\dot{q}_2^2 + 2 m_2 \\left( l_2^2 + l_1 l_2 \\cos{(q_2)} \\right) \\dot{q}_1 \\dot{q}_2 \\right\\} \\\\\n",
    "\\frac{\\partial}{\\partial q_2} \\left\\{ \\left[ (m_1 + m_2) l_1^2 + m_2 l_2^2 + 2 m_2 l_1 l_2 \\cos{(q_2)} \\right] \\dot{q}_1^2 + m_2 l_2^2 \\dot{q}_2^2 + 2 m_2 \\left( l_2^2 + l_1 l_2 \\cos{(q_2)} \\right) \\dot{q}_1 \\dot{q}_2 \\right\\} \\\\\n",
    "\\end{pmatrix} \\\\\n",
    "&= \\frac{1}{2}\n",
    "\\begin{pmatrix}\n",
    "0 \\\\\n",
    "-2 m_2 l_1 l_2 \\sin{(q_2)} \\dot{q}_1^2 - 2 m_2 l_1 l_2 \\sin{(q_2)} \\dot{q}_1 \\dot{q}_2 \\\\\n",
    "\\end{pmatrix} \\\\\n",
    "&= - \\mu_3 \\sin{(q_2)}\n",
    "\\begin{pmatrix}\n",
    "0 \\\\\n",
    "\\dot{q}_1^2 + \\dot{q}_1 \\dot{q}_2 \\\\\n",
    "\\end{pmatrix} = -\\mu_3 \\sin{(q_2)}\n",
    "\\begin{pmatrix}\n",
    "\\dot{q}_2 & -\\dot{q}_1 \\\\\n",
    "\\dot{q}_1 + \\dot{q}_2 & 0\n",
    "\\end{pmatrix} \\dot{q}\n",
    "\\end{align}\n",
    "$$\n",
    "\n",
    "y para la energía potencial:\n",
    "\n",
    "$$\n",
    "\\begin{align}\n",
    "\\frac{\\partial U}{\\partial q} = U_q &=\n",
    "\\begin{pmatrix}\n",
    "\\frac{\\partial U}{\\partial q_1} \\\\\n",
    "\\frac{\\partial U}{\\partial q_2}\n",
    "\\end{pmatrix} \\\\\n",
    "&= g\n",
    "\\begin{pmatrix}\n",
    "\\frac{\\partial}{\\partial q_1} \\left[ \\left( m_1 + m_2 \\right) l_1 \\sin{(q_1)} + m_2 l_2 \\sin{(q_1 + q_2)} \\right] \\\\\n",
    "\\frac{\\partial}{\\partial q_2} \\left[ \\left( m_1 + m_2 \\right) l_1 \\sin{(q_1)} + m_2 l_2 \\sin{(q_1 + q_2)} \\right]\n",
    "\\end{pmatrix} \\\\\n",
    "&= g\n",
    "\\begin{pmatrix}\n",
    "\\left( m_1 + m_2 \\right) l_1 \\cos{(q_1)} + m_2 l_2 \\cos{(q_1 + q_2)} \\\\\n",
    "m_2 l_2 \\cos{(q_1 + q_2)}\n",
    "\\end{pmatrix}\n",
    "\\end{align}\n",
    "$$\n",
    "\n",
    "o bien:\n",
    "\n",
    "$$\n",
    "U_q = g\n",
    "\\begin{pmatrix}\n",
    "\\mu_4 \\cos{(q_1)} + \\mu_5 \\cos{(q_1 + q_2)} \\\\\n",
    "\\mu_5 \\cos{(q_1 + q_2)}\n",
    "\\end{pmatrix}\n",
    "$$\n",
    "\n",
    "con $\\mu_4 = \\left( m_1 + m_2 \\right) l_1$ y $\\mu_5 = m_2 l_2$, por lo que la ecuación de Euler-Lagrange queda:\n",
    "\n",
    "$$\n",
    "\\begin{align}\n",
    "\\frac{d}{dt} \\left( \\frac{\\partial L}{\\partial \\dot{q}} \\right) &- \\frac{\\partial L}{\\partial q} = 0 \\\\\n",
    "\\frac{d K_{\\dot{q}}}{dt} &- \\left( K_q - U_q \\right) = 0 \\\\\n",
    "M(q) \\ddot{q} + \\dot{M}(q, \\dot{q}) \\dot{q} &- K_q + U_q = 0\n",
    "\\end{align}\n",
    "$$\n",
    "\n",
    "en donde recordando que $K_q$ tiene la forma $F(q, \\dot{q}) \\dot{q}$, podemos juntar esta matriz con $\\dot{M}(q, \\dot{q})$ y obtener una expresión de la forma:\n",
    "\n",
    "$$\n",
    "M(q) \\ddot{q} + C(q, \\dot{q}) \\dot{q} + U_q = 0\n",
    "$$\n",
    "\n",
    "en donde:\n",
    "\n",
    "$$\n",
    "\\begin{align}\n",
    "M(q) &=\n",
    "\\begin{pmatrix}\n",
    "\\mu_1 + \\mu_2 + 2\\mu_3 \\cos{(q_2)} & \\mu_2 + \\mu_3 \\cos{(q_2)} \\\\\n",
    "\\mu_2 + \\mu_3 \\cos{(q_2)} & \\mu_2\n",
    "\\end{pmatrix} \\\\\n",
    "C(q, \\dot{q}) &= \\dot{M}(q, \\dot{q}) - F(q, \\dot{q}) =\n",
    "-\\mu_3 \\sin{(q_2)}\n",
    "\\begin{pmatrix}\n",
    "\\dot{q}_2 & \\dot{q}_1 + \\dot{q}_2 \\\\\n",
    "-\\dot{q}_1 & 0\n",
    "\\end{pmatrix} \\\\\n",
    "U_q &= g\n",
    "\\begin{pmatrix}\n",
    "\\mu_4 \\cos{(q_1)} + \\mu_5 \\cos{(q_1 + q_2)} \\\\\n",
    "\\mu_5 \\cos{(q_1 + q_2)}\n",
    "\\end{pmatrix}\n",
    "\\end{align}\n",
    "$$\n",
    "\n",
    "con\n",
    "\n",
    "$$\n",
    "\\begin{align}\n",
    "\\mu_1 &= (m_1 + m_2) l_1^2 \\\\\n",
    "\\mu_2 &= m_2 l_2^2 \\\\\n",
    "\\mu_3 &= m_2 l_1 l_2 \\\\\n",
    "\\mu_4 &= \\left( m_1 + m_2 \\right) l_1 \\\\\n",
    "\\mu_5 &= m_2 l_2\n",
    "\\end{align}\n",
    "$$\n",
    "\n",
    "sin embargo este modelo no considera las señales de control, por lo que procederemos a analizar el sistema."
   ]
  },
  {
   "cell_type": "markdown",
   "metadata": {},
   "source": [
    "### Señales de control"
   ]
  },
  {
   "cell_type": "markdown",
   "metadata": {},
   "source": [
    "Nuestra señal de control escalar se deberá enlazar al actuador del pendubot, el cual esta asociado al primer grado de libertad $q_1$, por lo que finalmente tenemos la ecuación:\n",
    "\n",
    "$$\n",
    "M(q) \\ddot{q} + C(q, \\dot{q}) \\dot{q} + U_q = G u\n",
    "$$\n",
    "\n",
    "con:\n",
    "\n",
    "$$\n",
    "G =\n",
    "\\begin{pmatrix}\n",
    "1 \\\\\n",
    "0\n",
    "\\end{pmatrix}\n",
    "$$"
   ]
  },
  {
   "cell_type": "code",
   "execution_count": 2,
   "metadata": {
    "collapsed": false
   },
   "outputs": [],
   "source": [
    "def f(estado, tiempo, K):\n",
    "    '''Modelo matematico pendubot\n",
    "    Esta función f es tal que ẋ = f(x, t), es decir, dado el estado del sistema \"x\"\n",
    "    y el tiempo \"t\", devuelve la derivada en el tiempo \"t\". Para el caso del pendubot,\n",
    "    es invariante en el tiempo, por lo que es equivalente a ẋ = f(x).\n",
    "\n",
    "    Ejemplo\n",
    "    -------\n",
    "    >>> x = [τ/4, 0.1, 0, 0]\n",
    "    >>> t = 0\n",
    "    >>> f(x, t)\n",
    "    array([  0.        ,   0.        ,  -4.73091048,  17.41001448])\n",
    "    '''\n",
    "    \n",
    "    from numpy import matrix, zeros, cos, sin, pi\n",
    "    \n",
    "    # Constantes fisicas del sistema\n",
    "    m1 = 0.2 # kg\n",
    "    m2 = 0.6 # kg\n",
    "    l1 = 0.6 # m\n",
    "    l2 = 0.3 # m\n",
    "    g = 9.81 # m/s^2\n",
    "    τ = 2*pi\n",
    "    \n",
    "    # Variables auxiliares del sistema\n",
    "    μ1 = (m1 + m2)*l1**2\n",
    "    μ2 = m2*l2**2\n",
    "    μ3 = m2*l1*l2\n",
    "    μ4 = (m1 + m2)*l1\n",
    "    μ5 = m2*l2\n",
    "    \n",
    "    # Estado agregado\n",
    "    q1, q2, q̇1, q̇2 = estado\n",
    "    \n",
    "    # Estado del sistema y derivada\n",
    "    q = matrix([[q1], [q2]])\n",
    "    q̇ = matrix([[q̇1], [q̇2]])\n",
    "    \n",
    "    # Matrix de inercia generalizada\n",
    "    M = matrix([[μ1 + μ2 + 2*μ3*cos(q2), μ2 + μ3*cos(q2)],\n",
    "                [μ2 + μ3*cos(q2), μ2]])\n",
    "    \n",
    "    # Matriz de Coriolis\n",
    "    C = -μ3*sin(q2)*matrix([[ q̇2, q̇1 + q̇2],\n",
    "                             [-q̇1, 0]])\n",
    "    \n",
    "    # Vector de gravedad\n",
    "    U = g*matrix([[μ4*cos(q1) + μ5*cos(q1 + q2)],\n",
    "                  [μ5*cos(q1 + q2)]])\n",
    "    \n",
    "    # Vector de señales de control\n",
    "    G = matrix([[1], [0]])\n",
    "    \n",
    "    ξ = matrix(estado).T - matrix([[τ/4], [0], [0], [0]])\n",
    "    \n",
    "    # Ley de control\n",
    "    u = -(matrix(K)*ξ).tolist()[0][0]\n",
    "    \n",
    "    # Aceleracion del sistema\n",
    "    q̈ = M.I*(G*u - C*q̇ - U)\n",
    "    \n",
    "    # Incializamos la derivada del estado agregado\n",
    "    ẏ = zeros(4)\n",
    "    \n",
    "    # Se asignan los valores a la derivada del estado agregado\n",
    "    ẏ[0] = q̇1\n",
    "    ẏ[1] = q̇2\n",
    "    ẏ[2] = q̈[0]\n",
    "    ẏ[3] = q̈[1]\n",
    "    \n",
    "    # Se devuelve la derivada\n",
    "    return ẏ"
   ]
  },
  {
   "cell_type": "code",
   "execution_count": 3,
   "metadata": {
    "collapsed": true
   },
   "outputs": [],
   "source": [
    "from matplotlib.pyplot import style, figure, legend, plot\n",
    "style.use(\"ggplot\")"
   ]
  },
  {
   "cell_type": "code",
   "execution_count": 4,
   "metadata": {
    "collapsed": true
   },
   "outputs": [],
   "source": [
    "from scipy.integrate import odeint\n",
    "from numpy import pi, linspace, sin, cos, array\n",
    "τ = 2*pi"
   ]
  },
  {
   "cell_type": "code",
   "execution_count": 5,
   "metadata": {
    "collapsed": false
   },
   "outputs": [],
   "source": [
    "ts = linspace(0, 5, 500)\n",
    "estado_inicial = [τ/4, 0.1, 0, 0]\n",
    "\n",
    "f_libre = lambda x, t: f(x, t, [0, 0, 0, 0])\n",
    "\n",
    "x = odeint(f_libre, estado_inicial, ts)"
   ]
  },
  {
   "cell_type": "code",
   "execution_count": 6,
   "metadata": {
    "collapsed": false
   },
   "outputs": [],
   "source": [
    "def graficatemporal(archivo, estados, tiempo, etiquetas):\n",
    "    from matplotlib.pyplot import plot, figure, legend\n",
    "    from IPython.core.display import HTML \n",
    "    \n",
    "    rosa = \"#FB5377\"\n",
    "    azul = \"#6BBBE2\"\n",
    "    \n",
    "    q1 = estados[:, 0]\n",
    "    q2 = estados[:, 1]\n",
    "    \n",
    "    fig = figure(figsize=(14, 8))\n",
    "\n",
    "    p1, = plot(tiempo, q1, color=azul)\n",
    "    p2, = plot(tiempo, q2, color=rosa)\n",
    "\n",
    "    ax = fig.gca()\n",
    "    ax.set_xlabel(r\"$t$\", fontsize=20)\n",
    "    ax.set_xlim(min(tiempo), max(tiempo))\n",
    "\n",
    "    legend([p1, p2], etiquetas, loc=2, fontsize=16)\n",
    "    fig.savefig(archivo)\n",
    "    \n",
    "    return HTML('<img src=' + archivo + ' width=1000/>')"
   ]
  },
  {
   "cell_type": "code",
   "execution_count": 7,
   "metadata": {
    "collapsed": false
   },
   "outputs": [
    {
     "data": {
      "text/html": [
       "<img src=./imagenes/trayectoriaspendubotlibre.png width=1000/>"
      ],
      "text/plain": [
       "<IPython.core.display.HTML object>"
      ]
     },
     "execution_count": 7,
     "metadata": {},
     "output_type": "execute_result"
    }
   ],
   "source": [
    "graficatemporal(\"./imagenes/trayectoriaspendubotlibre.png\", x, ts, [r'$q_1(t)$', r'$q_2(t)$'])"
   ]
  },
  {
   "cell_type": "code",
   "execution_count": 8,
   "metadata": {
    "collapsed": false
   },
   "outputs": [],
   "source": [
    "def graficaxy(archivo, estado, etiquetas):\n",
    "    from matplotlib.pyplot import figure, plot, legend\n",
    "    from IPython.core.display import HTML \n",
    "    \n",
    "    l1 = 0.6 # m\n",
    "    l2 = 0.3 # m\n",
    "    \n",
    "    rosa = \"#FB5377\"\n",
    "    azul = \"#6BBBE2\"\n",
    "    \n",
    "    q1 = estado[:, 0]\n",
    "    q2 = estado[:, 1]\n",
    "    \n",
    "    fig = figure(figsize=(8, 8))\n",
    "\n",
    "    x1 = l1*cos(q1)\n",
    "    y1 = l1*sin(q1)\n",
    "    x2 = x1 + l2*cos(q1 + q2)\n",
    "    y2 = y1 + l2*sin(q1 + q2)\n",
    "\n",
    "    p1, = plot(x1, y1, color=azul)\n",
    "    p2, = plot(x2, y2, color=rosa)\n",
    "\n",
    "    ax = fig.gca()\n",
    "    ax.set_ylabel(r\"$y$\", fontsize=20)\n",
    "    ax.set_xlabel(r\"$x$\", fontsize=20)\n",
    "    ax.set_xlim(-1, 1)\n",
    "    ax.set_ylim(-1, 1)\n",
    "\n",
    "    legend([p1, p2], etiquetas, loc=2, fontsize=16)\n",
    "    fig.savefig(archivo)\n",
    "    \n",
    "    return HTML('<img src=' + archivo + ' width=500/>')"
   ]
  },
  {
   "cell_type": "code",
   "execution_count": 9,
   "metadata": {
    "collapsed": false
   },
   "outputs": [
    {
     "data": {
      "text/html": [
       "<img src=./imagenes/xypendubotlibre.png width=500/>"
      ],
      "text/plain": [
       "<IPython.core.display.HTML object>"
      ]
     },
     "execution_count": 9,
     "metadata": {},
     "output_type": "execute_result"
    }
   ],
   "source": [
    "graficaxy(\"./imagenes/xypendubotlibre.png\", x, [r'$q_1(t)$', r'$q_2(t)$'])"
   ]
  },
  {
   "cell_type": "code",
   "execution_count": 10,
   "metadata": {
    "collapsed": false
   },
   "outputs": [],
   "source": [
    "def animacion_pendubot(archivo, estado, K):\n",
    "    from matplotlib.patches import Circle\n",
    "    from matplotlib.gridspec import GridSpec\n",
    "    from matplotlib.pyplot import subplot, tight_layout, figure\n",
    "    from matplotlib import animation\n",
    "    from numpy import matrix\n",
    "    from IPython.core.display import HTML\n",
    "\n",
    "    l1 = 0.6 # m\n",
    "    l2 = 0.3 # m\n",
    "    m1 = 0.2 # kg\n",
    "    m2 = 0.6 # kg\n",
    "    \n",
    "    rosa = \"#FB5377\"\n",
    "    azul = \"#6BBBE2\"\n",
    "    amarillo = \"#F0D664\"\n",
    "    verde = \"#8B9C67\"\n",
    "    \n",
    "    q1 = estado[:, 0]\n",
    "    q2 = estado[:, 1]\n",
    "\n",
    "    x1 = l1*cos(q1)\n",
    "    y1 = l1*sin(q1)\n",
    "    x2 = x1 + l2*cos(q1 + q2)\n",
    "    y2 = y1 + l2*sin(q1 + q2)\n",
    "    \n",
    "    u = (K*matrix(-estado).T).tolist()[0]\n",
    "\n",
    "    fig = figure(figsize=(4.0902, 3.5))\n",
    "    fig.set_tight_layout(True)\n",
    "\n",
    "    gs = GridSpec(1, 2, width_ratios=[7, 1])\n",
    "\n",
    "    ax0 = subplot(gs[0])\n",
    "    ax1 = subplot(gs[1])\n",
    "\n",
    "    ax0.set_xticklabels([])\n",
    "    ax0.set_yticklabels([])\n",
    "    ax0.set_xlim([-1, 1])\n",
    "    ax0.set_ylim([-1, 1])\n",
    "\n",
    "    ax1.axes.get_xaxis().set_visible(False)\n",
    "    ax1.axes.get_yaxis().set_visible(False)\n",
    "    ax1.set_ylim([min(u) - 0.1, max(u) + 0.1])\n",
    "    ax1.set_xlim([0, 1])\n",
    "\n",
    "    eslabones, = ax0.plot([], [], lw=2.5, color=verde)\n",
    "    centro = Circle((10, 10), 0.075, lw=1.5, fc=amarillo)\n",
    "    junta1 = Circle((10, 10), 0.1*m1/m2, lw=1.5, fc=azul)\n",
    "    junta2 = Circle((10, 10), 0.1, lw=1.5, fc=rosa)\n",
    "\n",
    "    barra, = ax1.bar([0], [0], width=1, color=amarillo)\n",
    "\n",
    "    def init():\n",
    "        eslabones.set_data([], [])\n",
    "\n",
    "        centro.center = (0, 0)\n",
    "        junta1.center = (x1[0], y1[0])\n",
    "        junta2.center = (x2[0], y2[0])\n",
    "\n",
    "        ax0.add_patch(centro)\n",
    "        ax0.add_patch(junta1)\n",
    "        ax0.add_patch(junta2)\n",
    "\n",
    "        barra.set_height(u[0])\n",
    "        return eslabones, junta1, junta2, barra\n",
    "\n",
    "    def animate(i):\n",
    "        eslabones.set_data([0, x1[i], x2[i]], [0, y1[i], y2[i]])\n",
    "\n",
    "        junta1.center = (x1[i], y1[i])\n",
    "        junta2.center = (x2[i], y2[i])\n",
    "\n",
    "        barra.set_height(u[i])\n",
    "        return eslabones, junta1, junta2, barra\n",
    "\n",
    "    ani = animation.FuncAnimation(fig, animate, frames=len(x1), interval=25, blit=True, init_func=init)\n",
    "\n",
    "    ani.save(archivo, writer='imagemagick');\n",
    "    \n",
    "    return HTML('<img src=' + archivo + ' width=500/>')"
   ]
  },
  {
   "cell_type": "code",
   "execution_count": 11,
   "metadata": {
    "collapsed": false
   },
   "outputs": [
    {
     "data": {
      "text/html": [
       "<img src=./imagenes/doublependulum.gif width=500/>"
      ],
      "text/plain": [
       "<IPython.core.display.HTML object>"
      ]
     },
     "execution_count": 11,
     "metadata": {},
     "output_type": "execute_result"
    }
   ],
   "source": [
    "animacion_pendubot(\"./imagenes/doublependulum.gif\", x, [0, 0, 0, 0])"
   ]
  },
  {
   "cell_type": "markdown",
   "metadata": {
    "collapsed": true
   },
   "source": [
    "## Linealización del modelo del pendubot"
   ]
  },
  {
   "cell_type": "markdown",
   "metadata": {},
   "source": [
    "### Estado agregado"
   ]
  },
  {
   "cell_type": "markdown",
   "metadata": {},
   "source": [
    "Dado el modelo de este sistema no lineal que hemos obtenido, podemos linealizar alrededor de los puntos de equilibrio, pero primero tenemos que obtener las ecuaciones del sistema agregado, de tal manera que:\n",
    "\n",
    "$$\n",
    "\\dot{x} = f(x, u)\n",
    "$$\n",
    "\n",
    "por lo que primero convertimos el modelo representado por una ecuación diferencial de segundo orden, por uno representado por una ecuación diferencial ordinaria de primer orden. Recordemos el modelo obtenido:\n",
    "\n",
    "$$\n",
    "M(q) \\ddot{q} + C(q, \\dot{q}) \\dot{q} + U_q = G u \\implies \\ddot{q} = M^{-1}(q) \\left[ G u - C(q, \\dot{q}) \\dot{q} - U_q \\right]\n",
    "$$\n",
    "\n",
    "Si definimos el estado $x$ como:\n",
    "\n",
    "$$\n",
    "x =\n",
    "\\begin{pmatrix}\n",
    "x_1 \\\\\n",
    "x_2 \\\\\n",
    "x_3 \\\\\n",
    "x_4\n",
    "\\end{pmatrix} =\n",
    "\\begin{pmatrix}\n",
    "q_1 \\\\\n",
    "q_2 \\\\\n",
    "\\dot{q}_1 \\\\\n",
    "\\dot{q}_2\n",
    "\\end{pmatrix}\n",
    "$$\n",
    "\n",
    "significa que tenemos que encontrar $f(x, u)$ tal que:\n",
    "\n",
    "$$\n",
    "\\dot{x} =\n",
    "\\begin{pmatrix}\n",
    "\\dot{x}_1 \\\\\n",
    "\\dot{x}_2 \\\\\n",
    "\\dot{x}_3 \\\\\n",
    "\\dot{x}_4\n",
    "\\end{pmatrix} =\n",
    "\\begin{pmatrix}\n",
    "\\dot{q}_1 \\\\\n",
    "\\dot{q}_2 \\\\\n",
    "\\ddot{q}_1 \\\\\n",
    "\\ddot{q}_2\n",
    "\\end{pmatrix} =\n",
    "\\begin{pmatrix}\n",
    "f_1(x, u) \\\\\n",
    "f_2(x, u) \\\\\n",
    "f_3(x, u) \\\\\n",
    "f_4(x, u)\n",
    "\\end{pmatrix} = f(x, u)\n",
    "$$\n",
    "\n",
    "en donde $f_1$ y $f_2$, trivialmente son:\n",
    "\n",
    "$$\n",
    "\\begin{align}\n",
    "f_1(x, u) &= x_3 = \\dot{q}_1 \\\\\n",
    "f_2(x, u) &= x_4 = \\dot{q}_2\n",
    "\\end{align}\n",
    "$$\n",
    "\n",
    "y $f_3$ y $f_4$ estan dadas por el modelo obtenido:\n",
    "\n",
    "$$\n",
    "\\begin{pmatrix}\n",
    "\\ddot{q}_1 \\\\\n",
    "\\ddot{q}_2\n",
    "\\end{pmatrix} = \\ddot{q} = M^{-1}(q) \\left[ G u - C(q, \\dot{q}) \\dot{q} - U_q \\right] =\n",
    "\\begin{pmatrix}\n",
    "f_3(x, u) \\\\\n",
    "f_4(x, u)\n",
    "\\end{pmatrix}\n",
    "$$\n",
    "\n",
    "por lo que ahora debemos obtener expresiones escalares para la dinámica del pendubot obtenida."
   ]
  },
  {
   "cell_type": "markdown",
   "metadata": {},
   "source": [
    "### Ecuaciones escalares de la dinámica del pendubot"
   ]
  },
  {
   "cell_type": "markdown",
   "metadata": {},
   "source": [
    "<div style=\"display:none\">\n",
    "  $\\DeclareMathOperator{\\adjunta}{adj}$\n",
    "</div>\n",
    "\n",
    "Empezamos calculando $M^{-1}(q)$:\n",
    "\n",
    "$$\n",
    "\\begin{align}\n",
    "M^{-1}(q) &= \\frac{1}{\\det{\\left( M(q) \\right)}} \\adjunta{\\left( M(q) \\right)} \\\\\n",
    "&= \\frac{1}{\\mu_1 \\mu_2 - \\mu_3^2 \\cos^2{(q_2)}}\n",
    "\\begin{pmatrix}\n",
    "\\mu_2 & -\\mu_2 - \\mu_3 \\cos{(q_2)} \\\\\n",
    "-\\mu_2 - \\mu_3 \\cos{(q_2)} & \\mu_1 + \\mu_2 + 2 \\mu_3 \\cos{(q_2)}\n",
    "\\end{pmatrix}\n",
    "\\end{align}\n",
    "$$\n",
    "\n",
    "y las ecuaciones que queremos obtener:\n",
    "\n",
    "$$\n",
    "\\begin{pmatrix}\n",
    "f_3(x, u) \\\\\n",
    "f_4(x, u)\n",
    "\\end{pmatrix} = M^{-1}(q) G u - M^{-1}(q) C(q, \\dot{q}) \\dot{q} - M^{-1}(q) U_q\n",
    "$$\n",
    "\n",
    "tienen terminos:\n",
    "\n",
    "$$\n",
    "\\begin{align}\n",
    "M^{-1}(q) G u &= \\frac{1}{\\mu_1 \\mu_2 - \\mu_3^2 \\cos^2{(q_2)}}\n",
    "\\begin{pmatrix}\n",
    "\\mu_2 & -\\mu_2 - \\mu_3 \\cos{(q_2)} \\\\\n",
    "-\\mu_2 - \\mu_3 \\cos{(q_2)} & \\mu_1 + \\mu_2 + 2 \\mu_3 \\cos{(q_2)}\n",
    "\\end{pmatrix}\n",
    "\\begin{pmatrix}\n",
    "1 \\\\\n",
    "0\n",
    "\\end{pmatrix} u \\\\\n",
    "&= \\frac{1}{\\mu_1 \\mu_2 - \\mu_3^2 \\cos^2{(q_2)}}\n",
    "\\begin{pmatrix}\n",
    "\\mu_2 \\\\\n",
    "-\\mu_2 - \\mu_3 \\cos{(q_2)}\n",
    "\\end{pmatrix} u\n",
    "\\end{align}\n",
    "$$\n",
    "\n",
    "$$\n",
    "\\begin{align}\n",
    "- M^{-1}(q) C(q, \\dot{q}) \\dot{q} &= \\frac{\\mu_3 \\sin{(q_2)}}{\\mu_1 \\mu_2 - \\mu_3^2 \\cos^2{(q_2)}}\n",
    "\\begin{pmatrix}\n",
    "\\mu_2 & -\\mu_2 - \\mu_3 \\cos{(q_2)} \\\\\n",
    "-\\mu_2 - \\mu_3 \\cos{(q_2)} & \\mu_1 + \\mu_2 + 2 \\mu_3 \\cos{(q_2)}\n",
    "\\end{pmatrix}\n",
    "\\begin{pmatrix}\n",
    "\\dot{q}_2 & \\dot{q}_1 + \\dot{q}_2 \\\\\n",
    "-\\dot{q}_1 & 0\n",
    "\\end{pmatrix} \\dot{q} \\\\\n",
    "&= \\frac{\\mu_3 \\sin{(q_2)}}{\\mu_1 \\mu_2 - \\mu_3^2 \\cos^2{(q_2)}}\n",
    "\\begin{pmatrix}\n",
    "\\mu_2 \\left( \\dot{q}_1 + \\dot{q}_2 \\right)^2 + \\mu_3 \\cos{(q_2)} \\dot{q}_1^2 \\\\\n",
    "-\\mu_1 \\dot{q}_1^2 - \\mu_2 \\left( \\dot{q}_1 + \\dot{q}_2 \\right)^2 - \\mu_3 \\cos{(q_2)} \\left[ \\left( \\dot{q}_1 + \\dot{q}_2 \\right)^2 + \\dot{q}_1^2 \\right]\n",
    "\\end{pmatrix}\n",
    "\\end{align}\n",
    "$$\n",
    "\n",
    "$$\n",
    "\\begin{align}\n",
    "-M^{-1}(q) U_q &= - \\frac{g}{\\mu_1 \\mu_2 - \\mu_3^2 \\cos^2{(q_2)}}\n",
    "\\begin{pmatrix}\n",
    "\\mu_2 & -\\mu_2 - \\mu_3 \\cos{(q_2)} \\\\\n",
    "-\\mu_2 - \\mu_3 \\cos{(q_2)} & \\mu_1 + \\mu_2 + 2 \\mu_3 \\cos{(q_2)}\n",
    "\\end{pmatrix}\n",
    "\\begin{pmatrix}\n",
    "\\mu_4 \\cos{(q_1)} + \\mu_5 \\cos{(q_1 + q_2)} \\\\\n",
    "\\mu_5 \\cos{(q_1 + q_2)}\n",
    "\\end{pmatrix} \\\\\n",
    "&= - \\frac{g}{\\mu_1 \\mu_2 - \\mu_3^2 \\cos^2{(q_2)}}\n",
    "\\begin{pmatrix}\n",
    "\\mu_2 \\mu_4 \\cos{(q_1)} - \\mu_3 \\mu_5 \\cos{(q_2)} \\cos{(q_1 + q_2)} \\\\\n",
    "-\\mu_2 \\mu_4 \\cos{(q_1)} - \\mu_3 \\mu_4 \\cos{(q_1)} \\cos{(q_2)} + \\mu_1 \\mu_5 \\cos{(q_1 + q_2)} + \\mu_3 \\mu_5 \\cos{(q_2)} \\cos{(q_1 + q_2)}\n",
    "\\end{pmatrix}\n",
    "\\end{align}\n",
    "$$\n",
    "\n",
    "Por lo que al juntar todos los terminos, y hacer un poco de algebra, tendremos que:\n",
    "\n",
    "$$\n",
    "f_3(x, u) = \\frac{\\mu_2 u + \\mu_3 \\mu_5 \\sin{(q_2)} \\left[ l_2 \\left( \\dot{q}_1 + \\dot{q}_2 \\right)^2 + l_1 \\cos{(q_2)} \\dot{q}_1^2 \\right] -g \\mu_3 \\left[ \\mu_4 \\cos{(q_1)} + \\mu_5 \\cos{(q_2)} \\cos{(q_1 + q_2)} \\right]}{\\mu_1 \\mu_2 - \\mu_3^2 \\cos^2{(q_2)}}\n",
    "$$\n",
    "\n",
    "$$\n",
    "\\begin{align}\n",
    "f_4(x, u) &= \\frac{-\\mu_5 \\left( l_2 + l_1 \\cos{(q_2)} \\right)u - \\mu_3 \\sin{(q_2)} \\left\\{ m_1 l_1^2 \\dot{q}_1^2 + \\mu_5 \\left[ \\left( l_2 + l_1 \\cos{(q_2)} \\right) \\left( \\dot{q}_1 + \\dot{q}_2 \\right)^2 + l_1 \\cos{(q_2)} \\dot{q}_1^2 \\right] \\right\\}}{\\mu_1 \\mu_2 - \\mu_3^2 \\cos^2{(q_2)}} \\\\\n",
    "&+ \\frac{g \\mu_3 \\left[ \\left( m_1 + m_2 \\right)\\left( l_2 \\cos{(q_1)} + l_1 \\sin{(q_1)} \\sin{(q_2)} \\right) - \\mu_5 \\cos{(q_2)} \\cos{(q_1 + q_2)} \\right]}{\\mu_1 \\mu_2 - \\mu_3^2 \\cos^2{(q_2)}}\n",
    "\\end{align}\n",
    "$$"
   ]
  },
  {
   "cell_type": "markdown",
   "metadata": {},
   "source": [
    "### Linealización del sistema no lineal"
   ]
  },
  {
   "cell_type": "markdown",
   "metadata": {},
   "source": [
    "Dado este sistema no lineal, podemos obtener una linealización alrededor de algun punto de equilibrio al considerar la expansión de Taylor de la dinámica del sistema\n",
    "\n",
    "$$\n",
    "f(x, u) = f(\\bar{x}, \\bar{u}) + \\left. \\frac{\\partial f}{\\partial x} \\right|_{x=\\bar{x}, u=\\bar{u}} (x - \\bar{x}) + \\left. \\frac{\\partial f}{\\partial u} \\right|_{x=\\bar{x}, u=\\bar{u}} (u - \\bar{u}) + o(x, u)\n",
    "$$\n",
    "\n",
    "en donde $f(\\bar{x}, \\bar{u}) = 0$ y $o(x, u)$ son terminos de orden superior, por lo que al tener en cuenta variaciones pequeñas de nuestra diámica, podemos despreciarlas y obtener:\n",
    "\n",
    "$$\n",
    "\\dot{\\xi} = A \\xi + B u\n",
    "$$\n",
    "\n",
    "en donde $\\xi = x - \\bar{x}$ es el estado de nuestra linealización, y $A$ y $B$ estan dados por:\n",
    "\n",
    "$$\n",
    "\\begin{align}\n",
    "A &= \\left. \\frac{\\partial f}{\\partial x} \\right|_{x=\\bar{x}, u=\\bar{u}} \\\\\n",
    "B &= \\left. \\frac{\\partial f}{\\partial u} \\right|_{x=\\bar{x}, u=\\bar{u}}\n",
    "\\end{align}\n",
    "$$\n",
    "\n",
    "Calculando estas derivadas, tenemos que nuestra linealización queda:\n",
    "\n",
    "$$\n",
    "A =\n",
    "\\begin{pmatrix}\n",
    "0 & 0 & 1 & 0 \\\\\n",
    "0 & 0 & 0 & 1 \\\\\n",
    "\\frac{g}{l_1} & -\\frac{g m_2}{l_1 m_1} & 0 & 0 \\\\\n",
    "-\\frac{g}{l_1} & \\frac{g}{m_1} \\left( \\frac{m_1}{l_2} + \\frac{m_2}{l_2} + \\frac{m_2}{l_1} \\right) & 0 & 0\n",
    "\\end{pmatrix}\n",
    "$$\n",
    "\n",
    "$$\n",
    "B =\n",
    "\\begin{pmatrix}\n",
    "0 \\\\\n",
    "0 \\\\\n",
    "\\frac{1}{m_1 l_1^2} \\\\\n",
    "- \\frac{l_1 + l_2}{m_1 l_1^2 l_2}\n",
    "\\end{pmatrix}\n",
    "$$"
   ]
  },
  {
   "cell_type": "code",
   "execution_count": 12,
   "metadata": {
    "collapsed": true
   },
   "outputs": [],
   "source": [
    "def f_lineal(x, t, K):\n",
    "    '''Modelo matematico lineal pendubot\n",
    "    Esta función f_lineal es tal que ẋ = f(x, t), es decir, dado el estado del sistema \"x\"\n",
    "    y el tiempo \"t\", devuelve la derivada en el tiempo \"t\". Para el caso del pendubot,\n",
    "    es invariante en el tiempo, por lo que es equivalente a ẋ = f(x).\n",
    "\n",
    "    Ejemplo\n",
    "    -------\n",
    "    >>> x = [τ/4, 0.1, 0, 0]\n",
    "    >>> t = 0\n",
    "    >>> f(x, t)\n",
    "    [0.0, 0.0, -4.905000000000001, 17.985]\n",
    "    '''\n",
    "    \n",
    "    from numpy import matrix, zeros, cos, sin\n",
    "    \n",
    "    # Constantes fisicas del sistema\n",
    "    m1 = 0.2 # kg\n",
    "    m2 = 0.6 # kg\n",
    "    l1 = 0.6 # m\n",
    "    l2 = 0.3 # m\n",
    "    g = 9.81 # m/s^2\n",
    "    \n",
    "    # Matriz sistema linealizado\n",
    "    A = matrix([[0, 0, 1, 0],\n",
    "                [0, 0, 0, 1],\n",
    "                [g/l1, -g*m2/(l1*m1), 0, 0],\n",
    "                [-g/l1, g/m1*(m1/l2 + m2/l2 + m2/l1), 0, 0]])\n",
    "    \n",
    "    # Vector de entrada\n",
    "    B = matrix([[0],[0],[1/(m1*l1**2)],[-(l1 + l2)/(m1*l1**2*l2)]])\n",
    "    \n",
    "    # Ley de control lineal\n",
    "    u = -matrix(K)*matrix(x).T\n",
    "    \n",
    "    # Dinámica del sistema linealizado\n",
    "    ẋ = A*matrix(x).T + B*u\n",
    "    \n",
    "    # Se devuelve la derivada\n",
    "    return (ẋ.T).tolist()[0]"
   ]
  },
  {
   "cell_type": "code",
   "execution_count": 13,
   "metadata": {
    "collapsed": false
   },
   "outputs": [],
   "source": [
    "ts = linspace(0, 0.4, 100)\n",
    "estado_inicial_lineal = [0.0, 0.1, 0.0, 0.0]\n",
    "\n",
    "f_lineal_libre = lambda x, t: f_lineal(x, t, [0, 0, 0, 0])\n",
    "\n",
    "ξs = odeint(f_lineal_libre, estado_inicial_lineal, ts)\n",
    "xl = array([ξ + array([τ/4, 0, 0, 0]) for ξ in ξs])"
   ]
  },
  {
   "cell_type": "code",
   "execution_count": 14,
   "metadata": {
    "collapsed": false
   },
   "outputs": [
    {
     "data": {
      "text/html": [
       "<img src=./imagenes/trayectoriaspendubotlineallibre.png width=1000/>"
      ],
      "text/plain": [
       "<IPython.core.display.HTML object>"
      ]
     },
     "execution_count": 14,
     "metadata": {},
     "output_type": "execute_result"
    }
   ],
   "source": [
    "graficatemporal(\"./imagenes/trayectoriaspendubotlineallibre.png\", xl, ts, [r'$\\xi_1(t) + \\frac{\\tau}{4}$', r'$\\xi_2(t)$'])"
   ]
  },
  {
   "cell_type": "code",
   "execution_count": 15,
   "metadata": {
    "collapsed": false
   },
   "outputs": [
    {
     "data": {
      "text/html": [
       "<img src=./imagenes/xypendubotlineallibre.png width=500/>"
      ],
      "text/plain": [
       "<IPython.core.display.HTML object>"
      ]
     },
     "execution_count": 15,
     "metadata": {},
     "output_type": "execute_result"
    }
   ],
   "source": [
    "graficaxy(\"./imagenes/xypendubotlineallibre.png\", xl, [r'$\\xi_1(t) + \\frac{\\tau}{4}$', r'$\\xi_2(t)$'])"
   ]
  },
  {
   "cell_type": "code",
   "execution_count": 16,
   "metadata": {
    "collapsed": false
   },
   "outputs": [],
   "source": [
    "x = odeint(f_libre, estado_inicial, ts)\n",
    "q1, q2 = x[:, 0], x[:, 1]\n",
    "q1_l, q2_l = xl[:, 0], xl[:, 1]"
   ]
  },
  {
   "cell_type": "code",
   "execution_count": 17,
   "metadata": {
    "collapsed": false
   },
   "outputs": [
    {
     "data": {
      "text/html": [
       "<img src=./imagenes/xypendubotlinealynolineallibres.png width=500/>"
      ],
      "text/plain": [
       "<IPython.core.display.HTML object>"
      ]
     },
     "execution_count": 17,
     "metadata": {},
     "output_type": "execute_result"
    }
   ],
   "source": [
    "fig = figure(figsize=(8, 8))\n",
    "\n",
    "l1 = 0.6 # m\n",
    "l2 = 0.3 # m\n",
    "\n",
    "rosa = \"#FB5377\"\n",
    "azul = \"#6BBBE2\"\n",
    "\n",
    "x1 = l1*cos(q1)\n",
    "y1 = l1*sin(q1)\n",
    "x2 = x1 + l2*cos(q1 + q2)\n",
    "y2 = y1 + l2*sin(q1 + q2)\n",
    "\n",
    "x1_l = l1*cos(q1_l)\n",
    "y1_l = l1*sin(q1_l)\n",
    "x2_l = x1_l + l2*cos(q1_l + q2_l)\n",
    "y2_l = y1_l + l2*sin(q1_l + q2_l)\n",
    "\n",
    "p3, = plot(x1_l, y1_l, \"x\", color=azul)\n",
    "p4, = plot(x2_l, y2_l, \"x\", color=rosa)\n",
    "\n",
    "p1, = plot(x1, y1, \".\", color=azul)\n",
    "p2, = plot(x2, y2, \".\", color=rosa)\n",
    "\n",
    "ax = fig.gca()\n",
    "ax.set_ylabel(r\"$y$\", fontsize=20)\n",
    "ax.set_xlabel(r\"$x$\", fontsize=20)\n",
    "ax.set_xlim(-0.4, 0.4)\n",
    "ax.set_ylim(0.2, 1)\n",
    "\n",
    "legend([p1, p2, p3, p4], [r'$q_1(t)$', r'$q_2(t)$', r'$\\xi_1(t) + \\frac{\\tau}{4}$', r'$\\xi_2(t)$'], loc=2, fontsize=16)\n",
    "fig.savefig(\"./imagenes/xypendubotlinealynolineallibres.png\")\n",
    "HTML('<img src=./imagenes/xypendubotlinealynolineallibres.png width=500/>')"
   ]
  },
  {
   "cell_type": "markdown",
   "metadata": {},
   "source": [
    "Aqui podemos ver como el sistema linealizado deverge rapidamente del sistema original, por lo que podemos asumer que este modelo linealizado es valido para variaciones muy pequeñas de $q_1$ y $q_2$."
   ]
  },
  {
   "cell_type": "markdown",
   "metadata": {},
   "source": [
    "## Diseño de un control óptimo"
   ]
  },
  {
   "cell_type": "markdown",
   "metadata": {},
   "source": [
    "Para el diseño de la ley de control óptima que minimice la funcional:\n",
    "\n",
    "$$\n",
    "J(u) = \\int_0^{\\infty} \\left( x^T(t) Q x(t) + u^2(t) \\right) dt\n",
    "$$\n",
    "\n",
    "con $Q$ de la forma:\n",
    "\n",
    "$$\n",
    "Q =\n",
    "\\begin{pmatrix}\n",
    "1 & 0 & 0 & 0 \\\\\n",
    "0 & 1 & 0 & 0 \\\\\n",
    "0 & 0 & 10 & 0 \\\\\n",
    "0 & 0 & 0 & 10\n",
    "\\end{pmatrix}\n",
    "$$\n",
    "\n",
    "tal que la ley de control óptima sea:\n",
    "\n",
    "$$\n",
    "u^*(t) = -K \\xi^*(t)\n",
    "$$\n",
    "\n",
    "Para calcular la ganancia $K$ asociada a esta función de costo, utilizaremos el sistema lineal encontrado."
   ]
  },
  {
   "cell_type": "code",
   "execution_count": 18,
   "metadata": {
    "collapsed": true
   },
   "outputs": [],
   "source": [
    "from control import lqr\n",
    "from numpy import matrix"
   ]
  },
  {
   "cell_type": "code",
   "execution_count": 19,
   "metadata": {
    "collapsed": false
   },
   "outputs": [],
   "source": [
    "m1 = 0.2 # kg\n",
    "m2 = 0.6 # kg\n",
    "l1 = 0.6 # m\n",
    "l2 = 0.3 # m\n",
    "g = 9.81 # m/s^2\n",
    "\n",
    "A = matrix([[0, 0, 1, 0],\n",
    "            [0, 0, 0, 1],\n",
    "            [g/l1, -g*m2/(l1*m1), 0, 0],\n",
    "            [-g/l1, g/m1*(m1/l2 + m2/l2 + m2/l1), 0, 0]])\n",
    "\n",
    "B = matrix([[0],\n",
    "            [0],\n",
    "            [1/(m1*l1**2)],\n",
    "            [-(l1+l2)/(m1*l1**2*l2)]])\n",
    "\n",
    "Q = matrix([[1, 0, 0, 0],\n",
    "            [0, 1, 0, 0],\n",
    "            [0, 0, 10, 0],\n",
    "            [0, 0, 0, 10]])\n",
    "\n",
    "R = matrix([[1]])"
   ]
  },
  {
   "cell_type": "code",
   "execution_count": 20,
   "metadata": {
    "collapsed": false
   },
   "outputs": [
    {
     "data": {
      "text/plain": [
       "array([[-51.600978  , -51.39319408, -16.05940057,  -8.92417942]])"
      ]
     },
     "execution_count": 20,
     "metadata": {},
     "output_type": "execute_result"
    }
   ],
   "source": [
    "K, S, E = lqr(A, B, Q, R)\n",
    "K"
   ]
  },
  {
   "cell_type": "markdown",
   "metadata": {},
   "source": [
    "Una vez que hemos obtenido las ganancias de realimentacion, tan solo tenemos que incluirlas en la simulación del sistema para ver su desempeño."
   ]
  },
  {
   "cell_type": "code",
   "execution_count": 21,
   "metadata": {
    "collapsed": false
   },
   "outputs": [],
   "source": [
    "ts = linspace(0, 5, 500)\n",
    "estado_inicial_lineal = [0.0, 0.1, 0.0, 0.0]\n",
    "\n",
    "f_lineal_optima = lambda x, t: f_lineal(x, t, K)\n",
    "\n",
    "ξs = odeint(f_lineal_optima, estado_inicial_lineal, ts)\n",
    "xl = array([ξ + array([τ/4, 0, 0, 0]) for ξ in ξs])"
   ]
  },
  {
   "cell_type": "code",
   "execution_count": 22,
   "metadata": {
    "collapsed": false
   },
   "outputs": [
    {
     "data": {
      "text/html": [
       "<img src=./imagenes/trayectoriaspendubotlinealoptimo.png width=1000/>"
      ],
      "text/plain": [
       "<IPython.core.display.HTML object>"
      ]
     },
     "execution_count": 22,
     "metadata": {},
     "output_type": "execute_result"
    }
   ],
   "source": [
    "graficatemporal(\"./imagenes/trayectoriaspendubotlinealoptimo.png\", xl, ts, [r'$\\xi_1(t) + \\frac{\\tau}{4}$', r'$\\xi_2(t)$'])"
   ]
  },
  {
   "cell_type": "code",
   "execution_count": 23,
   "metadata": {
    "collapsed": false
   },
   "outputs": [
    {
     "data": {
      "text/html": [
       "<img src=./imagenes/xypendubotlinealoptimo.png width=500/>"
      ],
      "text/plain": [
       "<IPython.core.display.HTML object>"
      ]
     },
     "execution_count": 23,
     "metadata": {},
     "output_type": "execute_result"
    }
   ],
   "source": [
    "graficaxy(\"./imagenes/xypendubotlinealoptimo.png\", xl, [r'$\\xi_1(t) + \\frac{\\tau}{4}$', r'$\\xi_2(t)$'])"
   ]
  },
  {
   "cell_type": "markdown",
   "metadata": {},
   "source": [
    "Ahora sabemos que este control estabiliza al sistema linealizado, pero en realidad queremos saber como se desempeña con el sistema no lineal.\n",
    "\n",
    "Podemos realimentar el sistema original para ver su desempeño."
   ]
  },
  {
   "cell_type": "code",
   "execution_count": 24,
   "metadata": {
    "collapsed": false
   },
   "outputs": [],
   "source": [
    "ts = linspace(0, 5, 500)\n",
    "estado_inicial = [τ/4, 0.1, 0, 0]\n",
    "\n",
    "f_optima = lambda x, t: f(x, t, K)\n",
    "\n",
    "x = odeint(f_optima, estado_inicial, ts)"
   ]
  },
  {
   "cell_type": "code",
   "execution_count": 25,
   "metadata": {
    "collapsed": false
   },
   "outputs": [
    {
     "data": {
      "text/html": [
       "<img src=./imagenes/trayectoriaspendubotoptimo.png width=1000/>"
      ],
      "text/plain": [
       "<IPython.core.display.HTML object>"
      ]
     },
     "execution_count": 25,
     "metadata": {},
     "output_type": "execute_result"
    }
   ],
   "source": [
    "graficatemporal(\"./imagenes/trayectoriaspendubotoptimo.png\", x, ts, [r'$q_1(t)$', r'$q_2(t)$'])"
   ]
  },
  {
   "cell_type": "code",
   "execution_count": null,
   "metadata": {
    "collapsed": false
   },
   "outputs": [
    {
     "data": {
      "text/html": [
       "<img src=./imagenes/xypendubotoptimo.png width=500/>"
      ],
      "text/plain": [
       "<IPython.core.display.HTML object>"
      ]
     },
     "execution_count": 26,
     "metadata": {},
     "output_type": "execute_result"
    }
   ],
   "source": [
    "graficaxy(\"./imagenes/xypendubotoptimo.png\", x, [r'$q_1(t)$', r'$q_2(t)$'])"
   ]
  },
  {
   "cell_type": "code",
   "execution_count": null,
   "metadata": {
    "collapsed": false
   },
   "outputs": [],
   "source": [
    "animacion_pendubot(\"./imagenes/pendubotoptimo.gif\", x, K)"
   ]
  },
  {
   "cell_type": "markdown",
   "metadata": {},
   "source": [
    "Y tan solo para divertirnos un poco, que pasa cuando le damos condiciones iniciales extremas:"
   ]
  },
  {
   "cell_type": "code",
   "execution_count": null,
   "metadata": {
    "collapsed": false
   },
   "outputs": [],
   "source": [
    "ts = linspace(0, 5, 500)\n",
    "estado_inicial = [τ/4 + 0.35, 0.35, 0, 0]\n",
    "\n",
    "x = odeint(f_optima, estado_inicial, ts)"
   ]
  },
  {
   "cell_type": "code",
   "execution_count": null,
   "metadata": {
    "collapsed": false
   },
   "outputs": [],
   "source": [
    "animacion_pendubot(\"./imagenes/pendubotoptimolimite.gif\", x, K)"
   ]
  },
  {
   "cell_type": "markdown",
   "metadata": {},
   "source": [
    "Si deseas compartir este Notebook de IPython utiliza la siguiente dirección:\n",
    "\n",
    "http://bit.ly/1NSWu0B\n",
    "\n",
    "o bien el siguiente código QR:\n",
    "\n",
    "![Codigo](codigos/pendubot.jpg)"
   ]
  },
  {
   "cell_type": "code",
   "execution_count": null,
   "metadata": {
    "collapsed": true
   },
   "outputs": [],
   "source": [
    "# Codigo para generar codigo :)\n",
    "from qrcode import make\n",
    "img = make(\"http://bit.ly/1NSWu0B\")\n",
    "img.save(\"codigos/pendubot.jpg\")"
   ]
  }
 ],
 "metadata": {
  "kernelspec": {
   "display_name": "Python 3",
   "language": "python",
   "name": "python3"
  },
  "language_info": {
   "codemirror_mode": {
    "name": "ipython",
    "version": 3
   },
   "file_extension": ".py",
   "mimetype": "text/x-python",
   "name": "python",
   "nbconvert_exporter": "python",
   "pygments_lexer": "ipython3",
   "version": "3.4.3"
  }
 },
 "nbformat": 4,
 "nbformat_minor": 0
}
