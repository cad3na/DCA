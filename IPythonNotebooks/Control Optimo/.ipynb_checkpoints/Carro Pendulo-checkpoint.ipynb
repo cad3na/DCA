{
 "cells": [
  {
   "cell_type": "code",
   "execution_count": 2,
   "metadata": {
    "collapsed": false
   },
   "outputs": [
    {
     "data": {
      "text/html": [
       "<link href='http://fonts.googleapis.com/css?family=Inconsolata' rel='stylesheet' type='text/css'>\n",
       "<link href='http://fonts.googleapis.com/css?family=EB+Garamond' rel='stylesheet' type='text/css'>\n",
       "<link href='http://fonts.googleapis.com/css?family=Lato:100,100italic' rel='stylesheet' type='text/css'>\n",
       "\n",
       "<style>\n",
       "\t@font-face{\n",
       "   \t\tfont-family: \"Computer Modern\";\n",
       "        \tsrc: url('http://mirrors.ctan.org/fonts/cm-unicode/fonts/otf/cmunss.otf');}\n",
       "        \n",
       "\th1 {\n",
       "        \tfont-family: 'Lato', sans-serif;}\n",
       "        \n",
       "\th2 {\n",
       "        \tfont-family: 'Lato', serif;}\n",
       "        \n",
       "\th3{\n",
       "\t\tfont-family:   'Lato', serif;\n",
       "        \tmargin-top:    12px;\n",
       "\t\tmargin-bottom: 3px;}\n",
       "        \n",
       "        h4{\n",
       "\t\tfont-family: 'Lato', serif;}\n",
       "\t\n",
       "\th5 {\n",
       "        \tfont-family: 'Lato', serif;}\n",
       "    \n",
       "\tdiv.text_cell_render{\n",
       "        \tfont-family:  'EB Garamond', 'Computer Modern', 'Helvetica Neue', Arial, Helvetica, Geneva, sans-serif;\n",
       "\t        line-height:  140%;\n",
       "\t        font-size:    14pt;}\n",
       "        \n",
       "\t.CodeMirror{\n",
       "        \tfont-family: 'Inconsolata';}\n",
       "    \n",
       "\t.text_cell_render h1 {\n",
       "\t        font-weight:   100;\n",
       "\t        font-size:     50pt;\n",
       "\t\tline-height:   100%;\n",
       "\t        color:         #CD2305;\n",
       "\t        margin-bottom: 0.5em;\n",
       "\t        margin-top:    0.5em;\n",
       "\t        display:       block;}\n",
       "        \n",
       "\t.text_cell_render h2 {\n",
       "        \tfont-weight:   100;\n",
       "        \tfont-size:     30pt;}\n",
       "        \n",
       "\t.text_cell_render h3 {\n",
       "        \tfont-weight:   100;\n",
       "        \tfont-size:     20pt;}\n",
       "        \n",
       "\t.text_cell_render h4 {\n",
       "        \tfont-weight:   100;\n",
       "        \tfont-size:     16pt;}\n",
       "        \n",
       "\t.text_cell_render h5 {\n",
       "\t        font-weight:   100;\n",
       "\t        font-size:     16pt;\n",
       "\t        color:         #CD2305;\n",
       "\t        font-style:    italic;\n",
       "\t        margin-bottom: 0.5em;\n",
       "\t        margin-top:    0.5em;\n",
       "\t        display:       block;}\n",
       "        \n",
       "\t.text_cell_render h6 {\n",
       "\t        font-weight:   100;\n",
       "\t        font-size:     14pt;\n",
       "\t        color:         #CD2305;\n",
       "\t        font-style:    italic;\n",
       "\t        margin-bottom: 0.5em;\n",
       "\t        margin-top:    0.5em;\n",
       "\t        display:       block;}\n",
       "    \n",
       "\t.warning{\n",
       "\t    \tbackground-color: #fcf2f2;\n",
       "\t    \tborder-color: #dFb5b4;\n",
       "\t    \tborder-left: 5px solid #dfb5b4;\n",
       "\t    \tpadding: 0.5em;}\n",
       "</style>\n",
       "\n",
       "<script>\n",
       "\tMathJax.Hub.Config({\n",
       "        \tTeX:{extensions: [\"AMSmath.js\"]},\n",
       "\n",
       "        \tjax: [\"input/TeX\",\"output/SVG\"],\n",
       "        \tSVG: {\n",
       "        \t\tscale: 120,\n",
       "        \t\tfont: 'Gyre-Pagella'}\n",
       "        });\n",
       "</script>"
      ]
     },
     "metadata": {},
     "output_type": "display_data"
    }
   ],
   "source": [
    "from IPython.core.display import display_html\n",
    "from urllib.request import urlopen\n",
    "\n",
    "display_html(urlopen('http://bit.ly/1HflmO9').read(), raw=True)"
   ]
  },
  {
   "cell_type": "markdown",
   "metadata": {},
   "source": [
    "# Modelado matemático y simulación de sistema carro-pendulo"
   ]
  },
  {
   "cell_type": "markdown",
   "metadata": {},
   "source": [
    "## Problema"
   ]
  },
  {
   "cell_type": "markdown",
   "metadata": {},
   "source": [
    "Dado el sistema de la siguiente figura:\n",
    "\n",
    "![Carro Pendulo](./imagenes/carropendulo.PNG)\n",
    "\n",
    "describir matemáticamente su comportamiento ante perturbaciones externas."
   ]
  },
  {
   "cell_type": "markdown",
   "metadata": {},
   "source": [
    "## Modelado matemático"
   ]
  },
  {
   "cell_type": "markdown",
   "metadata": {},
   "source": [
    "Utilizaremos el enfoque de Euler-Lagrange, el cual nos dice que el primer paso para conseguir el modelo matemático es calcular el Lagrangiano $L$ del sistema, definido por:\n",
    "\n",
    "$$\n",
    "L = K - U\n",
    "$$\n",
    "\n",
    "en donde $K$ es la energía cinética del sistema y $U$ es la energia potencial del sistema.\n",
    "\n",
    "El estado del sistema estará descrito por una distancia $x$ del centro del carro a un marco de referencia y el angulo $\\theta$ del pendulo con respecto a la horizontal.\n",
    "\n",
    "$$\n",
    "q = \\begin{pmatrix} x \\\\ \\theta \\end{pmatrix} = \\begin{pmatrix} q_1 \\\\ q_2 \\end{pmatrix} \\implies\n",
    "\\dot{q} = \\begin{pmatrix} \\dot{x} \\\\ \\dot{\\theta} \\end{pmatrix} = \\begin{pmatrix} \\dot{q}_1 \\\\ \\dot{q}_2 \\end{pmatrix} \\implies\n",
    "\\ddot{q} = \\begin{pmatrix} \\ddot{x} \\\\ \\ddot{\\theta} \\end{pmatrix} = \\begin{pmatrix} \\ddot{q}_1 \\\\ \\ddot{q}_2 \\end{pmatrix}\n",
    "$$\n",
    "\n",
    "Para calcular la energía cinética del sistema, obtenemos $K_1$ y $K_2$ asociadas al carro y al pendulo, en donde $K_i = \\frac{1}{2} m_i v_i^2$, por lo que tenemos:\n",
    "\n",
    "$$\n",
    "K_1 = \\frac{1}{2} m_1 v_1^2 = \\frac{1}{2} m_1 \\dot{x}^2 = \\frac{1}{2} m_1 \\dot{q}_1^2\n",
    "$$\n",
    "\n",
    "$$\n",
    "K_2 = \\frac{1}{2} m_2 v_2^2 = \\frac{1}{2} m_2 \\left[ \\left( \\dot{x} + \\dot{x}_2 \\right)^2 + \\dot{y}_2^2 \\right]\n",
    "$$\n",
    "\n",
    "con $x_2 = l \\cos{\\theta}$ y $y_2 = l \\sin{\\theta}$, por lo que sus derivadas son $\\dot{x}_2 = -\\dot{\\theta} l \\sin{\\theta}$ y $\\dot{y}_2 = \\dot{\\theta} l \\cos{\\theta}$, por lo que $K_2$ queda:\n",
    "\n",
    "$$\n",
    "\\begin{align}\n",
    "K_2 &= \\frac{1}{2} m_2 \\left[ \\left( \\dot{x} -\\dot{\\theta} l \\sin{\\theta} \\right)^2 + \\left( \\dot{\\theta} l \\cos{\\theta} \\right)^2 \\right] \\\\\n",
    "&= \\frac{1}{2} m_2 \\left[ \\left( \\dot{x} -\\dot{\\theta} l \\sin{\\theta} \\right)^2 + \\left( \\dot{\\theta} l \\cos{\\theta} \\right)^2 \\right] \\\\\n",
    "&= \\frac{1}{2} m_2 \\left[ \\left( \\dot{q}_1 -\\dot{q}_2 l \\sin{q_2} \\right)^2 + \\left( \\dot{q}_2 l \\cos{q_2} \\right)^2 \\right]\n",
    "\\end{align}\n",
    "$$\n",
    "\n",
    "Confirmemos estos calculos:"
   ]
  },
  {
   "cell_type": "code",
   "execution_count": 2,
   "metadata": {
    "collapsed": false
   },
   "outputs": [],
   "source": [
    "from IPython.display import display\n",
    "\n",
    "from sympy import var, simplify, collect, expand, solve, sqrt, sin, cos, Matrix, Integer, diff, Function, Rational\n",
    "from sympy.physics.mechanics import mlatex, mechanics_printing\n",
    "mechanics_printing()"
   ]
  },
  {
   "cell_type": "code",
   "execution_count": 3,
   "metadata": {
    "collapsed": false
   },
   "outputs": [
    {
     "data": {
      "image/png": "[encoded data removed]",
      "text/latex": [
       "$$\\left ( l, \\quad t, \\quad m_{1}, \\quad m_{2}, \\quad g\\right )$$"
      ],
      "text/plain": [
       "(l, t, m₁, m₂, g)"
      ]
     },
     "execution_count": 3,
     "metadata": {},
     "output_type": "execute_result"
    }
   ],
   "source": [
    "var(\"l t m1 m2 g\")"
   ]
  },
  {
   "cell_type": "code",
   "execution_count": 4,
   "metadata": {
    "collapsed": false
   },
   "outputs": [],
   "source": [
    "q1 = Function(\"q_1\")(t)\n",
    "q2 = Function(\"q_2\")(t)\n",
    "\n",
    "x = Function(\"x\")(t)"
   ]
  },
  {
   "cell_type": "code",
   "execution_count": 5,
   "metadata": {
    "collapsed": false
   },
   "outputs": [
    {
     "data": {
      "image/png": "[encoded data removed]",
      "text/latex": [
       "$$\\left ( \\sqrt{\\left(\\dot{q}_{1}\\right)^{2}}, \\quad \\left(\\dot{q}_{1}\\right)^{2}\\right )$$"
      ],
      "text/plain": [
       "⎛   ______      ⎞\n",
       "⎜  ╱    2      2⎟\n",
       "⎝╲╱  q₁̇  , q₁̇ ⎠"
      ]
     },
     "execution_count": 5,
     "metadata": {},
     "output_type": "execute_result"
    }
   ],
   "source": [
    "x1 = q1\n",
    "y1 = Integer(0)\n",
    "v1 = sqrt(x1.diff(t)**2 + y1.diff(t)**2)\n",
    "v1, v1**2"
   ]
  },
  {
   "cell_type": "code",
   "execution_count": 6,
   "metadata": {
    "collapsed": false
   },
   "outputs": [
    {
     "data": {
      "image/png": "[encoded data removed]",
      "text/latex": [
       "$$\\left ( \\sqrt{l^{2} \\operatorname{cos}^{2}\\left(q_{2}\\right) \\left(\\dot{q}_{2}\\right)^{2} + \\left(- l \\operatorname{sin}\\left(q_{2}\\right) \\dot{q}_{2} + \\dot{q}_{1}\\right)^{2}}, \\quad l^{2} \\operatorname{cos}^{2}\\left(q_{2}\\right) \\left(\\dot{q}_{2}\\right)^{2} + \\left(- l \\operatorname{sin}\\left(q_{2}\\right) \\dot{q}_{2} + \\dot{q}_{1}\\right)^{2}\\right )$$"
      ],
      "text/plain": [
       "⎛   ____________________________________________                              \n",
       "⎜  ╱  2    2        2                         2    2    2        2            \n",
       "⎝╲╱  l ⋅cos (q₂)⋅q₂̇  + (-l⋅sin(q₂)⋅q₂̇ + q₁̇)  , l ⋅cos (q₂)⋅q₂̇  + (-l⋅sin(q\n",
       "\n",
       "              ⎞\n",
       "             2⎟\n",
       "₂)⋅q₂̇ + q₁̇) ⎠"
      ]
     },
     "execution_count": 6,
     "metadata": {},
     "output_type": "execute_result"
    }
   ],
   "source": [
    "x2 = q1 + l*cos(q2)\n",
    "y2 = l*sin(q2)\n",
    "v2 = sqrt(x2.diff(t)**2 + y2.diff(t)**2)\n",
    "v2, v2**2"
   ]
  },
  {
   "cell_type": "code",
   "execution_count": 7,
   "metadata": {
    "collapsed": false
   },
   "outputs": [
    {
     "data": {
      "image/png": "[encoded data removed]",
      "text/latex": [
       "$$\\left ( \\frac{m_{1} \\left(\\dot{q}_{1}\\right)^{2}}{2}, \\quad \\frac{m_{2}}{2} \\left(l^{2} \\operatorname{cos}^{2}\\left(q_{2}\\right) \\left(\\dot{q}_{2}\\right)^{2} + \\left(- l \\operatorname{sin}\\left(q_{2}\\right) \\dot{q}_{2} + \\dot{q}_{1}\\right)^{2}\\right)\\right )$$"
      ],
      "text/plain": [
       "⎛      2     ⎛ 2    2        2                         2⎞⎞\n",
       "⎜m₁⋅q₁̇   m₂⋅⎝l ⋅cos (q₂)⋅q₂̇  + (-l⋅sin(q₂)⋅q₂̇ + q₁̇) ⎠⎟\n",
       "⎜───────, ───────────────────────────────────────────────⎟\n",
       "⎝   2                            2                       ⎠"
      ]
     },
     "execution_count": 7,
     "metadata": {},
     "output_type": "execute_result"
    }
   ],
   "source": [
    "k1 = Rational(1, 2)*m1*v1**2\n",
    "k2 = Rational(1, 2)*m2*v2**2\n",
    "k1, k2"
   ]
  },
  {
   "cell_type": "code",
   "execution_count": 8,
   "metadata": {
    "collapsed": false
   },
   "outputs": [
    {
     "data": {
      "image/png": "[encoded data removed]",
      "text/latex": [
       "$$\\frac{1}{2} \\left(l^{2} m_{2} \\left(\\dot{q}_{2}\\right)^{2} - 2 l m_{2} \\operatorname{sin}\\left(q_{2}\\right) \\dot{q}_{1} \\dot{q}_{2} + \\left(m_{1} + m_{2}\\right) \\left(\\dot{q}_{1}\\right)^{2}\\right)$$"
      ],
      "text/plain": [
       " 2       2                                         2\n",
       "l ⋅m₂⋅q₂̇  - 2⋅l⋅m₂⋅sin(q₂)⋅q₁̇⋅q₂̇ + (m₁ + m₂)⋅q₁̇ \n",
       "────────────────────────────────────────────────────\n",
       "                         2                          "
      ]
     },
     "execution_count": 8,
     "metadata": {},
     "output_type": "execute_result"
    }
   ],
   "source": [
    "K = (k1 + k2).expand().trigsimp().factor(q1.diff(t), q2.diff(t))\n",
    "K"
   ]
  },
  {
   "cell_type": "markdown",
   "metadata": {},
   "source": [
    "Entonces la energía cinética será:\n",
    "\n",
    "$$\n",
    "K = \\frac{1}{2} \\left[ (m_1 + m_2) \\dot{q}_1^2 + m_2 l^2 \\dot{q}_2^2 - 2 m_2 l \\sin{q_2} \\dot{q}_1 \\dot{q}_2 \\right]\n",
    "$$\n",
    "\n",
    "Lo cual puede ser escrito como una forma matricial cuadratica:\n",
    "\n",
    "$$\n",
    "K = \\frac{1}{2}\n",
    "\\begin{pmatrix}\n",
    "\\dot{q}_1 & \\dot{q}_2\n",
    "\\end{pmatrix}\n",
    "\\begin{pmatrix}\n",
    "m_1 + m_2 & -m_2 l \\sin{q_2} \\\\\n",
    "-m_2 l \\sin{q_2} & m_2 l^2\n",
    "\\end{pmatrix}\n",
    "\\begin{pmatrix}\n",
    "\\dot{q}_1 \\\\\n",
    "\\dot{q}_2\n",
    "\\end{pmatrix}\n",
    "$$"
   ]
  },
  {
   "cell_type": "code",
   "execution_count": 9,
   "metadata": {
    "collapsed": false
   },
   "outputs": [
    {
     "data": {
      "image/png": "[encoded data removed]",
      "text/latex": [
       "$$\\frac{1}{2} \\left(l^{2} m_{2} \\left(\\dot{q}_{2}\\right)^{2} - 2 l m_{2} \\operatorname{sin}\\left(q_{2}\\right) \\dot{q}_{1} \\dot{q}_{2} + \\left(m_{1} + m_{2}\\right) \\left(\\dot{q}_{1}\\right)^{2}\\right)$$"
      ],
      "text/plain": [
       " 2       2                                         2\n",
       "l ⋅m₂⋅q₂̇  - 2⋅l⋅m₂⋅sin(q₂)⋅q₁̇⋅q₂̇ + (m₁ + m₂)⋅q₁̇ \n",
       "────────────────────────────────────────────────────\n",
       "                         2                          "
      ]
     },
     "execution_count": 9,
     "metadata": {},
     "output_type": "execute_result"
    }
   ],
   "source": [
    "M  = Matrix([[m1 + m2, -m2*l*sin(q2)],\n",
    "             [-m2*l*sin(q2), m2*l**2]])\n",
    "qp = Matrix([[q1.diff(t)],\n",
    "             [q2.diff(t)]])\n",
    "\n",
    "(Rational(1, 2)*qp.T*M*qp)[0].expand().trigsimp().factor(q1.diff(t), q2.diff(t))"
   ]
  },
  {
   "cell_type": "markdown",
   "metadata": {},
   "source": [
    "En este punto, introducimos una variable intermedia, tan solo para reducir un poco la notación:\n",
    "\n",
    "$$\n",
    "\\lambda = l \\sin{q_2}\n",
    "$$\n",
    "\n",
    "y su derivada con respecto al tiempo, la representamos como:\n",
    "\n",
    "$$\n",
    "\\dot{\\lambda} = \\lambda' \\dot{q}_2 \\implies \\lambda' = l \\cos{q_2}\n",
    "$$\n",
    "\n",
    "por lo que la energía cinetica queda como:\n",
    "\n",
    "$$\n",
    "K = \\frac{1}{2}\n",
    "\\begin{pmatrix}\n",
    "\\dot{q}_1 & \\dot{q}_2\n",
    "\\end{pmatrix}\n",
    "\\begin{pmatrix}\n",
    "m_1 + m_2 & -m_2 \\lambda \\\\\n",
    "-m_2 \\lambda & m_2 l^2\n",
    "\\end{pmatrix}\n",
    "\\begin{pmatrix}\n",
    "\\dot{q}_1 \\\\\n",
    "\\dot{q}_2\n",
    "\\end{pmatrix}\n",
    "$$\n",
    "\n",
    "en donde el termino matricial es la matriz de masa $M(q)$ y $K(q, \\dot{q}) = \\dot{q}^T M(q) \\dot{q}$.\n",
    "\n",
    "Por otro lado, para calcular la energía potencial del sistema, tenemos que:\n",
    "\n",
    "$$\n",
    "U_1 = m_1 g h_1 = 0\n",
    "$$\n",
    "\n",
    "$$\n",
    "U_2 = m_2 g h_2 = m_2 g l \\sin{q_1} = m_2 g \\lambda\n",
    "$$\n",
    "\n",
    "por lo que la energía potencial del sistema será:\n",
    "\n",
    "$$\n",
    "U = m_2 g \\lambda\n",
    "$$"
   ]
  },
  {
   "cell_type": "code",
   "execution_count": 10,
   "metadata": {
    "collapsed": false
   },
   "outputs": [
    {
     "data": {
      "image/png": "[encoded data removed]",
      "text/latex": [
       "$$g l m_{2} \\operatorname{sin}\\left(q_{2}\\right)$$"
      ],
      "text/plain": [
       "g⋅l⋅m₂⋅sin(q₂)"
      ]
     },
     "execution_count": 10,
     "metadata": {},
     "output_type": "execute_result"
    }
   ],
   "source": [
    "u1 = 0\n",
    "u2 = m2*g*l*sin(q2)\n",
    "U = u1 + u2\n",
    "U"
   ]
  },
  {
   "cell_type": "markdown",
   "metadata": {},
   "source": [
    "Cuando aplicamos la primer condición de optimalidad al Lagrangiano $L(t, q(t), \\dot{q}(t)) = K(q(t), \\dot{q}(t)) - U(q)$, tenemos la ecuación de Euler-Lagrage, la cual nos dice que:\n",
    "\n",
    "$$\n",
    "\\frac{d}{dt} L_{\\dot{q}} - L_q = 0\n",
    "$$\n",
    "\n",
    "por lo que debemos encontrar la derivada del Lagrangiano, con respecto a $q$, $\\dot{q}$ y derivar esta ultima con respecto al tiempo. Empecemos con la derivada con respecto a $q$:\n",
    "\n",
    "$$\n",
    "L_q = K_q - U_q\n",
    "$$\n",
    "\n",
    "en donde:\n",
    "\n",
    "$$\n",
    "\\begin{align}\n",
    "K_q &= \\frac{\\partial}{\\partial q} \\left\\{ \\frac{1}{2} \\left[ (m_1 + m_2) \\dot{q}_1^2 + m_2 l^2 \\dot{q}_2^2 - 2 m_2 \\lambda \\dot{q}_1 \\dot{q}_2 \\right] \\right\\} \\\\\n",
    "&= \\frac{1}{2}\n",
    "\\begin{pmatrix}\n",
    "\\frac{\\partial}{\\partial q_1} \\left\\{ \\left[ (m_1 + m_2) \\dot{q}_1^2 + m_2 l^2 \\dot{q}_2^2 - 2 m_2 \\lambda \\dot{q}_1 \\dot{q}_2 \\right] \\right\\} \\\\\n",
    "\\frac{\\partial}{\\partial q_2} \\left\\{ \\left[ (m_1 + m_2) \\dot{q}_1^2 + m_2 l^2 \\dot{q}_2^2 - 2 m_2 \\lambda \\dot{q}_1 \\dot{q}_2 \\right] \\right\\}\n",
    "\\end{pmatrix} \\\\\n",
    "&= \\frac{1}{2}\n",
    "\\begin{pmatrix}\n",
    "0 \\\\\n",
    "- 2 m_2 \\lambda' \\dot{q}_1 \\dot{q}_2\n",
    "\\end{pmatrix} = - m_2 \\lambda'\n",
    "\\begin{pmatrix}\n",
    "0 & 0 \\\\\n",
    "\\dot{q}_2 & 0\n",
    "\\end{pmatrix}\n",
    "\\begin{pmatrix}\n",
    "\\dot{q}_1 \\\\\n",
    "\\dot{q}_2\n",
    "\\end{pmatrix}\n",
    "\\end{align}\n",
    "$$"
   ]
  },
  {
   "cell_type": "code",
   "execution_count": 11,
   "metadata": {
    "collapsed": false
   },
   "outputs": [
    {
     "data": {
      "image/png": "[encoded data removed]",
      "text/latex": [
       "$$\\left[\\begin{matrix}0\\\\- l m_{2} \\operatorname{cos}\\left(q_{2}\\right) \\dot{q}_{1} \\dot{q}_{2}\\end{matrix}\\right]$$"
      ],
      "text/plain": [
       "⎡          0          ⎤\n",
       "⎢                     ⎥\n",
       "⎣-l⋅m₂⋅cos(q₂)⋅q₁̇⋅q₂̇⎦"
      ]
     },
     "execution_count": 11,
     "metadata": {},
     "output_type": "execute_result"
    }
   ],
   "source": [
    "Kq = Matrix([[K.diff(q1)], [K.diff(q2)]])\n",
    "Kq"
   ]
  },
  {
   "cell_type": "markdown",
   "metadata": {},
   "source": [
    "y la derivada de la energía potencial con respecto a $q$:\n",
    "\n",
    "$$\n",
    "U_q = \\frac{\\partial}{\\partial q} \\left\\{ m_2 g \\lambda \\right\\} =\n",
    "\\begin{pmatrix}\n",
    "\\frac{\\partial}{\\partial q_1} \\left\\{ m_2 g \\lambda \\right\\} \\\\\n",
    "\\frac{\\partial}{\\partial q_2} \\left\\{ m_2 g \\lambda \\right\\}\n",
    "\\end{pmatrix} =\n",
    "\\begin{pmatrix}\n",
    "0 \\\\\n",
    "m_2 g \\lambda'\n",
    "\\end{pmatrix}\n",
    "$$"
   ]
  },
  {
   "cell_type": "code",
   "execution_count": 12,
   "metadata": {
    "collapsed": false
   },
   "outputs": [
    {
     "data": {
      "image/png": "[encoded data removed]",
      "text/latex": [
       "$$\\left[\\begin{matrix}0\\\\g l m_{2} \\operatorname{cos}\\left(q_{2}\\right)\\end{matrix}\\right]$$"
      ],
      "text/plain": [
       "⎡      0       ⎤\n",
       "⎢              ⎥\n",
       "⎣g⋅l⋅m₂⋅cos(q₂)⎦"
      ]
     },
     "execution_count": 12,
     "metadata": {},
     "output_type": "execute_result"
    }
   ],
   "source": [
    "Uq = Matrix([[U.diff(q1)], [U.diff(q2)]])\n",
    "Uq"
   ]
  },
  {
   "cell_type": "code",
   "execution_count": 13,
   "metadata": {
    "collapsed": false
   },
   "outputs": [
    {
     "data": {
      "image/png": "[encoded data removed]",
      "text/latex": [
       "$$\\left[\\begin{matrix}0\\\\- g l m_{2} \\operatorname{cos}\\left(q_{2}\\right) - l m_{2} \\operatorname{cos}\\left(q_{2}\\right) \\dot{q}_{1} \\dot{q}_{2}\\end{matrix}\\right]$$"
      ],
      "text/plain": [
       "⎡                  0                   ⎤\n",
       "⎢                                      ⎥\n",
       "⎣-g⋅l⋅m₂⋅cos(q₂) - l⋅m₂⋅cos(q₂)⋅q₁̇⋅q₂̇⎦"
      ]
     },
     "execution_count": 13,
     "metadata": {},
     "output_type": "execute_result"
    }
   ],
   "source": [
    "Lq = Kq - Uq\n",
    "Lq"
   ]
  },
  {
   "cell_type": "markdown",
   "metadata": {},
   "source": [
    "Ahora obtenemos la derivada con respecto a $\\dot{q}$:\n",
    "\n",
    "$$\n",
    "L_{\\dot{q}} = K_{\\dot{q}} - U_{\\dot{q}}\n",
    "$$\n",
    "\n",
    "en donde:\n",
    "\n",
    "$$\n",
    "K_{\\dot{q}} = \\frac{1}{2} \\frac{\\partial}{\\partial \\dot{q}} \\left\\{ \\dot{q}^T M(q) \\dot{q} \\right\\} = M(q) \\dot{q}\n",
    "$$\n",
    "\n",
    "$$\n",
    "U_{\\dot{q}} = 0\n",
    "$$"
   ]
  },
  {
   "cell_type": "code",
   "execution_count": 14,
   "metadata": {
    "collapsed": false
   },
   "outputs": [
    {
     "data": {
      "image/png": "[encoded data removed]",
      "text/latex": [
       "$$\\left[\\begin{matrix}- l m_{2} \\operatorname{sin}\\left(q_{2}\\right) \\dot{q}_{2} + \\left(m_{1} + m_{2}\\right) \\dot{q}_{1}\\\\l m_{2} \\left(l \\dot{q}_{2} - \\operatorname{sin}\\left(q_{2}\\right) \\dot{q}_{1}\\right)\\end{matrix}\\right]$$"
      ],
      "text/plain": [
       "⎡-l⋅m₂⋅sin(q₂)⋅q₂̇ + (m₁ + m₂)⋅q₁̇⎤\n",
       "⎢                                 ⎥\n",
       "⎣   l⋅m₂⋅(l⋅q₂̇ - sin(q₂)⋅q₁̇)    ⎦"
      ]
     },
     "execution_count": 14,
     "metadata": {},
     "output_type": "execute_result"
    }
   ],
   "source": [
    "Kqp = Matrix([[K.diff(q1.diff(t)).simplify()], [K.diff(q2.diff(t)).simplify()]])\n",
    "Kqp"
   ]
  },
  {
   "cell_type": "code",
   "execution_count": 15,
   "metadata": {
    "collapsed": false
   },
   "outputs": [
    {
     "data": {
      "image/png": "[encoded data removed]",
      "text/latex": [
       "$$\\left[\\begin{matrix}- l m_{2} \\operatorname{sin}\\left(q_{2}\\right) \\dot{q}_{2} + \\left(m_{1} + m_{2}\\right) \\dot{q}_{1}\\\\l^{2} m_{2} \\dot{q}_{2} - l m_{2} \\operatorname{sin}\\left(q_{2}\\right) \\dot{q}_{1}\\end{matrix}\\right]$$"
      ],
      "text/plain": [
       "⎡-l⋅m₂⋅sin(q₂)⋅q₂̇ + (m₁ + m₂)⋅q₁̇⎤\n",
       "⎢                                 ⎥\n",
       "⎢   2                             ⎥\n",
       "⎣  l ⋅m₂⋅q₂̇ - l⋅m₂⋅sin(q₂)⋅q₁̇   ⎦"
      ]
     },
     "execution_count": 15,
     "metadata": {},
     "output_type": "execute_result"
    }
   ],
   "source": [
    "M*qp"
   ]
  },
  {
   "cell_type": "code",
   "execution_count": 16,
   "metadata": {
    "collapsed": false
   },
   "outputs": [
    {
     "data": {
      "image/png": "[encoded data removed]",
      "text/latex": [
       "$$\\left[\\begin{matrix}0\\\\0\\end{matrix}\\right]$$"
      ],
      "text/plain": [
       "⎡0⎤\n",
       "⎢ ⎥\n",
       "⎣0⎦"
      ]
     },
     "execution_count": 16,
     "metadata": {},
     "output_type": "execute_result"
    }
   ],
   "source": [
    "Uqp = Matrix([[U.diff(q1.diff(t)).simplify()], [U.diff(q2.diff(t)).simplify()]])\n",
    "Uqp"
   ]
  },
  {
   "cell_type": "code",
   "execution_count": 17,
   "metadata": {
    "collapsed": false
   },
   "outputs": [
    {
     "data": {
      "image/png": "[encoded data removed]",
      "text/latex": [
       "$$\\left[\\begin{matrix}- l m_{2} \\operatorname{sin}\\left(q_{2}\\right) \\dot{q}_{2} + \\left(m_{1} + m_{2}\\right) \\dot{q}_{1}\\\\l m_{2} \\left(l \\dot{q}_{2} - \\operatorname{sin}\\left(q_{2}\\right) \\dot{q}_{1}\\right)\\end{matrix}\\right]$$"
      ],
      "text/plain": [
       "⎡-l⋅m₂⋅sin(q₂)⋅q₂̇ + (m₁ + m₂)⋅q₁̇⎤\n",
       "⎢                                 ⎥\n",
       "⎣   l⋅m₂⋅(l⋅q₂̇ - sin(q₂)⋅q₁̇)    ⎦"
      ]
     },
     "execution_count": 17,
     "metadata": {},
     "output_type": "execute_result"
    }
   ],
   "source": [
    "Lqp = Kqp - Uqp\n",
    "Lqp"
   ]
  },
  {
   "cell_type": "markdown",
   "metadata": {},
   "source": [
    "Derivando con respeto al tiempo estas ultimas expresiones, obtenemos:\n",
    "\n",
    "$$\n",
    "\\frac{d}{dt} K_{\\dot{q}} = \\dot{M}(q, \\dot{q}) \\dot{q} + M(q) \\ddot{q}\n",
    "$$\n",
    "\n",
    "en donde\n",
    "\n",
    "$$\n",
    "\\begin{align}\n",
    "\\dot{M}(q, \\dot{q}) &= \\frac{d}{dt} M(q) = \\frac{d}{dt}\n",
    "\\begin{pmatrix}\n",
    "m_1 + m_2 & -m_2 \\lambda \\\\\n",
    "-m_2 \\lambda & m_2 l^2\n",
    "\\end{pmatrix} \\\\\n",
    "&=\n",
    "\\begin{pmatrix}\n",
    "0 & -m_2 \\lambda' \\dot{q}_2 \\\\\n",
    "-m_2 \\lambda' \\dot{q}_2 & 0\n",
    "\\end{pmatrix} = -m_2 \\lambda'\n",
    "\\begin{pmatrix}\n",
    "0 & \\dot{q}_2 \\\\\n",
    "\\dot{q}_2 & 0\n",
    "\\end{pmatrix}\n",
    "\\end{align}\n",
    "$$"
   ]
  },
  {
   "cell_type": "code",
   "execution_count": 18,
   "metadata": {
    "collapsed": false
   },
   "outputs": [
    {
     "data": {
      "image/png": "[encoded data removed]",
      "text/latex": [
       "$$\\left[\\begin{matrix}0 & - l m_{2} \\operatorname{cos}\\left(q_{2}\\right) \\dot{q}_{2}\\\\- l m_{2} \\operatorname{cos}\\left(q_{2}\\right) \\dot{q}_{2} & 0\\end{matrix}\\right]$$"
      ],
      "text/plain": [
       "⎡        0          -l⋅m₂⋅cos(q₂)⋅q₂̇⎤\n",
       "⎢                                    ⎥\n",
       "⎣-l⋅m₂⋅cos(q₂)⋅q₂̇          0        ⎦"
      ]
     },
     "execution_count": 18,
     "metadata": {},
     "output_type": "execute_result"
    }
   ],
   "source": [
    "M.diff(t)"
   ]
  },
  {
   "cell_type": "code",
   "execution_count": 19,
   "metadata": {
    "collapsed": false
   },
   "outputs": [
    {
     "data": {
      "image/png": "[encoded data removed]",
      "text/latex": [
       "$$\\left[\\begin{matrix}\\ddot{q}_{1}\\\\\\ddot{q}_{2}\\end{matrix}\\right]$$"
      ],
      "text/plain": [
       "⎡q₁̈⎤\n",
       "⎢   ⎥\n",
       "⎣q₂̈⎦"
      ]
     },
     "execution_count": 19,
     "metadata": {},
     "output_type": "execute_result"
    }
   ],
   "source": [
    "qpp = qp.diff(t)\n",
    "qpp"
   ]
  },
  {
   "cell_type": "code",
   "execution_count": 20,
   "metadata": {
    "collapsed": false
   },
   "outputs": [
    {
     "data": {
      "image/png": "[encoded data removed]",
      "text/latex": [
       "$$\\left[\\begin{matrix}- l m_{2} \\operatorname{sin}\\left(q_{2}\\right) \\ddot{q}_{2} - l m_{2} \\operatorname{cos}\\left(q_{2}\\right) \\left(\\dot{q}_{2}\\right)^{2} + \\left(m_{1} + m_{2}\\right) \\ddot{q}_{1}\\\\l^{2} m_{2} \\ddot{q}_{2} - l m_{2} \\operatorname{sin}\\left(q_{2}\\right) \\ddot{q}_{1} - l m_{2} \\operatorname{cos}\\left(q_{2}\\right) \\dot{q}_{1} \\dot{q}_{2}\\end{matrix}\\right]$$"
      ],
      "text/plain": [
       "⎡                                    2                ⎤\n",
       "⎢-l⋅m₂⋅sin(q₂)⋅q₂̈ - l⋅m₂⋅cos(q₂)⋅q₂̇  + (m₁ + m₂)⋅q₁̈⎥\n",
       "⎢                                                     ⎥\n",
       "⎢  2                                                  ⎥\n",
       "⎣ l ⋅m₂⋅q₂̈ - l⋅m₂⋅sin(q₂)⋅q₁̈ - l⋅m₂⋅cos(q₂)⋅q₁̇⋅q₂̇ ⎦"
      ]
     },
     "execution_count": 20,
     "metadata": {},
     "output_type": "execute_result"
    }
   ],
   "source": [
    "M*qpp + M.diff(t)*qp"
   ]
  },
  {
   "cell_type": "code",
   "execution_count": 21,
   "metadata": {
    "collapsed": false
   },
   "outputs": [
    {
     "data": {
      "image/png": "[encoded data removed]",
      "text/latex": [
       "$$\\left[\\begin{matrix}- l m_{2} \\operatorname{sin}\\left(q_{2}\\right) \\ddot{q}_{2} - l m_{2} \\operatorname{cos}\\left(q_{2}\\right) \\left(\\dot{q}_{2}\\right)^{2} + \\left(m_{1} + m_{2}\\right) \\ddot{q}_{1}\\\\l m_{2} \\left(l \\ddot{q}_{2} - \\operatorname{sin}\\left(q_{2}\\right) \\ddot{q}_{1} - \\operatorname{cos}\\left(q_{2}\\right) \\dot{q}_{1} \\dot{q}_{2}\\right)\\end{matrix}\\right]$$"
      ],
      "text/plain": [
       "⎡                                    2                ⎤\n",
       "⎢-l⋅m₂⋅sin(q₂)⋅q₂̈ - l⋅m₂⋅cos(q₂)⋅q₂̇  + (m₁ + m₂)⋅q₁̈⎥\n",
       "⎢                                                     ⎥\n",
       "⎣    l⋅m₂⋅(l⋅q₂̈ - sin(q₂)⋅q₁̈ - cos(q₂)⋅q₁̇⋅q₂̇)     ⎦"
      ]
     },
     "execution_count": 21,
     "metadata": {},
     "output_type": "execute_result"
    }
   ],
   "source": [
    "Kqp.diff(t) - Uqp.diff(t)"
   ]
  },
  {
   "cell_type": "markdown",
   "metadata": {},
   "source": [
    "y ya tenemos todos los elementos que integran nuestra ecuación de Euler-Lagrange:\n",
    "\n",
    "$$\n",
    "\\begin{align}\n",
    "\\frac{d}{dt} L_{\\dot{q}} - L_q &= 0 \\\\\n",
    "M(q) \\ddot{q} + \\dot{M}(q, \\dot{q}) \\dot{q} - K_q + U_q &= 0\n",
    "\\end{align}\n",
    "$$"
   ]
  },
  {
   "cell_type": "code",
   "execution_count": 22,
   "metadata": {
    "collapsed": false
   },
   "outputs": [
    {
     "data": {
      "image/png": "[encoded data removed]",
      "text/latex": [
       "$$\\left[\\begin{matrix}- l m_{2} \\operatorname{sin}\\left(q_{2}\\right) \\ddot{q}_{2} - l m_{2} \\operatorname{cos}\\left(q_{2}\\right) \\left(\\dot{q}_{2}\\right)^{2} + \\left(m_{1} + m_{2}\\right) \\ddot{q}_{1}\\\\g l m_{2} \\operatorname{cos}\\left(q_{2}\\right) + l m_{2} \\left(l \\ddot{q}_{2} - \\operatorname{sin}\\left(q_{2}\\right) \\ddot{q}_{1} - \\operatorname{cos}\\left(q_{2}\\right) \\dot{q}_{1} \\dot{q}_{2}\\right) + l m_{2} \\operatorname{cos}\\left(q_{2}\\right) \\dot{q}_{1} \\dot{q}_{2}\\end{matrix}\\right]$$"
      ],
      "text/plain": [
       "⎡                                                   2                         \n",
       "⎢               -l⋅m₂⋅sin(q₂)⋅q₂̈ - l⋅m₂⋅cos(q₂)⋅q₂̇  + (m₁ + m₂)⋅q₁̈         \n",
       "⎢                                                                             \n",
       "⎣g⋅l⋅m₂⋅cos(q₂) + l⋅m₂⋅(l⋅q₂̈ - sin(q₂)⋅q₁̈ - cos(q₂)⋅q₁̇⋅q₂̇) + l⋅m₂⋅cos(q₂)⋅\n",
       "\n",
       "       ⎤\n",
       "       ⎥\n",
       "       ⎥\n",
       "q₁̇⋅q₂̇⎦"
      ]
     },
     "execution_count": 22,
     "metadata": {},
     "output_type": "execute_result"
    }
   ],
   "source": [
    "Lqp.diff(t) - Lq"
   ]
  },
  {
   "cell_type": "markdown",
   "metadata": {},
   "source": [
    "Tan solo cabe recalcar que el segundo y tercer termino se pueden reducir a uno solo:\n",
    "\n",
    "$$\n",
    "\\begin{align}\n",
    "\\dot{M}(q, \\dot{q}) \\dot{q} - K_q &= -m_2 \\lambda'\n",
    "\\begin{pmatrix}\n",
    "0 & \\dot{q}_2 \\\\\n",
    "\\dot{q}_2 & 0\n",
    "\\end{pmatrix}\n",
    "\\begin{pmatrix}\n",
    "\\dot{q}_1 \\\\\n",
    "\\dot{q}_2\n",
    "\\end{pmatrix} + m_2 \\lambda'\n",
    "\\begin{pmatrix}\n",
    "0 & 0 \\\\\n",
    "\\dot{q}_2 & 0\n",
    "\\end{pmatrix}\n",
    "\\begin{pmatrix}\n",
    "\\dot{q}_1 \\\\\n",
    "\\dot{q}_2\n",
    "\\end{pmatrix} \\\\\n",
    "&= -m_2 \\lambda'\n",
    "\\begin{pmatrix}\n",
    "0 & \\dot{q}_2 \\\\\n",
    "0 & 0\n",
    "\\end{pmatrix}\n",
    "\\begin{pmatrix}\n",
    "\\dot{q}_1 \\\\\n",
    "\\dot{q}_2\n",
    "\\end{pmatrix} = C(q, \\dot{q})\\dot{q}\n",
    "\\end{align}\n",
    "$$\n",
    "\n",
    "Por lo que finalmente tenemos:\n",
    "\n",
    "$$\n",
    "M(q) \\ddot{q} + C(q, \\dot{q}) \\dot{q} + U_q = 0\n",
    "$$\n",
    "\n",
    "con:\n",
    "\n",
    "$$\n",
    "M(q) =\n",
    "\\begin{pmatrix}\n",
    "m_1 + m_2 & -m_2 \\lambda \\\\\n",
    "-m_2 \\lambda & m_2 l^2\n",
    "\\end{pmatrix} \\quad\n",
    "C(q, \\dot{q}) = -m_2 \\lambda'\n",
    "\\begin{pmatrix}\n",
    "0 & \\dot{q}_2 \\\\\n",
    "0 & 0\n",
    "\\end{pmatrix} \\quad\n",
    "U_q =\n",
    "\\begin{pmatrix}\n",
    "0 \\\\\n",
    "m_2 g \\lambda'\n",
    "\\end{pmatrix}\n",
    "$$"
   ]
  },
  {
   "cell_type": "code",
   "execution_count": 23,
   "metadata": {
    "collapsed": false
   },
   "outputs": [
    {
     "data": {
      "image/png": "[encoded data removed]",
      "text/latex": [
       "$$\\left[\\begin{matrix}- l m_{2} \\operatorname{sin}\\left(q_{2}\\right) \\ddot{q}_{2} - l m_{2} \\operatorname{cos}\\left(q_{2}\\right) \\left(\\dot{q}_{2}\\right)^{2} + \\left(m_{1} + m_{2}\\right) \\ddot{q}_{1}\\\\g l m_{2} \\operatorname{cos}\\left(q_{2}\\right) + l^{2} m_{2} \\ddot{q}_{2} - l m_{2} \\operatorname{sin}\\left(q_{2}\\right) \\ddot{q}_{1}\\end{matrix}\\right]$$"
      ],
      "text/plain": [
       "⎡                                    2                ⎤\n",
       "⎢-l⋅m₂⋅sin(q₂)⋅q₂̈ - l⋅m₂⋅cos(q₂)⋅q₂̇  + (m₁ + m₂)⋅q₁̈⎥\n",
       "⎢                                                     ⎥\n",
       "⎢                      2                              ⎥\n",
       "⎣    g⋅l⋅m₂⋅cos(q₂) + l ⋅m₂⋅q₂̈ - l⋅m₂⋅sin(q₂)⋅q₁̈    ⎦"
      ]
     },
     "execution_count": 23,
     "metadata": {},
     "output_type": "execute_result"
    }
   ],
   "source": [
    "C = Matrix([[0, -m2*l*cos(q2)*q2.diff(t)], [0, 0]])\n",
    "M*qpp + C*qp + Uq"
   ]
  },
  {
   "cell_type": "markdown",
   "metadata": {},
   "source": [
    "## Comentario final del modelado"
   ]
  },
  {
   "cell_type": "markdown",
   "metadata": {},
   "source": [
    "Sabemos que la energía total del sistema no cambia, es decir:\n",
    "\n",
    "$$\n",
    "\\frac{dE}{dt} = 0\n",
    "$$\n",
    "\n",
    "y la energía total del sistema es $E = K + U$, lo cual atraves de  simplificación algebraica implica que:\n",
    "\n",
    "$$\n",
    "\\dot{q}^T \\left[ \\dot{M}(q, \\dot{q}) - 2 C(q, \\dot{q}) \\right] \\dot{q} = 0\n",
    "$$\n",
    "\n",
    "por lo que una manera relativamente sencilla de comprobar que nuestros calculos son correctos es comprobar que esta matriz sea antisimetrica:"
   ]
  },
  {
   "cell_type": "code",
   "execution_count": 68,
   "metadata": {
    "collapsed": false
   },
   "outputs": [
    {
     "data": {
      "image/png": "[encoded data removed]",
      "text/latex": [
       "$$\\left[\\begin{matrix}0 & l m_{2} \\operatorname{cos}\\left(q_{2}\\right) \\dot{q}_{2}\\\\- l m_{2} \\operatorname{cos}\\left(q_{2}\\right) \\dot{q}_{2} & 0\\end{matrix}\\right]$$"
      ],
      "text/plain": [
       "⎡        0          l⋅m₂⋅cos(q₂)⋅q₂̇⎤\n",
       "⎢                                   ⎥\n",
       "⎣-l⋅m₂⋅cos(q₂)⋅q₂̇         0        ⎦"
      ]
     },
     "execution_count": 68,
     "metadata": {},
     "output_type": "execute_result"
    }
   ],
   "source": [
    "M.diff(t) - 2*C"
   ]
  },
  {
   "cell_type": "markdown",
   "metadata": {},
   "source": [
    "## Simulación"
   ]
  },
  {
   "cell_type": "markdown",
   "metadata": {},
   "source": [
    "Para la simulación de este sistema podemos utilizar Simulink de MATLAB para introducir esta ecuación como un conjunto de bloques como los operadores matriciales e integradores. La formula que queremos usar es:\n",
    "\n",
    "$$\n",
    "\\ddot{q} = M^{-1}(q)\\left[ -C(q, \\dot{q}) \\dot{q} - U_q \\right]\n",
    "$$\n",
    "\n",
    "El diagrama de bloques de esto se vería así:\n",
    "\n",
    "![Diagrama de Simulink](./imagenes/diagramacarropendulo.png)\n",
    "\n",
    "Y una vez simulado esto, podemos guardar los datos de la simulación e importarlos aquí:"
   ]
  },
  {
   "cell_type": "code",
   "execution_count": 24,
   "metadata": {
    "collapsed": false
   },
   "outputs": [],
   "source": [
    "# Se importa libreria de entrada y salida y se importan datos de simulacion en MATLAB\n",
    "import scipy.io\n",
    "datos = scipy.io.loadmat('./MATLAB/carropendulo.mat')"
   ]
  },
  {
   "cell_type": "code",
   "execution_count": 25,
   "metadata": {
    "collapsed": false
   },
   "outputs": [],
   "source": [
    "# Se importan datos de simulación a variables de Python para poder manipularlas\n",
    "datos_q1 = datos.get(\"q1\")\n",
    "datos_q2 = datos.get(\"q2\")"
   ]
  },
  {
   "cell_type": "code",
   "execution_count": 26,
   "metadata": {
    "collapsed": false
   },
   "outputs": [
    {
     "data": {
      "image/png": "[encoded data removed]",
      "text/latex": [
       "$$\\left ( 469, \\quad 469\\right )$$"
      ],
      "text/plain": [
       "(469, 469)"
      ]
     },
     "execution_count": 26,
     "metadata": {},
     "output_type": "execute_result"
    }
   ],
   "source": [
    "ts, simq1 = zip(*datos_q1)\n",
    "ts, simq2 = zip(*datos_q2)\n",
    "len(simq1), len(simq2)"
   ]
  },
  {
   "cell_type": "markdown",
   "metadata": {},
   "source": [
    "Una vez importados los datos podemos ingenuamente graficarlos y tendriamos los puntos por los que pasa las dos masas:"
   ]
  },
  {
   "cell_type": "code",
   "execution_count": 27,
   "metadata": {
    "collapsed": false
   },
   "outputs": [],
   "source": [
    "from matplotlib.pyplot import plot, style, figure\n",
    "style.use(\"ggplot\")"
   ]
  },
  {
   "cell_type": "code",
   "execution_count": 28,
   "metadata": {
    "collapsed": false
   },
   "outputs": [],
   "source": [
    "from numpy import cos, sin, zeros, pi, arange, sqrt, linspace"
   ]
  },
  {
   "cell_type": "code",
   "execution_count": 29,
   "metadata": {
    "collapsed": false
   },
   "outputs": [],
   "source": [
    "tau = 2*pi"
   ]
  },
  {
   "cell_type": "code",
   "execution_count": 30,
   "metadata": {
    "collapsed": false
   },
   "outputs": [],
   "source": [
    "f = figure(figsize=(6, 6))\n",
    "plot(simq1 + cos(simq2), sin(simq2), \".\")\n",
    "plot(simq1, zeros(len(simq1)), \".\")\n",
    "ax = f.gca()\n",
    "ax.set_xlim(-0.5, 1.5)\n",
    "ax.set_ylim(-1.5, 0.5);\n",
    "f.savefig('./imagenes/tray.png')"
   ]
  },
  {
   "cell_type": "markdown",
   "metadata": {},
   "source": [
    "![Trayectoria](./imagenes/tray.png)\n",
    "\n",
    "Sin embargo es muy dificil encontrar un sentido físico a esto, ya que no vemos la trayectoria que sigue, por lo que podemos hacer algo aun mejor:"
   ]
  },
  {
   "cell_type": "code",
   "execution_count": 47,
   "metadata": {
    "collapsed": false
   },
   "outputs": [],
   "source": [
    "from matplotlib import animation\n",
    "from matplotlib.patches import Rectangle, Circle"
   ]
  },
  {
   "cell_type": "code",
   "execution_count": 32,
   "metadata": {
    "collapsed": false
   },
   "outputs": [
    {
     "data": {
      "image/png": "[encoded data removed]",
      "text/latex": [
       "$$9.36$$"
      ],
      "text/plain": [
       "9.36"
      ]
     },
     "execution_count": 32,
     "metadata": {},
     "output_type": "execute_result"
    }
   ],
   "source": [
    "2.34*4"
   ]
  },
  {
   "cell_type": "code",
   "execution_count": 33,
   "metadata": {
    "collapsed": false
   },
   "outputs": [],
   "source": [
    "fig = figure(figsize=(6, 6))\n",
    "\n",
    "ax = fig.add_subplot(111, autoscale_on=False,\n",
    "                     xlim=(-0.5, 1.5), ylim=(-1.5, 0.5))\n",
    "\n",
    "linea, = ax.plot([], [], 'o-', lw=1.5, color='gray')\n",
    "carro = Rectangle((10,10), 0.5, 0.25, lw=1.5, fc='white')\n",
    "\n",
    "def init():\n",
    "    linea.set_data([], [])\n",
    "    carro.set_xy((-0.25, -0.125))\n",
    "    ax.add_patch(carro)\n",
    "    return linea, carro\n",
    "\n",
    "def animate(i):\n",
    "    thisy = [0, sin(simq2[i])]\n",
    "    thisx = [simq1[i], simq1[i] + cos(simq2[i])]\n",
    "\n",
    "    linea.set_data(thisx, thisy)\n",
    "    carro.set_xy((simq1[i] - 0.25, -0.125))\n",
    "    return linea, carro\n",
    "\n",
    "ani = animation.FuncAnimation(fig, animate, arange(1, len(simq1)), interval=25,\n",
    "                              blit=True, init_func=init)\n",
    "\n",
    "ani.save('./imagenes/pendulum.gif', writer='imagemagick');"
   ]
  },
  {
   "cell_type": "markdown",
   "metadata": {},
   "source": [
    "![pendulo](./imagenes/pendulum.gif)"
   ]
  },
  {
   "cell_type": "markdown",
   "metadata": {},
   "source": [
    "¡Esto si parece un pendulo en un carro!\n",
    "\n",
    "Pero aun no estamos satisfechos, podemos hacerlo incluso sin MATLAB, lo único que tenemos que hacer es incrementar la dimensión del sistema para reducir el orden de la ecuación diferencial.\n",
    "\n",
    "Nuestro estado aumentado del sistema será:\n",
    "\n",
    "$$\n",
    "\\begin{pmatrix}\n",
    "q_1 \\\\\n",
    "q_2 \\\\\n",
    "\\dot{q}_1 \\\\\n",
    "\\dot{q}_2\n",
    "\\end{pmatrix}\n",
    "$$\n",
    "\n",
    "Por lo que ahora tenemos que encontrar $f_1$, $f_2$, $f_3$ y $f_4$ tales que:\n",
    "\n",
    "$$\n",
    "\\begin{align}\n",
    "\\frac{d}{dt}q_1 &= f_1(q_1, q_2, \\dot{q}_1, \\dot{q}_2) \\\\\n",
    "\\frac{d}{dt}q_2 &= f_2(q_1, q_2, \\dot{q}_1, \\dot{q}_2) \\\\\n",
    "\\frac{d}{dt}\\dot{q}_1 &= f_3(q_1, q_2, \\dot{q}_1, \\dot{q}_2) \\\\\n",
    "\\frac{d}{dt}\\dot{q}_2 &= f_4(q_1, q_2, \\dot{q}_1, \\dot{q}_2) \\\\\n",
    "\\end{align}\n",
    "$$\n",
    "\n",
    "Las primeras dos ecuaciones son faciles:\n",
    "\n",
    "$$\n",
    "\\begin{align}\n",
    "\\frac{d}{dt}q_1 &= \\dot{q}_1 \\\\\n",
    "\\frac{d}{dt}q_2 &= \\dot{q}_2 \\\\\n",
    "\\end{align}\n",
    "$$\n",
    "\n",
    "y las otras dos, son las que ya teniamos:\n",
    "\n",
    "$$\n",
    "\\frac{d}{dt}\n",
    "\\begin{pmatrix}\n",
    "\\dot{q}_1 \\\\\n",
    "\\dot{q}_2\n",
    "\\end{pmatrix} =\n",
    "\\ddot{q} = M^{-1}(q)\\left[ -C(q, \\dot{q}) \\dot{q} - U_q \\right]\n",
    "$$"
   ]
  },
  {
   "cell_type": "code",
   "execution_count": 35,
   "metadata": {
    "collapsed": false
   },
   "outputs": [],
   "source": [
    "def f(estado, tiempo):\n",
    "    from numpy import zeros\n",
    "    from numpy import matrix\n",
    "    \n",
    "    m1 = 1\n",
    "    m2 = 1\n",
    "    g = 9.81\n",
    "    l = 1\n",
    "    \n",
    "    q1, q2, q1p, q2p = estado\n",
    "    \n",
    "    q = matrix([[q1], [q2]])\n",
    "    qp = matrix([[q1p], [q2p]])\n",
    "    \n",
    "    lam = l*sin(q2)\n",
    "    lamp = l*cos(q2)\n",
    "    \n",
    "    M = matrix([[m1 + m2, -m2*lam], [-m2*lam, m2*l**2]])\n",
    "    C = -m2*lamp*matrix([[0, q2p], [0, 0]])\n",
    "    U = matrix([[0], [m2*g*lamp]])\n",
    "    \n",
    "    qpp = M.I*(-C*qp - U)\n",
    "    \n",
    "    dydx = zeros(4)\n",
    "    \n",
    "    dydx[0] = q1p\n",
    "    dydx[1] = q2p\n",
    "    dydx[2] = qpp[0]\n",
    "    dydx[3] = qpp[1]\n",
    "    \n",
    "    return dydx"
   ]
  },
  {
   "cell_type": "code",
   "execution_count": 36,
   "metadata": {
    "collapsed": false
   },
   "outputs": [],
   "source": [
    "from scipy.integrate import odeint"
   ]
  },
  {
   "cell_type": "code",
   "execution_count": 39,
   "metadata": {
    "collapsed": false
   },
   "outputs": [],
   "source": [
    "ts = linspace(0, 2.08, 100)\n",
    "estado_inicial = [0, 0, 0, 0]"
   ]
  },
  {
   "cell_type": "code",
   "execution_count": 40,
   "metadata": {
    "collapsed": false
   },
   "outputs": [],
   "source": [
    "estados = odeint(f, estado_inicial, ts)\n",
    "q1, q2 = estados[:, 0], estados[:, 1]"
   ]
  },
  {
   "cell_type": "code",
   "execution_count": 67,
   "metadata": {
    "collapsed": false
   },
   "outputs": [],
   "source": [
    "fig = figure(figsize=(8, 6))\n",
    "\n",
    "ax = fig.add_subplot(111, autoscale_on=False,\n",
    "                     xlim=(-0.8333, 1.8333), ylim=(-1.25, 0.75))\n",
    "\n",
    "ax.axes.get_xaxis().set_visible(False)\n",
    "ax.axes.get_yaxis().set_visible(False)\n",
    "\n",
    "ax.axes.spines[\"right\"].set_color(\"none\")\n",
    "ax.axes.spines[\"left\"].set_color(\"none\")\n",
    "ax.axes.spines[\"top\"].set_color(\"none\")\n",
    "ax.axes.spines[\"bottom\"].set_color(\"none\")\n",
    "\n",
    "ax.set_axis_bgcolor('#F2F1EC')\n",
    "\n",
    "linea, = ax.plot([], [], 'o-', lw=1.5, color='#393F40')\n",
    "carro = Rectangle((10,10), 0.8, 0.35, lw=1.5, fc='#E5895C')\n",
    "guia = Rectangle((10, 10), 2.6666, 0.1, lw=1.5, fc='#A4B187')\n",
    "pendulo = Circle((10, 10), 0.125, lw=1.5, fc='#F3D966')\n",
    "\n",
    "def init():\n",
    "    linea.set_data([], [])\n",
    "    guia.set_xy((-0.8333, -0.05))\n",
    "    carro.set_xy((-0.4, -0.175))\n",
    "    pendulo.center = (1, 0)\n",
    "    ax.add_patch(guia)\n",
    "    ax.add_patch(carro)\n",
    "    ax.add_patch(pendulo)\n",
    "    return linea, carro, pendulo\n",
    "\n",
    "def animate(i):\n",
    "    xs = [q1[i], q1[i] + cos(q2[i])]\n",
    "    ys = [0, sin(q2[i])]\n",
    "\n",
    "    linea.set_data(xs, ys)\n",
    "    carro.set_xy((xs[0] - 0.4, ys[0] - 0.175))\n",
    "    pendulo.center = (xs[1], ys[1])\n",
    "    return linea, carro, pendulo\n",
    "\n",
    "ani = animation.FuncAnimation(fig, animate, arange(1, len(q1)), interval=25,\n",
    "                              blit=True, init_func=init)\n",
    "\n",
    "ani.save('./imagenes/pendulumpython.gif', writer='imagemagick');"
   ]
  },
  {
   "cell_type": "markdown",
   "metadata": {},
   "source": [
    "![pendulo](./imagenes/pendulumpython.gif)"
   ]
  },
  {
   "cell_type": "markdown",
   "metadata": {},
   "source": [
    "Espero te hayas divertido con esta larga explicación y al final sepas un truco mas.\n",
    "\n",
    "Si deseas compartir este Notebook de IPython utiliza la siguiente dirección:\n",
    "\n",
    "http://bit.ly/1M2tenc\n",
    "\n",
    "o bien el siguiente código QR:\n",
    "\n",
    "![Codigo](./codigos/carropendulo.jpg)"
   ]
  },
  {
   "cell_type": "code",
   "execution_count": 69,
   "metadata": {
    "collapsed": true
   },
   "outputs": [],
   "source": [
    "# Codigo para generar codigo :)\n",
    "from qrcode import make\n",
    "img = make(\"http://bit.ly/1M2tenc\")\n",
    "img.save(\"./codigos/carropendulo.jpg\")"
   ]
  }
 ],
 "metadata": {
  "kernelspec": {
   "display_name": "Python 3",
   "language": "python",
   "name": "python3"
  },
  "language_info": {
   "codemirror_mode": {
    "name": "ipython",
    "version": 3
   },
   "file_extension": ".py",
   "mimetype": "text/x-python",
   "name": "python",
   "nbconvert_exporter": "python",
   "pygments_lexer": "ipython3",
   "version": "3.4.3"
  }
 },
 "nbformat": 4,
 "nbformat_minor": 0
}
