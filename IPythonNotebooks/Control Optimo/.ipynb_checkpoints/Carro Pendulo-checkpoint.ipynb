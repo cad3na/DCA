{
 "metadata": {
  "name": "",
  "signature": "sha256:b47ef7f12d4ede60a9b2e7822a85798ceaccab0727e984d0931097306b0f9a3b"
 },
 "nbformat": 3,
 "nbformat_minor": 0,
 "worksheets": [
  {
   "cells": [
    {
     "cell_type": "code",
     "collapsed": false,
     "input": [
      "from IPython.core.display import HTML\n",
      "import urllib2\n",
      "HTML(urllib2.urlopen('http://bit.ly/1wnhdl4').read())"
     ],
     "language": "python",
     "metadata": {},
     "outputs": [
      {
       "html": [
        "<link href='http://fonts.googleapis.com/css?family=Inconsolata' rel='stylesheet' type='text/css'>\n",
        "<link href='http://fonts.googleapis.com/css?family=EB+Garamond' rel='stylesheet' type='text/css'>\n",
        "<link href='http://fonts.googleapis.com/css?family=Lato:100,100italic' rel='stylesheet' type='text/css'>\n",
        "\n",
        "<style>\n",
        "\t@font-face{\n",
        "   \t\tfont-family: \"Computer Modern\";\n",
        "        \tsrc: url('http://mirrors.ctan.org/fonts/cm-unicode/fonts/otf/cmunss.otf');}\n",
        "        \n",
        "\tdiv.cell{\n",
        "        \twidth:        800px;\n",
        "        \tmargin-left:  16% !important;\n",
        "        \tmargin-right: auto;}\n",
        "        \n",
        "\th1 {\n",
        "        \tfont-family: 'Lato', sans-serif;}\n",
        "        \n",
        "\th2 {\n",
        "        \tfont-family: 'Lato', serif;}\n",
        "        \n",
        "\th3{\n",
        "\t\tfont-family:   'Lato', serif;\n",
        "        margin-top:    12px;\n",
        "        margin-bottom: 3px;}\n",
        "        \n",
        "        h4{\n",
        "\t\tfont-family: 'Lato', serif;}\n",
        "\t\n",
        "\th5 {\n",
        "        \tfont-family: 'Lato', serif;}\n",
        "    \n",
        "\tdiv.text_cell_render{\n",
        "        \tfont-family:  'EB Garamond', 'Computer Modern', 'Helvetica Neue', Arial, Helvetica, Geneva, sans-serif;\n",
        "\t        line-height:  140%;\n",
        "\t        font-size:    14pt;\n",
        "\t        width:        700px;\n",
        "\t        margin-left:  auto;\n",
        "\t        margin-right: auto;}\n",
        "        \n",
        "\t.CodeMirror{\n",
        "        \tfont-family: 'Inconsolata';}\n",
        "    \n",
        "\t.text_cell_render h1 {\n",
        "\t        font-weight:   100;\n",
        "\t        font-size:     50pt;\n",
        "\t\tline-height:   100%;\n",
        "\t        color:         #CD2305;\n",
        "\t        margin-bottom: 0.5em;\n",
        "\t        margin-top:    0.5em;\n",
        "\t        display:       block;}\n",
        "        \n",
        "\t.text_cell_render h2 {\n",
        "        \tfont-weight:   100;\n",
        "        \tfont-size:     30pt;}\n",
        "        \n",
        "\t.text_cell_render h3 {\n",
        "        \tfont-weight:   100;\n",
        "        \tfont-size:     20pt;}\n",
        "        \n",
        "\t.text_cell_render h4 {\n",
        "        \tfont-weight:   100;\n",
        "        \tfont-size:     16pt;}\n",
        "        \n",
        "\t.text_cell_render h5 {\n",
        "\t        font-weight:   100;\n",
        "\t        font-size:     16pt;\n",
        "\t        color:         #CD2305;\n",
        "\t        font-style:    italic;\n",
        "\t        margin-bottom: 0.5em;\n",
        "\t        margin-top:    0.5em;\n",
        "\t        display:       block;}\n",
        "        \n",
        "\t.text_cell_render h6 {\n",
        "\t        font-weight:   100;\n",
        "\t        font-size:     14pt;\n",
        "\t        color:         #CD2305;\n",
        "\t        font-style:    italic;\n",
        "\t        margin-bottom: 0.5em;\n",
        "\t        margin-top:    0.5em;\n",
        "\t        display:       block;}\n",
        "    \n",
        "\t.warning{\n",
        "\t    \tbackground-color: #fcf2f2;\n",
        "\t    \tborder-color: #dFb5b4;\n",
        "\t    \tborder-left: 5px solid #dfb5b4;\n",
        "\t    \tpadding: 0.5em;}\n",
        "</style>\n",
        "\n",
        "<script>\n",
        "\tMathJax.Hub.Config({\n",
        "        \tTeX:{extensions: [\"AMSmath.js\"]},\n",
        "\n",
        "        \tjax: [\"input/TeX\",\"output/SVG\"],\n",
        "        \tSVG: {\n",
        "        \t\tscale: 120,\n",
        "        \t\tfont: 'Gyre-Pagella'}\n",
        "        });\n",
        "</script>"
       ],
       "metadata": {},
       "output_type": "pyout",
       "prompt_number": 1,
       "text": [
        "<IPython.core.display.HTML at 0x1042673d0>"
       ]
      }
     ],
     "prompt_number": 1
    },
    {
     "cell_type": "heading",
     "level": 1,
     "metadata": {},
     "source": [
      "Modelado matem\u00e1tico y simulaci\u00f3n de sistema carro-pendulo"
     ]
    },
    {
     "cell_type": "heading",
     "level": 2,
     "metadata": {},
     "source": [
      "Problema"
     ]
    },
    {
     "cell_type": "markdown",
     "metadata": {},
     "source": [
      "Dado el sistema de la siguiente figura:\n",
      "\n",
      "![Carro Pendulo](./imagenes/carropendulo.PNG)\n",
      "\n",
      "describir matem\u00e1ticamente su comportamiento ante perturbaciones externas."
     ]
    },
    {
     "cell_type": "heading",
     "level": 2,
     "metadata": {},
     "source": [
      "Modelado matem\u00e1tico"
     ]
    },
    {
     "cell_type": "markdown",
     "metadata": {},
     "source": [
      "Utilizaremos el enfoque de Euler-Lagrange, el cual nos dice que el primer paso para conseguir el modelo matem\u00e1tico es calcular el Lagrangiano $L$ del sistema, definido por:\n",
      "\n",
      "$$\n",
      "L = K - U\n",
      "$$\n",
      "\n",
      "en donde $K$ es la energ\u00eda cin\u00e9tica del sistema y $U$ es la energia potencial del sistema.\n",
      "\n",
      "El estado del sistema estar\u00e1 descrito por una distancia $x$ del centro del carro a un marco de referencia y el angulo $\\theta$ del pendulo con respecto a la horizontal.\n",
      "\n",
      "$$\n",
      "q = \\begin{pmatrix} x \\\\ \\theta \\end{pmatrix} = \\begin{pmatrix} q_1 \\\\ q_2 \\end{pmatrix} \\implies\n",
      "\\dot{q} = \\begin{pmatrix} \\dot{x} \\\\ \\dot{\\theta} \\end{pmatrix} = \\begin{pmatrix} \\dot{q}_1 \\\\ \\dot{q}_2 \\end{pmatrix} \\implies\n",
      "\\ddot{q} = \\begin{pmatrix} \\ddot{x} \\\\ \\ddot{\\theta} \\end{pmatrix} = \\begin{pmatrix} \\ddot{q}_1 \\\\ \\ddot{q}_2 \\end{pmatrix}\n",
      "$$\n",
      "\n",
      "Para calcular la energ\u00eda cin\u00e9tica del sistema, obtenemos $K_1$ y $K_2$ asociadas al carro y al pendulo, en donde $K_i = \\frac{1}{2} m_i v_i^2$, por lo que tenemos:\n",
      "\n",
      "$$\n",
      "K_1 = \\frac{1}{2} m_1 v_1^2 = \\frac{1}{2} m_1 \\dot{x}^2 = \\frac{1}{2} m_1 \\dot{q}_1^2\n",
      "$$\n",
      "\n",
      "$$\n",
      "K_2 = \\frac{1}{2} m_2 v_2^2 = \\frac{1}{2} m_2 \\left[ \\left( \\dot{x} + \\dot{x}_2 \\right)^2 + \\dot{y}_2^2 \\right]\n",
      "$$\n",
      "\n",
      "con $x_2 = l \\cos{\\theta}$ y $y_2 = l \\sin{\\theta}$, por lo que sus derivadas son $\\dot{x}_2 = -\\dot{\\theta} l \\sin{\\theta}$ y $\\dot{y}_2 = \\dot{\\theta} l \\cos{\\theta}$, por lo que $K_2$ queda:\n",
      "\n",
      "$$\n",
      "\\begin{align}\n",
      "K_2 &= \\frac{1}{2} m_2 \\left[ \\left( \\dot{x} -\\dot{\\theta} l \\sin{\\theta} \\right)^2 + \\left( \\dot{\\theta} l \\cos{\\theta} \\right)^2 \\right] \\\\\n",
      "&= \\frac{1}{2} m_2 \\left[ \\left( \\dot{x} -\\dot{\\theta} l \\sin{\\theta} \\right)^2 + \\left( \\dot{\\theta} l \\cos{\\theta} \\right)^2 \\right] \\\\\n",
      "&= \\frac{1}{2} m_2 \\left[ \\left( \\dot{q}_1 -\\dot{q}_2 l \\sin{q_2} \\right)^2 + \\left( \\dot{q}_2 l \\cos{q_2} \\right)^2 \\right]\n",
      "\\end{align}\n",
      "$$\n",
      "\n",
      "Confirmemos estos calculos:"
     ]
    },
    {
     "cell_type": "code",
     "collapsed": false,
     "input": [
      "from IPython.display import display\n",
      "\n",
      "from sympy import var, simplify, collect, expand, solve, sqrt, sin, cos, Matrix, Integer, diff, Function, Rational\n",
      "from sympy.physics.mechanics import mlatex, mechanics_printing\n",
      "mechanics_printing()"
     ],
     "language": "python",
     "metadata": {},
     "outputs": [],
     "prompt_number": 2
    },
    {
     "cell_type": "code",
     "collapsed": false,
     "input": [
      "var(\"l t m1 m2\")"
     ],
     "language": "python",
     "metadata": {},
     "outputs": [
      {
       "latex": [
        "$$\\left ( l, \\quad t, \\quad m_{1}, \\quad m_{2}\\right )$$"
       ],
       "metadata": {},
       "output_type": "pyout",
       "png": "[encoded data removed]",
       "prompt_number": 4,
       "text": [
        "(l, t, m\u2081, m\u2082)"
       ]
      }
     ],
     "prompt_number": 4
    },
    {
     "cell_type": "code",
     "collapsed": false,
     "input": [
      "q1 = Function(\"q_1\")(t)\n",
      "q2 = Function(\"q_2\")(t)\n",
      "\n",
      "x = Function(\"x\")(t)"
     ],
     "language": "python",
     "metadata": {},
     "outputs": [],
     "prompt_number": 5
    },
    {
     "cell_type": "code",
     "collapsed": false,
     "input": [
      "x1 = q1\n",
      "y1 = Integer(0)\n",
      "v1 = sqrt(x1.diff(t)**2 + y1.diff(t)**2)\n",
      "v1, v1**2"
     ],
     "language": "python",
     "metadata": {},
     "outputs": [
      {
       "latex": [
        "$$\\left ( \\sqrt{\\left(\\dot{q}_{1}\\right)^{2}}, \\quad \\left(\\dot{q}_{1}\\right)^{2}\\right )$$"
       ],
       "metadata": {},
       "output_type": "pyout",
       "png": "[encoded data removed]",
       "prompt_number": 6,
       "text": [
        "\u239b   ______      \u239e\n",
        "\u239c  \u2571    2      2\u239f\n",
        "\u239d\u2572\u2571  q\u2081\u0307  , q\u2081\u0307 \u23a0"
       ]
      }
     ],
     "prompt_number": 6
    },
    {
     "cell_type": "code",
     "collapsed": false,
     "input": [
      "x2 = q1 + l*cos(q2)\n",
      "y2 = l*sin(q2)\n",
      "v2 = sqrt(x2.diff(t)**2 + y2.diff(t)**2)\n",
      "v2, v2**2"
     ],
     "language": "python",
     "metadata": {},
     "outputs": [
      {
       "latex": [
        "$$\\left ( \\sqrt{l^{2} \\operatorname{cos}^{2}\\left(q_{2}\\right) \\left(\\dot{q}_{2}\\right)^{2} + \\left(- l \\operatorname{sin}\\left(q_{2}\\right) \\dot{q}_{2} + \\dot{q}_{1}\\right)^{2}}, \\quad l^{2} \\operatorname{cos}^{2}\\left(q_{2}\\right) \\left(\\dot{q}_{2}\\right)^{2} + \\left(- l \\operatorname{sin}\\left(q_{2}\\right) \\dot{q}_{2} + \\dot{q}_{1}\\right)^{2}\\right )$$"
       ],
       "metadata": {},
       "output_type": "pyout",
       "png": "[encoded data removed]",
       "prompt_number": 7,
       "text": [
        "\u239b   ____________________________________________                              \n",
        "\u239c  \u2571  2    2        2                         2    2    2        2            \n",
        "\u239d\u2572\u2571  l \u22c5cos (q\u2082)\u22c5q\u2082\u0307  + (-l\u22c5sin(q\u2082)\u22c5q\u2082\u0307 + q\u2081\u0307)  , l \u22c5cos (q\u2082)\u22c5q\u2082\u0307  + (-l\u22c5sin(q\n",
        "\n",
        "              \u239e\n",
        "             2\u239f\n",
        "\u2082)\u22c5q\u2082\u0307 + q\u2081\u0307) \u23a0"
       ]
      }
     ],
     "prompt_number": 7
    },
    {
     "cell_type": "code",
     "collapsed": false,
     "input": [
      "k1 = Rational(1, 2)*m1*v1**2\n",
      "k2 = Rational(1, 2)*m2*v2**2\n",
      "k1, k2"
     ],
     "language": "python",
     "metadata": {},
     "outputs": [
      {
       "latex": [
        "$$\\left ( \\frac{m_{1} \\left(\\dot{q}_{1}\\right)^{2}}{2}, \\quad \\frac{m_{2}}{2} \\left(l^{2} \\operatorname{cos}^{2}\\left(q_{2}\\right) \\left(\\dot{q}_{2}\\right)^{2} + \\left(- l \\operatorname{sin}\\left(q_{2}\\right) \\dot{q}_{2} + \\dot{q}_{1}\\right)^{2}\\right)\\right )$$"
       ],
       "metadata": {},
       "output_type": "pyout",
       "png": "[encoded data removed]",
       "prompt_number": 8,
       "text": [
        "\u239b      2     \u239b 2    2        2                         2\u239e\u239e\n",
        "\u239cm\u2081\u22c5q\u2081\u0307   m\u2082\u22c5\u239dl \u22c5cos (q\u2082)\u22c5q\u2082\u0307  + (-l\u22c5sin(q\u2082)\u22c5q\u2082\u0307 + q\u2081\u0307) \u23a0\u239f\n",
        "\u239c\u2500\u2500\u2500\u2500\u2500\u2500\u2500, \u2500\u2500\u2500\u2500\u2500\u2500\u2500\u2500\u2500\u2500\u2500\u2500\u2500\u2500\u2500\u2500\u2500\u2500\u2500\u2500\u2500\u2500\u2500\u2500\u2500\u2500\u2500\u2500\u2500\u2500\u2500\u2500\u2500\u2500\u2500\u2500\u2500\u2500\u2500\u2500\u2500\u2500\u2500\u2500\u2500\u2500\u2500\u239f\n",
        "\u239d   2                            2                       \u23a0"
       ]
      }
     ],
     "prompt_number": 8
    },
    {
     "cell_type": "code",
     "collapsed": false,
     "input": [
      "K = (k1 + k2).expand().collect(q1.diff(t)).collect(q2.diff(t)).trigsimp()\n",
      "K"
     ],
     "language": "python",
     "metadata": {},
     "outputs": [
      {
       "latex": [
        "$$\\frac{l^{2} m_{2}}{2} \\left(\\dot{q}_{2}\\right)^{2} - l m_{2} \\operatorname{sin}\\left(q_{2}\\right) \\dot{q}_{1} \\dot{q}_{2} + \\left(\\frac{m_{1}}{2} + \\frac{m_{2}}{2}\\right) \\left(\\dot{q}_{1}\\right)^{2}$$"
       ],
       "metadata": {},
       "output_type": "pyout",
       "png": "[encoded data removed]",
       "prompt_number": 16,
       "text": [
        " 2       2                                        \n",
        "l \u22c5m\u2082\u22c5q\u2082\u0307                           \u239bm\u2081   m\u2082\u239e    2\n",
        "\u2500\u2500\u2500\u2500\u2500\u2500\u2500\u2500\u2500\u2500 - l\u22c5m\u2082\u22c5sin(q\u2082)\u22c5q\u2081\u0307\u22c5q\u2082\u0307 + \u239c\u2500\u2500 + \u2500\u2500\u239f\u22c5q\u2081\u0307 \n",
        "    2                               \u239d2    2 \u23a0     "
       ]
      }
     ],
     "prompt_number": 16
    },
    {
     "cell_type": "markdown",
     "metadata": {},
     "source": [
      "Entonces la energ\u00eda cin\u00e9tica ser\u00e1:\n",
      "\n",
      "$$\n",
      "K = \\frac{1}{2} \\left[ (m_1 + m_2) \\dot{q}_1^2 + m_2 l^2 \\dot{q}_2^2 - 2 m_2 l \\sin{q_2} \\dot{q}_1 \\dot{q}_2 \\right]\n",
      "$$\n",
      "\n",
      "Lo cual puede ser escrito como una forma matricial cuadratica:\n",
      "\n",
      "$$\n",
      "K = \\frac{1}{2}\n",
      "\\begin{pmatrix}\n",
      "\\dot{q}_1 & \\dot{q}_2\n",
      "\\end{pmatrix}\n",
      "\\begin{pmatrix}\n",
      "m_1 + m_2 & -m_2 l \\sin{q_2} \\\\\n",
      "-m_2 l \\sin{q_2} & m_2 l^2\n",
      "\\end{pmatrix}\n",
      "\\begin{pmatrix}\n",
      "\\dot{q}_1 \\\\\n",
      "\\dot{q}_2\n",
      "\\end{pmatrix}\n",
      "$$\n",
      "\n",
      "En este punto, introducimos una variable intermedia, tan solo para reducir un poco la notaci\u00f3n:\n",
      "\n",
      "$$\n",
      "\\lambda = l \\sin{q_2}\n",
      "$$\n",
      "\n",
      "y su derivada con respecto al tiempo, la representamos como:\n",
      "\n",
      "$$\n",
      "\\dot{\\lambda} = \\lambda' \\dot{q}_2 \\implies \\lambda' = l \\cos{q_2}\n",
      "$$\n",
      "\n",
      "por lo que la energ\u00eda cinetica queda como:\n",
      "\n",
      "$$\n",
      "K = \\frac{1}{2}\n",
      "\\begin{pmatrix}\n",
      "\\dot{q}_1 & \\dot{q}_2\n",
      "\\end{pmatrix}\n",
      "\\begin{pmatrix}\n",
      "m_1 + m_2 & -m_2 \\lambda \\\\\n",
      "-m_2 \\lambda & m_2 l^2\n",
      "\\end{pmatrix}\n",
      "\\begin{pmatrix}\n",
      "\\dot{q}_1 \\\\\n",
      "\\dot{q}_2\n",
      "\\end{pmatrix}\n",
      "$$\n",
      "\n",
      "en donde el termino matricial es la matriz de masa $M(q)$ y $K(q, \\dot{q}) = \\dot{q}^T M(q) \\dot{q}$.\n",
      "\n",
      "Por otro lado, para calcular la energ\u00eda potencial del sistema, tenemos que:\n",
      "\n",
      "$$\n",
      "U_1 = m_1 g h_1 = 0\n",
      "$$\n",
      "\n",
      "$$\n",
      "U_2 = m_2 g h_2 = m_2 g l \\sin{q_1} = m_2 g \\lambda\n",
      "$$\n",
      "\n",
      "por lo que la energ\u00eda potencial del sistema ser\u00e1:\n",
      "\n",
      "$$\n",
      "U = m_2 g \\lambda\n",
      "$$\n",
      "\n",
      "Cuando aplicamos la primer condici\u00f3n de optimalidad al Lagrangiano $L(t, q(t), \\dot{q}(t)) = K(q(t), \\dot{q}(t)) - U(q)$, tenemos la ecuaci\u00f3n de Euler-Lagrage, la cual nos dice que:\n",
      "\n",
      "$$\n",
      "\\frac{d}{dt} L_{\\dot{q}} - L_q = 0\n",
      "$$\n",
      "\n",
      "por lo que debemos encontrar la derivada del Lagrangiano, con respecto a $q$, $\\dot{q}$ y derivar esta ultima con respecto al tiempo.\n",
      "\n",
      "$$\n",
      "L_q = K_q - U_q\n",
      "$$\n",
      "\n",
      "en donde:\n",
      "\n",
      "$$\n",
      "\\begin{align}\n",
      "K_q &= \\frac{\\partial}{\\partial q} \\left\\{ \\frac{1}{2} \\left[ (m_1 + m_2) \\dot{q}_1^2 + m_2 l^2 \\dot{q}_2^2 - 2 m_2 \\lambda \\dot{q}_1 \\dot{q}_2 \\right] \\right\\} \\\\\n",
      "&= \\frac{1}{2}\n",
      "\\begin{pmatrix}\n",
      "\\frac{\\partial}{\\partial q_1} \\left\\{ \\left[ (m_1 + m_2) \\dot{q}_1^2 + m_2 l^2 \\dot{q}_2^2 - 2 m_2 \\lambda \\dot{q}_1 \\dot{q}_2 \\right] \\right\\} \\\\\n",
      "\\frac{\\partial}{\\partial q_2} \\left\\{ \\left[ (m_1 + m_2) \\dot{q}_1^2 + m_2 l^2 \\dot{q}_2^2 - 2 m_2 \\lambda \\dot{q}_1 \\dot{q}_2 \\right] \\right\\}\n",
      "\\end{pmatrix} \\\\\n",
      "&= \\frac{1}{2}\n",
      "\\begin{pmatrix}\n",
      "0 \\\\\n",
      "- 2 m_2 \\lambda' \\dot{q}_1 \\dot{q}_2\n",
      "\\end{pmatrix} = - m_2 \\lambda'\n",
      "\\begin{pmatrix}\n",
      "0 & 0 \\\\\n",
      "\\dot{q}_2 & 0\n",
      "\\end{pmatrix}\n",
      "\\begin{pmatrix}\n",
      "\\dot{q}_1 \\\\\n",
      "\\dot{q}_2\n",
      "\\end{pmatrix}\n",
      "\\end{align}\n",
      "$$"
     ]
    },
    {
     "cell_type": "code",
     "collapsed": false,
     "input": [
      "Kq = Matrix([[K.diff(q1)], [K.diff(q2)]])\n",
      "Kq"
     ],
     "language": "python",
     "metadata": {},
     "outputs": [
      {
       "latex": [
        "$$\\left[\\begin{matrix}0\\\\- l m_{2} \\operatorname{cos}\\left(q_{2}\\right) \\dot{q}_{1} \\dot{q}_{2}\\end{matrix}\\right]$$"
       ],
       "metadata": {},
       "output_type": "pyout",
       "png": "[encoded data removed]",
       "prompt_number": 18,
       "text": [
        "\u23a1          0          \u23a4\n",
        "\u23a2                     \u23a5\n",
        "\u23a3-l\u22c5m\u2082\u22c5cos(q\u2082)\u22c5q\u2081\u0307\u22c5q\u2082\u0307\u23a6"
       ]
      }
     ],
     "prompt_number": 18
    },
    {
     "cell_type": "markdown",
     "metadata": {},
     "source": [
      "y la derivada de la energ\u00eda potencial con respecto a $q$:\n",
      "\n",
      "$$\n",
      "U_q = \\frac{\\partial}{\\partial q} \\left\\{ m_2 g \\lambda \\right\\} =\n",
      "\\begin{pmatrix}\n",
      "\\frac{\\partial}{\\partial q_1} \\left\\{ m_2 g \\lambda \\right\\} \\\\\n",
      "\\frac{\\partial}{\\partial q_2} \\left\\{ m_2 g \\lambda \\right\\}\n",
      "\\end{pmatrix} =\n",
      "\\begin{pmatrix}\n",
      "0 \\\\\n",
      "m_2 g \\lambda'\n",
      "\\end{pmatrix}\n",
      "$$\n",
      "\n",
      "Ahora obtenemos la derivada con respecto a $\\dot{q}$:\n",
      "\n",
      "$$\n",
      "L_{\\dot{q}} = K_{\\dot{q}} - U_{\\dot{q}}\n",
      "$$\n",
      "\n",
      "en donde:\n",
      "\n",
      "$$\n",
      "K_{\\dot{q}} = \\frac{1}{2} \\frac{\\partial}{\\partial \\dot{q}} \\left\\{ \\dot{q}^T M(q) \\dot{q} \\right\\} = M(q) \\dot{q}\n",
      "$$\n",
      "\n",
      "$$\n",
      "U_{\\dot{q}} = 0\n",
      "$$\n",
      "\n",
      "Derivando con respeto al tiempo estas ultimas expresiones, obtenemos:\n",
      "\n",
      "$$\n",
      "\\frac{d}{dt} K_{\\dot{q}} = \\dot{M}(q, \\dot{q}) \\dot{q} + M(q) \\ddot{q}\n",
      "$$\n",
      "\n",
      "en donde\n",
      "\n",
      "$$\n",
      "\\begin{align}\n",
      "\\dot{M}(q, \\dot{q}) &= \\frac{d}{dt} M(q) = \\frac{d}{dt}\n",
      "\\begin{pmatrix}\n",
      "m_1 + m_2 & m_2 \\lambda \\\\\n",
      "m_2 \\lambda & m_2 l^2\n",
      "\\end{pmatrix} \\\\\n",
      "&=\n",
      "\\begin{pmatrix}\n",
      "0 & m_2 \\lambda' \\dot{q}_2 \\\\\n",
      "m_2 \\lambda' \\dot{q}_2 & 0\n",
      "\\end{pmatrix} = m_2 \\lambda'\n",
      "\\begin{pmatrix}\n",
      "0 & \\dot{q}_2 \\\\\n",
      "\\dot{q}_2 & 0\n",
      "\\end{pmatrix}\n",
      "\\end{align}\n",
      "$$\n",
      "\n",
      "y ya tenemos todos los elementos que integran nuestra ecuaci\u00f3n de Euler-Lagrange:\n",
      "\n",
      "$$\n",
      "\\begin{align}\n",
      "\\frac{d}{dt} L_{\\dot{q}} - L_q &= 0 \\\\\n",
      "M(q) \\ddot{q} + \\dot{M}(q, \\dot{q}) \\dot{q} - K_q + U_q &= 0\n",
      "\\end{align}\n",
      "$$\n",
      "\n",
      "Tan solo cabe recalcar que el segundo y tercer termino se pueden reducir a uno solo:\n",
      "\n",
      "$$\n",
      "\\begin{align}\n",
      "\\dot{M}(q, \\dot{q}) \\dot{q} - K_q &= m_2 \\lambda'\n",
      "\\begin{pmatrix}\n",
      "0 & \\dot{q}_2 \\\\\n",
      "\\dot{q}_2 & 0\n",
      "\\end{pmatrix}\n",
      "\\begin{pmatrix}\n",
      "\\dot{q}_1 \\\\\n",
      "\\dot{q}_2\n",
      "\\end{pmatrix} + m_2 \\lambda'\n",
      "\\begin{pmatrix}\n",
      "0 & 0 \\\\\n",
      "\\dot{q}_2 & 0\n",
      "\\end{pmatrix}\n",
      "\\begin{pmatrix}\n",
      "\\dot{q}_1 \\\\\n",
      "\\dot{q}_2\n",
      "\\end{pmatrix} \\\\\n",
      "&= m_2 \\lambda'\n",
      "\\begin{pmatrix}\n",
      "0 & \\dot{q}_2 \\\\\n",
      "2 \\dot{q}_2 & 0\n",
      "\\end{pmatrix}\n",
      "\\begin{pmatrix}\n",
      "\\dot{q}_1 \\\\\n",
      "\\dot{q}_2\n",
      "\\end{pmatrix} = C(q, \\dot{q})\\dot{q}\n",
      "\\end{align}\n",
      "$$\n",
      "\n",
      "Por lo que finalmente tenemos:\n",
      "\n",
      "$$\n",
      "M(q) \\ddot{q} + C(q, \\dot{q}) \\dot{q} + U_q = 0\n",
      "$$"
     ]
    },
    {
     "cell_type": "heading",
     "level": 2,
     "metadata": {},
     "source": [
      "Simulaci\u00f3n"
     ]
    },
    {
     "cell_type": "markdown",
     "metadata": {},
     "source": [
      "![Diagrama de Simulink](./imagenes/diagramacarropendulo.png)"
     ]
    },
    {
     "cell_type": "code",
     "collapsed": false,
     "input": [
      "# Se importa libreria de entrada y salida y se importan datos de simulacion en MATLAB\n",
      "import scipy.io\n",
      "datos = scipy.io.loadmat('./MATLAB/carropendulo.mat')"
     ],
     "language": "python",
     "metadata": {},
     "outputs": [],
     "prompt_number": 55
    },
    {
     "cell_type": "code",
     "collapsed": false,
     "input": [
      "# Se importan datos de simulaci\u00f3n a variables de Python para poder manipularlas\n",
      "datos_q1 = datos.get(\"q1\")\n",
      "datos_q2 = datos.get(\"q2\")"
     ],
     "language": "python",
     "metadata": {},
     "outputs": [],
     "prompt_number": 56
    },
    {
     "cell_type": "code",
     "collapsed": false,
     "input": [
      "t, q1 = zip(*datos_q1)\n",
      "t, q2 = zip(*datos_q2)\n",
      "len(q1), len(q2)"
     ],
     "language": "python",
     "metadata": {},
     "outputs": [
      {
       "latex": [
        "$$\\left ( 469, \\quad 469\\right )$$"
       ],
       "metadata": {},
       "output_type": "pyout",
       "png": "[encoded data removed]",
       "prompt_number": 57,
       "text": [
        "(469, 469)"
       ]
      }
     ],
     "prompt_number": 57
    },
    {
     "cell_type": "code",
     "collapsed": false,
     "input": [
      "%matplotlib inline\n",
      "from matplotlib.pyplot import plot, style, figure\n",
      "style.use(\"ggplot\")"
     ],
     "language": "python",
     "metadata": {},
     "outputs": [],
     "prompt_number": 58
    },
    {
     "cell_type": "code",
     "collapsed": false,
     "input": [
      "from numpy import cos, sin, zeros, pi, arange, sqrt"
     ],
     "language": "python",
     "metadata": {},
     "outputs": [],
     "prompt_number": 59
    },
    {
     "cell_type": "code",
     "collapsed": false,
     "input": [
      "tau = 2*pi"
     ],
     "language": "python",
     "metadata": {},
     "outputs": [],
     "prompt_number": 60
    },
    {
     "cell_type": "code",
     "collapsed": false,
     "input": [
      "f = figure(figsize=(6, 6))\n",
      "plot(q1 + cos(q2), sin(q2), \".\")\n",
      "plot(q1, zeros(len(q1)), \".\")\n",
      "ax = f.gca()\n",
      "ax.set_xlim(-1.25, 1.1)\n",
      "ax.set_ylim(-1, 0.1);"
     ],
     "language": "python",
     "metadata": {},
     "outputs": [
      {
       "metadata": {},
       "output_type": "display_data",
       "png": "[encoded data removed]",
       "text": [
        "<matplotlib.figure.Figure at 0x10af66550>"
       ]
      }
     ],
     "prompt_number": 61
    },
    {
     "cell_type": "code",
     "collapsed": false,
     "input": [
      "from matplotlib import animation\n",
      "from matplotlib.patches import Rectangle"
     ],
     "language": "python",
     "metadata": {},
     "outputs": [],
     "prompt_number": 62
    },
    {
     "cell_type": "code",
     "collapsed": false,
     "input": [
      "2.34*4"
     ],
     "language": "python",
     "metadata": {},
     "outputs": [
      {
       "latex": [
        "$$9.36$$"
       ],
       "metadata": {},
       "output_type": "pyout",
       "png": "[encoded data removed]",
       "prompt_number": 63,
       "text": [
        "9.36"
       ]
      }
     ],
     "prompt_number": 63
    },
    {
     "cell_type": "code",
     "collapsed": false,
     "input": [
      "fig = figure(figsize=(6, 6))\n",
      "\n",
      "ax = fig.add_subplot(111, autoscale_on=False,\n",
      "                     xlim=(-1.5, 1.5), ylim=(-1.5, 1.5))\n",
      "\n",
      "linea, = ax.plot([], [], 'o-', lw=1.5, color='gray')\n",
      "carro = Rectangle((10,10), 0.5, 0.25, lw=1.5, fc='white')\n",
      "\n",
      "def init():\n",
      "    linea.set_data([], [])\n",
      "    carro.set_xy((-0.25, -0.125))\n",
      "    ax.add_patch(carro)\n",
      "    return linea, carro\n",
      "\n",
      "def animate(i):\n",
      "    thisy = [0, sin(q2[i])]\n",
      "    thisx = [q1[i], q1[i] + cos(q2[i])]\n",
      "\n",
      "    linea.set_data(thisx, thisy)\n",
      "    carro.set_xy((q1[i] - 0.25, -0.125))\n",
      "    return linea, carro\n",
      "\n",
      "ani = animation.FuncAnimation(fig, animate, arange(1, len(q1)), interval=25,\n",
      "                              blit=True, init_func=init)\n",
      "\n",
      "ani.save('pendulum.gif', writer='imagemagick');"
     ],
     "language": "python",
     "metadata": {},
     "outputs": [
      {
       "metadata": {},
       "output_type": "display_data",
       "png": "[encoded data removed]",
       "text": [
        "<matplotlib.figure.Figure at 0x10b1e97d0>"
       ]
      }
     ],
     "prompt_number": 64
    },
    {
     "cell_type": "markdown",
     "metadata": {},
     "source": [
      "![pendulo](pendulum.gif)"
     ]
    }
   ],
   "metadata": {}
  }
 ]
}