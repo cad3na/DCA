{
 "cells": [
  {
   "cell_type": "code",
   "execution_count": 2,
   "metadata": {
    "collapsed": false
   },
   "outputs": [
    {
     "data": {
      "text/html": [
       "<link href='http://fonts.googleapis.com/css?family=Inconsolata' rel='stylesheet' type='text/css'>\n",
       "<link href='http://fonts.googleapis.com/css?family=EB+Garamond' rel='stylesheet' type='text/css'>\n",
       "<link href='http://fonts.googleapis.com/css?family=Lato:100,100italic' rel='stylesheet' type='text/css'>\n",
       "\n",
       "<style>\n",
       "\t@font-face{\n",
       "   \t\tfont-family: \"Computer Modern\";\n",
       "        \tsrc: url('http://mirrors.ctan.org/fonts/cm-unicode/fonts/otf/cmunss.otf');}\n",
       "        \n",
       "\th1 {\n",
       "        \tfont-family: 'Lato', sans-serif;}\n",
       "        \n",
       "\th2 {\n",
       "        \tfont-family: 'Lato', serif;}\n",
       "        \n",
       "\th3{\n",
       "\t\tfont-family:   'Lato', serif;\n",
       "        \tmargin-top:    12px;\n",
       "\t\tmargin-bottom: 3px;}\n",
       "        \n",
       "        h4{\n",
       "\t\tfont-family: 'Lato', serif;}\n",
       "\t\n",
       "\th5 {\n",
       "        \tfont-family: 'Lato', serif;}\n",
       "    \n",
       "\tdiv.text_cell_render{\n",
       "        \tfont-family:  'EB Garamond', 'Computer Modern', 'Helvetica Neue', Arial, Helvetica, Geneva, sans-serif;\n",
       "\t        line-height:  140%;\n",
       "\t        font-size:    14pt;}\n",
       "        \n",
       "\t.CodeMirror{\n",
       "        \tfont-family: 'Inconsolata';}\n",
       "    \n",
       "\t.text_cell_render h1 {\n",
       "\t        font-weight:   100;\n",
       "\t        font-size:     50pt;\n",
       "\t\tline-height:   100%;\n",
       "\t        color:         #CD2305;\n",
       "\t        margin-bottom: 0.5em;\n",
       "\t        margin-top:    0.5em;\n",
       "\t        display:       block;}\n",
       "        \n",
       "\t.text_cell_render h2 {\n",
       "        \tfont-weight:   100;\n",
       "        \tfont-size:     30pt;}\n",
       "        \n",
       "\t.text_cell_render h3 {\n",
       "        \tfont-weight:   100;\n",
       "        \tfont-size:     20pt;}\n",
       "        \n",
       "\t.text_cell_render h4 {\n",
       "        \tfont-weight:   100;\n",
       "        \tfont-size:     16pt;}\n",
       "        \n",
       "\t.text_cell_render h5 {\n",
       "\t        font-weight:   100;\n",
       "\t        font-size:     16pt;\n",
       "\t        color:         #CD2305;\n",
       "\t        font-style:    italic;\n",
       "\t        margin-bottom: 0.5em;\n",
       "\t        margin-top:    0.5em;\n",
       "\t        display:       block;}\n",
       "        \n",
       "\t.text_cell_render h6 {\n",
       "\t        font-weight:   100;\n",
       "\t        font-size:     14pt;\n",
       "\t        color:         #CD2305;\n",
       "\t        font-style:    italic;\n",
       "\t        margin-bottom: 0.5em;\n",
       "\t        margin-top:    0.5em;\n",
       "\t        display:       block;}\n",
       "    \n",
       "\t.warning{\n",
       "\t    \tbackground-color: #fcf2f2;\n",
       "\t    \tborder-color: #dFb5b4;\n",
       "\t    \tborder-left: 5px solid #dfb5b4;\n",
       "\t    \tpadding: 0.5em;}\n",
       "</style>\n",
       "\n",
       "<script>\n",
       "\tMathJax.Hub.Config({\n",
       "        \tTeX:{extensions: [\"AMSmath.js\"]},\n",
       "\n",
       "        \tjax: [\"input/TeX\",\"output/SVG\"],\n",
       "        \tSVG: {\n",
       "        \t\tscale: 120,\n",
       "        \t\tfont: 'Gyre-Pagella'}\n",
       "        });\n",
       "</script>"
      ]
     },
     "metadata": {},
     "output_type": "display_data"
    }
   ],
   "source": [
    "from IPython.core.display import display_html\n",
    "from urllib.request import urlopen\n",
    "\n",
    "display_html(urlopen('http://bit.ly/1HflmO9').read(), raw=True)"
   ]
  },
  {
   "cell_type": "code",
   "execution_count": 1,
   "metadata": {
    "collapsed": true
   },
   "outputs": [],
   "source": [
    "from sympy import var, sin, cos, Matrix, Integer, eye, Function, Rational, exp, Symbol, I, solve, pi, trigsimp, dsolve\n",
    "from sympy.physics.mechanics import mechanics_printing\n",
    "mechanics_printing()"
   ]
  },
  {
   "cell_type": "code",
   "execution_count": 15,
   "metadata": {
    "collapsed": false
   },
   "outputs": [
    {
     "data": {
      "image/png": "[encoded data removed]",
      "text/latex": [
       "$$\\left ( m_{1}, \\quad m_{2}, \\quad l_{1}, \\quad l_{2}, \\quad t, \\quad g\\right )$$"
      ],
      "text/plain": [
       "(m₁, m₂, l₁, l₂, t, g)"
      ]
     },
     "execution_count": 15,
     "metadata": {},
     "output_type": "execute_result"
    }
   ],
   "source": [
    "var(\"m1 m2 l1 l2 t g\")"
   ]
  },
  {
   "cell_type": "code",
   "execution_count": 21,
   "metadata": {
    "collapsed": true
   },
   "outputs": [],
   "source": [
    "q1 = Function(\"q1\")(t)\n",
    "q2 = Function(\"q2\")(t)\n",
    "u = Function(\"u\")(t)"
   ]
  },
  {
   "cell_type": "code",
   "execution_count": 25,
   "metadata": {
    "collapsed": false
   },
   "outputs": [
    {
     "data": {
      "image/png": "[encoded data removed]",
      "text/latex": [
       "$$\\left[\\begin{matrix}\\dot{q}_{1}\\\\\\dot{q}_{2}\\end{matrix}\\right]$$"
      ],
      "text/plain": [
       "⎡q₁̇⎤\n",
       "⎢   ⎥\n",
       "⎣q₂̇⎦"
      ]
     },
     "execution_count": 25,
     "metadata": {},
     "output_type": "execute_result"
    }
   ],
   "source": [
    "q = Matrix([[q1], [q2]])\n",
    "q.diff(t)"
   ]
  },
  {
   "cell_type": "code",
   "execution_count": 6,
   "metadata": {
    "collapsed": true
   },
   "outputs": [],
   "source": [
    "μ1 = (m1 + m2)*l1**2\n",
    "μ2 = m2*l2**2\n",
    "μ3 = m2*l1*l2\n",
    "μ4 = (m1 + m2)*l1\n",
    "μ5 = m2*l2"
   ]
  },
  {
   "cell_type": "code",
   "execution_count": 19,
   "metadata": {
    "collapsed": false
   },
   "outputs": [
    {
     "data": {
      "image/png": "[encoded data removed]",
      "text/latex": [
       "$$\\left[\\begin{matrix}l_{1}^{2} m_{1} + l_{1}^{2} m_{2} + 2 l_{1} l_{2} m_{2} \\operatorname{cos}\\left(q_{2}\\right) + l_{2}^{2} m_{2} & l_{1} l_{2} m_{2} \\operatorname{cos}\\left(q_{2}\\right) + l_{2}^{2} m_{2}\\\\l_{1} l_{2} m_{2} \\operatorname{cos}\\left(q_{2}\\right) + l_{2}^{2} m_{2} & l_{2}^{2} m_{2}\\end{matrix}\\right]$$"
      ],
      "text/plain": [
       "⎡  2        2                             2                          2   ⎤\n",
       "⎢l₁ ⋅m₁ + l₁ ⋅m₂ + 2⋅l₁⋅l₂⋅m₂⋅cos(q₂) + l₂ ⋅m₂  l₁⋅l₂⋅m₂⋅cos(q₂) + l₂ ⋅m₂⎥\n",
       "⎢                                                                        ⎥\n",
       "⎢                               2                          2             ⎥\n",
       "⎣          l₁⋅l₂⋅m₂⋅cos(q₂) + l₂ ⋅m₂                     l₂ ⋅m₂          ⎦"
      ]
     },
     "execution_count": 19,
     "metadata": {},
     "output_type": "execute_result"
    }
   ],
   "source": [
    "M = (Matrix([[μ1 + μ2 + 2*μ3*cos(q2), μ2 + μ3*cos(q2)], [μ2 + μ3*cos(q2), μ2]])).expand()\n",
    "M"
   ]
  },
  {
   "cell_type": "code",
   "execution_count": 10,
   "metadata": {
    "collapsed": false
   },
   "outputs": [
    {
     "data": {
      "image/png": "[encoded data removed]",
      "text/latex": [
       "$$\\left[\\begin{matrix}\\frac{1}{l_{1}^{2} \\left(m_{1} + m_{2} \\operatorname{sin}^{2}\\left(q_{2}\\right)\\right)} & - \\frac{l_{1} \\operatorname{cos}\\left(q_{2}\\right) + l_{2}}{l_{1}^{2} l_{2} \\left(m_{1} + m_{2} \\operatorname{sin}^{2}\\left(q_{2}\\right)\\right)}\\\\- \\frac{l_{1} \\operatorname{cos}\\left(q_{2}\\right) + l_{2}}{l_{1}^{2} l_{2} \\left(m_{1} + m_{2} \\operatorname{sin}^{2}\\left(q_{2}\\right)\\right)} & \\frac{l_{1}^{2} m_{1} + l_{1}^{2} m_{2} + 2 l_{1} l_{2} m_{2} \\operatorname{cos}\\left(q_{2}\\right) + l_{2}^{2} m_{2}}{l_{1}^{2} l_{2}^{2} m_{2} \\left(m_{1} + m_{2} \\operatorname{sin}^{2}\\left(q_{2}\\right)\\right)}\\end{matrix}\\right]$$"
      ],
      "text/plain": [
       "⎡           1                            -(l₁⋅cos(q₂) + l₂)              ⎤\n",
       "⎢ ──────────────────────              ─────────────────────────          ⎥\n",
       "⎢   2 ⎛           2    ⎞                2    ⎛           2    ⎞          ⎥\n",
       "⎢ l₁ ⋅⎝m₁ + m₂⋅sin (q₂)⎠              l₁ ⋅l₂⋅⎝m₁ + m₂⋅sin (q₂)⎠          ⎥\n",
       "⎢                                                                        ⎥\n",
       "⎢                             2        2                             2   ⎥\n",
       "⎢   -(l₁⋅cos(q₂) + l₂)      l₁ ⋅m₁ + l₁ ⋅m₂ + 2⋅l₁⋅l₂⋅m₂⋅cos(q₂) + l₂ ⋅m₂⎥\n",
       "⎢─────────────────────────  ─────────────────────────────────────────────⎥\n",
       "⎢  2    ⎛           2    ⎞            2   2    ⎛           2    ⎞        ⎥\n",
       "⎣l₁ ⋅l₂⋅⎝m₁ + m₂⋅sin (q₂)⎠          l₁ ⋅l₂ ⋅m₂⋅⎝m₁ + m₂⋅sin (q₂)⎠        ⎦"
      ]
     },
     "execution_count": 10,
     "metadata": {},
     "output_type": "execute_result"
    }
   ],
   "source": [
    "trigsimp(M.inv())"
   ]
  },
  {
   "cell_type": "code",
   "execution_count": 12,
   "metadata": {
    "collapsed": false
   },
   "outputs": [
    {
     "data": {
      "image/png": "[encoded data removed]",
      "text/latex": [
       "$$l_{1}^{2} l_{2}^{2} m_{2} \\left(m_{1} + m_{2} \\operatorname{sin}^{2}\\left(q_{2}\\right)\\right)$$"
      ],
      "text/plain": [
       "  2   2    ⎛           2    ⎞\n",
       "l₁ ⋅l₂ ⋅m₂⋅⎝m₁ + m₂⋅sin (q₂)⎠"
      ]
     },
     "execution_count": 12,
     "metadata": {},
     "output_type": "execute_result"
    }
   ],
   "source": [
    "trigsimp(M.det())"
   ]
  },
  {
   "cell_type": "code",
   "execution_count": 18,
   "metadata": {
    "collapsed": false
   },
   "outputs": [
    {
     "data": {
      "image/png": "[encoded data removed]",
      "text/latex": [
       "$$\\left[\\begin{matrix}- l_{1} l_{2} m_{2} \\operatorname{sin}\\left(q_{2}\\right) \\dot{q}_{2} & - l_{1} l_{2} m_{2} \\operatorname{sin}\\left(q_{2}\\right) \\dot{q}_{1} - l_{1} l_{2} m_{2} \\operatorname{sin}\\left(q_{2}\\right) \\dot{q}_{2}\\\\l_{1} l_{2} m_{2} \\operatorname{sin}\\left(q_{2}\\right) \\dot{q}_{1} & 0\\end{matrix}\\right]$$"
      ],
      "text/plain": [
       "⎡-l₁⋅l₂⋅m₂⋅sin(q₂)⋅q₂̇  -l₁⋅l₂⋅m₂⋅sin(q₂)⋅q₁̇ - l₁⋅l₂⋅m₂⋅sin(q₂)⋅q₂̇⎤\n",
       "⎢                                                                   ⎥\n",
       "⎣l₁⋅l₂⋅m₂⋅sin(q₂)⋅q₁̇                        0                      ⎦"
      ]
     },
     "execution_count": 18,
     "metadata": {},
     "output_type": "execute_result"
    }
   ],
   "source": [
    "C = (-μ3*sin(q2)*Matrix([[q2.diff(t), q1.diff(t) + q2.diff(t)], [-q1.diff(t), 0]])).expand()\n",
    "C"
   ]
  },
  {
   "cell_type": "code",
   "execution_count": 17,
   "metadata": {
    "collapsed": false
   },
   "outputs": [
    {
     "data": {
      "image/png": "[encoded data removed]",
      "text/latex": [
       "$$\\left[\\begin{matrix}g l_{1} m_{1} \\operatorname{cos}\\left(q_{1}\\right) + g l_{1} m_{2} \\operatorname{cos}\\left(q_{1}\\right) + g l_{2} m_{2} \\operatorname{cos}\\left(q_{1} + q_{2}\\right)\\\\g l_{2} m_{2} \\operatorname{cos}\\left(q_{1} + q_{2}\\right)\\end{matrix}\\right]$$"
      ],
      "text/plain": [
       "⎡g⋅l₁⋅m₁⋅cos(q₁) + g⋅l₁⋅m₂⋅cos(q₁) + g⋅l₂⋅m₂⋅cos(q₁ + q₂)⎤\n",
       "⎢                                                        ⎥\n",
       "⎣                  g⋅l₂⋅m₂⋅cos(q₁ + q₂)                  ⎦"
      ]
     },
     "execution_count": 17,
     "metadata": {},
     "output_type": "execute_result"
    }
   ],
   "source": [
    "Uq = (g*Matrix([[μ4*cos(q1) + μ5*cos(q1 + q2)], [μ5*cos(q1 + q2)]])).expand()\n",
    "Uq"
   ]
  },
  {
   "cell_type": "code",
   "execution_count": 22,
   "metadata": {
    "collapsed": false
   },
   "outputs": [
    {
     "data": {
      "image/png": "[encoded data removed]",
      "text/latex": [
       "$$\\left[\\begin{matrix}1\\\\0\\end{matrix}\\right]$$"
      ],
      "text/plain": [
       "⎡1⎤\n",
       "⎢ ⎥\n",
       "⎣0⎦"
      ]
     },
     "execution_count": 22,
     "metadata": {},
     "output_type": "execute_result"
    }
   ],
   "source": [
    "G = Matrix([[1], [0]])\n",
    "G"
   ]
  },
  {
   "cell_type": "code",
   "execution_count": 88,
   "metadata": {
    "collapsed": false
   },
   "outputs": [],
   "source": [
    "f = trigsimp(M.inv())*G*u + trigsimp((-trigsimp(M.inv())*C*q.diff(t)).expand()) + trigsimp((-trigsimp(M.inv())*Uq).expand())"
   ]
  },
  {
   "cell_type": "code",
   "execution_count": 32,
   "metadata": {
    "collapsed": false
   },
   "outputs": [
    {
     "data": {
      "image/png": "[encoded data removed]",
      "text/latex": [
       "$$\\frac{g}{l_{1} \\left(m_{1} + m_{2} \\operatorname{sin}^{2}\\left(q_{2}\\right)\\right)} \\left(- m_{1} \\operatorname{cos}\\left(q_{1}\\right) + m_{2} \\operatorname{cos}\\left(q_{1} + q_{2}\\right) \\operatorname{cos}\\left(q_{2}\\right) - m_{2} \\operatorname{cos}\\left(q_{1}\\right)\\right) + \\frac{m_{2} \\operatorname{sin}\\left(q_{2}\\right)}{m_{1} + m_{2} \\operatorname{sin}^{2}\\left(q_{2}\\right)} \\left(\\operatorname{cos}\\left(q_{2}\\right) \\left(\\dot{q}_{1}\\right)^{2} + \\frac{l_{2} \\left(\\dot{q}_{1}\\right)^{2}}{l_{1}} + \\frac{2 l_{2}}{l_{1}} \\dot{q}_{1} \\dot{q}_{2} + \\frac{l_{2} \\left(\\dot{q}_{2}\\right)^{2}}{l_{1}}\\right) + \\frac{u}{l_{1}^{2} \\left(m_{1} + m_{2} \\operatorname{sin}^{2}\\left(q_{2}\\right)\\right)}$$"
      ],
      "text/plain": [
       "                                                            ⎛                 \n",
       "                                                            ⎜           2   l₂\n",
       "                                                         m₂⋅⎜cos(q₂)⋅q₁̇  + ──\n",
       "g⋅(-m₁⋅cos(q₁) + m₂⋅cos(q₁ + q₂)⋅cos(q₂) - m₂⋅cos(q₁))      ⎝                 \n",
       "────────────────────────────────────────────────────── + ─────────────────────\n",
       "                   ⎛           2    ⎞                                         \n",
       "                l₁⋅⎝m₁ + m₂⋅sin (q₂)⎠                                         \n",
       "\n",
       "    2                        2⎞                                 \n",
       "⋅q₁̇    2⋅l₂⋅q₁̇⋅q₂̇   l₂⋅q₂̇ ⎟                                 \n",
       "───── + ──────────── + ───────⎟⋅sin(q₂)                         \n",
       " l₁          l₁           l₁  ⎠                     u           \n",
       "─────────────────────────────────────── + ──────────────────────\n",
       "            2                               2 ⎛           2    ⎞\n",
       " m₁ + m₂⋅sin (q₂)                         l₁ ⋅⎝m₁ + m₂⋅sin (q₂)⎠"
      ]
     },
     "execution_count": 32,
     "metadata": {},
     "output_type": "execute_result"
    }
   ],
   "source": [
    "f3 = f[0]\n",
    "f3"
   ]
  },
  {
   "cell_type": "code",
   "execution_count": 34,
   "metadata": {
    "collapsed": false
   },
   "outputs": [
    {
     "data": {
      "image/png": "[encoded data removed]",
      "text/latex": [
       "$$\\frac{g}{m_{1} + m_{2} \\operatorname{sin}^{2}\\left(q_{2}\\right)} \\left(\\frac{m_{1} \\operatorname{sin}\\left(q_{1}\\right)}{l_{2}} \\operatorname{sin}\\left(q_{2}\\right) + \\frac{m_{2} \\operatorname{sin}\\left(q_{1}\\right)}{l_{2}} \\operatorname{sin}\\left(q_{2}\\right) + \\frac{m_{1} \\operatorname{cos}\\left(q_{1}\\right)}{l_{1}} - \\frac{m_{2} \\operatorname{cos}\\left(q_{2}\\right)}{l_{1}} \\operatorname{cos}\\left(q_{1} + q_{2}\\right) + \\frac{m_{2} \\operatorname{cos}\\left(q_{1}\\right)}{l_{1}}\\right) - \\frac{\\operatorname{sin}\\left(q_{2}\\right)}{m_{1} + m_{2} \\operatorname{sin}^{2}\\left(q_{2}\\right)} \\left(\\frac{l_{1} m_{1}}{l_{2}} \\left(\\dot{q}_{1}\\right)^{2} + \\frac{l_{1} m_{2}}{l_{2}} \\left(\\dot{q}_{1}\\right)^{2} + 2 m_{2} \\operatorname{cos}\\left(q_{2}\\right) \\left(\\dot{q}_{1}\\right)^{2} + 2 m_{2} \\operatorname{cos}\\left(q_{2}\\right) \\dot{q}_{1} \\dot{q}_{2} + m_{2} \\operatorname{cos}\\left(q_{2}\\right) \\left(\\dot{q}_{2}\\right)^{2} + \\frac{l_{2} m_{2}}{l_{1}} \\left(\\dot{q}_{1}\\right)^{2} + \\frac{2 l_{2}}{l_{1}} m_{2} \\dot{q}_{1} \\dot{q}_{2} + \\frac{l_{2} m_{2}}{l_{1}} \\left(\\dot{q}_{2}\\right)^{2}\\right) - \\frac{\\left(l_{1} \\operatorname{cos}\\left(q_{2}\\right) + l_{2}\\right) u}{l_{1}^{2} l_{2} \\left(m_{1} + m_{2} \\operatorname{sin}^{2}\\left(q_{2}\\right)\\right)}$$"
      ],
      "text/plain": [
       "                                                                              \n",
       "  ⎛m₁⋅sin(q₁)⋅sin(q₂)   m₂⋅sin(q₁)⋅sin(q₂)   m₁⋅cos(q₁)   m₂⋅cos(q₁ + q₂)⋅cos(\n",
       "g⋅⎜────────────────── + ────────────────── + ────────── - ────────────────────\n",
       "  ⎝        l₂                   l₂               l₁                  l₁       \n",
       "──────────────────────────────────────────────────────────────────────────────\n",
       "                                                   2                          \n",
       "                                        m₁ + m₂⋅sin (q₂)                      \n",
       "\n",
       "                    ⎛         2            2                                  \n",
       "q₂)   m₂⋅cos(q₁)⎞   ⎜l₁⋅m₁⋅q₁̇    l₁⋅m₂⋅q₁̇                    2              \n",
       "─── + ──────────⎟   ⎜────────── + ────────── + 2⋅m₂⋅cos(q₂)⋅q₁̇  + 2⋅m₂⋅cos(q₂\n",
       "          l₁    ⎠   ⎝    l₂           l₂                                      \n",
       "───────────────── - ──────────────────────────────────────────────────────────\n",
       "                                                                              \n",
       "                                                                              \n",
       "\n",
       "                                       2                              2⎞      \n",
       "                          2   l₂⋅m₂⋅q₁̇    2⋅l₂⋅m₂⋅q₁̇⋅q₂̇   l₂⋅m₂⋅q₂̇ ⎟      \n",
       ")⋅q₁̇⋅q₂̇ + m₂⋅cos(q₂)⋅q₂̇  + ────────── + ─────────────── + ──────────⎟⋅sin(q\n",
       "                                  l₁              l₁             l₁    ⎠      \n",
       "──────────────────────────────────────────────────────────────────────────────\n",
       "              2                                                               \n",
       "   m₁ + m₂⋅sin (q₂)                                                           \n",
       "\n",
       "                              \n",
       "                              \n",
       "₂)                            \n",
       "        (l₁⋅cos(q₂) + l₂)⋅u   \n",
       "── - ─────────────────────────\n",
       "       2    ⎛           2    ⎞\n",
       "     l₁ ⋅l₂⋅⎝m₁ + m₂⋅sin (q₂)⎠"
      ]
     },
     "execution_count": 34,
     "metadata": {},
     "output_type": "execute_result"
    }
   ],
   "source": [
    "f4 = f[1]\n",
    "f4"
   ]
  },
  {
   "cell_type": "code",
   "execution_count": null,
   "metadata": {
    "collapsed": true
   },
   "outputs": [],
   "source": []
  },
  {
   "cell_type": "code",
   "execution_count": 89,
   "metadata": {
    "collapsed": true
   },
   "outputs": [],
   "source": [
    "A11 = 0\n",
    "A12 = 0\n",
    "A13 = 1\n",
    "A14 = 0\n",
    "A21 = 0\n",
    "A22 = 0\n",
    "A23 = 0\n",
    "A24 = 1"
   ]
  },
  {
   "cell_type": "code",
   "execution_count": null,
   "metadata": {
    "collapsed": true
   },
   "outputs": [],
   "source": []
  },
  {
   "cell_type": "code",
   "execution_count": 75,
   "metadata": {
    "collapsed": false
   },
   "outputs": [
    {
     "data": {
      "image/png": "[encoded data removed]",
      "text/latex": [
       "$$\\frac{g}{l_{1}}$$"
      ],
      "text/plain": [
       "g \n",
       "──\n",
       "l₁"
      ]
     },
     "execution_count": 75,
     "metadata": {},
     "output_type": "execute_result"
    }
   ],
   "source": [
    "A31 = ((f3.diff(q1)).subs(q1.diff(t), 0)).subs(q2.diff(t), 0)\n",
    "A31 = (A31.subs(q1, pi/2)).subs(q2, 0)\n",
    "A31"
   ]
  },
  {
   "cell_type": "code",
   "execution_count": 76,
   "metadata": {
    "collapsed": false
   },
   "outputs": [
    {
     "data": {
      "image/png": "[encoded data removed]",
      "text/latex": [
       "$$- \\frac{g m_{2}}{l_{1} m_{1}}$$"
      ],
      "text/plain": [
       "-g⋅m₂ \n",
       "──────\n",
       "l₁⋅m₁ "
      ]
     },
     "execution_count": 76,
     "metadata": {},
     "output_type": "execute_result"
    }
   ],
   "source": [
    "A32 = ((f3.diff(q2)).subs(q1.diff(t), 0)).subs(q2.diff(t), 0)\n",
    "A32 = (A32.subs(q1, pi/2)).subs(q2, 0)\n",
    "A32"
   ]
  },
  {
   "cell_type": "code",
   "execution_count": 79,
   "metadata": {
    "collapsed": false
   },
   "outputs": [
    {
     "data": {
      "image/png": "[encoded data removed]",
      "text/latex": [
       "$$0$$"
      ],
      "text/plain": [
       "0"
      ]
     },
     "execution_count": 79,
     "metadata": {},
     "output_type": "execute_result"
    }
   ],
   "source": [
    "A33 = ((f3.diff(q1.diff(t))).subs(q1.diff(t), 0)).subs(q2.diff(t), 0)\n",
    "A33 "
   ]
  },
  {
   "cell_type": "code",
   "execution_count": 80,
   "metadata": {
    "collapsed": false
   },
   "outputs": [
    {
     "data": {
      "image/png": "[encoded data removed]",
      "text/latex": [
       "$$0$$"
      ],
      "text/plain": [
       "0"
      ]
     },
     "execution_count": 80,
     "metadata": {},
     "output_type": "execute_result"
    }
   ],
   "source": [
    "A34 = ((f3.diff(q2.diff(t))).subs(q1.diff(t), 0)).subs(q2.diff(t), 0)\n",
    "A34"
   ]
  },
  {
   "cell_type": "code",
   "execution_count": null,
   "metadata": {
    "collapsed": true
   },
   "outputs": [],
   "source": []
  },
  {
   "cell_type": "code",
   "execution_count": 83,
   "metadata": {
    "collapsed": false
   },
   "outputs": [
    {
     "data": {
      "image/png": "[encoded data removed]",
      "text/latex": [
       "$$- \\frac{g}{l_{1}}$$"
      ],
      "text/plain": [
       "-g \n",
       "───\n",
       " l₁"
      ]
     },
     "execution_count": 83,
     "metadata": {},
     "output_type": "execute_result"
    }
   ],
   "source": [
    "A41 = ((f4.diff(q1)).subs(q1.diff(t), 0)).subs(q2.diff(t), 0)\n",
    "A41 = (A41.subs(q1, pi/2)).subs(q2, 0)\n",
    "A41"
   ]
  },
  {
   "cell_type": "code",
   "execution_count": 84,
   "metadata": {
    "collapsed": false
   },
   "outputs": [
    {
     "data": {
      "image/png": "[encoded data removed]",
      "text/latex": [
       "$$\\frac{g}{m_{1}} \\left(\\frac{m_{1}}{l_{2}} + \\frac{m_{2}}{l_{2}} + \\frac{m_{2}}{l_{1}}\\right)$$"
      ],
      "text/plain": [
       "  ⎛m₁   m₂   m₂⎞\n",
       "g⋅⎜── + ── + ──⎟\n",
       "  ⎝l₂   l₂   l₁⎠\n",
       "────────────────\n",
       "       m₁       "
      ]
     },
     "execution_count": 84,
     "metadata": {},
     "output_type": "execute_result"
    }
   ],
   "source": [
    "A42 = ((f4.diff(q2)).subs(q1.diff(t), 0)).subs(q2.diff(t), 0)\n",
    "A42 = (A42.subs(q1, pi/2)).subs(q2, 0)\n",
    "A42"
   ]
  },
  {
   "cell_type": "code",
   "execution_count": 85,
   "metadata": {
    "collapsed": false
   },
   "outputs": [
    {
     "data": {
      "image/png": "[encoded data removed]",
      "text/latex": [
       "$$0$$"
      ],
      "text/plain": [
       "0"
      ]
     },
     "execution_count": 85,
     "metadata": {},
     "output_type": "execute_result"
    }
   ],
   "source": [
    "A43 = ((f4.diff(q1.diff(t))).subs(q1.diff(t), 0)).subs(q2.diff(t), 0)\n",
    "A43"
   ]
  },
  {
   "cell_type": "code",
   "execution_count": 86,
   "metadata": {
    "collapsed": false
   },
   "outputs": [
    {
     "data": {
      "image/png": "[encoded data removed]",
      "text/latex": [
       "$$0$$"
      ],
      "text/plain": [
       "0"
      ]
     },
     "execution_count": 86,
     "metadata": {},
     "output_type": "execute_result"
    }
   ],
   "source": [
    "A44 = ((f4.diff(q1.diff(t))).subs(q1.diff(t), 0)).subs(q2.diff(t), 0)\n",
    "A44"
   ]
  },
  {
   "cell_type": "code",
   "execution_count": null,
   "metadata": {
    "collapsed": true
   },
   "outputs": [],
   "source": []
  },
  {
   "cell_type": "code",
   "execution_count": 90,
   "metadata": {
    "collapsed": false
   },
   "outputs": [
    {
     "data": {
      "image/png": "[encoded data removed]",
      "text/latex": [
       "$$\\left[\\begin{matrix}0 & 0 & 1 & 0\\\\0 & 0 & 0 & 1\\\\\\frac{g}{l_{1}} & - \\frac{g m_{2}}{l_{1} m_{1}} & 0 & 0\\\\- \\frac{g}{l_{1}} & \\frac{g}{m_{1}} \\left(\\frac{m_{1}}{l_{2}} + \\frac{m_{2}}{l_{2}} + \\frac{m_{2}}{l_{1}}\\right) & 0 & 0\\end{matrix}\\right]$$"
      ],
      "text/plain": [
       "⎡ 0          0          1  0⎤\n",
       "⎢                           ⎥\n",
       "⎢ 0          0          0  1⎥\n",
       "⎢                           ⎥\n",
       "⎢g         -g⋅m₂            ⎥\n",
       "⎢──        ──────       0  0⎥\n",
       "⎢l₁        l₁⋅m₁            ⎥\n",
       "⎢                           ⎥\n",
       "⎢       ⎛m₁   m₂   m₂⎞      ⎥\n",
       "⎢     g⋅⎜── + ── + ──⎟      ⎥\n",
       "⎢-g     ⎝l₂   l₂   l₁⎠      ⎥\n",
       "⎢───  ────────────────  0  0⎥\n",
       "⎣ l₁         m₁             ⎦"
      ]
     },
     "execution_count": 90,
     "metadata": {},
     "output_type": "execute_result"
    }
   ],
   "source": [
    "A = Matrix([[A11, A12, A13, A14], [A21, A22, A23, A24], [A31, A32, A33, A34], [A41, A42, A43, A44]])\n",
    "A"
   ]
  },
  {
   "cell_type": "code",
   "execution_count": null,
   "metadata": {
    "collapsed": true
   },
   "outputs": [],
   "source": [
    "exp(A*t)"
   ]
  },
  {
   "cell_type": "code",
   "execution_count": 101,
   "metadata": {
    "collapsed": true
   },
   "outputs": [],
   "source": [
    "B1 = 0\n",
    "B2 = 0"
   ]
  },
  {
   "cell_type": "code",
   "execution_count": 102,
   "metadata": {
    "collapsed": false
   },
   "outputs": [
    {
     "data": {
      "image/png": "[encoded data removed]",
      "text/latex": [
       "$$\\frac{1}{l_{1}^{2} m_{1}}$$"
      ],
      "text/plain": [
       "  1   \n",
       "──────\n",
       "  2   \n",
       "l₁ ⋅m₁"
      ]
     },
     "execution_count": 102,
     "metadata": {},
     "output_type": "execute_result"
    }
   ],
   "source": [
    "B3 = (f3.diff(u).subs(q1.diff(t), 0)).subs(q2.diff(t), 0)\n",
    "B3 = B3.subs(q2, 0)\n",
    "B3"
   ]
  },
  {
   "cell_type": "code",
   "execution_count": 103,
   "metadata": {
    "collapsed": false
   },
   "outputs": [
    {
     "data": {
      "image/png": "[encoded data removed]",
      "text/latex": [
       "$$- \\frac{l_{1} + l_{2}}{l_{1}^{2} l_{2} m_{1}}$$"
      ],
      "text/plain": [
       "-(l₁ + l₂) \n",
       "───────────\n",
       "   2       \n",
       " l₁ ⋅l₂⋅m₁ "
      ]
     },
     "execution_count": 103,
     "metadata": {},
     "output_type": "execute_result"
    }
   ],
   "source": [
    "B4 = (f4.diff(u).subs(q1.diff(t), 0)).subs(q2.diff(t), 0)\n",
    "B4 = B4.subs(q2, 0)\n",
    "B4"
   ]
  },
  {
   "cell_type": "code",
   "execution_count": null,
   "metadata": {
    "collapsed": true
   },
   "outputs": [],
   "source": []
  },
  {
   "cell_type": "code",
   "execution_count": 105,
   "metadata": {
    "collapsed": false
   },
   "outputs": [
    {
     "data": {
      "image/png": "[encoded data removed]",
      "text/latex": [
       "$$\\left[\\begin{matrix}0\\\\0\\\\\\frac{1}{l_{1}^{2} m_{1}}\\\\- \\frac{l_{1} + l_{2}}{l_{1}^{2} l_{2} m_{1}}\\end{matrix}\\right]$$"
      ],
      "text/plain": [
       "⎡     0     ⎤\n",
       "⎢           ⎥\n",
       "⎢     0     ⎥\n",
       "⎢           ⎥\n",
       "⎢    1      ⎥\n",
       "⎢  ──────   ⎥\n",
       "⎢    2      ⎥\n",
       "⎢  l₁ ⋅m₁   ⎥\n",
       "⎢           ⎥\n",
       "⎢-(l₁ + l₂) ⎥\n",
       "⎢───────────⎥\n",
       "⎢   2       ⎥\n",
       "⎣ l₁ ⋅l₂⋅m₁ ⎦"
      ]
     },
     "execution_count": 105,
     "metadata": {},
     "output_type": "execute_result"
    }
   ],
   "source": [
    "B = Matrix([[B1], [B2], [B3], [B4]])\n",
    "B"
   ]
  },
  {
   "cell_type": "code",
   "execution_count": null,
   "metadata": {
    "collapsed": true
   },
   "outputs": [],
   "source": []
  },
  {
   "cell_type": "code",
   "execution_count": 4,
   "metadata": {
    "collapsed": false
   },
   "outputs": [
    {
     "data": {
      "image/png": "[encoded data removed]",
      "text/latex": [
       "$$\\left ( t, \\quad p_{0}\\right )$$"
      ],
      "text/plain": [
       "(t, p₀)"
      ]
     },
     "execution_count": 4,
     "metadata": {},
     "output_type": "execute_result"
    }
   ],
   "source": [
    "var(\"t p0\")"
   ]
  },
  {
   "cell_type": "code",
   "execution_count": 5,
   "metadata": {
    "collapsed": false
   },
   "outputs": [],
   "source": [
    "x1 = Function(\"x1\")(t)\n",
    "x2 = Function(\"x2\")(t)\n",
    "p1 = Function(\"p1\")(t)\n",
    "p2 = Function(\"p2\")(t)\n",
    "u = Function(\"u\")(t)"
   ]
  },
  {
   "cell_type": "markdown",
   "metadata": {},
   "source": [
    "$$\n",
    "\\dot{x}_1 = x_2\n",
    "$$\n",
    "\n",
    "$$\n",
    "\\dot{x}_2 = -x_2 + u\n",
    "$$\n",
    "\n",
    "$$\n",
    "x(0) =\n",
    "\\begin{pmatrix}\n",
    "0 \\\\\n",
    "0\n",
    "\\end{pmatrix} \\quad x(2) = \n",
    "\\begin{pmatrix}\n",
    "5 \\\\\n",
    "2\n",
    "\\end{pmatrix}\n",
    "$$\n",
    "\n",
    "$$\n",
    "J(u) = \\int_0^2 L(x, u) = \\int_0^2 \\frac{1}{2} u^2(\\tau) d\\tau\n",
    "$$\n",
    "\n",
    "$$\n",
    "H(x, u, p_1, p_2, p_0) = p_1 \\dot{x}_1 + p_2 + \\dot{x}_2 + p_0 J(u) = p_1 x_2 - p_2 x_2 + p_2 u + p_0 \\frac{1}{2} u^2\n",
    "$$\n",
    "\n",
    "$p_0 = -1$\n",
    "\n",
    "$$\n",
    "H(x, u, p_1, p_2, p_0) = p_1 x_2 - p_2 x_2 + p_2 u - \\frac{1}{2} u^2\n",
    "$$"
   ]
  },
  {
   "cell_type": "code",
   "execution_count": 6,
   "metadata": {
    "collapsed": true
   },
   "outputs": [],
   "source": [
    "ẋ1 = x2\n",
    "ẋ2 = -x2 + u"
   ]
  },
  {
   "cell_type": "code",
   "execution_count": 7,
   "metadata": {
    "collapsed": false
   },
   "outputs": [
    {
     "data": {
      "image/png": "[encoded data removed]",
      "text/latex": [
       "$$\\left ( x_{2}, \\quad u - x_{2}\\right )$$"
      ],
      "text/plain": [
       "(x₂, u - x₂)"
      ]
     },
     "execution_count": 7,
     "metadata": {},
     "output_type": "execute_result"
    }
   ],
   "source": [
    "ẋ1, ẋ2"
   ]
  },
  {
   "cell_type": "code",
   "execution_count": 16,
   "metadata": {
    "collapsed": false
   },
   "outputs": [
    {
     "data": {
      "image/png": "[encoded data removed]",
      "text/latex": [
       "$$\\frac{u^{2}}{2}$$"
      ],
      "text/plain": [
       " 2\n",
       "u \n",
       "──\n",
       "2 "
      ]
     },
     "execution_count": 16,
     "metadata": {},
     "output_type": "execute_result"
    }
   ],
   "source": [
    "L = Rational(1, 2)*u**2\n",
    "L"
   ]
  },
  {
   "cell_type": "code",
   "execution_count": 17,
   "metadata": {
    "collapsed": false
   },
   "outputs": [
    {
     "data": {
      "image/png": "[encoded data removed]",
      "text/latex": [
       "$$\\left(u - x_{2}\\right) p_{2} + p_{1} x_{2} - \\frac{u^{2}}{2}$$"
      ],
      "text/plain": [
       "                       2\n",
       "                      u \n",
       "(u - x₂)⋅p₂ + p₁⋅x₂ - ──\n",
       "                      2 "
      ]
     },
     "execution_count": 17,
     "metadata": {},
     "output_type": "execute_result"
    }
   ],
   "source": [
    "H = p1*ẋ1 + p2*ẋ2 - L\n",
    "H"
   ]
  },
  {
   "cell_type": "code",
   "execution_count": 10,
   "metadata": {
    "collapsed": false
   },
   "outputs": [],
   "source": [
    "ṗ1 = -H.diff(x1)\n",
    "ṗ2 = -H.diff(x2)"
   ]
  },
  {
   "cell_type": "code",
   "execution_count": 11,
   "metadata": {
    "collapsed": false
   },
   "outputs": [
    {
     "data": {
      "image/png": "[encoded data removed]",
      "text/latex": [
       "$$\\left ( 0, \\quad - p_{1} + p_{2}\\right )$$"
      ],
      "text/plain": [
       "(0, -p₁ + p₂)"
      ]
     },
     "execution_count": 11,
     "metadata": {},
     "output_type": "execute_result"
    }
   ],
   "source": [
    "ṗ1, ṗ2"
   ]
  },
  {
   "cell_type": "code",
   "execution_count": 12,
   "metadata": {
    "collapsed": false
   },
   "outputs": [
    {
     "data": {
      "image/png": "[encoded data removed]",
      "text/latex": [
       "$$p_{2} - u$$"
      ],
      "text/plain": [
       "p₂ - u"
      ]
     },
     "execution_count": 12,
     "metadata": {},
     "output_type": "execute_result"
    }
   ],
   "source": [
    "H.diff(u)"
   ]
  },
  {
   "cell_type": "code",
   "execution_count": 13,
   "metadata": {
    "collapsed": false
   },
   "outputs": [
    {
     "data": {
      "image/png": "[encoded data removed]",
      "text/latex": [
       "$$p_{2} - u$$"
      ],
      "text/plain": [
       "p₂ - u"
      ]
     },
     "execution_count": 13,
     "metadata": {},
     "output_type": "execute_result"
    }
   ],
   "source": [
    "u̇ = H.diff(u)\n",
    "u̇"
   ]
  },
  {
   "cell_type": "code",
   "execution_count": 14,
   "metadata": {
    "collapsed": false
   },
   "outputs": [
    {
     "data": {
      "image/png": "[encoded data removed]",
      "text/latex": [
       "$$p_{2}$$"
      ],
      "text/plain": [
       "p₂"
      ]
     },
     "execution_count": 14,
     "metadata": {},
     "output_type": "execute_result"
    }
   ],
   "source": [
    "sol_u = solve(u̇, u)[0]\n",
    "sol_u"
   ]
  },
  {
   "cell_type": "code",
   "execution_count": 15,
   "metadata": {
    "collapsed": false
   },
   "outputs": [
    {
     "data": {
      "image/png": "[encoded data removed]",
      "text/latex": [
       "$$\\left ( - x_{2} + \\dot{x}_{1}, \\quad - p_{2} + x_{2} + \\dot{x}_{2}, \\quad \\dot{p}_{1}, \\quad p_{1} - p_{2} + \\dot{p}_{2}\\right )$$"
      ],
      "text/plain": [
       "(-x₂ + x₁̇, -p₂ + x₂ + x₂̇, p₁̇, p₁ - p₂ + p₂̇)"
      ]
     },
     "execution_count": 15,
     "metadata": {},
     "output_type": "execute_result"
    }
   ],
   "source": [
    "eqs = x1.diff(t) - ẋ1, x2.diff(t) - ẋ2.subs(u, sol_u), p1.diff(t) - ṗ1, p2.diff(t) - ṗ2\n",
    "eqs"
   ]
  },
  {
   "cell_type": "markdown",
   "metadata": {},
   "source": [
    "$$\n",
    "\\begin{pmatrix}\n",
    "\\dot{x}_1 \\\\\n",
    "\\dot{x}_2 \\\\\n",
    "\\dot{p}_1 \\\\\n",
    "\\dot{p}_2\n",
    "\\end{pmatrix} =\n",
    "\\begin{pmatrix}\n",
    "0 & 1 & 0 & 0 \\\\\n",
    "0 & -1 & 0 & 1 \\\\\n",
    "0 & 0 & 0 & 0 \\\\\n",
    "0 & 0 & -1 & 1\n",
    "\\end{pmatrix}\n",
    "\\begin{pmatrix}\n",
    "x_1 \\\\\n",
    "x_2 \\\\\n",
    "p_1 \\\\\n",
    "p_2\n",
    "\\end{pmatrix}\n",
    "$$"
   ]
  },
  {
   "cell_type": "code",
   "execution_count": 20,
   "metadata": {
    "collapsed": true
   },
   "outputs": [],
   "source": [
    "A = Matrix([[0, 1, 0, 0], [0, -1, 0, 1], [0, 0, 0, 0], [0, 0, -1, 1]])"
   ]
  },
  {
   "cell_type": "code",
   "execution_count": 21,
   "metadata": {
    "collapsed": false
   },
   "outputs": [
    {
     "data": {
      "image/png": "[encoded data removed]",
      "text/latex": [
       "$$\\left[\\begin{matrix}1 & - \\frac{1}{e} + 1 & - \\frac{e}{2} + \\frac{1}{2 e} + 1 & -1 + \\frac{1}{2 e} + \\frac{e}{2}\\\\0 & e^{-1} & - \\frac{e}{2} - \\frac{1}{2 e} + 1 & - \\frac{1}{2 e} + \\frac{e}{2}\\\\0 & 0 & 1 & 0\\\\0 & 0 & - e + 1 & e\\end{matrix}\\right]$$"
      ],
      "text/plain": [
       "⎡                     -1            -1    ⎤\n",
       "⎢      -1        ℯ   ℯ             ℯ     ℯ⎥\n",
       "⎢1  - ℯ   + 1  - ─ + ─── + 1  -1 + ─── + ─⎥\n",
       "⎢                2    2             2    2⎥\n",
       "⎢                                         ⎥\n",
       "⎢                     -1          -1      ⎥\n",
       "⎢       -1       ℯ   ℯ           ℯ     ℯ  ⎥\n",
       "⎢0     ℯ       - ─ - ─── + 1   - ─── + ─  ⎥\n",
       "⎢                2    2           2    2  ⎥\n",
       "⎢                                         ⎥\n",
       "⎢0      0            1             0      ⎥\n",
       "⎢                                         ⎥\n",
       "⎣0      0         -ℯ + 1           ℯ      ⎦"
      ]
     },
     "execution_count": 21,
     "metadata": {},
     "output_type": "execute_result"
    }
   ],
   "source": [
    "exp(A)"
   ]
  },
  {
   "cell_type": "code",
   "execution_count": 19,
   "metadata": {
    "collapsed": false
   },
   "outputs": [
    {
     "ename": "NotImplementedError",
     "evalue": "",
     "output_type": "error",
     "traceback": [
      "\u001b[0;31m---------------------------------------------------------------------------\u001b[0m",
      "\u001b[0;31mNotImplementedError\u001b[0m                       Traceback (most recent call last)",
      "\u001b[0;32m<ipython-input-19-e04c8d0ae248>\u001b[0m in \u001b[0;36m<module>\u001b[0;34m()\u001b[0m\n\u001b[0;32m----> 1\u001b[0;31m \u001b[0mdsolve\u001b[0m\u001b[0;34m(\u001b[0m\u001b[0meq\u001b[0m\u001b[0;34m=\u001b[0m\u001b[0meqs\u001b[0m\u001b[0;34m)\u001b[0m\u001b[0;34m\u001b[0m\u001b[0m\n\u001b[0m",
      "\u001b[0;32m/Users/roberto/miniconda3/lib/python3.4/site-packages/sympy/solvers/ode.py\u001b[0m in \u001b[0;36mdsolve\u001b[0;34m(eq, func, hint, simplify, ics, xi, eta, x0, n, **kwargs)\u001b[0m\n\u001b[1;32m    601\u001b[0m             \"number of functions being equal to number of equations\")\n\u001b[1;32m    602\u001b[0m         \u001b[0;32mif\u001b[0m \u001b[0mmatch\u001b[0m\u001b[0;34m[\u001b[0m\u001b[0;34m'type_of_equation'\u001b[0m\u001b[0;34m]\u001b[0m \u001b[0;32mis\u001b[0m \u001b[0;32mNone\u001b[0m\u001b[0;34m:\u001b[0m\u001b[0;34m\u001b[0m\u001b[0m\n\u001b[0;32m--> 603\u001b[0;31m             \u001b[0;32mraise\u001b[0m \u001b[0mNotImplementedError\u001b[0m\u001b[0;34m\u001b[0m\u001b[0m\n\u001b[0m\u001b[1;32m    604\u001b[0m         \u001b[0;32melse\u001b[0m\u001b[0;34m:\u001b[0m\u001b[0;34m\u001b[0m\u001b[0m\n\u001b[1;32m    605\u001b[0m             \u001b[0;32mif\u001b[0m \u001b[0mmatch\u001b[0m\u001b[0;34m[\u001b[0m\u001b[0;34m'is_linear'\u001b[0m\u001b[0;34m]\u001b[0m \u001b[0;34m==\u001b[0m \u001b[0;32mTrue\u001b[0m\u001b[0;34m:\u001b[0m\u001b[0;34m\u001b[0m\u001b[0m\n",
      "\u001b[0;31mNotImplementedError\u001b[0m: "
     ]
    }
   ],
   "source": [
    "dsolve(eq=eqs)"
   ]
  },
  {
   "cell_type": "code",
   "execution_count": 98,
   "metadata": {
    "collapsed": false
   },
   "outputs": [
    {
     "data": {
      "image/png": "[encoded data removed]",
      "text/latex": [
       "$$x_{1} = C_{1} + \\int x_{2}\\, dt$$"
      ],
      "text/plain": [
       "          ⌠      \n",
       "x₁ = C₁ + ⎮ x₂ dt\n",
       "          ⌡      "
      ]
     },
     "execution_count": 98,
     "metadata": {},
     "output_type": "execute_result"
    }
   ],
   "source": [
    "dsolve(x1.diff(t) - ẋ1)"
   ]
  },
  {
   "cell_type": "code",
   "execution_count": 97,
   "metadata": {
    "collapsed": false
   },
   "outputs": [
    {
     "data": {
      "image/png": "[encoded data removed]",
      "text/latex": [
       "$$x_{2} = \\left(C_{1} - \\int p_{2} e^{t}\\, dt\\right) e^{- t}$$"
      ],
      "text/plain": [
       "     ⎛     ⌠         ⎞    \n",
       "     ⎜     ⎮     t   ⎟  -t\n",
       "x₂ = ⎜C₁ - ⎮ p₂⋅ℯ  dt⎟⋅ℯ  \n",
       "     ⎝     ⌡         ⎠    "
      ]
     },
     "execution_count": 97,
     "metadata": {},
     "output_type": "execute_result"
    }
   ],
   "source": [
    "dsolve(x2.diff(t) - ẋ2.subs(u, sol_u))"
   ]
  },
  {
   "cell_type": "code",
   "execution_count": 99,
   "metadata": {
    "collapsed": false
   },
   "outputs": [
    {
     "data": {
      "image/png": "[encoded data removed]",
      "text/latex": [
       "$$p_{1} = C_{1}$$"
      ],
      "text/plain": [
       "p₁ = C₁"
      ]
     },
     "execution_count": 99,
     "metadata": {},
     "output_type": "execute_result"
    }
   ],
   "source": [
    "dsolve(p1.diff(t) - ṗ1)"
   ]
  },
  {
   "cell_type": "code",
   "execution_count": 100,
   "metadata": {
    "collapsed": false
   },
   "outputs": [
    {
     "data": {
      "image/png": "[encoded data removed]",
      "text/latex": [
       "$$p_{2} = \\left(C_{1} - \\int p_{1} e^{- t}\\, dt\\right) e^{t}$$"
      ],
      "text/plain": [
       "     ⎛     ⌠          ⎞   \n",
       "     ⎜     ⎮     -t   ⎟  t\n",
       "p₂ = ⎜C₁ - ⎮ p₁⋅ℯ   dt⎟⋅ℯ \n",
       "     ⎝     ⌡          ⎠   "
      ]
     },
     "execution_count": 100,
     "metadata": {},
     "output_type": "execute_result"
    }
   ],
   "source": [
    "dsolve(p2.diff(t) - ṗ2)"
   ]
  },
  {
   "cell_type": "code",
   "execution_count": null,
   "metadata": {
    "collapsed": true
   },
   "outputs": [],
   "source": []
  }
 ],
 "metadata": {
  "kernelspec": {
   "display_name": "Python 3",
   "language": "python",
   "name": "python3"
  },
  "language_info": {
   "codemirror_mode": {
    "name": "ipython",
    "version": 3
   },
   "file_extension": ".py",
   "mimetype": "text/x-python",
   "name": "python",
   "nbconvert_exporter": "python",
   "pygments_lexer": "ipython3",
   "version": "3.4.3"
  }
 },
 "nbformat": 4,
 "nbformat_minor": 0
}
