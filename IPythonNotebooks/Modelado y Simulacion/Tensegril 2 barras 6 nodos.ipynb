{
 "metadata": {
  "name": "",
  "signature": "sha256:18c89af4bc88459e93476d70c64a0bf7006447ba049cc31f43002adeb83a454f"
 },
 "nbformat": 3,
 "nbformat_minor": 0,
 "worksheets": [
  {
   "cells": [
    {
     "cell_type": "code",
     "collapsed": false,
     "input": [
      "from sympy import init_printing, var, Matrix, solve"
     ],
     "language": "python",
     "metadata": {},
     "outputs": [],
     "prompt_number": 1
    },
    {
     "cell_type": "code",
     "collapsed": false,
     "input": [
      "init_printing()"
     ],
     "language": "python",
     "metadata": {},
     "outputs": [],
     "prompt_number": 2
    },
    {
     "cell_type": "code",
     "collapsed": false,
     "input": [
      "var(\"lambda:3\")\n",
      "var(\"gamma:5\");"
     ],
     "language": "python",
     "metadata": {},
     "outputs": [],
     "prompt_number": 3
    },
    {
     "cell_type": "code",
     "collapsed": false,
     "input": [
      "n1 = Matrix([1, 0])\n",
      "n2 = Matrix([0, 1])\n",
      "n3 = Matrix([-1, 0])\n",
      "n4 = Matrix([0, -1])"
     ],
     "language": "python",
     "metadata": {},
     "outputs": [],
     "prompt_number": 4
    },
    {
     "cell_type": "code",
     "collapsed": false,
     "input": [
      "b1 = n3 - n1\n",
      "b2 = n4 - n2\n",
      "\n",
      "B = b1.row_join(b2)\n",
      "B"
     ],
     "language": "python",
     "metadata": {},
     "outputs": [
      {
       "latex": [
        "$$\\left[\\begin{matrix}-2 & 0\\\\0 & -2\\end{matrix}\\right]$$"
       ],
       "metadata": {},
       "output_type": "pyout",
       "png": "[encoded data removed]",
       "prompt_number": 5,
       "text": [
        "\u23a1-2  0 \u23a4\n",
        "\u23a2      \u23a5\n",
        "\u23a30   -2\u23a6"
       ]
      }
     ],
     "prompt_number": 5
    },
    {
     "cell_type": "code",
     "collapsed": false,
     "input": [
      "s1 = n2 - n1\n",
      "s2 = n3 - n2\n",
      "s3 = n4 - n3\n",
      "s4 = n1 - n4\n",
      "\n",
      "S = ((s1.row_join(s2)).row_join(s3)).row_join(s4)\n",
      "S"
     ],
     "language": "python",
     "metadata": {},
     "outputs": [
      {
       "latex": [
        "$$\\left[\\begin{matrix}-1 & -1 & 1 & 1\\\\1 & -1 & -1 & 1\\end{matrix}\\right]$$"
       ],
       "metadata": {},
       "output_type": "pyout",
       "png": "[encoded data removed]",
       "prompt_number": 6,
       "text": [
        "\u23a1-1  -1  1   1\u23a4\n",
        "\u23a2             \u23a5\n",
        "\u23a31   -1  -1  1\u23a6"
       ]
      }
     ],
     "prompt_number": 6
    },
    {
     "cell_type": "code",
     "collapsed": false,
     "input": [
      "e1 = Matrix([1, 0, 0, 0])\n",
      "e2 = Matrix([0, 1, 0, 0])\n",
      "e3 = Matrix([0, 0, 1, 0])\n",
      "e4 = Matrix([0, 0, 0, 1])"
     ],
     "language": "python",
     "metadata": {},
     "outputs": [],
     "prompt_number": 7
    },
    {
     "cell_type": "code",
     "collapsed": false,
     "input": [
      "d1 = e3 - e1\n",
      "d2 = e4 - e2\n",
      "d3 = e2 - e1\n",
      "d4 = e3 - e2\n",
      "d5 = e4 - e3\n",
      "d6 = e1 - e4\n",
      "\n",
      "D = (((d1.row_join(d2)).row_join(d3)).row_join(d4)).row_join(d5).row_join(d6)\n",
      "C = D.T\n",
      "C"
     ],
     "language": "python",
     "metadata": {},
     "outputs": [
      {
       "latex": [
        "$$\\left[\\begin{matrix}-1 & 0 & 1 & 0\\\\0 & -1 & 0 & 1\\\\-1 & 1 & 0 & 0\\\\0 & -1 & 1 & 0\\\\0 & 0 & -1 & 1\\\\1 & 0 & 0 & -1\\end{matrix}\\right]$$"
       ],
       "metadata": {},
       "output_type": "pyout",
       "png": "[encoded data removed]",
       "prompt_number": 8,
       "text": [
        "\u23a1-1  0   1   0 \u23a4\n",
        "\u23a2              \u23a5\n",
        "\u23a20   -1  0   1 \u23a5\n",
        "\u23a2              \u23a5\n",
        "\u23a2-1  1   0   0 \u23a5\n",
        "\u23a2              \u23a5\n",
        "\u23a20   -1  1   0 \u23a5\n",
        "\u23a2              \u23a5\n",
        "\u23a20   0   -1  1 \u23a5\n",
        "\u23a2              \u23a5\n",
        "\u23a31   0   0   -1\u23a6"
       ]
      }
     ],
     "prompt_number": 8
    },
    {
     "cell_type": "code",
     "collapsed": false,
     "input": [
      "Lambda = Matrix([[lambda1, 0], [0, lambda2]])\n",
      "Lambda"
     ],
     "language": "python",
     "metadata": {},
     "outputs": [
      {
       "latex": [
        "$$\\left[\\begin{matrix}\\lambda_{1} & 0\\\\0 & \\lambda_{2}\\end{matrix}\\right]$$"
       ],
       "metadata": {},
       "output_type": "pyout",
       "png": "[encoded data removed]",
       "prompt_number": 9,
       "text": [
        "\u23a1\u03bb\u2081  0 \u23a4\n",
        "\u23a2      \u23a5\n",
        "\u23a30   \u03bb\u2082\u23a6"
       ]
      }
     ],
     "prompt_number": 9
    },
    {
     "cell_type": "code",
     "collapsed": false,
     "input": [
      "-B*Lambda"
     ],
     "language": "python",
     "metadata": {},
     "outputs": [
      {
       "latex": [
        "$$\\left[\\begin{matrix}2 \\lambda_{1} & 0\\\\0 & 2 \\lambda_{2}\\end{matrix}\\right]$$"
       ],
       "metadata": {},
       "output_type": "pyout",
       "png": "[encoded data removed]",
       "prompt_number": 10,
       "text": [
        "\u23a12\u22c5\u03bb\u2081   0  \u23a4\n",
        "\u23a2          \u23a5\n",
        "\u23a3 0    2\u22c5\u03bb\u2082\u23a6"
       ]
      }
     ],
     "prompt_number": 10
    },
    {
     "cell_type": "code",
     "collapsed": false,
     "input": [
      "Gamma = Matrix([[gamma1, 0, 0, 0], [0, gamma2, 0, 0], [0, 0, gamma3, 0], [0, 0, 0, gamma4]])\n",
      "Gamma"
     ],
     "language": "python",
     "metadata": {},
     "outputs": [
      {
       "latex": [
        "$$\\left[\\begin{matrix}\\gamma_{1} & 0 & 0 & 0\\\\0 & \\gamma_{2} & 0 & 0\\\\0 & 0 & \\gamma_{3} & 0\\\\0 & 0 & 0 & \\gamma_{4}\\end{matrix}\\right]$$"
       ],
       "metadata": {},
       "output_type": "pyout",
       "png": "[encoded data removed]",
       "prompt_number": 11,
       "text": [
        "\u23a1\u03b3\u2081  0   0   0 \u23a4\n",
        "\u23a2              \u23a5\n",
        "\u23a20   \u03b3\u2082  0   0 \u23a5\n",
        "\u23a2              \u23a5\n",
        "\u23a20   0   \u03b3\u2083  0 \u23a5\n",
        "\u23a2              \u23a5\n",
        "\u23a30   0   0   \u03b3\u2084\u23a6"
       ]
      }
     ],
     "prompt_number": 11
    },
    {
     "cell_type": "code",
     "collapsed": false,
     "input": [
      "S*Gamma"
     ],
     "language": "python",
     "metadata": {},
     "outputs": [
      {
       "latex": [
        "$$\\left[\\begin{matrix}- \\gamma_{1} & - \\gamma_{2} & \\gamma_{3} & \\gamma_{4}\\\\\\gamma_{1} & - \\gamma_{2} & - \\gamma_{3} & \\gamma_{4}\\end{matrix}\\right]$$"
       ],
       "metadata": {},
       "output_type": "pyout",
       "png": "[encoded data removed]",
       "prompt_number": 12,
       "text": [
        "\u23a1-\u03b3\u2081  -\u03b3\u2082  \u03b3\u2083   \u03b3\u2084\u23a4\n",
        "\u23a2                 \u23a5\n",
        "\u23a3\u03b3\u2081   -\u03b3\u2082  -\u03b3\u2083  \u03b3\u2084\u23a6"
       ]
      }
     ],
     "prompt_number": 12
    },
    {
     "cell_type": "code",
     "collapsed": false,
     "input": [
      "M = B.row_join(S)\n",
      "M"
     ],
     "language": "python",
     "metadata": {},
     "outputs": [
      {
       "latex": [
        "$$\\left[\\begin{matrix}-2 & 0 & -1 & -1 & 1 & 1\\\\0 & -2 & 1 & -1 & -1 & 1\\end{matrix}\\right]$$"
       ],
       "metadata": {},
       "output_type": "pyout",
       "png": "[encoded data removed]",
       "prompt_number": 13,
       "text": [
        "\u23a1-2  0   -1  -1  1   1\u23a4\n",
        "\u23a2                     \u23a5\n",
        "\u23a30   -2  1   -1  -1  1\u23a6"
       ]
      }
     ],
     "prompt_number": 13
    },
    {
     "cell_type": "code",
     "collapsed": false,
     "input": [
      "N = ((n1.row_join(n2)).row_join(n3)).row_join(n4)\n",
      "N"
     ],
     "language": "python",
     "metadata": {},
     "outputs": [
      {
       "latex": [
        "$$\\left[\\begin{matrix}1 & 0 & -1 & 0\\\\0 & 1 & 0 & -1\\end{matrix}\\right]$$"
       ],
       "metadata": {},
       "output_type": "pyout",
       "png": "[encoded data removed]",
       "prompt_number": 14,
       "text": [
        "\u23a11  0  -1  0 \u23a4\n",
        "\u23a2            \u23a5\n",
        "\u23a30  1  0   -1\u23a6"
       ]
      }
     ],
     "prompt_number": 14
    },
    {
     "cell_type": "code",
     "collapsed": false,
     "input": [
      "solve((-B*Lambda).row_join(S*Gamma)*C)"
     ],
     "language": "python",
     "metadata": {},
     "outputs": [
      {
       "latex": [
        "$$\\begin{bmatrix}\\begin{Bmatrix}\\gamma_{1} : \\lambda_{2}, & \\gamma_{2} : \\lambda_{2}, & \\gamma_{3} : \\lambda_{2}, & \\gamma_{4} : \\lambda_{2}, & \\lambda_{1} : \\lambda_{2}\\end{Bmatrix}\\end{bmatrix}$$"
       ],
       "metadata": {},
       "output_type": "pyout",
       "png": "[encoded data removed]",
       "prompt_number": 15,
       "text": [
        "[{\u03b3\u2081: \u03bb\u2082, \u03b3\u2082: \u03bb\u2082, \u03b3\u2083: \u03bb\u2082, \u03b3\u2084: \u03bb\u2082, \u03bb\u2081: \u03bb\u2082}]"
       ]
      }
     ],
     "prompt_number": 15
    },
    {
     "cell_type": "code",
     "collapsed": false,
     "input": [],
     "language": "python",
     "metadata": {},
     "outputs": []
    }
   ],
   "metadata": {}
  }
 ]
}