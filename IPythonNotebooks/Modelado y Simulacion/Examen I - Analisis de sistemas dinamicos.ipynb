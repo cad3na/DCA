{
 "metadata": {
  "name": "",
  "signature": "sha256:046b09ba6a04bbf8a92b0c5cf91a83ced7e3259d16ffed4eaf0888d3c2b4739b"
 },
 "nbformat": 3,
 "nbformat_minor": 0,
 "worksheets": [
  {
   "cells": [
    {
     "cell_type": "markdown",
     "metadata": {},
     "source": [
      "Si $\\frac{dy}{dt}$ es una recta, entonces tiene la forma:\n",
      "\n",
      "$$\n",
      "y = mx + b\n",
      "$$\n",
      "\n",
      "y como tiene ordenada al origen $0$, $b = 0$:\n",
      "\n",
      "$$\n",
      "y = mx\n",
      "$$\n",
      "\n",
      "aun mas, la pendiente de esa recta es $\\frac{1}{2}$, por lo que la ecuaci\u00f3n queda:\n",
      "\n",
      "$$\n",
      "y = \\frac{1}{2}x\n",
      "$$\n",
      "\n",
      "o escrito de otra manera:\n",
      "\n",
      "$$\n",
      "y = \\frac{1}{2} x\n",
      "$$\n",
      "\n",
      "Si $\\frac{dx}{dt}$ es una parabola, eso quiere decir que tiene la forma:\n",
      "\n",
      "$$\n",
      "\\frac{dx}{dt} = a x^2 + b x + c\n",
      "$$\n",
      "\n",
      "o escrito de otra manera:\n",
      "\n",
      "$$\n",
      "x' = ax^2 + b^x + c\n",
      "$$\n",
      "\n",
      "tambien sabemos que la ecuaci\u00f3n de una parabola vertical se puede escribir como:\n",
      "\n",
      "$$\n",
      "(x-h)^2 = 4 p (y - k)\n",
      "$$\n",
      "\n",
      "en donde el vertice de la parabola est\u00e1 en $(h, k)$ y su distancia focal es $p$.\n",
      "\n",
      "Examinando el problema podemos ver que la distancia focal es $1$ y que el vertice es $(2k, -k^2)$, por lo que podemos escribir la ecuaci\u00f3n de la parabola como:\n",
      "\n",
      "$$\n",
      "(x-2k)^2 = 1 (y + k^2)\n",
      "$$\n",
      "\n",
      "para nuestro sistema es:\n",
      "\n",
      "$$\n",
      "(x-2k)^2 = (y + k^2)\n",
      "$$\n",
      "\n",
      "$$\n",
      "x^2 - 4kx + 4k^2 - k^2 = y \n",
      "$$\n",
      "\n",
      "$$\n",
      "y = x^2 - 4kx + 3 k^2\n",
      "$$\n",
      "\n",
      "Igualando estos dos sistemas obtenemos:\n",
      "\n",
      "$$\n",
      "\\frac{1}{2} x = x^2 - 4k x + 3 k^2\n",
      "$$\n",
      "\n",
      "por lo que:\n",
      "\n",
      "$$\n",
      "x^2 - \\left(4k + \\frac{1}{2}\\right) x + 3 k^2 = 0\n",
      "$$\n",
      "\n",
      "$$\n",
      "x_{1,2} = \\frac{\\left(4k + \\frac{1}{2}\\right) \\pm \\sqrt{\\left(4k + \\frac{1}{2}\\right)^2 - 4 (3 k^2)}}{2}\n",
      "$$\n",
      "\n",
      "$$\n",
      "x_{1,2} = 2k + \\frac{1}{4} \\pm \\frac{1}{2}\\sqrt{4k^2 + 4k +\\frac{1}{4}}\n",
      "$$"
     ]
    },
    {
     "cell_type": "code",
     "collapsed": false,
     "input": [
      "from sympy import var, init_printing, solve\n",
      "init_printing()"
     ],
     "language": "python",
     "metadata": {},
     "outputs": [],
     "prompt_number": 11
    },
    {
     "cell_type": "code",
     "collapsed": false,
     "input": [
      "var(\"x, k\")"
     ],
     "language": "python",
     "metadata": {},
     "outputs": [
      {
       "latex": [
        "$$\\begin{pmatrix}x, & k\\end{pmatrix}$$"
       ],
       "metadata": {},
       "output_type": "pyout",
       "png": "[encoded data removed]",
       "prompt_number": 3,
       "text": [
        "(x, k)"
       ]
      }
     ],
     "prompt_number": 3
    },
    {
     "cell_type": "code",
     "collapsed": false,
     "input": [
      "ec = (x**2 - (4*k + 1.0/2)*x + 3*k**2)"
     ],
     "language": "python",
     "metadata": {},
     "outputs": [],
     "prompt_number": 10
    },
    {
     "cell_type": "code",
     "collapsed": false,
     "input": [
      "sol = solve(ec, x)"
     ],
     "language": "python",
     "metadata": {},
     "outputs": [],
     "prompt_number": 28
    },
    {
     "cell_type": "code",
     "collapsed": false,
     "input": [
      "sol[0]"
     ],
     "language": "python",
     "metadata": {},
     "outputs": [
      {
       "latex": [
        "$$2.0 k - 0.25 \\sqrt{16.0 k^{2} + 16.0 k + 1.0} + 0.25$$"
       ],
       "metadata": {},
       "output_type": "pyout",
       "png": "[encoded data removed]",
       "prompt_number": 29,
       "text": [
        "                ________________________       \n",
        "               \u2571       2                       \n",
        "2.0\u22c5k - 0.25\u22c5\u2572\u2571  16.0\u22c5k  + 16.0\u22c5k + 1.0  + 0.25"
       ]
      }
     ],
     "prompt_number": 29
    },
    {
     "cell_type": "code",
     "collapsed": false,
     "input": [
      "sol[1]"
     ],
     "language": "python",
     "metadata": {},
     "outputs": [
      {
       "latex": [
        "$$2.0 k + 0.25 \\sqrt{16.0 k^{2} + 16.0 k + 1.0} + 0.25$$"
       ],
       "metadata": {},
       "output_type": "pyout",
       "png": "[encoded data removed]",
       "prompt_number": 30,
       "text": [
        "                ________________________       \n",
        "               \u2571       2                       \n",
        "2.0\u22c5k + 0.25\u22c5\u2572\u2571  16.0\u22c5k  + 16.0\u22c5k + 1.0  + 0.25"
       ]
      }
     ],
     "prompt_number": 30
    },
    {
     "cell_type": "code",
     "collapsed": false,
     "input": [
      "from numpy import roots"
     ],
     "language": "python",
     "metadata": {},
     "outputs": [],
     "prompt_number": 13
    },
    {
     "cell_type": "code",
     "collapsed": false,
     "input": [
      "roots([4,4,0.25])"
     ],
     "language": "python",
     "metadata": {},
     "outputs": [
      {
       "metadata": {},
       "output_type": "pyout",
       "prompt_number": 14,
       "text": [
        "array([-0.9330127, -0.0669873])"
       ]
      }
     ],
     "prompt_number": 14
    },
    {
     "cell_type": "code",
     "collapsed": false,
     "input": [
      "sol[0].subs(k, 1)"
     ],
     "language": "python",
     "metadata": {},
     "outputs": [
      {
       "latex": [
        "$$0.813859338365493$$"
       ],
       "metadata": {},
       "output_type": "pyout",
       "png": "[encoded data removed]",
       "prompt_number": 23,
       "text": [
        "0.813859338365493"
       ]
      }
     ],
     "prompt_number": 23
    },
    {
     "cell_type": "code",
     "collapsed": false,
     "input": [
      "sol[1].subs(k, 1)"
     ],
     "language": "python",
     "metadata": {},
     "outputs": [
      {
       "latex": [
        "$$3.68614066163451$$"
       ],
       "metadata": {},
       "output_type": "pyout",
       "png": "[encoded data removed]",
       "prompt_number": 26,
       "text": [
        "3.68614066163451"
       ]
      }
     ],
     "prompt_number": 26
    },
    {
     "cell_type": "code",
     "collapsed": false,
     "input": [
      "sol[0]/2"
     ],
     "language": "python",
     "metadata": {},
     "outputs": [
      {
       "latex": [
        "$$k - 0.125 \\sqrt{16.0 k^{2} + 16.0 k + 1.0} + 0.125$$"
       ],
       "metadata": {},
       "output_type": "pyout",
       "png": "[encoded data removed]",
       "prompt_number": 31,
       "text": [
        "             ________________________        \n",
        "            \u2571       2                        \n",
        "k - 0.125\u22c5\u2572\u2571  16.0\u22c5k  + 16.0\u22c5k + 1.0  + 0.125"
       ]
      }
     ],
     "prompt_number": 31
    },
    {
     "cell_type": "code",
     "collapsed": false,
     "input": [
      "sol[1]/2"
     ],
     "language": "python",
     "metadata": {},
     "outputs": [
      {
       "latex": [
        "$$k + 0.125 \\sqrt{16.0 k^{2} + 16.0 k + 1.0} + 0.125$$"
       ],
       "metadata": {},
       "output_type": "pyout",
       "png": "[encoded data removed]",
       "prompt_number": 32,
       "text": [
        "             ________________________        \n",
        "            \u2571       2                        \n",
        "k + 0.125\u22c5\u2572\u2571  16.0\u22c5k  + 16.0\u22c5k + 1.0  + 0.125"
       ]
      }
     ],
     "prompt_number": 32
    },
    {
     "cell_type": "markdown",
     "metadata": {},
     "source": [
      "Si $\\frac{dy}{dt} = 0$, entonces tenemos $y = \\frac{1}{2} x$.\n",
      "\n",
      "Esto quiere decir que"
     ]
    },
    {
     "cell_type": "code",
     "collapsed": false,
     "input": [],
     "language": "python",
     "metadata": {},
     "outputs": []
    }
   ],
   "metadata": {}
  }
 ]
}