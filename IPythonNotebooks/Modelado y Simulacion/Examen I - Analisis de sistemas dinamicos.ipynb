{
 "metadata": {
  "name": "",
  "signature": "sha256:54a3a9df590ac00d603aa5d291fdbd1be8d94e02777e64f154e8eb83b66d028e"
 },
 "nbformat": 3,
 "nbformat_minor": 0,
 "worksheets": [
  {
   "cells": [
    {
     "cell_type": "markdown",
     "metadata": {},
     "source": [
      "Si $\\frac{dy}{dt}$ es una recta, entonces tiene la forma:\n",
      "\n",
      "$$\n",
      "y = mx + b\n",
      "$$\n",
      "\n",
      "y como tiene ordenada al origen $0$, $b = 0$:\n",
      "\n",
      "$$\n",
      "y = mx\n",
      "$$\n",
      "\n",
      "aun mas, la pendiente de esa recta es $\\frac{1}{2}$, por lo que la ecuaci\u00f3n queda:\n",
      "\n",
      "$$\n",
      "y = \\frac{1}{2}x\n",
      "$$\n",
      "\n",
      "o escrito de otra manera:\n",
      "\n",
      "$$\n",
      "y = \\frac{1}{2} x\n",
      "$$\n",
      "\n",
      "Si $\\frac{dx}{dt}$ es una parabola, eso quiere decir que tiene la forma:\n",
      "\n",
      "$$\n",
      "\\frac{dx}{dt} = a x^2 + b x + c\n",
      "$$\n",
      "\n",
      "o escrito de otra manera:\n",
      "\n",
      "$$\n",
      "x' = ax^2 + b^x + c\n",
      "$$\n",
      "\n",
      "tambien sabemos que la ecuaci\u00f3n de una parabola vertical se puede escribir como:\n",
      "\n",
      "$$\n",
      "(x-h)^2 = 4 p (y - k)\n",
      "$$\n",
      "\n",
      "en donde el vertice de la parabola est\u00e1 en $(h, k)$ y su distancia focal es $p$.\n",
      "\n",
      "Examinando el problema podemos ver que la distancia focal es $1$ y que el vertice es $(2k, -k^2)$, por lo que podemos escribir la ecuaci\u00f3n de la parabola como:\n",
      "\n",
      "$$\n",
      "(x-2k)^2 = 1 (y + k^2)\n",
      "$$\n",
      "\n",
      "para nuestro sistema es:\n",
      "\n",
      "$$\n",
      "(x-2k)^2 = (y + k^2)\n",
      "$$\n",
      "\n",
      "$$\n",
      "x^2 - 4kx + 4k^2 - k^2 = y \n",
      "$$\n",
      "\n",
      "$$\n",
      "y = x^2 - 4kx + 3 k^2\n",
      "$$\n",
      "\n",
      "Igualando estos dos sistemas obtenemos:\n",
      "\n",
      "$$\n",
      "\\frac{1}{2} x = x^2 - 4k x + 3 k^2\n",
      "$$\n",
      "\n",
      "por lo que:\n",
      "\n",
      "$$\n",
      "x^2 - \\left(4k + \\frac{1}{2}\\right) x + 3 k^2 = 0\n",
      "$$\n",
      "\n",
      "$$\n",
      "x_{1,2} = \\frac{\\left(4k + \\frac{1}{2}\\right) \\pm \\sqrt{\\left(4k + \\frac{1}{2}\\right)^2 - 4 (3 k^2)}}{2}\n",
      "$$\n",
      "\n",
      "$$\n",
      "x_{1,2} = 2k + \\frac{1}{4} \\pm \\frac{1}{2}\\sqrt{4k^2 + 4k +\\frac{1}{4}}\n",
      "$$"
     ]
    },
    {
     "cell_type": "code",
     "collapsed": false,
     "input": [
      "from sympy import var, init_printing, solve, Matrix, eye, symbols\n",
      "init_printing()\n",
      "\n",
      "from IPython.html.widgets import interact, fixed\n",
      "from matplotlib.pyplot import plot\n",
      "%matplotlib inline"
     ],
     "language": "python",
     "metadata": {},
     "outputs": [],
     "prompt_number": 47
    },
    {
     "cell_type": "code",
     "collapsed": false,
     "input": [
      "var(\"x, k\")"
     ],
     "language": "python",
     "metadata": {},
     "outputs": [
      {
       "latex": [
        "$$\\begin{pmatrix}x, & k\\end{pmatrix}$$"
       ],
       "metadata": {},
       "output_type": "pyout",
       "png": "[encoded data removed]",
       "prompt_number": 2,
       "text": [
        "(x, k)"
       ]
      }
     ],
     "prompt_number": 2
    },
    {
     "cell_type": "code",
     "collapsed": false,
     "input": [
      "ec = (x**2 - 4*k*x + 3*k**2) - (0.5*x)\n",
      "ec"
     ],
     "language": "python",
     "metadata": {},
     "outputs": [
      {
       "latex": [
        "$$3 k^{2} - 4 k x + x^{2} - 0.5 x$$"
       ],
       "metadata": {},
       "output_type": "pyout",
       "png": "[encoded data removed]",
       "prompt_number": 3,
       "text": [
        "   2            2        \n",
        "3\u22c5k  - 4\u22c5k\u22c5x + x  - 0.5\u22c5x"
       ]
      }
     ],
     "prompt_number": 3
    },
    {
     "cell_type": "code",
     "collapsed": false,
     "input": [
      "sol = solve(ec, x)"
     ],
     "language": "python",
     "metadata": {},
     "outputs": [],
     "prompt_number": 4
    },
    {
     "cell_type": "code",
     "collapsed": false,
     "input": [
      "x1 = sol[0]\n",
      "x1"
     ],
     "language": "python",
     "metadata": {},
     "outputs": [
      {
       "latex": [
        "$$2.0 k - 0.25 \\sqrt{16.0 k^{2} + 16.0 k + 1.0} + 0.25$$"
       ],
       "metadata": {},
       "output_type": "pyout",
       "png": "[encoded data removed]",
       "prompt_number": 5,
       "text": [
        "                ________________________       \n",
        "               \u2571       2                       \n",
        "2.0\u22c5k - 0.25\u22c5\u2572\u2571  16.0\u22c5k  + 16.0\u22c5k + 1.0  + 0.25"
       ]
      }
     ],
     "prompt_number": 5
    },
    {
     "cell_type": "code",
     "collapsed": false,
     "input": [
      "x2 = sol[1]\n",
      "x2"
     ],
     "language": "python",
     "metadata": {},
     "outputs": [
      {
       "latex": [
        "$$2.0 k + 0.25 \\sqrt{16.0 k^{2} + 16.0 k + 1.0} + 0.25$$"
       ],
       "metadata": {},
       "output_type": "pyout",
       "png": "[encoded data removed]",
       "prompt_number": 6,
       "text": [
        "                ________________________       \n",
        "               \u2571       2                       \n",
        "2.0\u22c5k + 0.25\u22c5\u2572\u2571  16.0\u22c5k  + 16.0\u22c5k + 1.0  + 0.25"
       ]
      }
     ],
     "prompt_number": 6
    },
    {
     "cell_type": "code",
     "collapsed": false,
     "input": [
      "y = 0.5*x\n",
      "y"
     ],
     "language": "python",
     "metadata": {},
     "outputs": [
      {
       "latex": [
        "$$0.5 x$$"
       ],
       "metadata": {},
       "output_type": "pyout",
       "png": "[encoded data removed]",
       "prompt_number": 7,
       "text": [
        "0.5\u22c5x"
       ]
      }
     ],
     "prompt_number": 7
    },
    {
     "cell_type": "code",
     "collapsed": false,
     "input": [
      "y1 = y.subs(x, x1)"
     ],
     "language": "python",
     "metadata": {},
     "outputs": [],
     "prompt_number": 8
    },
    {
     "cell_type": "code",
     "collapsed": false,
     "input": [
      "y2 = y.subs(x, x2)"
     ],
     "language": "python",
     "metadata": {},
     "outputs": [],
     "prompt_number": 9
    },
    {
     "cell_type": "code",
     "collapsed": false,
     "input": [
      "x1.subs(k, 1)"
     ],
     "language": "python",
     "metadata": {},
     "outputs": [
      {
       "latex": [
        "$$0.813859338365493$$"
       ],
       "metadata": {},
       "output_type": "pyout",
       "png": "[encoded data removed]",
       "prompt_number": 10,
       "text": [
        "0.813859338365493"
       ]
      }
     ],
     "prompt_number": 10
    },
    {
     "cell_type": "code",
     "collapsed": false,
     "input": [
      "y1.subs(k, 1)"
     ],
     "language": "python",
     "metadata": {},
     "outputs": [
      {
       "latex": [
        "$$0.406929669182746$$"
       ],
       "metadata": {},
       "output_type": "pyout",
       "png": "[encoded data removed]",
       "prompt_number": 11,
       "text": [
        "0.406929669182746"
       ]
      }
     ],
     "prompt_number": 11
    },
    {
     "cell_type": "code",
     "collapsed": false,
     "input": [
      "x2.subs(k, 1)"
     ],
     "language": "python",
     "metadata": {},
     "outputs": [
      {
       "latex": [
        "$$3.68614066163451$$"
       ],
       "metadata": {},
       "output_type": "pyout",
       "png": "[encoded data removed]",
       "prompt_number": 12,
       "text": [
        "3.68614066163451"
       ]
      }
     ],
     "prompt_number": 12
    },
    {
     "cell_type": "code",
     "collapsed": false,
     "input": [
      "y2.subs(k, 1)"
     ],
     "language": "python",
     "metadata": {},
     "outputs": [
      {
       "latex": [
        "$$1.84307033081725$$"
       ],
       "metadata": {},
       "output_type": "pyout",
       "png": "[encoded data removed]",
       "prompt_number": 13,
       "text": [
        "1.84307033081725"
       ]
      }
     ],
     "prompt_number": 13
    },
    {
     "cell_type": "markdown",
     "metadata": {},
     "source": [
      "Si $\\frac{dy}{dt} = 0$, entonces tenemos $y = \\frac{1}{2} x$.\n",
      "\n",
      "Esto quiere decir que:\n",
      "\n",
      "$$\n",
      "y - \\frac{1}{2}x = 0 = \\frac{dy}{dt} = f_2\n",
      "$$\n",
      "\n",
      "De la misma manera para $\\frac{dx}{dt}$:\n",
      "\n",
      "$$\n",
      "y - x^2 + 4kx - 3 k^2 = 0 = \\frac{dx}{dt} = f_1\n",
      "$$"
     ]
    },
    {
     "cell_type": "code",
     "collapsed": false,
     "input": [
      "var(\"y\")"
     ],
     "language": "python",
     "metadata": {},
     "outputs": [
      {
       "latex": [
        "$$y$$"
       ],
       "metadata": {},
       "output_type": "pyout",
       "png": "[encoded data removed]",
       "prompt_number": 14,
       "text": [
        "y"
       ]
      }
     ],
     "prompt_number": 14
    },
    {
     "cell_type": "code",
     "collapsed": false,
     "input": [
      "f1 = y - x**2 + 4*k*x - 3*k**2\n",
      "f1"
     ],
     "language": "python",
     "metadata": {},
     "outputs": [
      {
       "latex": [
        "$$- 3 k^{2} + 4 k x - x^{2} + y$$"
       ],
       "metadata": {},
       "output_type": "pyout",
       "png": "[encoded data removed]",
       "prompt_number": 15,
       "text": [
        "     2            2    \n",
        "- 3\u22c5k  + 4\u22c5k\u22c5x - x  + y"
       ]
      }
     ],
     "prompt_number": 15
    },
    {
     "cell_type": "code",
     "collapsed": false,
     "input": [
      "f2 = y - 0.5*x\n",
      "f2"
     ],
     "language": "python",
     "metadata": {},
     "outputs": [
      {
       "latex": [
        "$$- 0.5 x + y$$"
       ],
       "metadata": {},
       "output_type": "pyout",
       "png": "[encoded data removed]",
       "prompt_number": 16,
       "text": [
        "-0.5\u22c5x + y"
       ]
      }
     ],
     "prompt_number": 16
    },
    {
     "cell_type": "code",
     "collapsed": false,
     "input": [
      "theta = Matrix([[x], [y]])\n",
      "f = Matrix([[f1], [f2]])\n",
      "f"
     ],
     "language": "python",
     "metadata": {},
     "outputs": [
      {
       "latex": [
        "$$\\left[\\begin{matrix}- 3 k^{2} + 4 k x - x^{2} + y\\\\- 0.5 x + y\\end{matrix}\\right]$$"
       ],
       "metadata": {},
       "output_type": "pyout",
       "png": "[encoded data removed]",
       "prompt_number": 17,
       "text": [
        "\u23a1     2            2    \u23a4\n",
        "\u23a2- 3\u22c5k  + 4\u22c5k\u22c5x - x  + y\u23a5\n",
        "\u23a2                       \u23a5\n",
        "\u23a3      -0.5\u22c5x + y       \u23a6"
       ]
      }
     ],
     "prompt_number": 17
    },
    {
     "cell_type": "code",
     "collapsed": false,
     "input": [
      "Jf = f.jacobian(theta)\n",
      "Jf"
     ],
     "language": "python",
     "metadata": {},
     "outputs": [
      {
       "latex": [
        "$$\\left[\\begin{matrix}4 k - 2 x & 1\\\\-0.5 & 1\\end{matrix}\\right]$$"
       ],
       "metadata": {},
       "output_type": "pyout",
       "png": "[encoded data removed]",
       "prompt_number": 18,
       "text": [
        "\u23a14\u22c5k - 2\u22c5x  1\u23a4\n",
        "\u23a2            \u23a5\n",
        "\u23a3  -0.5     1\u23a6"
       ]
      }
     ],
     "prompt_number": 18
    },
    {
     "cell_type": "code",
     "collapsed": false,
     "input": [
      "var(\"s\")"
     ],
     "language": "python",
     "metadata": {},
     "outputs": [
      {
       "latex": [
        "$$s$$"
       ],
       "metadata": {},
       "output_type": "pyout",
       "png": "[encoded data removed]",
       "prompt_number": 19,
       "text": [
        "s"
       ]
      }
     ],
     "prompt_number": 19
    },
    {
     "cell_type": "code",
     "collapsed": false,
     "input": [
      "detsIJf = ((s*eye(2) - Jf).det()).collect(s)\n",
      "detsIJf"
     ],
     "language": "python",
     "metadata": {},
     "outputs": [
      {
       "latex": [
        "$$4 k + s^{2} + s \\left(- 4 k + 2 x - 1\\right) - 2 x + 0.5$$"
       ],
       "metadata": {},
       "output_type": "pyout",
       "png": "[encoded data removed]",
       "prompt_number": 20,
       "text": [
        "       2                                 \n",
        "4\u22c5k + s  + s\u22c5(-4\u22c5k + 2\u22c5x - 1) - 2\u22c5x + 0.5"
       ]
      }
     ],
     "prompt_number": 20
    },
    {
     "cell_type": "code",
     "collapsed": false,
     "input": [
      "solucion1 = (solve(detsIJf, s)[0].subs(x, x1)).simplify()\n",
      "solucion1"
     ],
     "language": "python",
     "metadata": {},
     "outputs": [
      {
       "latex": [
        "$$0.25 \\sqrt{16.0 k^{2} + 16.0 k + 1.0} - 0.5 \\sqrt{4.0 k^{2} + 4.0 k - 1.5 \\sqrt{16.0 k^{2} + 16.0 k + 1.0} + 0.5} + 0.25$$"
       ],
       "metadata": {},
       "output_type": "pyout",
       "png": "[encoded data removed]",
       "prompt_number": 21,
       "text": [
        "                                           ___________________________________\n",
        "        ________________________          \u2571                         __________\n",
        "       \u2571       2                         \u2571       2                 \u2571       2  \n",
        "0.25\u22c5\u2572\u2571  16.0\u22c5k  + 16.0\u22c5k + 1.0  - 0.5\u22c5\u2572\u2571   4.0\u22c5k  + 4.0\u22c5k - 1.5\u22c5\u2572\u2571  16.0\u22c5k  +\n",
        "\n",
        "_____________________       \n",
        "______________              \n",
        "                            \n",
        " 16.0\u22c5k + 1.0  + 0.5  + 0.25"
       ]
      }
     ],
     "prompt_number": 21
    },
    {
     "cell_type": "code",
     "collapsed": false,
     "input": [
      "solucion2 = (solve(detsIJf, s)[1].subs(x, x1)).simplify()\n",
      "solucion2"
     ],
     "language": "python",
     "metadata": {},
     "outputs": [
      {
       "latex": [
        "$$0.25 \\sqrt{16.0 k^{2} + 16.0 k + 1.0} + 0.5 \\sqrt{4.0 k^{2} + 4.0 k - 1.5 \\sqrt{16.0 k^{2} + 16.0 k + 1.0} + 0.5} + 0.25$$"
       ],
       "metadata": {},
       "output_type": "pyout",
       "png": "[encoded data removed]",
       "prompt_number": 22,
       "text": [
        "                                           ___________________________________\n",
        "        ________________________          \u2571                         __________\n",
        "       \u2571       2                         \u2571       2                 \u2571       2  \n",
        "0.25\u22c5\u2572\u2571  16.0\u22c5k  + 16.0\u22c5k + 1.0  + 0.5\u22c5\u2572\u2571   4.0\u22c5k  + 4.0\u22c5k - 1.5\u22c5\u2572\u2571  16.0\u22c5k  +\n",
        "\n",
        "_____________________       \n",
        "______________              \n",
        "                            \n",
        " 16.0\u22c5k + 1.0  + 0.5  + 0.25"
       ]
      }
     ],
     "prompt_number": 22
    },
    {
     "cell_type": "code",
     "collapsed": false,
     "input": [
      "sol1 = solucion1.subs(k, 1)"
     ],
     "language": "python",
     "metadata": {},
     "outputs": [],
     "prompt_number": 36
    },
    {
     "cell_type": "code",
     "collapsed": false,
     "input": [
      "def funcion(ks = 0.25):\n",
      "    sol1 = solucion1.subs(k, ks)\n",
      "    sol2 = solucion2.subs(k, ks)\n",
      "    a1, b1 = sol1.as_real_imag()\n",
      "    a2, b2 = sol2.as_real_imag()\n",
      "    plot([a1, a2], [b1, b2], \"o\")"
     ],
     "language": "python",
     "metadata": {},
     "outputs": [],
     "prompt_number": 54
    },
    {
     "cell_type": "code",
     "collapsed": false,
     "input": [
      "interact(funcion, ks=(0.0, 10.0))"
     ],
     "language": "python",
     "metadata": {},
     "outputs": [
      {
       "metadata": {},
       "output_type": "display_data",
       "png": "[encoded data removed]",
       "text": [
        "<matplotlib.figure.Figure at 0x10acb8ad0>"
       ]
      }
     ],
     "prompt_number": 56
    },
    {
     "cell_type": "code",
     "collapsed": false,
     "input": [
      "a1, b1 = sol1.as_real_imag()"
     ],
     "language": "python",
     "metadata": {},
     "outputs": [],
     "prompt_number": 42
    },
    {
     "cell_type": "code",
     "collapsed": false,
     "input": [
      "plot(a1, b1)"
     ],
     "language": "python",
     "metadata": {},
     "outputs": [
      {
       "metadata": {},
       "output_type": "pyout",
       "prompt_number": 48,
       "text": [
        "[<matplotlib.lines.Line2D at 0x106fb2710>]"
       ]
      },
      {
       "metadata": {},
       "output_type": "display_data",
       "png": "[encoded data removed]",
       "text": [
        "<matplotlib.figure.Figure at 0x10ab3ce50>"
       ]
      }
     ],
     "prompt_number": 48
    },
    {
     "cell_type": "code",
     "collapsed": false,
     "input": [],
     "language": "python",
     "metadata": {},
     "outputs": []
    }
   ],
   "metadata": {}
  }
 ]
}