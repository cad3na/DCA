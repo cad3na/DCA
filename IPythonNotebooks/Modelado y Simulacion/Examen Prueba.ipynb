{
 "metadata": {
  "name": "",
  "signature": "sha256:1dafe62bea438a35e878d78f4aff0c663034eb6a43fee2545eea101fc6498d6b"
 },
 "nbformat": 3,
 "nbformat_minor": 0,
 "worksheets": [
  {
   "cells": [
    {
     "cell_type": "heading",
     "level": 1,
     "metadata": {},
     "source": [
      "Cuestionario"
     ]
    },
    {
     "cell_type": "markdown",
     "metadata": {},
     "source": [
      "\u00bfQu\u00e9 no es un sistema din\u00e1mico?"
     ]
    },
    {
     "cell_type": "markdown",
     "metadata": {},
     "source": []
    },
    {
     "cell_type": "markdown",
     "metadata": {},
     "source": [
      "\u00bfCu\u00e1l es el rol del modelado de sistemas din\u00e1micos en el contexto de la teor\u00eda matem\u00e1tica del control autom\u00e1tico?"
     ]
    },
    {
     "cell_type": "markdown",
     "metadata": {},
     "source": []
    },
    {
     "cell_type": "markdown",
     "metadata": {},
     "source": [
      "\u00bfQu\u00e9 es un modelo matem\u00e1tico de estado de un sistema din\u00e1mico?"
     ]
    },
    {
     "cell_type": "markdown",
     "metadata": {},
     "source": []
    },
    {
     "cell_type": "markdown",
     "metadata": {},
     "source": [
      "\u00bfCu\u00e1l es la diferencia entre un estado y un par\u00e1metro en el modelo matem\u00e1tico de un sistema din\u00e1mico?"
     ]
    },
    {
     "cell_type": "markdown",
     "metadata": {},
     "source": []
    },
    {
     "cell_type": "markdown",
     "metadata": {},
     "source": [
      "\u00bfQu\u00e9 se entiende por \"suficientemente suave\" al hablar de una variable descriptiva de un sistema din\u00e1mico?"
     ]
    },
    {
     "cell_type": "markdown",
     "metadata": {},
     "source": []
    },
    {
     "cell_type": "markdown",
     "metadata": {},
     "source": [
      "\u00bfBajo que condiciones la simulaci\u00f3n es utilizable en el contexto del modelado matem\u00e1tico de sistemas?"
     ]
    },
    {
     "cell_type": "markdown",
     "metadata": {},
     "source": []
    },
    {
     "cell_type": "markdown",
     "metadata": {},
     "source": [
      "\u00bfQu\u00e9 significa que un sistema din\u00e1mico sea complejo?"
     ]
    },
    {
     "cell_type": "markdown",
     "metadata": {},
     "source": []
    },
    {
     "cell_type": "markdown",
     "metadata": {},
     "source": [
      "\u00bfQu\u00e9 se entiende por \"circunstancia de equilibrio\" en el contexto del estudio de sistemas din\u00e1micos?"
     ]
    },
    {
     "cell_type": "markdown",
     "metadata": {},
     "source": []
    },
    {
     "cell_type": "markdown",
     "metadata": {},
     "source": [
      "En terminos de circunstancias de equilibrio \u00bfCuales son las diferencias fundamentales entre modelos matem\u00e1ticos lineales y modelos matem\u00e1ticos no lineales en el contexto continuo determinista?"
     ]
    },
    {
     "cell_type": "markdown",
     "metadata": {},
     "source": []
    },
    {
     "cell_type": "markdown",
     "metadata": {},
     "source": [
      "\u00bfQu\u00e9 suposiciones soportan el an\u00e1lisis de precio de un insumo como consecuencia del equilibrio entre oferta y demanda en el modelo cobweb?"
     ]
    },
    {
     "cell_type": "markdown",
     "metadata": {},
     "source": []
    },
    {
     "cell_type": "heading",
     "level": 1,
     "metadata": {},
     "source": [
      "Ejercicio 1"
     ]
    },
    {
     "cell_type": "markdown",
     "metadata": {},
     "source": [
      "Conseidere la din\u00e1mica de una poblaci\u00f3n de peces descrita por medio del conocido m\u00e9todo de Verhulst:\n",
      "\n",
      "$$\n",
      "\\dot{x}(t) = r x(t) \\left( 1 - \\frac{x(t)}{B} \\right)\n",
      "$$\n",
      "\n",
      "donde $x$ denota la biomasa, y $r$ y $B$ con par\u00e1metros constantes y positivos. Suponga que se desea capturar peces de acuerdo con la ley de captura dada por:\n",
      "\n",
      "$$\n",
      "u(t) = \\alpha x^2(t)\n",
      "$$\n",
      "\n",
      "con $\\alpha$ positiva y constante. Analice las circunstancias de equilibrio del sistema sometido a la pesca y determine las condiciones sobre los parametros que garantizan la fisicalidad del sistema. Tambien obtenga la ecuaci\u00f3n gobernante del sistema sometido a la pesca."
     ]
    },
    {
     "cell_type": "code",
     "collapsed": false,
     "input": [],
     "language": "python",
     "metadata": {},
     "outputs": []
    },
    {
     "cell_type": "heading",
     "level": 1,
     "metadata": {},
     "source": [
      "Ejercicio 2"
     ]
    },
    {
     "cell_type": "markdown",
     "metadata": {},
     "source": [
      "Modifique el modelo Lotka-Volterra para introducir la muerte natural de las presas y de los depredadores por causas del envejecimiento. Justifique el modelo propuesto en t\u00e9rminos anal\u00edticos (circunstancias de equilibrio, fisicalidad, etc.)."
     ]
    },
    {
     "cell_type": "code",
     "collapsed": false,
     "input": [],
     "language": "python",
     "metadata": {},
     "outputs": []
    },
    {
     "cell_type": "heading",
     "level": 1,
     "metadata": {},
     "source": [
      "Ejercicio 3"
     ]
    },
    {
     "cell_type": "markdown",
     "metadata": {},
     "source": [
      "En el modelo cobweb b\u00e1sico suponga din\u00e1mica lineal. Ademas considere que la demanda inicial es igual al triple de la oferta inicial. Si la pendiente de oferta coincide con la pendiente de demanda \u00bfCuanto vale el precio de equilibrio del insumo?"
     ]
    },
    {
     "cell_type": "code",
     "collapsed": false,
     "input": [],
     "language": "python",
     "metadata": {},
     "outputs": []
    }
   ],
   "metadata": {}
  }
 ]
}