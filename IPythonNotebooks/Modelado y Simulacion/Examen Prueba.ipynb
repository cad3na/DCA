{
 "metadata": {
  "name": "",
  "signature": "sha256:8fee2ba9f3fc071caa8f94c56b76bde78d2d5b26d35bcb701f08eb57ede79fa7"
 },
 "nbformat": 3,
 "nbformat_minor": 0,
 "worksheets": [
  {
   "cells": [
    {
     "cell_type": "heading",
     "level": 1,
     "metadata": {},
     "source": [
      "Ejercicio 1"
     ]
    },
    {
     "cell_type": "markdown",
     "metadata": {},
     "source": [
      "Conseidere la din\u00e1mica de una poblaci\u00f3n de peces descrita por medio del conocido m\u00e9todo de Verhulst:\n",
      "\n",
      "$$\n",
      "\\dot{x}(t) = r x(t) \\left( 1 - \\frac{x(t)}{B} \\right)\n",
      "$$\n",
      "\n",
      "donde $x$ denota la biomasa, y $r$ y $B$ con par\u00e1metros constantes y positivos. Suponga que se desea capturar peces de acuerdo con la ley de captura dada por:\n",
      "\n",
      "$$\n",
      "u(t) = \\alpha x^2(t)\n",
      "$$\n",
      "\n",
      "con $\\alpha$ positiva y constante. Analice las circunstancias de equilibrio del sistema sometido a la pesca y determine las condiciones sobre los parametros que garantizan la fisicalidad del sistema. Tambien obtenga la ecuaci\u00f3n gobernante del sistema sometido a la pesca."
     ]
    },
    {
     "cell_type": "code",
     "collapsed": false,
     "input": [],
     "language": "python",
     "metadata": {},
     "outputs": []
    },
    {
     "cell_type": "heading",
     "level": 1,
     "metadata": {},
     "source": [
      "Ejercicio 2"
     ]
    },
    {
     "cell_type": "markdown",
     "metadata": {},
     "source": [
      "Modifique el modelo Lotka-Volterra para introducir la muerte natural de las presas y de los depredadores por causas del envejecimiento. Justifique el modelo propuesto en t\u00e9rminos anal\u00edticos (circunstancias de equilibrio, fisicalidad, etc.)."
     ]
    },
    {
     "cell_type": "code",
     "collapsed": false,
     "input": [],
     "language": "python",
     "metadata": {},
     "outputs": []
    },
    {
     "cell_type": "heading",
     "level": 1,
     "metadata": {},
     "source": [
      "Ejercicio 3"
     ]
    },
    {
     "cell_type": "markdown",
     "metadata": {},
     "source": [
      "En el modelo cobweb b\u00e1sico suponga din\u00e1mica lineal. Ademas considere que la demanda inicial es igual al triple de la oferta inicial. Si la pendiente de oferta coincide con la pendiente de demanda \u00bfCuanto vale el precio de equilibrio del insumo?"
     ]
    },
    {
     "cell_type": "code",
     "collapsed": false,
     "input": [],
     "language": "python",
     "metadata": {},
     "outputs": []
    }
   ],
   "metadata": {}
  }
 ]
}