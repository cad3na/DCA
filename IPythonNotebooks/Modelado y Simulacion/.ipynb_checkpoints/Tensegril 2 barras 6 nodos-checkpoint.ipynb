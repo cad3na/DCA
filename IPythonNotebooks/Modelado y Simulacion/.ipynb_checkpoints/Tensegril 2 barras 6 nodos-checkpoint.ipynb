{
 "metadata": {
  "name": "",
  "signature": "sha256:3574c1fc85bf0dca2fc46b7a31fe7dd01ff4094bb13a99f4fa0e1d0b4645bae1"
 },
 "nbformat": 3,
 "nbformat_minor": 0,
 "worksheets": [
  {
   "cells": [
    {
     "cell_type": "code",
     "collapsed": false,
     "input": [
      "from sympy import init_printing, var, Matrix"
     ],
     "language": "python",
     "metadata": {},
     "outputs": [],
     "prompt_number": 3
    },
    {
     "cell_type": "code",
     "collapsed": false,
     "input": [
      "init_printing()"
     ],
     "language": "python",
     "metadata": {},
     "outputs": [],
     "prompt_number": 2
    },
    {
     "cell_type": "code",
     "collapsed": false,
     "input": [
      "var(\"lambda:2\")\n",
      "var(\"gamma:4\")"
     ],
     "language": "python",
     "metadata": {},
     "outputs": [
      {
       "latex": [
        "$$\\begin{pmatrix}\\gamma_{0}, & \\gamma_{1}, & \\gamma_{2}, & \\gamma_{3}\\end{pmatrix}$$"
       ],
       "metadata": {},
       "output_type": "pyout",
       "png": "[encoded data removed]",
       "prompt_number": 7,
       "text": [
        "(\u03b3\u2080, \u03b3\u2081, \u03b3\u2082, \u03b3\u2083)"
       ]
      }
     ],
     "prompt_number": 7
    },
    {
     "cell_type": "code",
     "collapsed": false,
     "input": [
      "b1 = Matrix([-2, 0])\n",
      "b2 = Matrix([0, -2])\n",
      "\n",
      "B = b1.row_join(b2)"
     ],
     "language": "python",
     "metadata": {},
     "outputs": [],
     "prompt_number": 20
    },
    {
     "cell_type": "code",
     "collapsed": false,
     "input": [
      "Lambda = Matrix([[lambda0, 0], [0, lambda1]])\n",
      "Lambda"
     ],
     "language": "python",
     "metadata": {},
     "outputs": [
      {
       "latex": [
        "$$\\left[\\begin{matrix}\\lambda_{0} & 0\\\\0 & \\lambda_{1}\\end{matrix}\\right]$$"
       ],
       "metadata": {},
       "output_type": "pyout",
       "png": "[encoded data removed]",
       "prompt_number": 24,
       "text": [
        "\u23a1\u03bb\u2080  0 \u23a4\n",
        "\u23a2      \u23a5\n",
        "\u23a30   \u03bb\u2081\u23a6"
       ]
      }
     ],
     "prompt_number": 24
    },
    {
     "cell_type": "code",
     "collapsed": false,
     "input": [
      "-B*Lambda"
     ],
     "language": "python",
     "metadata": {},
     "outputs": [
      {
       "latex": [
        "$$\\left[\\begin{matrix}2 \\lambda_{0} & 0\\\\0 & 2 \\lambda_{1}\\end{matrix}\\right]$$"
       ],
       "metadata": {},
       "output_type": "pyout",
       "png": "[encoded data removed]",
       "prompt_number": 23,
       "text": [
        "\u23a12\u22c5\u03bb\u2080   0  \u23a4\n",
        "\u23a2          \u23a5\n",
        "\u23a3 0    2\u22c5\u03bb\u2081\u23a6"
       ]
      }
     ],
     "prompt_number": 23
    },
    {
     "cell_type": "code",
     "collapsed": false,
     "input": [
      "s1 = Matrix([-1, 1])\n",
      "s2 = Matrix([-1, -1])\n",
      "s3 = Matrix([1, -1])\n",
      "s4 = Matrix([1, 1])\n",
      "S = ((s1.row_join(s2)).row_join(s3)).row_join(s4)"
     ],
     "language": "python",
     "metadata": {},
     "outputs": [],
     "prompt_number": 35
    },
    {
     "cell_type": "code",
     "collapsed": false,
     "input": [
      "Gamma = Matrix([[gamma1, 0, 0, 0], [0, gamma2, 0, 0], [0, 0, gamma3, 0], [0, 0, 0, gamma4]])\n",
      "Gamma"
     ],
     "language": "python",
     "metadata": {},
     "outputs": [
      {
       "latex": [
        "$$\\left[\\begin{matrix}\\gamma_{1} & 0 & 0 & 0\\\\0 & \\gamma_{2} & 0 & 0\\\\0 & 0 & \\gamma_{3} & 0\\\\0 & 0 & 0 & \\gamma_{4}\\end{matrix}\\right]$$"
       ],
       "metadata": {},
       "output_type": "pyout",
       "png": "[encoded data removed]",
       "prompt_number": 25,
       "text": [
        "\u23a1\u03b3\u2081  0   0   0 \u23a4\n",
        "\u23a2              \u23a5\n",
        "\u23a20   \u03b3\u2082  0   0 \u23a5\n",
        "\u23a2              \u23a5\n",
        "\u23a20   0   \u03b3\u2083  0 \u23a5\n",
        "\u23a2              \u23a5\n",
        "\u23a30   0   0   \u03b3\u2084\u23a6"
       ]
      }
     ],
     "prompt_number": 25
    },
    {
     "cell_type": "code",
     "collapsed": false,
     "input": [
      "S*Gamma"
     ],
     "language": "python",
     "metadata": {},
     "outputs": [
      {
       "latex": [
        "$$\\left[\\begin{matrix}- \\gamma_{1} & - \\gamma_{2} & \\gamma_{3} & \\gamma_{4}\\\\\\gamma_{1} & - \\gamma_{2} & - \\gamma_{3} & \\gamma_{4}\\end{matrix}\\right]$$"
       ],
       "metadata": {},
       "output_type": "pyout",
       "png": "[encoded data removed]",
       "prompt_number": 37,
       "text": [
        "\u23a1-\u03b3\u2081  -\u03b3\u2082  \u03b3\u2083   \u03b3\u2084\u23a4\n",
        "\u23a2                 \u23a5\n",
        "\u23a3\u03b3\u2081   -\u03b3\u2082  -\u03b3\u2083  \u03b3\u2084\u23a6"
       ]
      }
     ],
     "prompt_number": 37
    },
    {
     "cell_type": "code",
     "collapsed": false,
     "input": [],
     "language": "python",
     "metadata": {},
     "outputs": []
    }
   ],
   "metadata": {}
  }
 ]
}