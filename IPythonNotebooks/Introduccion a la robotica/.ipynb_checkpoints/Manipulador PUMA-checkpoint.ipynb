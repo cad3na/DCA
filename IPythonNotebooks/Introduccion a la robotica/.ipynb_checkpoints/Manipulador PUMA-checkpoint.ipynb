{
 "cells": [
  {
   "cell_type": "code",
   "execution_count": 1,
   "metadata": {
    "collapsed": false
   },
   "outputs": [
    {
     "data": {
      "text/html": [
       "<link href='http://fonts.googleapis.com/css?family=Inconsolata' rel='stylesheet' type='text/css'>\n",
       "<link href='http://fonts.googleapis.com/css?family=EB+Garamond' rel='stylesheet' type='text/css'>\n",
       "<link href='http://fonts.googleapis.com/css?family=Lato:100,100italic' rel='stylesheet' type='text/css'>\n",
       "\n",
       "<style>\n",
       "\t@font-face{\n",
       "   \t\tfont-family: \"Computer Modern\";\n",
       "        \tsrc: url('http://mirrors.ctan.org/fonts/cm-unicode/fonts/otf/cmunss.otf');}\n",
       "        \n",
       "\th1 {\n",
       "        \tfont-family: 'Lato', sans-serif;}\n",
       "        \n",
       "\th2 {\n",
       "        \tfont-family: 'Lato', serif;}\n",
       "        \n",
       "\th3{\n",
       "\t\tfont-family:   'Lato', serif;\n",
       "        \tmargin-top:    12px;\n",
       "\t\tmargin-bottom: 3px;}\n",
       "        \n",
       "        h4{\n",
       "\t\tfont-family: 'Lato', serif;}\n",
       "\t\n",
       "\th5 {\n",
       "        \tfont-family: 'Lato', serif;}\n",
       "    \n",
       "\tdiv.text_cell_render{\n",
       "        \tfont-family:  'EB Garamond', 'Computer Modern', 'Helvetica Neue', Arial, Helvetica, Geneva, sans-serif;\n",
       "\t        line-height:  140%;\n",
       "\t        font-size:    14pt;}\n",
       "        \n",
       "\t.CodeMirror{\n",
       "        \tfont-family: 'Inconsolata';}\n",
       "    \n",
       "\t.text_cell_render h1 {\n",
       "\t        font-weight:   100;\n",
       "\t        font-size:     50pt;\n",
       "\t\tline-height:   100%;\n",
       "\t        color:         #CD2305;\n",
       "\t        margin-bottom: 0.5em;\n",
       "\t        margin-top:    0.5em;\n",
       "\t        display:       block;}\n",
       "        \n",
       "\t.text_cell_render h2 {\n",
       "        \tfont-weight:   100;\n",
       "        \tfont-size:     30pt;}\n",
       "        \n",
       "\t.text_cell_render h3 {\n",
       "        \tfont-weight:   100;\n",
       "        \tfont-size:     20pt;}\n",
       "        \n",
       "\t.text_cell_render h4 {\n",
       "        \tfont-weight:   100;\n",
       "        \tfont-size:     16pt;}\n",
       "        \n",
       "\t.text_cell_render h5 {\n",
       "\t        font-weight:   100;\n",
       "\t        font-size:     16pt;\n",
       "\t        color:         #CD2305;\n",
       "\t        font-style:    italic;\n",
       "\t        margin-bottom: 0.5em;\n",
       "\t        margin-top:    0.5em;\n",
       "\t        display:       block;}\n",
       "        \n",
       "\t.text_cell_render h6 {\n",
       "\t        font-weight:   100;\n",
       "\t        font-size:     14pt;\n",
       "\t        color:         #CD2305;\n",
       "\t        font-style:    italic;\n",
       "\t        margin-bottom: 0.5em;\n",
       "\t        margin-top:    0.5em;\n",
       "\t        display:       block;}\n",
       "    \n",
       "\t.warning{\n",
       "\t    \tbackground-color: #fcf2f2;\n",
       "\t    \tborder-color: #dFb5b4;\n",
       "\t    \tborder-left: 5px solid #dfb5b4;\n",
       "\t    \tpadding: 0.5em;}\n",
       "</style>\n",
       "\n",
       "<script>\n",
       "\tMathJax.Hub.Config({\n",
       "        \tTeX:{extensions: [\"AMSmath.js\"]},\n",
       "\n",
       "        \tjax: [\"input/TeX\",\"output/SVG\"],\n",
       "        \tSVG: {\n",
       "        \t\tscale: 120,\n",
       "        \t\tfont: 'Gyre-Pagella'}\n",
       "        });\n",
       "</script>"
      ]
     },
     "metadata": {},
     "output_type": "display_data"
    }
   ],
   "source": [
    "from IPython.core.display import display_html\n",
    "from urllib.request import urlopen\n",
    "\n",
    "display_html(urlopen('http://bit.ly/1HflmO9').read(), raw=True)"
   ]
  },
  {
   "cell_type": "markdown",
   "metadata": {},
   "source": [
    "# Ejercicio"
   ]
  },
  {
   "cell_type": "markdown",
   "metadata": {},
   "source": [
    "## Manipulador PUMA"
   ]
  },
  {
   "cell_type": "code",
   "execution_count": 62,
   "metadata": {
    "collapsed": false
   },
   "outputs": [],
   "source": [
    "from sympy import var, sin, cos, Matrix, Integer, eye, Function, Rational, exp, Symbol, I, solve, pi, trigsimp, MatrixSymbol\n",
    "from sympy.physics.mechanics import mechanics_printing\n",
    "mechanics_printing()"
   ]
  },
  {
   "cell_type": "code",
   "execution_count": 3,
   "metadata": {
    "collapsed": false
   },
   "outputs": [
    {
     "data": {
      "image/png": "[encoded data removed]",
      "text/latex": [
       "$$\\left ( q_{0}, \\quad q_{1}, \\quad q_{2}, \\quad q_{3}\\right )$$"
      ],
      "text/plain": [
       "(q₀, q₁, q₂, q₃)"
      ]
     },
     "execution_count": 3,
     "metadata": {},
     "output_type": "execute_result"
    }
   ],
   "source": [
    "var(\"q:4\")"
   ]
  },
  {
   "cell_type": "code",
   "execution_count": 4,
   "metadata": {
    "collapsed": false
   },
   "outputs": [
    {
     "data": {
      "image/png": "[encoded data removed]",
      "text/latex": [
       "$$\\left ( l_{0}, \\quad l_{1}, \\quad l_{2}, \\quad l_{3}\\right )$$"
      ],
      "text/plain": [
       "(l₀, l₁, l₂, l₃)"
      ]
     },
     "execution_count": 4,
     "metadata": {},
     "output_type": "execute_result"
    }
   ],
   "source": [
    "var(\"l:4\")"
   ]
  },
  {
   "cell_type": "code",
   "execution_count": 22,
   "metadata": {
    "collapsed": false
   },
   "outputs": [],
   "source": [
    "lc1 = Symbol(\"l_{c_1}\")\n",
    "lc2 = Symbol(\"l_{c_2}\")\n",
    "lc3 = Symbol(\"l_{c_3}\")"
   ]
  },
  {
   "cell_type": "code",
   "execution_count": 5,
   "metadata": {
    "collapsed": true
   },
   "outputs": [],
   "source": [
    "def denavit_hartenberg_general(a, d, α, θ, mat, sin, cos):\n",
    "    Ai = mat([[cos(θ), -sin(θ)*cos(α), sin(θ)*sin(α), a*cos(θ)],\n",
    "              [sin(θ), cos(θ)*cos(α), -cos(θ)*sin(α), a*sin(θ)],\n",
    "              [0, sin(α), cos(α), d],\n",
    "              [0, 0, 0, 1]])\n",
    "    return Ai"
   ]
  },
  {
   "cell_type": "code",
   "execution_count": 23,
   "metadata": {
    "collapsed": false
   },
   "outputs": [
    {
     "data": {
      "image/png": "[encoded data removed]",
      "text/latex": [
       "$$\\left[\\begin{matrix}\\operatorname{cos}\\left(q_{1}\\right) & 0 & - \\operatorname{sin}\\left(q_{1}\\right) & 0\\\\\\operatorname{sin}\\left(q_{1}\\right) & 0 & \\operatorname{cos}\\left(q_{1}\\right) & 0\\\\0 & -1 & 0 & l_{1}\\\\0 & 0 & 0 & 1\\end{matrix}\\right]$$"
      ],
      "text/plain": [
       "⎡cos(q₁)  0   -sin(q₁)  0 ⎤\n",
       "⎢                         ⎥\n",
       "⎢sin(q₁)  0   cos(q₁)   0 ⎥\n",
       "⎢                         ⎥\n",
       "⎢   0     -1     0      l₁⎥\n",
       "⎢                         ⎥\n",
       "⎣   0     0      0      1 ⎦"
      ]
     },
     "execution_count": 23,
     "metadata": {},
     "output_type": "execute_result"
    }
   ],
   "source": [
    "A1 = denavit_hartenberg_general(0, l1, -pi/2, q1, Matrix, sin, cos)\n",
    "Ac1 = denavit_hartenberg_general(0, lc1, -pi/2, q1, Matrix, sin, cos)\n",
    "A1"
   ]
  },
  {
   "cell_type": "code",
   "execution_count": 24,
   "metadata": {
    "collapsed": false
   },
   "outputs": [
    {
     "data": {
      "image/png": "[encoded data removed]",
      "text/latex": [
       "$$\\left[\\begin{matrix}\\operatorname{cos}\\left(q_{2}\\right) & - \\operatorname{sin}\\left(q_{2}\\right) & 0 & l_{2} \\operatorname{cos}\\left(q_{2}\\right)\\\\\\operatorname{sin}\\left(q_{2}\\right) & \\operatorname{cos}\\left(q_{2}\\right) & 0 & l_{2} \\operatorname{sin}\\left(q_{2}\\right)\\\\0 & 0 & 1 & 0\\\\0 & 0 & 0 & 1\\end{matrix}\\right]$$"
      ],
      "text/plain": [
       "⎡cos(q₂)  -sin(q₂)  0  l₂⋅cos(q₂)⎤\n",
       "⎢                                ⎥\n",
       "⎢sin(q₂)  cos(q₂)   0  l₂⋅sin(q₂)⎥\n",
       "⎢                                ⎥\n",
       "⎢   0        0      1      0     ⎥\n",
       "⎢                                ⎥\n",
       "⎣   0        0      0      1     ⎦"
      ]
     },
     "execution_count": 24,
     "metadata": {},
     "output_type": "execute_result"
    }
   ],
   "source": [
    "A2 = denavit_hartenberg_general(l2, 0, 0, q2, Matrix, sin, cos)\n",
    "Ac2 = denavit_hartenberg_general(lc2, 0, 0, q2, Matrix, sin, cos)\n",
    "A2"
   ]
  },
  {
   "cell_type": "code",
   "execution_count": 25,
   "metadata": {
    "collapsed": false
   },
   "outputs": [
    {
     "data": {
      "image/png": "[encoded data removed]",
      "text/latex": [
       "$$\\left[\\begin{matrix}\\operatorname{cos}\\left(q_{3}\\right) & - \\operatorname{sin}\\left(q_{3}\\right) & 0 & l_{3} \\operatorname{cos}\\left(q_{3}\\right)\\\\\\operatorname{sin}\\left(q_{3}\\right) & \\operatorname{cos}\\left(q_{3}\\right) & 0 & l_{3} \\operatorname{sin}\\left(q_{3}\\right)\\\\0 & 0 & 1 & 0\\\\0 & 0 & 0 & 1\\end{matrix}\\right]$$"
      ],
      "text/plain": [
       "⎡cos(q₃)  -sin(q₃)  0  l₃⋅cos(q₃)⎤\n",
       "⎢                                ⎥\n",
       "⎢sin(q₃)  cos(q₃)   0  l₃⋅sin(q₃)⎥\n",
       "⎢                                ⎥\n",
       "⎢   0        0      1      0     ⎥\n",
       "⎢                                ⎥\n",
       "⎣   0        0      0      1     ⎦"
      ]
     },
     "execution_count": 25,
     "metadata": {},
     "output_type": "execute_result"
    }
   ],
   "source": [
    "A3 = denavit_hartenberg_general(l3, 0, 0, q3, Matrix, sin, cos)\n",
    "Ac3 = denavit_hartenberg_general(lc3, 0, 0, q3, Matrix, sin, cos)\n",
    "A3"
   ]
  },
  {
   "cell_type": "code",
   "execution_count": 9,
   "metadata": {
    "collapsed": true
   },
   "outputs": [],
   "source": [
    "T01 = A1\n",
    "T02 = T01*A2\n",
    "T03 = trigsimp(T02*A3)"
   ]
  },
  {
   "cell_type": "code",
   "execution_count": 10,
   "metadata": {
    "collapsed": false
   },
   "outputs": [
    {
     "data": {
      "image/png": "[encoded data removed]",
      "text/latex": [
       "$$\\left[\\begin{matrix}\\operatorname{cos}\\left(q_{1}\\right) \\operatorname{cos}\\left(q_{2}\\right) & - \\operatorname{sin}\\left(q_{2}\\right) \\operatorname{cos}\\left(q_{1}\\right) & - \\operatorname{sin}\\left(q_{1}\\right) & l_{2} \\operatorname{cos}\\left(q_{1}\\right) \\operatorname{cos}\\left(q_{2}\\right)\\\\\\operatorname{sin}\\left(q_{1}\\right) \\operatorname{cos}\\left(q_{2}\\right) & - \\operatorname{sin}\\left(q_{1}\\right) \\operatorname{sin}\\left(q_{2}\\right) & \\operatorname{cos}\\left(q_{1}\\right) & l_{2} \\operatorname{sin}\\left(q_{1}\\right) \\operatorname{cos}\\left(q_{2}\\right)\\\\- \\operatorname{sin}\\left(q_{2}\\right) & - \\operatorname{cos}\\left(q_{2}\\right) & 0 & l_{1} - l_{2} \\operatorname{sin}\\left(q_{2}\\right)\\\\0 & 0 & 0 & 1\\end{matrix}\\right]$$"
      ],
      "text/plain": [
       "⎡cos(q₁)⋅cos(q₂)  -sin(q₂)⋅cos(q₁)  -sin(q₁)  l₂⋅cos(q₁)⋅cos(q₂)⎤\n",
       "⎢                                                               ⎥\n",
       "⎢sin(q₁)⋅cos(q₂)  -sin(q₁)⋅sin(q₂)  cos(q₁)   l₂⋅sin(q₁)⋅cos(q₂)⎥\n",
       "⎢                                                               ⎥\n",
       "⎢   -sin(q₂)          -cos(q₂)         0       l₁ - l₂⋅sin(q₂)  ⎥\n",
       "⎢                                                               ⎥\n",
       "⎣       0                0             0              1         ⎦"
      ]
     },
     "execution_count": 10,
     "metadata": {},
     "output_type": "execute_result"
    }
   ],
   "source": [
    "T02"
   ]
  },
  {
   "cell_type": "code",
   "execution_count": 11,
   "metadata": {
    "collapsed": false
   },
   "outputs": [
    {
     "data": {
      "image/png": "[encoded data removed]",
      "text/latex": [
       "$$\\left[\\begin{matrix}\\operatorname{cos}\\left(q_{1}\\right) \\operatorname{cos}\\left(q_{2} + q_{3}\\right) & - \\operatorname{sin}\\left(q_{2} + q_{3}\\right) \\operatorname{cos}\\left(q_{1}\\right) & - \\operatorname{sin}\\left(q_{1}\\right) & \\left(l_{2} \\operatorname{cos}\\left(q_{2}\\right) + l_{3} \\operatorname{cos}\\left(q_{2} + q_{3}\\right)\\right) \\operatorname{cos}\\left(q_{1}\\right)\\\\\\operatorname{sin}\\left(q_{1}\\right) \\operatorname{cos}\\left(q_{2} + q_{3}\\right) & - \\operatorname{sin}\\left(q_{1}\\right) \\operatorname{sin}\\left(q_{2} + q_{3}\\right) & \\operatorname{cos}\\left(q_{1}\\right) & \\left(l_{2} \\operatorname{cos}\\left(q_{2}\\right) + l_{3} \\operatorname{cos}\\left(q_{2} + q_{3}\\right)\\right) \\operatorname{sin}\\left(q_{1}\\right)\\\\- \\operatorname{sin}\\left(q_{2} + q_{3}\\right) & - \\operatorname{cos}\\left(q_{2} + q_{3}\\right) & 0 & l_{1} - l_{2} \\operatorname{sin}\\left(q_{2}\\right) - l_{3} \\operatorname{sin}\\left(q_{2} + q_{3}\\right)\\\\0 & 0 & 0 & 1\\end{matrix}\\right]$$"
      ],
      "text/plain": [
       "⎡cos(q₁)⋅cos(q₂ + q₃)  -sin(q₂ + q₃)⋅cos(q₁)  -sin(q₁)  (l₂⋅cos(q₂) + l₃⋅cos(q\n",
       "⎢                                                                             \n",
       "⎢sin(q₁)⋅cos(q₂ + q₃)  -sin(q₁)⋅sin(q₂ + q₃)  cos(q₁)   (l₂⋅cos(q₂) + l₃⋅cos(q\n",
       "⎢                                                                             \n",
       "⎢   -sin(q₂ + q₃)          -cos(q₂ + q₃)         0        l₁ - l₂⋅sin(q₂) - l₃\n",
       "⎢                                                                             \n",
       "⎣         0                      0               0                        1   \n",
       "\n",
       "₂ + q₃))⋅cos(q₁)⎤\n",
       "                ⎥\n",
       "₂ + q₃))⋅sin(q₁)⎥\n",
       "                ⎥\n",
       "⋅sin(q₂ + q₃)   ⎥\n",
       "                ⎥\n",
       "                ⎦"
      ]
     },
     "execution_count": 11,
     "metadata": {},
     "output_type": "execute_result"
    }
   ],
   "source": [
    "T03"
   ]
  },
  {
   "cell_type": "code",
   "execution_count": 12,
   "metadata": {
    "collapsed": false
   },
   "outputs": [],
   "source": [
    "o0 = Matrix([[0], [0], [0]])\n",
    "o1 = T01[:3, 3]\n",
    "o2 = T02[:3, 3]\n",
    "o3 = T03[:3, 3]"
   ]
  },
  {
   "cell_type": "code",
   "execution_count": 13,
   "metadata": {
    "collapsed": false
   },
   "outputs": [
    {
     "data": {
      "image/png": "[encoded data removed]",
      "text/latex": [
       "$$\\left[\\begin{matrix}0\\\\0\\\\l_{1}\\end{matrix}\\right]$$"
      ],
      "text/plain": [
       "⎡0 ⎤\n",
       "⎢  ⎥\n",
       "⎢0 ⎥\n",
       "⎢  ⎥\n",
       "⎣l₁⎦"
      ]
     },
     "execution_count": 13,
     "metadata": {},
     "output_type": "execute_result"
    }
   ],
   "source": [
    "o1"
   ]
  },
  {
   "cell_type": "code",
   "execution_count": 14,
   "metadata": {
    "collapsed": false
   },
   "outputs": [
    {
     "data": {
      "image/png": "[encoded data removed]",
      "text/latex": [
       "$$\\left[\\begin{matrix}l_{2} \\operatorname{cos}\\left(q_{1}\\right) \\operatorname{cos}\\left(q_{2}\\right)\\\\l_{2} \\operatorname{sin}\\left(q_{1}\\right) \\operatorname{cos}\\left(q_{2}\\right)\\\\l_{1} - l_{2} \\operatorname{sin}\\left(q_{2}\\right)\\end{matrix}\\right]$$"
      ],
      "text/plain": [
       "⎡l₂⋅cos(q₁)⋅cos(q₂)⎤\n",
       "⎢                  ⎥\n",
       "⎢l₂⋅sin(q₁)⋅cos(q₂)⎥\n",
       "⎢                  ⎥\n",
       "⎣ l₁ - l₂⋅sin(q₂)  ⎦"
      ]
     },
     "execution_count": 14,
     "metadata": {},
     "output_type": "execute_result"
    }
   ],
   "source": [
    "o2"
   ]
  },
  {
   "cell_type": "code",
   "execution_count": 15,
   "metadata": {
    "collapsed": false
   },
   "outputs": [
    {
     "data": {
      "image/png": "[encoded data removed]",
      "text/latex": [
       "$$\\left[\\begin{matrix}\\left(l_{2} \\operatorname{cos}\\left(q_{2}\\right) + l_{3} \\operatorname{cos}\\left(q_{2} + q_{3}\\right)\\right) \\operatorname{cos}\\left(q_{1}\\right)\\\\\\left(l_{2} \\operatorname{cos}\\left(q_{2}\\right) + l_{3} \\operatorname{cos}\\left(q_{2} + q_{3}\\right)\\right) \\operatorname{sin}\\left(q_{1}\\right)\\\\l_{1} - l_{2} \\operatorname{sin}\\left(q_{2}\\right) - l_{3} \\operatorname{sin}\\left(q_{2} + q_{3}\\right)\\end{matrix}\\right]$$"
      ],
      "text/plain": [
       "⎡(l₂⋅cos(q₂) + l₃⋅cos(q₂ + q₃))⋅cos(q₁)⎤\n",
       "⎢                                      ⎥\n",
       "⎢(l₂⋅cos(q₂) + l₃⋅cos(q₂ + q₃))⋅sin(q₁)⎥\n",
       "⎢                                      ⎥\n",
       "⎣  l₁ - l₂⋅sin(q₂) - l₃⋅sin(q₂ + q₃)   ⎦"
      ]
     },
     "execution_count": 15,
     "metadata": {},
     "output_type": "execute_result"
    }
   ],
   "source": [
    "o3"
   ]
  },
  {
   "cell_type": "code",
   "execution_count": 16,
   "metadata": {
    "collapsed": false
   },
   "outputs": [],
   "source": [
    "z0 = Matrix([[0], [0], [1]])\n",
    "z1 = T01[:3, 2]\n",
    "z2 = T02[:3, 2]"
   ]
  },
  {
   "cell_type": "code",
   "execution_count": 17,
   "metadata": {
    "collapsed": false
   },
   "outputs": [
    {
     "data": {
      "image/png": "[encoded data removed]",
      "text/latex": [
       "$$\\left[\\begin{matrix}- \\left(l_{2} \\operatorname{cos}\\left(q_{2}\\right) + l_{3} \\operatorname{cos}\\left(q_{2} + q_{3}\\right)\\right) \\operatorname{sin}\\left(q_{1}\\right)\\\\\\left(l_{2} \\operatorname{cos}\\left(q_{2}\\right) + l_{3} \\operatorname{cos}\\left(q_{2} + q_{3}\\right)\\right) \\operatorname{cos}\\left(q_{1}\\right)\\\\0\\\\0\\\\0\\\\1\\end{matrix}\\right]$$"
      ],
      "text/plain": [
       "⎡-(l₂⋅cos(q₂) + l₃⋅cos(q₂ + q₃))⋅sin(q₁)⎤\n",
       "⎢                                       ⎥\n",
       "⎢(l₂⋅cos(q₂) + l₃⋅cos(q₂ + q₃))⋅cos(q₁) ⎥\n",
       "⎢                                       ⎥\n",
       "⎢                   0                   ⎥\n",
       "⎢                                       ⎥\n",
       "⎢                   0                   ⎥\n",
       "⎢                                       ⎥\n",
       "⎢                   0                   ⎥\n",
       "⎢                                       ⎥\n",
       "⎣                   1                   ⎦"
      ]
     },
     "execution_count": 17,
     "metadata": {},
     "output_type": "execute_result"
    }
   ],
   "source": [
    "J1 = z0.cross(o3 - o0).col_join(z0)\n",
    "J1"
   ]
  },
  {
   "cell_type": "code",
   "execution_count": 18,
   "metadata": {
    "collapsed": false
   },
   "outputs": [
    {
     "data": {
      "image/png": "[encoded data removed]",
      "text/latex": [
       "$$\\left[\\begin{matrix}- \\left(l_{2} \\operatorname{sin}\\left(q_{2}\\right) + l_{3} \\operatorname{sin}\\left(q_{2} + q_{3}\\right)\\right) \\operatorname{cos}\\left(q_{1}\\right)\\\\- \\left(l_{2} \\operatorname{sin}\\left(q_{2}\\right) + l_{3} \\operatorname{sin}\\left(q_{2} + q_{3}\\right)\\right) \\operatorname{sin}\\left(q_{1}\\right)\\\\- l_{2} \\operatorname{cos}\\left(q_{2}\\right) + l_{3} \\operatorname{cos}\\left(q_{2} + q_{3}\\right)\\\\- \\operatorname{sin}\\left(q_{1}\\right)\\\\\\operatorname{cos}\\left(q_{1}\\right)\\\\0\\end{matrix}\\right]$$"
      ],
      "text/plain": [
       "⎡-(l₂⋅sin(q₂) + l₃⋅sin(q₂ + q₃))⋅cos(q₁)⎤\n",
       "⎢                                       ⎥\n",
       "⎢-(l₂⋅sin(q₂) + l₃⋅sin(q₂ + q₃))⋅sin(q₁)⎥\n",
       "⎢                                       ⎥\n",
       "⎢    -(l₂⋅cos(q₂) + l₃⋅cos(q₂ + q₃))    ⎥\n",
       "⎢                                       ⎥\n",
       "⎢               -sin(q₁)                ⎥\n",
       "⎢                                       ⎥\n",
       "⎢                cos(q₁)                ⎥\n",
       "⎢                                       ⎥\n",
       "⎣                   0                   ⎦"
      ]
     },
     "execution_count": 18,
     "metadata": {},
     "output_type": "execute_result"
    }
   ],
   "source": [
    "J2 = trigsimp(z1.cross(o3 - o1)).col_join(z1)\n",
    "J2"
   ]
  },
  {
   "cell_type": "code",
   "execution_count": 19,
   "metadata": {
    "collapsed": false
   },
   "outputs": [
    {
     "data": {
      "image/png": "[encoded data removed]",
      "text/latex": [
       "$$\\left[\\begin{matrix}- l_{3} \\operatorname{sin}\\left(q_{2} + q_{3}\\right) \\operatorname{cos}\\left(q_{1}\\right)\\\\- l_{3} \\operatorname{sin}\\left(q_{1}\\right) \\operatorname{sin}\\left(q_{2} + q_{3}\\right)\\\\- l_{3} \\operatorname{cos}\\left(q_{2} + q_{3}\\right)\\\\- \\operatorname{sin}\\left(q_{1}\\right)\\\\\\operatorname{cos}\\left(q_{1}\\right)\\\\0\\end{matrix}\\right]$$"
      ],
      "text/plain": [
       "⎡-l₃⋅sin(q₂ + q₃)⋅cos(q₁)⎤\n",
       "⎢                        ⎥\n",
       "⎢-l₃⋅sin(q₁)⋅sin(q₂ + q₃)⎥\n",
       "⎢                        ⎥\n",
       "⎢    -l₃⋅cos(q₂ + q₃)    ⎥\n",
       "⎢                        ⎥\n",
       "⎢        -sin(q₁)        ⎥\n",
       "⎢                        ⎥\n",
       "⎢        cos(q₁)         ⎥\n",
       "⎢                        ⎥\n",
       "⎣           0            ⎦"
      ]
     },
     "execution_count": 19,
     "metadata": {},
     "output_type": "execute_result"
    }
   ],
   "source": [
    "J3 = trigsimp(z2.cross(o3 - o2)).col_join(z2)\n",
    "J3"
   ]
  },
  {
   "cell_type": "code",
   "execution_count": 20,
   "metadata": {
    "collapsed": false
   },
   "outputs": [
    {
     "data": {
      "image/png": "[encoded data removed]",
      "text/latex": [
       "$$\\left[\\begin{matrix}- \\left(l_{2} \\operatorname{cos}\\left(q_{2}\\right) + l_{3} \\operatorname{cos}\\left(q_{2} + q_{3}\\right)\\right) \\operatorname{sin}\\left(q_{1}\\right) & - \\left(l_{2} \\operatorname{sin}\\left(q_{2}\\right) + l_{3} \\operatorname{sin}\\left(q_{2} + q_{3}\\right)\\right) \\operatorname{cos}\\left(q_{1}\\right) & - l_{3} \\operatorname{sin}\\left(q_{2} + q_{3}\\right) \\operatorname{cos}\\left(q_{1}\\right)\\\\\\left(l_{2} \\operatorname{cos}\\left(q_{2}\\right) + l_{3} \\operatorname{cos}\\left(q_{2} + q_{3}\\right)\\right) \\operatorname{cos}\\left(q_{1}\\right) & - \\left(l_{2} \\operatorname{sin}\\left(q_{2}\\right) + l_{3} \\operatorname{sin}\\left(q_{2} + q_{3}\\right)\\right) \\operatorname{sin}\\left(q_{1}\\right) & - l_{3} \\operatorname{sin}\\left(q_{1}\\right) \\operatorname{sin}\\left(q_{2} + q_{3}\\right)\\\\0 & - l_{2} \\operatorname{cos}\\left(q_{2}\\right) + l_{3} \\operatorname{cos}\\left(q_{2} + q_{3}\\right) & - l_{3} \\operatorname{cos}\\left(q_{2} + q_{3}\\right)\\\\0 & - \\operatorname{sin}\\left(q_{1}\\right) & - \\operatorname{sin}\\left(q_{1}\\right)\\\\0 & \\operatorname{cos}\\left(q_{1}\\right) & \\operatorname{cos}\\left(q_{1}\\right)\\\\1 & 0 & 0\\end{matrix}\\right]$$"
      ],
      "text/plain": [
       "⎡-(l₂⋅cos(q₂) + l₃⋅cos(q₂ + q₃))⋅sin(q₁)  -(l₂⋅sin(q₂) + l₃⋅sin(q₂ + q₃))⋅cos(\n",
       "⎢                                                                             \n",
       "⎢(l₂⋅cos(q₂) + l₃⋅cos(q₂ + q₃))⋅cos(q₁)   -(l₂⋅sin(q₂) + l₃⋅sin(q₂ + q₃))⋅sin(\n",
       "⎢                                                                             \n",
       "⎢                   0                         -(l₂⋅cos(q₂) + l₃⋅cos(q₂ + q₃)) \n",
       "⎢                                                                             \n",
       "⎢                   0                                    -sin(q₁)             \n",
       "⎢                                                                             \n",
       "⎢                   0                                     cos(q₁)             \n",
       "⎢                                                                             \n",
       "⎣                   1                                        0                \n",
       "\n",
       "q₁)  -l₃⋅sin(q₂ + q₃)⋅cos(q₁)⎤\n",
       "                             ⎥\n",
       "q₁)  -l₃⋅sin(q₁)⋅sin(q₂ + q₃)⎥\n",
       "                             ⎥\n",
       "         -l₃⋅cos(q₂ + q₃)    ⎥\n",
       "                             ⎥\n",
       "             -sin(q₁)        ⎥\n",
       "                             ⎥\n",
       "             cos(q₁)         ⎥\n",
       "                             ⎥\n",
       "                0            ⎦"
      ]
     },
     "execution_count": 20,
     "metadata": {},
     "output_type": "execute_result"
    }
   ],
   "source": [
    "Jg = (J1.row_join(J2)).row_join(J3)\n",
    "Jg"
   ]
  },
  {
   "cell_type": "code",
   "execution_count": 30,
   "metadata": {
    "collapsed": true
   },
   "outputs": [],
   "source": [
    "T0c1 = Ac1\n",
    "T0c2 = A1*Ac2\n",
    "T0c3 = trigsimp(A1*A2*Ac3)"
   ]
  },
  {
   "cell_type": "code",
   "execution_count": 31,
   "metadata": {
    "collapsed": false
   },
   "outputs": [
    {
     "data": {
      "image/png": "[encoded data removed]",
      "text/latex": [
       "$$\\left[\\begin{matrix}\\operatorname{cos}\\left(q_{1}\\right) & 0 & - \\operatorname{sin}\\left(q_{1}\\right) & 0\\\\\\operatorname{sin}\\left(q_{1}\\right) & 0 & \\operatorname{cos}\\left(q_{1}\\right) & 0\\\\0 & -1 & 0 & l_{{c 1}}\\\\0 & 0 & 0 & 1\\end{matrix}\\right]$$"
      ],
      "text/plain": [
       "⎡cos(q₁)  0   -sin(q₁)     0   ⎤\n",
       "⎢                              ⎥\n",
       "⎢sin(q₁)  0   cos(q₁)      0   ⎥\n",
       "⎢                              ⎥\n",
       "⎢   0     -1     0      l_{c_1}⎥\n",
       "⎢                              ⎥\n",
       "⎣   0     0      0         1   ⎦"
      ]
     },
     "execution_count": 31,
     "metadata": {},
     "output_type": "execute_result"
    }
   ],
   "source": [
    "T0c1"
   ]
  },
  {
   "cell_type": "code",
   "execution_count": 32,
   "metadata": {
    "collapsed": false
   },
   "outputs": [
    {
     "data": {
      "image/png": "[encoded data removed]",
      "text/latex": [
       "$$\\left[\\begin{matrix}\\operatorname{cos}\\left(q_{1}\\right) \\operatorname{cos}\\left(q_{2}\\right) & - \\operatorname{sin}\\left(q_{2}\\right) \\operatorname{cos}\\left(q_{1}\\right) & - \\operatorname{sin}\\left(q_{1}\\right) & l_{{c 2}} \\operatorname{cos}\\left(q_{1}\\right) \\operatorname{cos}\\left(q_{2}\\right)\\\\\\operatorname{sin}\\left(q_{1}\\right) \\operatorname{cos}\\left(q_{2}\\right) & - \\operatorname{sin}\\left(q_{1}\\right) \\operatorname{sin}\\left(q_{2}\\right) & \\operatorname{cos}\\left(q_{1}\\right) & l_{{c 2}} \\operatorname{sin}\\left(q_{1}\\right) \\operatorname{cos}\\left(q_{2}\\right)\\\\- \\operatorname{sin}\\left(q_{2}\\right) & - \\operatorname{cos}\\left(q_{2}\\right) & 0 & l_{1} - l_{{c 2}} \\operatorname{sin}\\left(q_{2}\\right)\\\\0 & 0 & 0 & 1\\end{matrix}\\right]$$"
      ],
      "text/plain": [
       "⎡cos(q₁)⋅cos(q₂)  -sin(q₂)⋅cos(q₁)  -sin(q₁)  l_{c_2}⋅cos(q₁)⋅cos(q₂)⎤\n",
       "⎢                                                                    ⎥\n",
       "⎢sin(q₁)⋅cos(q₂)  -sin(q₁)⋅sin(q₂)  cos(q₁)   l_{c_2}⋅sin(q₁)⋅cos(q₂)⎥\n",
       "⎢                                                                    ⎥\n",
       "⎢   -sin(q₂)          -cos(q₂)         0       l₁ - l_{c_2}⋅sin(q₂)  ⎥\n",
       "⎢                                                                    ⎥\n",
       "⎣       0                0             0                 1           ⎦"
      ]
     },
     "execution_count": 32,
     "metadata": {},
     "output_type": "execute_result"
    }
   ],
   "source": [
    "T0c2"
   ]
  },
  {
   "cell_type": "code",
   "execution_count": 33,
   "metadata": {
    "collapsed": false
   },
   "outputs": [
    {
     "data": {
      "image/png": "[encoded data removed]",
      "text/latex": [
       "$$\\left[\\begin{matrix}\\operatorname{cos}\\left(q_{1}\\right) \\operatorname{cos}\\left(q_{2} + q_{3}\\right) & - \\operatorname{sin}\\left(q_{2} + q_{3}\\right) \\operatorname{cos}\\left(q_{1}\\right) & - \\operatorname{sin}\\left(q_{1}\\right) & \\left(l_{2} \\operatorname{cos}\\left(q_{2}\\right) + l_{{c 3}} \\operatorname{cos}\\left(q_{2} + q_{3}\\right)\\right) \\operatorname{cos}\\left(q_{1}\\right)\\\\\\operatorname{sin}\\left(q_{1}\\right) \\operatorname{cos}\\left(q_{2} + q_{3}\\right) & - \\operatorname{sin}\\left(q_{1}\\right) \\operatorname{sin}\\left(q_{2} + q_{3}\\right) & \\operatorname{cos}\\left(q_{1}\\right) & \\left(l_{2} \\operatorname{cos}\\left(q_{2}\\right) + l_{{c 3}} \\operatorname{cos}\\left(q_{2} + q_{3}\\right)\\right) \\operatorname{sin}\\left(q_{1}\\right)\\\\- \\operatorname{sin}\\left(q_{2} + q_{3}\\right) & - \\operatorname{cos}\\left(q_{2} + q_{3}\\right) & 0 & l_{1} - l_{2} \\operatorname{sin}\\left(q_{2}\\right) - l_{{c 3}} \\operatorname{sin}\\left(q_{2} + q_{3}\\right)\\\\0 & 0 & 0 & 1\\end{matrix}\\right]$$"
      ],
      "text/plain": [
       "⎡cos(q₁)⋅cos(q₂ + q₃)  -sin(q₂ + q₃)⋅cos(q₁)  -sin(q₁)  (l₂⋅cos(q₂) + l_{c_3}⋅\n",
       "⎢                                                                             \n",
       "⎢sin(q₁)⋅cos(q₂ + q₃)  -sin(q₁)⋅sin(q₂ + q₃)  cos(q₁)   (l₂⋅cos(q₂) + l_{c_3}⋅\n",
       "⎢                                                                             \n",
       "⎢   -sin(q₂ + q₃)          -cos(q₂ + q₃)         0        l₁ - l₂⋅sin(q₂) - l_\n",
       "⎢                                                                             \n",
       "⎣         0                      0               0                           1\n",
       "\n",
       "cos(q₂ + q₃))⋅cos(q₁)⎤\n",
       "                     ⎥\n",
       "cos(q₂ + q₃))⋅sin(q₁)⎥\n",
       "                     ⎥\n",
       "{c_3}⋅sin(q₂ + q₃)   ⎥\n",
       "                     ⎥\n",
       "                     ⎦"
      ]
     },
     "execution_count": 33,
     "metadata": {},
     "output_type": "execute_result"
    }
   ],
   "source": [
    "T0c3"
   ]
  },
  {
   "cell_type": "code",
   "execution_count": 34,
   "metadata": {
    "collapsed": true
   },
   "outputs": [],
   "source": [
    "c1 = T0c1[:3, 3]\n",
    "c2 = T0c2[:3, 3]\n",
    "c3 = T0c3[:3, 3]"
   ]
  },
  {
   "cell_type": "code",
   "execution_count": 35,
   "metadata": {
    "collapsed": false
   },
   "outputs": [
    {
     "data": {
      "image/png": "[encoded data removed]",
      "text/latex": [
       "$$\\left[\\begin{matrix}0\\\\0\\\\l_{{c 1}}\\end{matrix}\\right]$$"
      ],
      "text/plain": [
       "⎡   0   ⎤\n",
       "⎢       ⎥\n",
       "⎢   0   ⎥\n",
       "⎢       ⎥\n",
       "⎣l_{c_1}⎦"
      ]
     },
     "execution_count": 35,
     "metadata": {},
     "output_type": "execute_result"
    }
   ],
   "source": [
    "c1"
   ]
  },
  {
   "cell_type": "code",
   "execution_count": 36,
   "metadata": {
    "collapsed": false
   },
   "outputs": [
    {
     "data": {
      "image/png": "[encoded data removed]",
      "text/latex": [
       "$$\\left[\\begin{matrix}l_{{c 2}} \\operatorname{cos}\\left(q_{1}\\right) \\operatorname{cos}\\left(q_{2}\\right)\\\\l_{{c 2}} \\operatorname{sin}\\left(q_{1}\\right) \\operatorname{cos}\\left(q_{2}\\right)\\\\l_{1} - l_{{c 2}} \\operatorname{sin}\\left(q_{2}\\right)\\end{matrix}\\right]$$"
      ],
      "text/plain": [
       "⎡l_{c_2}⋅cos(q₁)⋅cos(q₂)⎤\n",
       "⎢                       ⎥\n",
       "⎢l_{c_2}⋅sin(q₁)⋅cos(q₂)⎥\n",
       "⎢                       ⎥\n",
       "⎣ l₁ - l_{c_2}⋅sin(q₂)  ⎦"
      ]
     },
     "execution_count": 36,
     "metadata": {},
     "output_type": "execute_result"
    }
   ],
   "source": [
    "c2"
   ]
  },
  {
   "cell_type": "code",
   "execution_count": 37,
   "metadata": {
    "collapsed": false
   },
   "outputs": [
    {
     "data": {
      "image/png": "[encoded data removed]",
      "text/latex": [
       "$$\\left[\\begin{matrix}\\left(l_{2} \\operatorname{cos}\\left(q_{2}\\right) + l_{{c 3}} \\operatorname{cos}\\left(q_{2} + q_{3}\\right)\\right) \\operatorname{cos}\\left(q_{1}\\right)\\\\\\left(l_{2} \\operatorname{cos}\\left(q_{2}\\right) + l_{{c 3}} \\operatorname{cos}\\left(q_{2} + q_{3}\\right)\\right) \\operatorname{sin}\\left(q_{1}\\right)\\\\l_{1} - l_{2} \\operatorname{sin}\\left(q_{2}\\right) - l_{{c 3}} \\operatorname{sin}\\left(q_{2} + q_{3}\\right)\\end{matrix}\\right]$$"
      ],
      "text/plain": [
       "⎡(l₂⋅cos(q₂) + l_{c_3}⋅cos(q₂ + q₃))⋅cos(q₁)⎤\n",
       "⎢                                           ⎥\n",
       "⎢(l₂⋅cos(q₂) + l_{c_3}⋅cos(q₂ + q₃))⋅sin(q₁)⎥\n",
       "⎢                                           ⎥\n",
       "⎣  l₁ - l₂⋅sin(q₂) - l_{c_3}⋅sin(q₂ + q₃)   ⎦"
      ]
     },
     "execution_count": 37,
     "metadata": {},
     "output_type": "execute_result"
    }
   ],
   "source": [
    "c3"
   ]
  },
  {
   "cell_type": "code",
   "execution_count": 49,
   "metadata": {
    "collapsed": false
   },
   "outputs": [
    {
     "data": {
      "image/png": "[encoded data removed]",
      "text/latex": [
       "$$\\left ( \\left[\\begin{matrix}0 & 0 & 0\\\\0 & 0 & 0\\\\0 & 0 & 0\\end{matrix}\\right], \\quad \\left[\\begin{matrix}0 & 0 & 0\\\\0 & 0 & 0\\\\1 & 0 & 0\\end{matrix}\\right]\\right )$$"
      ],
      "text/plain": [
       "⎛⎡0  0  0⎤, ⎡0  0  0⎤⎞\n",
       "⎜⎢       ⎥  ⎢       ⎥⎟\n",
       "⎜⎢0  0  0⎥  ⎢0  0  0⎥⎟\n",
       "⎜⎢       ⎥  ⎢       ⎥⎟\n",
       "⎝⎣0  0  0⎦  ⎣1  0  0⎦⎠"
      ]
     },
     "execution_count": 49,
     "metadata": {},
     "output_type": "execute_result"
    }
   ],
   "source": [
    "Jv1 = ((z0.cross(c1 - o0)).row_join(o0)).row_join(o0)\n",
    "Jω1 = (z0.row_join(o0)).row_join(o0)\n",
    "Jv1, Jω1"
   ]
  },
  {
   "cell_type": "code",
   "execution_count": 50,
   "metadata": {
    "collapsed": false
   },
   "outputs": [
    {
     "data": {
      "image/png": "[encoded data removed]",
      "text/latex": [
       "$$\\left ( \\left[\\begin{matrix}- l_{{c 2}} \\operatorname{sin}\\left(q_{1}\\right) \\operatorname{cos}\\left(q_{2}\\right) & - l_{{c 2}} \\operatorname{sin}\\left(q_{2}\\right) \\operatorname{cos}\\left(q_{1}\\right) & 0\\\\l_{{c 2}} \\operatorname{cos}\\left(q_{1}\\right) \\operatorname{cos}\\left(q_{2}\\right) & - l_{{c 2}} \\operatorname{sin}\\left(q_{1}\\right) \\operatorname{sin}\\left(q_{2}\\right) & 0\\\\0 & - l_{{c 2}} \\operatorname{sin}^{2}\\left(q_{1}\\right) \\operatorname{cos}\\left(q_{2}\\right) - l_{{c 2}} \\operatorname{cos}^{2}\\left(q_{1}\\right) \\operatorname{cos}\\left(q_{2}\\right) & 0\\end{matrix}\\right], \\quad \\left[\\begin{matrix}0 & - \\operatorname{sin}\\left(q_{1}\\right) & 0\\\\0 & \\operatorname{cos}\\left(q_{1}\\right) & 0\\\\1 & 0 & 0\\end{matrix}\\right]\\right )$$"
      ],
      "text/plain": [
       "⎛⎡-l_{c_2}⋅sin(q₁)⋅cos(q₂)                -l_{c_2}⋅sin(q₂)⋅cos(q₁)            \n",
       "⎜⎢                                                                            \n",
       "⎜⎢l_{c_2}⋅cos(q₁)⋅cos(q₂)                 -l_{c_2}⋅sin(q₁)⋅sin(q₂)            \n",
       "⎜⎢                                                                            \n",
       "⎜⎢                                       2                          2         \n",
       "⎝⎣           0              - l_{c_2}⋅sin (q₁)⋅cos(q₂) - l_{c_2}⋅cos (q₁)⋅cos(\n",
       "\n",
       "     0⎤, ⎡0  -sin(q₁)  0⎤⎞\n",
       "      ⎥  ⎢              ⎥⎟\n",
       "     0⎥  ⎢0  cos(q₁)   0⎥⎟\n",
       "      ⎥  ⎢              ⎥⎟\n",
       "      ⎥  ⎣1     0      0⎦⎟\n",
       "q₂)  0⎦                  ⎠"
      ]
     },
     "execution_count": 50,
     "metadata": {},
     "output_type": "execute_result"
    }
   ],
   "source": [
    "Jv2 = (z0.cross(c2 - o0).row_join(z1.cross(c2 - o1))).row_join(o0)\n",
    "Jω2 = (z0.row_join(z1)).row_join(o0)\n",
    "Jv2, Jω2"
   ]
  },
  {
   "cell_type": "code",
   "execution_count": 51,
   "metadata": {
    "collapsed": false
   },
   "outputs": [
    {
     "data": {
      "image/png": "[encoded data removed]",
      "text/latex": [
       "$$\\left ( \\left[\\begin{matrix}- \\left(l_{2} \\operatorname{cos}\\left(q_{2}\\right) + l_{{c 3}} \\operatorname{cos}\\left(q_{2} + q_{3}\\right)\\right) \\operatorname{sin}\\left(q_{1}\\right) & - \\left(l_{2} \\operatorname{sin}\\left(q_{2}\\right) + l_{{c 3}} \\operatorname{sin}\\left(q_{2} + q_{3}\\right)\\right) \\operatorname{cos}\\left(q_{1}\\right) & - l_{{c 3}} \\operatorname{sin}\\left(q_{2} + q_{3}\\right) \\operatorname{cos}\\left(q_{1}\\right)\\\\\\left(l_{2} \\operatorname{cos}\\left(q_{2}\\right) + l_{{c 3}} \\operatorname{cos}\\left(q_{2} + q_{3}\\right)\\right) \\operatorname{cos}\\left(q_{1}\\right) & - \\left(l_{2} \\operatorname{sin}\\left(q_{2}\\right) + l_{{c 3}} \\operatorname{sin}\\left(q_{2} + q_{3}\\right)\\right) \\operatorname{sin}\\left(q_{1}\\right) & - l_{{c 3}} \\operatorname{sin}\\left(q_{1}\\right) \\operatorname{sin}\\left(q_{2} + q_{3}\\right)\\\\0 & - l_{2} \\operatorname{cos}\\left(q_{2}\\right) + l_{{c 3}} \\operatorname{cos}\\left(q_{2} + q_{3}\\right) & - l_{{c 3}} \\operatorname{cos}\\left(q_{2} + q_{3}\\right)\\end{matrix}\\right], \\quad \\left[\\begin{matrix}0 & - \\operatorname{sin}\\left(q_{1}\\right) & - \\operatorname{sin}\\left(q_{1}\\right)\\\\0 & \\operatorname{cos}\\left(q_{1}\\right) & \\operatorname{cos}\\left(q_{1}\\right)\\\\1 & 0 & 0\\end{matrix}\\right]\\right )$$"
      ],
      "text/plain": [
       "⎛⎡-(l₂⋅cos(q₂) + l_{c_3}⋅cos(q₂ + q₃))⋅sin(q₁)  -(l₂⋅sin(q₂) + l_{c_3}⋅sin(q₂ \n",
       "⎜⎢                                                                            \n",
       "⎜⎢(l₂⋅cos(q₂) + l_{c_3}⋅cos(q₂ + q₃))⋅cos(q₁)   -(l₂⋅sin(q₂) + l_{c_3}⋅sin(q₂ \n",
       "⎜⎢                                                                            \n",
       "⎝⎣                     0                            -(l₂⋅cos(q₂) + l_{c_3}⋅cos\n",
       "\n",
       "+ q₃))⋅cos(q₁)  -l_{c_3}⋅sin(q₂ + q₃)⋅cos(q₁)⎤, ⎡0  -sin(q₁)  -sin(q₁)⎤⎞\n",
       "                                             ⎥  ⎢                     ⎥⎟\n",
       "+ q₃))⋅sin(q₁)  -l_{c_3}⋅sin(q₁)⋅sin(q₂ + q₃)⎥  ⎢0  cos(q₁)   cos(q₁) ⎥⎟\n",
       "                                             ⎥  ⎢                     ⎥⎟\n",
       "(q₂ + q₃))          -l_{c_3}⋅cos(q₂ + q₃)    ⎦  ⎣1     0         0    ⎦⎠"
      ]
     },
     "execution_count": 51,
     "metadata": {},
     "output_type": "execute_result"
    }
   ],
   "source": [
    "Jv3 = trigsimp((z0.cross(c3 - o0).row_join(z1.cross(c3 - o1))).row_join(z2.cross(c3 - o2)))\n",
    "Jω3 = (z0.row_join(z1)).row_join(z2)\n",
    "Jv3, Jω3"
   ]
  },
  {
   "cell_type": "code",
   "execution_count": 52,
   "metadata": {
    "collapsed": false
   },
   "outputs": [
    {
     "data": {
      "image/png": "[encoded data removed]",
      "text/latex": [
       "$$\\left ( m_{0}, \\quad m_{1}, \\quad m_{2}, \\quad m_{3}\\right )$$"
      ],
      "text/plain": [
       "(m₀, m₁, m₂, m₃)"
      ]
     },
     "execution_count": 52,
     "metadata": {},
     "output_type": "execute_result"
    }
   ],
   "source": [
    "var(\"m:4\")"
   ]
  },
  {
   "cell_type": "code",
   "execution_count": 53,
   "metadata": {
    "collapsed": false
   },
   "outputs": [
    {
     "data": {
      "image/png": "[encoded data removed]",
      "text/latex": [
       "$$\\left[\\begin{matrix}0 & 0 & 0\\\\0 & 0 & 0\\\\0 & 0 & 0\\end{matrix}\\right]$$"
      ],
      "text/plain": [
       "⎡0  0  0⎤\n",
       "⎢       ⎥\n",
       "⎢0  0  0⎥\n",
       "⎢       ⎥\n",
       "⎣0  0  0⎦"
      ]
     },
     "execution_count": 53,
     "metadata": {},
     "output_type": "execute_result"
    }
   ],
   "source": [
    "m1*Jv1.T*Jv1"
   ]
  },
  {
   "cell_type": "code",
   "execution_count": 57,
   "metadata": {
    "collapsed": false
   },
   "outputs": [
    {
     "data": {
      "image/png": "[encoded data removed]",
      "text/latex": [
       "$$\\left[\\begin{matrix}l_{{c 2}}^{2} m_{2} \\operatorname{cos}^{2}\\left(q_{2}\\right) & 0 & 0\\\\0 & l_{{c 2}}^{2} m_{2} & 0\\\\0 & 0 & 0\\end{matrix}\\right]$$"
      ],
      "text/plain": [
       "⎡       2       2                    ⎤\n",
       "⎢l_{c_2} ⋅m₂⋅cos (q₂)       0       0⎥\n",
       "⎢                                    ⎥\n",
       "⎢                             2      ⎥\n",
       "⎢         0            l_{c_2} ⋅m₂  0⎥\n",
       "⎢                                    ⎥\n",
       "⎣         0                 0       0⎦"
      ]
     },
     "execution_count": 57,
     "metadata": {},
     "output_type": "execute_result"
    }
   ],
   "source": [
    "trigsimp(m2*Jv2.T*Jv2)"
   ]
  },
  {
   "cell_type": "code",
   "execution_count": 59,
   "metadata": {
    "collapsed": false
   },
   "outputs": [
    {
     "data": {
      "image/png": "[encoded data removed]",
      "text/latex": [
       "$$\\left[\\begin{matrix}m_{3} \\left(l_{2} \\operatorname{cos}\\left(q_{2}\\right) + l_{{c 3}} \\operatorname{cos}\\left(q_{2} + q_{3}\\right)\\right)^{2} & 0 & 0\\\\0 & m_{3} \\left(l_{2}^{2} + 2 l_{2} l_{{c 3}} \\operatorname{cos}\\left(q_{3}\\right) + l_{{c 3}}^{2}\\right) & l_{{c 3}} m_{3} \\left(l_{2} \\operatorname{cos}\\left(q_{3}\\right) + l_{{c 3}}\\right)\\\\0 & l_{{c 3}} m_{3} \\left(l_{2} \\operatorname{cos}\\left(q_{3}\\right) + l_{{c 3}}\\right) & l_{{c 3}}^{2} m_{3}\\end{matrix}\\right]$$"
      ],
      "text/plain": [
       "⎡                                      2                                      \n",
       "⎢m₃⋅(l₂⋅cos(q₂) + l_{c_3}⋅cos(q₂ + q₃))                       0               \n",
       "⎢                                                                             \n",
       "⎢                                            ⎛  2                             \n",
       "⎢                   0                     m₃⋅⎝l₂  + 2⋅l₂⋅l_{c_3}⋅cos(q₃) + l_{\n",
       "⎢                                                                             \n",
       "⎢                                                                             \n",
       "⎣                   0                         l_{c_3}⋅m₃⋅(l₂⋅cos(q₃) + l_{c_3}\n",
       "\n",
       "                                         ⎤\n",
       "                        0                ⎥\n",
       "                                         ⎥\n",
       "    2⎞                                   ⎥\n",
       "c_3} ⎠  l_{c_3}⋅m₃⋅(l₂⋅cos(q₃) + l_{c_3})⎥\n",
       "                                         ⎥\n",
       "                          2              ⎥\n",
       ")                  l_{c_3} ⋅m₃           ⎦"
      ]
     },
     "execution_count": 59,
     "metadata": {},
     "output_type": "execute_result"
    }
   ],
   "source": [
    "trigsimp(m3*Jv3.T*Jv3)"
   ]
  },
  {
   "cell_type": "code",
   "execution_count": 83,
   "metadata": {
    "collapsed": false
   },
   "outputs": [
    {
     "data": {
      "image/png": "[encoded data removed]",
      "text/latex": [
       "$$\\left[\\begin{matrix}l_{{c 2}}^{2} m_{2} \\operatorname{cos}^{2}\\left(q_{2}\\right) + m_{3} \\left(l_{2} \\operatorname{cos}\\left(q_{2}\\right) + l_{{c 3}} \\operatorname{cos}\\left(q_{2} + q_{3}\\right)\\right)^{2} & 0 & 0\\\\0 & l_{{c 2}}^{2} m_{2} + m_{3} \\left(l_{2}^{2} + 2 l_{2} l_{{c 3}} \\operatorname{cos}\\left(q_{3}\\right) + l_{{c 3}}^{2}\\right) & l_{{c 3}} m_{3} \\left(l_{2} \\operatorname{cos}\\left(q_{3}\\right) + l_{{c 3}}\\right)\\\\0 & l_{{c 3}} m_{3} \\left(l_{2} \\operatorname{cos}\\left(q_{3}\\right) + l_{{c 3}}\\right) & l_{{c 3}}^{2} m_{3}\\end{matrix}\\right]$$"
      ],
      "text/plain": [
       "⎡       2       2                                             2               \n",
       "⎢l_{c_2} ⋅m₂⋅cos (q₂) + m₃⋅(l₂⋅cos(q₂) + l_{c_3}⋅cos(q₂ + q₃))                \n",
       "⎢                                                                             \n",
       "⎢                                                                       2     \n",
       "⎢                              0                                 l_{c_2} ⋅m₂ +\n",
       "⎢                                                                             \n",
       "⎢                                                                             \n",
       "⎣                              0                                            l_\n",
       "\n",
       "                                                                              \n",
       "              0                                              0                \n",
       "                                                                              \n",
       "    ⎛  2                                 2⎞                                   \n",
       " m₃⋅⎝l₂  + 2⋅l₂⋅l_{c_3}⋅cos(q₃) + l_{c_3} ⎠  l_{c_3}⋅m₃⋅(l₂⋅cos(q₃) + l_{c_3})\n",
       "                                                                              \n",
       "                                                               2              \n",
       "{c_3}⋅m₃⋅(l₂⋅cos(q₃) + l_{c_3})                         l_{c_3} ⋅m₃           \n",
       "\n",
       "⎤\n",
       "⎥\n",
       "⎥\n",
       "⎥\n",
       "⎥\n",
       "⎥\n",
       "⎥\n",
       "⎦"
      ]
     },
     "execution_count": 83,
     "metadata": {},
     "output_type": "execute_result"
    }
   ],
   "source": [
    "Kt = m1*Jv1.T*Jv1 + trigsimp(m2*Jv2.T*Jv2) + trigsimp(m3*Jv3.T*Jv3)\n",
    "Kt"
   ]
  },
  {
   "cell_type": "code",
   "execution_count": 77,
   "metadata": {
    "collapsed": false
   },
   "outputs": [
    {
     "data": {
      "image/png": "[encoded data removed]",
      "text/latex": [
       "$$\\left ( Ix_{1}, \\quad Iy_{1}, \\quad Iz_{1}, \\quad Ix_{2}, \\quad Iy_{2}, \\quad Iz_{2}, \\quad Ix_{3}, \\quad Iy_{3}, \\quad Iz_{3}\\right )$$"
      ],
      "text/plain": [
       "(Ix₁, Iy₁, Iz₁, Ix₂, Iy₂, Iz₂, Ix₃, Iy₃, Iz₃)"
      ]
     },
     "execution_count": 77,
     "metadata": {},
     "output_type": "execute_result"
    }
   ],
   "source": [
    "var(\"Ix1 Iy1 Iz1 Ix2 Iy2 Iz2 Ix3 Iy3 Iz3\")"
   ]
  },
  {
   "cell_type": "code",
   "execution_count": 80,
   "metadata": {
    "collapsed": false
   },
   "outputs": [],
   "source": [
    "I1 = Matrix([[Ix1, 0, 0],[0, Iy1, 0],[0, 0, Iz1]])\n",
    "I2 = Matrix([[Ix2, 0, 0],[0, Iy2, 0],[0, 0, Iz2]])\n",
    "I3 = Matrix([[Ix3, 0, 0],[0, Iy3, 0],[0, 0, Iz3]])"
   ]
  },
  {
   "cell_type": "code",
   "execution_count": 79,
   "metadata": {
    "collapsed": false
   },
   "outputs": [
    {
     "data": {
      "image/png": "[encoded data removed]",
      "text/latex": [
       "$$\\left[\\begin{matrix}Iz_{1} & 0 & 0\\\\0 & 0 & 0\\\\0 & 0 & 0\\end{matrix}\\right]$$"
      ],
      "text/plain": [
       "⎡Iz₁  0  0⎤\n",
       "⎢         ⎥\n",
       "⎢ 0   0  0⎥\n",
       "⎢         ⎥\n",
       "⎣ 0   0  0⎦"
      ]
     },
     "execution_count": 79,
     "metadata": {},
     "output_type": "execute_result"
    }
   ],
   "source": [
    "Jω1.T*I1*Jω2"
   ]
  },
  {
   "cell_type": "code",
   "execution_count": 81,
   "metadata": {
    "collapsed": false
   },
   "outputs": [
    {
     "data": {
      "image/png": "[encoded data removed]",
      "text/latex": [
       "$$\\left[\\begin{matrix}Iz_{2} & 0 & 0\\\\0 & Ix_{2} \\operatorname{sin}^{2}\\left(q_{1}\\right) + Iy_{2} \\operatorname{cos}^{2}\\left(q_{1}\\right) & 0\\\\0 & 0 & 0\\end{matrix}\\right]$$"
      ],
      "text/plain": [
       "⎡Iz₂               0               0⎤\n",
       "⎢                                   ⎥\n",
       "⎢            2              2       ⎥\n",
       "⎢ 0   Ix₂⋅sin (q₁) + Iy₂⋅cos (q₁)  0⎥\n",
       "⎢                                   ⎥\n",
       "⎣ 0                0               0⎦"
      ]
     },
     "execution_count": 81,
     "metadata": {},
     "output_type": "execute_result"
    }
   ],
   "source": [
    "trigsimp(Jω2.T*I2*Jω2)"
   ]
  },
  {
   "cell_type": "code",
   "execution_count": 82,
   "metadata": {
    "collapsed": false
   },
   "outputs": [
    {
     "data": {
      "image/png": "[encoded data removed]",
      "text/latex": [
       "$$\\left[\\begin{matrix}Iz_{3} & 0 & 0\\\\0 & Ix_{3} \\operatorname{sin}^{2}\\left(q_{1}\\right) + Iy_{3} \\operatorname{cos}^{2}\\left(q_{1}\\right) & Ix_{3} \\operatorname{sin}^{2}\\left(q_{1}\\right) + Iy_{3} \\operatorname{cos}^{2}\\left(q_{1}\\right)\\\\0 & Ix_{3} \\operatorname{sin}^{2}\\left(q_{1}\\right) + Iy_{3} \\operatorname{cos}^{2}\\left(q_{1}\\right) & Ix_{3} \\operatorname{sin}^{2}\\left(q_{1}\\right) + Iy_{3} \\operatorname{cos}^{2}\\left(q_{1}\\right)\\end{matrix}\\right]$$"
      ],
      "text/plain": [
       "⎡Iz₃               0                            0             ⎤\n",
       "⎢                                                             ⎥\n",
       "⎢            2              2             2              2    ⎥\n",
       "⎢ 0   Ix₃⋅sin (q₁) + Iy₃⋅cos (q₁)  Ix₃⋅sin (q₁) + Iy₃⋅cos (q₁)⎥\n",
       "⎢                                                             ⎥\n",
       "⎢            2              2             2              2    ⎥\n",
       "⎣ 0   Ix₃⋅sin (q₁) + Iy₃⋅cos (q₁)  Ix₃⋅sin (q₁) + Iy₃⋅cos (q₁)⎦"
      ]
     },
     "execution_count": 82,
     "metadata": {},
     "output_type": "execute_result"
    }
   ],
   "source": [
    "trigsimp(Jω3.T*I3*Jω3)"
   ]
  },
  {
   "cell_type": "code",
   "execution_count": 84,
   "metadata": {
    "collapsed": false
   },
   "outputs": [
    {
     "data": {
      "image/png": "[encoded data removed]",
      "text/latex": [
       "$$\\left[\\begin{matrix}Iz_{1} + Iz_{2} + Iz_{3} & 0 & 0\\\\0 & Ix_{2} \\operatorname{sin}^{2}\\left(q_{1}\\right) + Ix_{3} \\operatorname{sin}^{2}\\left(q_{1}\\right) + Iy_{2} \\operatorname{cos}^{2}\\left(q_{1}\\right) + Iy_{3} \\operatorname{cos}^{2}\\left(q_{1}\\right) & Ix_{3} \\operatorname{sin}^{2}\\left(q_{1}\\right) + Iy_{3} \\operatorname{cos}^{2}\\left(q_{1}\\right)\\\\0 & Ix_{3} \\operatorname{sin}^{2}\\left(q_{1}\\right) + Iy_{3} \\operatorname{cos}^{2}\\left(q_{1}\\right) & Ix_{3} \\operatorname{sin}^{2}\\left(q_{1}\\right) + Iy_{3} \\operatorname{cos}^{2}\\left(q_{1}\\right)\\end{matrix}\\right]$$"
      ],
      "text/plain": [
       "⎡Iz₁ + Iz₂ + Iz₃                              0                               \n",
       "⎢                                                                             \n",
       "⎢                        2              2              2              2       \n",
       "⎢       0         Ix₂⋅sin (q₁) + Ix₃⋅sin (q₁) + Iy₂⋅cos (q₁) + Iy₃⋅cos (q₁)  I\n",
       "⎢                                                                             \n",
       "⎢                                       2              2                      \n",
       "⎣       0                        Ix₃⋅sin (q₁) + Iy₃⋅cos (q₁)                 I\n",
       "\n",
       "            0             ⎤\n",
       "                          ⎥\n",
       "      2              2    ⎥\n",
       "x₃⋅sin (q₁) + Iy₃⋅cos (q₁)⎥\n",
       "                          ⎥\n",
       "      2              2    ⎥\n",
       "x₃⋅sin (q₁) + Iy₃⋅cos (q₁)⎦"
      ]
     },
     "execution_count": 84,
     "metadata": {},
     "output_type": "execute_result"
    }
   ],
   "source": [
    "Kr = Jω1.T*I1*Jω2 + trigsimp(Jω2.T*I2*Jω2) + trigsimp(Jω3.T*I3*Jω3)\n",
    "Kr"
   ]
  },
  {
   "cell_type": "code",
   "execution_count": 85,
   "metadata": {
    "collapsed": false
   },
   "outputs": [
    {
     "data": {
      "image/png": "[encoded data removed]",
      "text/latex": [
       "$$\\left[\\begin{matrix}Iz_{1} + Iz_{2} + Iz_{3} + l_{{c 2}}^{2} m_{2} \\operatorname{cos}^{2}\\left(q_{2}\\right) + m_{3} \\left(l_{2} \\operatorname{cos}\\left(q_{2}\\right) + l_{{c 3}} \\operatorname{cos}\\left(q_{2} + q_{3}\\right)\\right)^{2} & 0 & 0\\\\0 & Ix_{2} \\operatorname{sin}^{2}\\left(q_{1}\\right) + Ix_{3} \\operatorname{sin}^{2}\\left(q_{1}\\right) + Iy_{2} \\operatorname{cos}^{2}\\left(q_{1}\\right) + Iy_{3} \\operatorname{cos}^{2}\\left(q_{1}\\right) + l_{{c 2}}^{2} m_{2} + m_{3} \\left(l_{2}^{2} + 2 l_{2} l_{{c 3}} \\operatorname{cos}\\left(q_{3}\\right) + l_{{c 3}}^{2}\\right) & Ix_{3} \\operatorname{sin}^{2}\\left(q_{1}\\right) + Iy_{3} \\operatorname{cos}^{2}\\left(q_{1}\\right) + l_{{c 3}} m_{3} \\left(l_{2} \\operatorname{cos}\\left(q_{3}\\right) + l_{{c 3}}\\right)\\\\0 & Ix_{3} \\operatorname{sin}^{2}\\left(q_{1}\\right) + Iy_{3} \\operatorname{cos}^{2}\\left(q_{1}\\right) + l_{{c 3}} m_{3} \\left(l_{2} \\operatorname{cos}\\left(q_{3}\\right) + l_{{c 3}}\\right) & Ix_{3} \\operatorname{sin}^{2}\\left(q_{1}\\right) + Iy_{3} \\operatorname{cos}^{2}\\left(q_{1}\\right) + l_{{c 3}}^{2} m_{3}\\end{matrix}\\right]$$"
      ],
      "text/plain": [
       "⎡                         2       2                                           \n",
       "⎢Iz₁ + Iz₂ + Iz₃ + l_{c_2} ⋅m₂⋅cos (q₂) + m₃⋅(l₂⋅cos(q₂) + l_{c_3}⋅cos(q₂ + q₃\n",
       "⎢                                                                             \n",
       "⎢                                                                             \n",
       "⎢                                       0                                     \n",
       "⎢                                                                             \n",
       "⎢                                                                             \n",
       "⎣                                       0                                     \n",
       "\n",
       "  2                                                                           \n",
       "))                                                            0               \n",
       "                                                                              \n",
       "            2              2              2              2              2     \n",
       "     Ix₂⋅sin (q₁) + Ix₃⋅sin (q₁) + Iy₂⋅cos (q₁) + Iy₃⋅cos (q₁) + l_{c_2} ⋅m₂ +\n",
       "                                                                              \n",
       "                                      2              2                        \n",
       "                               Ix₃⋅sin (q₁) + Iy₃⋅cos (q₁) + l_{c_3}⋅m₃⋅(l₂⋅co\n",
       "\n",
       "                                                                              \n",
       "                                                                            0 \n",
       "                                                                              \n",
       "    ⎛  2                                 2⎞         2              2          \n",
       " m₃⋅⎝l₂  + 2⋅l₂⋅l_{c_3}⋅cos(q₃) + l_{c_3} ⎠  Ix₃⋅sin (q₁) + Iy₃⋅cos (q₁) + l_{\n",
       "                                                                              \n",
       "                                                               2              \n",
       "s(q₃) + l_{c_3})                                        Ix₃⋅sin (q₁) + Iy₃⋅cos\n",
       "\n",
       "                              ⎤\n",
       "                              ⎥\n",
       "                              ⎥\n",
       "                              ⎥\n",
       "c_3}⋅m₃⋅(l₂⋅cos(q₃) + l_{c_3})⎥\n",
       "                              ⎥\n",
       "2              2              ⎥\n",
       " (q₁) + l_{c_3} ⋅m₃           ⎦"
      ]
     },
     "execution_count": 85,
     "metadata": {},
     "output_type": "execute_result"
    }
   ],
   "source": [
    "Kt + Kr"
   ]
  },
  {
   "cell_type": "code",
   "execution_count": 90,
   "metadata": {
    "collapsed": false
   },
   "outputs": [
    {
     "data": {
      "image/png": "[encoded data removed]",
      "text/latex": [
       "$$\\left[\\begin{matrix}\\operatorname{cos}\\left(q_{1}\\right) & - \\operatorname{sin}\\left(q_{1}\\right) & 0 & 0\\\\\\operatorname{sin}\\left(q_{1}\\right) & \\operatorname{cos}\\left(q_{1}\\right) & 0 & 0\\\\0 & 0 & 1 & 0\\\\0 & 0 & 0 & 1\\end{matrix}\\right]$$"
      ],
      "text/plain": [
       "⎡cos(q₁)  -sin(q₁)  0  0⎤\n",
       "⎢                       ⎥\n",
       "⎢sin(q₁)  cos(q₁)   0  0⎥\n",
       "⎢                       ⎥\n",
       "⎢   0        0      1  0⎥\n",
       "⎢                       ⎥\n",
       "⎣   0        0      0  1⎦"
      ]
     },
     "execution_count": 90,
     "metadata": {},
     "output_type": "execute_result"
    }
   ],
   "source": [
    "B1 = denavit_hartenberg_general(0, 0, 0, q1, Matrix, sin, cos)\n",
    "B1"
   ]
  },
  {
   "cell_type": "code",
   "execution_count": 91,
   "metadata": {
    "collapsed": false
   },
   "outputs": [
    {
     "data": {
      "image/png": "[encoded data removed]",
      "text/latex": [
       "$$\\left[\\begin{matrix}\\operatorname{cos}\\left(q_{2}\\right) & 0 & \\operatorname{sin}\\left(q_{2}\\right) & 0\\\\\\operatorname{sin}\\left(q_{2}\\right) & 0 & - \\operatorname{cos}\\left(q_{2}\\right) & 0\\\\0 & 1 & 0 & l_{2}\\\\0 & 0 & 0 & 1\\end{matrix}\\right]$$"
      ],
      "text/plain": [
       "⎡cos(q₂)  0  sin(q₂)   0 ⎤\n",
       "⎢                        ⎥\n",
       "⎢sin(q₂)  0  -cos(q₂)  0 ⎥\n",
       "⎢                        ⎥\n",
       "⎢   0     1     0      l₂⎥\n",
       "⎢                        ⎥\n",
       "⎣   0     0     0      1 ⎦"
      ]
     },
     "execution_count": 91,
     "metadata": {},
     "output_type": "execute_result"
    }
   ],
   "source": [
    "B2 = denavit_hartenberg_general(0, l2, pi/2, q2, Matrix, sin, cos)\n",
    "B2"
   ]
  },
  {
   "cell_type": "code",
   "execution_count": 92,
   "metadata": {
    "collapsed": false
   },
   "outputs": [
    {
     "data": {
      "image/png": "[encoded data removed]",
      "text/latex": [
       "$$\\left[\\begin{matrix}0 & 0 & 1 & 0\\\\1 & 0 & 0 & l_{3}\\\\0 & 1 & 0 & 0\\\\0 & 0 & 0 & 1\\end{matrix}\\right]$$"
      ],
      "text/plain": [
       "⎡0  0  1  0 ⎤\n",
       "⎢           ⎥\n",
       "⎢1  0  0  l₃⎥\n",
       "⎢           ⎥\n",
       "⎢0  1  0  0 ⎥\n",
       "⎢           ⎥\n",
       "⎣0  0  0  1 ⎦"
      ]
     },
     "execution_count": 92,
     "metadata": {},
     "output_type": "execute_result"
    }
   ],
   "source": [
    "B3 = denavit_hartenberg_general(l3, 0, pi/2, pi/2, Matrix, sin, cos)\n",
    "B3"
   ]
  },
  {
   "cell_type": "code",
   "execution_count": 96,
   "metadata": {
    "collapsed": false
   },
   "outputs": [
    {
     "data": {
      "image/png": "[encoded data removed]",
      "text/latex": [
       "$$\\left ( \\left[\\begin{matrix}\\operatorname{cos}\\left(q_{1}\\right) & - \\operatorname{sin}\\left(q_{1}\\right) & 0 & 0\\\\\\operatorname{sin}\\left(q_{1}\\right) & \\operatorname{cos}\\left(q_{1}\\right) & 0 & 0\\\\0 & 0 & 1 & 0\\\\0 & 0 & 0 & 1\\end{matrix}\\right], \\quad \\left[\\begin{matrix}\\operatorname{cos}\\left(q_{1} + q_{2}\\right) & 0 & \\operatorname{sin}\\left(q_{1} + q_{2}\\right) & 0\\\\\\operatorname{sin}\\left(q_{1} + q_{2}\\right) & 0 & - \\operatorname{cos}\\left(q_{1} + q_{2}\\right) & 0\\\\0 & 1 & 0 & l_{2}\\\\0 & 0 & 0 & 1\\end{matrix}\\right], \\quad \\left[\\begin{matrix}0 & \\operatorname{sin}\\left(q_{1} + q_{2}\\right) & \\operatorname{cos}\\left(q_{1} + q_{2}\\right) & 0\\\\0 & - \\operatorname{cos}\\left(q_{1} + q_{2}\\right) & \\operatorname{sin}\\left(q_{1} + q_{2}\\right) & 0\\\\1 & 0 & 0 & l_{2} + l_{3}\\\\0 & 0 & 0 & 1\\end{matrix}\\right]\\right )$$"
      ],
      "text/plain": [
       "⎛⎡cos(q₁)  -sin(q₁)  0  0⎤, ⎡cos(q₁ + q₂)  0  sin(q₁ + q₂)   0 ⎤, ⎡0  sin(q₁ +\n",
       "⎜⎢                       ⎥  ⎢                                  ⎥  ⎢           \n",
       "⎜⎢sin(q₁)  cos(q₁)   0  0⎥  ⎢sin(q₁ + q₂)  0  -cos(q₁ + q₂)  0 ⎥  ⎢0  -cos(q₁ \n",
       "⎜⎢                       ⎥  ⎢                                  ⎥  ⎢           \n",
       "⎜⎢   0        0      1  0⎥  ⎢     0        1        0        l₂⎥  ⎢1        0 \n",
       "⎜⎢                       ⎥  ⎢                                  ⎥  ⎢           \n",
       "⎝⎣   0        0      0  1⎦  ⎣     0        0        0        1 ⎦  ⎣0        0 \n",
       "\n",
       " q₂)   cos(q₁ + q₂)     0   ⎤⎞\n",
       "                            ⎥⎟\n",
       "+ q₂)  sin(q₁ + q₂)     0   ⎥⎟\n",
       "                            ⎥⎟\n",
       "            0        l₂ + l₃⎥⎟\n",
       "                            ⎥⎟\n",
       "            0           1   ⎦⎠"
      ]
     },
     "execution_count": 96,
     "metadata": {},
     "output_type": "execute_result"
    }
   ],
   "source": [
    "T01 = B1\n",
    "T02 = trigsimp(B1*B2)\n",
    "T03 = trigsimp(B1*B2*B3)\n",
    "T01, T02, T03"
   ]
  },
  {
   "cell_type": "code",
   "execution_count": null,
   "metadata": {
    "collapsed": true
   },
   "outputs": [],
   "source": []
  }
 ],
 "metadata": {
  "kernelspec": {
   "display_name": "Python 3",
   "language": "python",
   "name": "python3"
  },
  "language_info": {
   "codemirror_mode": {
    "name": "ipython",
    "version": 3
   },
   "file_extension": ".py",
   "mimetype": "text/x-python",
   "name": "python",
   "nbconvert_exporter": "python",
   "pygments_lexer": "ipython3",
   "version": "3.4.3"
  }
 },
 "nbformat": 4,
 "nbformat_minor": 0
}
