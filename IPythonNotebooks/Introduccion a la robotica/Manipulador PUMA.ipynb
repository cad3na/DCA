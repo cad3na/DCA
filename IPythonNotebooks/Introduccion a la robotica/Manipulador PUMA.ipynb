{
 "cells": [
  {
   "cell_type": "code",
   "execution_count": 1,
   "metadata": {
    "collapsed": false
   },
   "outputs": [
    {
     "data": {
      "text/html": [
       "<link href='http://fonts.googleapis.com/css?family=Inconsolata' rel='stylesheet' type='text/css'>\n",
       "<link href='http://fonts.googleapis.com/css?family=EB+Garamond' rel='stylesheet' type='text/css'>\n",
       "<link href='http://fonts.googleapis.com/css?family=Lato:100,100italic' rel='stylesheet' type='text/css'>\n",
       "\n",
       "<style>\n",
       "\t@font-face{\n",
       "   \t\tfont-family: \"Computer Modern\";\n",
       "        \tsrc: url('http://mirrors.ctan.org/fonts/cm-unicode/fonts/otf/cmunss.otf');}\n",
       "        \n",
       "\th1 {\n",
       "        \tfont-family: 'Lato', sans-serif;}\n",
       "        \n",
       "\th2 {\n",
       "        \tfont-family: 'Lato', serif;}\n",
       "        \n",
       "\th3{\n",
       "\t\tfont-family:   'Lato', serif;\n",
       "        \tmargin-top:    12px;\n",
       "\t\tmargin-bottom: 3px;}\n",
       "        \n",
       "        h4{\n",
       "\t\tfont-family: 'Lato', serif;}\n",
       "\t\n",
       "\th5 {\n",
       "        \tfont-family: 'Lato', serif;}\n",
       "    \n",
       "\tdiv.text_cell_render{\n",
       "        \tfont-family:  'EB Garamond', 'Computer Modern', 'Helvetica Neue', Arial, Helvetica, Geneva, sans-serif;\n",
       "\t        line-height:  140%;\n",
       "\t        font-size:    14pt;}\n",
       "        \n",
       "\t.CodeMirror{\n",
       "        \tfont-family: 'Inconsolata';}\n",
       "    \n",
       "\t.text_cell_render h1 {\n",
       "\t        font-weight:   100;\n",
       "\t        font-size:     50pt;\n",
       "\t\tline-height:   100%;\n",
       "\t        color:         #CD2305;\n",
       "\t        margin-bottom: 0.5em;\n",
       "\t        margin-top:    0.5em;\n",
       "\t        display:       block;}\n",
       "        \n",
       "\t.text_cell_render h2 {\n",
       "        \tfont-weight:   100;\n",
       "        \tfont-size:     30pt;}\n",
       "        \n",
       "\t.text_cell_render h3 {\n",
       "        \tfont-weight:   100;\n",
       "        \tfont-size:     20pt;}\n",
       "        \n",
       "\t.text_cell_render h4 {\n",
       "        \tfont-weight:   100;\n",
       "        \tfont-size:     16pt;}\n",
       "        \n",
       "\t.text_cell_render h5 {\n",
       "\t        font-weight:   100;\n",
       "\t        font-size:     16pt;\n",
       "\t        color:         #CD2305;\n",
       "\t        font-style:    italic;\n",
       "\t        margin-bottom: 0.5em;\n",
       "\t        margin-top:    0.5em;\n",
       "\t        display:       block;}\n",
       "        \n",
       "\t.text_cell_render h6 {\n",
       "\t        font-weight:   100;\n",
       "\t        font-size:     14pt;\n",
       "\t        color:         #CD2305;\n",
       "\t        font-style:    italic;\n",
       "\t        margin-bottom: 0.5em;\n",
       "\t        margin-top:    0.5em;\n",
       "\t        display:       block;}\n",
       "    \n",
       "\t.warning{\n",
       "\t    \tbackground-color: #fcf2f2;\n",
       "\t    \tborder-color: #dFb5b4;\n",
       "\t    \tborder-left: 5px solid #dfb5b4;\n",
       "\t    \tpadding: 0.5em;}\n",
       "</style>\n",
       "\n",
       "<script>\n",
       "\tMathJax.Hub.Config({\n",
       "        \tTeX:{extensions: [\"AMSmath.js\"]},\n",
       "\n",
       "        \tjax: [\"input/TeX\",\"output/SVG\"],\n",
       "        \tSVG: {\n",
       "        \t\tscale: 120,\n",
       "        \t\tfont: 'Gyre-Pagella'}\n",
       "        });\n",
       "</script>"
      ]
     },
     "metadata": {},
     "output_type": "display_data"
    }
   ],
   "source": [
    "from IPython.core.display import display_html\n",
    "from urllib.request import urlopen\n",
    "\n",
    "display_html(urlopen('http://bit.ly/1HflmO9').read(), raw=True)"
   ]
  },
  {
   "cell_type": "markdown",
   "metadata": {},
   "source": [
    "# Ejercicio"
   ]
  },
  {
   "cell_type": "markdown",
   "metadata": {},
   "source": [
    "## Manipulador PUMA"
   ]
  },
  {
   "cell_type": "code",
   "execution_count": 31,
   "metadata": {
    "collapsed": false
   },
   "outputs": [],
   "source": [
    "from sympy import var, sin, cos, Matrix, Integer, eye, Function, Rational, exp, Symbol, I, solve, pi, trigsimp\n",
    "from sympy.physics.mechanics import mechanics_printing\n",
    "mechanics_printing()"
   ]
  },
  {
   "cell_type": "code",
   "execution_count": 5,
   "metadata": {
    "collapsed": false
   },
   "outputs": [
    {
     "data": {
      "image/png": "[encoded data removed]",
      "text/latex": [
       "$$\\left ( q_{0}, \\quad q_{1}, \\quad q_{2}, \\quad q_{3}\\right )$$"
      ],
      "text/plain": [
       "(q₀, q₁, q₂, q₃)"
      ]
     },
     "execution_count": 5,
     "metadata": {},
     "output_type": "execute_result"
    }
   ],
   "source": [
    "var(\"q:4\")"
   ]
  },
  {
   "cell_type": "code",
   "execution_count": 6,
   "metadata": {
    "collapsed": false
   },
   "outputs": [
    {
     "data": {
      "image/png": "[encoded data removed]",
      "text/latex": [
       "$$\\left ( l_{0}, \\quad l_{1}, \\quad l_{2}, \\quad l_{3}\\right )$$"
      ],
      "text/plain": [
       "(l₀, l₁, l₂, l₃)"
      ]
     },
     "execution_count": 6,
     "metadata": {},
     "output_type": "execute_result"
    }
   ],
   "source": [
    "var(\"l:4\")"
   ]
  },
  {
   "cell_type": "code",
   "execution_count": 3,
   "metadata": {
    "collapsed": true
   },
   "outputs": [],
   "source": [
    "def denavit_hartenberg_general(a, d, α, θ, mat, sin, cos):\n",
    "    Ai = mat([[cos(θ), -sin(θ)*cos(α), sin(θ)*sin(α), a*cos(θ)],\n",
    "              [sin(θ), cos(θ)*cos(α), -cos(θ)*sin(α), a*sin(θ)],\n",
    "              [0, sin(α), cos(α), d],\n",
    "              [0, 0, 0, 1]])\n",
    "    return Ai"
   ]
  },
  {
   "cell_type": "code",
   "execution_count": 21,
   "metadata": {
    "collapsed": false
   },
   "outputs": [
    {
     "data": {
      "image/png": "[encoded data removed]",
      "text/latex": [
       "$$\\left[\\begin{matrix}\\operatorname{cos}\\left(q_{1}\\right) & 0 & - \\operatorname{sin}\\left(q_{1}\\right) & 0\\\\\\operatorname{sin}\\left(q_{1}\\right) & 0 & \\operatorname{cos}\\left(q_{1}\\right) & 0\\\\0 & -1 & 0 & l_{1}\\\\0 & 0 & 0 & 1\\end{matrix}\\right]$$"
      ],
      "text/plain": [
       "⎡cos(q₁)  0   -sin(q₁)  0 ⎤\n",
       "⎢                         ⎥\n",
       "⎢sin(q₁)  0   cos(q₁)   0 ⎥\n",
       "⎢                         ⎥\n",
       "⎢   0     -1     0      l₁⎥\n",
       "⎢                         ⎥\n",
       "⎣   0     0      0      1 ⎦"
      ]
     },
     "execution_count": 21,
     "metadata": {},
     "output_type": "execute_result"
    }
   ],
   "source": [
    "A1 = denavit_hartenberg_general(0, l1, -pi/2, q1, Matrix, sin, cos)\n",
    "A1"
   ]
  },
  {
   "cell_type": "code",
   "execution_count": 22,
   "metadata": {
    "collapsed": false
   },
   "outputs": [
    {
     "data": {
      "image/png": "[encoded data removed]",
      "text/latex": [
       "$$\\left[\\begin{matrix}\\operatorname{cos}\\left(q_{2}\\right) & - \\operatorname{sin}\\left(q_{2}\\right) & 0 & l_{2} \\operatorname{cos}\\left(q_{2}\\right)\\\\\\operatorname{sin}\\left(q_{2}\\right) & \\operatorname{cos}\\left(q_{2}\\right) & 0 & l_{2} \\operatorname{sin}\\left(q_{2}\\right)\\\\0 & 0 & 1 & 0\\\\0 & 0 & 0 & 1\\end{matrix}\\right]$$"
      ],
      "text/plain": [
       "⎡cos(q₂)  -sin(q₂)  0  l₂⋅cos(q₂)⎤\n",
       "⎢                                ⎥\n",
       "⎢sin(q₂)  cos(q₂)   0  l₂⋅sin(q₂)⎥\n",
       "⎢                                ⎥\n",
       "⎢   0        0      1      0     ⎥\n",
       "⎢                                ⎥\n",
       "⎣   0        0      0      1     ⎦"
      ]
     },
     "execution_count": 22,
     "metadata": {},
     "output_type": "execute_result"
    }
   ],
   "source": [
    "A2 = denavit_hartenberg_general(l2, 0, 0, q2, Matrix, sin, cos)\n",
    "A2"
   ]
  },
  {
   "cell_type": "code",
   "execution_count": 23,
   "metadata": {
    "collapsed": false
   },
   "outputs": [
    {
     "data": {
      "image/png": "[encoded data removed]",
      "text/latex": [
       "$$\\left[\\begin{matrix}\\operatorname{cos}\\left(q_{3}\\right) & - \\operatorname{sin}\\left(q_{3}\\right) & 0 & l_{3} \\operatorname{cos}\\left(q_{3}\\right)\\\\\\operatorname{sin}\\left(q_{3}\\right) & \\operatorname{cos}\\left(q_{3}\\right) & 0 & l_{3} \\operatorname{sin}\\left(q_{3}\\right)\\\\0 & 0 & 1 & 0\\\\0 & 0 & 0 & 1\\end{matrix}\\right]$$"
      ],
      "text/plain": [
       "⎡cos(q₃)  -sin(q₃)  0  l₃⋅cos(q₃)⎤\n",
       "⎢                                ⎥\n",
       "⎢sin(q₃)  cos(q₃)   0  l₃⋅sin(q₃)⎥\n",
       "⎢                                ⎥\n",
       "⎢   0        0      1      0     ⎥\n",
       "⎢                                ⎥\n",
       "⎣   0        0      0      1     ⎦"
      ]
     },
     "execution_count": 23,
     "metadata": {},
     "output_type": "execute_result"
    }
   ],
   "source": [
    "A3 = denavit_hartenberg_general(l3, 0, 0, q3, Matrix, sin, cos)\n",
    "A3"
   ]
  },
  {
   "cell_type": "code",
   "execution_count": 34,
   "metadata": {
    "collapsed": true
   },
   "outputs": [],
   "source": [
    "T01 = A1\n",
    "T02 = T01*A2\n",
    "T03 = trigsimp(T02*A3)"
   ]
  },
  {
   "cell_type": "code",
   "execution_count": 35,
   "metadata": {
    "collapsed": false
   },
   "outputs": [
    {
     "data": {
      "image/png": "[encoded data removed]",
      "text/latex": [
       "$$\\left[\\begin{matrix}\\operatorname{cos}\\left(q_{1}\\right) \\operatorname{cos}\\left(q_{2}\\right) & - \\operatorname{sin}\\left(q_{2}\\right) \\operatorname{cos}\\left(q_{1}\\right) & - \\operatorname{sin}\\left(q_{1}\\right) & l_{2} \\operatorname{cos}\\left(q_{1}\\right) \\operatorname{cos}\\left(q_{2}\\right)\\\\\\operatorname{sin}\\left(q_{1}\\right) \\operatorname{cos}\\left(q_{2}\\right) & - \\operatorname{sin}\\left(q_{1}\\right) \\operatorname{sin}\\left(q_{2}\\right) & \\operatorname{cos}\\left(q_{1}\\right) & l_{2} \\operatorname{sin}\\left(q_{1}\\right) \\operatorname{cos}\\left(q_{2}\\right)\\\\- \\operatorname{sin}\\left(q_{2}\\right) & - \\operatorname{cos}\\left(q_{2}\\right) & 0 & l_{1} - l_{2} \\operatorname{sin}\\left(q_{2}\\right)\\\\0 & 0 & 0 & 1\\end{matrix}\\right]$$"
      ],
      "text/plain": [
       "⎡cos(q₁)⋅cos(q₂)  -sin(q₂)⋅cos(q₁)  -sin(q₁)  l₂⋅cos(q₁)⋅cos(q₂)⎤\n",
       "⎢                                                               ⎥\n",
       "⎢sin(q₁)⋅cos(q₂)  -sin(q₁)⋅sin(q₂)  cos(q₁)   l₂⋅sin(q₁)⋅cos(q₂)⎥\n",
       "⎢                                                               ⎥\n",
       "⎢   -sin(q₂)          -cos(q₂)         0       l₁ - l₂⋅sin(q₂)  ⎥\n",
       "⎢                                                               ⎥\n",
       "⎣       0                0             0              1         ⎦"
      ]
     },
     "execution_count": 35,
     "metadata": {},
     "output_type": "execute_result"
    }
   ],
   "source": [
    "T02"
   ]
  },
  {
   "cell_type": "code",
   "execution_count": 36,
   "metadata": {
    "collapsed": false
   },
   "outputs": [
    {
     "data": {
      "image/png": "[encoded data removed]",
      "text/latex": [
       "$$\\left[\\begin{matrix}\\operatorname{cos}\\left(q_{1}\\right) \\operatorname{cos}\\left(q_{2} + q_{3}\\right) & - \\operatorname{sin}\\left(q_{2} + q_{3}\\right) \\operatorname{cos}\\left(q_{1}\\right) & - \\operatorname{sin}\\left(q_{1}\\right) & \\left(l_{2} \\operatorname{cos}\\left(q_{2}\\right) + l_{3} \\operatorname{cos}\\left(q_{2} + q_{3}\\right)\\right) \\operatorname{cos}\\left(q_{1}\\right)\\\\\\operatorname{sin}\\left(q_{1}\\right) \\operatorname{cos}\\left(q_{2} + q_{3}\\right) & - \\operatorname{sin}\\left(q_{1}\\right) \\operatorname{sin}\\left(q_{2} + q_{3}\\right) & \\operatorname{cos}\\left(q_{1}\\right) & \\left(l_{2} \\operatorname{cos}\\left(q_{2}\\right) + l_{3} \\operatorname{cos}\\left(q_{2} + q_{3}\\right)\\right) \\operatorname{sin}\\left(q_{1}\\right)\\\\- \\operatorname{sin}\\left(q_{2} + q_{3}\\right) & - \\operatorname{cos}\\left(q_{2} + q_{3}\\right) & 0 & l_{1} - l_{2} \\operatorname{sin}\\left(q_{2}\\right) - l_{3} \\operatorname{sin}\\left(q_{2} + q_{3}\\right)\\\\0 & 0 & 0 & 1\\end{matrix}\\right]$$"
      ],
      "text/plain": [
       "⎡cos(q₁)⋅cos(q₂ + q₃)  -sin(q₂ + q₃)⋅cos(q₁)  -sin(q₁)  (l₂⋅cos(q₂) + l₃⋅cos(q\n",
       "⎢                                                                             \n",
       "⎢sin(q₁)⋅cos(q₂ + q₃)  -sin(q₁)⋅sin(q₂ + q₃)  cos(q₁)   (l₂⋅cos(q₂) + l₃⋅cos(q\n",
       "⎢                                                                             \n",
       "⎢   -sin(q₂ + q₃)          -cos(q₂ + q₃)         0        l₁ - l₂⋅sin(q₂) - l₃\n",
       "⎢                                                                             \n",
       "⎣         0                      0               0                        1   \n",
       "\n",
       "₂ + q₃))⋅cos(q₁)⎤\n",
       "                ⎥\n",
       "₂ + q₃))⋅sin(q₁)⎥\n",
       "                ⎥\n",
       "⋅sin(q₂ + q₃)   ⎥\n",
       "                ⎥\n",
       "                ⎦"
      ]
     },
     "execution_count": 36,
     "metadata": {},
     "output_type": "execute_result"
    }
   ],
   "source": [
    "T03"
   ]
  },
  {
   "cell_type": "code",
   "execution_count": 33,
   "metadata": {
    "collapsed": false
   },
   "outputs": [
    {
     "data": {
      "image/png": "[encoded data removed]",
      "text/latex": [
       "$$\\left[\\begin{matrix}\\operatorname{cos}\\left(q_{1}\\right) \\operatorname{cos}\\left(q_{2}\\right) & - \\operatorname{sin}\\left(q_{2}\\right) \\operatorname{cos}\\left(q_{1}\\right) & - \\operatorname{sin}\\left(q_{1}\\right) & l_{2} \\operatorname{cos}\\left(q_{1}\\right) \\operatorname{cos}\\left(q_{2}\\right)\\\\\\operatorname{sin}\\left(q_{1}\\right) \\operatorname{cos}\\left(q_{2}\\right) & - \\operatorname{sin}\\left(q_{1}\\right) \\operatorname{sin}\\left(q_{2}\\right) & \\operatorname{cos}\\left(q_{1}\\right) & l_{2} \\operatorname{sin}\\left(q_{1}\\right) \\operatorname{cos}\\left(q_{2}\\right)\\\\- \\operatorname{sin}\\left(q_{2}\\right) & - \\operatorname{cos}\\left(q_{2}\\right) & 0 & l_{1} - l_{2} \\operatorname{sin}\\left(q_{2}\\right)\\\\0 & 0 & 0 & 1\\end{matrix}\\right]$$"
      ],
      "text/plain": [
       "⎡cos(q₁)⋅cos(q₂)  -sin(q₂)⋅cos(q₁)  -sin(q₁)  l₂⋅cos(q₁)⋅cos(q₂)⎤\n",
       "⎢                                                               ⎥\n",
       "⎢sin(q₁)⋅cos(q₂)  -sin(q₁)⋅sin(q₂)  cos(q₁)   l₂⋅sin(q₁)⋅cos(q₂)⎥\n",
       "⎢                                                               ⎥\n",
       "⎢   -sin(q₂)          -cos(q₂)         0       l₁ - l₂⋅sin(q₂)  ⎥\n",
       "⎢                                                               ⎥\n",
       "⎣       0                0             0              1         ⎦"
      ]
     },
     "execution_count": 33,
     "metadata": {},
     "output_type": "execute_result"
    }
   ],
   "source": [
    "trigsimp(T02)"
   ]
  },
  {
   "cell_type": "code",
   "execution_count": 52,
   "metadata": {
    "collapsed": false
   },
   "outputs": [],
   "source": [
    "o0 = Matrix([[0], [0], [0]])\n",
    "o1 = T01[:3, 3]\n",
    "o2 = T02[:3, 3]\n",
    "o3 = T03[:3, 3]"
   ]
  },
  {
   "cell_type": "code",
   "execution_count": 49,
   "metadata": {
    "collapsed": false
   },
   "outputs": [
    {
     "data": {
      "image/png": "[encoded data removed]",
      "text/latex": [
       "$$\\left[\\begin{matrix}0\\\\0\\\\l_{1}\\end{matrix}\\right]$$"
      ],
      "text/plain": [
       "⎡0 ⎤\n",
       "⎢  ⎥\n",
       "⎢0 ⎥\n",
       "⎢  ⎥\n",
       "⎣l₁⎦"
      ]
     },
     "execution_count": 49,
     "metadata": {},
     "output_type": "execute_result"
    }
   ],
   "source": [
    "o1"
   ]
  },
  {
   "cell_type": "code",
   "execution_count": 50,
   "metadata": {
    "collapsed": false
   },
   "outputs": [
    {
     "data": {
      "image/png": "[encoded data removed]",
      "text/latex": [
       "$$\\left[\\begin{matrix}l_{2} \\operatorname{cos}\\left(q_{1}\\right) \\operatorname{cos}\\left(q_{2}\\right)\\\\l_{2} \\operatorname{sin}\\left(q_{1}\\right) \\operatorname{cos}\\left(q_{2}\\right)\\\\l_{1} - l_{2} \\operatorname{sin}\\left(q_{2}\\right)\\end{matrix}\\right]$$"
      ],
      "text/plain": [
       "⎡l₂⋅cos(q₁)⋅cos(q₂)⎤\n",
       "⎢                  ⎥\n",
       "⎢l₂⋅sin(q₁)⋅cos(q₂)⎥\n",
       "⎢                  ⎥\n",
       "⎣ l₁ - l₂⋅sin(q₂)  ⎦"
      ]
     },
     "execution_count": 50,
     "metadata": {},
     "output_type": "execute_result"
    }
   ],
   "source": [
    "o2"
   ]
  },
  {
   "cell_type": "code",
   "execution_count": 51,
   "metadata": {
    "collapsed": false
   },
   "outputs": [
    {
     "data": {
      "image/png": "[encoded data removed]",
      "text/latex": [
       "$$\\left[\\begin{matrix}\\left(l_{2} \\operatorname{cos}\\left(q_{2}\\right) + l_{3} \\operatorname{cos}\\left(q_{2} + q_{3}\\right)\\right) \\operatorname{cos}\\left(q_{1}\\right)\\\\\\left(l_{2} \\operatorname{cos}\\left(q_{2}\\right) + l_{3} \\operatorname{cos}\\left(q_{2} + q_{3}\\right)\\right) \\operatorname{sin}\\left(q_{1}\\right)\\\\l_{1} - l_{2} \\operatorname{sin}\\left(q_{2}\\right) - l_{3} \\operatorname{sin}\\left(q_{2} + q_{3}\\right)\\end{matrix}\\right]$$"
      ],
      "text/plain": [
       "⎡(l₂⋅cos(q₂) + l₃⋅cos(q₂ + q₃))⋅cos(q₁)⎤\n",
       "⎢                                      ⎥\n",
       "⎢(l₂⋅cos(q₂) + l₃⋅cos(q₂ + q₃))⋅sin(q₁)⎥\n",
       "⎢                                      ⎥\n",
       "⎣  l₁ - l₂⋅sin(q₂) - l₃⋅sin(q₂ + q₃)   ⎦"
      ]
     },
     "execution_count": 51,
     "metadata": {},
     "output_type": "execute_result"
    }
   ],
   "source": [
    "o3"
   ]
  },
  {
   "cell_type": "code",
   "execution_count": 54,
   "metadata": {
    "collapsed": false
   },
   "outputs": [],
   "source": [
    "z0 = Matrix([[0], [0], [1]])\n",
    "z1 = T01[:3, 2]\n",
    "z2 = T02[:3, 2]"
   ]
  },
  {
   "cell_type": "code",
   "execution_count": 62,
   "metadata": {
    "collapsed": false
   },
   "outputs": [
    {
     "data": {
      "image/png": "[encoded data removed]",
      "text/latex": [
       "$$\\left[\\begin{matrix}- \\left(l_{2} \\operatorname{cos}\\left(q_{2}\\right) + l_{3} \\operatorname{cos}\\left(q_{2} + q_{3}\\right)\\right) \\operatorname{sin}\\left(q_{1}\\right)\\\\\\left(l_{2} \\operatorname{cos}\\left(q_{2}\\right) + l_{3} \\operatorname{cos}\\left(q_{2} + q_{3}\\right)\\right) \\operatorname{cos}\\left(q_{1}\\right)\\\\0\\\\0\\\\0\\\\1\\end{matrix}\\right]$$"
      ],
      "text/plain": [
       "⎡-(l₂⋅cos(q₂) + l₃⋅cos(q₂ + q₃))⋅sin(q₁)⎤\n",
       "⎢                                       ⎥\n",
       "⎢(l₂⋅cos(q₂) + l₃⋅cos(q₂ + q₃))⋅cos(q₁) ⎥\n",
       "⎢                                       ⎥\n",
       "⎢                   0                   ⎥\n",
       "⎢                                       ⎥\n",
       "⎢                   0                   ⎥\n",
       "⎢                                       ⎥\n",
       "⎢                   0                   ⎥\n",
       "⎢                                       ⎥\n",
       "⎣                   1                   ⎦"
      ]
     },
     "execution_count": 62,
     "metadata": {},
     "output_type": "execute_result"
    }
   ],
   "source": [
    "J1 = z0.cross(o3 - o0).col_join(z0)\n",
    "J1"
   ]
  },
  {
   "cell_type": "code",
   "execution_count": 64,
   "metadata": {
    "collapsed": false
   },
   "outputs": [
    {
     "data": {
      "image/png": "[encoded data removed]",
      "text/latex": [
       "$$\\left[\\begin{matrix}- \\left(l_{2} \\operatorname{sin}\\left(q_{2}\\right) + l_{3} \\operatorname{sin}\\left(q_{2} + q_{3}\\right)\\right) \\operatorname{cos}\\left(q_{1}\\right)\\\\- \\left(l_{2} \\operatorname{sin}\\left(q_{2}\\right) + l_{3} \\operatorname{sin}\\left(q_{2} + q_{3}\\right)\\right) \\operatorname{sin}\\left(q_{1}\\right)\\\\- l_{2} \\operatorname{cos}\\left(q_{2}\\right) + l_{3} \\operatorname{cos}\\left(q_{2} + q_{3}\\right)\\\\- \\operatorname{sin}\\left(q_{1}\\right)\\\\\\operatorname{cos}\\left(q_{1}\\right)\\\\0\\end{matrix}\\right]$$"
      ],
      "text/plain": [
       "⎡-(l₂⋅sin(q₂) + l₃⋅sin(q₂ + q₃))⋅cos(q₁)⎤\n",
       "⎢                                       ⎥\n",
       "⎢-(l₂⋅sin(q₂) + l₃⋅sin(q₂ + q₃))⋅sin(q₁)⎥\n",
       "⎢                                       ⎥\n",
       "⎢    -(l₂⋅cos(q₂) + l₃⋅cos(q₂ + q₃))    ⎥\n",
       "⎢                                       ⎥\n",
       "⎢               -sin(q₁)                ⎥\n",
       "⎢                                       ⎥\n",
       "⎢                cos(q₁)                ⎥\n",
       "⎢                                       ⎥\n",
       "⎣                   0                   ⎦"
      ]
     },
     "execution_count": 64,
     "metadata": {},
     "output_type": "execute_result"
    }
   ],
   "source": [
    "J2 = trigsimp(z1.cross(o3 - o1)).col_join(z1)\n",
    "J2"
   ]
  },
  {
   "cell_type": "code",
   "execution_count": 66,
   "metadata": {
    "collapsed": false
   },
   "outputs": [
    {
     "data": {
      "image/png": "[encoded data removed]",
      "text/latex": [
       "$$\\left[\\begin{matrix}- l_{3} \\operatorname{sin}\\left(q_{2} + q_{3}\\right) \\operatorname{cos}\\left(q_{1}\\right)\\\\- l_{3} \\operatorname{sin}\\left(q_{1}\\right) \\operatorname{sin}\\left(q_{2} + q_{3}\\right)\\\\- l_{3} \\operatorname{cos}\\left(q_{2} + q_{3}\\right)\\\\- \\operatorname{sin}\\left(q_{1}\\right)\\\\\\operatorname{cos}\\left(q_{1}\\right)\\\\0\\end{matrix}\\right]$$"
      ],
      "text/plain": [
       "⎡-l₃⋅sin(q₂ + q₃)⋅cos(q₁)⎤\n",
       "⎢                        ⎥\n",
       "⎢-l₃⋅sin(q₁)⋅sin(q₂ + q₃)⎥\n",
       "⎢                        ⎥\n",
       "⎢    -l₃⋅cos(q₂ + q₃)    ⎥\n",
       "⎢                        ⎥\n",
       "⎢        -sin(q₁)        ⎥\n",
       "⎢                        ⎥\n",
       "⎢        cos(q₁)         ⎥\n",
       "⎢                        ⎥\n",
       "⎣           0            ⎦"
      ]
     },
     "execution_count": 66,
     "metadata": {},
     "output_type": "execute_result"
    }
   ],
   "source": [
    "J3 = trigsimp(z2.cross(o3 - o2)).col_join(z2)\n",
    "J3"
   ]
  },
  {
   "cell_type": "code",
   "execution_count": 67,
   "metadata": {
    "collapsed": false
   },
   "outputs": [
    {
     "data": {
      "image/png": "[encoded data removed]",
      "text/latex": [
       "$$\\left[\\begin{matrix}- \\left(l_{2} \\operatorname{cos}\\left(q_{2}\\right) + l_{3} \\operatorname{cos}\\left(q_{2} + q_{3}\\right)\\right) \\operatorname{sin}\\left(q_{1}\\right) & - \\left(l_{2} \\operatorname{sin}\\left(q_{2}\\right) + l_{3} \\operatorname{sin}\\left(q_{2} + q_{3}\\right)\\right) \\operatorname{cos}\\left(q_{1}\\right) & - l_{3} \\operatorname{sin}\\left(q_{2} + q_{3}\\right) \\operatorname{cos}\\left(q_{1}\\right)\\\\\\left(l_{2} \\operatorname{cos}\\left(q_{2}\\right) + l_{3} \\operatorname{cos}\\left(q_{2} + q_{3}\\right)\\right) \\operatorname{cos}\\left(q_{1}\\right) & - \\left(l_{2} \\operatorname{sin}\\left(q_{2}\\right) + l_{3} \\operatorname{sin}\\left(q_{2} + q_{3}\\right)\\right) \\operatorname{sin}\\left(q_{1}\\right) & - l_{3} \\operatorname{sin}\\left(q_{1}\\right) \\operatorname{sin}\\left(q_{2} + q_{3}\\right)\\\\0 & - l_{2} \\operatorname{cos}\\left(q_{2}\\right) + l_{3} \\operatorname{cos}\\left(q_{2} + q_{3}\\right) & - l_{3} \\operatorname{cos}\\left(q_{2} + q_{3}\\right)\\\\0 & - \\operatorname{sin}\\left(q_{1}\\right) & - \\operatorname{sin}\\left(q_{1}\\right)\\\\0 & \\operatorname{cos}\\left(q_{1}\\right) & \\operatorname{cos}\\left(q_{1}\\right)\\\\1 & 0 & 0\\end{matrix}\\right]$$"
      ],
      "text/plain": [
       "⎡-(l₂⋅cos(q₂) + l₃⋅cos(q₂ + q₃))⋅sin(q₁)  -(l₂⋅sin(q₂) + l₃⋅sin(q₂ + q₃))⋅cos(\n",
       "⎢                                                                             \n",
       "⎢(l₂⋅cos(q₂) + l₃⋅cos(q₂ + q₃))⋅cos(q₁)   -(l₂⋅sin(q₂) + l₃⋅sin(q₂ + q₃))⋅sin(\n",
       "⎢                                                                             \n",
       "⎢                   0                         -(l₂⋅cos(q₂) + l₃⋅cos(q₂ + q₃)) \n",
       "⎢                                                                             \n",
       "⎢                   0                                    -sin(q₁)             \n",
       "⎢                                                                             \n",
       "⎢                   0                                     cos(q₁)             \n",
       "⎢                                                                             \n",
       "⎣                   1                                        0                \n",
       "\n",
       "q₁)  -l₃⋅sin(q₂ + q₃)⋅cos(q₁)⎤\n",
       "                             ⎥\n",
       "q₁)  -l₃⋅sin(q₁)⋅sin(q₂ + q₃)⎥\n",
       "                             ⎥\n",
       "         -l₃⋅cos(q₂ + q₃)    ⎥\n",
       "                             ⎥\n",
       "             -sin(q₁)        ⎥\n",
       "                             ⎥\n",
       "             cos(q₁)         ⎥\n",
       "                             ⎥\n",
       "                0            ⎦"
      ]
     },
     "execution_count": 67,
     "metadata": {},
     "output_type": "execute_result"
    }
   ],
   "source": [
    "Jg = (J1.row_join(J2)).row_join(J3)\n",
    "Jg"
   ]
  },
  {
   "cell_type": "code",
   "execution_count": null,
   "metadata": {
    "collapsed": true
   },
   "outputs": [],
   "source": []
  }
 ],
 "metadata": {
  "kernelspec": {
   "display_name": "Python 3",
   "language": "python",
   "name": "python3"
  },
  "language_info": {
   "codemirror_mode": {
    "name": "ipython",
    "version": 3
   },
   "file_extension": ".py",
   "mimetype": "text/x-python",
   "name": "python",
   "nbconvert_exporter": "python",
   "pygments_lexer": "ipython3",
   "version": "3.4.3"
  }
 },
 "nbformat": 4,
 "nbformat_minor": 0
}
