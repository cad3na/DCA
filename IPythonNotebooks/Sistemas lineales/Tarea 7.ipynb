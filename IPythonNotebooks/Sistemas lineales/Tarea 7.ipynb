{
 "cells": [
  {
   "cell_type": "code",
   "execution_count": 1,
   "metadata": {
    "collapsed": true
   },
   "outputs": [],
   "source": [
    "from sympy import var, simplify, collect, expand, solve, sin, cos, Matrix, eye, diff, Function, expand_power_base, exp\n",
    "from sympy.physics.mechanics import mlatex, mechanics_printing\n",
    "mechanics_printing()"
   ]
  },
  {
   "cell_type": "code",
   "execution_count": 12,
   "metadata": {
    "collapsed": false
   },
   "outputs": [
    {
     "data": {
      "image/png": "[encoded data removed]",
      "text/latex": [
       "$$\\left ( s, \\quad t\\right )$$"
      ],
      "text/plain": [
       "(s, t)"
      ]
     },
     "execution_count": 12,
     "metadata": {},
     "output_type": "execute_result"
    }
   ],
   "source": [
    "var(\"s t\")"
   ]
  },
  {
   "cell_type": "code",
   "execution_count": 26,
   "metadata": {
    "collapsed": false
   },
   "outputs": [],
   "source": [
    "A = Matrix([[2, 0, 0], [-1, 5, 1], [1, 1, 5]])"
   ]
  },
  {
   "cell_type": "code",
   "execution_count": 29,
   "metadata": {
    "collapsed": false
   },
   "outputs": [
    {
     "data": {
      "image/png": "[encoded data removed]",
      "text/latex": [
       "$$\\left[\\begin{matrix}e^{2 t} & 0 & 0\\\\- \\frac{e^{4 t}}{2} + \\frac{e^{2 t}}{2} & \\frac{e^{6 t}}{2} + \\frac{e^{4 t}}{2} & \\frac{e^{6 t}}{2} - \\frac{e^{4 t}}{2}\\\\\\frac{e^{4 t}}{2} - \\frac{e^{2 t}}{2} & \\frac{e^{6 t}}{2} - \\frac{e^{4 t}}{2} & \\frac{e^{6 t}}{2} + \\frac{e^{4 t}}{2}\\end{matrix}\\right]$$"
      ],
      "text/plain": [
       "⎡     2⋅t                               ⎤\n",
       "⎢    ℯ               0            0     ⎥\n",
       "⎢                                       ⎥\n",
       "⎢   4⋅t    2⋅t   6⋅t    4⋅t   6⋅t    4⋅t⎥\n",
       "⎢  ℯ      ℯ     ℯ      ℯ     ℯ      ℯ   ⎥\n",
       "⎢- ──── + ────  ──── + ────  ──── - ────⎥\n",
       "⎢   2      2     2      2     2      2  ⎥\n",
       "⎢                                       ⎥\n",
       "⎢  4⋅t    2⋅t    6⋅t    4⋅t   6⋅t    4⋅t⎥\n",
       "⎢ ℯ      ℯ      ℯ      ℯ     ℯ      ℯ   ⎥\n",
       "⎢ ──── - ────   ──── - ────  ──── + ────⎥\n",
       "⎣  2      2      2      2     2      2  ⎦"
      ]
     },
     "execution_count": 29,
     "metadata": {},
     "output_type": "execute_result"
    }
   ],
   "source": [
    "exp(A*t)"
   ]
  },
  {
   "cell_type": "code",
   "execution_count": 33,
   "metadata": {
    "collapsed": true
   },
   "outputs": [],
   "source": [
    "P = Matrix([[-2, 0, 0], [-1, 1, -1], [1, 1, 1]])\n",
    "Ā = P.inv()*A*P"
   ]
  },
  {
   "cell_type": "code",
   "execution_count": 35,
   "metadata": {
    "collapsed": false
   },
   "outputs": [
    {
     "data": {
      "image/png": "[encoded data removed]",
      "text/latex": [
       "$$\\left ( \\left[\\begin{matrix}-2 & 0 & 0\\\\-1 & 1 & -1\\\\1 & 1 & 1\\end{matrix}\\right], \\quad \\left[\\begin{matrix}- \\frac{1}{2} & 0 & 0\\\\0 & \\frac{1}{2} & \\frac{1}{2}\\\\\\frac{1}{2} & - \\frac{1}{2} & \\frac{1}{2}\\end{matrix}\\right], \\quad \\left[\\begin{matrix}2 & 0 & 0\\\\0 & 6 & 0\\\\0 & 0 & 4\\end{matrix}\\right]\\right )$$"
      ],
      "text/plain": [
       "⎛⎡-2  0  0 ⎤, ⎡-1/2   0     0 ⎤, ⎡2  0  0⎤⎞\n",
       "⎜⎢         ⎥  ⎢               ⎥  ⎢       ⎥⎟\n",
       "⎜⎢-1  1  -1⎥  ⎢ 0    1/2   1/2⎥  ⎢0  6  0⎥⎟\n",
       "⎜⎢         ⎥  ⎢               ⎥  ⎢       ⎥⎟\n",
       "⎝⎣1   1  1 ⎦  ⎣1/2   -1/2  1/2⎦  ⎣0  0  4⎦⎠"
      ]
     },
     "execution_count": 35,
     "metadata": {},
     "output_type": "execute_result"
    }
   ],
   "source": [
    "P, P.inv(), Ā"
   ]
  },
  {
   "cell_type": "code",
   "execution_count": 37,
   "metadata": {
    "collapsed": false
   },
   "outputs": [
    {
     "data": {
      "image/png": "[encoded data removed]",
      "text/latex": [
       "$$\\left[\\begin{matrix}e^{2 t} & 0 & 0\\\\- \\frac{e^{4 t}}{2} + \\frac{e^{2 t}}{2} & \\frac{e^{6 t}}{2} + \\frac{e^{4 t}}{2} & \\frac{e^{6 t}}{2} - \\frac{e^{4 t}}{2}\\\\\\frac{e^{4 t}}{2} - \\frac{e^{2 t}}{2} & \\frac{e^{6 t}}{2} - \\frac{e^{4 t}}{2} & \\frac{e^{6 t}}{2} + \\frac{e^{4 t}}{2}\\end{matrix}\\right]$$"
      ],
      "text/plain": [
       "⎡     2⋅t                               ⎤\n",
       "⎢    ℯ               0            0     ⎥\n",
       "⎢                                       ⎥\n",
       "⎢   4⋅t    2⋅t   6⋅t    4⋅t   6⋅t    4⋅t⎥\n",
       "⎢  ℯ      ℯ     ℯ      ℯ     ℯ      ℯ   ⎥\n",
       "⎢- ──── + ────  ──── + ────  ──── - ────⎥\n",
       "⎢   2      2     2      2     2      2  ⎥\n",
       "⎢                                       ⎥\n",
       "⎢  4⋅t    2⋅t    6⋅t    4⋅t   6⋅t    4⋅t⎥\n",
       "⎢ ℯ      ℯ      ℯ      ℯ     ℯ      ℯ   ⎥\n",
       "⎢ ──── - ────   ──── - ────  ──── + ────⎥\n",
       "⎣  2      2      2      2     2      2  ⎦"
      ]
     },
     "execution_count": 37,
     "metadata": {},
     "output_type": "execute_result"
    }
   ],
   "source": [
    "P*exp(Ā*t)*P.inv()"
   ]
  },
  {
   "cell_type": "code",
   "execution_count": 27,
   "metadata": {
    "collapsed": false
   },
   "outputs": [
    {
     "data": {
      "image/png": "[encoded data removed]",
      "text/latex": [
       "$$\\left[\\begin{matrix}e^{2 t} & 0 & 0\\\\0 & e^{6 t} & 0\\\\0 & 0 & e^{4 t}\\end{matrix}\\right]$$"
      ],
      "text/plain": [
       "⎡ 2⋅t            ⎤\n",
       "⎢ℯ      0     0  ⎥\n",
       "⎢                ⎥\n",
       "⎢       6⋅t      ⎥\n",
       "⎢ 0    ℯ      0  ⎥\n",
       "⎢                ⎥\n",
       "⎢             4⋅t⎥\n",
       "⎣ 0     0    ℯ   ⎦"
      ]
     },
     "execution_count": 27,
     "metadata": {},
     "output_type": "execute_result"
    }
   ],
   "source": [
    "exp(Ā*t)"
   ]
  },
  {
   "cell_type": "code",
   "execution_count": 11,
   "metadata": {
    "collapsed": false
   },
   "outputs": [
    {
     "data": {
      "image/png": "[encoded data removed]",
      "text/latex": [
       "$$\\left[\\begin{matrix}\\frac{1}{s - 2} & 0 & 0\\\\- \\frac{1}{s^{2} - 6 s + 8} & \\frac{s - 5}{s^{2} - 10 s + 24} & \\frac{1}{s^{2} - 10 s + 24}\\\\\\frac{1}{s^{2} - 6 s + 8} & \\frac{1}{s^{2} - 10 s + 24} & \\frac{- s + 5}{- \\left(- s + 5\\right)^{2} + 1}\\end{matrix}\\right]$$"
      ],
      "text/plain": [
       "⎡     1                                       ⎤\n",
       "⎢   ─────            0                0       ⎥\n",
       "⎢   s - 2                                     ⎥\n",
       "⎢                                             ⎥\n",
       "⎢    -1            s - 5             1        ⎥\n",
       "⎢────────────  ──────────────  ────────────── ⎥\n",
       "⎢ 2             2               2             ⎥\n",
       "⎢s  - 6⋅s + 8  s  - 10⋅s + 24  s  - 10⋅s + 24 ⎥\n",
       "⎢                                             ⎥\n",
       "⎢     1              1              -s + 5    ⎥\n",
       "⎢────────────  ──────────────  ───────────────⎥\n",
       "⎢ 2             2                        2    ⎥\n",
       "⎣s  - 6⋅s + 8  s  - 10⋅s + 24  - (-s + 5)  + 1⎦"
      ]
     },
     "execution_count": 11,
     "metadata": {},
     "output_type": "execute_result"
    }
   ],
   "source": [
    "simplify(expand((s*eye(3) - A).inv()))"
   ]
  },
  {
   "cell_type": "code",
   "execution_count": 38,
   "metadata": {
    "collapsed": false
   },
   "outputs": [
    {
     "data": {
      "image/png": "[encoded data removed]",
      "text/latex": [
       "$$\\left ( \\left[\\begin{matrix}1 & 0 & 0\\\\0 & 1 & 0\\\\0 & 0 & 1\\end{matrix}\\right], \\quad \\left[\\begin{matrix}2 & 0 & 0\\\\-1 & 5 & 1\\\\1 & 1 & 5\\end{matrix}\\right], \\quad \\left[\\begin{matrix}4 & 0 & 0\\\\-6 & 26 & 10\\\\6 & 10 & 26\\end{matrix}\\right]\\right )$$"
      ],
      "text/plain": [
       "⎛⎡1  0  0⎤, ⎡2   0  0⎤, ⎡4   0   0 ⎤⎞\n",
       "⎜⎢       ⎥  ⎢        ⎥  ⎢          ⎥⎟\n",
       "⎜⎢0  1  0⎥  ⎢-1  5  1⎥  ⎢-6  26  10⎥⎟\n",
       "⎜⎢       ⎥  ⎢        ⎥  ⎢          ⎥⎟\n",
       "⎝⎣0  0  1⎦  ⎣1   1  5⎦  ⎣6   10  26⎦⎠"
      ]
     },
     "execution_count": 38,
     "metadata": {},
     "output_type": "execute_result"
    }
   ],
   "source": [
    "eye(3), A, A**2"
   ]
  },
  {
   "cell_type": "code",
   "execution_count": 41,
   "metadata": {
    "collapsed": false
   },
   "outputs": [
    {
     "data": {
      "image/png": "[encoded data removed]",
      "text/latex": [
       "$$\\left[\\begin{matrix}24 & -24 & 8\\\\-10 & 16 & -6\\\\1 & -2 & 1\\end{matrix}\\right]$$"
      ],
      "text/plain": [
       "⎡24   -24  8 ⎤\n",
       "⎢            ⎥\n",
       "⎢-10  16   -6⎥\n",
       "⎢            ⎥\n",
       "⎣ 1   -2   1 ⎦"
      ]
     },
     "execution_count": 41,
     "metadata": {},
     "output_type": "execute_result"
    }
   ],
   "source": [
    "Matrix([[1, 2, 4], [1, 4, 16], [1, 6, 36]]).inv()*8"
   ]
  },
  {
   "cell_type": "code",
   "execution_count": null,
   "metadata": {
    "collapsed": true
   },
   "outputs": [],
   "source": []
  }
 ],
 "metadata": {
  "kernelspec": {
   "display_name": "Python 3",
   "language": "python",
   "name": "python3"
  },
  "language_info": {
   "codemirror_mode": {
    "name": "ipython",
    "version": 3
   },
   "file_extension": ".py",
   "mimetype": "text/x-python",
   "name": "python",
   "nbconvert_exporter": "python",
   "pygments_lexer": "ipython3",
   "version": "3.4.3"
  }
 },
 "nbformat": 4,
 "nbformat_minor": 0
}
