{
 "metadata": {
  "name": "",
  "signature": "sha256:4a218b7deb131848ebd1f5fbd53a98f2e283f267e217a7ee30f4aa4dbdd006c0"
 },
 "nbformat": 3,
 "nbformat_minor": 0,
 "worksheets": [
  {
   "cells": [
    {
     "cell_type": "code",
     "collapsed": false,
     "input": [
      "# Se importan las librerias para calculo simbolico\n",
      "from IPython.display import display\n",
      "\n",
      "from sympy import var, simplify, collect, expand, solve, sin, cos, Matrix, eye, diff, Function, expand_power_base, exp\n",
      "from sympy.physics.mechanics import mlatex, mechanics_printing\n",
      "mechanics_printing()"
     ],
     "language": "python",
     "metadata": {},
     "outputs": [],
     "prompt_number": 9
    },
    {
     "cell_type": "code",
     "collapsed": false,
     "input": [
      "var(\"s, t, lamda\")"
     ],
     "language": "python",
     "metadata": {},
     "outputs": [
      {
       "latex": [
        "$$\\left ( s, \\quad t, \\quad \\lambda\\right )$$"
       ],
       "metadata": {},
       "output_type": "pyout",
       "png": "[encoded data removed]",
       "prompt_number": 20,
       "text": [
        "(s, t, \u03bb)"
       ]
      }
     ],
     "prompt_number": 20
    },
    {
     "cell_type": "code",
     "collapsed": false,
     "input": [
      "A = Matrix([[-2, 3, 0], [0, 1, 0], [0, 1, -1]])"
     ],
     "language": "python",
     "metadata": {},
     "outputs": [],
     "prompt_number": 5
    },
    {
     "cell_type": "code",
     "collapsed": false,
     "input": [
      "(s*eye(3) - A).inv()"
     ],
     "language": "python",
     "metadata": {},
     "outputs": [
      {
       "latex": [
        "$$\\left[\\begin{matrix}\\frac{1}{s + 2} & \\frac{3}{\\left(s - 1\\right) \\left(s + 2\\right)} & 0\\\\0 & \\frac{1}{s - 1} & 0\\\\0 & \\frac{1}{\\left(s - 1\\right) \\left(s + 1\\right)} & \\frac{1}{s + 1}\\end{matrix}\\right]$$"
       ],
       "metadata": {},
       "output_type": "pyout",
       "png": "[encoded data removed]",
       "prompt_number": 7,
       "text": [
        "\u23a1  1           3              \u23a4\n",
        "\u23a2\u2500\u2500\u2500\u2500\u2500  \u2500\u2500\u2500\u2500\u2500\u2500\u2500\u2500\u2500\u2500\u2500\u2500\u2500\u2500\u2500    0  \u23a5\n",
        "\u23a2s + 2  (s - 1)\u22c5(s + 2)       \u23a5\n",
        "\u23a2                             \u23a5\n",
        "\u23a2              1              \u23a5\n",
        "\u23a2  0         \u2500\u2500\u2500\u2500\u2500         0  \u23a5\n",
        "\u23a2            s - 1            \u23a5\n",
        "\u23a2                             \u23a5\n",
        "\u23a2              1           1  \u23a5\n",
        "\u23a2  0    \u2500\u2500\u2500\u2500\u2500\u2500\u2500\u2500\u2500\u2500\u2500\u2500\u2500\u2500\u2500  \u2500\u2500\u2500\u2500\u2500\u23a5\n",
        "\u23a3       (s - 1)\u22c5(s + 1)  s + 1\u23a6"
       ]
      }
     ],
     "prompt_number": 7
    },
    {
     "cell_type": "code",
     "collapsed": false,
     "input": [
      "exp(A*t)"
     ],
     "language": "python",
     "metadata": {},
     "outputs": [
      {
       "latex": [
        "$$\\left[\\begin{matrix}e^{- 2 t} & e^{t} - e^{- 2 t} & 0\\\\0 & e^{t} & 0\\\\0 & \\frac{e^{t}}{2} - \\frac{e^{- t}}{2} & e^{- t}\\end{matrix}\\right]$$"
       ],
       "metadata": {},
       "output_type": "pyout",
       "png": "[encoded data removed]",
       "prompt_number": 11,
       "text": [
        "\u23a1 -2\u22c5t   t    -2\u22c5t     \u23a4\n",
        "\u23a2\u212f      \u212f  - \u212f       0 \u23a5\n",
        "\u23a2                      \u23a5\n",
        "\u23a2            t         \u23a5\n",
        "\u23a2  0        \u212f        0 \u23a5\n",
        "\u23a2                      \u23a5\n",
        "\u23a2         t    -t      \u23a5\n",
        "\u23a2        \u212f    \u212f      -t\u23a5\n",
        "\u23a2  0     \u2500\u2500 - \u2500\u2500\u2500   \u212f  \u23a5\n",
        "\u23a3        2     2       \u23a6"
       ]
      }
     ],
     "prompt_number": 11
    },
    {
     "cell_type": "code",
     "collapsed": false,
     "input": [
      "exp(A*t).subs(t, 0)"
     ],
     "language": "python",
     "metadata": {},
     "outputs": [
      {
       "latex": [
        "$$\\left[\\begin{matrix}1 & 0 & 0\\\\0 & 1 & 0\\\\0 & 0 & 1\\end{matrix}\\right]$$"
       ],
       "metadata": {},
       "output_type": "pyout",
       "png": "[encoded data removed]",
       "prompt_number": 12,
       "text": [
        "\u23a11  0  0\u23a4\n",
        "\u23a2       \u23a5\n",
        "\u23a20  1  0\u23a5\n",
        "\u23a2       \u23a5\n",
        "\u23a30  0  1\u23a6"
       ]
      }
     ],
     "prompt_number": 12
    },
    {
     "cell_type": "code",
     "collapsed": false,
     "input": [
      "exp(A*t).diff(t) == A*exp(A*t)"
     ],
     "language": "python",
     "metadata": {},
     "outputs": [
      {
       "metadata": {},
       "output_type": "pyout",
       "prompt_number": 15,
       "text": [
        "True"
       ]
      }
     ],
     "prompt_number": 15
    },
    {
     "cell_type": "code",
     "collapsed": false,
     "input": [
      "(Matrix([[1, -1, 1], [1, 1, 1], [1, -2, 4]]).inv()*Matrix([[exp(-t)], [exp(t)], [exp(-2*t)]])).T"
     ],
     "language": "python",
     "metadata": {},
     "outputs": [
      {
       "latex": [
        "$$\\left[\\begin{matrix}\\frac{e^{t}}{3} + e^{- t} - \\frac{1}{3} e^{- 2 t} & \\frac{e^{t}}{2} - \\frac{e^{- t}}{2} & \\frac{e^{t}}{6} - \\frac{e^{- t}}{2} + \\frac{1}{3} e^{- 2 t}\\end{matrix}\\right]$$"
       ],
       "metadata": {},
       "output_type": "pyout",
       "png": "[encoded data removed]",
       "prompt_number": 28,
       "text": [
        "\u23a1 t          -2\u22c5t   t    -t   t    -t    -2\u22c5t\u23a4\n",
        "\u23a2\u212f     -t   \u212f      \u212f    \u212f    \u212f    \u212f     \u212f    \u23a5\n",
        "\u23a2\u2500\u2500 + \u212f   - \u2500\u2500\u2500\u2500\u2500  \u2500\u2500 - \u2500\u2500\u2500  \u2500\u2500 - \u2500\u2500\u2500 + \u2500\u2500\u2500\u2500\u2500\u23a5\n",
        "\u23a33            3    2     2   6     2      3  \u23a6"
       ]
      }
     ],
     "prompt_number": 28
    },
    {
     "cell_type": "code",
     "collapsed": false,
     "input": [
      "(Matrix([[1, -1, 1], [1, 1, 1], [1, -2, 4]]).inv()*Matrix([[exp(-t)], [exp(t)], [exp(-2*t)]]))"
     ],
     "language": "python",
     "metadata": {},
     "outputs": [
      {
       "latex": [
        "$$\\left[\\begin{matrix}\\frac{e^{t}}{3} + e^{- t} - \\frac{1}{3} e^{- 2 t}\\\\\\frac{e^{t}}{2} - \\frac{e^{- t}}{2}\\\\\\frac{e^{t}}{6} - \\frac{e^{- t}}{2} + \\frac{1}{3} e^{- 2 t}\\end{matrix}\\right]$$"
       ],
       "metadata": {},
       "output_type": "pyout",
       "png": "[encoded data removed]",
       "prompt_number": 40,
       "text": [
        "\u23a1 t          -2\u22c5t\u23a4\n",
        "\u23a2\u212f     -t   \u212f    \u23a5\n",
        "\u23a2\u2500\u2500 + \u212f   - \u2500\u2500\u2500\u2500\u2500\u23a5\n",
        "\u23a23            3  \u23a5\n",
        "\u23a2                \u23a5\n",
        "\u23a2     t    -t    \u23a5\n",
        "\u23a2    \u212f    \u212f      \u23a5\n",
        "\u23a2    \u2500\u2500 - \u2500\u2500\u2500    \u23a5\n",
        "\u23a2    2     2     \u23a5\n",
        "\u23a2                \u23a5\n",
        "\u23a2 t    -t    -2\u22c5t\u23a5\n",
        "\u23a2\u212f    \u212f     \u212f    \u23a5\n",
        "\u23a2\u2500\u2500 - \u2500\u2500\u2500 + \u2500\u2500\u2500\u2500\u2500\u23a5\n",
        "\u23a36     2      3  \u23a6"
       ]
      }
     ],
     "prompt_number": 40
    }
   ],
   "metadata": {}
  }
 ]
}